{
 "cells": [
  {
   "cell_type": "markdown",
   "metadata": {},
   "source": [
    "# Paso 1: Importar las librerías y cargar el los datos del archivo"
   ]
  },
  {
   "cell_type": "code",
   "execution_count": 1,
   "metadata": {
    "trusted": false
   },
   "outputs": [],
   "source": [
    "# Importando todas las librerías que se van a utilizar\n",
    "import pandas as pd\n",
    "import numpy as np\n",
    "from sklearn.model_selection import train_test_split \n",
    "from sklearn.metrics import accuracy_score, recall_score, precision_score, f1_score, roc_curve\n",
    "from sklearn.metrics import roc_auc_score, mean_squared_error, mean_absolute_error, confusion_matrix\n",
    "from sklearn.tree import DecisionTreeClassifier\n",
    "from sklearn.ensemble import RandomForestClassifier\n",
    "from sklearn.linear_model import LogisticRegression\n",
    "from sklearn.preprocessing import OrdinalEncoder, StandardScaler\n",
    "from sklearn.utils import shuffle, resample"
   ]
  },
  {
   "cell_type": "code",
   "execution_count": 2,
   "metadata": {
    "trusted": false
   },
   "outputs": [
    {
     "data": {
      "text/html": [
       "<div>\n",
       "<style scoped>\n",
       "    .dataframe tbody tr th:only-of-type {\n",
       "        vertical-align: middle;\n",
       "    }\n",
       "\n",
       "    .dataframe tbody tr th {\n",
       "        vertical-align: top;\n",
       "    }\n",
       "\n",
       "    .dataframe thead th {\n",
       "        text-align: right;\n",
       "    }\n",
       "</style>\n",
       "<table border=\"1\" class=\"dataframe\">\n",
       "  <thead>\n",
       "    <tr style=\"text-align: right;\">\n",
       "      <th></th>\n",
       "      <th>RowNumber</th>\n",
       "      <th>CustomerId</th>\n",
       "      <th>Surname</th>\n",
       "      <th>CreditScore</th>\n",
       "      <th>Geography</th>\n",
       "      <th>Gender</th>\n",
       "      <th>Age</th>\n",
       "      <th>Tenure</th>\n",
       "      <th>Balance</th>\n",
       "      <th>NumOfProducts</th>\n",
       "      <th>HasCrCard</th>\n",
       "      <th>IsActiveMember</th>\n",
       "      <th>EstimatedSalary</th>\n",
       "      <th>Exited</th>\n",
       "    </tr>\n",
       "  </thead>\n",
       "  <tbody>\n",
       "    <tr>\n",
       "      <th>9990</th>\n",
       "      <td>9991</td>\n",
       "      <td>15798964</td>\n",
       "      <td>Nkemakonam</td>\n",
       "      <td>714</td>\n",
       "      <td>Germany</td>\n",
       "      <td>Male</td>\n",
       "      <td>33</td>\n",
       "      <td>3.0</td>\n",
       "      <td>35016.60</td>\n",
       "      <td>1</td>\n",
       "      <td>1</td>\n",
       "      <td>0</td>\n",
       "      <td>53667.08</td>\n",
       "      <td>0</td>\n",
       "    </tr>\n",
       "    <tr>\n",
       "      <th>9991</th>\n",
       "      <td>9992</td>\n",
       "      <td>15769959</td>\n",
       "      <td>Ajuluchukwu</td>\n",
       "      <td>597</td>\n",
       "      <td>France</td>\n",
       "      <td>Female</td>\n",
       "      <td>53</td>\n",
       "      <td>4.0</td>\n",
       "      <td>88381.21</td>\n",
       "      <td>1</td>\n",
       "      <td>1</td>\n",
       "      <td>0</td>\n",
       "      <td>69384.71</td>\n",
       "      <td>1</td>\n",
       "    </tr>\n",
       "    <tr>\n",
       "      <th>9992</th>\n",
       "      <td>9993</td>\n",
       "      <td>15657105</td>\n",
       "      <td>Chukwualuka</td>\n",
       "      <td>726</td>\n",
       "      <td>Spain</td>\n",
       "      <td>Male</td>\n",
       "      <td>36</td>\n",
       "      <td>2.0</td>\n",
       "      <td>0.00</td>\n",
       "      <td>1</td>\n",
       "      <td>1</td>\n",
       "      <td>0</td>\n",
       "      <td>195192.40</td>\n",
       "      <td>0</td>\n",
       "    </tr>\n",
       "    <tr>\n",
       "      <th>9993</th>\n",
       "      <td>9994</td>\n",
       "      <td>15569266</td>\n",
       "      <td>Rahman</td>\n",
       "      <td>644</td>\n",
       "      <td>France</td>\n",
       "      <td>Male</td>\n",
       "      <td>28</td>\n",
       "      <td>7.0</td>\n",
       "      <td>155060.41</td>\n",
       "      <td>1</td>\n",
       "      <td>1</td>\n",
       "      <td>0</td>\n",
       "      <td>29179.52</td>\n",
       "      <td>0</td>\n",
       "    </tr>\n",
       "    <tr>\n",
       "      <th>9994</th>\n",
       "      <td>9995</td>\n",
       "      <td>15719294</td>\n",
       "      <td>Wood</td>\n",
       "      <td>800</td>\n",
       "      <td>France</td>\n",
       "      <td>Female</td>\n",
       "      <td>29</td>\n",
       "      <td>2.0</td>\n",
       "      <td>0.00</td>\n",
       "      <td>2</td>\n",
       "      <td>0</td>\n",
       "      <td>0</td>\n",
       "      <td>167773.55</td>\n",
       "      <td>0</td>\n",
       "    </tr>\n",
       "    <tr>\n",
       "      <th>9995</th>\n",
       "      <td>9996</td>\n",
       "      <td>15606229</td>\n",
       "      <td>Obijiaku</td>\n",
       "      <td>771</td>\n",
       "      <td>France</td>\n",
       "      <td>Male</td>\n",
       "      <td>39</td>\n",
       "      <td>5.0</td>\n",
       "      <td>0.00</td>\n",
       "      <td>2</td>\n",
       "      <td>1</td>\n",
       "      <td>0</td>\n",
       "      <td>96270.64</td>\n",
       "      <td>0</td>\n",
       "    </tr>\n",
       "    <tr>\n",
       "      <th>9996</th>\n",
       "      <td>9997</td>\n",
       "      <td>15569892</td>\n",
       "      <td>Johnstone</td>\n",
       "      <td>516</td>\n",
       "      <td>France</td>\n",
       "      <td>Male</td>\n",
       "      <td>35</td>\n",
       "      <td>10.0</td>\n",
       "      <td>57369.61</td>\n",
       "      <td>1</td>\n",
       "      <td>1</td>\n",
       "      <td>1</td>\n",
       "      <td>101699.77</td>\n",
       "      <td>0</td>\n",
       "    </tr>\n",
       "    <tr>\n",
       "      <th>9997</th>\n",
       "      <td>9998</td>\n",
       "      <td>15584532</td>\n",
       "      <td>Liu</td>\n",
       "      <td>709</td>\n",
       "      <td>France</td>\n",
       "      <td>Female</td>\n",
       "      <td>36</td>\n",
       "      <td>7.0</td>\n",
       "      <td>0.00</td>\n",
       "      <td>1</td>\n",
       "      <td>0</td>\n",
       "      <td>1</td>\n",
       "      <td>42085.58</td>\n",
       "      <td>1</td>\n",
       "    </tr>\n",
       "    <tr>\n",
       "      <th>9998</th>\n",
       "      <td>9999</td>\n",
       "      <td>15682355</td>\n",
       "      <td>Sabbatini</td>\n",
       "      <td>772</td>\n",
       "      <td>Germany</td>\n",
       "      <td>Male</td>\n",
       "      <td>42</td>\n",
       "      <td>3.0</td>\n",
       "      <td>75075.31</td>\n",
       "      <td>2</td>\n",
       "      <td>1</td>\n",
       "      <td>0</td>\n",
       "      <td>92888.52</td>\n",
       "      <td>1</td>\n",
       "    </tr>\n",
       "    <tr>\n",
       "      <th>9999</th>\n",
       "      <td>10000</td>\n",
       "      <td>15628319</td>\n",
       "      <td>Walker</td>\n",
       "      <td>792</td>\n",
       "      <td>France</td>\n",
       "      <td>Female</td>\n",
       "      <td>28</td>\n",
       "      <td>NaN</td>\n",
       "      <td>130142.79</td>\n",
       "      <td>1</td>\n",
       "      <td>1</td>\n",
       "      <td>0</td>\n",
       "      <td>38190.78</td>\n",
       "      <td>0</td>\n",
       "    </tr>\n",
       "  </tbody>\n",
       "</table>\n",
       "</div>"
      ],
      "text/plain": [
       "      RowNumber  CustomerId      Surname  CreditScore Geography  Gender  Age  \\\n",
       "9990       9991    15798964   Nkemakonam          714   Germany    Male   33   \n",
       "9991       9992    15769959  Ajuluchukwu          597    France  Female   53   \n",
       "9992       9993    15657105  Chukwualuka          726     Spain    Male   36   \n",
       "9993       9994    15569266       Rahman          644    France    Male   28   \n",
       "9994       9995    15719294         Wood          800    France  Female   29   \n",
       "9995       9996    15606229     Obijiaku          771    France    Male   39   \n",
       "9996       9997    15569892    Johnstone          516    France    Male   35   \n",
       "9997       9998    15584532          Liu          709    France  Female   36   \n",
       "9998       9999    15682355    Sabbatini          772   Germany    Male   42   \n",
       "9999      10000    15628319       Walker          792    France  Female   28   \n",
       "\n",
       "      Tenure    Balance  NumOfProducts  HasCrCard  IsActiveMember  \\\n",
       "9990     3.0   35016.60              1          1               0   \n",
       "9991     4.0   88381.21              1          1               0   \n",
       "9992     2.0       0.00              1          1               0   \n",
       "9993     7.0  155060.41              1          1               0   \n",
       "9994     2.0       0.00              2          0               0   \n",
       "9995     5.0       0.00              2          1               0   \n",
       "9996    10.0   57369.61              1          1               1   \n",
       "9997     7.0       0.00              1          0               1   \n",
       "9998     3.0   75075.31              2          1               0   \n",
       "9999     NaN  130142.79              1          1               0   \n",
       "\n",
       "      EstimatedSalary  Exited  \n",
       "9990         53667.08       0  \n",
       "9991         69384.71       1  \n",
       "9992        195192.40       0  \n",
       "9993         29179.52       0  \n",
       "9994        167773.55       0  \n",
       "9995         96270.64       0  \n",
       "9996        101699.77       0  \n",
       "9997         42085.58       1  \n",
       "9998         92888.52       1  \n",
       "9999         38190.78       0  "
      ]
     },
     "execution_count": 2,
     "metadata": {},
     "output_type": "execute_result"
    }
   ],
   "source": [
    "# Cargar los datos\n",
    "df = pd.read_csv(\"/datasets/Churn.csv\")\n",
    "df.tail(10)"
   ]
  },
  {
   "cell_type": "code",
   "execution_count": 3,
   "metadata": {
    "trusted": false
   },
   "outputs": [
    {
     "data": {
      "text/html": [
       "<div>\n",
       "<style scoped>\n",
       "    .dataframe tbody tr th:only-of-type {\n",
       "        vertical-align: middle;\n",
       "    }\n",
       "\n",
       "    .dataframe tbody tr th {\n",
       "        vertical-align: top;\n",
       "    }\n",
       "\n",
       "    .dataframe thead th {\n",
       "        text-align: right;\n",
       "    }\n",
       "</style>\n",
       "<table border=\"1\" class=\"dataframe\">\n",
       "  <thead>\n",
       "    <tr style=\"text-align: right;\">\n",
       "      <th></th>\n",
       "      <th>RowNumber</th>\n",
       "      <th>CustomerId</th>\n",
       "      <th>CreditScore</th>\n",
       "      <th>Age</th>\n",
       "      <th>Tenure</th>\n",
       "      <th>Balance</th>\n",
       "      <th>NumOfProducts</th>\n",
       "      <th>HasCrCard</th>\n",
       "      <th>IsActiveMember</th>\n",
       "      <th>EstimatedSalary</th>\n",
       "      <th>Exited</th>\n",
       "    </tr>\n",
       "  </thead>\n",
       "  <tbody>\n",
       "    <tr>\n",
       "      <th>count</th>\n",
       "      <td>10000.00000</td>\n",
       "      <td>1.000000e+04</td>\n",
       "      <td>10000.000000</td>\n",
       "      <td>10000.000000</td>\n",
       "      <td>9091.000000</td>\n",
       "      <td>10000.000000</td>\n",
       "      <td>10000.000000</td>\n",
       "      <td>10000.00000</td>\n",
       "      <td>10000.000000</td>\n",
       "      <td>10000.000000</td>\n",
       "      <td>10000.000000</td>\n",
       "    </tr>\n",
       "    <tr>\n",
       "      <th>mean</th>\n",
       "      <td>5000.50000</td>\n",
       "      <td>1.569094e+07</td>\n",
       "      <td>650.528800</td>\n",
       "      <td>38.921800</td>\n",
       "      <td>4.997690</td>\n",
       "      <td>76485.889288</td>\n",
       "      <td>1.530200</td>\n",
       "      <td>0.70550</td>\n",
       "      <td>0.515100</td>\n",
       "      <td>100090.239881</td>\n",
       "      <td>0.203700</td>\n",
       "    </tr>\n",
       "    <tr>\n",
       "      <th>std</th>\n",
       "      <td>2886.89568</td>\n",
       "      <td>7.193619e+04</td>\n",
       "      <td>96.653299</td>\n",
       "      <td>10.487806</td>\n",
       "      <td>2.894723</td>\n",
       "      <td>62397.405202</td>\n",
       "      <td>0.581654</td>\n",
       "      <td>0.45584</td>\n",
       "      <td>0.499797</td>\n",
       "      <td>57510.492818</td>\n",
       "      <td>0.402769</td>\n",
       "    </tr>\n",
       "    <tr>\n",
       "      <th>min</th>\n",
       "      <td>1.00000</td>\n",
       "      <td>1.556570e+07</td>\n",
       "      <td>350.000000</td>\n",
       "      <td>18.000000</td>\n",
       "      <td>0.000000</td>\n",
       "      <td>0.000000</td>\n",
       "      <td>1.000000</td>\n",
       "      <td>0.00000</td>\n",
       "      <td>0.000000</td>\n",
       "      <td>11.580000</td>\n",
       "      <td>0.000000</td>\n",
       "    </tr>\n",
       "    <tr>\n",
       "      <th>25%</th>\n",
       "      <td>2500.75000</td>\n",
       "      <td>1.562853e+07</td>\n",
       "      <td>584.000000</td>\n",
       "      <td>32.000000</td>\n",
       "      <td>2.000000</td>\n",
       "      <td>0.000000</td>\n",
       "      <td>1.000000</td>\n",
       "      <td>0.00000</td>\n",
       "      <td>0.000000</td>\n",
       "      <td>51002.110000</td>\n",
       "      <td>0.000000</td>\n",
       "    </tr>\n",
       "    <tr>\n",
       "      <th>50%</th>\n",
       "      <td>5000.50000</td>\n",
       "      <td>1.569074e+07</td>\n",
       "      <td>652.000000</td>\n",
       "      <td>37.000000</td>\n",
       "      <td>5.000000</td>\n",
       "      <td>97198.540000</td>\n",
       "      <td>1.000000</td>\n",
       "      <td>1.00000</td>\n",
       "      <td>1.000000</td>\n",
       "      <td>100193.915000</td>\n",
       "      <td>0.000000</td>\n",
       "    </tr>\n",
       "    <tr>\n",
       "      <th>75%</th>\n",
       "      <td>7500.25000</td>\n",
       "      <td>1.575323e+07</td>\n",
       "      <td>718.000000</td>\n",
       "      <td>44.000000</td>\n",
       "      <td>7.000000</td>\n",
       "      <td>127644.240000</td>\n",
       "      <td>2.000000</td>\n",
       "      <td>1.00000</td>\n",
       "      <td>1.000000</td>\n",
       "      <td>149388.247500</td>\n",
       "      <td>0.000000</td>\n",
       "    </tr>\n",
       "    <tr>\n",
       "      <th>max</th>\n",
       "      <td>10000.00000</td>\n",
       "      <td>1.581569e+07</td>\n",
       "      <td>850.000000</td>\n",
       "      <td>92.000000</td>\n",
       "      <td>10.000000</td>\n",
       "      <td>250898.090000</td>\n",
       "      <td>4.000000</td>\n",
       "      <td>1.00000</td>\n",
       "      <td>1.000000</td>\n",
       "      <td>199992.480000</td>\n",
       "      <td>1.000000</td>\n",
       "    </tr>\n",
       "  </tbody>\n",
       "</table>\n",
       "</div>"
      ],
      "text/plain": [
       "         RowNumber    CustomerId   CreditScore           Age       Tenure  \\\n",
       "count  10000.00000  1.000000e+04  10000.000000  10000.000000  9091.000000   \n",
       "mean    5000.50000  1.569094e+07    650.528800     38.921800     4.997690   \n",
       "std     2886.89568  7.193619e+04     96.653299     10.487806     2.894723   \n",
       "min        1.00000  1.556570e+07    350.000000     18.000000     0.000000   \n",
       "25%     2500.75000  1.562853e+07    584.000000     32.000000     2.000000   \n",
       "50%     5000.50000  1.569074e+07    652.000000     37.000000     5.000000   \n",
       "75%     7500.25000  1.575323e+07    718.000000     44.000000     7.000000   \n",
       "max    10000.00000  1.581569e+07    850.000000     92.000000    10.000000   \n",
       "\n",
       "             Balance  NumOfProducts    HasCrCard  IsActiveMember  \\\n",
       "count   10000.000000   10000.000000  10000.00000    10000.000000   \n",
       "mean    76485.889288       1.530200      0.70550        0.515100   \n",
       "std     62397.405202       0.581654      0.45584        0.499797   \n",
       "min         0.000000       1.000000      0.00000        0.000000   \n",
       "25%         0.000000       1.000000      0.00000        0.000000   \n",
       "50%     97198.540000       1.000000      1.00000        1.000000   \n",
       "75%    127644.240000       2.000000      1.00000        1.000000   \n",
       "max    250898.090000       4.000000      1.00000        1.000000   \n",
       "\n",
       "       EstimatedSalary        Exited  \n",
       "count     10000.000000  10000.000000  \n",
       "mean     100090.239881      0.203700  \n",
       "std       57510.492818      0.402769  \n",
       "min          11.580000      0.000000  \n",
       "25%       51002.110000      0.000000  \n",
       "50%      100193.915000      0.000000  \n",
       "75%      149388.247500      0.000000  \n",
       "max      199992.480000      1.000000  "
      ]
     },
     "execution_count": 3,
     "metadata": {},
     "output_type": "execute_result"
    }
   ],
   "source": [
    "df.describe()"
   ]
  },
  {
   "cell_type": "code",
   "execution_count": 4,
   "metadata": {
    "trusted": false
   },
   "outputs": [
    {
     "name": "stdout",
     "output_type": "stream",
     "text": [
      "<class 'pandas.core.frame.DataFrame'>\n",
      "RangeIndex: 10000 entries, 0 to 9999\n",
      "Data columns (total 14 columns):\n",
      " #   Column           Non-Null Count  Dtype  \n",
      "---  ------           --------------  -----  \n",
      " 0   RowNumber        10000 non-null  int64  \n",
      " 1   CustomerId       10000 non-null  int64  \n",
      " 2   Surname          10000 non-null  object \n",
      " 3   CreditScore      10000 non-null  int64  \n",
      " 4   Geography        10000 non-null  object \n",
      " 5   Gender           10000 non-null  object \n",
      " 6   Age              10000 non-null  int64  \n",
      " 7   Tenure           9091 non-null   float64\n",
      " 8   Balance          10000 non-null  float64\n",
      " 9   NumOfProducts    10000 non-null  int64  \n",
      " 10  HasCrCard        10000 non-null  int64  \n",
      " 11  IsActiveMember   10000 non-null  int64  \n",
      " 12  EstimatedSalary  10000 non-null  float64\n",
      " 13  Exited           10000 non-null  int64  \n",
      "dtypes: float64(3), int64(8), object(3)\n",
      "memory usage: 1.1+ MB\n"
     ]
    }
   ],
   "source": [
    "df.info()"
   ]
  },
  {
   "cell_type": "code",
   "execution_count": null,
   "metadata": {
    "trusted": false
   },
   "outputs": [
    {
     "data": {
      "text/plain": [
       "Index(['rownumber', 'customerid', 'surname', 'creditscore', 'geography',\n",
       "       'gender', 'age', 'tenure', 'balance', 'numofproducts', 'hascrcard',\n",
       "       'isactivemember', 'estimatedsalary', 'exited'],\n",
       "      dtype='object')"
      ]
     },
     "execution_count": 5,
     "metadata": {},
     "output_type": "execute_result"
    }
   ],
   "source": [
    "# Aplicar a las columnas el formato snake_case\n",
    "df.columns = df.columns.str.lower().str.replace(' ', '_')\n",
    "df.columns"
   ]
  },
  {
   "cell_type": "code",
   "execution_count": null,
   "metadata": {
    "trusted": false
   },
   "outputs": [
    {
     "data": {
      "text/plain": [
       "Index(['row_number', 'customer_id', 'surname', 'credit_score', 'geography',\n",
       "       'gender', 'age', 'tenure', 'balance', 'num_of_products',\n",
       "       'has_credit_card', 'is_active_member', 'estimated_salary', 'exited'],\n",
       "      dtype='object')"
      ]
     },
     "execution_count": 6,
     "metadata": {},
     "output_type": "execute_result"
    }
   ],
   "source": [
    "# Formato snake_case\n",
    "df.rename(columns={\n",
    "    'numofproducts': 'num_of_products',\n",
    "    'hascrcard': 'has_credit_card',\n",
    "    'isactivemember': 'is_active_member',\n",
    "    'estimatedsalary': 'estimated_salary',\n",
    "    'rownumber': 'row_number',\n",
    "    'customerid': 'customer_id',\n",
    "    'creditscore': 'credit_score'\n",
    "}, inplace=True)\n",
    "df.columns"
   ]
  },
  {
   "cell_type": "code",
   "execution_count": 7,
   "metadata": {
    "trusted": false
   },
   "outputs": [],
   "source": [
    "df.fillna(0,inplace=True)"
   ]
  },
  {
   "cell_type": "markdown",
   "metadata": {},
   "source": [
    "Se sustituyeron los valores nulos (nan) con 0, se asumió que en esas 909 filas no hay un plazo fijo de depósito, pues seguramente también existe la opción de no utilizar plazo fijo. "
   ]
  },
  {
   "cell_type": "code",
   "execution_count": 8,
   "metadata": {
    "trusted": false
   },
   "outputs": [
    {
     "data": {
      "text/html": [
       "<div>\n",
       "<style scoped>\n",
       "    .dataframe tbody tr th:only-of-type {\n",
       "        vertical-align: middle;\n",
       "    }\n",
       "\n",
       "    .dataframe tbody tr th {\n",
       "        vertical-align: top;\n",
       "    }\n",
       "\n",
       "    .dataframe thead th {\n",
       "        text-align: right;\n",
       "    }\n",
       "</style>\n",
       "<table border=\"1\" class=\"dataframe\">\n",
       "  <thead>\n",
       "    <tr style=\"text-align: right;\">\n",
       "      <th></th>\n",
       "      <th>row_number</th>\n",
       "      <th>customer_id</th>\n",
       "      <th>surname</th>\n",
       "      <th>credit_score</th>\n",
       "      <th>geography</th>\n",
       "      <th>gender</th>\n",
       "      <th>age</th>\n",
       "      <th>tenure</th>\n",
       "      <th>balance</th>\n",
       "      <th>num_of_products</th>\n",
       "      <th>has_credit_card</th>\n",
       "      <th>is_active_member</th>\n",
       "      <th>estimated_salary</th>\n",
       "      <th>exited</th>\n",
       "    </tr>\n",
       "  </thead>\n",
       "  <tbody>\n",
       "    <tr>\n",
       "      <th>0</th>\n",
       "      <td>1</td>\n",
       "      <td>15634602</td>\n",
       "      <td>Hargrave</td>\n",
       "      <td>619</td>\n",
       "      <td>France</td>\n",
       "      <td>Female</td>\n",
       "      <td>42</td>\n",
       "      <td>2.0</td>\n",
       "      <td>0.00</td>\n",
       "      <td>1</td>\n",
       "      <td>1</td>\n",
       "      <td>1</td>\n",
       "      <td>101348.88</td>\n",
       "      <td>1</td>\n",
       "    </tr>\n",
       "    <tr>\n",
       "      <th>1</th>\n",
       "      <td>2</td>\n",
       "      <td>15647311</td>\n",
       "      <td>Hill</td>\n",
       "      <td>608</td>\n",
       "      <td>Spain</td>\n",
       "      <td>Female</td>\n",
       "      <td>41</td>\n",
       "      <td>1.0</td>\n",
       "      <td>83807.86</td>\n",
       "      <td>1</td>\n",
       "      <td>0</td>\n",
       "      <td>1</td>\n",
       "      <td>112542.58</td>\n",
       "      <td>0</td>\n",
       "    </tr>\n",
       "    <tr>\n",
       "      <th>2</th>\n",
       "      <td>3</td>\n",
       "      <td>15619304</td>\n",
       "      <td>Onio</td>\n",
       "      <td>502</td>\n",
       "      <td>France</td>\n",
       "      <td>Female</td>\n",
       "      <td>42</td>\n",
       "      <td>8.0</td>\n",
       "      <td>159660.80</td>\n",
       "      <td>3</td>\n",
       "      <td>1</td>\n",
       "      <td>0</td>\n",
       "      <td>113931.57</td>\n",
       "      <td>1</td>\n",
       "    </tr>\n",
       "    <tr>\n",
       "      <th>3</th>\n",
       "      <td>4</td>\n",
       "      <td>15701354</td>\n",
       "      <td>Boni</td>\n",
       "      <td>699</td>\n",
       "      <td>France</td>\n",
       "      <td>Female</td>\n",
       "      <td>39</td>\n",
       "      <td>1.0</td>\n",
       "      <td>0.00</td>\n",
       "      <td>2</td>\n",
       "      <td>0</td>\n",
       "      <td>0</td>\n",
       "      <td>93826.63</td>\n",
       "      <td>0</td>\n",
       "    </tr>\n",
       "    <tr>\n",
       "      <th>4</th>\n",
       "      <td>5</td>\n",
       "      <td>15737888</td>\n",
       "      <td>Mitchell</td>\n",
       "      <td>850</td>\n",
       "      <td>Spain</td>\n",
       "      <td>Female</td>\n",
       "      <td>43</td>\n",
       "      <td>2.0</td>\n",
       "      <td>125510.82</td>\n",
       "      <td>1</td>\n",
       "      <td>1</td>\n",
       "      <td>1</td>\n",
       "      <td>79084.10</td>\n",
       "      <td>0</td>\n",
       "    </tr>\n",
       "    <tr>\n",
       "      <th>5</th>\n",
       "      <td>6</td>\n",
       "      <td>15574012</td>\n",
       "      <td>Chu</td>\n",
       "      <td>645</td>\n",
       "      <td>Spain</td>\n",
       "      <td>Male</td>\n",
       "      <td>44</td>\n",
       "      <td>8.0</td>\n",
       "      <td>113755.78</td>\n",
       "      <td>2</td>\n",
       "      <td>1</td>\n",
       "      <td>0</td>\n",
       "      <td>149756.71</td>\n",
       "      <td>1</td>\n",
       "    </tr>\n",
       "    <tr>\n",
       "      <th>6</th>\n",
       "      <td>7</td>\n",
       "      <td>15592531</td>\n",
       "      <td>Bartlett</td>\n",
       "      <td>822</td>\n",
       "      <td>France</td>\n",
       "      <td>Male</td>\n",
       "      <td>50</td>\n",
       "      <td>7.0</td>\n",
       "      <td>0.00</td>\n",
       "      <td>2</td>\n",
       "      <td>1</td>\n",
       "      <td>1</td>\n",
       "      <td>10062.80</td>\n",
       "      <td>0</td>\n",
       "    </tr>\n",
       "    <tr>\n",
       "      <th>7</th>\n",
       "      <td>8</td>\n",
       "      <td>15656148</td>\n",
       "      <td>Obinna</td>\n",
       "      <td>376</td>\n",
       "      <td>Germany</td>\n",
       "      <td>Female</td>\n",
       "      <td>29</td>\n",
       "      <td>4.0</td>\n",
       "      <td>115046.74</td>\n",
       "      <td>4</td>\n",
       "      <td>1</td>\n",
       "      <td>0</td>\n",
       "      <td>119346.88</td>\n",
       "      <td>1</td>\n",
       "    </tr>\n",
       "    <tr>\n",
       "      <th>8</th>\n",
       "      <td>9</td>\n",
       "      <td>15792365</td>\n",
       "      <td>He</td>\n",
       "      <td>501</td>\n",
       "      <td>France</td>\n",
       "      <td>Male</td>\n",
       "      <td>44</td>\n",
       "      <td>4.0</td>\n",
       "      <td>142051.07</td>\n",
       "      <td>2</td>\n",
       "      <td>0</td>\n",
       "      <td>1</td>\n",
       "      <td>74940.50</td>\n",
       "      <td>0</td>\n",
       "    </tr>\n",
       "    <tr>\n",
       "      <th>9</th>\n",
       "      <td>10</td>\n",
       "      <td>15592389</td>\n",
       "      <td>H?</td>\n",
       "      <td>684</td>\n",
       "      <td>France</td>\n",
       "      <td>Male</td>\n",
       "      <td>27</td>\n",
       "      <td>2.0</td>\n",
       "      <td>134603.88</td>\n",
       "      <td>1</td>\n",
       "      <td>1</td>\n",
       "      <td>1</td>\n",
       "      <td>71725.73</td>\n",
       "      <td>0</td>\n",
       "    </tr>\n",
       "  </tbody>\n",
       "</table>\n",
       "</div>"
      ],
      "text/plain": [
       "   row_number  customer_id   surname  credit_score geography  gender  age  \\\n",
       "0           1     15634602  Hargrave           619    France  Female   42   \n",
       "1           2     15647311      Hill           608     Spain  Female   41   \n",
       "2           3     15619304      Onio           502    France  Female   42   \n",
       "3           4     15701354      Boni           699    France  Female   39   \n",
       "4           5     15737888  Mitchell           850     Spain  Female   43   \n",
       "5           6     15574012       Chu           645     Spain    Male   44   \n",
       "6           7     15592531  Bartlett           822    France    Male   50   \n",
       "7           8     15656148    Obinna           376   Germany  Female   29   \n",
       "8           9     15792365        He           501    France    Male   44   \n",
       "9          10     15592389        H?           684    France    Male   27   \n",
       "\n",
       "   tenure    balance  num_of_products  has_credit_card  is_active_member  \\\n",
       "0     2.0       0.00                1                1                 1   \n",
       "1     1.0   83807.86                1                0                 1   \n",
       "2     8.0  159660.80                3                1                 0   \n",
       "3     1.0       0.00                2                0                 0   \n",
       "4     2.0  125510.82                1                1                 1   \n",
       "5     8.0  113755.78                2                1                 0   \n",
       "6     7.0       0.00                2                1                 1   \n",
       "7     4.0  115046.74                4                1                 0   \n",
       "8     4.0  142051.07                2                0                 1   \n",
       "9     2.0  134603.88                1                1                 1   \n",
       "\n",
       "   estimated_salary  exited  \n",
       "0         101348.88       1  \n",
       "1         112542.58       0  \n",
       "2         113931.57       1  \n",
       "3          93826.63       0  \n",
       "4          79084.10       0  \n",
       "5         149756.71       1  \n",
       "6          10062.80       0  \n",
       "7         119346.88       1  \n",
       "8          74940.50       0  \n",
       "9          71725.73       0  "
      ]
     },
     "execution_count": 8,
     "metadata": {},
     "output_type": "execute_result"
    }
   ],
   "source": [
    "df.head(10)"
   ]
  },
  {
   "cell_type": "code",
   "execution_count": 9,
   "metadata": {
    "trusted": false
   },
   "outputs": [
    {
     "name": "stdout",
     "output_type": "stream",
     "text": [
      "<class 'pandas.core.frame.DataFrame'>\n",
      "RangeIndex: 10000 entries, 0 to 9999\n",
      "Data columns (total 14 columns):\n",
      " #   Column            Non-Null Count  Dtype  \n",
      "---  ------            --------------  -----  \n",
      " 0   row_number        10000 non-null  int64  \n",
      " 1   customer_id       10000 non-null  int64  \n",
      " 2   surname           10000 non-null  object \n",
      " 3   credit_score      10000 non-null  int64  \n",
      " 4   geography         10000 non-null  object \n",
      " 5   gender            10000 non-null  object \n",
      " 6   age               10000 non-null  int64  \n",
      " 7   tenure            10000 non-null  float64\n",
      " 8   balance           10000 non-null  float64\n",
      " 9   num_of_products   10000 non-null  int64  \n",
      " 10  has_credit_card   10000 non-null  int64  \n",
      " 11  is_active_member  10000 non-null  int64  \n",
      " 12  estimated_salary  10000 non-null  float64\n",
      " 13  exited            10000 non-null  int64  \n",
      "dtypes: float64(3), int64(8), object(3)\n",
      "memory usage: 1.1+ MB\n"
     ]
    }
   ],
   "source": [
    "df.info()"
   ]
  },
  {
   "cell_type": "markdown",
   "metadata": {},
   "source": [
    "# Paso 2: Codificación y estandarización"
   ]
  },
  {
   "cell_type": "code",
   "execution_count": 10,
   "metadata": {
    "trusted": false
   },
   "outputs": [
    {
     "data": {
      "text/html": [
       "<div>\n",
       "<style scoped>\n",
       "    .dataframe tbody tr th:only-of-type {\n",
       "        vertical-align: middle;\n",
       "    }\n",
       "\n",
       "    .dataframe tbody tr th {\n",
       "        vertical-align: top;\n",
       "    }\n",
       "\n",
       "    .dataframe thead th {\n",
       "        text-align: right;\n",
       "    }\n",
       "</style>\n",
       "<table border=\"1\" class=\"dataframe\">\n",
       "  <thead>\n",
       "    <tr style=\"text-align: right;\">\n",
       "      <th></th>\n",
       "      <th>row_number</th>\n",
       "      <th>customer_id</th>\n",
       "      <th>surname</th>\n",
       "      <th>credit_score</th>\n",
       "      <th>geography</th>\n",
       "      <th>gender</th>\n",
       "      <th>age</th>\n",
       "      <th>tenure</th>\n",
       "      <th>balance</th>\n",
       "      <th>num_of_products</th>\n",
       "      <th>has_credit_card</th>\n",
       "      <th>is_active_member</th>\n",
       "      <th>estimated_salary</th>\n",
       "      <th>exited</th>\n",
       "    </tr>\n",
       "  </thead>\n",
       "  <tbody>\n",
       "    <tr>\n",
       "      <th>0</th>\n",
       "      <td>1</td>\n",
       "      <td>15634602</td>\n",
       "      <td>1115.0</td>\n",
       "      <td>619</td>\n",
       "      <td>0.0</td>\n",
       "      <td>0.0</td>\n",
       "      <td>42</td>\n",
       "      <td>2.0</td>\n",
       "      <td>0.00</td>\n",
       "      <td>1</td>\n",
       "      <td>1</td>\n",
       "      <td>1</td>\n",
       "      <td>101348.88</td>\n",
       "      <td>1</td>\n",
       "    </tr>\n",
       "    <tr>\n",
       "      <th>1</th>\n",
       "      <td>2</td>\n",
       "      <td>15647311</td>\n",
       "      <td>1177.0</td>\n",
       "      <td>608</td>\n",
       "      <td>2.0</td>\n",
       "      <td>0.0</td>\n",
       "      <td>41</td>\n",
       "      <td>1.0</td>\n",
       "      <td>83807.86</td>\n",
       "      <td>1</td>\n",
       "      <td>0</td>\n",
       "      <td>1</td>\n",
       "      <td>112542.58</td>\n",
       "      <td>0</td>\n",
       "    </tr>\n",
       "    <tr>\n",
       "      <th>2</th>\n",
       "      <td>3</td>\n",
       "      <td>15619304</td>\n",
       "      <td>2040.0</td>\n",
       "      <td>502</td>\n",
       "      <td>0.0</td>\n",
       "      <td>0.0</td>\n",
       "      <td>42</td>\n",
       "      <td>8.0</td>\n",
       "      <td>159660.80</td>\n",
       "      <td>3</td>\n",
       "      <td>1</td>\n",
       "      <td>0</td>\n",
       "      <td>113931.57</td>\n",
       "      <td>1</td>\n",
       "    </tr>\n",
       "    <tr>\n",
       "      <th>3</th>\n",
       "      <td>4</td>\n",
       "      <td>15701354</td>\n",
       "      <td>289.0</td>\n",
       "      <td>699</td>\n",
       "      <td>0.0</td>\n",
       "      <td>0.0</td>\n",
       "      <td>39</td>\n",
       "      <td>1.0</td>\n",
       "      <td>0.00</td>\n",
       "      <td>2</td>\n",
       "      <td>0</td>\n",
       "      <td>0</td>\n",
       "      <td>93826.63</td>\n",
       "      <td>0</td>\n",
       "    </tr>\n",
       "    <tr>\n",
       "      <th>4</th>\n",
       "      <td>5</td>\n",
       "      <td>15737888</td>\n",
       "      <td>1822.0</td>\n",
       "      <td>850</td>\n",
       "      <td>2.0</td>\n",
       "      <td>0.0</td>\n",
       "      <td>43</td>\n",
       "      <td>2.0</td>\n",
       "      <td>125510.82</td>\n",
       "      <td>1</td>\n",
       "      <td>1</td>\n",
       "      <td>1</td>\n",
       "      <td>79084.10</td>\n",
       "      <td>0</td>\n",
       "    </tr>\n",
       "    <tr>\n",
       "      <th>5</th>\n",
       "      <td>6</td>\n",
       "      <td>15574012</td>\n",
       "      <td>537.0</td>\n",
       "      <td>645</td>\n",
       "      <td>2.0</td>\n",
       "      <td>1.0</td>\n",
       "      <td>44</td>\n",
       "      <td>8.0</td>\n",
       "      <td>113755.78</td>\n",
       "      <td>2</td>\n",
       "      <td>1</td>\n",
       "      <td>0</td>\n",
       "      <td>149756.71</td>\n",
       "      <td>1</td>\n",
       "    </tr>\n",
       "    <tr>\n",
       "      <th>6</th>\n",
       "      <td>7</td>\n",
       "      <td>15592531</td>\n",
       "      <td>177.0</td>\n",
       "      <td>822</td>\n",
       "      <td>0.0</td>\n",
       "      <td>1.0</td>\n",
       "      <td>50</td>\n",
       "      <td>7.0</td>\n",
       "      <td>0.00</td>\n",
       "      <td>2</td>\n",
       "      <td>1</td>\n",
       "      <td>1</td>\n",
       "      <td>10062.80</td>\n",
       "      <td>0</td>\n",
       "    </tr>\n",
       "    <tr>\n",
       "      <th>7</th>\n",
       "      <td>8</td>\n",
       "      <td>15656148</td>\n",
       "      <td>2000.0</td>\n",
       "      <td>376</td>\n",
       "      <td>1.0</td>\n",
       "      <td>0.0</td>\n",
       "      <td>29</td>\n",
       "      <td>4.0</td>\n",
       "      <td>115046.74</td>\n",
       "      <td>4</td>\n",
       "      <td>1</td>\n",
       "      <td>0</td>\n",
       "      <td>119346.88</td>\n",
       "      <td>1</td>\n",
       "    </tr>\n",
       "    <tr>\n",
       "      <th>8</th>\n",
       "      <td>9</td>\n",
       "      <td>15792365</td>\n",
       "      <td>1146.0</td>\n",
       "      <td>501</td>\n",
       "      <td>0.0</td>\n",
       "      <td>1.0</td>\n",
       "      <td>44</td>\n",
       "      <td>4.0</td>\n",
       "      <td>142051.07</td>\n",
       "      <td>2</td>\n",
       "      <td>0</td>\n",
       "      <td>1</td>\n",
       "      <td>74940.50</td>\n",
       "      <td>0</td>\n",
       "    </tr>\n",
       "    <tr>\n",
       "      <th>9</th>\n",
       "      <td>10</td>\n",
       "      <td>15592389</td>\n",
       "      <td>1081.0</td>\n",
       "      <td>684</td>\n",
       "      <td>0.0</td>\n",
       "      <td>1.0</td>\n",
       "      <td>27</td>\n",
       "      <td>2.0</td>\n",
       "      <td>134603.88</td>\n",
       "      <td>1</td>\n",
       "      <td>1</td>\n",
       "      <td>1</td>\n",
       "      <td>71725.73</td>\n",
       "      <td>0</td>\n",
       "    </tr>\n",
       "  </tbody>\n",
       "</table>\n",
       "</div>"
      ],
      "text/plain": [
       "   row_number  customer_id  surname  credit_score  geography  gender  age  \\\n",
       "0           1     15634602   1115.0           619        0.0     0.0   42   \n",
       "1           2     15647311   1177.0           608        2.0     0.0   41   \n",
       "2           3     15619304   2040.0           502        0.0     0.0   42   \n",
       "3           4     15701354    289.0           699        0.0     0.0   39   \n",
       "4           5     15737888   1822.0           850        2.0     0.0   43   \n",
       "5           6     15574012    537.0           645        2.0     1.0   44   \n",
       "6           7     15592531    177.0           822        0.0     1.0   50   \n",
       "7           8     15656148   2000.0           376        1.0     0.0   29   \n",
       "8           9     15792365   1146.0           501        0.0     1.0   44   \n",
       "9          10     15592389   1081.0           684        0.0     1.0   27   \n",
       "\n",
       "   tenure    balance  num_of_products  has_credit_card  is_active_member  \\\n",
       "0     2.0       0.00                1                1                 1   \n",
       "1     1.0   83807.86                1                0                 1   \n",
       "2     8.0  159660.80                3                1                 0   \n",
       "3     1.0       0.00                2                0                 0   \n",
       "4     2.0  125510.82                1                1                 1   \n",
       "5     8.0  113755.78                2                1                 0   \n",
       "6     7.0       0.00                2                1                 1   \n",
       "7     4.0  115046.74                4                1                 0   \n",
       "8     4.0  142051.07                2                0                 1   \n",
       "9     2.0  134603.88                1                1                 1   \n",
       "\n",
       "   estimated_salary  exited  \n",
       "0         101348.88       1  \n",
       "1         112542.58       0  \n",
       "2         113931.57       1  \n",
       "3          93826.63       0  \n",
       "4          79084.10       0  \n",
       "5         149756.71       1  \n",
       "6          10062.80       0  \n",
       "7         119346.88       1  \n",
       "8          74940.50       0  \n",
       "9          71725.73       0  "
      ]
     },
     "execution_count": 10,
     "metadata": {},
     "output_type": "execute_result"
    }
   ],
   "source": [
    "# Codificación categórica\n",
    "encoder = OrdinalEncoder()\n",
    "x_enc = encoder.fit_transform(df.loc[:,('surname','geography','gender')])\n",
    "df.loc[:,('surname','geography','gender')] = pd.DataFrame(x_enc, columns=['surname','geography','gender'])\n",
    "df.head(10)"
   ]
  },
  {
   "cell_type": "markdown",
   "metadata": {},
   "source": [
    "Se codificaron las varibales tipo 'object'"
   ]
  },
  {
   "cell_type": "code",
   "execution_count": 11,
   "metadata": {
    "trusted": false
   },
   "outputs": [
    {
     "data": {
      "text/html": [
       "<div>\n",
       "<style scoped>\n",
       "    .dataframe tbody tr th:only-of-type {\n",
       "        vertical-align: middle;\n",
       "    }\n",
       "\n",
       "    .dataframe tbody tr th {\n",
       "        vertical-align: top;\n",
       "    }\n",
       "\n",
       "    .dataframe thead th {\n",
       "        text-align: right;\n",
       "    }\n",
       "</style>\n",
       "<table border=\"1\" class=\"dataframe\">\n",
       "  <thead>\n",
       "    <tr style=\"text-align: right;\">\n",
       "      <th></th>\n",
       "      <th>row_number</th>\n",
       "      <th>customer_id</th>\n",
       "      <th>surname</th>\n",
       "      <th>credit_score</th>\n",
       "      <th>geography</th>\n",
       "      <th>gender</th>\n",
       "      <th>age</th>\n",
       "      <th>tenure</th>\n",
       "      <th>balance</th>\n",
       "      <th>num_of_products</th>\n",
       "      <th>has_credit_card</th>\n",
       "      <th>is_active_member</th>\n",
       "      <th>estimated_salary</th>\n",
       "      <th>exited</th>\n",
       "    </tr>\n",
       "  </thead>\n",
       "  <tbody>\n",
       "    <tr>\n",
       "      <th>0</th>\n",
       "      <td>1</td>\n",
       "      <td>15634602</td>\n",
       "      <td>-0.464183</td>\n",
       "      <td>-0.326221</td>\n",
       "      <td>-0.901886</td>\n",
       "      <td>-1.095988</td>\n",
       "      <td>0.293517</td>\n",
       "      <td>-0.817441</td>\n",
       "      <td>-1.225848</td>\n",
       "      <td>-0.911583</td>\n",
       "      <td>0.646092</td>\n",
       "      <td>0.970243</td>\n",
       "      <td>0.021886</td>\n",
       "      <td>1</td>\n",
       "    </tr>\n",
       "    <tr>\n",
       "      <th>1</th>\n",
       "      <td>2</td>\n",
       "      <td>15647311</td>\n",
       "      <td>-0.390911</td>\n",
       "      <td>-0.440036</td>\n",
       "      <td>1.515067</td>\n",
       "      <td>-1.095988</td>\n",
       "      <td>0.198164</td>\n",
       "      <td>-1.138838</td>\n",
       "      <td>0.117350</td>\n",
       "      <td>-0.911583</td>\n",
       "      <td>-1.547768</td>\n",
       "      <td>0.970243</td>\n",
       "      <td>0.216534</td>\n",
       "      <td>0</td>\n",
       "    </tr>\n",
       "    <tr>\n",
       "      <th>2</th>\n",
       "      <td>3</td>\n",
       "      <td>15619304</td>\n",
       "      <td>0.628988</td>\n",
       "      <td>-1.536794</td>\n",
       "      <td>-0.901886</td>\n",
       "      <td>-1.095988</td>\n",
       "      <td>0.293517</td>\n",
       "      <td>1.110941</td>\n",
       "      <td>1.333053</td>\n",
       "      <td>2.527057</td>\n",
       "      <td>0.646092</td>\n",
       "      <td>-1.030670</td>\n",
       "      <td>0.240687</td>\n",
       "      <td>1</td>\n",
       "    </tr>\n",
       "    <tr>\n",
       "      <th>3</th>\n",
       "      <td>4</td>\n",
       "      <td>15701354</td>\n",
       "      <td>-1.440356</td>\n",
       "      <td>0.501521</td>\n",
       "      <td>-0.901886</td>\n",
       "      <td>-1.095988</td>\n",
       "      <td>0.007457</td>\n",
       "      <td>-1.138838</td>\n",
       "      <td>-1.225848</td>\n",
       "      <td>0.807737</td>\n",
       "      <td>-1.547768</td>\n",
       "      <td>-1.030670</td>\n",
       "      <td>-0.108918</td>\n",
       "      <td>0</td>\n",
       "    </tr>\n",
       "    <tr>\n",
       "      <th>4</th>\n",
       "      <td>5</td>\n",
       "      <td>15737888</td>\n",
       "      <td>0.371354</td>\n",
       "      <td>2.063884</td>\n",
       "      <td>1.515067</td>\n",
       "      <td>-1.095988</td>\n",
       "      <td>0.388871</td>\n",
       "      <td>-0.817441</td>\n",
       "      <td>0.785728</td>\n",
       "      <td>-0.911583</td>\n",
       "      <td>0.646092</td>\n",
       "      <td>0.970243</td>\n",
       "      <td>-0.365276</td>\n",
       "      <td>0</td>\n",
       "    </tr>\n",
       "    <tr>\n",
       "      <th>...</th>\n",
       "      <td>...</td>\n",
       "      <td>...</td>\n",
       "      <td>...</td>\n",
       "      <td>...</td>\n",
       "      <td>...</td>\n",
       "      <td>...</td>\n",
       "      <td>...</td>\n",
       "      <td>...</td>\n",
       "      <td>...</td>\n",
       "      <td>...</td>\n",
       "      <td>...</td>\n",
       "      <td>...</td>\n",
       "      <td>...</td>\n",
       "      <td>...</td>\n",
       "    </tr>\n",
       "    <tr>\n",
       "      <th>9995</th>\n",
       "      <td>9996</td>\n",
       "      <td>15606229</td>\n",
       "      <td>0.580534</td>\n",
       "      <td>1.246488</td>\n",
       "      <td>-0.901886</td>\n",
       "      <td>0.912419</td>\n",
       "      <td>0.007457</td>\n",
       "      <td>0.146750</td>\n",
       "      <td>-1.225848</td>\n",
       "      <td>0.807737</td>\n",
       "      <td>0.646092</td>\n",
       "      <td>-1.030670</td>\n",
       "      <td>-0.066419</td>\n",
       "      <td>0</td>\n",
       "    </tr>\n",
       "    <tr>\n",
       "      <th>9996</th>\n",
       "      <td>9997</td>\n",
       "      <td>15569892</td>\n",
       "      <td>-0.203004</td>\n",
       "      <td>-1.391939</td>\n",
       "      <td>-0.901886</td>\n",
       "      <td>0.912419</td>\n",
       "      <td>-0.373958</td>\n",
       "      <td>1.753735</td>\n",
       "      <td>-0.306379</td>\n",
       "      <td>-0.911583</td>\n",
       "      <td>0.646092</td>\n",
       "      <td>0.970243</td>\n",
       "      <td>0.027988</td>\n",
       "      <td>0</td>\n",
       "    </tr>\n",
       "    <tr>\n",
       "      <th>9997</th>\n",
       "      <td>9998</td>\n",
       "      <td>15584532</td>\n",
       "      <td>0.073539</td>\n",
       "      <td>0.604988</td>\n",
       "      <td>-0.901886</td>\n",
       "      <td>-1.095988</td>\n",
       "      <td>-0.278604</td>\n",
       "      <td>0.789544</td>\n",
       "      <td>-1.225848</td>\n",
       "      <td>-0.911583</td>\n",
       "      <td>-1.547768</td>\n",
       "      <td>0.970243</td>\n",
       "      <td>-1.008643</td>\n",
       "      <td>1</td>\n",
       "    </tr>\n",
       "    <tr>\n",
       "      <th>9998</th>\n",
       "      <td>9999</td>\n",
       "      <td>15682355</td>\n",
       "      <td>0.989439</td>\n",
       "      <td>1.256835</td>\n",
       "      <td>0.306591</td>\n",
       "      <td>0.912419</td>\n",
       "      <td>0.293517</td>\n",
       "      <td>-0.496044</td>\n",
       "      <td>-0.022608</td>\n",
       "      <td>0.807737</td>\n",
       "      <td>0.646092</td>\n",
       "      <td>-1.030670</td>\n",
       "      <td>-0.125231</td>\n",
       "      <td>1</td>\n",
       "    </tr>\n",
       "    <tr>\n",
       "      <th>9999</th>\n",
       "      <td>10000</td>\n",
       "      <td>15628319</td>\n",
       "      <td>1.469253</td>\n",
       "      <td>1.463771</td>\n",
       "      <td>-0.901886</td>\n",
       "      <td>-1.095988</td>\n",
       "      <td>-1.041433</td>\n",
       "      <td>-1.460235</td>\n",
       "      <td>0.859965</td>\n",
       "      <td>-0.911583</td>\n",
       "      <td>0.646092</td>\n",
       "      <td>-1.030670</td>\n",
       "      <td>-1.076370</td>\n",
       "      <td>0</td>\n",
       "    </tr>\n",
       "  </tbody>\n",
       "</table>\n",
       "<p>10000 rows × 14 columns</p>\n",
       "</div>"
      ],
      "text/plain": [
       "      row_number  customer_id   surname  credit_score  geography    gender  \\\n",
       "0              1     15634602 -0.464183     -0.326221  -0.901886 -1.095988   \n",
       "1              2     15647311 -0.390911     -0.440036   1.515067 -1.095988   \n",
       "2              3     15619304  0.628988     -1.536794  -0.901886 -1.095988   \n",
       "3              4     15701354 -1.440356      0.501521  -0.901886 -1.095988   \n",
       "4              5     15737888  0.371354      2.063884   1.515067 -1.095988   \n",
       "...          ...          ...       ...           ...        ...       ...   \n",
       "9995        9996     15606229  0.580534      1.246488  -0.901886  0.912419   \n",
       "9996        9997     15569892 -0.203004     -1.391939  -0.901886  0.912419   \n",
       "9997        9998     15584532  0.073539      0.604988  -0.901886 -1.095988   \n",
       "9998        9999     15682355  0.989439      1.256835   0.306591  0.912419   \n",
       "9999       10000     15628319  1.469253      1.463771  -0.901886 -1.095988   \n",
       "\n",
       "           age    tenure   balance  num_of_products  has_credit_card  \\\n",
       "0     0.293517 -0.817441 -1.225848        -0.911583         0.646092   \n",
       "1     0.198164 -1.138838  0.117350        -0.911583        -1.547768   \n",
       "2     0.293517  1.110941  1.333053         2.527057         0.646092   \n",
       "3     0.007457 -1.138838 -1.225848         0.807737        -1.547768   \n",
       "4     0.388871 -0.817441  0.785728        -0.911583         0.646092   \n",
       "...        ...       ...       ...              ...              ...   \n",
       "9995  0.007457  0.146750 -1.225848         0.807737         0.646092   \n",
       "9996 -0.373958  1.753735 -0.306379        -0.911583         0.646092   \n",
       "9997 -0.278604  0.789544 -1.225848        -0.911583        -1.547768   \n",
       "9998  0.293517 -0.496044 -0.022608         0.807737         0.646092   \n",
       "9999 -1.041433 -1.460235  0.859965        -0.911583         0.646092   \n",
       "\n",
       "      is_active_member  estimated_salary  exited  \n",
       "0             0.970243          0.021886       1  \n",
       "1             0.970243          0.216534       0  \n",
       "2            -1.030670          0.240687       1  \n",
       "3            -1.030670         -0.108918       0  \n",
       "4             0.970243         -0.365276       0  \n",
       "...                ...               ...     ...  \n",
       "9995         -1.030670         -0.066419       0  \n",
       "9996          0.970243          0.027988       0  \n",
       "9997          0.970243         -1.008643       1  \n",
       "9998         -1.030670         -0.125231       1  \n",
       "9999         -1.030670         -1.076370       0  \n",
       "\n",
       "[10000 rows x 14 columns]"
      ]
     },
     "execution_count": 11,
     "metadata": {},
     "output_type": "execute_result"
    }
   ],
   "source": [
    "# Estandarización de variables numéricas \n",
    "scaler = StandardScaler()\n",
    "x_scaler = scaler.fit_transform(df[['surname','credit_score','geography','gender','age', 'tenure', 'balance', 'num_of_products', 'has_credit_card','is_active_member','estimated_salary']])\n",
    "df.loc[:,('surname','credit_score','geography','gender','age', 'tenure', 'balance', 'num_of_products', 'has_credit_card','is_active_member','estimated_salary')] = pd.DataFrame(x_scaler, columns=['surname','credit_score','geography','gender','age', 'tenure', 'balance', 'num_of_products', 'has_credit_card','is_active_member','estimated_salary'])\n",
    "df"
   ]
  },
  {
   "cell_type": "markdown",
   "metadata": {},
   "source": [
    "# Paso 3: Segmentación de los datos en un conjunto de entrenamiento, uno de validación y uno de prueba¶"
   ]
  },
  {
   "cell_type": "code",
   "execution_count": 12,
   "metadata": {
    "trusted": false
   },
   "outputs": [
    {
     "name": "stdout",
     "output_type": "stream",
     "text": [
      "Tamaño entrenamiento: 7000\n",
      "Tamaño validación: 1500\n",
      "Tamaño prueba: 1500\n"
     ]
    }
   ],
   "source": [
    "# Separar características y variable objetivo\n",
    "features = df.drop(columns=['exited', 'customer_id', 'row_number'])\n",
    "target = df['exited']\n",
    "\n",
    "# División inicial: 70% entrenamiento + 30% validación+prueba\n",
    "features_train, features_temp, target_train, target_temp = train_test_split(\n",
    "    features, target, test_size=0.3, random_state=42)\n",
    "\n",
    "# División secundaria: 15% validación + 15% prueba\n",
    "features_valid, features_test, target_valid, target_test = train_test_split(\n",
    "    features_temp, target_temp, test_size=0.5, random_state=42)\n",
    "\n",
    "# Verificación de tamaños\n",
    "print(\"Tamaño entrenamiento:\", len(features_train))\n",
    "print(\"Tamaño validación:\", len(features_valid))\n",
    "print(\"Tamaño prueba:\", len(features_test))"
   ]
  },
  {
   "cell_type": "markdown",
   "metadata": {},
   "source": [
    "# CASO: SIN CONSIDERAR EL DESEQUILIBRIO DE LAS CLASES"
   ]
  },
  {
   "cell_type": "markdown",
   "metadata": {},
   "source": [
    "# Paso 4: Evaluando la calidad de diferentes modelos cambiando los hiperparámetros"
   ]
  },
  {
   "cell_type": "markdown",
   "metadata": {},
   "source": [
    "**Arbol de decisión**"
   ]
  },
  {
   "cell_type": "code",
   "execution_count": 13,
   "metadata": {
    "trusted": false
   },
   "outputs": [
    {
     "name": "stdout",
     "output_type": "stream",
     "text": [
      "max_depth=1: F1=0.000, AUC-ROC=0.674\n",
      "max_depth=2: F1=0.482, AUC-ROC=0.721\n",
      "max_depth=3: F1=0.509, AUC-ROC=0.779\n",
      "max_depth=4: F1=0.486, AUC-ROC=0.799\n",
      "max_depth=5: F1=0.450, AUC-ROC=0.814\n",
      "max_depth=6: F1=0.504, AUC-ROC=0.819\n",
      "max_depth=7: F1=0.512, AUC-ROC=0.816\n",
      "max_depth=8: F1=0.492, AUC-ROC=0.792\n",
      "max_depth=9: F1=0.508, AUC-ROC=0.770\n",
      "max_depth=10: F1=0.515, AUC-ROC=0.761\n"
     ]
    }
   ],
   "source": [
    "for depth in range(1,11):\n",
    "    model = DecisionTreeClassifier(random_state=42, max_depth=depth)\n",
    "    model.fit(features_train,target_train)\n",
    "    \n",
    "    # Predicción para calcular F1\n",
    "    predictions_valid = model.predict(features_valid)\n",
    "    f1_ad = f1_score(target_valid,predictions_valid)\n",
    "    \n",
    "    # Probabilidades para calcular AUC-ROC (necesita probabilidades, no etiquetas)\n",
    "    probabilities_valid = model.predict_proba(features_valid)[:, 1]  # Tomamos la columna de probabilidad para la clase 1\n",
    "    auc_roc = roc_auc_score(target_valid, probabilities_valid)\n",
    "\n",
    "    print(f\"max_depth={depth}: F1={f1_ad:.3f}, AUC-ROC={auc_roc:.3f}\")"
   ]
  },
  {
   "cell_type": "markdown",
   "metadata": {},
   "source": [
    "- Mejor F1: 0.547 (max_depth=9)\n",
    "- Mejor AUC-ROC: 0.832 (max_depth=7)\n",
    "\n",
    "El árbol de decisión muestra que cuando la profundidad media alta, logra un equilibrio decente entre F1 y AUC-ROC. Sin embargo, tiene fluctuaciones, indicando que no es el más estable."
   ]
  },
  {
   "cell_type": "markdown",
   "metadata": {},
   "source": [
    "**Bosque aleatorio**"
   ]
  },
  {
   "cell_type": "code",
   "execution_count": 14,
   "metadata": {
    "trusted": false
   },
   "outputs": [
    {
     "name": "stdout",
     "output_type": "stream",
     "text": [
      "n_estimators=10: F1=0.526, AUC-ROC=0.797\n",
      "n_estimators=20: F1=0.544, AUC-ROC=0.824\n",
      "n_estimators=30: F1=0.560, AUC-ROC=0.836\n",
      "n_estimators=40: F1=0.550, AUC-ROC=0.845\n",
      "n_estimators=50: F1=0.545, AUC-ROC=0.849\n",
      "n_estimators=60: F1=0.554, AUC-ROC=0.850\n",
      "n_estimators=70: F1=0.560, AUC-ROC=0.851\n",
      "n_estimators=80: F1=0.553, AUC-ROC=0.851\n",
      "n_estimators=90: F1=0.569, AUC-ROC=0.854\n",
      "n_estimators=100: F1=0.558, AUC-ROC=0.853\n"
     ]
    }
   ],
   "source": [
    "for n in range(10,101,10):\n",
    "    model = RandomForestClassifier(random_state=42, n_estimators=n)\n",
    "    model.fit(features_train,target_train)\n",
    "    \n",
    "    # Predicción para F1\n",
    "    predictions_valid = model.predict(features_valid)\n",
    "    f1_ba = f1_score(target_valid,predictions_valid)\n",
    "    \n",
    "    # Probabilidades para AUC-ROC\n",
    "    probabilities_valid = model.predict_proba(features_valid)[:, 1]\n",
    "    auc_roc = roc_auc_score(target_valid, probabilities_valid)\n",
    "\n",
    "    print(f\"n_estimators={n}: F1={f1_ba:.3f}, AUC-ROC={auc_roc:.3f}\")"
   ]
  },
  {
   "cell_type": "markdown",
   "metadata": {},
   "source": [
    "- Mejor F1: 0.573 (n_estimators=90)\n",
    "- Mejor AUC-ROC: 0.853 (n_estimators=100)\n",
    "\n",
    "El bosque aleatorio es el mejor de los tres. Consistentemente tiene un buen F1 y el mejor AUC-ROC, lo cual es excelente."
   ]
  },
  {
   "cell_type": "markdown",
   "metadata": {},
   "source": [
    "**Regresión logística**"
   ]
  },
  {
   "cell_type": "code",
   "execution_count": 15,
   "metadata": {
    "trusted": false
   },
   "outputs": [
    {
     "name": "stdout",
     "output_type": "stream",
     "text": [
      "Regresión Logística - F1=0.2826, AUC-ROC=0.7537\n"
     ]
    }
   ],
   "source": [
    "model = LogisticRegression(random_state=42, solver='liblinear')\n",
    "model.fit(features_train,target_train)\n",
    "\n",
    "# Predicción para F1\n",
    "predictions_valid = model.predict(features_valid)\n",
    "f1_rl = f1_score(target_valid, predictions_valid)\n",
    "\n",
    "# Probabilidades para AUC-ROC\n",
    "probabilities_valid = model.predict_proba(features_valid)[:, 1]\n",
    "auc_roc = roc_auc_score(target_valid, probabilities_valid)\n",
    "\n",
    "print(f\"Regresión Logística - F1={f1_rl:.4f}, AUC-ROC={auc_roc:.4f}\")"
   ]
  },
  {
   "cell_type": "markdown",
   "metadata": {},
   "source": [
    "- F1: 0.281\n",
    "- AUC-ROC: 0.758\n",
    "\n",
    "La regresión logística es claramente la peor opción. Aunque su AUC-ROC es decent, su F1 es muy bajo."
   ]
  },
  {
   "cell_type": "markdown",
   "metadata": {},
   "source": [
    "**Conclusiones:** \n",
    "- Si el F1 es bajo pero el AUC-ROC es alto, el modelo distingue bien entre clases en general, pero su desempeño específico en el umbral elegido (0.5) no es ideal. Que es el caso en varios de los modelos que se obtuvieron. \n",
    "- En el caso del bosque aleatorio, se puede notar que es la mejor opción. El modelo tiene F1 más altos que los otros modelos y también en AUC-ROC. \n",
    "- Entiendo que las instrucciones del proyecto le dan más importancia al F1 porque es un indicador más crítico y que es sensible al desbalance de clases. Después, haré el mismo procedimiento considerando el desequilibrio de clases y que con las técnicas se sobremuestreo y submuestreo, seguramente se verá una mejora en el F1. Hasta el momento, ningún modelo ha alcanzado el 0.59, que es el mínimo para aprobar la revisión. "
   ]
  },
  {
   "cell_type": "markdown",
   "metadata": {},
   "source": [
    "# CASO: CONSIDERANDO EL DESEQUILIBRIO DE LAS CLASES"
   ]
  },
  {
   "cell_type": "code",
   "execution_count": null,
   "metadata": {
    "trusted": false
   },
   "outputs": [
    {
     "data": {
      "text/plain": [
       "0    0.7963\n",
       "1    0.2037\n",
       "Name: exited, dtype: float64"
      ]
     },
     "execution_count": 16,
     "metadata": {},
     "output_type": "execute_result"
    }
   ],
   "source": [
    "# Explorar el desequilibrio de clases\n",
    "df['exited'].value_counts(normalize=True)"
   ]
  },
  {
   "cell_type": "markdown",
   "metadata": {},
   "source": [
    "# Paso 4: Evaluando la calidad de diferentes modelos cambiando los hiperparámetros"
   ]
  },
  {
   "cell_type": "markdown",
   "metadata": {},
   "source": [
    "**Submuestreo**"
   ]
  },
  {
   "cell_type": "code",
   "execution_count": 17,
   "metadata": {
    "trusted": false
   },
   "outputs": [],
   "source": [
    "# Concatenamos features y target para hacer el muestreo\n",
    "train_data = pd.concat([features_train, target_train], axis=1)\n",
    "\n",
    "# Separar clases\n",
    "class_0 = train_data[train_data['exited'] == 0]\n",
    "class_1 = train_data[train_data['exited'] == 1]\n",
    "\n",
    "# Submuestrear la clase mayoritaria\n",
    "class_0_downsampled = class_0.sample(len(class_1), random_state=42)\n",
    "\n",
    "# Combinar clases balanceadas\n",
    "train_data_balanced = pd.concat([class_0_downsampled, class_1])\n",
    "\n",
    "# Mezclar aleatoriamente\n",
    "train_data_balanced = shuffle(train_data_balanced, random_state=42)\n",
    "\n",
    "# Separar nuevamente features y target\n",
    "features_train_balanced_sub = train_data_balanced.drop('exited', axis=1)\n",
    "target_train_balanced_sub = train_data_balanced['exited']"
   ]
  },
  {
   "cell_type": "markdown",
   "metadata": {},
   "source": [
    "**Arbol de decisión**"
   ]
  },
  {
   "cell_type": "code",
   "execution_count": 18,
   "metadata": {
    "trusted": false
   },
   "outputs": [
    {
     "name": "stdout",
     "output_type": "stream",
     "text": [
      "max_depth=1: F1=0.470, AUC-ROC=0.692\n",
      "max_depth=2: F1=0.494, AUC-ROC=0.744\n",
      "max_depth=3: F1=0.494, AUC-ROC=0.792\n",
      "max_depth=4: F1=0.516, AUC-ROC=0.810\n",
      "max_depth=5: F1=0.567, AUC-ROC=0.825\n",
      "max_depth=6: F1=0.522, AUC-ROC=0.818\n",
      "max_depth=7: F1=0.529, AUC-ROC=0.819\n",
      "max_depth=8: F1=0.511, AUC-ROC=0.798\n",
      "max_depth=9: F1=0.493, AUC-ROC=0.779\n",
      "max_depth=10: F1=0.493, AUC-ROC=0.741\n"
     ]
    }
   ],
   "source": [
    "for depth in range(1,11):\n",
    "    model = DecisionTreeClassifier(random_state=42, max_depth=depth)\n",
    "    model.fit(features_train_balanced_sub,target_train_balanced_sub)\n",
    "    \n",
    "    # Predicción para calcular F1\n",
    "    predictions_valid = model.predict(features_valid)\n",
    "    f1_ad = f1_score(target_valid,predictions_valid)\n",
    "    \n",
    "    # Probabilidades para calcular AUC-ROC (necesita probabilidades, no etiquetas)\n",
    "    probabilities_valid = model.predict_proba(features_valid)[:, 1]  # Tomamos la columna de probabilidad para la clase 1\n",
    "    auc_roc = roc_auc_score(target_valid, probabilities_valid)\n",
    "\n",
    "    print(f\"max_depth={depth}: F1={f1_ad:.3f}, AUC-ROC={auc_roc:.3f}\")"
   ]
  },
  {
   "cell_type": "markdown",
   "metadata": {},
   "source": [
    "**Bosque aleatorio**"
   ]
  },
  {
   "cell_type": "code",
   "execution_count": 19,
   "metadata": {
    "trusted": false
   },
   "outputs": [
    {
     "name": "stdout",
     "output_type": "stream",
     "text": [
      "n_estimators=10: F1=0.528, AUC-ROC=0.815\n",
      "n_estimators=20: F1=0.538, AUC-ROC=0.833\n",
      "n_estimators=30: F1=0.538, AUC-ROC=0.837\n",
      "n_estimators=40: F1=0.534, AUC-ROC=0.838\n",
      "n_estimators=50: F1=0.541, AUC-ROC=0.839\n",
      "n_estimators=60: F1=0.537, AUC-ROC=0.839\n",
      "n_estimators=70: F1=0.538, AUC-ROC=0.840\n",
      "n_estimators=80: F1=0.550, AUC-ROC=0.843\n",
      "n_estimators=90: F1=0.544, AUC-ROC=0.844\n",
      "n_estimators=100: F1=0.542, AUC-ROC=0.846\n"
     ]
    }
   ],
   "source": [
    "for n in range(10,101,10):\n",
    "    model = RandomForestClassifier(random_state=42, n_estimators=n)\n",
    "    model.fit(features_train_balanced_sub,target_train_balanced_sub)\n",
    "    \n",
    "    # Predicción para F1\n",
    "    predictions_valid = model.predict(features_valid)\n",
    "    f1_ba = f1_score(target_valid,predictions_valid)\n",
    "    \n",
    "    # Probabilidades para AUC-ROC\n",
    "    probabilities_valid = model.predict_proba(features_valid)[:, 1]\n",
    "    auc_roc = roc_auc_score(target_valid, probabilities_valid)\n",
    "\n",
    "    print(f\"n_estimators={n}: F1={f1_ba:.3f}, AUC-ROC={auc_roc:.3f}\")"
   ]
  },
  {
   "cell_type": "markdown",
   "metadata": {},
   "source": [
    "**Regresión logística**"
   ]
  },
  {
   "cell_type": "code",
   "execution_count": 20,
   "metadata": {
    "trusted": false
   },
   "outputs": [
    {
     "name": "stdout",
     "output_type": "stream",
     "text": [
      "Regresión Logística - F1=0.4447, AUC-ROC=0.7552\n"
     ]
    }
   ],
   "source": [
    "model = LogisticRegression(random_state=42, solver='liblinear')\n",
    "model.fit(features_train_balanced_sub,target_train_balanced_sub)\n",
    "\n",
    "# Predicción para F1\n",
    "predictions_valid = model.predict(features_valid)\n",
    "f1_rl = f1_score(target_valid, predictions_valid)\n",
    "\n",
    "# Probabilidades para AUC-ROC\n",
    "probabilities_valid = model.predict_proba(features_valid)[:, 1]\n",
    "auc_roc = roc_auc_score(target_valid, probabilities_valid)\n",
    "\n",
    "print(f\"Regresión Logística - F1={f1_rl:.4f}, AUC-ROC={auc_roc:.4f}\")"
   ]
  },
  {
   "cell_type": "markdown",
   "metadata": {},
   "source": [
    "**Sobremuestreo**"
   ]
  },
  {
   "cell_type": "code",
   "execution_count": 21,
   "metadata": {
    "trusted": false
   },
   "outputs": [],
   "source": [
    "# Concatenamos features y target para hacer el muestreo\n",
    "train_data = pd.concat([features_train, target_train], axis=1)\n",
    "\n",
    "# Separar clases\n",
    "class_0 = train_data[train_data['exited'] == 0]\n",
    "class_1 = train_data[train_data['exited'] == 1]\n",
    "\n",
    "# Sobremuestrear la clase minoritaria\n",
    "class_1_upsampled = resample(class_1, \n",
    "                             replace=True, \n",
    "                             n_samples=len(class_0), \n",
    "                             random_state=42)\n",
    "\n",
    "# Combinar clases balanceadas\n",
    "train_data_balanced = pd.concat([class_0, class_1_upsampled])\n",
    "\n",
    "# Mezclar aleatoriamente\n",
    "train_data_balanced = shuffle(train_data_balanced, random_state=42)\n",
    "\n",
    "# Separar nuevamente features y target\n",
    "features_train_balanced_sobre = train_data_balanced.drop('exited', axis=1)\n",
    "target_train_balanced_sobre = train_data_balanced['exited']"
   ]
  },
  {
   "cell_type": "markdown",
   "metadata": {},
   "source": [
    "**Arbol de decisión**"
   ]
  },
  {
   "cell_type": "code",
   "execution_count": 22,
   "metadata": {
    "trusted": false
   },
   "outputs": [
    {
     "name": "stdout",
     "output_type": "stream",
     "text": [
      "max_depth=1: F1=0.437, AUC-ROC=0.672\n",
      "max_depth=2: F1=0.453, AUC-ROC=0.727\n",
      "max_depth=3: F1=0.453, AUC-ROC=0.775\n",
      "max_depth=4: F1=0.527, AUC-ROC=0.799\n",
      "max_depth=5: F1=0.522, AUC-ROC=0.813\n",
      "max_depth=6: F1=0.546, AUC-ROC=0.822\n",
      "max_depth=7: F1=0.526, AUC-ROC=0.806\n",
      "max_depth=8: F1=0.508, AUC-ROC=0.789\n",
      "max_depth=9: F1=0.483, AUC-ROC=0.773\n",
      "max_depth=10: F1=0.495, AUC-ROC=0.750\n"
     ]
    }
   ],
   "source": [
    "for depth in range(1,11):\n",
    "    model = DecisionTreeClassifier(random_state=42, max_depth=depth)\n",
    "    model.fit(features_train_balanced_sobre,target_train_balanced_sobre)\n",
    "    \n",
    "    # Predicción para calcular F1\n",
    "    predictions_valid = model.predict(features_valid)\n",
    "    f1_ad = f1_score(target_valid,predictions_valid)\n",
    "    \n",
    "    # Probabilidades para calcular AUC-ROC (necesita probabilidades, no etiquetas)\n",
    "    probabilities_valid = model.predict_proba(features_valid)[:, 1]  # Tomamos la columna de probabilidad para la clase 1\n",
    "    auc_roc = roc_auc_score(target_valid, probabilities_valid)\n",
    "\n",
    "    print(f\"max_depth={depth}: F1={f1_ad:.3f}, AUC-ROC={auc_roc:.3f}\")"
   ]
  },
  {
   "cell_type": "markdown",
   "metadata": {},
   "source": [
    "**Bosque aleatorio**"
   ]
  },
  {
   "cell_type": "code",
   "execution_count": 23,
   "metadata": {
    "trusted": false
   },
   "outputs": [
    {
     "name": "stdout",
     "output_type": "stream",
     "text": [
      "n_estimators=10: F1=0.564, AUC-ROC=0.827\n",
      "n_estimators=20: F1=0.542, AUC-ROC=0.829\n",
      "n_estimators=30: F1=0.568, AUC-ROC=0.840\n",
      "n_estimators=40: F1=0.575, AUC-ROC=0.842\n",
      "n_estimators=50: F1=0.584, AUC-ROC=0.846\n",
      "n_estimators=60: F1=0.578, AUC-ROC=0.848\n",
      "n_estimators=70: F1=0.593, AUC-ROC=0.849\n",
      "n_estimators=80: F1=0.586, AUC-ROC=0.851\n",
      "n_estimators=90: F1=0.584, AUC-ROC=0.851\n",
      "n_estimators=100: F1=0.575, AUC-ROC=0.852\n"
     ]
    }
   ],
   "source": [
    "for n in range(10,101,10):\n",
    "    model = RandomForestClassifier(random_state=42, n_estimators=n)\n",
    "    model.fit(features_train_balanced_sobre,target_train_balanced_sobre)\n",
    "    \n",
    "    # Predicción para F1\n",
    "    predictions_valid = model.predict(features_valid)\n",
    "    f1_ba = f1_score(target_valid,predictions_valid)\n",
    "    \n",
    "    # Probabilidades para AUC-ROC\n",
    "    probabilities_valid = model.predict_proba(features_valid)[:, 1]\n",
    "    auc_roc = roc_auc_score(target_valid, probabilities_valid)\n",
    "\n",
    "    print(f\"n_estimators={n}: F1={f1_ba:.3f}, AUC-ROC={auc_roc:.3f}\")"
   ]
  },
  {
   "cell_type": "markdown",
   "metadata": {},
   "source": [
    "**Regresión logística**"
   ]
  },
  {
   "cell_type": "code",
   "execution_count": 24,
   "metadata": {
    "trusted": false
   },
   "outputs": [
    {
     "name": "stdout",
     "output_type": "stream",
     "text": [
      "Regresión Logística - F1=0.4434, AUC-ROC=0.7559\n"
     ]
    }
   ],
   "source": [
    "model = LogisticRegression(random_state=42, solver='liblinear')\n",
    "model.fit(features_train_balanced_sobre,target_train_balanced_sobre)\n",
    "\n",
    "# Predicción para F1\n",
    "predictions_valid = model.predict(features_valid)\n",
    "f1_rl = f1_score(target_valid, predictions_valid)\n",
    "\n",
    "# Probabilidades para AUC-ROC\n",
    "probabilities_valid = model.predict_proba(features_valid)[:, 1]\n",
    "auc_roc = roc_auc_score(target_valid, probabilities_valid)\n",
    "\n",
    "print(f\"Regresión Logística - F1={f1_rl:.4f}, AUC-ROC={auc_roc:.4f}\")"
   ]
  },
  {
   "cell_type": "markdown",
   "metadata": {},
   "source": [
    "Después de realizar técnicas de desbalance de clases, se determinó que el sobre muestreo es que el mejor se adapta al modelo, el que tiene mejor F1. "
   ]
  },
  {
   "cell_type": "markdown",
   "metadata": {},
   "source": [
    "**Prueba final**"
   ]
  },
  {
   "cell_type": "code",
   "execution_count": 27,
   "metadata": {
    "trusted": false
   },
   "outputs": [
    {
     "name": "stdout",
     "output_type": "stream",
     "text": [
      "F1 final en prueba: 0.602\n",
      "AUC-ROC final en prueba: 0.848\n"
     ]
    }
   ],
   "source": [
    "# Mejor modelo encontrado \n",
    "best_model = RandomForestClassifier(random_state=42, n_estimators=70)\n",
    "best_model.fit(features_train_balanced_sobre,target_train_balanced_sobre)\n",
    "\n",
    "# Predicciones en el conjunto de prueba\n",
    "predictions_test = best_model.predict(features_test)\n",
    "\n",
    "# Calcular métricas finales\n",
    "f1_test = f1_score(target_test, predictions_test)\n",
    "probabilities_test = best_model.predict_proba(features_test)[:, 1]\n",
    "auc_roc_test = roc_auc_score(target_test, probabilities_test)\n",
    "\n",
    "print(f\"F1 final en prueba: {f1_test:.3f}\")\n",
    "print(f\"AUC-ROC final en prueba: {auc_roc_test:.3f}\")"
   ]
  },
  {
   "cell_type": "markdown",
   "metadata": {},
   "source": [
    "El modelo alcanzó una métrica de F1 superior a 0.59, que era el umbral establecido. Esta métrica es muy útil en situaciones con clases desbalanceadas, ya que considera tanto la precisión como la exhaustividad (recall) del modelo."
   ]
  }
 ],
 "metadata": {
  "ExecuteTimeLog": [
   {
    "duration": 1025,
    "start_time": "2025-02-25T19:48:33.602Z"
   },
   {
    "duration": 35,
    "start_time": "2025-02-25T19:53:18.208Z"
   },
   {
    "duration": 4,
    "start_time": "2025-02-25T19:53:21.136Z"
   },
   {
    "duration": 425,
    "start_time": "2025-02-25T19:56:03.015Z"
   },
   {
    "duration": 62,
    "start_time": "2025-02-25T19:56:13.057Z"
   },
   {
    "duration": 37,
    "start_time": "2025-02-25T19:56:44.777Z"
   },
   {
    "duration": 24,
    "start_time": "2025-02-25T19:56:58.258Z"
   },
   {
    "duration": 24,
    "start_time": "2025-02-25T19:57:09.234Z"
   },
   {
    "duration": 31,
    "start_time": "2025-02-25T19:57:33.440Z"
   },
   {
    "duration": 29,
    "start_time": "2025-02-25T19:58:05.997Z"
   },
   {
    "duration": 10,
    "start_time": "2025-02-25T19:58:18.067Z"
   },
   {
    "duration": 4,
    "start_time": "2025-02-25T20:06:20.340Z"
   },
   {
    "duration": 5,
    "start_time": "2025-02-25T20:09:30.681Z"
   },
   {
    "duration": 5,
    "start_time": "2025-02-25T20:10:58.690Z"
   },
   {
    "duration": 12,
    "start_time": "2025-02-25T20:11:17.298Z"
   },
   {
    "duration": 161,
    "start_time": "2025-02-26T01:02:56.904Z"
   },
   {
    "duration": 818,
    "start_time": "2025-02-26T01:03:10.129Z"
   },
   {
    "duration": 35,
    "start_time": "2025-02-26T01:03:10.949Z"
   },
   {
    "duration": 27,
    "start_time": "2025-02-26T01:03:10.985Z"
   },
   {
    "duration": 14,
    "start_time": "2025-02-26T01:03:11.014Z"
   },
   {
    "duration": 4,
    "start_time": "2025-02-26T01:03:11.031Z"
   },
   {
    "duration": 6,
    "start_time": "2025-02-26T01:03:11.037Z"
   },
   {
    "duration": 11,
    "start_time": "2025-02-26T01:03:11.045Z"
   },
   {
    "duration": 897,
    "start_time": "2025-02-26T01:03:11.057Z"
   },
   {
    "duration": 748,
    "start_time": "2025-02-26T03:06:41.685Z"
   },
   {
    "duration": 35,
    "start_time": "2025-02-26T03:06:42.435Z"
   },
   {
    "duration": 27,
    "start_time": "2025-02-26T03:06:42.471Z"
   },
   {
    "duration": 10,
    "start_time": "2025-02-26T03:06:42.499Z"
   },
   {
    "duration": 5,
    "start_time": "2025-02-26T03:06:42.511Z"
   },
   {
    "duration": 4,
    "start_time": "2025-02-26T03:06:42.518Z"
   },
   {
    "duration": 11,
    "start_time": "2025-02-26T03:06:42.524Z"
   },
   {
    "duration": 254,
    "start_time": "2025-02-26T03:06:42.536Z"
   },
   {
    "duration": 7,
    "start_time": "2025-02-26T03:06:58.260Z"
   },
   {
    "duration": 853,
    "start_time": "2025-02-27T21:46:29.626Z"
   },
   {
    "duration": 47,
    "start_time": "2025-02-27T21:46:30.481Z"
   },
   {
    "duration": 36,
    "start_time": "2025-02-27T21:46:30.529Z"
   },
   {
    "duration": 11,
    "start_time": "2025-02-27T21:46:30.567Z"
   },
   {
    "duration": 5,
    "start_time": "2025-02-27T21:46:30.581Z"
   },
   {
    "duration": 6,
    "start_time": "2025-02-27T21:46:30.587Z"
   },
   {
    "duration": 42,
    "start_time": "2025-02-27T21:46:30.594Z"
   },
   {
    "duration": 8,
    "start_time": "2025-02-27T21:46:30.638Z"
   },
   {
    "duration": 8,
    "start_time": "2025-02-27T22:22:01.000Z"
   },
   {
    "duration": 6,
    "start_time": "2025-02-27T22:22:13.048Z"
   },
   {
    "duration": 17,
    "start_time": "2025-02-27T22:23:17.331Z"
   },
   {
    "duration": 317,
    "start_time": "2025-02-27T23:00:56.574Z"
   },
   {
    "duration": 45,
    "start_time": "2025-02-27T23:36:28.443Z"
   },
   {
    "duration": 35,
    "start_time": "2025-02-27T23:38:02.663Z"
   },
   {
    "duration": 16,
    "start_time": "2025-02-27T23:38:17.662Z"
   },
   {
    "duration": 16,
    "start_time": "2025-02-27T23:49:43.172Z"
   },
   {
    "duration": 17,
    "start_time": "2025-02-27T23:50:57.916Z"
   },
   {
    "duration": 15,
    "start_time": "2025-02-27T23:56:51.000Z"
   },
   {
    "duration": 443,
    "start_time": "2025-02-27T23:56:56.517Z"
   },
   {
    "duration": 59,
    "start_time": "2025-02-27T23:57:29.587Z"
   },
   {
    "duration": 17,
    "start_time": "2025-02-27T23:59:16.664Z"
   },
   {
    "duration": 27,
    "start_time": "2025-02-27T23:59:24.154Z"
   },
   {
    "duration": 915,
    "start_time": "2025-02-28T00:00:56.497Z"
   },
   {
    "duration": 30,
    "start_time": "2025-02-28T00:00:57.415Z"
   },
   {
    "duration": 37,
    "start_time": "2025-02-28T00:00:57.448Z"
   },
   {
    "duration": 11,
    "start_time": "2025-02-28T00:00:57.487Z"
   },
   {
    "duration": 24,
    "start_time": "2025-02-28T00:00:57.501Z"
   },
   {
    "duration": 9,
    "start_time": "2025-02-28T00:00:57.527Z"
   },
   {
    "duration": 14,
    "start_time": "2025-02-28T00:00:57.538Z"
   },
   {
    "duration": 11,
    "start_time": "2025-02-28T00:00:57.554Z"
   },
   {
    "duration": 8,
    "start_time": "2025-02-28T00:00:57.567Z"
   },
   {
    "duration": 54,
    "start_time": "2025-02-28T00:00:57.577Z"
   },
   {
    "duration": 6,
    "start_time": "2025-02-28T00:01:28.845Z"
   },
   {
    "duration": 5,
    "start_time": "2025-02-28T00:01:46.536Z"
   },
   {
    "duration": 6,
    "start_time": "2025-02-28T00:02:06.301Z"
   },
   {
    "duration": 21,
    "start_time": "2025-02-28T00:02:27.469Z"
   },
   {
    "duration": 24,
    "start_time": "2025-02-28T00:02:32.343Z"
   },
   {
    "duration": 23,
    "start_time": "2025-02-28T00:02:48.454Z"
   },
   {
    "duration": 19,
    "start_time": "2025-02-28T00:02:57.663Z"
   },
   {
    "duration": 870,
    "start_time": "2025-02-28T00:05:09.092Z"
   },
   {
    "duration": 31,
    "start_time": "2025-02-28T00:05:09.964Z"
   },
   {
    "duration": 39,
    "start_time": "2025-02-28T00:05:09.997Z"
   },
   {
    "duration": 10,
    "start_time": "2025-02-28T00:05:10.038Z"
   },
   {
    "duration": 4,
    "start_time": "2025-02-28T00:05:10.051Z"
   },
   {
    "duration": 5,
    "start_time": "2025-02-28T00:05:10.057Z"
   },
   {
    "duration": 12,
    "start_time": "2025-02-28T00:05:10.065Z"
   },
   {
    "duration": 10,
    "start_time": "2025-02-28T00:05:10.078Z"
   },
   {
    "duration": 60,
    "start_time": "2025-02-28T00:05:10.090Z"
   },
   {
    "duration": 26,
    "start_time": "2025-02-28T00:05:10.152Z"
   },
   {
    "duration": 19,
    "start_time": "2025-02-28T00:05:51.724Z"
   },
   {
    "duration": 26,
    "start_time": "2025-02-28T00:05:53.059Z"
   },
   {
    "duration": 21,
    "start_time": "2025-02-28T00:05:54.478Z"
   },
   {
    "duration": 5,
    "start_time": "2025-02-28T00:16:31.458Z"
   },
   {
    "duration": 764,
    "start_time": "2025-02-28T00:17:38.895Z"
   },
   {
    "duration": 28,
    "start_time": "2025-02-28T00:17:39.661Z"
   },
   {
    "duration": 37,
    "start_time": "2025-02-28T00:17:39.691Z"
   },
   {
    "duration": 10,
    "start_time": "2025-02-28T00:17:39.730Z"
   },
   {
    "duration": 4,
    "start_time": "2025-02-28T00:17:39.741Z"
   },
   {
    "duration": 5,
    "start_time": "2025-02-28T00:17:39.747Z"
   },
   {
    "duration": 12,
    "start_time": "2025-02-28T00:17:39.754Z"
   },
   {
    "duration": 8,
    "start_time": "2025-02-28T00:17:39.767Z"
   },
   {
    "duration": 5,
    "start_time": "2025-02-28T00:17:39.776Z"
   },
   {
    "duration": 42,
    "start_time": "2025-02-28T00:17:39.783Z"
   },
   {
    "duration": 6,
    "start_time": "2025-02-28T00:17:39.826Z"
   },
   {
    "duration": 25,
    "start_time": "2025-02-28T00:17:39.833Z"
   },
   {
    "duration": 21,
    "start_time": "2025-02-28T00:17:39.861Z"
   },
   {
    "duration": 778,
    "start_time": "2025-02-28T00:18:57.184Z"
   },
   {
    "duration": 30,
    "start_time": "2025-02-28T00:18:57.964Z"
   },
   {
    "duration": 34,
    "start_time": "2025-02-28T00:18:57.996Z"
   },
   {
    "duration": 12,
    "start_time": "2025-02-28T00:18:58.033Z"
   },
   {
    "duration": 5,
    "start_time": "2025-02-28T00:18:58.046Z"
   },
   {
    "duration": 5,
    "start_time": "2025-02-28T00:18:58.052Z"
   },
   {
    "duration": 11,
    "start_time": "2025-02-28T00:18:58.058Z"
   },
   {
    "duration": 7,
    "start_time": "2025-02-28T00:18:58.071Z"
   },
   {
    "duration": 630,
    "start_time": "2025-02-28T00:18:58.080Z"
   },
   {
    "duration": 0,
    "start_time": "2025-02-28T00:18:58.712Z"
   },
   {
    "duration": 0,
    "start_time": "2025-02-28T00:18:58.713Z"
   },
   {
    "duration": 0,
    "start_time": "2025-02-28T00:18:58.714Z"
   },
   {
    "duration": 0,
    "start_time": "2025-02-28T00:18:58.715Z"
   },
   {
    "duration": 725,
    "start_time": "2025-02-28T00:19:11.708Z"
   },
   {
    "duration": 26,
    "start_time": "2025-02-28T00:19:12.435Z"
   },
   {
    "duration": 27,
    "start_time": "2025-02-28T00:19:12.464Z"
   },
   {
    "duration": 9,
    "start_time": "2025-02-28T00:19:12.493Z"
   },
   {
    "duration": 4,
    "start_time": "2025-02-28T00:19:12.523Z"
   },
   {
    "duration": 4,
    "start_time": "2025-02-28T00:19:12.529Z"
   },
   {
    "duration": 12,
    "start_time": "2025-02-28T00:19:12.535Z"
   },
   {
    "duration": 7,
    "start_time": "2025-02-28T00:19:12.549Z"
   },
   {
    "duration": 5,
    "start_time": "2025-02-28T00:19:12.557Z"
   },
   {
    "duration": 4,
    "start_time": "2025-02-28T00:19:12.564Z"
   },
   {
    "duration": 4,
    "start_time": "2025-02-28T00:19:12.569Z"
   },
   {
    "duration": 65,
    "start_time": "2025-02-28T00:19:12.575Z"
   },
   {
    "duration": 21,
    "start_time": "2025-02-28T00:19:12.642Z"
   },
   {
    "duration": 774,
    "start_time": "2025-02-28T00:21:54.707Z"
   },
   {
    "duration": 27,
    "start_time": "2025-02-28T00:21:55.483Z"
   },
   {
    "duration": 33,
    "start_time": "2025-02-28T00:21:55.511Z"
   },
   {
    "duration": 11,
    "start_time": "2025-02-28T00:21:55.546Z"
   },
   {
    "duration": 5,
    "start_time": "2025-02-28T00:21:55.559Z"
   },
   {
    "duration": 5,
    "start_time": "2025-02-28T00:21:55.565Z"
   },
   {
    "duration": 13,
    "start_time": "2025-02-28T00:21:55.571Z"
   },
   {
    "duration": 42,
    "start_time": "2025-02-28T00:21:55.586Z"
   },
   {
    "duration": 5,
    "start_time": "2025-02-28T00:21:55.630Z"
   },
   {
    "duration": 5,
    "start_time": "2025-02-28T00:21:55.637Z"
   },
   {
    "duration": 5,
    "start_time": "2025-02-28T00:21:55.643Z"
   },
   {
    "duration": 25,
    "start_time": "2025-02-28T00:21:55.649Z"
   },
   {
    "duration": 57,
    "start_time": "2025-02-28T00:21:55.676Z"
   },
   {
    "duration": 161,
    "start_time": "2025-02-28T00:50:35.124Z"
   },
   {
    "duration": 63,
    "start_time": "2025-02-28T00:52:12.925Z"
   },
   {
    "duration": 634,
    "start_time": "2025-02-28T01:01:56.534Z"
   },
   {
    "duration": 744,
    "start_time": "2025-02-28T01:03:00.619Z"
   },
   {
    "duration": 26,
    "start_time": "2025-02-28T01:03:01.365Z"
   },
   {
    "duration": 36,
    "start_time": "2025-02-28T01:03:01.392Z"
   },
   {
    "duration": 9,
    "start_time": "2025-02-28T01:03:01.431Z"
   },
   {
    "duration": 5,
    "start_time": "2025-02-28T01:03:01.441Z"
   },
   {
    "duration": 5,
    "start_time": "2025-02-28T01:03:01.448Z"
   },
   {
    "duration": 11,
    "start_time": "2025-02-28T01:03:01.454Z"
   },
   {
    "duration": 6,
    "start_time": "2025-02-28T01:03:01.467Z"
   },
   {
    "duration": 63,
    "start_time": "2025-02-28T01:03:01.474Z"
   },
   {
    "duration": 22,
    "start_time": "2025-02-28T01:03:01.539Z"
   },
   {
    "duration": 157,
    "start_time": "2025-02-28T01:55:59.544Z"
   },
   {
    "duration": 778,
    "start_time": "2025-02-28T01:59:55.774Z"
   },
   {
    "duration": 29,
    "start_time": "2025-02-28T01:59:56.554Z"
   },
   {
    "duration": 28,
    "start_time": "2025-02-28T01:59:56.584Z"
   },
   {
    "duration": 11,
    "start_time": "2025-02-28T01:59:56.623Z"
   },
   {
    "duration": 4,
    "start_time": "2025-02-28T01:59:56.637Z"
   },
   {
    "duration": 5,
    "start_time": "2025-02-28T01:59:56.642Z"
   },
   {
    "duration": 11,
    "start_time": "2025-02-28T01:59:56.648Z"
   },
   {
    "duration": 25,
    "start_time": "2025-02-28T01:59:56.660Z"
   },
   {
    "duration": 51,
    "start_time": "2025-02-28T01:59:56.686Z"
   },
   {
    "duration": 6,
    "start_time": "2025-02-28T01:59:56.739Z"
   },
   {
    "duration": 399,
    "start_time": "2025-02-28T01:59:56.748Z"
   },
   {
    "duration": 807,
    "start_time": "2025-02-28T02:00:25.524Z"
   },
   {
    "duration": 26,
    "start_time": "2025-02-28T02:00:26.333Z"
   },
   {
    "duration": 28,
    "start_time": "2025-02-28T02:00:26.361Z"
   },
   {
    "duration": 9,
    "start_time": "2025-02-28T02:00:26.391Z"
   },
   {
    "duration": 24,
    "start_time": "2025-02-28T02:00:26.402Z"
   },
   {
    "duration": 5,
    "start_time": "2025-02-28T02:00:26.427Z"
   },
   {
    "duration": 11,
    "start_time": "2025-02-28T02:00:26.434Z"
   },
   {
    "duration": 23,
    "start_time": "2025-02-28T02:00:26.447Z"
   },
   {
    "duration": 21,
    "start_time": "2025-02-28T02:00:26.472Z"
   },
   {
    "duration": 33,
    "start_time": "2025-02-28T02:00:26.495Z"
   },
   {
    "duration": 381,
    "start_time": "2025-02-28T02:00:26.529Z"
   },
   {
    "duration": 723,
    "start_time": "2025-02-28T02:05:54.812Z"
   },
   {
    "duration": 26,
    "start_time": "2025-02-28T02:05:55.537Z"
   },
   {
    "duration": 27,
    "start_time": "2025-02-28T02:05:55.564Z"
   },
   {
    "duration": 9,
    "start_time": "2025-02-28T02:05:55.593Z"
   },
   {
    "duration": 4,
    "start_time": "2025-02-28T02:05:55.623Z"
   },
   {
    "duration": 4,
    "start_time": "2025-02-28T02:05:55.629Z"
   },
   {
    "duration": 11,
    "start_time": "2025-02-28T02:05:55.635Z"
   },
   {
    "duration": 24,
    "start_time": "2025-02-28T02:05:55.648Z"
   },
   {
    "duration": 51,
    "start_time": "2025-02-28T02:05:55.673Z"
   },
   {
    "duration": 6,
    "start_time": "2025-02-28T02:05:55.727Z"
   },
   {
    "duration": 382,
    "start_time": "2025-02-28T02:05:55.734Z"
   },
   {
    "duration": 778,
    "start_time": "2025-02-28T14:29:36.737Z"
   },
   {
    "duration": 37,
    "start_time": "2025-02-28T14:29:37.518Z"
   },
   {
    "duration": 31,
    "start_time": "2025-02-28T14:29:37.557Z"
   },
   {
    "duration": 9,
    "start_time": "2025-02-28T14:29:37.590Z"
   },
   {
    "duration": 5,
    "start_time": "2025-02-28T14:29:37.601Z"
   },
   {
    "duration": 5,
    "start_time": "2025-02-28T14:29:37.607Z"
   },
   {
    "duration": 12,
    "start_time": "2025-02-28T14:29:37.613Z"
   },
   {
    "duration": 26,
    "start_time": "2025-02-28T14:29:37.626Z"
   },
   {
    "duration": 22,
    "start_time": "2025-02-28T14:29:37.686Z"
   },
   {
    "duration": 7,
    "start_time": "2025-02-28T14:29:37.710Z"
   },
   {
    "duration": 404,
    "start_time": "2025-02-28T14:29:37.719Z"
   },
   {
    "duration": 754,
    "start_time": "2025-02-28T16:05:38.309Z"
   },
   {
    "duration": 39,
    "start_time": "2025-02-28T16:05:39.065Z"
   },
   {
    "duration": 28,
    "start_time": "2025-02-28T16:05:39.105Z"
   },
   {
    "duration": 10,
    "start_time": "2025-02-28T16:05:39.135Z"
   },
   {
    "duration": 4,
    "start_time": "2025-02-28T16:05:39.147Z"
   },
   {
    "duration": 4,
    "start_time": "2025-02-28T16:05:39.153Z"
   },
   {
    "duration": 4,
    "start_time": "2025-02-28T16:05:39.159Z"
   },
   {
    "duration": 11,
    "start_time": "2025-02-28T16:05:39.165Z"
   },
   {
    "duration": 10,
    "start_time": "2025-02-28T16:05:39.177Z"
   },
   {
    "duration": 23,
    "start_time": "2025-02-28T16:05:39.224Z"
   },
   {
    "duration": 22,
    "start_time": "2025-02-28T16:05:39.248Z"
   },
   {
    "duration": 6,
    "start_time": "2025-02-28T16:05:39.272Z"
   },
   {
    "duration": 236,
    "start_time": "2025-02-28T16:05:39.280Z"
   },
   {
    "duration": 4612,
    "start_time": "2025-02-28T16:20:20.887Z"
   },
   {
    "duration": 4545,
    "start_time": "2025-02-28T16:20:40.539Z"
   },
   {
    "duration": 19,
    "start_time": "2025-02-28T16:22:01.866Z"
   },
   {
    "duration": 769,
    "start_time": "2025-02-28T16:36:40.173Z"
   },
   {
    "duration": 27,
    "start_time": "2025-02-28T16:36:40.944Z"
   },
   {
    "duration": 27,
    "start_time": "2025-02-28T16:36:40.973Z"
   },
   {
    "duration": 26,
    "start_time": "2025-02-28T16:36:41.002Z"
   },
   {
    "duration": 4,
    "start_time": "2025-02-28T16:36:41.030Z"
   },
   {
    "duration": 4,
    "start_time": "2025-02-28T16:36:41.036Z"
   },
   {
    "duration": 4,
    "start_time": "2025-02-28T16:36:41.042Z"
   },
   {
    "duration": 12,
    "start_time": "2025-02-28T16:36:41.047Z"
   },
   {
    "duration": 9,
    "start_time": "2025-02-28T16:36:41.061Z"
   },
   {
    "duration": 54,
    "start_time": "2025-02-28T16:36:41.072Z"
   },
   {
    "duration": 23,
    "start_time": "2025-02-28T16:36:41.127Z"
   },
   {
    "duration": 7,
    "start_time": "2025-02-28T16:36:41.151Z"
   },
   {
    "duration": 240,
    "start_time": "2025-02-28T16:36:41.159Z"
   },
   {
    "duration": 4556,
    "start_time": "2025-02-28T16:36:41.402Z"
   },
   {
    "duration": 14,
    "start_time": "2025-02-28T16:36:45.960Z"
   },
   {
    "duration": 767,
    "start_time": "2025-02-28T16:48:08.677Z"
   },
   {
    "duration": 27,
    "start_time": "2025-02-28T16:48:09.446Z"
   },
   {
    "duration": 27,
    "start_time": "2025-02-28T16:48:09.475Z"
   },
   {
    "duration": 25,
    "start_time": "2025-02-28T16:48:09.505Z"
   },
   {
    "duration": 5,
    "start_time": "2025-02-28T16:48:09.532Z"
   },
   {
    "duration": 7,
    "start_time": "2025-02-28T16:48:09.538Z"
   },
   {
    "duration": 4,
    "start_time": "2025-02-28T16:48:09.546Z"
   },
   {
    "duration": 11,
    "start_time": "2025-02-28T16:48:09.553Z"
   },
   {
    "duration": 9,
    "start_time": "2025-02-28T16:48:09.566Z"
   },
   {
    "duration": 57,
    "start_time": "2025-02-28T16:48:09.578Z"
   },
   {
    "duration": 22,
    "start_time": "2025-02-28T16:48:09.636Z"
   },
   {
    "duration": 6,
    "start_time": "2025-02-28T16:48:09.660Z"
   },
   {
    "duration": 246,
    "start_time": "2025-02-28T16:48:09.667Z"
   },
   {
    "duration": 4538,
    "start_time": "2025-02-28T16:48:09.915Z"
   },
   {
    "duration": 13,
    "start_time": "2025-02-28T16:48:14.455Z"
   },
   {
    "duration": 4731,
    "start_time": "2025-02-28T16:54:22.507Z"
   },
   {
    "duration": 16,
    "start_time": "2025-02-28T16:55:10.080Z"
   },
   {
    "duration": 15,
    "start_time": "2025-02-28T19:47:37.178Z"
   },
   {
    "duration": 122,
    "start_time": "2025-02-28T19:51:19.682Z"
   },
   {
    "duration": 2308,
    "start_time": "2025-02-28T19:52:20.480Z"
   },
   {
    "duration": 783,
    "start_time": "2025-02-28T19:54:14.660Z"
   },
   {
    "duration": 27,
    "start_time": "2025-02-28T19:54:15.445Z"
   },
   {
    "duration": 28,
    "start_time": "2025-02-28T19:54:15.473Z"
   },
   {
    "duration": 23,
    "start_time": "2025-02-28T19:54:15.503Z"
   },
   {
    "duration": 5,
    "start_time": "2025-02-28T19:54:15.528Z"
   },
   {
    "duration": 5,
    "start_time": "2025-02-28T19:54:15.535Z"
   },
   {
    "duration": 4,
    "start_time": "2025-02-28T19:54:15.542Z"
   },
   {
    "duration": 15,
    "start_time": "2025-02-28T19:54:15.548Z"
   },
   {
    "duration": 11,
    "start_time": "2025-02-28T19:54:15.564Z"
   },
   {
    "duration": 64,
    "start_time": "2025-02-28T19:54:15.578Z"
   },
   {
    "duration": 21,
    "start_time": "2025-02-28T19:54:15.644Z"
   },
   {
    "duration": 6,
    "start_time": "2025-02-28T19:54:15.667Z"
   },
   {
    "duration": 255,
    "start_time": "2025-02-28T19:54:15.675Z"
   },
   {
    "duration": 4775,
    "start_time": "2025-02-28T19:54:15.932Z"
   },
   {
    "duration": 26,
    "start_time": "2025-02-28T19:54:20.709Z"
   },
   {
    "duration": 10,
    "start_time": "2025-02-28T19:54:20.736Z"
   },
   {
    "duration": 208,
    "start_time": "2025-02-28T19:54:20.747Z"
   },
   {
    "duration": 1745,
    "start_time": "2025-02-28T19:54:20.957Z"
   },
   {
    "duration": 227,
    "start_time": "2025-02-28T19:54:22.703Z"
   },
   {
    "duration": 6,
    "start_time": "2025-02-28T19:55:34.677Z"
   },
   {
    "duration": 5,
    "start_time": "2025-02-28T19:55:45.845Z"
   },
   {
    "duration": 831,
    "start_time": "2025-02-28T19:56:26.942Z"
   },
   {
    "duration": 28,
    "start_time": "2025-02-28T19:56:27.775Z"
   },
   {
    "duration": 42,
    "start_time": "2025-02-28T19:56:27.805Z"
   },
   {
    "duration": 13,
    "start_time": "2025-02-28T19:56:27.849Z"
   },
   {
    "duration": 5,
    "start_time": "2025-02-28T19:56:27.865Z"
   },
   {
    "duration": 7,
    "start_time": "2025-02-28T19:56:27.872Z"
   },
   {
    "duration": 5,
    "start_time": "2025-02-28T19:56:27.882Z"
   },
   {
    "duration": 42,
    "start_time": "2025-02-28T19:56:27.889Z"
   },
   {
    "duration": 10,
    "start_time": "2025-02-28T19:56:27.934Z"
   },
   {
    "duration": 24,
    "start_time": "2025-02-28T19:56:27.945Z"
   },
   {
    "duration": 23,
    "start_time": "2025-02-28T19:56:27.971Z"
   },
   {
    "duration": 32,
    "start_time": "2025-02-28T19:56:27.995Z"
   },
   {
    "duration": 247,
    "start_time": "2025-02-28T19:56:28.028Z"
   },
   {
    "duration": 4804,
    "start_time": "2025-02-28T19:56:28.278Z"
   },
   {
    "duration": 41,
    "start_time": "2025-02-28T19:56:33.083Z"
   },
   {
    "duration": 8,
    "start_time": "2025-02-28T19:56:33.126Z"
   },
   {
    "duration": 13,
    "start_time": "2025-02-28T19:56:33.135Z"
   },
   {
    "duration": 219,
    "start_time": "2025-02-28T19:56:33.149Z"
   },
   {
    "duration": 2341,
    "start_time": "2025-02-28T19:56:33.369Z"
   },
   {
    "duration": 230,
    "start_time": "2025-02-28T19:56:35.712Z"
   },
   {
    "duration": 782,
    "start_time": "2025-02-28T20:01:13.785Z"
   },
   {
    "duration": 26,
    "start_time": "2025-02-28T20:01:14.569Z"
   },
   {
    "duration": 41,
    "start_time": "2025-02-28T20:01:14.597Z"
   },
   {
    "duration": 9,
    "start_time": "2025-02-28T20:01:14.639Z"
   },
   {
    "duration": 4,
    "start_time": "2025-02-28T20:01:14.650Z"
   },
   {
    "duration": 5,
    "start_time": "2025-02-28T20:01:14.656Z"
   },
   {
    "duration": 3,
    "start_time": "2025-02-28T20:01:14.664Z"
   },
   {
    "duration": 11,
    "start_time": "2025-02-28T20:01:14.669Z"
   },
   {
    "duration": 9,
    "start_time": "2025-02-28T20:01:14.682Z"
   },
   {
    "duration": 24,
    "start_time": "2025-02-28T20:01:14.723Z"
   },
   {
    "duration": 22,
    "start_time": "2025-02-28T20:01:14.749Z"
   },
   {
    "duration": 6,
    "start_time": "2025-02-28T20:01:14.773Z"
   },
   {
    "duration": 265,
    "start_time": "2025-02-28T20:01:14.781Z"
   },
   {
    "duration": 4802,
    "start_time": "2025-02-28T20:01:15.049Z"
   },
   {
    "duration": 16,
    "start_time": "2025-02-28T20:01:19.853Z"
   },
   {
    "duration": 60,
    "start_time": "2025-02-28T20:01:19.871Z"
   },
   {
    "duration": 8,
    "start_time": "2025-02-28T20:01:19.933Z"
   },
   {
    "duration": 206,
    "start_time": "2025-02-28T20:01:19.942Z"
   },
   {
    "duration": 2344,
    "start_time": "2025-02-28T20:01:20.150Z"
   },
   {
    "duration": 31,
    "start_time": "2025-02-28T20:01:22.496Z"
   },
   {
    "duration": 11,
    "start_time": "2025-02-28T20:01:22.528Z"
   },
   {
    "duration": 834,
    "start_time": "2025-03-01T00:30:38.418Z"
   },
   {
    "duration": 38,
    "start_time": "2025-03-01T00:30:39.254Z"
   },
   {
    "duration": 28,
    "start_time": "2025-03-01T00:30:39.293Z"
   },
   {
    "duration": 10,
    "start_time": "2025-03-01T00:30:39.323Z"
   },
   {
    "duration": 4,
    "start_time": "2025-03-01T00:30:39.335Z"
   },
   {
    "duration": 5,
    "start_time": "2025-03-01T00:30:39.341Z"
   },
   {
    "duration": 4,
    "start_time": "2025-03-01T00:30:39.348Z"
   },
   {
    "duration": 13,
    "start_time": "2025-03-01T00:30:39.353Z"
   },
   {
    "duration": 41,
    "start_time": "2025-03-01T00:30:39.368Z"
   },
   {
    "duration": 24,
    "start_time": "2025-03-01T00:30:39.412Z"
   },
   {
    "duration": 23,
    "start_time": "2025-03-01T00:30:39.438Z"
   },
   {
    "duration": 8,
    "start_time": "2025-03-01T00:30:39.463Z"
   },
   {
    "duration": 256,
    "start_time": "2025-03-01T00:30:39.473Z"
   },
   {
    "duration": 4749,
    "start_time": "2025-03-01T00:30:39.731Z"
   },
   {
    "duration": 30,
    "start_time": "2025-03-01T00:30:44.481Z"
   },
   {
    "duration": 6,
    "start_time": "2025-03-01T00:30:44.513Z"
   },
   {
    "duration": 9,
    "start_time": "2025-03-01T00:30:44.521Z"
   },
   {
    "duration": 205,
    "start_time": "2025-03-01T00:30:44.532Z"
   },
   {
    "duration": 2325,
    "start_time": "2025-03-01T00:30:44.739Z"
   },
   {
    "duration": 13,
    "start_time": "2025-03-01T00:30:47.066Z"
   },
   {
    "duration": 11,
    "start_time": "2025-03-01T00:30:47.109Z"
   },
   {
    "duration": 292,
    "start_time": "2025-03-01T00:41:10.963Z"
   },
   {
    "duration": 15,
    "start_time": "2025-03-01T00:41:43.300Z"
   },
   {
    "duration": 18,
    "start_time": "2025-03-01T00:42:01.447Z"
   },
   {
    "duration": 6514,
    "start_time": "2025-03-01T00:42:34.448Z"
   },
   {
    "duration": 745,
    "start_time": "2025-03-01T00:44:08.794Z"
   },
   {
    "duration": 28,
    "start_time": "2025-03-01T00:44:09.541Z"
   },
   {
    "duration": 28,
    "start_time": "2025-03-01T00:44:09.570Z"
   },
   {
    "duration": 10,
    "start_time": "2025-03-01T00:44:09.610Z"
   },
   {
    "duration": 4,
    "start_time": "2025-03-01T00:44:09.623Z"
   },
   {
    "duration": 5,
    "start_time": "2025-03-01T00:44:09.629Z"
   },
   {
    "duration": 3,
    "start_time": "2025-03-01T00:44:09.636Z"
   },
   {
    "duration": 12,
    "start_time": "2025-03-01T00:44:09.641Z"
   },
   {
    "duration": 10,
    "start_time": "2025-03-01T00:44:09.654Z"
   },
   {
    "duration": 61,
    "start_time": "2025-03-01T00:44:09.668Z"
   },
   {
    "duration": 23,
    "start_time": "2025-03-01T00:44:09.730Z"
   },
   {
    "duration": 9,
    "start_time": "2025-03-01T00:44:09.755Z"
   },
   {
    "duration": 258,
    "start_time": "2025-03-01T00:44:09.766Z"
   },
   {
    "duration": 4749,
    "start_time": "2025-03-01T00:44:10.026Z"
   },
   {
    "duration": 42,
    "start_time": "2025-03-01T00:44:14.777Z"
   },
   {
    "duration": 6,
    "start_time": "2025-03-01T00:44:14.821Z"
   },
   {
    "duration": 10,
    "start_time": "2025-03-01T00:44:14.828Z"
   },
   {
    "duration": 214,
    "start_time": "2025-03-01T00:44:14.840Z"
   },
   {
    "duration": 2325,
    "start_time": "2025-03-01T00:44:15.055Z"
   },
   {
    "duration": 35,
    "start_time": "2025-03-01T00:44:17.382Z"
   },
   {
    "duration": 11,
    "start_time": "2025-03-01T00:44:17.419Z"
   },
   {
    "duration": 393,
    "start_time": "2025-03-01T00:44:17.432Z"
   },
   {
    "duration": 6500,
    "start_time": "2025-03-01T00:44:17.827Z"
   },
   {
    "duration": 21,
    "start_time": "2025-03-01T00:44:24.329Z"
   },
   {
    "duration": 823,
    "start_time": "2025-03-01T01:56:45.354Z"
   },
   {
    "duration": 39,
    "start_time": "2025-03-01T01:56:46.179Z"
   },
   {
    "duration": 29,
    "start_time": "2025-03-01T01:56:46.219Z"
   },
   {
    "duration": 10,
    "start_time": "2025-03-01T01:56:46.250Z"
   },
   {
    "duration": 5,
    "start_time": "2025-03-01T01:56:46.261Z"
   },
   {
    "duration": 5,
    "start_time": "2025-03-01T01:56:46.267Z"
   },
   {
    "duration": 4,
    "start_time": "2025-03-01T01:56:46.274Z"
   },
   {
    "duration": 11,
    "start_time": "2025-03-01T01:56:46.279Z"
   },
   {
    "duration": 10,
    "start_time": "2025-03-01T01:56:46.292Z"
   },
   {
    "duration": 24,
    "start_time": "2025-03-01T01:56:46.342Z"
   },
   {
    "duration": 22,
    "start_time": "2025-03-01T01:56:46.368Z"
   },
   {
    "duration": 6,
    "start_time": "2025-03-01T01:56:46.391Z"
   },
   {
    "duration": 256,
    "start_time": "2025-03-01T01:56:46.398Z"
   },
   {
    "duration": 4732,
    "start_time": "2025-03-01T01:56:46.655Z"
   },
   {
    "duration": 17,
    "start_time": "2025-03-01T01:56:51.389Z"
   },
   {
    "duration": 11,
    "start_time": "2025-03-01T01:56:51.444Z"
   },
   {
    "duration": 9,
    "start_time": "2025-03-01T01:56:51.456Z"
   },
   {
    "duration": 203,
    "start_time": "2025-03-01T01:56:51.466Z"
   },
   {
    "duration": 2318,
    "start_time": "2025-03-01T01:56:51.671Z"
   },
   {
    "duration": 13,
    "start_time": "2025-03-01T01:56:53.991Z"
   },
   {
    "duration": 44,
    "start_time": "2025-03-01T01:56:54.006Z"
   },
   {
    "duration": 401,
    "start_time": "2025-03-01T01:56:54.052Z"
   },
   {
    "duration": 6564,
    "start_time": "2025-03-01T01:56:54.455Z"
   },
   {
    "duration": 33,
    "start_time": "2025-03-01T01:57:01.021Z"
   },
   {
    "duration": 731,
    "start_time": "2025-03-01T02:33:13.419Z"
   },
   {
    "duration": 27,
    "start_time": "2025-03-01T02:33:14.153Z"
   },
   {
    "duration": 29,
    "start_time": "2025-03-01T02:33:14.182Z"
   },
   {
    "duration": 9,
    "start_time": "2025-03-01T02:33:14.213Z"
   },
   {
    "duration": 22,
    "start_time": "2025-03-01T02:33:14.224Z"
   },
   {
    "duration": 5,
    "start_time": "2025-03-01T02:33:14.247Z"
   },
   {
    "duration": 3,
    "start_time": "2025-03-01T02:33:14.254Z"
   },
   {
    "duration": 12,
    "start_time": "2025-03-01T02:33:14.259Z"
   },
   {
    "duration": 9,
    "start_time": "2025-03-01T02:33:14.273Z"
   },
   {
    "duration": 61,
    "start_time": "2025-03-01T02:33:14.285Z"
   },
   {
    "duration": 23,
    "start_time": "2025-03-01T02:33:14.348Z"
   },
   {
    "duration": 8,
    "start_time": "2025-03-01T02:33:14.373Z"
   },
   {
    "duration": 247,
    "start_time": "2025-03-01T02:33:14.382Z"
   },
   {
    "duration": 4364,
    "start_time": "2025-03-01T02:33:14.631Z"
   },
   {
    "duration": 46,
    "start_time": "2025-03-01T02:33:18.997Z"
   },
   {
    "duration": 11,
    "start_time": "2025-03-01T02:33:19.045Z"
   },
   {
    "duration": 85,
    "start_time": "2025-03-01T02:33:19.058Z"
   },
   {
    "duration": 125,
    "start_time": "2025-03-01T02:33:19.145Z"
   },
   {
    "duration": 2091,
    "start_time": "2025-03-01T02:33:19.272Z"
   },
   {
    "duration": 12,
    "start_time": "2025-03-01T02:33:21.365Z"
   },
   {
    "duration": 64,
    "start_time": "2025-03-01T02:33:21.379Z"
   },
   {
    "duration": 356,
    "start_time": "2025-03-01T02:33:21.444Z"
   },
   {
    "duration": 5934,
    "start_time": "2025-03-01T02:33:21.802Z"
   },
   {
    "duration": 19,
    "start_time": "2025-03-01T02:33:27.742Z"
   },
   {
    "duration": 7,
    "start_time": "2025-03-01T02:41:08.209Z"
   },
   {
    "duration": 559,
    "start_time": "2025-03-01T02:42:34.853Z"
   },
   {
    "duration": 751,
    "start_time": "2025-03-01T02:47:16.094Z"
   }
  ],
  "kernelspec": {
   "display_name": "Python 3 (ipykernel)",
   "language": "python",
   "name": "python3"
  },
  "language_info": {
   "codemirror_mode": {
    "name": "ipython",
    "version": 3
   },
   "file_extension": ".py",
   "mimetype": "text/x-python",
   "name": "python",
   "nbconvert_exporter": "python",
   "pygments_lexer": "ipython3",
   "version": "3.9.19"
  },
  "toc": {
   "base_numbering": 1,
   "nav_menu": {},
   "number_sections": true,
   "sideBar": true,
   "skip_h1_title": true,
   "title_cell": "Table of Contents",
   "title_sidebar": "Contents",
   "toc_cell": false,
   "toc_position": {},
   "toc_section_display": true,
   "toc_window_display": false
  }
 },
 "nbformat": 4,
 "nbformat_minor": 2
}
