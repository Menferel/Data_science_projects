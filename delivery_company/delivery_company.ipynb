{
 "cells": [
  {
   "cell_type": "markdown",
   "id": "n3Ha_cNSZ8lK",
   "metadata": {
    "id": "n3Ha_cNSZ8lK"
   },
   "source": [
    "# Paso 1. Descripción de los datos\n",
    "\n",
    "\n"
   ]
  },
  {
   "cell_type": "code",
   "execution_count": 3,
   "id": "fbf1adab",
   "metadata": {
    "id": "fbf1adab"
   },
   "outputs": [],
   "source": [
    "# Importar librerías\n",
    "import pandas as pd\n",
    "from matplotlib import pyplot as plt"
   ]
  },
  {
   "cell_type": "code",
   "execution_count": 4,
   "id": "ad36396d",
   "metadata": {
    "id": "ad36396d"
   },
   "outputs": [],
   "source": [
    "# Cargar los datos de todos los DF\n",
    "instacart_orders = pd.read_csv('instacart_orders.csv', sep=';')\n",
    "products = pd.read_csv('products.csv', sep=';')\n",
    "order_products = pd.read_csv('order_products.csv', sep=';')\n",
    "aisles = pd.read_csv('aisles.csv', sep=';')\n",
    "departments = pd.read_csv('departments.csv', sep=';')\n"
   ]
  },
  {
   "cell_type": "code",
   "execution_count": 5,
   "id": "ad6a1efa",
   "metadata": {
    "id": "ad6a1efa"
   },
   "outputs": [
    {
     "name": "stdout",
     "output_type": "stream",
     "text": [
      "Instacart_Orders DataFrame:\n",
      "<class 'pandas.core.frame.DataFrame'>\n",
      "RangeIndex: 478967 entries, 0 to 478966\n",
      "Data columns (total 6 columns):\n",
      " #   Column                  Non-Null Count   Dtype  \n",
      "---  ------                  --------------   -----  \n",
      " 0   order_id                478967 non-null  int64  \n",
      " 1   user_id                 478967 non-null  int64  \n",
      " 2   order_number            478967 non-null  int64  \n",
      " 3   order_dow               478967 non-null  int64  \n",
      " 4   order_hour_of_day       478967 non-null  int64  \n",
      " 5   days_since_prior_order  450148 non-null  float64\n",
      "dtypes: float64(1), int64(5)\n",
      "memory usage: 21.9 MB\n"
     ]
    }
   ],
   "source": [
    "# Revisar la estructura del DF instacart_orders\n",
    "print(\"Instacart_Orders DataFrame:\")\n",
    "instacart_orders.info()"
   ]
  },
  {
   "cell_type": "code",
   "execution_count": 6,
   "id": "5130e05e",
   "metadata": {
    "id": "5130e05e"
   },
   "outputs": [
    {
     "name": "stdout",
     "output_type": "stream",
     "text": [
      "Products DataFrame:\n",
      "<class 'pandas.core.frame.DataFrame'>\n",
      "RangeIndex: 49694 entries, 0 to 49693\n",
      "Data columns (total 4 columns):\n",
      " #   Column         Non-Null Count  Dtype \n",
      "---  ------         --------------  ----- \n",
      " 0   product_id     49694 non-null  int64 \n",
      " 1   product_name   48436 non-null  object\n",
      " 2   aisle_id       49694 non-null  int64 \n",
      " 3   department_id  49694 non-null  int64 \n",
      "dtypes: int64(3), object(1)\n",
      "memory usage: 1.5+ MB\n"
     ]
    }
   ],
   "source": [
    "# Revisar la estructura del DF products\n",
    "print(\"Products DataFrame:\")\n",
    "products.info()"
   ]
  },
  {
   "cell_type": "code",
   "execution_count": 7,
   "id": "d8370c05",
   "metadata": {
    "id": "d8370c05"
   },
   "outputs": [
    {
     "name": "stdout",
     "output_type": "stream",
     "text": [
      "Order_Products DataFrame:\n",
      "<class 'pandas.core.frame.DataFrame'>\n",
      "RangeIndex: 4545007 entries, 0 to 4545006\n",
      "Data columns (total 4 columns):\n",
      " #   Column             Dtype  \n",
      "---  ------             -----  \n",
      " 0   order_id           int64  \n",
      " 1   product_id         int64  \n",
      " 2   add_to_cart_order  float64\n",
      " 3   reordered          int64  \n",
      "dtypes: float64(1), int64(3)\n",
      "memory usage: 138.7 MB\n"
     ]
    }
   ],
   "source": [
    "# Revisar la estructura del DF Order_Products\n",
    "print(\"Order_Products DataFrame:\")\n",
    "order_products.info()"
   ]
  },
  {
   "cell_type": "code",
   "execution_count": 8,
   "id": "59e2090f",
   "metadata": {
    "id": "59e2090f"
   },
   "outputs": [
    {
     "name": "stdout",
     "output_type": "stream",
     "text": [
      "Aisles DataFrame:\n",
      "<class 'pandas.core.frame.DataFrame'>\n",
      "RangeIndex: 134 entries, 0 to 133\n",
      "Data columns (total 2 columns):\n",
      " #   Column    Non-Null Count  Dtype \n",
      "---  ------    --------------  ----- \n",
      " 0   aisle_id  134 non-null    int64 \n",
      " 1   aisle     134 non-null    object\n",
      "dtypes: int64(1), object(1)\n",
      "memory usage: 2.2+ KB\n"
     ]
    }
   ],
   "source": [
    "# Revisar la estructura del DF Aisles\n",
    "print(\"Aisles DataFrame:\")\n",
    "aisles.info()"
   ]
  },
  {
   "cell_type": "code",
   "execution_count": 9,
   "id": "6fc81694",
   "metadata": {
    "id": "6fc81694"
   },
   "outputs": [
    {
     "name": "stdout",
     "output_type": "stream",
     "text": [
      "Departments DataFrame:\n",
      "<class 'pandas.core.frame.DataFrame'>\n",
      "RangeIndex: 21 entries, 0 to 20\n",
      "Data columns (total 2 columns):\n",
      " #   Column         Non-Null Count  Dtype \n",
      "---  ------         --------------  ----- \n",
      " 0   department_id  21 non-null     int64 \n",
      " 1   department     21 non-null     object\n",
      "dtypes: int64(1), object(1)\n",
      "memory usage: 468.0+ bytes\n"
     ]
    }
   ],
   "source": [
    "# Revisar la estructura del DF Departments\n",
    "print(\"Departments DataFrame:\")\n",
    "departments.info()"
   ]
  },
  {
   "cell_type": "markdown",
   "id": "t75BD19oaR5f",
   "metadata": {
    "id": "t75BD19oaR5f"
   },
   "source": [
    "## Conclusiones\n",
    "\n",
    "Instacart_Orders DataFrame:\n",
    "\n",
    "    Tiene 478,967 filas y 6 columnas.\n",
    "    La columna days_since_prior_order tiene 28,819 valores faltantes.\n",
    "    \n",
    "Products DataFrame:\n",
    "\n",
    "    Tiene 49,694 filas y 4 columnas.\n",
    "    La columna product_name tiene 1258 valores faltantes.\n",
    "    \n",
    "Order_Products DataFrame:\n",
    "\n",
    "    Este es el más grande, con 4,545,007 filas.\n",
    "    No hay valores faltantes.\n",
    "    La columna add_to_cart_order, que está en formato float64, probablemente debería ser un entero.\n",
    "\n",
    "Aisles DataFrame:\n",
    "\n",
    "    Tiene 134 filas y 2 columnas.\n",
    "    No hay valores faltantes.\n",
    "\n",
    "Departments DataFrame:\n",
    "\n",
    "    Tiene 21 filas y 2 columnas.\n",
    "    Tampoco hay valores faltantes."
   ]
  },
  {
   "cell_type": "markdown",
   "id": "8RJHqxVmaVsF",
   "metadata": {
    "id": "8RJHqxVmaVsF"
   },
   "source": [
    "# Paso 2. Preprocesamiento de los datos\n",
    "\n"
   ]
  },
  {
   "cell_type": "markdown",
   "id": "f179f0a9",
   "metadata": {
    "id": "f179f0a9"
   },
   "source": [
    "### `instacart_orders` data frame"
   ]
  },
  {
   "cell_type": "code",
   "execution_count": 10,
   "id": "b99297a5-405a-463d-8535-9adc3da4ad74",
   "metadata": {
    "id": "b99297a5-405a-463d-8535-9adc3da4ad74"
   },
   "outputs": [
    {
     "name": "stdout",
     "output_type": "stream",
     "text": [
      "15\n"
     ]
    }
   ],
   "source": [
    "# Revisar duplicados\n",
    "print(instacart_orders.duplicated().sum())"
   ]
  },
  {
   "cell_type": "markdown",
   "id": "PEkwUX_gvt5A",
   "metadata": {
    "id": "PEkwUX_gvt5A"
   },
   "source": [
    "¿Tienes líneas duplicadas? Si sí, ¿qué tienen en común?"
   ]
  },
  {
   "cell_type": "code",
   "execution_count": 11,
   "id": "0d44de5d",
   "metadata": {
    "id": "0d44de5d"
   },
   "outputs": [
    {
     "name": "stdout",
     "output_type": "stream",
     "text": [
      "        order_id  user_id  order_number  order_dow  order_hour_of_day  \\\n",
      "4838     2766110   162084            41          3                  2   \n",
      "5156     2190225   138285            18          3                  2   \n",
      "15506     553049    58599            13          3                  2   \n",
      "18420     382357   120200            19          3                  2   \n",
      "24691     690242    77357             2          3                  2   \n",
      "...          ...      ...           ...        ...                ...   \n",
      "457013   3384021    14881             6          3                  2   \n",
      "458816    910166   164782            18          3                  2   \n",
      "459635   1680532   106435             6          3                  2   \n",
      "468324    222962    54979            59          3                  2   \n",
      "477526   2592344    46860            38          3                  2   \n",
      "\n",
      "        days_since_prior_order  \n",
      "4838                      16.0  \n",
      "5156                      11.0  \n",
      "15506                      7.0  \n",
      "18420                     11.0  \n",
      "24691                      9.0  \n",
      "...                        ...  \n",
      "457013                    30.0  \n",
      "458816                     4.0  \n",
      "459635                    21.0  \n",
      "468324                     3.0  \n",
      "477526                     3.0  \n",
      "\n",
      "[121 rows x 6 columns]\n",
      "15\n"
     ]
    }
   ],
   "source": [
    "# Verificar todos los pedidos que se hicieron el miércoles a las 2:00 a.m.\n",
    "wed_2am_orders = instacart_orders[\n",
    "    (instacart_orders['order_dow'] == 3) & (instacart_orders['order_hour_of_day'] == 2)\n",
    "]\n",
    "print(wed_2am_orders)\n",
    "print(wed_2am_orders.duplicated().sum())"
   ]
  },
  {
   "cell_type": "markdown",
   "id": "vu2OWyoqwOx5",
   "metadata": {
    "id": "vu2OWyoqwOx5"
   },
   "source": [
    "¿Qué sugiere este resultado? Que todos los duplicados son del día miércoles a las 2 am."
   ]
  },
  {
   "cell_type": "code",
   "execution_count": 12,
   "id": "480563c7",
   "metadata": {
    "id": "480563c7"
   },
   "outputs": [],
   "source": [
    "# Eliminar los pedidos duplicados\n",
    "instacart_orders.drop_duplicates(inplace=True)"
   ]
  },
  {
   "cell_type": "code",
   "execution_count": 13,
   "id": "0b2396a2",
   "metadata": {
    "id": "0b2396a2"
   },
   "outputs": [
    {
     "name": "stdout",
     "output_type": "stream",
     "text": [
      "0\n"
     ]
    }
   ],
   "source": [
    "# Verificar si hay filas duplicadas\n",
    "print(instacart_orders.duplicated().sum())"
   ]
  },
  {
   "cell_type": "code",
   "execution_count": 14,
   "id": "f6113ef1",
   "metadata": {
    "id": "f6113ef1"
   },
   "outputs": [
    {
     "name": "stdout",
     "output_type": "stream",
     "text": [
      "IDs duplicados de pedidos: 0\n"
     ]
    }
   ],
   "source": [
    "# Verificar si hay IDs duplicados de pedidos\n",
    "duplicated_order_ids = instacart_orders['order_id'].duplicated().sum()\n",
    "print(f\"IDs duplicados de pedidos: {duplicated_order_ids}\")"
   ]
  },
  {
   "cell_type": "markdown",
   "id": "5e8905ae",
   "metadata": {
    "id": "5e8905ae"
   },
   "source": [
    "Verifiqué los duplicados con la función duplicated().sum(). Al ver que sí existen, revisé los pedidos que se hicieron el miércoles a las 2 am y descubrí que todos los duplicados se encuentran ahí. Finalmente, eliminé los duplicados y verifiqué que se hizo correctamente. "
   ]
  },
  {
   "cell_type": "markdown",
   "id": "45e6bc46",
   "metadata": {
    "id": "45e6bc46"
   },
   "source": [
    "### `products` data frame"
   ]
  },
  {
   "cell_type": "code",
   "execution_count": 15,
   "id": "5f526b5b-8175-46fa-a0fd-441767d50e64",
   "metadata": {
    "id": "5f526b5b-8175-46fa-a0fd-441767d50e64"
   },
   "outputs": [
    {
     "name": "stdout",
     "output_type": "stream",
     "text": [
      "0\n"
     ]
    }
   ],
   "source": [
    "# Verificar si hay filas totalmente duplicadas\n",
    "print(products.duplicated().sum())"
   ]
  },
  {
   "cell_type": "code",
   "execution_count": 16,
   "id": "88daa4f4",
   "metadata": {
    "id": "88daa4f4"
   },
   "outputs": [
    {
     "name": "stdout",
     "output_type": "stream",
     "text": [
      "0\n"
     ]
    }
   ],
   "source": [
    "# Verificar si hay IDs duplicadas de productos (duplicados tramposos)\n",
    "print(products['product_id'].duplicated().sum())"
   ]
  },
  {
   "cell_type": "code",
   "execution_count": 17,
   "id": "c773f0bf",
   "metadata": {
    "id": "c773f0bf"
   },
   "outputs": [
    {
     "name": "stdout",
     "output_type": "stream",
     "text": [
      "Cantidad de nombres duplicados de productos: 1361\n"
     ]
    }
   ],
   "source": [
    "# Revisar si hay nombres duplicados de productos (convertir los nombres a letras mayúsculas para compararlos mejor)\n",
    "duplicated_product_names = products['product_name'].str.upper().duplicated().sum()\n",
    "print(f\"Cantidad de nombres duplicados de productos: {duplicated_product_names}\")"
   ]
  },
  {
   "cell_type": "code",
   "execution_count": 18,
   "id": "01efd02e",
   "metadata": {
    "id": "01efd02e"
   },
   "outputs": [
    {
     "name": "stdout",
     "output_type": "stream",
     "text": [
      "Cantidad de nombres duplicados de productos no faltantes: 104\n"
     ]
    }
   ],
   "source": [
    "# Revisar si hay nombres duplicados de productos no faltantes\n",
    "duplicated_non_missing_product_names = products[products['product_name'].notna()]['product_name'].str.upper().duplicated().sum()\n",
    "print(f\"Cantidad de nombres duplicados de productos no faltantes: {duplicated_non_missing_product_names}\")"
   ]
  },
  {
   "cell_type": "markdown",
   "id": "9da8d293",
   "metadata": {
    "id": "9da8d293"
   },
   "source": [
    "Verifiqué si tenía filas totalmente duplicadas y si hay IDs duplicados.  Después, revisé su había nombres duplicados de productos (product_name), y hay 1361. Aquí mismo se cambiaron los nombres a letras mayúsculas para evitar errores de sintaxis. Finalmente, se revisó si había nombres duplicados de productos no faltantes mediante el booleano notna, y descubrí que hay 104."
   ]
  },
  {
   "cell_type": "markdown",
   "id": "60f30db1",
   "metadata": {
    "id": "60f30db1"
   },
   "source": [
    "### `departments` data frame"
   ]
  },
  {
   "cell_type": "code",
   "execution_count": 19,
   "id": "fb410ad4-0fbf-4b80-bb09-23fdea79afe3",
   "metadata": {
    "id": "fb410ad4-0fbf-4b80-bb09-23fdea79afe3"
   },
   "outputs": [
    {
     "name": "stdout",
     "output_type": "stream",
     "text": [
      "0\n"
     ]
    }
   ],
   "source": [
    "# Revisa si hay filas totalmente duplicadas\n",
    "print(departments.duplicated().sum())"
   ]
  },
  {
   "cell_type": "code",
   "execution_count": 20,
   "id": "332b12bb",
   "metadata": {
    "id": "332b12bb"
   },
   "outputs": [
    {
     "name": "stdout",
     "output_type": "stream",
     "text": [
      "0\n"
     ]
    }
   ],
   "source": [
    "# Revisa si hay IDs duplicadas de productos\n",
    "print(departments['department_id'].duplicated().sum())"
   ]
  },
  {
   "cell_type": "markdown",
   "id": "bd30d78e",
   "metadata": {
    "id": "bd30d78e"
   },
   "source": [
    "No existen filas totalmente duplicadas ni IDs duplicadas (department_id)."
   ]
  },
  {
   "cell_type": "markdown",
   "id": "889349c1",
   "metadata": {
    "id": "889349c1"
   },
   "source": [
    "### `aisles` data frame"
   ]
  },
  {
   "cell_type": "code",
   "execution_count": 21,
   "id": "9da89fb9-4679-40f5-ad0d-c34df753a3f8",
   "metadata": {
    "id": "9da89fb9-4679-40f5-ad0d-c34df753a3f8"
   },
   "outputs": [
    {
     "name": "stdout",
     "output_type": "stream",
     "text": [
      "0\n"
     ]
    }
   ],
   "source": [
    "# Revisa si hay filas totalmente duplicadas\n",
    "print(aisles.duplicated().sum())"
   ]
  },
  {
   "cell_type": "code",
   "execution_count": 22,
   "id": "da7c2822",
   "metadata": {
    "id": "da7c2822"
   },
   "outputs": [
    {
     "name": "stdout",
     "output_type": "stream",
     "text": [
      "0\n"
     ]
    }
   ],
   "source": [
    "# Revisa si hay IDs duplicadas de productos\n",
    "print(aisles['aisle_id'].duplicated().sum())"
   ]
  },
  {
   "cell_type": "markdown",
   "id": "e876f8e2",
   "metadata": {},
   "source": [
    "No existen filas totalmente duplicadas ni IDs duplicadas (department_id)."
   ]
  },
  {
   "cell_type": "markdown",
   "id": "274cd06a",
   "metadata": {
    "id": "274cd06a"
   },
   "source": [
    "### `order_products` data frame"
   ]
  },
  {
   "cell_type": "code",
   "execution_count": 23,
   "id": "52326689-84a8-4b8f-a881-7c68780f62c9",
   "metadata": {
    "id": "52326689-84a8-4b8f-a881-7c68780f62c9"
   },
   "outputs": [
    {
     "name": "stdout",
     "output_type": "stream",
     "text": [
      "0\n"
     ]
    }
   ],
   "source": [
    "# Revisa si hay filas totalmente duplicadas\n",
    "print(order_products.duplicated().sum())"
   ]
  },
  {
   "cell_type": "code",
   "execution_count": 24,
   "id": "7b861391",
   "metadata": {
    "id": "7b861391"
   },
   "outputs": [
    {
     "name": "stdout",
     "output_type": "stream",
     "text": [
      "0\n"
     ]
    }
   ],
   "source": [
    "# Vuelve a verificar si hay cualquier otro duplicado engañoso\n",
    "duplicated_orders_products = order_products.duplicated(subset=['order_id', 'product_id'])\n",
    "print(duplicated_orders_products.sum())"
   ]
  },
  {
   "cell_type": "markdown",
   "id": "0b890492",
   "metadata": {
    "id": "0b890492"
   },
   "source": [
    "Revisé si había filas totalmente duplicadas y no lo hay. Para verificar cualquier otro duplicado engañoso, opté por revisar duplicados en las columnas ID y tampoco lo hay. "
   ]
  },
  {
   "cell_type": "markdown",
   "id": "1e46de76",
   "metadata": {
    "id": "1e46de76"
   },
   "source": [
    "## Valores ausentes"
   ]
  },
  {
   "cell_type": "markdown",
   "id": "c0aebd78",
   "metadata": {
    "id": "c0aebd78"
   },
   "source": [
    "### `products` data frame"
   ]
  },
  {
   "cell_type": "code",
   "execution_count": 25,
   "id": "fe4a8b0f",
   "metadata": {
    "id": "fe4a8b0f"
   },
   "outputs": [
    {
     "name": "stdout",
     "output_type": "stream",
     "text": [
      "1258\n"
     ]
    }
   ],
   "source": [
    "# Valores ausentes en la columna 'product_name'\n",
    "print(products['product_name'].isna().sum())"
   ]
  },
  {
   "cell_type": "markdown",
   "id": "-A6x1AbJhjkp",
   "metadata": {
    "id": "-A6x1AbJhjkp"
   },
   "source": [
    "Se encontraron 1258 valores ausentes en la columna 'product_name'"
   ]
  },
  {
   "cell_type": "code",
   "execution_count": 26,
   "id": "e96167bc",
   "metadata": {
    "id": "e96167bc"
   },
   "outputs": [
    {
     "name": "stdout",
     "output_type": "stream",
     "text": [
      "Total de productos con nombre ausente en el pasillo con ID 100: 1258\n"
     ]
    }
   ],
   "source": [
    "# Nombres de productos ausentes en el pasillo con ID 100\n",
    "products_in_aisle_100 = products[products['aisle_id'] == 100]\n",
    "total_nan_in_aisle_100 = products_in_aisle_100['product_name'].isna().sum()\n",
    "print(\"Total de productos con nombre ausente en el pasillo con ID 100:\", total_nan_in_aisle_100)"
   ]
  },
  {
   "cell_type": "markdown",
   "id": "WRpIfXRphpSL",
   "metadata": {
    "id": "WRpIfXRphpSL"
   },
   "source": [
    "Se confirmó que todos los valores ausentes de la columna 'product_name' se encuentran en el pasillo con ID 100"
   ]
  },
  {
   "cell_type": "code",
   "execution_count": 27,
   "id": "8fd0a541",
   "metadata": {
    "id": "8fd0a541"
   },
   "outputs": [
    {
     "name": "stdout",
     "output_type": "stream",
     "text": [
      "Total de productos con nombre ausente en el departamento con ID 21: 1258\n"
     ]
    }
   ],
   "source": [
    "# Nombres de productos ausentes en el departamento con ID 21\n",
    "products_in_department_21 = products[products['department_id'] == 21]\n",
    "products_in_department_21 = products_in_department_21['product_name'].isna().sum()\n",
    "print(\"Total de productos con nombre ausente en el departamento con ID 21:\", products_in_department_21)"
   ]
  },
  {
   "cell_type": "markdown",
   "id": "qDpdYn1Fht_I",
   "metadata": {
    "id": "qDpdYn1Fht_I"
   },
   "source": [
    "Se confirmó que todos los valores ausentes de la columna 'product_name' se encuentran en el departamento con ID 21."
   ]
  },
  {
   "cell_type": "code",
   "execution_count": 28,
   "id": "325c3464",
   "metadata": {
    "id": "325c3464"
   },
   "outputs": [
    {
     "name": "stdout",
     "output_type": "stream",
     "text": [
      "       product_id product_name  aisle_id  department_id\n",
      "37             38          NaN       100             21\n",
      "71             72          NaN       100             21\n",
      "109           110          NaN       100             21\n",
      "296           297          NaN       100             21\n",
      "416           417          NaN       100             21\n",
      "...           ...          ...       ...            ...\n",
      "49552       49553          NaN       100             21\n",
      "49574       49575          NaN       100             21\n",
      "49640       49641          NaN       100             21\n",
      "49663       49664          NaN       100             21\n",
      "49668       49669          NaN       100             21\n",
      "\n",
      "[1258 rows x 4 columns]\n"
     ]
    }
   ],
   "source": [
    "# Usa las tablas department y aisle para revisar los datos del pasillo con ID 100 y el departamento con ID 21.\n",
    "filtered_products = products[(products['aisle_id'] == 100) & (products['department_id'] == 21)]\n",
    "print (filtered_products)"
   ]
  },
  {
   "cell_type": "markdown",
   "id": "nqhSTUPhhvEJ",
   "metadata": {
    "id": "nqhSTUPhhvEJ"
   },
   "source": [
    "Se puede ver que, en la columna product_name, únicamente se encuentran valores ausentes (NaN). Y que, efectivamente, aisle_id = 100 y department_id = 21. Lo único que cambia es el product_id. Es posible que los nombres de estos productos no se hayan registrado correctamente o que no se haya realizado el proceso de asignación de nombres en ese pasillo/departamento en particular. "
   ]
  },
  {
   "cell_type": "code",
   "execution_count": 29,
   "id": "6b295120",
   "metadata": {
    "id": "6b295120"
   },
   "outputs": [
    {
     "name": "stdout",
     "output_type": "stream",
     "text": [
      "0\n"
     ]
    }
   ],
   "source": [
    "# Completa los nombres de productos ausentes con 'Unknown'\n",
    "products['product_name'].fillna('Unknown', inplace=True)\n",
    "print(products['product_name'].isna().sum())"
   ]
  },
  {
   "cell_type": "markdown",
   "id": "fc70e5ad",
   "metadata": {
    "id": "fc70e5ad"
   },
   "source": [
    "Con la función fillna, los valores ausentes se llenaron con el string 'unknown'."
   ]
  },
  {
   "cell_type": "markdown",
   "id": "7eb45c86",
   "metadata": {
    "id": "7eb45c86"
   },
   "source": [
    "### `instacart_orders` data frame"
   ]
  },
  {
   "cell_type": "code",
   "execution_count": 30,
   "id": "93e41d96",
   "metadata": {
    "id": "93e41d96"
   },
   "outputs": [
    {
     "name": "stdout",
     "output_type": "stream",
     "text": [
      "order_id                      0\n",
      "user_id                       0\n",
      "order_number                  0\n",
      "order_dow                     0\n",
      "order_hour_of_day             0\n",
      "days_since_prior_order    28817\n",
      "dtype: int64\n"
     ]
    }
   ],
   "source": [
    "# Encontrar los valores ausentes\n",
    "print(instacart_orders.isna().sum())"
   ]
  },
  {
   "cell_type": "code",
   "execution_count": 31,
   "id": "166e5a86",
   "metadata": {
    "id": "166e5a86"
   },
   "outputs": [
    {
     "name": "stdout",
     "output_type": "stream",
     "text": [
      "El total de valores ausentes en el primer pedido del cliente es: 28817\n"
     ]
    }
   ],
   "source": [
    "# Valores ausentes en el primer pedido del cliente\n",
    "order_1 = instacart_orders[instacart_orders['order_number'] == 1]\n",
    "total_nan_in_order_1 = order_1['days_since_prior_order'].isna().sum()\n",
    "print(\"El total de valores ausentes en el primer pedido del cliente es:\", total_nan_in_order_1)"
   ]
  },
  {
   "cell_type": "markdown",
   "id": "4e23d089",
   "metadata": {
    "id": "4e23d089"
   },
   "source": [
    "Confirmé que todos los valores ausentes pertenecen al primer pedido del cliente."
   ]
  },
  {
   "cell_type": "markdown",
   "id": "69dc9ca4",
   "metadata": {
    "id": "69dc9ca4"
   },
   "source": [
    "### `order_products` data frame"
   ]
  },
  {
   "cell_type": "code",
   "execution_count": 32,
   "id": "b8240253",
   "metadata": {
    "id": "b8240253"
   },
   "outputs": [
    {
     "name": "stdout",
     "output_type": "stream",
     "text": [
      "order_id               0\n",
      "product_id             0\n",
      "add_to_cart_order    836\n",
      "reordered              0\n",
      "dtype: int64\n"
     ]
    }
   ],
   "source": [
    "# Encuentra los valores ausentes\n",
    "print(order_products.isna().sum())"
   ]
  },
  {
   "cell_type": "code",
   "execution_count": 33,
   "id": "9a78e5ee",
   "metadata": {
    "id": "9a78e5ee"
   },
   "outputs": [
    {
     "name": "stdout",
     "output_type": "stream",
     "text": [
      "El valor máximo es: 64.0\n",
      "El valor máximo es: 1.0\n"
     ]
    }
   ],
   "source": [
    "# Valores mínimos y máximos en esta columna\n",
    "maximo = order_products['add_to_cart_order'].max()\n",
    "print(\"El valor máximo es:\",maximo)\n",
    "minimo = order_products['add_to_cart_order'].min()\n",
    "print(\"El valor máximo es:\",minimo)"
   ]
  },
  {
   "cell_type": "markdown",
   "id": "-Z2Ja215jW78",
   "metadata": {
    "id": "-Z2Ja215jW78"
   },
   "source": [
    "La única columna que presenta valores ausentes es add_to_cart_order. Dentro de esta, su valor mínimo es 1 y su máximo 64."
   ]
  },
  {
   "cell_type": "code",
   "execution_count": 34,
   "id": "ab9d0c2b",
   "metadata": {
    "id": "ab9d0c2b"
   },
   "outputs": [
    {
     "name": "stdout",
     "output_type": "stream",
     "text": [
      "737        2449164\n",
      "9926       1968313\n",
      "14394      2926893\n",
      "16418      1717990\n",
      "30114      1959075\n",
      "            ...   \n",
      "4505662    1800005\n",
      "4511400    1633337\n",
      "4517562     404157\n",
      "4534112    1673227\n",
      "4535739    1832957\n",
      "Name: order_id, Length: 836, dtype: int64\n"
     ]
    }
   ],
   "source": [
    "# Guardar todas las IDs de pedidos que tengan un valor ausente en 'add_to_cart_order'\n",
    "missing_add_to_cart = order_products[order_products['add_to_cart_order'].isna()]\n",
    "missing_order_ids = missing_add_to_cart['order_id']\n",
    "print(missing_order_ids)"
   ]
  },
  {
   "cell_type": "code",
   "execution_count": 35,
   "id": "54c31695",
   "metadata": {
    "id": "54c31695"
   },
   "outputs": [
    {
     "name": "stdout",
     "output_type": "stream",
     "text": [
      "El número mínimo de productos en un pedido con valores ausentes es: 1\n"
     ]
    }
   ],
   "source": [
    "# ¿Todos los pedidos con valores ausentes tienen más de 64 productos?\n",
    "# Agrupar todos los pedidos con datos ausentes por su ID de pedido.\n",
    "# Contar el número de 'product_id' en cada pedido y revisar el valor mínimo del conteo.\n",
    "missing_add_to_cart = order_products[order_products['add_to_cart_order'].isna()]\n",
    "grouped_orders = missing_add_to_cart.groupby('order_id')['product_id'].count()\n",
    "min_count = grouped_orders.min()\n",
    "print(\"El número mínimo de productos en un pedido con valores ausentes es:\", min_count)"
   ]
  },
  {
   "cell_type": "markdown",
   "id": "p9V6pddtjglj",
   "metadata": {
    "id": "p9V6pddtjglj"
   },
   "source": [
    "Obtuve los IDs de los pedidos que tienen un valor ausente en 'add_to_cart_order' y después conté el número de 'product_id' habiendo agrupado por order. Al final, se obtuvo el valor mínimo de dicho conteo, el cual es igual a 1. Por lo que se deduce que NO todos los pedidos con valores ausentes tienen más de 64 productos."
   ]
  },
  {
   "cell_type": "code",
   "execution_count": 36,
   "id": "7a987d08",
   "metadata": {
    "id": "7a987d08"
   },
   "outputs": [
    {
     "name": "stdout",
     "output_type": "stream",
     "text": [
      "<class 'pandas.core.frame.DataFrame'>\n",
      "RangeIndex: 4545007 entries, 0 to 4545006\n",
      "Data columns (total 4 columns):\n",
      " #   Column             Dtype\n",
      "---  ------             -----\n",
      " 0   order_id           int64\n",
      " 1   product_id         int64\n",
      " 2   add_to_cart_order  int32\n",
      " 3   reordered          int64\n",
      "dtypes: int32(1), int64(3)\n",
      "memory usage: 121.4 MB\n",
      "None\n"
     ]
    },
    {
     "name": "stderr",
     "output_type": "stream",
     "text": [
      "C:\\Users\\elias\\AppData\\Local\\Temp\\ipykernel_8244\\476451862.py:2: FutureWarning: A value is trying to be set on a copy of a DataFrame or Series through chained assignment using an inplace method.\n",
      "The behavior will change in pandas 3.0. This inplace method will never work because the intermediate object on which we are setting values always behaves as a copy.\n",
      "\n",
      "For example, when doing 'df[col].method(value, inplace=True)', try using 'df.method({col: value}, inplace=True)' or df[col] = df[col].method(value) instead, to perform the operation inplace on the original object.\n",
      "\n",
      "\n",
      "  order_products['add_to_cart_order'].fillna(999, inplace=True)\n"
     ]
    }
   ],
   "source": [
    "# Remplazar los valores ausentes en la columna 'add_to_cart? con 999 y convertir la columna al tipo entero.\n",
    "order_products['add_to_cart_order'].fillna(999, inplace=True)\n",
    "order_products['add_to_cart_order'] = order_products['add_to_cart_order'].astype(int)\n",
    "print(order_products.info())"
   ]
  },
  {
   "cell_type": "markdown",
   "id": "fea4bcc7",
   "metadata": {
    "id": "fea4bcc7"
   },
   "source": [
    "Reemplacé los valores ausentes de la columna 'add_to_cart_order' por 999 y después convertí la columna a enteros, pues es el tipo de datos que le corresponde a la columna."
   ]
  },
  {
   "cell_type": "markdown",
   "id": "RnplPFY1gSrb",
   "metadata": {
    "id": "RnplPFY1gSrb"
   },
   "source": [
    "## Conclusiones\n",
    "\n",
    "El paso 2, de preprocesamiento de datos, es algo indispensable para poder analizar los datos. Básicamente, encontré los valores ausentes/nulos y duplicados y después tomé acción sobre ellos para poder analizarlo. Durante el proceso, identifiqué ciertos patrones que te indican que los valores ausentes se deben a cierto departamento, pasillo u otra situación. "
   ]
  },
  {
   "cell_type": "markdown",
   "id": "UjrOIwTcz3ri",
   "metadata": {
    "id": "UjrOIwTcz3ri"
   },
   "source": [
    "# Paso 3. Análisis de los datos\n"
   ]
  },
  {
   "cell_type": "markdown",
   "id": "short-capability",
   "metadata": {
    "id": "short-capability"
   },
   "source": [
    "### Verificar que los valores son sensibles (lógicos)"
   ]
  },
  {
   "cell_type": "code",
   "execution_count": null,
   "id": "growing-fruit",
   "metadata": {
    "id": "growing-fruit"
   },
   "outputs": [
    {
     "name": "stdout",
     "output_type": "stream",
     "text": [
      "0\n",
      "23\n"
     ]
    }
   ],
   "source": [
    "# Verificar que los valores de la hora del día son lógicos\n",
    "print(instacart_orders['order_hour_of_day'].min())\n",
    "print(instacart_orders['order_hour_of_day'].max())"
   ]
  },
  {
   "cell_type": "code",
   "execution_count": null,
   "id": "accessory-malaysia",
   "metadata": {
    "id": "accessory-malaysia"
   },
   "outputs": [
    {
     "name": "stdout",
     "output_type": "stream",
     "text": [
      "0\n",
      "6\n"
     ]
    }
   ],
   "source": [
    "# Verificar que los valores del día de la semana son lógicos\n",
    "print(instacart_orders['order_dow'].min())\n",
    "print(instacart_orders['order_dow'].max())"
   ]
  },
  {
   "cell_type": "markdown",
   "id": "hmR2GNQ6lCsX",
   "metadata": {
    "id": "hmR2GNQ6lCsX"
   },
   "source": [
    "Los valores en ambas columnas son razonables. Obtuve el mínimo y el máximo de cada una de ellas y efectivamente sus valores oscilan entre los valores adecuados. "
   ]
  },
  {
   "cell_type": "markdown",
   "id": "a6743a70",
   "metadata": {
    "id": "a6743a70"
   },
   "source": [
    "### Para cada hora del día, ¿cuántas personas hacen órdenes?"
   ]
  },
  {
   "cell_type": "code",
   "execution_count": null,
   "id": "a36cca27",
   "metadata": {
    "id": "a36cca27"
   },
   "outputs": [
    {
     "name": "stdout",
     "output_type": "stream",
     "text": [
      "order_hour_of_day\n",
      "0      2991\n",
      "1      1671\n",
      "2       958\n",
      "3       744\n",
      "4       735\n",
      "5      1281\n",
      "6      3757\n",
      "7     10993\n",
      "8     20268\n",
      "9     28112\n",
      "10    32195\n",
      "11    32660\n",
      "12    31754\n",
      "13    32433\n",
      "14    32797\n",
      "15    32894\n",
      "16    31579\n",
      "17    26825\n",
      "18    21795\n",
      "19    17026\n",
      "20    12891\n",
      "21     9806\n",
      "22     7670\n",
      "23     5167\n",
      "Name: user_id, dtype: int64\n"
     ]
    },
    {
     "data": {
      "image/png": "[encoded data removed]",
      "text/plain": [
       "<Figure size 1000x600 with 1 Axes>"
      ]
     },
     "metadata": {},
     "output_type": "display_data"
    }
   ],
   "source": [
    "# Graficar el número de personas que hacen órdenes para cada hora del día\n",
    "users_per_hour = instacart_orders.groupby('order_hour_of_day')['user_id'].nunique() \n",
    "print(users_per_hour)\n",
    "users_per_hour.plot(kind='bar', figsize=(10, 6), color='skyblue')\n",
    "plt.title('Número de usuarios por hora del día', fontsize=16)\n",
    "plt.xlabel('Hora del día', fontsize=12)\n",
    "plt.ylabel('Número de usuarios únicos', fontsize=12)\n",
    "plt.show()"
   ]
  },
  {
   "cell_type": "markdown",
   "id": "11270eed",
   "metadata": {
    "id": "11270eed"
   },
   "source": [
    "Agrupé la columna 'order_hour_of_day' y utilicé la función nunique() para obtener el número de personas que hacen órdenes. Como se puede ver en la gráfica, entre las horas 10 y 16 se encuentran el mayor número de usuarios únicos. "
   ]
  },
  {
   "cell_type": "markdown",
   "id": "documented-command",
   "metadata": {
    "id": "documented-command"
   },
   "source": [
    "### ¿Qué día de la semana compran víveres las personas?"
   ]
  },
  {
   "cell_type": "code",
   "execution_count": null,
   "id": "chief-digit",
   "metadata": {
    "id": "chief-digit"
   },
   "outputs": [
    {
     "name": "stdout",
     "output_type": "stream",
     "text": [
      "order_dow\n",
      "0    84090\n",
      "1    82185\n",
      "2    65833\n",
      "3    60897\n",
      "4    59810\n",
      "5    63488\n",
      "6    62649\n",
      "Name: order_id, dtype: int64\n"
     ]
    },
    {
     "data": {
      "image/png": "[encoded data removed]",
      "text/plain": [
       "<Figure size 800x600 with 1 Axes>"
      ]
     },
     "metadata": {},
     "output_type": "display_data"
    }
   ],
   "source": [
    "# Compras por día de la semana\n",
    "orders_by_day = instacart_orders.groupby('order_dow')['order_id'].count()\n",
    "print(orders_by_day)\n",
    "orders_by_day.plot(kind='bar', figsize=(8, 6), color='lightgreen')\n",
    "plt.title('Número de órdenes por día de la semana', fontsize=16)\n",
    "plt.xlabel('Día de la semana (0 = Domingo)', fontsize=12)\n",
    "plt.ylabel('Número de órdenes', fontsize=12)\n",
    "plt.show()"
   ]
  },
  {
   "cell_type": "markdown",
   "id": "dominant-lightning",
   "metadata": {
    "id": "dominant-lightning"
   },
   "source": [
    "Las personas compran víveres todos los días de la semana. Como dato adicional, el domingo es el día que más compran y el jueves el día que menos compran."
   ]
  },
  {
   "cell_type": "markdown",
   "id": "cutting-concert",
   "metadata": {
    "id": "cutting-concert"
   },
   "source": [
    "### ¿Cuánto tiempo esperan las personas hasta hacer otro pedido? "
   ]
  },
  {
   "cell_type": "code",
   "execution_count": null,
   "id": "c231f523",
   "metadata": {
    "id": "c231f523"
   },
   "outputs": [
    {
     "data": {
      "image/png": "[encoded data removed]",
      "text/plain": [
       "<Figure size 1000x600 with 1 Axes>"
      ]
     },
     "metadata": {},
     "output_type": "display_data"
    },
    {
     "name": "stdout",
     "output_type": "stream",
     "text": [
      "El número mínimo de días hasta el próximo pedido es: 0.0\n",
      "El número máximo de días hasta el próximo pedido es: 30.0\n",
      "El promedio de días hasta el próximo pedido es: 11.101813900274362\n"
     ]
    }
   ],
   "source": [
    "# Tiempo que esperan las personas hasta hacer otro pedido\n",
    "min_days = instacart_orders['days_since_prior_order'].min()\n",
    "max_days = instacart_orders['days_since_prior_order'].max()\n",
    "mean_days = instacart_orders['days_since_prior_order'].mean()\n",
    "instacart_orders['days_since_prior_order'].plot(kind='hist', bins=30, figsize=(10, 6), color='purple', alpha=0.7)\n",
    "plt.title('Distribución de los días hasta el próximo pedido', fontsize=16)\n",
    "plt.xlabel('Días desde el pedido anterior', fontsize=12)\n",
    "plt.ylabel('Frecuencia', fontsize=12)\n",
    "plt.show()\n",
    "print(f\"El número mínimo de días hasta el próximo pedido es: {min_days}\")\n",
    "print(f\"El número máximo de días hasta el próximo pedido es: {max_days}\")\n",
    "print(f\"El promedio de días hasta el próximo pedido es: {mean_days}\")"
   ]
  },
  {
   "cell_type": "markdown",
   "id": "discrete-vertex",
   "metadata": {
    "id": "discrete-vertex"
   },
   "source": [
    "Las personas esperan entre 0 y 30 días para hacer otro pedido, mientras que el promedio es de 11.1 días. Una gran parte de la distribución se encuentra entre 0 y 10 días. Después, va decayendo hasta que llega a 30, en"
   ]
  },
  {
   "cell_type": "markdown",
   "id": "packed-classic",
   "metadata": {
    "id": "packed-classic"
   },
   "source": [
    "### Diferencia entre miércoles y sábados para  `'order_hour_of_day'`."
   ]
  },
  {
   "cell_type": "code",
   "execution_count": null,
   "id": "d89b8403",
   "metadata": {
    "id": "d89b8403"
   },
   "outputs": [],
   "source": [
    "# Importar la librería\n",
    "import matplotlib.pyplot as plt"
   ]
  },
  {
   "cell_type": "code",
   "execution_count": null,
   "id": "94e54e8a",
   "metadata": {
    "id": "94e54e8a"
   },
   "outputs": [],
   "source": [
    "# Extraer sábados y miércoles \n",
    "orders_wednesday = instacart_orders[instacart_orders['order_dow'] == 3]\n",
    "orders_saturday = instacart_orders[instacart_orders['order_dow'] == 6]"
   ]
  },
  {
   "cell_type": "code",
   "execution_count": null,
   "id": "797c90a8",
   "metadata": {
    "id": "797c90a8"
   },
   "outputs": [],
   "source": [
    "# Hacer el conteo \n",
    "hourly_orders_wed = orders_wednesday['order_hour_of_day'].value_counts().sort_index()\n",
    "hourly_orders_sat = orders_saturday['order_hour_of_day'].value_counts().sort_index()"
   ]
  },
  {
   "cell_type": "code",
   "execution_count": null,
   "id": "35bcea30",
   "metadata": {
    "id": "35bcea30"
   },
   "outputs": [
    {
     "name": "stdout",
     "output_type": "stream",
     "text": [
      "order_hour_of_day\n",
      "0      373\n",
      "1      215\n",
      "2      106\n",
      "3      101\n",
      "4      108\n",
      "5      170\n",
      "6      643\n",
      "7     1732\n",
      "8     3125\n",
      "9     4490\n",
      "10    5026\n",
      "11    5004\n",
      "12    4688\n",
      "13    4674\n",
      "14    4774\n",
      "15    5163\n",
      "16    4976\n",
      "17    4175\n",
      "18    3463\n",
      "19    2652\n",
      "20    1917\n",
      "21    1450\n",
      "22    1154\n",
      "23     718\n",
      "Name: count, dtype: int64\n",
      "order_hour_of_day\n",
      "0      464\n",
      "1      254\n",
      "2      177\n",
      "3      125\n",
      "4      118\n",
      "5      161\n",
      "6      451\n",
      "7     1619\n",
      "8     3246\n",
      "9     4311\n",
      "10    4919\n",
      "11    5116\n",
      "12    5132\n",
      "13    5323\n",
      "14    5375\n",
      "15    5188\n",
      "16    5029\n",
      "17    4295\n",
      "18    3338\n",
      "19    2610\n",
      "20    1847\n",
      "21    1473\n",
      "22    1185\n",
      "23     893\n",
      "Name: count, dtype: int64\n"
     ]
    }
   ],
   "source": [
    "# Imprimir resultados\n",
    "print (hourly_orders_wed)\n",
    "print (hourly_orders_sat)"
   ]
  },
  {
   "cell_type": "code",
   "execution_count": null,
   "id": "ca2ed02e",
   "metadata": {},
   "outputs": [
    {
     "name": "stdout",
     "output_type": "stream",
     "text": [
      "                   Miércoles  Sábado\n",
      "order_hour_of_day                   \n",
      "0                        373     464\n",
      "1                        215     254\n",
      "2                        106     177\n",
      "3                        101     125\n",
      "4                        108     118\n",
      "5                        170     161\n",
      "6                        643     451\n",
      "7                       1732    1619\n",
      "8                       3125    3246\n",
      "9                       4490    4311\n"
     ]
    },
    {
     "data": {
      "image/png": "[encoded data removed]",
      "text/plain": [
       "<Figure size 1000x600 with 1 Axes>"
      ]
     },
     "metadata": {},
     "output_type": "display_data"
    }
   ],
   "source": [
    "# Convertir los resultados en DF y graficar\n",
    "df = pd.DataFrame({'Miércoles': hourly_orders_wed, 'Sábado': hourly_orders_sat})\n",
    "print (df.head(10))\n",
    "df.plot(kind='bar', figsize=(10,6), width=0.8, title='Distribución de Pedidos por Hora del Día (Miércoles vs. Sábado)', xlabel='Hora del Día', ylabel='Número de Pedidos', legend=True)\n",
    "plt.show()"
   ]
  },
  {
   "cell_type": "markdown",
   "id": "charitable-congo",
   "metadata": {
    "id": "charitable-congo"
   },
   "source": [
    "Las distribuciones de ambos días son relativamente similares. El valor mínimo, máximo y total del número de pedidos es ligeramente superior el del sábado. Aunque en ciertas horas, como la 9 o 10, hay más pedidos el miércoles."
   ]
  },
  {
   "cell_type": "markdown",
   "id": "e3891143",
   "metadata": {
    "id": "e3891143"
   },
   "source": [
    "### ¿Cuál es la distribución para el número de pedidos por cliente?"
   ]
  },
  {
   "cell_type": "code",
   "execution_count": null,
   "id": "6df524fc",
   "metadata": {},
   "outputs": [
    {
     "name": "stdout",
     "output_type": "stream",
     "text": [
      "478952\n",
      "2\n",
      "        order_id  user_id  order_number  order_dow  order_hour_of_day  \\\n",
      "360710   3079988    93310             9          3                 13   \n",
      "42887    3000874    13816             8          2                 10   \n",
      "332314   1258727    19344            14          4                 13   \n",
      "100866   3186718   146119            33          0                 19   \n",
      "300684    425032   189069             8          1                  9   \n",
      "366110    381217   159891            22          6                 14   \n",
      "60987    2377414    75669             4          3                 20   \n",
      "174292   1503512    64506             2          4                 14   \n",
      "448270   3237460     7829            16          0                 18   \n",
      "61308    3288381    16546             9          1                 23   \n",
      "\n",
      "        days_since_prior_order  \n",
      "360710                     2.0  \n",
      "42887                      6.0  \n",
      "332314                    14.0  \n",
      "100866                     0.0  \n",
      "300684                     8.0  \n",
      "366110                     7.0  \n",
      "60987                     19.0  \n",
      "174292                     3.0  \n",
      "448270                     6.0  \n",
      "61308                     10.0  \n"
     ]
    }
   ],
   "source": [
    "# Imprimir muestra y total de filas del DF\n",
    "print(instacart_orders['user_id'].count())\n",
    "print(instacart_orders['user_id'].min())\n",
    "print(instacart_orders.sample(10))"
   ]
  },
  {
   "cell_type": "code",
   "execution_count": null,
   "id": "d8c26c23",
   "metadata": {
    "id": "d8c26c23"
   },
   "outputs": [
    {
     "name": "stdout",
     "output_type": "stream",
     "text": [
      "user_id\n",
      "2     2\n",
      "4     2\n",
      "5     1\n",
      "6     2\n",
      "7     2\n",
      "10    1\n",
      "11    2\n",
      "12    1\n",
      "13    3\n",
      "14    4\n",
      "Name: order_id, dtype: int64\n",
      "order_id\n",
      "1     55357\n",
      "2     36508\n",
      "3     21547\n",
      "4     13498\n",
      "5      8777\n",
      "6      6012\n",
      "7      4240\n",
      "8      3019\n",
      "9      2152\n",
      "10     1645\n",
      "Name: count, dtype: int64\n"
     ]
    }
   ],
   "source": [
    "# Total de ordenes por cliente y ordenamiento\n",
    "customer_order_counts = instacart_orders.groupby('user_id')['order_id'].count()\n",
    "print(customer_order_counts.head(10))\n",
    "order_distribution = customer_order_counts.value_counts().sort_index()\n",
    "print(order_distribution.head(10))"
   ]
  },
  {
   "cell_type": "code",
   "execution_count": null,
   "id": "00e69a66",
   "metadata": {
    "id": "00e69a66"
   },
   "outputs": [
    {
     "data": {
      "image/png": "[encoded data removed]",
      "text/plain": [
       "<Figure size 1000x600 with 1 Axes>"
      ]
     },
     "metadata": {},
     "output_type": "display_data"
    }
   ],
   "source": [
    "# Graficar total de órdenes por cliente\n",
    "order_distribution.plot(kind='bar', figsize=(10,6), width=0.8, title='Distribución del Número de Órdenes por Cliente', xlabel='Número de Órdenes', ylabel='Cantidad de Clientes')\n",
    "plt.show()"
   ]
  },
  {
   "cell_type": "markdown",
   "id": "d2eff7d5",
   "metadata": {
    "id": "d2eff7d5"
   },
   "source": [
    "Grafiqué el número de órdenes que realizan los clientes. Como es lógico, entre menos órdenes, mayor cantidad de clientes."
   ]
  },
  {
   "cell_type": "markdown",
   "id": "54a0319c",
   "metadata": {
    "id": "54a0319c"
   },
   "source": [
    "### ¿Cuáles son los 20 productos más populares (muestra su ID y nombre)?"
   ]
  },
  {
   "cell_type": "code",
   "execution_count": null,
   "id": "exterior-arizona",
   "metadata": {
    "id": "exterior-arizona",
    "scrolled": true
   },
   "outputs": [
    {
     "name": "stdout",
     "output_type": "stream",
     "text": [
      "         order_id  product_id  add_to_cart_order  reordered\n",
      "1262169   2943609        8571                  4          1\n",
      "2365686   2087777       25706                 12          1\n",
      "1872468    588770       18362                  6          1\n",
      "3845066    357170       47209                  1          1\n",
      "1355254   2976176       23734                 20          0\n"
     ]
    }
   ],
   "source": [
    "# Imprimir muestra\n",
    "print(order_products.sample(5))"
   ]
  },
  {
   "cell_type": "code",
   "execution_count": null,
   "id": "universal-facial",
   "metadata": {
    "id": "universal-facial"
   },
   "outputs": [
    {
     "name": "stdout",
     "output_type": "stream",
     "text": [
      "product_id\n",
      "24852    66050\n",
      "13176    53297\n",
      "21137    37039\n",
      "21903    33971\n",
      "47209    29773\n",
      "47766    24689\n",
      "47626    21495\n",
      "16797    20018\n",
      "26209    19690\n",
      "27845    19600\n",
      "27966    19197\n",
      "22935    15898\n",
      "24964    15292\n",
      "45007    14584\n",
      "39275    13879\n",
      "49683    13675\n",
      "28204    12544\n",
      "5876     12232\n",
      "8277     11993\n",
      "40706    11781\n",
      "Name: count, dtype: int64\n",
      "    product_id  count\n",
      "0        24852  66050\n",
      "1        13176  53297\n",
      "2        21137  37039\n",
      "3        21903  33971\n",
      "4        47209  29773\n",
      "5        47766  24689\n",
      "6        47626  21495\n",
      "7        16797  20018\n",
      "8        26209  19690\n",
      "9        27845  19600\n",
      "10       27966  19197\n",
      "11       22935  15898\n",
      "12       24964  15292\n",
      "13       45007  14584\n",
      "14       39275  13879\n",
      "15       49683  13675\n",
      "16       28204  12544\n",
      "17        5876  12232\n",
      "18        8277  11993\n",
      "19       40706  11781\n",
      "    product_id  count              product_name\n",
      "0        24852  66050                    Banana\n",
      "1        13176  53297    Bag of Organic Bananas\n",
      "2        21137  37039      Organic Strawberries\n",
      "3        21903  33971      Organic Baby Spinach\n",
      "4        47209  29773      Organic Hass Avocado\n",
      "5        47766  24689           Organic Avocado\n",
      "6        47626  21495               Large Lemon\n",
      "7        16797  20018              Strawberries\n",
      "8        26209  19690                     Limes\n",
      "9        27845  19600        Organic Whole Milk\n",
      "10       27966  19197       Organic Raspberries\n",
      "11       22935  15898      Organic Yellow Onion\n",
      "12       24964  15292            Organic Garlic\n",
      "13       45007  14584          Organic Zucchini\n",
      "14       39275  13879       Organic Blueberries\n",
      "15       49683  13675            Cucumber Kirby\n",
      "16       28204  12544        Organic Fuji Apple\n",
      "17        5876  12232             Organic Lemon\n",
      "18        8277  11993  Apple Honeycrisp Organic\n",
      "19       40706  11781    Organic Grape Tomatoes\n"
     ]
    }
   ],
   "source": [
    "# Productos mas populares (número de veces ordenado)\n",
    "top_products = order_products['product_id'].value_counts().head(20)\n",
    "print (top_products)\n",
    "top_products_df = top_products.to_frame().reset_index()\n",
    "top_products_df.columns = ['product_id', 'count']\n",
    "print(top_products_df)\n",
    "top_products_with_names = top_products_df.join(products.set_index('product_id')['product_name'], on='product_id')\n",
    "print(top_products_with_names)"
   ]
  },
  {
   "cell_type": "markdown",
   "id": "7df00f47",
   "metadata": {
    "id": "7df00f47"
   },
   "source": [
    "La función value_counts() contó el número de valores basado en la columna 'product_id' y con la funcion head se obtuvieron los primeros 20 valores. Después lo convertí a un dataframe y reseteé el ídice. Finalmente le agregué el nombre a su product_id correspondiente. "
   ]
  },
  {
   "cell_type": "markdown",
   "id": "romantic-deposit",
   "metadata": {
    "id": "romantic-deposit"
   },
   "source": [
    "### ¿Cuántos artículos compran normalmente las personas en un pedido? ¿Cómo es la distribución?"
   ]
  },
  {
   "cell_type": "code",
   "execution_count": null,
   "id": "sensitive-breathing",
   "metadata": {
    "id": "sensitive-breathing"
   },
   "outputs": [],
   "source": [
    "# Imprimir librerías\n",
    "import pandas as pd\n",
    "import matplotlib.pyplot as plt"
   ]
  },
  {
   "cell_type": "code",
   "execution_count": null,
   "id": "completed-frank",
   "metadata": {
    "id": "completed-frank"
   },
   "outputs": [
    {
     "name": "stdout",
     "output_type": "stream",
     "text": [
      "         order_id  product_id  add_to_cart_order  reordered\n",
      "348184    2331657       39475                  3          1\n",
      "410085    2331657       46069                  9          1\n",
      "1397822   2331657       42828                 25          1\n",
      "1398832   2331657       46720                 14          1\n",
      "1816752   2331657       33731                 23          1\n",
      "2258733   2331657       27845                  1          1\n",
      "2373473   2331657        5479                  2          1\n",
      "2418905   2331657       27521                  8          1\n",
      "2625418   2331657       13431                 20          0\n",
      "2651947   2331657       22035                 11          1\n",
      "2703994   2331657       42803                 22          0\n",
      "2932460   2331657       38383                 16          0\n",
      "2988046   2331657       34126                 21          1\n",
      "3459761   2331657         283                 13          0\n",
      "3464466   2331657       22935                 19          1\n",
      "3512541   2331657       19505                 17          0\n",
      "3638745   2331657       11777                  4          1\n",
      "4026264   2331657       37792                  6          1\n",
      "4189965   2331657       48716                 10          1\n",
      "4269468   2331657       10246                 12          0\n",
      "4300079   2331657       26668                 15          0\n",
      "4368134   2331657       31766                  5          1\n",
      "4391465   2331657       42701                 18          1\n",
      "4514722   2331657       27864                 24          0\n",
      "4533427   2331657       30561                  7          1\n"
     ]
    }
   ],
   "source": [
    "# Visualizar la orden 2331657 para mayor entendimiento\n",
    "ejemplo = order_products[order_products['order_id'] == 2331657]\n",
    "print(ejemplo)"
   ]
  },
  {
   "cell_type": "code",
   "execution_count": null,
   "id": "49bebb91",
   "metadata": {},
   "outputs": [
    {
     "name": "stdout",
     "output_type": "stream",
     "text": [
      "order_id\n",
      "4          13\n",
      "9          15\n",
      "11          5\n",
      "19          3\n",
      "20          8\n",
      "           ..\n",
      "3421034    17\n",
      "3421053     9\n",
      "3421071     5\n",
      "3421077     4\n",
      "3421079     1\n",
      "Name: product_id, Length: 450046, dtype: int64\n"
     ]
    }
   ],
   "source": [
    "# Número de productos por cada orden\n",
    "items_per_order = order_products.groupby('order_id')['product_id'].count()\n",
    "print(items_per_order)"
   ]
  },
  {
   "cell_type": "code",
   "execution_count": null,
   "id": "ba820bae",
   "metadata": {},
   "outputs": [
    {
     "data": {
      "image/png": "[encoded data removed]",
      "text/plain": [
       "<Figure size 1000x600 with 1 Axes>"
      ]
     },
     "metadata": {},
     "output_type": "display_data"
    }
   ],
   "source": [
    "# Graficar resultados\n",
    "plt.figure(figsize=(10,6))\n",
    "plt.hist(items_per_order,bins=35)\n",
    "plt.title('Distribución del Número de Artículos por Pedido')\n",
    "plt.xlabel('Número de Artículos por Pedido')\n",
    "plt.ylabel('Frecuencia')\n",
    "plt.show()\n",
    "plt.show()"
   ]
  },
  {
   "cell_type": "markdown",
   "id": "designed-mortality",
   "metadata": {
    "id": "designed-mortality"
   },
   "source": [
    "El mayor porcentaje de números de artículos por pedido se encuentra entre 0 y 13 aproximadamente. A partir de 20 artículos o incluso antes, la frecuencia cae estrepitosamente."
   ]
  },
  {
   "cell_type": "markdown",
   "id": "5e6b5537",
   "metadata": {
    "id": "5e6b5537"
   },
   "source": [
    "### ¿Cuáles son los 20 principales artículos que vuelven a pedirse con mayor frecuencia (muestra sus nombres e IDs de los productos)?"
   ]
  },
  {
   "cell_type": "code",
   "execution_count": null,
   "id": "9374e55a",
   "metadata": {
    "id": "9374e55a"
   },
   "outputs": [],
   "source": [
    "# Filtrar productos que volvieron a pedirse\n",
    "reordered_products = order_products[order_products['reordered'] == 1]"
   ]
  },
  {
   "cell_type": "code",
   "execution_count": null,
   "id": "possible-change",
   "metadata": {
    "id": "possible-change",
    "scrolled": true
   },
   "outputs": [],
   "source": [
    "# Contar las veces que cada producto se volvió a pedir\n",
    "top_reordered_products = reordered_products['product_id'].value_counts().head(20)"
   ]
  },
  {
   "cell_type": "code",
   "execution_count": null,
   "id": "professional-surfing",
   "metadata": {
    "id": "professional-surfing",
    "scrolled": true
   },
   "outputs": [],
   "source": [
    "# Tranformación a DF y reseteó del índice\n",
    "top_reordered_df = top_reordered_products.to_frame().reset_index()\n",
    "top_reordered_df.columns = ['product_id', 'reorder_count']"
   ]
  },
  {
   "cell_type": "code",
   "execution_count": null,
   "id": "48dd3658",
   "metadata": {
    "id": "48dd3658"
   },
   "outputs": [
    {
     "name": "stdout",
     "output_type": "stream",
     "text": [
      "    product_id  reorder_count              product_name\n",
      "0        24852          55763                    Banana\n",
      "1        13176          44450    Bag of Organic Bananas\n",
      "2        21137          28639      Organic Strawberries\n",
      "3        21903          26233      Organic Baby Spinach\n",
      "4        47209          23629      Organic Hass Avocado\n",
      "5        47766          18743           Organic Avocado\n",
      "6        27845          16251        Organic Whole Milk\n",
      "7        47626          15044               Large Lemon\n",
      "8        27966          14748       Organic Raspberries\n",
      "9        16797          13945              Strawberries\n",
      "10       26209          13327                     Limes\n",
      "11       22935          11145      Organic Yellow Onion\n",
      "12       24964          10411            Organic Garlic\n",
      "13       45007          10076          Organic Zucchini\n",
      "14       49683           9538            Cucumber Kirby\n",
      "15       28204           8989        Organic Fuji Apple\n",
      "16        8277           8836  Apple Honeycrisp Organic\n",
      "17       39275           8799       Organic Blueberries\n",
      "18        5876           8412             Organic Lemon\n",
      "19       49235           8389       Organic Half & Half\n"
     ]
    }
   ],
   "source": [
    "# Agregar la columna product_name\n",
    "top_reordered_with_names = top_reordered_df.join(products.set_index('product_id')['product_name'], on='product_id')\n",
    "print(top_reordered_with_names)"
   ]
  },
  {
   "cell_type": "markdown",
   "id": "80e70c74",
   "metadata": {
    "id": "80e70c74"
   },
   "source": [
    "Filtré los productos que se han pedido nuevamente con la función booleana, lo convertí en un dataframe, reseteé los índices, renombré las columnas y finalmente le agregué los nombres e IDs de los productos. Banana es el producto que más se reordena, 55763 veces para ser exacto. Mientras Organic Half And Half es el vigésimo producto que más se reordena, siendo 8389 veces. "
   ]
  },
  {
   "cell_type": "markdown",
   "id": "9d312b14",
   "metadata": {
    "id": "9d312b14"
   },
   "source": [
    "### Para cada producto, ¿cuál es la proporción de las veces que se pide y que se vuelve a pedir?"
   ]
  },
  {
   "cell_type": "code",
   "execution_count": null,
   "id": "8ae9f4b1",
   "metadata": {
    "id": "8ae9f4b1"
   },
   "outputs": [],
   "source": [
    "# Agrupación por producto, el total de veces que se ordenó y se reordenó\n",
    "product_order_stats = order_products.groupby('product_id').agg(\n",
    "    total_orders=('reordered', 'size'),      # Total de veces que se pidió el producto\n",
    "    total_reorders=('reordered', 'sum')      # Total de veces que se volvió a pedir (reordered = 1)\n",
    ")"
   ]
  },
  {
   "cell_type": "code",
   "execution_count": null,
   "id": "103e7fe1",
   "metadata": {
    "id": "103e7fe1"
   },
   "outputs": [],
   "source": [
    "# Cálculo de reordenamiento\n",
    "product_order_stats['reorder_ratio'] = product_order_stats['total_reorders'] / product_order_stats['total_orders']"
   ]
  },
  {
   "cell_type": "code",
   "execution_count": null,
   "id": "social-individual",
   "metadata": {
    "id": "social-individual"
   },
   "outputs": [
    {
     "name": "stdout",
     "output_type": "stream",
     "text": [
      "            total_orders  total_reorders  reorder_ratio\n",
      "product_id                                             \n",
      "1                    280             158       0.564286\n",
      "2                     11               0       0.000000\n",
      "3                     42              31       0.738095\n",
      "4                     49              25       0.510204\n",
      "7                      2               1       0.500000\n",
      "8                     19               6       0.315789\n",
      "9                     21              16       0.761905\n",
      "10                   337             151       0.448071\n",
      "11                    16              10       0.625000\n",
      "12                    41              16       0.390244\n"
     ]
    }
   ],
   "source": [
    "# Imprimir agrupación\n",
    "print(product_order_stats.head(10))"
   ]
  },
  {
   "cell_type": "markdown",
   "id": "subject-boxing",
   "metadata": {
    "id": "subject-boxing"
   },
   "source": [
    "### Para cada cliente, ¿qué proporción de sus productos ya los había pedido?"
   ]
  },
  {
   "cell_type": "code",
   "execution_count": null,
   "id": "medical-couple",
   "metadata": {
    "id": "medical-couple",
    "scrolled": true
   },
   "outputs": [],
   "source": [
    "# Agrupación por cliente y proporción de reordenamiento\n",
    "orders_with_user = order_products.merge(instacart_orders[['order_id', 'user_id']], on='order_id')\n",
    "client_order_stats = orders_with_user.groupby('user_id').agg(\n",
    "    total_orders=('reordered', 'size'),      # Total de veces que se pidió el producto\n",
    "    total_reorders=('reordered', 'sum')      # Total de veces que se volvió a pedir (reordered = 1)\n",
    ")"
   ]
  },
  {
   "cell_type": "code",
   "execution_count": null,
   "id": "8892e4b4",
   "metadata": {
    "id": "8892e4b4"
   },
   "outputs": [
    {
     "name": "stdout",
     "output_type": "stream",
     "text": [
      "         total_orders  total_reorders  reorder_rate\n",
      "user_id                                            \n",
      "2                  26               1      0.038462\n",
      "4                   2               0      0.000000\n",
      "5                  12               8      0.666667\n",
      "6                   4               0      0.000000\n",
      "7                  14              13      0.928571\n",
      "11                 15               3      0.200000\n",
      "12                 12               3      0.250000\n",
      "13                 23              13      0.565217\n",
      "14                 61              22      0.360656\n",
      "15                 13               7      0.538462\n"
     ]
    }
   ],
   "source": [
    "# Cálculo de reordenamiento\n",
    "client_order_stats['reorder_rate'] = client_order_stats['total_reorders'] / client_order_stats['total_orders']\n",
    "print(client_order_stats.head(10))"
   ]
  },
  {
   "cell_type": "markdown",
   "id": "92d35137",
   "metadata": {
    "id": "92d35137"
   },
   "source": [
    "### ¿Cuáles son los 20 principales artículos que las personas ponen primero en sus carritos?"
   ]
  },
  {
   "cell_type": "code",
   "execution_count": null,
   "id": "0ae57274",
   "metadata": {
    "id": "0ae57274",
    "scrolled": true
   },
   "outputs": [
    {
     "name": "stdout",
     "output_type": "stream",
     "text": [
      "         order_id  product_id  add_to_cart_order  reordered\n",
      "3614835   1487260       12240                 10          0\n",
      "4008960   2207166        6288                  7          0\n",
      "1848262   2296105       18677                  1          1\n",
      "2217806    809002       36086                  9          1\n",
      "2078875   1221551       40723                  2          1\n",
      "         order_id  product_id  add_to_cart_order  reordered\n",
      "2542684   1889992       21137                  1          1\n",
      "2214066   1241431       44980                  1          0\n",
      "4165059   1956540       13176                  1          1\n",
      "2605504    342958       24852                  1          1\n",
      "4035573   2843553       26165                  1          1\n"
     ]
    }
   ],
   "source": [
    "# Artículos que las personas ponen primero en sus carritos\n",
    "print(order_products.sample(5))\n",
    "first_in_cart = order_products[order_products['add_to_cart_order'] == 1]\n",
    "print(first_in_cart.sample(5))"
   ]
  },
  {
   "cell_type": "code",
   "execution_count": null,
   "id": "forty-netherlands",
   "metadata": {
    "id": "forty-netherlands",
    "scrolled": true
   },
   "outputs": [
    {
     "name": "stdout",
     "output_type": "stream",
     "text": [
      "product_id\n",
      "24852    15562\n",
      "13176    11026\n",
      "27845     4363\n",
      "21137     3946\n",
      "47209     3390\n",
      "Name: count, dtype: int64\n"
     ]
    }
   ],
   "source": [
    "# Mayor a menor de los productos que son colocados primero en el carrito\n",
    "top_first_in_cart = first_in_cart['product_id'].value_counts().head(20)\n",
    "print(top_first_in_cart.head(5))"
   ]
  },
  {
   "cell_type": "code",
   "execution_count": null,
   "id": "08e41ec2",
   "metadata": {
    "id": "08e41ec2"
   },
   "outputs": [
    {
     "name": "stdout",
     "output_type": "stream",
     "text": [
      "    product_id  count                 product_name\n",
      "0        24852  15562                       Banana\n",
      "1        13176  11026       Bag of Organic Bananas\n",
      "2        27845   4363           Organic Whole Milk\n",
      "3        21137   3946         Organic Strawberries\n",
      "4        47209   3390         Organic Hass Avocado\n",
      "5        21903   3336         Organic Baby Spinach\n",
      "6        47766   3044              Organic Avocado\n",
      "7        19660   2336                 Spring Water\n",
      "8        16797   2308                 Strawberries\n",
      "9        27966   2024          Organic Raspberries\n",
      "10       44632   1914   Sparkling Water Grapefruit\n",
      "11       49235   1797          Organic Half & Half\n",
      "12       47626   1737                  Large Lemon\n",
      "13         196   1733                         Soda\n",
      "14       38689   1397     Organic Reduced Fat Milk\n",
      "15       26209   1370                        Limes\n",
      "16       12341   1340                Hass Avocados\n",
      "17        5785   1310  Organic Reduced Fat 2% Milk\n",
      "18       27086   1309                  Half & Half\n",
      "19       43352   1246                  Raspberries\n"
     ]
    }
   ],
   "source": [
    "# Transformación a DF y agregar columna product_name\n",
    "top_first_in_cart_df = top_first_in_cart.to_frame().reset_index()\n",
    "top_first_in_cart_df.columns = ['product_id', 'count']\n",
    "top_first_in_cart_with_names = top_first_in_cart_df.join(products.set_index('product_id')['product_name'], on='product_id')\n",
    "print(top_first_in_cart_with_names)"
   ]
  },
  {
   "cell_type": "markdown",
   "id": "28ce9872",
   "metadata": {
    "id": "28ce9872"
   },
   "source": [
    "Primero filtré todos los productos que se ponen por primera vez. Conté sus valores con base en la columna 'product_id', para separarlos por tipo de producto y contar el valor de cada uno de ellos. Lo convertí a un DataFrame y reseteé su índice, le asigné nombres de columnas y finalmente extraje la columna products de otro DataFrame para agregarla al nuevo DataFrame, tal y como me lo pidieron las instrucciones. "
   ]
  },
  {
   "cell_type": "markdown",
   "id": "520eecc2",
   "metadata": {
    "id": "uITbFCEoDosC"
   },
   "source": [
    "# Conclusiones:"
   ]
  },
  {
   "cell_type": "markdown",
   "id": "19c6f795",
   "metadata": {},
   "source": [
    "Se realizó un EDA exhaustivo en cada DF. En este proyecto aprendí a identificar patrones que explican porqué muchas veces hay duplicados, ausentes, así como leer la actividad en ciertas circunstancias."
   ]
  }
 ],
 "metadata": {
  "ExecuteTimeLog": [
   {
    "duration": 2188,
    "start_time": "2024-10-15T16:42:21.089Z"
   },
   {
    "duration": 2311,
    "start_time": "2024-10-15T16:42:25.205Z"
   },
   {
    "duration": 21,
    "start_time": "2024-10-15T16:42:29.584Z"
   },
   {
    "duration": 909,
    "start_time": "2024-10-15T16:44:18.061Z"
   },
   {
    "duration": 10,
    "start_time": "2024-10-15T16:44:20.519Z"
   },
   {
    "duration": 10,
    "start_time": "2024-10-15T16:47:02.317Z"
   },
   {
    "duration": 8,
    "start_time": "2024-10-15T16:47:18.193Z"
   },
   {
    "duration": 9,
    "start_time": "2024-10-15T16:47:32.001Z"
   },
   {
    "duration": 7,
    "start_time": "2024-10-15T16:48:47.617Z"
   },
   {
    "duration": 840,
    "start_time": "2024-10-15T17:17:00.076Z"
   },
   {
    "duration": 12,
    "start_time": "2024-10-15T17:17:14.363Z"
   },
   {
    "duration": 10,
    "start_time": "2024-10-15T17:17:19.051Z"
   },
   {
    "duration": 11,
    "start_time": "2024-10-15T17:17:43.499Z"
   },
   {
    "duration": 8,
    "start_time": "2024-10-15T17:18:15.704Z"
   },
   {
    "duration": 8,
    "start_time": "2024-10-15T17:18:33.233Z"
   },
   {
    "duration": 9,
    "start_time": "2024-10-15T17:19:06.796Z"
   },
   {
    "duration": 7,
    "start_time": "2024-10-15T17:49:01.997Z"
   },
   {
    "duration": 8,
    "start_time": "2024-10-15T17:49:05.479Z"
   },
   {
    "duration": 6,
    "start_time": "2024-10-15T19:22:04.565Z"
   },
   {
    "duration": 94,
    "start_time": "2024-10-15T19:24:50.453Z"
   },
   {
    "duration": 16,
    "start_time": "2024-10-15T19:25:54.595Z"
   },
   {
    "duration": 9,
    "start_time": "2024-10-15T19:27:30.379Z"
   },
   {
    "duration": 10,
    "start_time": "2024-10-15T19:28:09.095Z"
   },
   {
    "duration": 9,
    "start_time": "2024-10-15T19:32:20.888Z"
   },
   {
    "duration": 10,
    "start_time": "2024-10-15T19:32:30.809Z"
   },
   {
    "duration": 10,
    "start_time": "2024-10-15T19:34:43.888Z"
   },
   {
    "duration": 11,
    "start_time": "2024-10-15T19:37:01.948Z"
   },
   {
    "duration": 11,
    "start_time": "2024-10-15T19:37:19.913Z"
   },
   {
    "duration": 13,
    "start_time": "2024-10-15T19:41:00.309Z"
   },
   {
    "duration": 10,
    "start_time": "2024-10-15T19:41:07.131Z"
   },
   {
    "duration": 10,
    "start_time": "2024-10-15T19:41:37.125Z"
   },
   {
    "duration": 9,
    "start_time": "2024-10-15T19:41:55.754Z"
   },
   {
    "duration": 9,
    "start_time": "2024-10-15T19:41:59.658Z"
   },
   {
    "duration": 8,
    "start_time": "2024-10-15T19:42:12.522Z"
   },
   {
    "duration": 11,
    "start_time": "2024-10-15T19:43:13.895Z"
   },
   {
    "duration": 25,
    "start_time": "2024-10-15T19:45:29.832Z"
   },
   {
    "duration": 235,
    "start_time": "2024-10-15T19:48:50.678Z"
   },
   {
    "duration": 18,
    "start_time": "2024-10-15T19:49:07.937Z"
   },
   {
    "duration": 10,
    "start_time": "2024-10-15T19:49:22.568Z"
   },
   {
    "duration": 8,
    "start_time": "2024-10-15T19:49:29.678Z"
   },
   {
    "duration": 9,
    "start_time": "2024-10-15T19:49:37.976Z"
   },
   {
    "duration": 127,
    "start_time": "2024-10-15T20:03:12.015Z"
   },
   {
    "duration": 101,
    "start_time": "2024-10-15T20:03:23.568Z"
   },
   {
    "duration": 2213,
    "start_time": "2024-10-15T21:26:18.521Z"
   },
   {
    "duration": 1012,
    "start_time": "2024-10-15T21:26:22.253Z"
   },
   {
    "duration": 14,
    "start_time": "2024-10-15T21:26:23.648Z"
   },
   {
    "duration": 10,
    "start_time": "2024-10-15T21:26:25.670Z"
   },
   {
    "duration": 7,
    "start_time": "2024-10-15T21:26:27.782Z"
   },
   {
    "duration": 8,
    "start_time": "2024-10-15T21:26:29.489Z"
   },
   {
    "duration": 10,
    "start_time": "2024-10-15T21:26:31.109Z"
   },
   {
    "duration": 102,
    "start_time": "2024-10-15T21:27:02.647Z"
   },
   {
    "duration": 13,
    "start_time": "2024-10-15T21:27:04.446Z"
   },
   {
    "duration": 124,
    "start_time": "2024-10-15T21:27:08.034Z"
   },
   {
    "duration": 88,
    "start_time": "2024-10-15T21:27:09.355Z"
   },
   {
    "duration": 25,
    "start_time": "2024-10-15T21:29:09.483Z"
   },
   {
    "duration": 14,
    "start_time": "2024-10-15T21:31:00.812Z"
   },
   {
    "duration": 4,
    "start_time": "2024-10-15T21:32:57.481Z"
   },
   {
    "duration": 288,
    "start_time": "2024-10-15T21:33:02.786Z"
   },
   {
    "duration": 12,
    "start_time": "2024-10-15T21:33:09.966Z"
   },
   {
    "duration": 12,
    "start_time": "2024-10-15T21:41:38.020Z"
   },
   {
    "duration": 4,
    "start_time": "2024-10-15T21:42:48.703Z"
   },
   {
    "duration": 20,
    "start_time": "2024-10-15T21:47:15.523Z"
   },
   {
    "duration": 22,
    "start_time": "2024-10-15T21:56:14.958Z"
   },
   {
    "duration": 4,
    "start_time": "2024-10-15T22:09:18.510Z"
   },
   {
    "duration": 3,
    "start_time": "2024-10-15T22:10:37.518Z"
   },
   {
    "duration": 4,
    "start_time": "2024-10-15T22:12:49.609Z"
   },
   {
    "duration": 3,
    "start_time": "2024-10-15T22:13:44.126Z"
   },
   {
    "duration": 2212,
    "start_time": "2024-10-15T22:47:26.099Z"
   },
   {
    "duration": 1012,
    "start_time": "2024-10-15T22:47:29.843Z"
   },
   {
    "duration": 12,
    "start_time": "2024-10-15T22:47:31.030Z"
   },
   {
    "duration": 11,
    "start_time": "2024-10-15T22:47:32.866Z"
   },
   {
    "duration": 8,
    "start_time": "2024-10-15T22:47:34.552Z"
   },
   {
    "duration": 7,
    "start_time": "2024-10-15T22:47:36.385Z"
   },
   {
    "duration": 8,
    "start_time": "2024-10-15T22:47:38.264Z"
   },
   {
    "duration": 97,
    "start_time": "2024-10-15T22:47:42.102Z"
   },
   {
    "duration": 12,
    "start_time": "2024-10-15T22:47:43.637Z"
   },
   {
    "duration": 125,
    "start_time": "2024-10-15T22:47:46.000Z"
   },
   {
    "duration": 94,
    "start_time": "2024-10-15T22:47:46.855Z"
   },
   {
    "duration": 38,
    "start_time": "2024-10-15T22:47:47.879Z"
   },
   {
    "duration": 14,
    "start_time": "2024-10-15T22:47:49.963Z"
   },
   {
    "duration": 5,
    "start_time": "2024-10-15T22:47:51.070Z"
   },
   {
    "duration": 19,
    "start_time": "2024-10-15T22:47:52.129Z"
   },
   {
    "duration": 27,
    "start_time": "2024-10-15T22:47:53.265Z"
   },
   {
    "duration": 4,
    "start_time": "2024-10-15T22:47:55.585Z"
   },
   {
    "duration": 4,
    "start_time": "2024-10-15T22:47:56.592Z"
   },
   {
    "duration": 4,
    "start_time": "2024-10-15T22:47:59.434Z"
   },
   {
    "duration": 4,
    "start_time": "2024-10-15T22:48:00.521Z"
   },
   {
    "duration": 838,
    "start_time": "2024-10-15T22:48:15.311Z"
   },
   {
    "duration": 2342,
    "start_time": "2024-10-16T00:58:47.956Z"
   },
   {
    "duration": 1082,
    "start_time": "2024-10-16T00:58:51.242Z"
   },
   {
    "duration": 11,
    "start_time": "2024-10-16T00:58:53.097Z"
   },
   {
    "duration": 11,
    "start_time": "2024-10-16T00:58:54.681Z"
   },
   {
    "duration": 8,
    "start_time": "2024-10-16T00:58:56.471Z"
   },
   {
    "duration": 8,
    "start_time": "2024-10-16T00:58:57.428Z"
   },
   {
    "duration": 33,
    "start_time": "2024-10-16T00:58:59.637Z"
   },
   {
    "duration": 116,
    "start_time": "2024-10-16T00:59:04.114Z"
   },
   {
    "duration": 11,
    "start_time": "2024-10-16T00:59:05.271Z"
   },
   {
    "duration": 118,
    "start_time": "2024-10-16T00:59:07.594Z"
   },
   {
    "duration": 106,
    "start_time": "2024-10-16T00:59:09.428Z"
   },
   {
    "duration": 39,
    "start_time": "2024-10-16T00:59:10.555Z"
   },
   {
    "duration": 14,
    "start_time": "2024-10-16T00:59:12.282Z"
   },
   {
    "duration": 4,
    "start_time": "2024-10-16T00:59:14.058Z"
   },
   {
    "duration": 23,
    "start_time": "2024-10-16T00:59:15.027Z"
   },
   {
    "duration": 28,
    "start_time": "2024-10-16T00:59:16.128Z"
   },
   {
    "duration": 4,
    "start_time": "2024-10-16T00:59:17.915Z"
   },
   {
    "duration": 4,
    "start_time": "2024-10-16T00:59:19.584Z"
   },
   {
    "duration": 3,
    "start_time": "2024-10-16T00:59:21.402Z"
   },
   {
    "duration": 4,
    "start_time": "2024-10-16T00:59:22.413Z"
   },
   {
    "duration": 821,
    "start_time": "2024-10-16T00:59:24.825Z"
   },
   {
    "duration": 2195,
    "start_time": "2024-10-16T01:55:53.669Z"
   },
   {
    "duration": 999,
    "start_time": "2024-10-16T01:55:57.459Z"
   },
   {
    "duration": 12,
    "start_time": "2024-10-16T01:56:02.314Z"
   },
   {
    "duration": 10,
    "start_time": "2024-10-16T01:56:04.433Z"
   },
   {
    "duration": 7,
    "start_time": "2024-10-16T01:56:09.683Z"
   },
   {
    "duration": 10,
    "start_time": "2024-10-16T01:56:20.540Z"
   },
   {
    "duration": 7,
    "start_time": "2024-10-16T01:56:22.848Z"
   },
   {
    "duration": 113,
    "start_time": "2024-10-16T01:56:27.356Z"
   },
   {
    "duration": 16,
    "start_time": "2024-10-16T01:56:30.288Z"
   },
   {
    "duration": 108,
    "start_time": "2024-10-16T01:56:33.908Z"
   },
   {
    "duration": 90,
    "start_time": "2024-10-16T01:56:35.450Z"
   },
   {
    "duration": 28,
    "start_time": "2024-10-16T01:56:37.122Z"
   },
   {
    "duration": 12,
    "start_time": "2024-10-16T01:56:39.915Z"
   },
   {
    "duration": 4,
    "start_time": "2024-10-16T01:56:42.059Z"
   },
   {
    "duration": 20,
    "start_time": "2024-10-16T01:56:44.871Z"
   },
   {
    "duration": 22,
    "start_time": "2024-10-16T01:56:47.738Z"
   },
   {
    "duration": 4,
    "start_time": "2024-10-16T01:56:52.050Z"
   },
   {
    "duration": 4,
    "start_time": "2024-10-16T01:56:54.241Z"
   },
   {
    "duration": 5,
    "start_time": "2024-10-16T01:56:56.897Z"
   },
   {
    "duration": 3,
    "start_time": "2024-10-16T01:57:04.626Z"
   },
   {
    "duration": 809,
    "start_time": "2024-10-16T01:57:07.781Z"
   },
   {
    "duration": 724,
    "start_time": "2024-10-16T01:57:40.736Z"
   },
   {
    "duration": 4,
    "start_time": "2024-10-16T02:32:18.830Z"
   },
   {
    "duration": 5,
    "start_time": "2024-10-16T02:32:45.342Z"
   },
   {
    "duration": 5,
    "start_time": "2024-10-16T02:43:15.593Z"
   },
   {
    "duration": 223,
    "start_time": "2024-10-16T02:43:34.675Z"
   },
   {
    "duration": 4,
    "start_time": "2024-10-16T02:43:39.611Z"
   },
   {
    "duration": 2180,
    "start_time": "2024-10-16T15:46:34.254Z"
   },
   {
    "duration": 1016,
    "start_time": "2024-10-16T15:46:37.639Z"
   },
   {
    "duration": 11,
    "start_time": "2024-10-16T15:46:41.725Z"
   },
   {
    "duration": 9,
    "start_time": "2024-10-16T15:46:43.947Z"
   },
   {
    "duration": 7,
    "start_time": "2024-10-16T15:46:45.773Z"
   },
   {
    "duration": 8,
    "start_time": "2024-10-16T15:46:46.958Z"
   },
   {
    "duration": 8,
    "start_time": "2024-10-16T15:46:48.801Z"
   },
   {
    "duration": 90,
    "start_time": "2024-10-16T15:46:52.489Z"
   },
   {
    "duration": 11,
    "start_time": "2024-10-16T15:46:53.886Z"
   },
   {
    "duration": 102,
    "start_time": "2024-10-16T15:46:56.787Z"
   },
   {
    "duration": 88,
    "start_time": "2024-10-16T15:46:58.154Z"
   },
   {
    "duration": 32,
    "start_time": "2024-10-16T15:46:59.237Z"
   },
   {
    "duration": 14,
    "start_time": "2024-10-16T15:47:01.289Z"
   },
   {
    "duration": 3,
    "start_time": "2024-10-16T15:47:02.329Z"
   },
   {
    "duration": 18,
    "start_time": "2024-10-16T15:47:04.272Z"
   },
   {
    "duration": 23,
    "start_time": "2024-10-16T15:47:05.759Z"
   },
   {
    "duration": 4,
    "start_time": "2024-10-16T15:47:08.182Z"
   },
   {
    "duration": 4,
    "start_time": "2024-10-16T15:47:09.213Z"
   },
   {
    "duration": 4,
    "start_time": "2024-10-16T15:47:10.866Z"
   },
   {
    "duration": 3,
    "start_time": "2024-10-16T15:47:11.800Z"
   },
   {
    "duration": 750,
    "start_time": "2024-10-16T15:47:13.745Z"
   },
   {
    "duration": 699,
    "start_time": "2024-10-16T15:47:15.763Z"
   },
   {
    "duration": 7,
    "start_time": "2024-10-16T15:47:19.105Z"
   },
   {
    "duration": 3,
    "start_time": "2024-10-16T15:47:20.817Z"
   },
   {
    "duration": 5,
    "start_time": "2024-10-16T15:47:49.078Z"
   },
   {
    "duration": 11,
    "start_time": "2024-10-16T15:50:49.509Z"
   },
   {
    "duration": 5,
    "start_time": "2024-10-16T17:00:24.433Z"
   },
   {
    "duration": 4,
    "start_time": "2024-10-16T17:11:58.749Z"
   },
   {
    "duration": 4,
    "start_time": "2024-10-16T17:12:08.080Z"
   },
   {
    "duration": 5,
    "start_time": "2024-10-16T17:12:18.584Z"
   },
   {
    "duration": 5,
    "start_time": "2024-10-16T17:12:24.539Z"
   },
   {
    "duration": 5,
    "start_time": "2024-10-16T17:13:09.590Z"
   },
   {
    "duration": 5,
    "start_time": "2024-10-16T17:13:14.379Z"
   },
   {
    "duration": 5,
    "start_time": "2024-10-16T17:13:19.046Z"
   },
   {
    "duration": 6,
    "start_time": "2024-10-16T17:13:22.967Z"
   },
   {
    "duration": 5,
    "start_time": "2024-10-16T17:16:17.206Z"
   },
   {
    "duration": 5,
    "start_time": "2024-10-16T17:16:22.484Z"
   },
   {
    "duration": 5,
    "start_time": "2024-10-16T17:16:27.104Z"
   },
   {
    "duration": 5,
    "start_time": "2024-10-16T17:17:04.118Z"
   },
   {
    "duration": 5,
    "start_time": "2024-10-16T17:17:08.380Z"
   },
   {
    "duration": 6,
    "start_time": "2024-10-16T17:20:09.541Z"
   },
   {
    "duration": 8,
    "start_time": "2024-10-16T17:32:36.657Z"
   },
   {
    "duration": 5,
    "start_time": "2024-10-16T17:36:23.421Z"
   },
   {
    "duration": 7,
    "start_time": "2024-10-16T17:37:19.262Z"
   },
   {
    "duration": 7,
    "start_time": "2024-10-16T17:48:38.252Z"
   },
   {
    "duration": 8,
    "start_time": "2024-10-16T17:48:51.652Z"
   },
   {
    "duration": 7,
    "start_time": "2024-10-16T17:48:53.203Z"
   },
   {
    "duration": 7,
    "start_time": "2024-10-16T17:49:01.508Z"
   },
   {
    "duration": 5,
    "start_time": "2024-10-16T17:49:07.574Z"
   },
   {
    "duration": 7,
    "start_time": "2024-10-16T17:49:12.464Z"
   },
   {
    "duration": 832,
    "start_time": "2024-10-16T18:03:00.088Z"
   },
   {
    "duration": 232,
    "start_time": "2024-10-16T18:03:08.858Z"
   },
   {
    "duration": 12,
    "start_time": "2024-10-16T18:03:47.105Z"
   },
   {
    "duration": 6,
    "start_time": "2024-10-16T18:06:41.078Z"
   },
   {
    "duration": 3,
    "start_time": "2024-10-16T18:09:46.038Z"
   },
   {
    "duration": 3,
    "start_time": "2024-10-16T18:09:47.625Z"
   },
   {
    "duration": 6,
    "start_time": "2024-10-16T18:09:55.558Z"
   },
   {
    "duration": 14,
    "start_time": "2024-10-16T18:29:20.675Z"
   },
   {
    "duration": 5,
    "start_time": "2024-10-16T18:30:25.792Z"
   },
   {
    "duration": 4,
    "start_time": "2024-10-16T18:33:25.573Z"
   },
   {
    "duration": 5,
    "start_time": "2024-10-16T18:34:16.532Z"
   },
   {
    "duration": 5,
    "start_time": "2024-10-16T18:34:25.331Z"
   },
   {
    "duration": 5,
    "start_time": "2024-10-16T18:34:40.845Z"
   },
   {
    "duration": 9,
    "start_time": "2024-10-16T18:34:44.461Z"
   },
   {
    "duration": 5,
    "start_time": "2024-10-16T18:35:19.448Z"
   },
   {
    "duration": 6,
    "start_time": "2024-10-16T18:35:40.162Z"
   },
   {
    "duration": 229,
    "start_time": "2024-10-16T18:35:57.052Z"
   },
   {
    "duration": 5,
    "start_time": "2024-10-16T18:36:04.600Z"
   },
   {
    "duration": 24,
    "start_time": "2024-10-16T18:36:25.042Z"
   },
   {
    "duration": 7,
    "start_time": "2024-10-16T18:36:49.387Z"
   },
   {
    "duration": 16,
    "start_time": "2024-10-16T18:38:26.630Z"
   },
   {
    "duration": 16,
    "start_time": "2024-10-16T18:38:42.985Z"
   },
   {
    "duration": 16,
    "start_time": "2024-10-16T18:38:46.989Z"
   },
   {
    "duration": 16,
    "start_time": "2024-10-16T18:38:48.566Z"
   },
   {
    "duration": 6,
    "start_time": "2024-10-16T18:38:55.488Z"
   },
   {
    "duration": 6,
    "start_time": "2024-10-16T18:42:11.737Z"
   },
   {
    "duration": 7,
    "start_time": "2024-10-16T18:42:24.492Z"
   },
   {
    "duration": 7,
    "start_time": "2024-10-16T18:42:27.808Z"
   },
   {
    "duration": 16,
    "start_time": "2024-10-16T18:45:32.846Z"
   },
   {
    "duration": 16,
    "start_time": "2024-10-16T18:50:06.711Z"
   },
   {
    "duration": 30,
    "start_time": "2024-10-16T18:50:26.958Z"
   },
   {
    "duration": 117,
    "start_time": "2024-10-16T18:51:26.898Z"
   },
   {
    "duration": 136,
    "start_time": "2024-10-16T18:51:31.954Z"
   },
   {
    "duration": 108,
    "start_time": "2024-10-16T18:51:33.433Z"
   },
   {
    "duration": 117,
    "start_time": "2024-10-16T18:51:34.664Z"
   },
   {
    "duration": 109,
    "start_time": "2024-10-16T18:51:35.803Z"
   },
   {
    "duration": 115,
    "start_time": "2024-10-16T18:51:36.957Z"
   },
   {
    "duration": 119,
    "start_time": "2024-10-16T18:51:38.043Z"
   },
   {
    "duration": 108,
    "start_time": "2024-10-16T18:51:39.530Z"
   },
   {
    "duration": 14,
    "start_time": "2024-10-16T18:51:44.883Z"
   },
   {
    "duration": 36,
    "start_time": "2024-10-16T18:52:11.134Z"
   },
   {
    "duration": 2318,
    "start_time": "2024-10-16T21:53:58.130Z"
   },
   {
    "duration": 1130,
    "start_time": "2024-10-16T21:54:02.099Z"
   },
   {
    "duration": 14,
    "start_time": "2024-10-16T21:54:04.277Z"
   },
   {
    "duration": 10,
    "start_time": "2024-10-16T21:54:06.403Z"
   },
   {
    "duration": 20,
    "start_time": "2024-10-16T21:54:08.295Z"
   },
   {
    "duration": 9,
    "start_time": "2024-10-16T21:54:09.480Z"
   },
   {
    "duration": 16,
    "start_time": "2024-10-16T21:54:11.277Z"
   },
   {
    "duration": 90,
    "start_time": "2024-10-16T21:54:14.432Z"
   },
   {
    "duration": 11,
    "start_time": "2024-10-16T21:54:15.475Z"
   },
   {
    "duration": 109,
    "start_time": "2024-10-16T21:54:18.119Z"
   },
   {
    "duration": 86,
    "start_time": "2024-10-16T21:54:19.196Z"
   },
   {
    "duration": 40,
    "start_time": "2024-10-16T21:54:20.774Z"
   },
   {
    "duration": 27,
    "start_time": "2024-10-16T21:54:22.985Z"
   },
   {
    "duration": 10,
    "start_time": "2024-10-16T21:54:24.391Z"
   },
   {
    "duration": 23,
    "start_time": "2024-10-16T21:54:25.671Z"
   },
   {
    "duration": 4,
    "start_time": "2024-10-16T21:54:27.547Z"
   },
   {
    "duration": 4,
    "start_time": "2024-10-16T21:54:28.847Z"
   },
   {
    "duration": 12,
    "start_time": "2024-10-16T21:54:30.686Z"
   },
   {
    "duration": 3,
    "start_time": "2024-10-16T21:54:31.745Z"
   },
   {
    "duration": 817,
    "start_time": "2024-10-16T21:54:33.756Z"
   },
   {
    "duration": 769,
    "start_time": "2024-10-16T21:54:35.886Z"
   },
   {
    "duration": 11,
    "start_time": "2024-10-16T21:54:38.899Z"
   },
   {
    "duration": 7,
    "start_time": "2024-10-16T21:54:40.551Z"
   },
   {
    "duration": 4,
    "start_time": "2024-10-16T21:54:44.716Z"
   },
   {
    "duration": 9,
    "start_time": "2024-10-16T21:54:47.004Z"
   },
   {
    "duration": 8,
    "start_time": "2024-10-16T21:54:49.112Z"
   },
   {
    "duration": 6,
    "start_time": "2024-10-16T21:54:51.811Z"
   },
   {
    "duration": 11,
    "start_time": "2024-10-16T21:54:54.203Z"
   },
   {
    "duration": 15,
    "start_time": "2024-10-16T21:55:00.935Z"
   },
   {
    "duration": 32,
    "start_time": "2024-10-16T21:55:02.332Z"
   },
   {
    "duration": 13,
    "start_time": "2024-10-16T22:00:29.726Z"
   },
   {
    "duration": 8,
    "start_time": "2024-10-16T22:12:21.108Z"
   },
   {
    "duration": 7,
    "start_time": "2024-10-16T22:19:07.756Z"
   },
   {
    "duration": 9,
    "start_time": "2024-10-16T22:19:13.709Z"
   },
   {
    "duration": 134,
    "start_time": "2024-10-16T22:20:19.999Z"
   },
   {
    "duration": 123,
    "start_time": "2024-10-16T22:20:33.208Z"
   },
   {
    "duration": 132,
    "start_time": "2024-10-16T22:20:36.120Z"
   },
   {
    "duration": 9,
    "start_time": "2024-10-16T22:21:51.919Z"
   },
   {
    "duration": 8,
    "start_time": "2024-10-16T22:22:07.958Z"
   },
   {
    "duration": 9,
    "start_time": "2024-10-16T22:26:26.957Z"
   },
   {
    "duration": 8,
    "start_time": "2024-10-16T22:26:47.370Z"
   },
   {
    "duration": 9,
    "start_time": "2024-10-16T22:31:13.646Z"
   },
   {
    "duration": 9,
    "start_time": "2024-10-16T22:31:56.320Z"
   },
   {
    "duration": 9,
    "start_time": "2024-10-16T22:32:26.832Z"
   },
   {
    "duration": 8,
    "start_time": "2024-10-16T22:32:51.650Z"
   },
   {
    "duration": 8,
    "start_time": "2024-10-16T22:39:27.331Z"
   },
   {
    "duration": 8,
    "start_time": "2024-10-16T22:39:43.044Z"
   },
   {
    "duration": 9,
    "start_time": "2024-10-16T22:39:50.665Z"
   },
   {
    "duration": 10,
    "start_time": "2024-10-16T22:40:07.520Z"
   },
   {
    "duration": 27,
    "start_time": "2024-10-16T22:40:15.147Z"
   },
   {
    "duration": 62,
    "start_time": "2024-10-16T23:05:03.863Z"
   },
   {
    "duration": 58,
    "start_time": "2024-10-16T23:05:23.270Z"
   },
   {
    "duration": 35,
    "start_time": "2024-10-16T23:05:57.862Z"
   },
   {
    "duration": 2142,
    "start_time": "2024-10-17T01:57:24.785Z"
   },
   {
    "duration": 984,
    "start_time": "2024-10-17T01:57:28.311Z"
   },
   {
    "duration": 11,
    "start_time": "2024-10-17T01:57:36.665Z"
   },
   {
    "duration": 10,
    "start_time": "2024-10-17T01:57:39.202Z"
   },
   {
    "duration": 7,
    "start_time": "2024-10-17T01:57:41.046Z"
   },
   {
    "duration": 8,
    "start_time": "2024-10-17T01:57:43.500Z"
   },
   {
    "duration": 9,
    "start_time": "2024-10-17T01:57:44.992Z"
   },
   {
    "duration": 96,
    "start_time": "2024-10-17T01:57:51.373Z"
   },
   {
    "duration": 11,
    "start_time": "2024-10-17T01:57:53.615Z"
   },
   {
    "duration": 98,
    "start_time": "2024-10-17T01:57:56.951Z"
   },
   {
    "duration": 87,
    "start_time": "2024-10-17T01:58:05.780Z"
   },
   {
    "duration": 31,
    "start_time": "2024-10-17T01:58:09.066Z"
   },
   {
    "duration": 13,
    "start_time": "2024-10-17T01:58:11.904Z"
   },
   {
    "duration": 3,
    "start_time": "2024-10-17T01:58:13.565Z"
   },
   {
    "duration": 18,
    "start_time": "2024-10-17T01:58:14.575Z"
   },
   {
    "duration": 21,
    "start_time": "2024-10-17T01:58:16.071Z"
   },
   {
    "duration": 4,
    "start_time": "2024-10-17T01:58:18.419Z"
   },
   {
    "duration": 4,
    "start_time": "2024-10-17T01:58:19.509Z"
   },
   {
    "duration": 4,
    "start_time": "2024-10-17T01:58:21.476Z"
   },
   {
    "duration": 3,
    "start_time": "2024-10-17T01:58:22.491Z"
   },
   {
    "duration": 782,
    "start_time": "2024-10-17T01:58:24.070Z"
   },
   {
    "duration": 687,
    "start_time": "2024-10-17T01:58:26.161Z"
   },
   {
    "duration": 5,
    "start_time": "2024-10-17T01:58:29.625Z"
   },
   {
    "duration": 5,
    "start_time": "2024-10-17T01:58:30.973Z"
   },
   {
    "duration": 6,
    "start_time": "2024-10-17T01:58:32.656Z"
   },
   {
    "duration": 8,
    "start_time": "2024-10-17T01:58:34.479Z"
   },
   {
    "duration": 7,
    "start_time": "2024-10-17T01:58:37.176Z"
   },
   {
    "duration": 7,
    "start_time": "2024-10-17T01:58:40.348Z"
   },
   {
    "duration": 7,
    "start_time": "2024-10-17T01:58:42.115Z"
   },
   {
    "duration": 15,
    "start_time": "2024-10-17T01:58:43.670Z"
   },
   {
    "duration": 29,
    "start_time": "2024-10-17T01:58:45.558Z"
   },
   {
    "duration": 12,
    "start_time": "2024-10-17T01:58:47.798Z"
   },
   {
    "duration": 7,
    "start_time": "2024-10-17T01:58:49.523Z"
   },
   {
    "duration": 29,
    "start_time": "2024-10-17T01:58:51.920Z"
   },
   {
    "duration": 9,
    "start_time": "2024-10-17T02:06:41.559Z"
   },
   {
    "duration": 3,
    "start_time": "2024-10-17T02:07:07.236Z"
   },
   {
    "duration": 2,
    "start_time": "2024-10-17T02:08:11.655Z"
   },
   {
    "duration": 2,
    "start_time": "2024-10-17T02:12:56.236Z"
   },
   {
    "duration": 2,
    "start_time": "2024-10-17T02:21:28.309Z"
   },
   {
    "duration": 4,
    "start_time": "2024-10-17T02:32:39.513Z"
   },
   {
    "duration": 4,
    "start_time": "2024-10-17T02:33:21.426Z"
   },
   {
    "duration": 13,
    "start_time": "2024-10-17T02:36:00.932Z"
   },
   {
    "duration": 13,
    "start_time": "2024-10-17T02:36:07.651Z"
   },
   {
    "duration": 67,
    "start_time": "2024-10-17T02:39:02.505Z"
   },
   {
    "duration": 180,
    "start_time": "2024-10-17T02:47:50.203Z"
   },
   {
    "duration": 76,
    "start_time": "2024-10-17T02:48:06.575Z"
   },
   {
    "duration": 71,
    "start_time": "2024-10-17T02:50:11.454Z"
   },
   {
    "duration": 2168,
    "start_time": "2024-10-17T04:50:04.242Z"
   },
   {
    "duration": 1030,
    "start_time": "2024-10-17T04:50:07.298Z"
   },
   {
    "duration": 13,
    "start_time": "2024-10-17T04:50:09.258Z"
   },
   {
    "duration": 11,
    "start_time": "2024-10-17T04:50:11.267Z"
   },
   {
    "duration": 7,
    "start_time": "2024-10-17T04:50:13.456Z"
   },
   {
    "duration": 9,
    "start_time": "2024-10-17T04:50:14.971Z"
   },
   {
    "duration": 9,
    "start_time": "2024-10-17T04:50:17.474Z"
   },
   {
    "duration": 95,
    "start_time": "2024-10-17T04:50:23.417Z"
   },
   {
    "duration": 12,
    "start_time": "2024-10-17T04:50:28.208Z"
   },
   {
    "duration": 146,
    "start_time": "2024-10-17T05:44:52.361Z"
   },
   {
    "duration": 96,
    "start_time": "2024-10-17T05:44:54.152Z"
   },
   {
    "duration": 34,
    "start_time": "2024-10-17T05:44:55.406Z"
   },
   {
    "duration": 14,
    "start_time": "2024-10-17T05:44:56.915Z"
   },
   {
    "duration": 3,
    "start_time": "2024-10-17T05:44:58.346Z"
   },
   {
    "duration": 20,
    "start_time": "2024-10-17T05:44:59.259Z"
   },
   {
    "duration": 23,
    "start_time": "2024-10-17T05:45:00.535Z"
   },
   {
    "duration": 3,
    "start_time": "2024-10-17T05:45:02.125Z"
   },
   {
    "duration": 4,
    "start_time": "2024-10-17T05:45:03.030Z"
   },
   {
    "duration": 7,
    "start_time": "2024-10-17T05:45:04.675Z"
   },
   {
    "duration": 4,
    "start_time": "2024-10-17T05:45:05.996Z"
   },
   {
    "duration": 843,
    "start_time": "2024-10-17T05:45:07.671Z"
   },
   {
    "duration": 924,
    "start_time": "2024-10-17T05:45:08.642Z"
   },
   {
    "duration": 6,
    "start_time": "2024-10-17T05:45:11.703Z"
   },
   {
    "duration": 5,
    "start_time": "2024-10-17T05:45:12.720Z"
   },
   {
    "duration": 5,
    "start_time": "2024-10-17T05:45:14.140Z"
   },
   {
    "duration": 8,
    "start_time": "2024-10-17T05:45:15.410Z"
   },
   {
    "duration": 10,
    "start_time": "2024-10-17T05:45:36.995Z"
   },
   {
    "duration": 7,
    "start_time": "2024-10-17T05:45:38.709Z"
   },
   {
    "duration": 7,
    "start_time": "2024-10-17T05:45:40.035Z"
   },
   {
    "duration": 16,
    "start_time": "2024-10-17T05:45:41.506Z"
   },
   {
    "duration": 30,
    "start_time": "2024-10-17T05:45:42.605Z"
   },
   {
    "duration": 15,
    "start_time": "2024-10-17T05:45:43.530Z"
   },
   {
    "duration": 8,
    "start_time": "2024-10-17T05:45:43.746Z"
   },
   {
    "duration": 8,
    "start_time": "2024-10-17T05:45:45.659Z"
   },
   {
    "duration": 35,
    "start_time": "2024-10-17T05:45:47.277Z"
   },
   {
    "duration": 5,
    "start_time": "2024-10-17T05:45:51.322Z"
   },
   {
    "duration": 4,
    "start_time": "2024-10-17T05:45:52.870Z"
   },
   {
    "duration": 72,
    "start_time": "2024-10-17T05:45:54.443Z"
   },
   {
    "duration": 5,
    "start_time": "2024-10-17T05:48:54.669Z"
   },
   {
    "duration": 8,
    "start_time": "2024-10-17T05:53:30.492Z"
   },
   {
    "duration": 5,
    "start_time": "2024-10-17T05:54:45.687Z"
   },
   {
    "duration": 8,
    "start_time": "2024-10-17T05:57:09.865Z"
   },
   {
    "duration": 11,
    "start_time": "2024-10-17T05:57:28.643Z"
   },
   {
    "duration": 16,
    "start_time": "2024-10-17T05:57:41.448Z"
   },
   {
    "duration": 16,
    "start_time": "2024-10-17T05:57:53.809Z"
   },
   {
    "duration": 15,
    "start_time": "2024-10-17T05:57:55.503Z"
   },
   {
    "duration": 15,
    "start_time": "2024-10-17T05:58:00.844Z"
   },
   {
    "duration": 13,
    "start_time": "2024-10-17T05:58:14.518Z"
   },
   {
    "duration": 8,
    "start_time": "2024-10-17T05:58:20.793Z"
   },
   {
    "duration": 10,
    "start_time": "2024-10-17T05:59:36.662Z"
   },
   {
    "duration": 8,
    "start_time": "2024-10-17T06:00:00.449Z"
   },
   {
    "duration": 3,
    "start_time": "2024-10-17T06:03:29.851Z"
   },
   {
    "duration": 3762,
    "start_time": "2024-10-17T21:56:41.908Z"
   },
   {
    "duration": 1600,
    "start_time": "2024-10-17T21:56:46.667Z"
   },
   {
    "duration": 13,
    "start_time": "2024-10-17T21:56:49.212Z"
   },
   {
    "duration": 14,
    "start_time": "2024-10-17T21:56:50.795Z"
   },
   {
    "duration": 8,
    "start_time": "2024-10-17T21:56:52.445Z"
   },
   {
    "duration": 14,
    "start_time": "2024-10-17T21:56:54.121Z"
   },
   {
    "duration": 10,
    "start_time": "2024-10-17T21:56:56.211Z"
   },
   {
    "duration": 139,
    "start_time": "2024-10-17T21:56:59.858Z"
   },
   {
    "duration": 15,
    "start_time": "2024-10-17T21:57:01.142Z"
   },
   {
    "duration": 148,
    "start_time": "2024-10-17T21:57:19.302Z"
   },
   {
    "duration": 91,
    "start_time": "2024-10-17T21:57:20.490Z"
   },
   {
    "duration": 29,
    "start_time": "2024-10-17T21:57:21.495Z"
   },
   {
    "duration": 15,
    "start_time": "2024-10-17T21:57:23.189Z"
   },
   {
    "duration": 4,
    "start_time": "2024-10-17T21:57:24.024Z"
   },
   {
    "duration": 20,
    "start_time": "2024-10-17T21:57:24.786Z"
   },
   {
    "duration": 21,
    "start_time": "2024-10-17T21:57:25.698Z"
   },
   {
    "duration": 4,
    "start_time": "2024-10-17T21:57:28.013Z"
   },
   {
    "duration": 4,
    "start_time": "2024-10-17T21:57:28.753Z"
   },
   {
    "duration": 5,
    "start_time": "2024-10-17T21:57:29.696Z"
   },
   {
    "duration": 5,
    "start_time": "2024-10-17T21:57:30.570Z"
   },
   {
    "duration": 796,
    "start_time": "2024-10-17T21:57:32.550Z"
   },
   {
    "duration": 736,
    "start_time": "2024-10-17T21:57:34.101Z"
   },
   {
    "duration": 6,
    "start_time": "2024-10-17T21:57:37.678Z"
   },
   {
    "duration": 5,
    "start_time": "2024-10-17T21:57:38.625Z"
   },
   {
    "duration": 7,
    "start_time": "2024-10-17T21:57:39.702Z"
   },
   {
    "duration": 8,
    "start_time": "2024-10-17T21:57:41.217Z"
   },
   {
    "duration": 7,
    "start_time": "2024-10-17T21:57:42.796Z"
   },
   {
    "duration": 6,
    "start_time": "2024-10-17T21:57:45.909Z"
   },
   {
    "duration": 7,
    "start_time": "2024-10-17T21:57:46.991Z"
   },
   {
    "duration": 16,
    "start_time": "2024-10-17T21:57:48.374Z"
   },
   {
    "duration": 40,
    "start_time": "2024-10-17T21:57:49.521Z"
   },
   {
    "duration": 17,
    "start_time": "2024-10-17T21:57:50.770Z"
   },
   {
    "duration": 8,
    "start_time": "2024-10-17T21:57:52.387Z"
   },
   {
    "duration": 26,
    "start_time": "2024-10-17T21:57:54.053Z"
   },
   {
    "duration": 4,
    "start_time": "2024-10-17T21:57:57.121Z"
   },
   {
    "duration": 3,
    "start_time": "2024-10-17T21:57:58.459Z"
   },
   {
    "duration": 72,
    "start_time": "2024-10-17T21:57:59.841Z"
   },
   {
    "duration": 7,
    "start_time": "2024-10-17T21:58:02.725Z"
   },
   {
    "duration": 9,
    "start_time": "2024-10-17T21:58:04.869Z"
   },
   {
    "duration": 3,
    "start_time": "2024-10-17T21:58:09.012Z"
   },
   {
    "duration": 9,
    "start_time": "2024-10-17T21:58:10.816Z"
   },
   {
    "duration": 5,
    "start_time": "2024-10-17T21:58:12.036Z"
   },
   {
    "duration": 4,
    "start_time": "2024-10-17T22:02:36.102Z"
   },
   {
    "duration": 5,
    "start_time": "2024-10-17T22:03:01.103Z"
   },
   {
    "duration": 201,
    "start_time": "2024-10-17T22:20:58.851Z"
   },
   {
    "duration": 19,
    "start_time": "2024-10-17T22:21:55.611Z"
   },
   {
    "duration": 19,
    "start_time": "2024-10-17T22:22:50.146Z"
   },
   {
    "duration": 280,
    "start_time": "2024-10-17T22:23:38.748Z"
   },
   {
    "duration": 4,
    "start_time": "2024-10-17T22:24:56.061Z"
   },
   {
    "duration": 4,
    "start_time": "2024-10-17T22:25:05.204Z"
   },
   {
    "duration": 3,
    "start_time": "2024-10-17T22:25:13.821Z"
   },
   {
    "duration": 3,
    "start_time": "2024-10-17T22:25:27.463Z"
   },
   {
    "duration": 4,
    "start_time": "2024-10-17T22:25:39.338Z"
   },
   {
    "duration": 234,
    "start_time": "2024-10-17T22:26:40.110Z"
   },
   {
    "duration": 233,
    "start_time": "2024-10-17T22:26:47.529Z"
   },
   {
    "duration": 226,
    "start_time": "2024-10-17T22:27:12.138Z"
   },
   {
    "duration": 237,
    "start_time": "2024-10-17T22:27:17.785Z"
   },
   {
    "duration": 37,
    "start_time": "2024-10-17T22:34:03.318Z"
   },
   {
    "duration": 188,
    "start_time": "2024-10-17T22:34:04.343Z"
   },
   {
    "duration": 43,
    "start_time": "2024-10-17T22:40:30.500Z"
   },
   {
    "duration": 49,
    "start_time": "2024-10-17T22:40:49.757Z"
   },
   {
    "duration": 41,
    "start_time": "2024-10-17T22:41:17.614Z"
   },
   {
    "duration": 39,
    "start_time": "2024-10-17T22:41:37.613Z"
   },
   {
    "duration": 38,
    "start_time": "2024-10-17T22:41:41.776Z"
   },
   {
    "duration": 9,
    "start_time": "2024-10-17T22:42:37.619Z"
   },
   {
    "duration": 6,
    "start_time": "2024-10-17T22:42:55.543Z"
   },
   {
    "duration": 6,
    "start_time": "2024-10-17T22:46:30.589Z"
   },
   {
    "duration": 4,
    "start_time": "2024-10-17T22:46:57.423Z"
   },
   {
    "duration": 4,
    "start_time": "2024-10-17T22:47:02.016Z"
   },
   {
    "duration": 15,
    "start_time": "2024-10-17T22:47:09.507Z"
   },
   {
    "duration": 11,
    "start_time": "2024-10-17T22:47:13.170Z"
   },
   {
    "duration": 19,
    "start_time": "2024-10-17T22:47:15.405Z"
   },
   {
    "duration": 19,
    "start_time": "2024-10-17T22:47:16.681Z"
   },
   {
    "duration": 4,
    "start_time": "2024-10-17T22:47:27.053Z"
   },
   {
    "duration": 16,
    "start_time": "2024-10-17T22:48:07.885Z"
   },
   {
    "duration": 14,
    "start_time": "2024-10-17T22:48:16.332Z"
   },
   {
    "duration": 13,
    "start_time": "2024-10-17T22:48:29.384Z"
   },
   {
    "duration": 18,
    "start_time": "2024-10-17T22:48:43.017Z"
   },
   {
    "duration": 3,
    "start_time": "2024-10-17T23:04:13.522Z"
   },
   {
    "duration": 5,
    "start_time": "2024-10-17T23:04:20.387Z"
   },
   {
    "duration": 4,
    "start_time": "2024-10-17T23:04:26.662Z"
   },
   {
    "duration": 6,
    "start_time": "2024-10-17T23:04:33.169Z"
   },
   {
    "duration": 102,
    "start_time": "2024-10-17T23:05:54.353Z"
   },
   {
    "duration": 427,
    "start_time": "2024-10-17T23:07:13.299Z"
   },
   {
    "duration": 16,
    "start_time": "2024-10-17T23:11:28.196Z"
   },
   {
    "duration": 11,
    "start_time": "2024-10-17T23:11:45.707Z"
   },
   {
    "duration": 95,
    "start_time": "2024-10-17T23:13:27.892Z"
   },
   {
    "duration": 97,
    "start_time": "2024-10-17T23:14:38.434Z"
   },
   {
    "duration": 175,
    "start_time": "2024-10-17T23:15:24.646Z"
   },
   {
    "duration": 91,
    "start_time": "2024-10-17T23:17:37.291Z"
   },
   {
    "duration": 96,
    "start_time": "2024-10-17T23:18:22.748Z"
   },
   {
    "duration": 106,
    "start_time": "2024-10-17T23:32:33.351Z"
   },
   {
    "duration": 109,
    "start_time": "2024-10-17T23:38:01.283Z"
   },
   {
    "duration": 9,
    "start_time": "2024-10-17T23:41:01.102Z"
   },
   {
    "duration": 278,
    "start_time": "2024-10-17T23:41:36.460Z"
   },
   {
    "duration": 209,
    "start_time": "2024-10-17T23:47:12.435Z"
   },
   {
    "duration": 136,
    "start_time": "2024-10-17T23:49:44.833Z"
   },
   {
    "duration": 262,
    "start_time": "2024-10-17T23:50:09.449Z"
   },
   {
    "duration": 6,
    "start_time": "2024-10-18T00:00:17.133Z"
   },
   {
    "duration": 233,
    "start_time": "2024-10-18T00:00:24.718Z"
   },
   {
    "duration": 180,
    "start_time": "2024-10-18T00:18:18.278Z"
   },
   {
    "duration": 149,
    "start_time": "2024-10-18T00:18:30.763Z"
   },
   {
    "duration": 247,
    "start_time": "2024-10-18T00:18:49.731Z"
   },
   {
    "duration": 59,
    "start_time": "2024-10-18T00:19:30.731Z"
   },
   {
    "duration": 13,
    "start_time": "2024-10-18T00:20:34.704Z"
   },
   {
    "duration": 45,
    "start_time": "2024-10-18T00:21:12.630Z"
   },
   {
    "duration": 3,
    "start_time": "2024-10-18T00:21:13.608Z"
   },
   {
    "duration": 10,
    "start_time": "2024-10-18T00:21:14.496Z"
   },
   {
    "duration": 134,
    "start_time": "2024-10-18T00:31:21.187Z"
   },
   {
    "duration": 272,
    "start_time": "2024-10-18T00:31:34.788Z"
   },
   {
    "duration": 151,
    "start_time": "2024-10-18T00:31:40.874Z"
   },
   {
    "duration": 153,
    "start_time": "2024-10-18T00:31:48.340Z"
   },
   {
    "duration": 200,
    "start_time": "2024-10-18T00:31:55.502Z"
   },
   {
    "duration": 154,
    "start_time": "2024-10-18T00:32:05.945Z"
   },
   {
    "duration": 2,
    "start_time": "2024-10-18T00:44:09.743Z"
   },
   {
    "duration": 163,
    "start_time": "2024-10-18T15:43:47.104Z"
   },
   {
    "duration": 2093,
    "start_time": "2024-10-18T15:44:22.654Z"
   },
   {
    "duration": 1042,
    "start_time": "2024-10-18T15:44:25.760Z"
   },
   {
    "duration": 11,
    "start_time": "2024-10-18T15:44:27.518Z"
   },
   {
    "duration": 10,
    "start_time": "2024-10-18T15:44:29.259Z"
   },
   {
    "duration": 7,
    "start_time": "2024-10-18T15:44:30.360Z"
   },
   {
    "duration": 9,
    "start_time": "2024-10-18T15:44:32.021Z"
   },
   {
    "duration": 12,
    "start_time": "2024-10-18T15:44:33.590Z"
   },
   {
    "duration": 97,
    "start_time": "2024-10-18T15:44:36.598Z"
   },
   {
    "duration": 14,
    "start_time": "2024-10-18T15:44:37.570Z"
   },
   {
    "duration": 105,
    "start_time": "2024-10-18T15:44:39.848Z"
   },
   {
    "duration": 86,
    "start_time": "2024-10-18T15:44:40.780Z"
   },
   {
    "duration": 40,
    "start_time": "2024-10-18T15:44:42.088Z"
   },
   {
    "duration": 11,
    "start_time": "2024-10-18T15:44:43.831Z"
   },
   {
    "duration": 4,
    "start_time": "2024-10-18T15:44:44.856Z"
   },
   {
    "duration": 18,
    "start_time": "2024-10-18T15:44:45.774Z"
   },
   {
    "duration": 22,
    "start_time": "2024-10-18T15:44:46.733Z"
   },
   {
    "duration": 4,
    "start_time": "2024-10-18T15:44:48.544Z"
   },
   {
    "duration": 3,
    "start_time": "2024-10-18T15:44:49.487Z"
   },
   {
    "duration": 4,
    "start_time": "2024-10-18T15:44:50.658Z"
   },
   {
    "duration": 4,
    "start_time": "2024-10-18T15:44:52.065Z"
   },
   {
    "duration": 752,
    "start_time": "2024-10-18T15:44:52.926Z"
   },
   {
    "duration": 654,
    "start_time": "2024-10-18T15:44:55.425Z"
   },
   {
    "duration": 4,
    "start_time": "2024-10-18T15:44:57.563Z"
   },
   {
    "duration": 6,
    "start_time": "2024-10-18T15:45:00.180Z"
   },
   {
    "duration": 5,
    "start_time": "2024-10-18T15:45:01.218Z"
   },
   {
    "duration": 8,
    "start_time": "2024-10-18T15:45:02.253Z"
   },
   {
    "duration": 7,
    "start_time": "2024-10-18T15:45:07.680Z"
   },
   {
    "duration": 7,
    "start_time": "2024-10-18T15:45:08.749Z"
   },
   {
    "duration": 7,
    "start_time": "2024-10-18T15:45:10.232Z"
   },
   {
    "duration": 16,
    "start_time": "2024-10-18T15:45:11.665Z"
   },
   {
    "duration": 30,
    "start_time": "2024-10-18T15:45:12.712Z"
   },
   {
    "duration": 12,
    "start_time": "2024-10-18T15:45:14.380Z"
   },
   {
    "duration": 10,
    "start_time": "2024-10-18T15:45:16.546Z"
   },
   {
    "duration": 27,
    "start_time": "2024-10-18T15:45:18.926Z"
   },
   {
    "duration": 4,
    "start_time": "2024-10-18T15:45:21.622Z"
   },
   {
    "duration": 3,
    "start_time": "2024-10-18T15:45:22.686Z"
   },
   {
    "duration": 70,
    "start_time": "2024-10-18T15:45:24.276Z"
   },
   {
    "duration": 8,
    "start_time": "2024-10-18T15:45:26.496Z"
   },
   {
    "duration": 7,
    "start_time": "2024-10-18T15:45:28.179Z"
   },
   {
    "duration": 3,
    "start_time": "2024-10-18T15:45:30.390Z"
   },
   {
    "duration": 9,
    "start_time": "2024-10-18T15:45:31.241Z"
   },
   {
    "duration": 5,
    "start_time": "2024-10-18T15:45:32.063Z"
   },
   {
    "duration": 4,
    "start_time": "2024-10-18T15:45:32.921Z"
   },
   {
    "duration": 238,
    "start_time": "2024-10-18T15:45:35.888Z"
   },
   {
    "duration": 13,
    "start_time": "2024-10-18T15:45:39.075Z"
   },
   {
    "duration": 37,
    "start_time": "2024-10-18T15:45:41.053Z"
   },
   {
    "duration": 214,
    "start_time": "2024-10-18T15:45:42.969Z"
   },
   {
    "duration": 189,
    "start_time": "2024-10-18T15:45:47.278Z"
   },
   {
    "duration": 143,
    "start_time": "2024-10-18T15:45:50.516Z"
   },
   {
    "duration": 92,
    "start_time": "2024-10-18T15:45:51.829Z"
   },
   {
    "duration": 2,
    "start_time": "2024-10-18T15:45:55.634Z"
   },
   {
    "duration": 10,
    "start_time": "2024-10-18T15:45:56.623Z"
   },
   {
    "duration": 255,
    "start_time": "2024-10-18T15:45:58.735Z"
   },
   {
    "duration": 154,
    "start_time": "2024-10-18T15:46:00.076Z"
   },
   {
    "duration": 58,
    "start_time": "2024-10-18T15:46:03.031Z"
   },
   {
    "duration": 44,
    "start_time": "2024-10-18T15:46:06.445Z"
   },
   {
    "duration": 4,
    "start_time": "2024-10-18T15:46:07.239Z"
   },
   {
    "duration": 10,
    "start_time": "2024-10-18T15:46:08.149Z"
   },
   {
    "duration": 127,
    "start_time": "2024-10-18T15:49:15.525Z"
   },
   {
    "duration": 4,
    "start_time": "2024-10-18T15:49:16.567Z"
   },
   {
    "duration": 4,
    "start_time": "2024-10-18T15:49:25.623Z"
   },
   {
    "duration": 375,
    "start_time": "2024-10-18T16:20:48.497Z"
   },
   {
    "duration": 137,
    "start_time": "2024-10-18T16:22:31.933Z"
   },
   {
    "duration": 41,
    "start_time": "2024-10-18T16:23:29.537Z"
   },
   {
    "duration": 53,
    "start_time": "2024-10-18T16:26:27.762Z"
   },
   {
    "duration": 14,
    "start_time": "2024-10-18T16:28:13.056Z"
   },
   {
    "duration": 866,
    "start_time": "2024-10-18T16:29:45.925Z"
   },
   {
    "duration": 6,
    "start_time": "2024-10-18T16:30:15.627Z"
   },
   {
    "duration": 6,
    "start_time": "2024-10-18T16:30:23.601Z"
   },
   {
    "duration": 2224,
    "start_time": "2024-10-18T22:37:10.965Z"
   },
   {
    "duration": 1070,
    "start_time": "2024-10-18T22:37:14.352Z"
   },
   {
    "duration": 11,
    "start_time": "2024-10-18T22:37:16.246Z"
   },
   {
    "duration": 12,
    "start_time": "2024-10-18T22:37:22.724Z"
   },
   {
    "duration": 7,
    "start_time": "2024-10-18T22:37:24.406Z"
   },
   {
    "duration": 9,
    "start_time": "2024-10-18T22:37:25.621Z"
   },
   {
    "duration": 8,
    "start_time": "2024-10-18T22:37:28.805Z"
   },
   {
    "duration": 95,
    "start_time": "2024-10-18T22:37:32.831Z"
   },
   {
    "duration": 10,
    "start_time": "2024-10-18T22:37:34.096Z"
   },
   {
    "duration": 114,
    "start_time": "2024-10-18T22:37:36.369Z"
   },
   {
    "duration": 88,
    "start_time": "2024-10-18T22:37:37.324Z"
   },
   {
    "duration": 27,
    "start_time": "2024-10-18T22:37:38.409Z"
   },
   {
    "duration": 14,
    "start_time": "2024-10-18T22:37:40.504Z"
   },
   {
    "duration": 4,
    "start_time": "2024-10-18T22:37:41.967Z"
   },
   {
    "duration": 20,
    "start_time": "2024-10-18T22:37:43.612Z"
   },
   {
    "duration": 22,
    "start_time": "2024-10-18T22:37:45.407Z"
   },
   {
    "duration": 4,
    "start_time": "2024-10-18T22:37:47.035Z"
   },
   {
    "duration": 4,
    "start_time": "2024-10-18T22:37:48.329Z"
   },
   {
    "duration": 4,
    "start_time": "2024-10-18T22:37:49.913Z"
   },
   {
    "duration": 4,
    "start_time": "2024-10-18T22:37:50.914Z"
   },
   {
    "duration": 771,
    "start_time": "2024-10-18T22:37:52.581Z"
   },
   {
    "duration": 680,
    "start_time": "2024-10-18T22:37:54.340Z"
   },
   {
    "duration": 5,
    "start_time": "2024-10-18T22:37:57.512Z"
   },
   {
    "duration": 5,
    "start_time": "2024-10-18T22:37:58.603Z"
   },
   {
    "duration": 5,
    "start_time": "2024-10-18T22:38:00.135Z"
   },
   {
    "duration": 7,
    "start_time": "2024-10-18T22:38:01.301Z"
   },
   {
    "duration": 8,
    "start_time": "2024-10-18T22:38:04.068Z"
   },
   {
    "duration": 6,
    "start_time": "2024-10-18T22:38:06.126Z"
   },
   {
    "duration": 7,
    "start_time": "2024-10-18T22:38:07.176Z"
   },
   {
    "duration": 15,
    "start_time": "2024-10-18T22:38:08.851Z"
   },
   {
    "duration": 31,
    "start_time": "2024-10-18T22:38:10.278Z"
   },
   {
    "duration": 14,
    "start_time": "2024-10-18T22:38:12.477Z"
   },
   {
    "duration": 8,
    "start_time": "2024-10-18T22:38:14.471Z"
   },
   {
    "duration": 26,
    "start_time": "2024-10-18T22:38:17.282Z"
   },
   {
    "duration": 4,
    "start_time": "2024-10-18T22:38:21.028Z"
   },
   {
    "duration": 4,
    "start_time": "2024-10-18T22:38:29.116Z"
   },
   {
    "duration": 73,
    "start_time": "2024-10-18T22:38:30.936Z"
   },
   {
    "duration": 8,
    "start_time": "2024-10-18T22:38:33.505Z"
   },
   {
    "duration": 7,
    "start_time": "2024-10-18T22:38:35.487Z"
   },
   {
    "duration": 3,
    "start_time": "2024-10-18T22:38:37.677Z"
   },
   {
    "duration": 10,
    "start_time": "2024-10-18T22:38:38.472Z"
   },
   {
    "duration": 5,
    "start_time": "2024-10-18T22:38:39.575Z"
   },
   {
    "duration": 4,
    "start_time": "2024-10-18T22:38:40.645Z"
   },
   {
    "duration": 241,
    "start_time": "2024-10-18T22:38:44.829Z"
   },
   {
    "duration": 12,
    "start_time": "2024-10-18T22:38:58.523Z"
   },
   {
    "duration": 39,
    "start_time": "2024-10-18T22:39:01.567Z"
   },
   {
    "duration": 194,
    "start_time": "2024-10-18T22:39:03.677Z"
   },
   {
    "duration": 153,
    "start_time": "2024-10-18T22:39:06.238Z"
   },
   {
    "duration": 96,
    "start_time": "2024-10-18T22:39:07.857Z"
   },
   {
    "duration": 2,
    "start_time": "2024-10-18T22:39:12.271Z"
   },
   {
    "duration": 8,
    "start_time": "2024-10-18T22:39:13.248Z"
   },
   {
    "duration": 264,
    "start_time": "2024-10-18T22:39:15.451Z"
   },
   {
    "duration": 158,
    "start_time": "2024-10-18T22:39:17.844Z"
   },
   {
    "duration": 61,
    "start_time": "2024-10-18T22:39:21.120Z"
   },
   {
    "duration": 46,
    "start_time": "2024-10-18T22:39:22.803Z"
   },
   {
    "duration": 3,
    "start_time": "2024-10-18T22:39:23.930Z"
   },
   {
    "duration": 9,
    "start_time": "2024-10-18T22:39:25.201Z"
   },
   {
    "duration": 141,
    "start_time": "2024-10-18T22:39:27.708Z"
   },
   {
    "duration": 4,
    "start_time": "2024-10-18T22:39:36.901Z"
   },
   {
    "duration": 5,
    "start_time": "2024-10-18T22:40:21.076Z"
   },
   {
    "duration": 883,
    "start_time": "2024-10-18T22:40:23.340Z"
   },
   {
    "duration": 5,
    "start_time": "2024-10-18T22:40:25.835Z"
   },
   {
    "duration": 119,
    "start_time": "2024-10-18T22:43:13.415Z"
   },
   {
    "duration": 128,
    "start_time": "2024-10-18T22:48:15.993Z"
   },
   {
    "duration": 140,
    "start_time": "2024-10-18T22:48:27.830Z"
   },
   {
    "duration": 137,
    "start_time": "2024-10-18T22:48:32.908Z"
   },
   {
    "duration": 8,
    "start_time": "2024-10-18T22:50:27.426Z"
   },
   {
    "duration": 9,
    "start_time": "2024-10-18T22:50:49.826Z"
   },
   {
    "duration": 8,
    "start_time": "2024-10-18T22:50:58.410Z"
   },
   {
    "duration": 9,
    "start_time": "2024-10-18T22:51:07.141Z"
   },
   {
    "duration": 10,
    "start_time": "2024-10-18T22:54:51.003Z"
   },
   {
    "duration": 3,
    "start_time": "2024-10-19T15:08:56.591Z"
   },
   {
    "duration": 2119,
    "start_time": "2024-10-19T15:08:56.604Z"
   },
   {
    "duration": 1038,
    "start_time": "2024-10-19T15:08:58.725Z"
   },
   {
    "duration": 12,
    "start_time": "2024-10-19T15:08:59.765Z"
   },
   {
    "duration": 9,
    "start_time": "2024-10-19T15:08:59.780Z"
   },
   {
    "duration": 7,
    "start_time": "2024-10-19T15:08:59.791Z"
   },
   {
    "duration": 7,
    "start_time": "2024-10-19T15:08:59.800Z"
   },
   {
    "duration": 8,
    "start_time": "2024-10-19T15:08:59.809Z"
   },
   {
    "duration": 88,
    "start_time": "2024-10-19T15:08:59.844Z"
   },
   {
    "duration": 11,
    "start_time": "2024-10-19T15:08:59.942Z"
   },
   {
    "duration": 115,
    "start_time": "2024-10-19T15:08:59.957Z"
   },
   {
    "duration": 95,
    "start_time": "2024-10-19T15:09:00.073Z"
   },
   {
    "duration": 26,
    "start_time": "2024-10-19T15:09:00.170Z"
   },
   {
    "duration": 12,
    "start_time": "2024-10-19T15:09:00.198Z"
   },
   {
    "duration": 3,
    "start_time": "2024-10-19T15:09:00.211Z"
   },
   {
    "duration": 40,
    "start_time": "2024-10-19T15:09:00.216Z"
   },
   {
    "duration": 24,
    "start_time": "2024-10-19T15:09:00.258Z"
   },
   {
    "duration": 4,
    "start_time": "2024-10-19T15:09:00.284Z"
   },
   {
    "duration": 3,
    "start_time": "2024-10-19T15:09:00.290Z"
   },
   {
    "duration": 4,
    "start_time": "2024-10-19T15:09:00.295Z"
   },
   {
    "duration": 4,
    "start_time": "2024-10-19T15:09:00.300Z"
   },
   {
    "duration": 834,
    "start_time": "2024-10-19T15:09:00.305Z"
   },
   {
    "duration": 685,
    "start_time": "2024-10-19T15:09:01.140Z"
   },
   {
    "duration": 5,
    "start_time": "2024-10-19T15:09:01.827Z"
   },
   {
    "duration": 13,
    "start_time": "2024-10-19T15:09:01.833Z"
   },
   {
    "duration": 4,
    "start_time": "2024-10-19T15:09:01.848Z"
   },
   {
    "duration": 8,
    "start_time": "2024-10-19T15:09:01.854Z"
   },
   {
    "duration": 7,
    "start_time": "2024-10-19T15:09:01.863Z"
   },
   {
    "duration": 5,
    "start_time": "2024-10-19T15:09:01.875Z"
   },
   {
    "duration": 7,
    "start_time": "2024-10-19T15:09:01.881Z"
   },
   {
    "duration": 53,
    "start_time": "2024-10-19T15:09:01.889Z"
   },
   {
    "duration": 31,
    "start_time": "2024-10-19T15:09:01.944Z"
   },
   {
    "duration": 13,
    "start_time": "2024-10-19T15:09:01.977Z"
   },
   {
    "duration": 8,
    "start_time": "2024-10-19T15:09:01.992Z"
   },
   {
    "duration": 60,
    "start_time": "2024-10-19T15:09:02.002Z"
   },
   {
    "duration": 4,
    "start_time": "2024-10-19T15:09:02.064Z"
   },
   {
    "duration": 3,
    "start_time": "2024-10-19T15:09:02.070Z"
   },
   {
    "duration": 86,
    "start_time": "2024-10-19T15:09:02.075Z"
   },
   {
    "duration": 14,
    "start_time": "2024-10-19T15:09:02.163Z"
   },
   {
    "duration": 7,
    "start_time": "2024-10-19T15:09:02.179Z"
   },
   {
    "duration": 2,
    "start_time": "2024-10-19T15:09:02.188Z"
   },
   {
    "duration": 9,
    "start_time": "2024-10-19T15:09:02.191Z"
   },
   {
    "duration": 5,
    "start_time": "2024-10-19T15:09:02.202Z"
   },
   {
    "duration": 3,
    "start_time": "2024-10-19T15:09:02.208Z"
   },
   {
    "duration": 279,
    "start_time": "2024-10-19T15:09:02.213Z"
   },
   {
    "duration": 14,
    "start_time": "2024-10-19T15:09:02.493Z"
   },
   {
    "duration": 49,
    "start_time": "2024-10-19T15:09:02.509Z"
   },
   {
    "duration": 208,
    "start_time": "2024-10-19T15:09:02.560Z"
   },
   {
    "duration": 162,
    "start_time": "2024-10-19T15:09:02.770Z"
   },
   {
    "duration": 93,
    "start_time": "2024-10-19T15:09:02.942Z"
   },
   {
    "duration": 7,
    "start_time": "2024-10-19T15:09:03.037Z"
   },
   {
    "duration": 8,
    "start_time": "2024-10-19T15:09:03.045Z"
   },
   {
    "duration": 289,
    "start_time": "2024-10-19T15:09:03.054Z"
   },
   {
    "duration": 160,
    "start_time": "2024-10-19T15:09:03.345Z"
   },
   {
    "duration": 66,
    "start_time": "2024-10-19T15:09:03.507Z"
   },
   {
    "duration": 42,
    "start_time": "2024-10-19T15:09:03.575Z"
   },
   {
    "duration": 4,
    "start_time": "2024-10-19T15:09:03.619Z"
   },
   {
    "duration": 21,
    "start_time": "2024-10-19T15:09:03.625Z"
   },
   {
    "duration": 140,
    "start_time": "2024-10-19T15:09:03.648Z"
   },
   {
    "duration": 3,
    "start_time": "2024-10-19T15:09:03.790Z"
   },
   {
    "duration": 5,
    "start_time": "2024-10-19T15:09:03.795Z"
   },
   {
    "duration": 887,
    "start_time": "2024-10-19T15:09:03.802Z"
   },
   {
    "duration": 5,
    "start_time": "2024-10-19T15:09:04.691Z"
   },
   {
    "duration": 153,
    "start_time": "2024-10-19T15:09:04.698Z"
   },
   {
    "duration": 10,
    "start_time": "2024-10-19T15:09:04.854Z"
   },
   {
    "duration": 10,
    "start_time": "2024-10-19T15:09:04.865Z"
   },
   {
    "duration": 250,
    "start_time": "2024-10-19T15:13:38.778Z"
   },
   {
    "duration": 130,
    "start_time": "2024-10-19T15:17:06.652Z"
   },
   {
    "duration": 253,
    "start_time": "2024-10-19T15:18:33.422Z"
   }
  ],
  "colab": {
   "provenance": []
  },
  "kernelspec": {
   "display_name": "base",
   "language": "python",
   "name": "python3"
  },
  "language_info": {
   "codemirror_mode": {
    "name": "ipython",
    "version": 3
   },
   "file_extension": ".py",
   "mimetype": "text/x-python",
   "name": "python",
   "nbconvert_exporter": "python",
   "pygments_lexer": "ipython3",
   "version": "3.12.4"
  },
  "toc": {
   "base_numbering": 1,
   "nav_menu": {},
   "number_sections": true,
   "sideBar": true,
   "skip_h1_title": true,
   "title_cell": "Table of Contents",
   "title_sidebar": "Contents",
   "toc_cell": false,
   "toc_position": {},
   "toc_section_display": true,
   "toc_window_display": false
  }
 },
 "nbformat": 4,
 "nbformat_minor": 5
}
