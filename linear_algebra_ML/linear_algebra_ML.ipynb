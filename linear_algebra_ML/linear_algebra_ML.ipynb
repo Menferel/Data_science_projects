{
 "cells": [
  {
   "cell_type": "markdown",
   "metadata": {},
   "source": [
    "# Preprocesamiento y exploración de datos\n",
    "\n",
    "## Inicialización"
   ]
  },
  {
   "cell_type": "code",
   "execution_count": null,
   "metadata": {
    "trusted": true
   },
   "outputs": [],
   "source": [
    "# Importar librerías\n",
    "import numpy as np\n",
    "import pandas as pd\n",
    "import seaborn as sns\n",
    "import math\n",
    "import sklearn.linear_model\n",
    "import sklearn.metrics\n",
    "import sklearn.neighbors\n",
    "import sklearn.preprocessing\n",
    "\n",
    "from sklearn.model_selection import train_test_split\n",
    "\n",
    "from IPython.display import display\n",
    "\n",
    "from sklearn.neighbors import NearestNeighbors"
   ]
  },
  {
   "cell_type": "markdown",
   "metadata": {},
   "source": [
    "## Carga de datos"
   ]
  },
  {
   "cell_type": "code",
   "execution_count": 3,
   "metadata": {
    "trusted": true
   },
   "outputs": [],
   "source": [
    "df = pd.read_csv('/datasets/insurance_us.csv')"
   ]
  },
  {
   "cell_type": "code",
   "execution_count": null,
   "metadata": {
    "trusted": true
   },
   "outputs": [],
   "source": [
    "# Renombrar las columnas para que el código se vea más coherente con su estilo.\n",
    "df = df.rename(columns={'Gender': 'gender', 'Age': 'age', 'Salary': 'income', 'Family members': 'family_members', 'Insurance benefits': 'insurance_benefits'})"
   ]
  },
  {
   "cell_type": "code",
   "execution_count": 5,
   "metadata": {
    "trusted": true
   },
   "outputs": [
    {
     "data": {
      "text/html": [
       "<div>\n",
       "<style scoped>\n",
       "    .dataframe tbody tr th:only-of-type {\n",
       "        vertical-align: middle;\n",
       "    }\n",
       "\n",
       "    .dataframe tbody tr th {\n",
       "        vertical-align: top;\n",
       "    }\n",
       "\n",
       "    .dataframe thead th {\n",
       "        text-align: right;\n",
       "    }\n",
       "</style>\n",
       "<table border=\"1\" class=\"dataframe\">\n",
       "  <thead>\n",
       "    <tr style=\"text-align: right;\">\n",
       "      <th></th>\n",
       "      <th>gender</th>\n",
       "      <th>age</th>\n",
       "      <th>income</th>\n",
       "      <th>family_members</th>\n",
       "      <th>insurance_benefits</th>\n",
       "    </tr>\n",
       "  </thead>\n",
       "  <tbody>\n",
       "    <tr>\n",
       "      <th>884</th>\n",
       "      <td>1</td>\n",
       "      <td>38.0</td>\n",
       "      <td>36500.0</td>\n",
       "      <td>2</td>\n",
       "      <td>0</td>\n",
       "    </tr>\n",
       "    <tr>\n",
       "      <th>3987</th>\n",
       "      <td>1</td>\n",
       "      <td>30.0</td>\n",
       "      <td>14400.0</td>\n",
       "      <td>2</td>\n",
       "      <td>0</td>\n",
       "    </tr>\n",
       "    <tr>\n",
       "      <th>67</th>\n",
       "      <td>1</td>\n",
       "      <td>37.0</td>\n",
       "      <td>29600.0</td>\n",
       "      <td>2</td>\n",
       "      <td>0</td>\n",
       "    </tr>\n",
       "    <tr>\n",
       "      <th>199</th>\n",
       "      <td>1</td>\n",
       "      <td>21.0</td>\n",
       "      <td>25100.0</td>\n",
       "      <td>0</td>\n",
       "      <td>0</td>\n",
       "    </tr>\n",
       "    <tr>\n",
       "      <th>3576</th>\n",
       "      <td>0</td>\n",
       "      <td>26.0</td>\n",
       "      <td>39300.0</td>\n",
       "      <td>3</td>\n",
       "      <td>0</td>\n",
       "    </tr>\n",
       "    <tr>\n",
       "      <th>1694</th>\n",
       "      <td>1</td>\n",
       "      <td>33.0</td>\n",
       "      <td>54400.0</td>\n",
       "      <td>0</td>\n",
       "      <td>0</td>\n",
       "    </tr>\n",
       "    <tr>\n",
       "      <th>4637</th>\n",
       "      <td>0</td>\n",
       "      <td>41.0</td>\n",
       "      <td>29000.0</td>\n",
       "      <td>2</td>\n",
       "      <td>0</td>\n",
       "    </tr>\n",
       "    <tr>\n",
       "      <th>2035</th>\n",
       "      <td>1</td>\n",
       "      <td>21.0</td>\n",
       "      <td>59200.0</td>\n",
       "      <td>1</td>\n",
       "      <td>0</td>\n",
       "    </tr>\n",
       "    <tr>\n",
       "      <th>2324</th>\n",
       "      <td>0</td>\n",
       "      <td>19.0</td>\n",
       "      <td>35200.0</td>\n",
       "      <td>0</td>\n",
       "      <td>0</td>\n",
       "    </tr>\n",
       "    <tr>\n",
       "      <th>3712</th>\n",
       "      <td>1</td>\n",
       "      <td>23.0</td>\n",
       "      <td>49600.0</td>\n",
       "      <td>0</td>\n",
       "      <td>0</td>\n",
       "    </tr>\n",
       "  </tbody>\n",
       "</table>\n",
       "</div>"
      ],
      "text/plain": [
       "      gender   age   income  family_members  insurance_benefits\n",
       "884        1  38.0  36500.0               2                   0\n",
       "3987       1  30.0  14400.0               2                   0\n",
       "67         1  37.0  29600.0               2                   0\n",
       "199        1  21.0  25100.0               0                   0\n",
       "3576       0  26.0  39300.0               3                   0\n",
       "1694       1  33.0  54400.0               0                   0\n",
       "4637       0  41.0  29000.0               2                   0\n",
       "2035       1  21.0  59200.0               1                   0\n",
       "2324       0  19.0  35200.0               0                   0\n",
       "3712       1  23.0  49600.0               0                   0"
      ]
     },
     "execution_count": 5,
     "metadata": {},
     "output_type": "execute_result"
    }
   ],
   "source": [
    "df.sample(10)"
   ]
  },
  {
   "cell_type": "code",
   "execution_count": 6,
   "metadata": {
    "trusted": true
   },
   "outputs": [
    {
     "name": "stdout",
     "output_type": "stream",
     "text": [
      "<class 'pandas.core.frame.DataFrame'>\n",
      "RangeIndex: 5000 entries, 0 to 4999\n",
      "Data columns (total 5 columns):\n",
      " #   Column              Non-Null Count  Dtype  \n",
      "---  ------              --------------  -----  \n",
      " 0   gender              5000 non-null   int64  \n",
      " 1   age                 5000 non-null   float64\n",
      " 2   income              5000 non-null   float64\n",
      " 3   family_members      5000 non-null   int64  \n",
      " 4   insurance_benefits  5000 non-null   int64  \n",
      "dtypes: float64(2), int64(3)\n",
      "memory usage: 195.4 KB\n"
     ]
    }
   ],
   "source": [
    "df.info()"
   ]
  },
  {
   "cell_type": "code",
   "execution_count": null,
   "metadata": {
    "trusted": true
   },
   "outputs": [],
   "source": [
    "# Cambiar el tipo de edad (de float a int)\n",
    "df['age'] = df['age'].astype(int)"
   ]
  },
  {
   "cell_type": "code",
   "execution_count": null,
   "metadata": {
    "trusted": true
   },
   "outputs": [
    {
     "name": "stdout",
     "output_type": "stream",
     "text": [
      "<class 'pandas.core.frame.DataFrame'>\n",
      "RangeIndex: 5000 entries, 0 to 4999\n",
      "Data columns (total 5 columns):\n",
      " #   Column              Non-Null Count  Dtype  \n",
      "---  ------              --------------  -----  \n",
      " 0   gender              5000 non-null   int64  \n",
      " 1   age                 5000 non-null   int64  \n",
      " 2   income              5000 non-null   float64\n",
      " 3   family_members      5000 non-null   int64  \n",
      " 4   insurance_benefits  5000 non-null   int64  \n",
      "dtypes: float64(1), int64(4)\n",
      "memory usage: 195.4 KB\n"
     ]
    }
   ],
   "source": [
    "# Comprobar que la conversión se haya realizado con éxito\n",
    "df.info()"
   ]
  },
  {
   "cell_type": "code",
   "execution_count": null,
   "metadata": {
    "trusted": true
   },
   "outputs": [
    {
     "data": {
      "text/html": [
       "<div>\n",
       "<style scoped>\n",
       "    .dataframe tbody tr th:only-of-type {\n",
       "        vertical-align: middle;\n",
       "    }\n",
       "\n",
       "    .dataframe tbody tr th {\n",
       "        vertical-align: top;\n",
       "    }\n",
       "\n",
       "    .dataframe thead th {\n",
       "        text-align: right;\n",
       "    }\n",
       "</style>\n",
       "<table border=\"1\" class=\"dataframe\">\n",
       "  <thead>\n",
       "    <tr style=\"text-align: right;\">\n",
       "      <th></th>\n",
       "      <th>gender</th>\n",
       "      <th>age</th>\n",
       "      <th>income</th>\n",
       "      <th>family_members</th>\n",
       "      <th>insurance_benefits</th>\n",
       "    </tr>\n",
       "  </thead>\n",
       "  <tbody>\n",
       "    <tr>\n",
       "      <th>count</th>\n",
       "      <td>5000.000000</td>\n",
       "      <td>5000.000000</td>\n",
       "      <td>5000.000000</td>\n",
       "      <td>5000.000000</td>\n",
       "      <td>5000.000000</td>\n",
       "    </tr>\n",
       "    <tr>\n",
       "      <th>mean</th>\n",
       "      <td>0.499000</td>\n",
       "      <td>30.952800</td>\n",
       "      <td>39916.360000</td>\n",
       "      <td>1.194200</td>\n",
       "      <td>0.148000</td>\n",
       "    </tr>\n",
       "    <tr>\n",
       "      <th>std</th>\n",
       "      <td>0.500049</td>\n",
       "      <td>8.440807</td>\n",
       "      <td>9900.083569</td>\n",
       "      <td>1.091387</td>\n",
       "      <td>0.463183</td>\n",
       "    </tr>\n",
       "    <tr>\n",
       "      <th>min</th>\n",
       "      <td>0.000000</td>\n",
       "      <td>18.000000</td>\n",
       "      <td>5300.000000</td>\n",
       "      <td>0.000000</td>\n",
       "      <td>0.000000</td>\n",
       "    </tr>\n",
       "    <tr>\n",
       "      <th>25%</th>\n",
       "      <td>0.000000</td>\n",
       "      <td>24.000000</td>\n",
       "      <td>33300.000000</td>\n",
       "      <td>0.000000</td>\n",
       "      <td>0.000000</td>\n",
       "    </tr>\n",
       "    <tr>\n",
       "      <th>50%</th>\n",
       "      <td>0.000000</td>\n",
       "      <td>30.000000</td>\n",
       "      <td>40200.000000</td>\n",
       "      <td>1.000000</td>\n",
       "      <td>0.000000</td>\n",
       "    </tr>\n",
       "    <tr>\n",
       "      <th>75%</th>\n",
       "      <td>1.000000</td>\n",
       "      <td>37.000000</td>\n",
       "      <td>46600.000000</td>\n",
       "      <td>2.000000</td>\n",
       "      <td>0.000000</td>\n",
       "    </tr>\n",
       "    <tr>\n",
       "      <th>max</th>\n",
       "      <td>1.000000</td>\n",
       "      <td>65.000000</td>\n",
       "      <td>79000.000000</td>\n",
       "      <td>6.000000</td>\n",
       "      <td>5.000000</td>\n",
       "    </tr>\n",
       "  </tbody>\n",
       "</table>\n",
       "</div>"
      ],
      "text/plain": [
       "            gender          age        income  family_members  \\\n",
       "count  5000.000000  5000.000000   5000.000000     5000.000000   \n",
       "mean      0.499000    30.952800  39916.360000        1.194200   \n",
       "std       0.500049     8.440807   9900.083569        1.091387   \n",
       "min       0.000000    18.000000   5300.000000        0.000000   \n",
       "25%       0.000000    24.000000  33300.000000        0.000000   \n",
       "50%       0.000000    30.000000  40200.000000        1.000000   \n",
       "75%       1.000000    37.000000  46600.000000        2.000000   \n",
       "max       1.000000    65.000000  79000.000000        6.000000   \n",
       "\n",
       "       insurance_benefits  \n",
       "count         5000.000000  \n",
       "mean             0.148000  \n",
       "std              0.463183  \n",
       "min              0.000000  \n",
       "25%              0.000000  \n",
       "50%              0.000000  \n",
       "75%              0.000000  \n",
       "max              5.000000  "
      ]
     },
     "execution_count": 9,
     "metadata": {},
     "output_type": "execute_result"
    }
   ],
   "source": [
    "# Estadísticas descriptivas de los datos\n",
    "df.describe()"
   ]
  },
  {
   "cell_type": "code",
   "execution_count": null,
   "metadata": {
    "trusted": true
   },
   "outputs": [
    {
     "data": {
      "image/png": "[encoded data removed]",
      "text/plain": [
       "<Figure size 640x480 with 1 Axes>"
      ]
     },
     "metadata": {},
     "output_type": "display_data"
    }
   ],
   "source": [
    "# Ver la distribución de la edad\n",
    "import matplotlib.pyplot as plt\n",
    "\n",
    "df[\"age\"].hist(bins=20)\n",
    "plt.xlabel(\"Edad\")\n",
    "plt.ylabel(\"Frecuencia\")\n",
    "plt.title(\"Distribución de Edad\")\n",
    "plt.show()"
   ]
  },
  {
   "cell_type": "code",
   "execution_count": null,
   "metadata": {
    "trusted": true
   },
   "outputs": [
    {
     "data": {
      "text/plain": [
       "<AxesSubplot:>"
      ]
     },
     "execution_count": 11,
     "metadata": {},
     "output_type": "execute_result"
    },
    {
     "data": {
      "image/png": "[encoded data removed]",
      "text/plain": [
       "<Figure size 640x480 with 1 Axes>"
      ]
     },
     "metadata": {},
     "output_type": "display_data"
    }
   ],
   "source": [
    "# Boxplot de los ingresos\n",
    "df[\"income\"].plot(kind=\"box\")"
   ]
  },
  {
   "cell_type": "code",
   "execution_count": 12,
   "metadata": {
    "trusted": true
   },
   "outputs": [
    {
     "data": {
      "text/plain": [
       "0    4436\n",
       "1     423\n",
       "2     115\n",
       "3      18\n",
       "4       7\n",
       "5       1\n",
       "Name: insurance_benefits, dtype: int64"
      ]
     },
     "execution_count": 12,
     "metadata": {},
     "output_type": "execute_result"
    }
   ],
   "source": [
    "df[\"insurance_benefits\"].value_counts().sort_index()"
   ]
  },
  {
   "cell_type": "markdown",
   "metadata": {},
   "source": [
    "En general, todo se ve en orden:\n",
    "1. Columna gender: La media refleja que hay una distribución de los datos muy equitativa, de casi el 50%.\n",
    "2. Columna edad: Como es lógico, la edad mínima es 18, lo cual quiere decir que los contratantes titulares deben ser mayores de edad para contratar un seguro. La media es similar a la mediana, lo cual indica que la distribución es más o menos simétrica.\n",
    "3. Columna income: Esta tiene ciertos Outliers para ambos lados, pero no parecen extraños: hay algunas personas que seguramente están desempleadas, mientras que hay ejecutivos que tienen ingresos muy altos. La mayoría de las personas se encuentran en el Rango Intercuartil.\n",
    "4. Columna family_members: La media es similar a la mediana. 3/4 de los asegurados tienen 2 familiares o menos. Hay algunos casos extremos de familias de hasta 6 personas. \n",
    "5. Columna insurance_benefits: El 75% de los asegurados muestra 0 beneficios, lo cual confirma que la mayoría de la gente no tiene beneficios. Sin embargo, hay algunos casos de múltiples beneficios. "
   ]
  },
  {
   "cell_type": "markdown",
   "metadata": {},
   "source": [
    "## Análisis exploratorio de datos"
   ]
  },
  {
   "cell_type": "markdown",
   "metadata": {},
   "source": [
    "Vamos a comprobar rápidamente si existen determinados grupos de clientes observando el gráfico de pares."
   ]
  },
  {
   "cell_type": "code",
   "execution_count": 13,
   "metadata": {
    "trusted": true
   },
   "outputs": [
    {
     "data": {
      "image/png": "[encoded data removed]",
      "text/plain": [
       "<Figure size 1200x1200 with 30 Axes>"
      ]
     },
     "metadata": {},
     "output_type": "display_data"
    }
   ],
   "source": [
    "g = sns.pairplot(df, kind='hist')\n",
    "g.fig.set_size_inches(12, 12)"
   ]
  },
  {
   "cell_type": "markdown",
   "metadata": {},
   "source": [
    "De acuerdo, es un poco complicado detectar grupos obvios (clústeres) ya que es difícil combinar diversas variables simultáneamente (para analizar distribuciones multivariadas). Ahí es donde LA y ML pueden ser bastante útiles."
   ]
  },
  {
   "cell_type": "markdown",
   "metadata": {},
   "source": [
    "# Tarea 1. Clientes similares"
   ]
  },
  {
   "cell_type": "code",
   "execution_count": null,
   "metadata": {
    "trusted": true
   },
   "outputs": [],
   "source": [
    "# Establecer las features\n",
    "feature_names = ['gender', 'age', 'income', 'family_members']  "
   ]
  },
  {
   "cell_type": "code",
   "execution_count": null,
   "metadata": {
    "trusted": true
   },
   "outputs": [],
   "source": [
    "# Función para calcular los k vecinos más cercanos\n",
    "def get_knn(df, n, k, metric):\n",
    "    \n",
    "    \"\"\"\n",
    "    Devuelve los k vecinos más cercanos para un objeto dado.\n",
    "\n",
    "    :param df: DataFrame de pandas con los datos.\n",
    "    :param n: Índice del objeto para el cual se buscan los vecinos más cercanos.\n",
    "    :param k: Número de vecinos más cercanos a devolver.\n",
    "    :param metric: Nombre de la métrica de distancia ('euclidean' o 'manhattan').\n",
    "    :param scale: Booleano, si True, se escalan los datos con MaxAbsScaler.\n",
    "    :return: DataFrame con los vecinos más cercanos y sus distancias.\n",
    "    \"\"\"\n",
    "    \n",
    "    nbrs = NearestNeighbors(n_neighbors=k, metric=metric)\n",
    "    nbrs.fit(df[feature_names])\n",
    "    \n",
    "    nbrs_distances, nbrs_indices = nbrs.kneighbors([df.iloc[n][feature_names]], k, return_distance=True)\n",
    "    \n",
    "    df_res = pd.concat([\n",
    "        df.iloc[nbrs_indices[0]], \n",
    "        pd.DataFrame(nbrs_distances.T, index=nbrs_indices[0], columns=['distance'])\n",
    "        ], axis=1)\n",
    "    \n",
    "    return df_res"
   ]
  },
  {
   "cell_type": "code",
   "execution_count": null,
   "metadata": {
    "trusted": true
   },
   "outputs": [],
   "source": [
    "# Escalar datos\n",
    "transformer_mas = sklearn.preprocessing.MaxAbsScaler().fit(df[feature_names].to_numpy())\n",
    "\n",
    "df_scaled = df.copy()\n",
    "df_scaled.loc[:, feature_names] = transformer_mas.transform(df[feature_names].to_numpy())"
   ]
  },
  {
   "cell_type": "code",
   "execution_count": 17,
   "metadata": {
    "trusted": true
   },
   "outputs": [
    {
     "data": {
      "text/html": [
       "<div>\n",
       "<style scoped>\n",
       "    .dataframe tbody tr th:only-of-type {\n",
       "        vertical-align: middle;\n",
       "    }\n",
       "\n",
       "    .dataframe tbody tr th {\n",
       "        vertical-align: top;\n",
       "    }\n",
       "\n",
       "    .dataframe thead th {\n",
       "        text-align: right;\n",
       "    }\n",
       "</style>\n",
       "<table border=\"1\" class=\"dataframe\">\n",
       "  <thead>\n",
       "    <tr style=\"text-align: right;\">\n",
       "      <th></th>\n",
       "      <th>gender</th>\n",
       "      <th>age</th>\n",
       "      <th>income</th>\n",
       "      <th>family_members</th>\n",
       "      <th>insurance_benefits</th>\n",
       "    </tr>\n",
       "  </thead>\n",
       "  <tbody>\n",
       "    <tr>\n",
       "      <th>530</th>\n",
       "      <td>1.0</td>\n",
       "      <td>0.553846</td>\n",
       "      <td>0.268354</td>\n",
       "      <td>0.166667</td>\n",
       "      <td>0</td>\n",
       "    </tr>\n",
       "    <tr>\n",
       "      <th>1437</th>\n",
       "      <td>0.0</td>\n",
       "      <td>0.384615</td>\n",
       "      <td>0.451899</td>\n",
       "      <td>0.166667</td>\n",
       "      <td>0</td>\n",
       "    </tr>\n",
       "    <tr>\n",
       "      <th>1720</th>\n",
       "      <td>0.0</td>\n",
       "      <td>0.369231</td>\n",
       "      <td>0.510127</td>\n",
       "      <td>0.166667</td>\n",
       "      <td>0</td>\n",
       "    </tr>\n",
       "    <tr>\n",
       "      <th>4711</th>\n",
       "      <td>0.0</td>\n",
       "      <td>0.384615</td>\n",
       "      <td>0.410127</td>\n",
       "      <td>0.000000</td>\n",
       "      <td>0</td>\n",
       "    </tr>\n",
       "    <tr>\n",
       "      <th>3336</th>\n",
       "      <td>1.0</td>\n",
       "      <td>0.369231</td>\n",
       "      <td>0.462025</td>\n",
       "      <td>0.500000</td>\n",
       "      <td>0</td>\n",
       "    </tr>\n",
       "  </tbody>\n",
       "</table>\n",
       "</div>"
      ],
      "text/plain": [
       "      gender       age    income  family_members  insurance_benefits\n",
       "530      1.0  0.553846  0.268354        0.166667                   0\n",
       "1437     0.0  0.384615  0.451899        0.166667                   0\n",
       "1720     0.0  0.369231  0.510127        0.166667                   0\n",
       "4711     0.0  0.384615  0.410127        0.000000                   0\n",
       "3336     1.0  0.369231  0.462025        0.500000                   0"
      ]
     },
     "execution_count": 17,
     "metadata": {},
     "output_type": "execute_result"
    }
   ],
   "source": [
    "df_scaled.sample(5)"
   ]
  },
  {
   "cell_type": "markdown",
   "metadata": {},
   "source": [
    "Ahora, vamos a obtener registros similares para uno determinado, para cada combinación"
   ]
  },
  {
   "cell_type": "code",
   "execution_count": 18,
   "metadata": {
    "trusted": true
   },
   "outputs": [
    {
     "data": {
      "text/html": [
       "<div>\n",
       "<style scoped>\n",
       "    .dataframe tbody tr th:only-of-type {\n",
       "        vertical-align: middle;\n",
       "    }\n",
       "\n",
       "    .dataframe tbody tr th {\n",
       "        vertical-align: top;\n",
       "    }\n",
       "\n",
       "    .dataframe thead th {\n",
       "        text-align: right;\n",
       "    }\n",
       "</style>\n",
       "<table border=\"1\" class=\"dataframe\">\n",
       "  <thead>\n",
       "    <tr style=\"text-align: right;\">\n",
       "      <th></th>\n",
       "      <th>gender</th>\n",
       "      <th>age</th>\n",
       "      <th>income</th>\n",
       "      <th>family_members</th>\n",
       "      <th>insurance_benefits</th>\n",
       "      <th>distance</th>\n",
       "    </tr>\n",
       "  </thead>\n",
       "  <tbody>\n",
       "    <tr>\n",
       "      <th>0</th>\n",
       "      <td>1</td>\n",
       "      <td>41</td>\n",
       "      <td>49600.0</td>\n",
       "      <td>1</td>\n",
       "      <td>0</td>\n",
       "      <td>0.000000</td>\n",
       "    </tr>\n",
       "    <tr>\n",
       "      <th>2022</th>\n",
       "      <td>1</td>\n",
       "      <td>41</td>\n",
       "      <td>49600.0</td>\n",
       "      <td>0</td>\n",
       "      <td>0</td>\n",
       "      <td>1.000000</td>\n",
       "    </tr>\n",
       "    <tr>\n",
       "      <th>1225</th>\n",
       "      <td>0</td>\n",
       "      <td>42</td>\n",
       "      <td>49600.0</td>\n",
       "      <td>0</td>\n",
       "      <td>1</td>\n",
       "      <td>1.732051</td>\n",
       "    </tr>\n",
       "    <tr>\n",
       "      <th>4031</th>\n",
       "      <td>1</td>\n",
       "      <td>44</td>\n",
       "      <td>49600.0</td>\n",
       "      <td>2</td>\n",
       "      <td>1</td>\n",
       "      <td>3.162278</td>\n",
       "    </tr>\n",
       "  </tbody>\n",
       "</table>\n",
       "</div>"
      ],
      "text/plain": [
       "      gender  age   income  family_members  insurance_benefits  distance\n",
       "0          1   41  49600.0               1                   0  0.000000\n",
       "2022       1   41  49600.0               0                   0  1.000000\n",
       "1225       0   42  49600.0               0                   1  1.732051\n",
       "4031       1   44  49600.0               2                   1  3.162278"
      ]
     },
     "execution_count": 18,
     "metadata": {},
     "output_type": "execute_result"
    }
   ],
   "source": [
    "# Datos sin escalar con métrica = euclidean\n",
    "get_knn(df, n=0, k=4, metric='euclidean')"
   ]
  },
  {
   "cell_type": "code",
   "execution_count": 19,
   "metadata": {
    "trusted": true
   },
   "outputs": [
    {
     "data": {
      "text/html": [
       "<div>\n",
       "<style scoped>\n",
       "    .dataframe tbody tr th:only-of-type {\n",
       "        vertical-align: middle;\n",
       "    }\n",
       "\n",
       "    .dataframe tbody tr th {\n",
       "        vertical-align: top;\n",
       "    }\n",
       "\n",
       "    .dataframe thead th {\n",
       "        text-align: right;\n",
       "    }\n",
       "</style>\n",
       "<table border=\"1\" class=\"dataframe\">\n",
       "  <thead>\n",
       "    <tr style=\"text-align: right;\">\n",
       "      <th></th>\n",
       "      <th>gender</th>\n",
       "      <th>age</th>\n",
       "      <th>income</th>\n",
       "      <th>family_members</th>\n",
       "      <th>insurance_benefits</th>\n",
       "      <th>distance</th>\n",
       "    </tr>\n",
       "  </thead>\n",
       "  <tbody>\n",
       "    <tr>\n",
       "      <th>0</th>\n",
       "      <td>1</td>\n",
       "      <td>41</td>\n",
       "      <td>49600.0</td>\n",
       "      <td>1</td>\n",
       "      <td>0</td>\n",
       "      <td>0.0</td>\n",
       "    </tr>\n",
       "    <tr>\n",
       "      <th>2022</th>\n",
       "      <td>1</td>\n",
       "      <td>41</td>\n",
       "      <td>49600.0</td>\n",
       "      <td>0</td>\n",
       "      <td>0</td>\n",
       "      <td>1.0</td>\n",
       "    </tr>\n",
       "    <tr>\n",
       "      <th>1225</th>\n",
       "      <td>0</td>\n",
       "      <td>42</td>\n",
       "      <td>49600.0</td>\n",
       "      <td>0</td>\n",
       "      <td>1</td>\n",
       "      <td>3.0</td>\n",
       "    </tr>\n",
       "    <tr>\n",
       "      <th>4031</th>\n",
       "      <td>1</td>\n",
       "      <td>44</td>\n",
       "      <td>49600.0</td>\n",
       "      <td>2</td>\n",
       "      <td>1</td>\n",
       "      <td>4.0</td>\n",
       "    </tr>\n",
       "  </tbody>\n",
       "</table>\n",
       "</div>"
      ],
      "text/plain": [
       "      gender  age   income  family_members  insurance_benefits  distance\n",
       "0          1   41  49600.0               1                   0       0.0\n",
       "2022       1   41  49600.0               0                   0       1.0\n",
       "1225       0   42  49600.0               0                   1       3.0\n",
       "4031       1   44  49600.0               2                   1       4.0"
      ]
     },
     "execution_count": 19,
     "metadata": {},
     "output_type": "execute_result"
    }
   ],
   "source": [
    "# Datos sin escalar con métrica = manhattan\n",
    "get_knn(df, n=0, k=4, metric='manhattan')"
   ]
  },
  {
   "cell_type": "code",
   "execution_count": 20,
   "metadata": {
    "trusted": true
   },
   "outputs": [
    {
     "data": {
      "text/html": [
       "<div>\n",
       "<style scoped>\n",
       "    .dataframe tbody tr th:only-of-type {\n",
       "        vertical-align: middle;\n",
       "    }\n",
       "\n",
       "    .dataframe tbody tr th {\n",
       "        vertical-align: top;\n",
       "    }\n",
       "\n",
       "    .dataframe thead th {\n",
       "        text-align: right;\n",
       "    }\n",
       "</style>\n",
       "<table border=\"1\" class=\"dataframe\">\n",
       "  <thead>\n",
       "    <tr style=\"text-align: right;\">\n",
       "      <th></th>\n",
       "      <th>gender</th>\n",
       "      <th>age</th>\n",
       "      <th>income</th>\n",
       "      <th>family_members</th>\n",
       "      <th>insurance_benefits</th>\n",
       "      <th>distance</th>\n",
       "    </tr>\n",
       "  </thead>\n",
       "  <tbody>\n",
       "    <tr>\n",
       "      <th>0</th>\n",
       "      <td>1.0</td>\n",
       "      <td>0.630769</td>\n",
       "      <td>0.627848</td>\n",
       "      <td>0.166667</td>\n",
       "      <td>0</td>\n",
       "      <td>0.000000</td>\n",
       "    </tr>\n",
       "    <tr>\n",
       "      <th>2689</th>\n",
       "      <td>1.0</td>\n",
       "      <td>0.630769</td>\n",
       "      <td>0.634177</td>\n",
       "      <td>0.166667</td>\n",
       "      <td>0</td>\n",
       "      <td>0.006329</td>\n",
       "    </tr>\n",
       "    <tr>\n",
       "      <th>133</th>\n",
       "      <td>1.0</td>\n",
       "      <td>0.615385</td>\n",
       "      <td>0.636709</td>\n",
       "      <td>0.166667</td>\n",
       "      <td>0</td>\n",
       "      <td>0.017754</td>\n",
       "    </tr>\n",
       "    <tr>\n",
       "      <th>4869</th>\n",
       "      <td>1.0</td>\n",
       "      <td>0.646154</td>\n",
       "      <td>0.637975</td>\n",
       "      <td>0.166667</td>\n",
       "      <td>1</td>\n",
       "      <td>0.018418</td>\n",
       "    </tr>\n",
       "  </tbody>\n",
       "</table>\n",
       "</div>"
      ],
      "text/plain": [
       "      gender       age    income  family_members  insurance_benefits  distance\n",
       "0        1.0  0.630769  0.627848        0.166667                   0  0.000000\n",
       "2689     1.0  0.630769  0.634177        0.166667                   0  0.006329\n",
       "133      1.0  0.615385  0.636709        0.166667                   0  0.017754\n",
       "4869     1.0  0.646154  0.637975        0.166667                   1  0.018418"
      ]
     },
     "execution_count": 20,
     "metadata": {},
     "output_type": "execute_result"
    }
   ],
   "source": [
    "# Datos escalados con métrica = euclidean\n",
    "get_knn(df_scaled, n=0, k=4, metric='euclidean')"
   ]
  },
  {
   "cell_type": "code",
   "execution_count": 21,
   "metadata": {
    "trusted": true
   },
   "outputs": [
    {
     "data": {
      "text/html": [
       "<div>\n",
       "<style scoped>\n",
       "    .dataframe tbody tr th:only-of-type {\n",
       "        vertical-align: middle;\n",
       "    }\n",
       "\n",
       "    .dataframe tbody tr th {\n",
       "        vertical-align: top;\n",
       "    }\n",
       "\n",
       "    .dataframe thead th {\n",
       "        text-align: right;\n",
       "    }\n",
       "</style>\n",
       "<table border=\"1\" class=\"dataframe\">\n",
       "  <thead>\n",
       "    <tr style=\"text-align: right;\">\n",
       "      <th></th>\n",
       "      <th>gender</th>\n",
       "      <th>age</th>\n",
       "      <th>income</th>\n",
       "      <th>family_members</th>\n",
       "      <th>insurance_benefits</th>\n",
       "      <th>distance</th>\n",
       "    </tr>\n",
       "  </thead>\n",
       "  <tbody>\n",
       "    <tr>\n",
       "      <th>0</th>\n",
       "      <td>1.0</td>\n",
       "      <td>0.630769</td>\n",
       "      <td>0.627848</td>\n",
       "      <td>0.166667</td>\n",
       "      <td>0</td>\n",
       "      <td>0.000000</td>\n",
       "    </tr>\n",
       "    <tr>\n",
       "      <th>2689</th>\n",
       "      <td>1.0</td>\n",
       "      <td>0.630769</td>\n",
       "      <td>0.634177</td>\n",
       "      <td>0.166667</td>\n",
       "      <td>0</td>\n",
       "      <td>0.006329</td>\n",
       "    </tr>\n",
       "    <tr>\n",
       "      <th>133</th>\n",
       "      <td>1.0</td>\n",
       "      <td>0.615385</td>\n",
       "      <td>0.636709</td>\n",
       "      <td>0.166667</td>\n",
       "      <td>0</td>\n",
       "      <td>0.024245</td>\n",
       "    </tr>\n",
       "    <tr>\n",
       "      <th>4869</th>\n",
       "      <td>1.0</td>\n",
       "      <td>0.646154</td>\n",
       "      <td>0.637975</td>\n",
       "      <td>0.166667</td>\n",
       "      <td>1</td>\n",
       "      <td>0.025511</td>\n",
       "    </tr>\n",
       "  </tbody>\n",
       "</table>\n",
       "</div>"
      ],
      "text/plain": [
       "      gender       age    income  family_members  insurance_benefits  distance\n",
       "0        1.0  0.630769  0.627848        0.166667                   0  0.000000\n",
       "2689     1.0  0.630769  0.634177        0.166667                   0  0.006329\n",
       "133      1.0  0.615385  0.636709        0.166667                   0  0.024245\n",
       "4869     1.0  0.646154  0.637975        0.166667                   1  0.025511"
      ]
     },
     "execution_count": 21,
     "metadata": {},
     "output_type": "execute_result"
    }
   ],
   "source": [
    "# Datos escalados con métrica = manhattan\n",
    "get_knn(df_scaled, n=0, k=4, metric='manhattan')"
   ]
  },
  {
   "cell_type": "markdown",
   "metadata": {},
   "source": [
    "**¿El hecho de que los datos no estén escalados afecta al algoritmo kNN? Si es así, ¿cómo se manifiesta?** \n",
    "\n",
    "Sí, afecta negativamente al funcionamiento del modelo. Esto se debe a que ciertas características que tengan mayor diferencia respecto a las otras y eso hace que tengan un mayor peso, provocando que se encuentre a los vecinos más cercanos de forma inadecuada. Como, por ejemplo, en este caso, después de escalar, se encontraron vecinos más cercanos diferentes a los que se habían encontrado sin escalar. "
   ]
  },
  {
   "cell_type": "markdown",
   "metadata": {},
   "source": [
    "**¿Qué tan similares son los resultados al utilizar la métrica de distancia Manhattan (independientemente del escalado)?** \n",
    "\n",
    "Son similares. Como es de esperarse, la distancia es ligeramente mayor cuando se usa Manhattan. Manhattan es más adecuado cuando no se permiten mediciones diagonales, como en búsqueda de rutas o valores atípicos, ya que es menos sensible a los extremos. Asimismo, la distancia Euclidiana se puede usar si no hay problema respecto a las diagonales."
   ]
  },
  {
   "cell_type": "markdown",
   "metadata": {},
   "source": [
    "# Tarea 2. ¿Es probable que el cliente reciba una prestación del seguro?"
   ]
  },
  {
   "cell_type": "markdown",
   "metadata": {},
   "source": [
    "\n",
    "La probabilidad de pagar cualquier prestación del seguro puede definirse como\n",
    "$$\n",
    "P\\{\\text{prestación de seguro recibida}\\}=\\frac{\\text{número de clientes que han recibido alguna prestación de seguro}}{\\text{número total de clientes}}.\n",
    "$$"
   ]
  },
  {
   "cell_type": "code",
   "execution_count": 22,
   "metadata": {
    "trusted": true
   },
   "outputs": [],
   "source": [
    "# сalcula el objetivo\n",
    "df['insurance_benefits_received'] = (df['insurance_benefits']>0).astype(int)"
   ]
  },
  {
   "cell_type": "code",
   "execution_count": 23,
   "metadata": {
    "trusted": true
   },
   "outputs": [
    {
     "data": {
      "text/plain": [
       "0    4436\n",
       "1     564\n",
       "Name: insurance_benefits_received, dtype: int64"
      ]
     },
     "execution_count": 23,
     "metadata": {},
     "output_type": "execute_result"
    }
   ],
   "source": [
    "# comprueba el desequilibrio de clases con value_counts()\n",
    "df['insurance_benefits_received'].value_counts() "
   ]
  },
  {
   "cell_type": "code",
   "execution_count": 24,
   "metadata": {
    "trusted": true
   },
   "outputs": [],
   "source": [
    "def eval_classifier(y_true, y_pred):\n",
    "    \n",
    "    f1_score = sklearn.metrics.f1_score(y_true, y_pred)\n",
    "    print(f'F1: {f1_score:.2f}')\n",
    "    \n",
    "# si tienes algún problema con la siguiente línea, reinicia el kernel y ejecuta el cuaderno de nuevo    \n",
    "    cm = sklearn.metrics.confusion_matrix(y_true, y_pred, normalize='all')\n",
    "    print('Matriz de confusión')\n",
    "    print(cm)"
   ]
  },
  {
   "cell_type": "code",
   "execution_count": 25,
   "metadata": {
    "trusted": true
   },
   "outputs": [],
   "source": [
    "# generar la salida de un modelo aleatorio\n",
    "def rnd_model_predict(P, size, seed=42):\n",
    "\n",
    "    rng = np.random.default_rng(seed=seed)\n",
    "    return rng.binomial(n=1, p=P, size=size)"
   ]
  },
  {
   "cell_type": "code",
   "execution_count": 26,
   "metadata": {
    "scrolled": false,
    "trusted": true
   },
   "outputs": [
    {
     "name": "stdout",
     "output_type": "stream",
     "text": [
      "La probabilidad: 0.00\n",
      "F1: 0.00\n",
      "Matriz de confusión\n",
      "[[0.8872 0.    ]\n",
      " [0.1128 0.    ]]\n",
      "\n",
      "La probabilidad: 0.11\n",
      "F1: 0.12\n",
      "Matriz de confusión\n",
      "[[0.7914 0.0958]\n",
      " [0.0994 0.0134]]\n",
      "\n",
      "La probabilidad: 0.50\n",
      "F1: 0.20\n",
      "Matriz de confusión\n",
      "[[0.456  0.4312]\n",
      " [0.053  0.0598]]\n",
      "\n",
      "La probabilidad: 1.00\n",
      "F1: 0.20\n",
      "Matriz de confusión\n",
      "[[0.     0.8872]\n",
      " [0.     0.1128]]\n",
      "\n"
     ]
    }
   ],
   "source": [
    "for P in [0, df['insurance_benefits_received'].sum() / len(df), 0.5, 1]:\n",
    "\n",
    "    print(f'La probabilidad: {P:.2f}')\n",
    "    y_pred_rnd = rnd_model_predict(P,len(df))\n",
    "        \n",
    "    eval_classifier(df['insurance_benefits_received'], y_pred_rnd)\n",
    "    \n",
    "    print()"
   ]
  },
  {
   "cell_type": "markdown",
   "metadata": {},
   "source": [
    "Matriz de confusión:\n",
    "1. P = 0: El modelo siempre predice 0, ignora por completo la clase 1. Esto lo hace un mal modelo, tiene un F1 de 0 porque no hay TP, pues el modelo es inútil para predecir positivos.\n",
    "2. P = Probabilidad de pagar cualquier prestación de seguro (0.11). El F1 es de 0.12, mejor que el otro, pero aún sigue siendo muy bajo.\n",
    "3. P = 0.50. El F1 asciende a 0.20 porque predice más 1s que los anteriores, pero sigue siendo bajo. \n",
    "4. P = 1. Este modelo sigue teniendo un F1 bajo, de 0.20. Ahora predice todos los 1s, pero no predice los 0, por lo que sigue siendo malo."
   ]
  },
  {
   "cell_type": "code",
   "execution_count": 27,
   "metadata": {
    "trusted": true
   },
   "outputs": [],
   "source": [
    "features = df[feature_names]\n",
    "target = df['insurance_benefits_received'] \n",
    "\n",
    "features_train, features_test, target_train, target_test = train_test_split(\n",
    "    features, target, test_size=0.3, random_state=42)"
   ]
  },
  {
   "cell_type": "code",
   "execution_count": 28,
   "metadata": {
    "trusted": true
   },
   "outputs": [],
   "source": [
    "# Listas para almacenar los resultados\n",
    "k_values = []\n",
    "f1_scaled_values = []\n",
    "f1_unscaled_values = []\n",
    "\n",
    "def evaluate_knn (features_train,target_train,features_test,target_test, k,):\n",
    "    # Escalar los datos\n",
    "    scaler = sklearn.preprocessing.StandardScaler()\n",
    "    features_train_scaled = scaler.fit_transform(features_train)\n",
    "    features_test_scaled = scaler.transform(features_test)\n",
    "    \n",
    "    # Entrenamiento y predicción del modelo knn a los datos escalados\n",
    "    knn_scaled = sklearn.neighbors.KNeighborsClassifier(n_neighbors=k)\n",
    "    knn_scaled.fit(features_train_scaled,target_train)\n",
    "    target_predict_scaled = knn_scaled.predict(features_test_scaled)\n",
    "    f1_scaled = sklearn.metrics.f1_score(target_test, target_predict_scaled)\n",
    "    \n",
    "    # Entrenamiento y predicción del modelo knn a los datos sin escalar\n",
    "    knn = sklearn.neighbors.KNeighborsClassifier(n_neighbors=k)\n",
    "    knn.fit(features_train,target_train)\n",
    "    target_predict = knn.predict(features_test) \n",
    "    f1 = sklearn.metrics.f1_score(target_test, target_predict)\n",
    "    \n",
    "    # Almacenar resultados\n",
    "    k_values.append(k)\n",
    "    f1_scaled_values.append(f1_scaled)\n",
    "    f1_unscaled_values.append(f1)"
   ]
  },
  {
   "cell_type": "code",
   "execution_count": 29,
   "metadata": {
    "trusted": true
   },
   "outputs": [],
   "source": [
    "# Probar distintos valores de k\n",
    "for k in range(1, 11):\n",
    "    evaluate_knn(features_train, target_train, features_test, target_test, k)"
   ]
  },
  {
   "cell_type": "code",
   "execution_count": 30,
   "metadata": {
    "trusted": true
   },
   "outputs": [
    {
     "name": "stdout",
     "output_type": "stream",
     "text": [
      "1 0.9333333333333332 0.6523297491039427\n",
      "2 0.9174917491749175 0.3762376237623762\n",
      "3 0.9358974358974359 0.3870967741935483\n",
      "4 0.9133333333333333 0.15555555555555553\n",
      "5 0.9392971246006389 0.1675392670157068\n",
      "6 0.9133333333333333 0.09411764705882353\n",
      "7 0.935483870967742 0.11560693641618497\n",
      "8 0.912751677852349 0.024539877300613494\n",
      "9 0.934640522875817 0.03658536585365854\n",
      "10 0.9235880398671096 0.03658536585365854\n"
     ]
    }
   ],
   "source": [
    "for i in range(len(k_values)):\n",
    "    print(k_values[i],f1_scaled_values[i],f1_unscaled_values[i])"
   ]
  },
  {
   "cell_type": "code",
   "execution_count": 31,
   "metadata": {
    "trusted": true
   },
   "outputs": [
    {
     "name": "stdout",
     "output_type": "stream",
     "text": [
      "0.9392971246006389\n"
     ]
    }
   ],
   "source": [
    "print(max(f1_scaled_values))"
   ]
  },
  {
   "cell_type": "code",
   "execution_count": 32,
   "metadata": {
    "trusted": true
   },
   "outputs": [
    {
     "data": {
      "image/png": "[encoded data removed]",
      "text/plain": [
       "<Figure size 800x500 with 1 Axes>"
      ]
     },
     "metadata": {},
     "output_type": "display_data"
    }
   ],
   "source": [
    "# Graficar los resultados\n",
    "plt.figure(figsize=(8, 5))\n",
    "plt.plot(k_values, f1_scaled_values, marker='o', linestyle='-', label='F1 Escalado')\n",
    "plt.plot(k_values, f1_unscaled_values, marker='s', linestyle='--', label='F1 Sin Escalar')\n",
    "plt.xlabel(\"Número de Vecinos (k)\")\n",
    "plt.ylabel(\"F1 Score\")\n",
    "plt.title(\"Efecto del Número de Vecinos en el F1 Score\")\n",
    "plt.legend()\n",
    "plt.grid(True)\n",
    "plt.show()"
   ]
  },
  {
   "cell_type": "markdown",
   "metadata": {},
   "source": [
    "Conclusiones: Llama la atención lo importante que es escalar los datos para modelos knn. Esto se refleja en el F1, pues conforme más vecinos tiene, se desploma el f1, reflejando lo mucho que afecta. El mejor modelo es el que k = 5, pues el f1 escalado es de 0.939297. "
   ]
  },
  {
   "cell_type": "markdown",
   "metadata": {},
   "source": [
    "# Tarea 3. Regresión (con regresión lineal)"
   ]
  },
  {
   "cell_type": "code",
   "execution_count": 33,
   "metadata": {
    "trusted": true
   },
   "outputs": [],
   "source": [
    "class MyLinearRegression:\n",
    "    \n",
    "    def __init__(self):\n",
    "        self.weights = None\n",
    "    \n",
    "    def fit(self, X, y):\n",
    "        # añadir las unidades\n",
    "        X2 = np.append(np.ones([len(X), 1]), X, axis=1)\n",
    "        self.weights = np.linalg.inv(X2.T @ X2) @ (X2.T @ y)\n",
    "\n",
    "    def predict(self, X):\n",
    "        # añadir las unidades\n",
    "        X2 = np.append(np.ones([len(X), 1]), X, axis=1)\n",
    "        y_pred = np.matmul(X2,self.weights) \n",
    "        \n",
    "        return y_pred"
   ]
  },
  {
   "cell_type": "code",
   "execution_count": 34,
   "metadata": {
    "trusted": true
   },
   "outputs": [],
   "source": [
    "def eval_regressor(y_true, y_pred):\n",
    "    \n",
    "    rmse = math.sqrt(sklearn.metrics.mean_squared_error(y_true, y_pred))\n",
    "    print(f'RMSE: {rmse:.2f}')\n",
    "    \n",
    "    r2_score = math.sqrt(sklearn.metrics.r2_score(y_true, y_pred))\n",
    "    print(f'R2: {r2_score:.2f}')    "
   ]
  },
  {
   "cell_type": "code",
   "execution_count": 35,
   "metadata": {
    "trusted": true
   },
   "outputs": [
    {
     "name": "stdout",
     "output_type": "stream",
     "text": [
      "[-9.43539012e-01  3.57495491e-02  1.64272726e-02 -2.60743659e-07\n",
      " -1.16902127e-02]\n",
      "RMSE: 0.34\n",
      "R2: 0.66\n"
     ]
    }
   ],
   "source": [
    "# Probando sin datos escalados\n",
    "\n",
    "X = df[['age', 'gender', 'income', 'family_members']].to_numpy()\n",
    "y = df['insurance_benefits'].to_numpy()\n",
    "\n",
    "X_train, X_test, y_train, y_test = train_test_split(X, y, test_size=0.3, random_state=12345)\n",
    "\n",
    "lr = MyLinearRegression()\n",
    "\n",
    "lr.fit(X_train, y_train)\n",
    "print(lr.weights)\n",
    "\n",
    "y_test_pred = lr.predict(X_test)\n",
    "eval_regressor(y_test, y_test_pred)"
   ]
  },
  {
   "cell_type": "code",
   "execution_count": 36,
   "metadata": {
    "trusted": true
   },
   "outputs": [
    {
     "name": "stdout",
     "output_type": "stream",
     "text": [
      "[ 0.14971429  0.30292778  0.0082117  -0.00258294 -0.01271039]\n",
      "RMSE: 0.34\n",
      "R2: 0.66\n"
     ]
    }
   ],
   "source": [
    "# Probando con datos escalados\n",
    "\n",
    "scaler = sklearn.preprocessing.StandardScaler()\n",
    "\n",
    "x_train_scaled = scaler.fit_transform(X_train)\n",
    "x_test_scaled = scaler.transform(X_test)\n",
    "\n",
    "lr_scaled = MyLinearRegression()\n",
    "\n",
    "lr_scaled.fit(x_train_scaled,y_train)\n",
    "print(lr_scaled.weights)\n",
    "\n",
    "y_test_pred_scaled = lr_scaled.predict(x_test_scaled)\n",
    "eval_regressor(y_test, y_test_pred_scaled)"
   ]
  },
  {
   "cell_type": "markdown",
   "metadata": {},
   "source": [
    "Conclusiones: \n",
    "1. Primero que nada, se observa que los pesos cambian en el modelo sin datos escalados respecto al de con datos escalados. Esto tiene lógica, pues cuando no se escala, variables como 'age' o 'income' que tienen valores más grandes, tienen a tener mayor importancia. En este caso, 'age' toma un mayor peso.\n",
    "2. RMSE y R2 NO cambian, lo cual tiene lógica, pues al escalar el modelo, estamos cambiando el peso de los coeficientes, pero al final de cuentas la combinación de los coeficientes busca el mismo resultado, por lo que y_pred termina siendo prácticamente igual en este caso y no provoca que RMSE y R2 se ven afectadas, al menos con dos decimales son idénticos."
   ]
  },
  {
   "cell_type": "markdown",
   "metadata": {},
   "source": [
    "# Tarea 4. Ofuscar datos"
   ]
  },
  {
   "cell_type": "code",
   "execution_count": 37,
   "metadata": {
    "trusted": true
   },
   "outputs": [],
   "source": [
    "personal_info_column_list = ['gender', 'age', 'income', 'family_members']\n",
    "df_pn = df[personal_info_column_list]"
   ]
  },
  {
   "cell_type": "code",
   "execution_count": 38,
   "metadata": {
    "trusted": true
   },
   "outputs": [
    {
     "data": {
      "text/html": [
       "<div>\n",
       "<style scoped>\n",
       "    .dataframe tbody tr th:only-of-type {\n",
       "        vertical-align: middle;\n",
       "    }\n",
       "\n",
       "    .dataframe tbody tr th {\n",
       "        vertical-align: top;\n",
       "    }\n",
       "\n",
       "    .dataframe thead th {\n",
       "        text-align: right;\n",
       "    }\n",
       "</style>\n",
       "<table border=\"1\" class=\"dataframe\">\n",
       "  <thead>\n",
       "    <tr style=\"text-align: right;\">\n",
       "      <th></th>\n",
       "      <th>gender</th>\n",
       "      <th>age</th>\n",
       "      <th>income</th>\n",
       "      <th>family_members</th>\n",
       "    </tr>\n",
       "  </thead>\n",
       "  <tbody>\n",
       "    <tr>\n",
       "      <th>0</th>\n",
       "      <td>1</td>\n",
       "      <td>41</td>\n",
       "      <td>49600.0</td>\n",
       "      <td>1</td>\n",
       "    </tr>\n",
       "    <tr>\n",
       "      <th>1</th>\n",
       "      <td>0</td>\n",
       "      <td>46</td>\n",
       "      <td>38000.0</td>\n",
       "      <td>1</td>\n",
       "    </tr>\n",
       "    <tr>\n",
       "      <th>2</th>\n",
       "      <td>0</td>\n",
       "      <td>29</td>\n",
       "      <td>21000.0</td>\n",
       "      <td>0</td>\n",
       "    </tr>\n",
       "    <tr>\n",
       "      <th>3</th>\n",
       "      <td>0</td>\n",
       "      <td>21</td>\n",
       "      <td>41700.0</td>\n",
       "      <td>2</td>\n",
       "    </tr>\n",
       "    <tr>\n",
       "      <th>4</th>\n",
       "      <td>1</td>\n",
       "      <td>28</td>\n",
       "      <td>26100.0</td>\n",
       "      <td>0</td>\n",
       "    </tr>\n",
       "    <tr>\n",
       "      <th>...</th>\n",
       "      <td>...</td>\n",
       "      <td>...</td>\n",
       "      <td>...</td>\n",
       "      <td>...</td>\n",
       "    </tr>\n",
       "    <tr>\n",
       "      <th>4995</th>\n",
       "      <td>0</td>\n",
       "      <td>28</td>\n",
       "      <td>35700.0</td>\n",
       "      <td>2</td>\n",
       "    </tr>\n",
       "    <tr>\n",
       "      <th>4996</th>\n",
       "      <td>0</td>\n",
       "      <td>34</td>\n",
       "      <td>52400.0</td>\n",
       "      <td>1</td>\n",
       "    </tr>\n",
       "    <tr>\n",
       "      <th>4997</th>\n",
       "      <td>0</td>\n",
       "      <td>20</td>\n",
       "      <td>33900.0</td>\n",
       "      <td>2</td>\n",
       "    </tr>\n",
       "    <tr>\n",
       "      <th>4998</th>\n",
       "      <td>1</td>\n",
       "      <td>22</td>\n",
       "      <td>32700.0</td>\n",
       "      <td>3</td>\n",
       "    </tr>\n",
       "    <tr>\n",
       "      <th>4999</th>\n",
       "      <td>1</td>\n",
       "      <td>28</td>\n",
       "      <td>40600.0</td>\n",
       "      <td>1</td>\n",
       "    </tr>\n",
       "  </tbody>\n",
       "</table>\n",
       "<p>5000 rows × 4 columns</p>\n",
       "</div>"
      ],
      "text/plain": [
       "      gender  age   income  family_members\n",
       "0          1   41  49600.0               1\n",
       "1          0   46  38000.0               1\n",
       "2          0   29  21000.0               0\n",
       "3          0   21  41700.0               2\n",
       "4          1   28  26100.0               0\n",
       "...      ...  ...      ...             ...\n",
       "4995       0   28  35700.0               2\n",
       "4996       0   34  52400.0               1\n",
       "4997       0   20  33900.0               2\n",
       "4998       1   22  32700.0               3\n",
       "4999       1   28  40600.0               1\n",
       "\n",
       "[5000 rows x 4 columns]"
      ]
     },
     "execution_count": 38,
     "metadata": {},
     "output_type": "execute_result"
    }
   ],
   "source": [
    "df_pn"
   ]
  },
  {
   "cell_type": "code",
   "execution_count": 39,
   "metadata": {
    "trusted": true
   },
   "outputs": [
    {
     "data": {
      "text/plain": [
       "array([[1.00e+00, 4.10e+01, 4.96e+04, 1.00e+00],\n",
       "       [0.00e+00, 4.60e+01, 3.80e+04, 1.00e+00],\n",
       "       [0.00e+00, 2.90e+01, 2.10e+04, 0.00e+00],\n",
       "       ...,\n",
       "       [0.00e+00, 2.00e+01, 3.39e+04, 2.00e+00],\n",
       "       [1.00e+00, 2.20e+01, 3.27e+04, 3.00e+00],\n",
       "       [1.00e+00, 2.80e+01, 4.06e+04, 1.00e+00]])"
      ]
     },
     "execution_count": 39,
     "metadata": {},
     "output_type": "execute_result"
    }
   ],
   "source": [
    "X = df_pn.to_numpy()\n",
    "X"
   ]
  },
  {
   "cell_type": "markdown",
   "metadata": {},
   "source": [
    "Generar una matriz aleatoria $P$."
   ]
  },
  {
   "cell_type": "code",
   "execution_count": 40,
   "metadata": {
    "trusted": true
   },
   "outputs": [],
   "source": [
    "rng = np.random.default_rng(seed=42)\n",
    "P = rng.random(size=(X.shape[1], X.shape[1]))"
   ]
  },
  {
   "cell_type": "markdown",
   "metadata": {},
   "source": [
    "Comprobar que la matriz P sea invertible"
   ]
  },
  {
   "cell_type": "code",
   "execution_count": 41,
   "metadata": {
    "trusted": true
   },
   "outputs": [
    {
     "name": "stdout",
     "output_type": "stream",
     "text": [
      "[[ 0.41467992 -1.43783972  0.62798546  1.14001268]\n",
      " [-1.06101789  0.44219337  0.1329549   1.18425933]\n",
      " [ 1.42362442  1.60461607 -2.0553823  -1.53699695]\n",
      " [-0.11128575 -0.65813802  1.74995517 -0.11816316]]\n"
     ]
    }
   ],
   "source": [
    "P_inv = np.linalg.inv(P)\n",
    "print(P_inv)"
   ]
  },
  {
   "cell_type": "markdown",
   "metadata": {},
   "source": [
    "P es invertible, si no lo fuera, no habría generado una matriz, hubiera aparecido un error. Después de corroborar que lo es, se puede multiplicar por la matriz X para ofuscar los datos."
   ]
  },
  {
   "cell_type": "code",
   "execution_count": 42,
   "metadata": {
    "trusted": true
   },
   "outputs": [
    {
     "data": {
      "text/plain": [
       "array([[ 6359.71527314, 22380.40467609, 18424.09074184, 46000.69669016],\n",
       "       [ 4873.29406479, 17160.36702982, 14125.78076133, 35253.45577301],\n",
       "       [ 2693.11742928,  9486.397744  ,  7808.83156024, 19484.86063067],\n",
       "       ...,\n",
       "       [ 4346.2234249 , 15289.24126492, 12586.16264392, 31433.50888552],\n",
       "       [ 4194.09324155, 14751.9910242 , 12144.02930637, 30323.88763426],\n",
       "       [ 5205.46827354, 18314.24814446, 15077.01370762, 37649.59295455]])"
      ]
     },
     "execution_count": 42,
     "metadata": {},
     "output_type": "execute_result"
    }
   ],
   "source": [
    "# Ofuscar los datos de la matriz X\n",
    "X_ofuscada = X @ P\n",
    "X_ofuscada"
   ]
  },
  {
   "cell_type": "markdown",
   "metadata": {},
   "source": [
    "¿Puedes adivinar la edad o los ingresos de los clientes después de la transformación?"
   ]
  },
  {
   "cell_type": "markdown",
   "metadata": {},
   "source": [
    "No, lo cual está perfecto, pues esa es precisamente la idea de ofuscar los datos, que no se puedan adivinar ni deducir a menos de que tengas la matriz P."
   ]
  },
  {
   "cell_type": "markdown",
   "metadata": {},
   "source": [
    "¿Puedes recuperar los datos originales de $X'$ si conoces $P$? Intenta comprobarlo a través de los cálculos moviendo $P$ del lado derecho de la fórmula anterior al izquierdo. En este caso las reglas de la multiplicación matricial son realmente útiles"
   ]
  },
  {
   "cell_type": "code",
   "execution_count": 43,
   "metadata": {
    "trusted": true
   },
   "outputs": [
    {
     "data": {
      "text/plain": [
       "array([[ 1.00000000e+00,  4.10000000e+01,  4.96000000e+04,\n",
       "         1.00000000e+00],\n",
       "       [-4.47363596e-12,  4.60000000e+01,  3.80000000e+04,\n",
       "         1.00000000e+00],\n",
       "       [-2.51586878e-12,  2.90000000e+01,  2.10000000e+04,\n",
       "         9.52452315e-13],\n",
       "       ...,\n",
       "       [-1.92837871e-12,  2.00000000e+01,  3.39000000e+04,\n",
       "         2.00000000e+00],\n",
       "       [ 1.00000000e+00,  2.20000000e+01,  3.27000000e+04,\n",
       "         3.00000000e+00],\n",
       "       [ 1.00000000e+00,  2.80000000e+01,  4.06000000e+04,\n",
       "         1.00000000e+00]])"
      ]
     },
     "execution_count": 43,
     "metadata": {},
     "output_type": "execute_result"
    }
   ],
   "source": [
    "X_recuperada = X_ofuscada @ P_inv \n",
    "X_recuperada"
   ]
  },
  {
   "cell_type": "markdown",
   "metadata": {},
   "source": [
    "Muestra los tres casos para algunos clientes\n",
    "- Datos originales\n",
    "- El que está transformado\n",
    "- El que está invertido (recuperado)"
   ]
  },
  {
   "cell_type": "code",
   "execution_count": 44,
   "metadata": {
    "trusted": true
   },
   "outputs": [
    {
     "name": "stdout",
     "output_type": "stream",
     "text": [
      "Datos originales [[1.00e+00 4.10e+01 4.96e+04 1.00e+00]\n",
      " [0.00e+00 4.60e+01 3.80e+04 1.00e+00]\n",
      " [0.00e+00 2.90e+01 2.10e+04 0.00e+00]\n",
      " ...\n",
      " [0.00e+00 2.00e+01 3.39e+04 2.00e+00]\n",
      " [1.00e+00 2.20e+01 3.27e+04 3.00e+00]\n",
      " [1.00e+00 2.80e+01 4.06e+04 1.00e+00]]\n"
     ]
    }
   ],
   "source": [
    "# Datos originales\n",
    "print(\"Datos originales\", X)"
   ]
  },
  {
   "cell_type": "code",
   "execution_count": 45,
   "metadata": {
    "trusted": true
   },
   "outputs": [
    {
     "name": "stdout",
     "output_type": "stream",
     "text": [
      "Datos ofuscados [[ 6359.71527314 22380.40467609 18424.09074184 46000.69669016]\n",
      " [ 4873.29406479 17160.36702982 14125.78076133 35253.45577301]\n",
      " [ 2693.11742928  9486.397744    7808.83156024 19484.86063067]\n",
      " ...\n",
      " [ 4346.2234249  15289.24126492 12586.16264392 31433.50888552]\n",
      " [ 4194.09324155 14751.9910242  12144.02930637 30323.88763426]\n",
      " [ 5205.46827354 18314.24814446 15077.01370762 37649.59295455]]\n"
     ]
    }
   ],
   "source": [
    "# Datos ofuscados\n",
    "print(\"Datos ofuscados\", X_ofuscada)"
   ]
  },
  {
   "cell_type": "code",
   "execution_count": 46,
   "metadata": {
    "trusted": true
   },
   "outputs": [
    {
     "name": "stdout",
     "output_type": "stream",
     "text": [
      "Datos recuperados [[ 1.00000000e+00  4.10000000e+01  4.96000000e+04  1.00000000e+00]\n",
      " [-4.47363596e-12  4.60000000e+01  3.80000000e+04  1.00000000e+00]\n",
      " [-2.51586878e-12  2.90000000e+01  2.10000000e+04  9.52452315e-13]\n",
      " ...\n",
      " [-1.92837871e-12  2.00000000e+01  3.39000000e+04  2.00000000e+00]\n",
      " [ 1.00000000e+00  2.20000000e+01  3.27000000e+04  3.00000000e+00]\n",
      " [ 1.00000000e+00  2.80000000e+01  4.06000000e+04  1.00000000e+00]]\n"
     ]
    }
   ],
   "source": [
    "# Datos recuperados\n",
    "print(\"Datos recuperados\",X_recuperada)"
   ]
  },
  {
   "cell_type": "markdown",
   "metadata": {},
   "source": [
    "Algunos valores no son exactamente iguales a los de los datos originales, esto se debe a pequeños errores de redondeo durante las operaciones matriciales, tales como la multiplicación e inversión de estas."
   ]
  },
  {
   "cell_type": "markdown",
   "metadata": {},
   "source": [
    "## Prueba de que la ofuscación de datos puede funcionar con regresión lineal"
   ]
  },
  {
   "cell_type": "markdown",
   "metadata": {},
   "source": [
    "**Respuesta**"
   ]
  },
  {
   "cell_type": "markdown",
   "metadata": {},
   "source": [
    "Después de la prueba analítica, vemos que el nuevo vector de pesos se relaciona con el original multiplicándolo por la inversa de P:\n",
    "$$ Wp = P^{-1} w $$"
   ]
  },
  {
   "cell_type": "markdown",
   "metadata": {},
   "source": [
    "Respecto a las predicciones, recordamos que las predicciones originales son:\n",
    "\n",
    "$$ y = Xw $$"
   ]
  },
  {
   "cell_type": "markdown",
   "metadata": {},
   "source": [
    "Con datos ofuscados:\n",
    "$$ y = XP Wp $$"
   ]
  },
  {
   "cell_type": "markdown",
   "metadata": {},
   "source": [
    "Sustituimos $$ Wp = P^{-1} w $$ "
   ]
  },
  {
   "cell_type": "markdown",
   "metadata": {},
   "source": [
    "Obtenemos: \n",
    "$$ y = XP P^{-1} w $$"
   ]
  },
  {
   "cell_type": "markdown",
   "metadata": {},
   "source": [
    "Se cancelan debido a que la multiplicación entre la matriz P y su inversa dan como resultado la matriz de identidad, arrojando como resultado final:\n",
    "$$ y = Xw $$"
   ]
  },
  {
   "cell_type": "markdown",
   "metadata": {},
   "source": [
    "Con este resultado, podemos responder a la última pregunta y afirmar que las predicciones no cambian, y, por lo tanto, RECM y otras métricas no se ven afectadas"
   ]
  },
  {
   "cell_type": "markdown",
   "metadata": {},
   "source": [
    "**Prueba analítica**"
   ]
  },
  {
   "cell_type": "markdown",
   "metadata": {},
   "source": [
    "Tomamos el vector de pesos nuevo: \n",
    "$$ w_P = [(XP)^T XP]^{-1} (XP)^T y $$\n",
    "\n",
    "Tomando en cuenta las propiedades de las matrices, sabemos que: \n",
    "$$ (XP)^T = P^T X^T $$\n",
    "\n",
    "De esta forma, el elemento \n",
    "$$ [(XP)^T XP]^{-1} = (XP)^{-1} (X^T)^{-1} (P^T)^{-1} $$  "
   ]
  },
  {
   "cell_type": "markdown",
   "metadata": {},
   "source": [
    "Sustituimos y obtenemos la siguiente fórmula:\n",
    "$$ Wp = (XP)^{-1} (X^T)^{-1} (P^T)^{-1} (XP)^T y $$"
   ]
  },
  {
   "cell_type": "markdown",
   "metadata": {},
   "source": [
    "Aplicamos la misma propiedad que antes, desarrollamos:\n",
    "$$ Wp = (XP)^{-1} (X^T)^{-1} (P^T)^{-1} P^T X^T y $$"
   ]
  },
  {
   "cell_type": "markdown",
   "metadata": {},
   "source": [
    "Recordando la propiedad:\n",
    "$$ (P^T)^{-1} PT = I $$"
   ]
  },
  {
   "cell_type": "markdown",
   "metadata": {},
   "source": [
    "Seguimos desarrollando y se cancelan:\n",
    "$$ Wp = (XP)^{-1} (X^T)^{-1} X^T y $$"
   ]
  },
  {
   "cell_type": "markdown",
   "metadata": {},
   "source": [
    "Aplicamos la propiedad del inverso en: $$ (XP)^{-1} $$"
   ]
  },
  {
   "cell_type": "markdown",
   "metadata": {},
   "source": [
    "Obtenemos lo siguiente:\n",
    "$$ Wp = P^{-1} X^{-1} (X^T)^{-1} X^T y $$"
   ]
  },
  {
   "cell_type": "markdown",
   "metadata": {},
   "source": [
    "Finalmente, aplicamos la propiedad del inverso, pero ahora al revés:\n",
    "$$ Wp = P^{-1} (X^T X)^{-1}  X^T y $$"
   ]
  },
  {
   "cell_type": "markdown",
   "metadata": {},
   "source": [
    "Recordando el valor de w, sustituimos y finalmente nos queda lo siguiente:\n",
    "$$ Wp = P^{-1} w $$"
   ]
  },
  {
   "cell_type": "markdown",
   "metadata": {},
   "source": []
  },
  {
   "cell_type": "markdown",
   "metadata": {},
   "source": [
    "## Prueba de regresión lineal con ofuscación de datos"
   ]
  },
  {
   "cell_type": "markdown",
   "metadata": {},
   "source": [
    "Ahora, probemos que la regresión lineal pueda funcionar, en términos computacionales, con la transformación de ofuscación elegida.\n",
    "Construye un procedimiento o una clase que ejecute la regresión lineal opcionalmente con la ofuscación. Puedes usar una implementación de regresión lineal de scikit-learn o tu propia implementación.\n",
    "Ejecuta la regresión lineal para los datos originales y los ofuscados, compara los valores predichos y los valores de las métricas RMSE y $R^2$. ¿Hay alguna diferencia?"
   ]
  },
  {
   "cell_type": "markdown",
   "metadata": {},
   "source": [
    "**Procedimiento**\n",
    "\n",
    "- Crea una matriz cuadrada $P$ de números aleatorios.- Comprueba que sea invertible. Si no lo es, repite el primer paso hasta obtener una matriz invertible.- <¡ tu comentario aquí !>\n",
    "- Utiliza $XP$ como la nueva matriz de características"
   ]
  },
  {
   "cell_type": "markdown",
   "metadata": {},
   "source": [
    "### SIN OFUSCAR"
   ]
  },
  {
   "cell_type": "code",
   "execution_count": 47,
   "metadata": {
    "trusted": true
   },
   "outputs": [
    {
     "name": "stdout",
     "output_type": "stream",
     "text": [
      "[-9.43539012e-01  3.57495491e-02  1.64272726e-02 -2.60743659e-07\n",
      " -1.16902127e-02]\n",
      "RMSE: 0.34\n",
      "R2: 0.66\n"
     ]
    }
   ],
   "source": [
    "# Mostrando los resultados del DF original sin escalar\n",
    "lr = MyLinearRegression()\n",
    "\n",
    "lr.fit(X_train, y_train)\n",
    "print(lr.weights)\n",
    "\n",
    "y_test_pred = lr.predict(X_test)\n",
    "eval_regressor(y_test, y_test_pred)"
   ]
  },
  {
   "cell_type": "code",
   "execution_count": 48,
   "metadata": {
    "trusted": true
   },
   "outputs": [
    {
     "name": "stdout",
     "output_type": "stream",
     "text": [
      "[ 0.14971429  0.30292778  0.0082117  -0.00258294 -0.01271039]\n",
      "RMSE: 0.34\n",
      "R2: 0.66\n"
     ]
    }
   ],
   "source": [
    "# Mostrando los resultados del DF original escalados\n",
    "scaler = sklearn.preprocessing.StandardScaler()\n",
    "\n",
    "x_train_scaled = scaler.fit_transform(X_train)\n",
    "x_test_scaled = scaler.transform(X_test)\n",
    "\n",
    "lr_scaled = MyLinearRegression()\n",
    "\n",
    "lr_scaled.fit(x_train_scaled,y_train)\n",
    "print(lr_scaled.weights)\n",
    "\n",
    "y_test_pred_scaled = lr_scaled.predict(x_test_scaled)\n",
    "eval_regressor(y_test, y_test_pred_scaled)"
   ]
  },
  {
   "cell_type": "markdown",
   "metadata": {},
   "source": [
    "### OFUSCADOS"
   ]
  },
  {
   "cell_type": "code",
   "execution_count": 49,
   "metadata": {
    "trusted": true
   },
   "outputs": [],
   "source": [
    "# Creación de función para datos ofsucados\n",
    "\n",
    "class RegresionLinealOfuscada:\n",
    "    def __init__(self, seed=42):\n",
    "        self.seed = seed\n",
    "        self.P = None\n",
    "        self.modelo = sklearn.linear_model.LinearRegression(fit_intercept=False)\n",
    "    \n",
    "    def invertible_matrix(self, n):\n",
    "        rng = np.random.default_rng(self.seed)\n",
    "        while True:\n",
    "            P = rng.random((n, n))\n",
    "            if np.linalg.cond(P) < 1/np.finfo(P.dtype).eps:\n",
    "                return P\n",
    "\n",
    "    def fit(self, X_train, y_train):\n",
    "        n_features = X_train.shape[1]\n",
    "        self.P = self.invertible_matrix(n_features)\n",
    "        X_train_ofuscado = X_train @ self.P\n",
    "        self.modelo.fit(X_train_ofuscado, y_train)\n",
    "    \n",
    "    def predict(self, X):\n",
    "        X_ofuscado = X @ self.P\n",
    "        return self.modelo.predict(X_ofuscado)\n",
    "    \n",
    "    def evaluate(self, X_test, y_test):\n",
    "        y_pred = self.predict(X_test)\n",
    "        rmse = sklearn.metrics.mean_squared_error(y_test, y_pred, squared=False)\n",
    "        r2 = sklearn.metrics.r2_score(y_test, y_pred)\n",
    "        return rmse, r2"
   ]
  },
  {
   "cell_type": "code",
   "execution_count": 50,
   "metadata": {
    "trusted": true
   },
   "outputs": [
    {
     "name": "stdout",
     "output_type": "stream",
     "text": [
      "[-1.32259697  0.31687813  0.65552966 -1.10490444  1.57904806]\n",
      "RMSE: 0.34355650891364353\n",
      "R2: 0.4305278542490233\n"
     ]
    }
   ],
   "source": [
    "# Mostrando los resultados del DF ofuscados sin escalar\n",
    "X_train_ofuscada = np.c_[np.ones((X_train.shape[0], 1)), X_train]\n",
    "X_test_ofuscada = np.c_[np.ones((X_test.shape[0], 1)), X_test]\n",
    "\n",
    "lr_ofuscada = RegresionLinealOfuscada()\n",
    "\n",
    "lr_ofuscada.fit(X_train_ofuscada, y_train)\n",
    "print(lr_ofuscada.modelo.coef_)\n",
    "\n",
    "y_test_pred_ofuscada = lr_ofuscada.predict(X_test_ofuscada)\n",
    "\n",
    "rmse, r2 = lr_ofuscada.evaluate(X_test_ofuscada, y_test)\n",
    "print(\"RMSE:\", rmse)\n",
    "print(\"R2:\", r2)"
   ]
  },
  {
   "cell_type": "code",
   "execution_count": 51,
   "metadata": {
    "trusted": true
   },
   "outputs": [
    {
     "name": "stdout",
     "output_type": "stream",
     "text": [
      "[ 0.47482851  0.12931164 -0.23030351 -0.09028811 -0.14687235]\n",
      "RMSE: 0.3435565089137969\n",
      "R2: 0.4305278542485148\n"
     ]
    }
   ],
   "source": [
    "# Mostrando los resultados del DF ofuscados y escalados\n",
    "scaler_ofuscado = sklearn.preprocessing.StandardScaler()\n",
    "\n",
    "x_train_scaled = scaler_ofuscado.fit_transform(X_train)\n",
    "x_test_scaled = scaler_ofuscado.transform(X_test)\n",
    "\n",
    "X_train_scaled_ofuscado = np.c_[np.ones((x_train_scaled.shape[0], 1)), x_train_scaled]\n",
    "X_test_scaled_ofuscado = np.c_[np.ones((x_test_scaled.shape[0], 1)), x_test_scaled]\n",
    "\n",
    "# Creamos y entrenamos el modelo\n",
    "lr_ofuscada_scaled = RegresionLinealOfuscada()\n",
    "\n",
    "lr_ofuscada_scaled.fit(X_train_scaled_ofuscado, y_train)\n",
    "\n",
    "# Mostramos los coeficientes aprendidos\n",
    "print(lr_ofuscada_scaled.modelo.coef_)\n",
    "\n",
    "# Hacemos predicciones y evaluamos\n",
    "y_test_pred_ofuscada_scaled = lr_ofuscada_scaled.predict(X_test_scaled_ofuscado)\n",
    "\n",
    "rmse, r2 = lr_ofuscada_scaled.evaluate(X_test_scaled_ofuscado, y_test)\n",
    "\n",
    "print(\"RMSE:\", rmse)\n",
    "print(\"R2:\", r2)"
   ]
  },
  {
   "cell_type": "markdown",
   "metadata": {},
   "source": [
    "# Conclusiones"
   ]
  },
  {
   "cell_type": "markdown",
   "metadata": {},
   "source": [
    "1. Como ya se había visto anteriormente, cuando el modelo no está ofuscado, coincide en RMSE y R2 tanto en el modelo con datos escalados como el que no, aunque no lo hace en los coeficientes, como es lógico.\n",
    "2. Esto mismo coincide en la comparación de las respuestas cuando se ofuscan los datos: coinciden en el RMSE y el R2 con datos escalados como el que no los tiene escalados, pero los coeficientes cambian.\n",
    "3. Vemos que el RMSE no cambia, es el mismo en los 4 modelos. Esto tiene sentido, pues en la respuesta analítica ya se había concluído que las predicciones no cambiaban, y recordando, el RMSE o RECM mide la distancia promedio entre las predicciones y los valores reales, por eso es prácticamente igual.\n",
    "4. Finalmente, en cuanto al R2, este sí se ve afectado. Al parecer la ofuscación lo alteró. "
   ]
  }
 ],
 "metadata": {
  "ExecuteTimeLog": [
   {
    "duration": 2738,
    "start_time": "2025-04-10T04:32:17.379Z"
   },
   {
    "duration": 2340,
    "start_time": "2025-04-10T04:32:31.262Z"
   },
   {
    "duration": 3020,
    "start_time": "2025-04-10T04:32:33.605Z"
   },
   {
    "duration": 33,
    "start_time": "2025-04-10T04:32:36.627Z"
   },
   {
    "duration": 3,
    "start_time": "2025-04-10T04:32:36.663Z"
   },
   {
    "duration": 12,
    "start_time": "2025-04-10T04:32:36.668Z"
   },
   {
    "duration": 9,
    "start_time": "2025-04-10T04:32:36.681Z"
   },
   {
    "duration": 2,
    "start_time": "2025-04-10T04:32:36.692Z"
   },
   {
    "duration": 2,
    "start_time": "2025-04-10T04:32:36.696Z"
   },
   {
    "duration": 2,
    "start_time": "2025-04-10T04:32:36.700Z"
   },
   {
    "duration": 2914,
    "start_time": "2025-04-10T04:32:36.712Z"
   },
   {
    "duration": 1,
    "start_time": "2025-04-10T04:32:39.628Z"
   },
   {
    "duration": 14,
    "start_time": "2025-04-10T04:32:39.630Z"
   },
   {
    "duration": 0,
    "start_time": "2025-04-10T04:32:39.646Z"
   },
   {
    "duration": 0,
    "start_time": "2025-04-10T04:32:39.647Z"
   },
   {
    "duration": 0,
    "start_time": "2025-04-10T04:32:39.649Z"
   },
   {
    "duration": 0,
    "start_time": "2025-04-10T04:32:39.651Z"
   },
   {
    "duration": 0,
    "start_time": "2025-04-10T04:32:39.652Z"
   },
   {
    "duration": 0,
    "start_time": "2025-04-10T04:32:39.653Z"
   },
   {
    "duration": 0,
    "start_time": "2025-04-10T04:32:39.654Z"
   },
   {
    "duration": 0,
    "start_time": "2025-04-10T04:32:39.656Z"
   },
   {
    "duration": 0,
    "start_time": "2025-04-10T04:32:39.657Z"
   },
   {
    "duration": 0,
    "start_time": "2025-04-10T04:32:39.659Z"
   },
   {
    "duration": 0,
    "start_time": "2025-04-10T04:32:39.660Z"
   },
   {
    "duration": 0,
    "start_time": "2025-04-10T04:32:39.759Z"
   },
   {
    "duration": 0,
    "start_time": "2025-04-10T04:32:39.761Z"
   },
   {
    "duration": 4,
    "start_time": "2025-04-10T04:35:51.232Z"
   },
   {
    "duration": 9,
    "start_time": "2025-04-10T04:36:03.827Z"
   },
   {
    "duration": 17,
    "start_time": "2025-04-10T04:36:38.246Z"
   },
   {
    "duration": 8,
    "start_time": "2025-04-10T04:38:47.210Z"
   },
   {
    "duration": 7,
    "start_time": "2025-04-10T04:38:48.201Z"
   },
   {
    "duration": 120,
    "start_time": "2025-04-10T04:43:39.215Z"
   },
   {
    "duration": 87,
    "start_time": "2025-04-10T04:47:27.810Z"
   },
   {
    "duration": 97,
    "start_time": "2025-04-10T04:56:06.815Z"
   },
   {
    "duration": 5,
    "start_time": "2025-04-10T04:56:25.213Z"
   },
   {
    "duration": 9,
    "start_time": "2025-04-10T16:44:15.075Z"
   },
   {
    "duration": 2536,
    "start_time": "2025-04-10T16:44:25.312Z"
   },
   {
    "duration": 2823,
    "start_time": "2025-04-10T16:44:27.850Z"
   },
   {
    "duration": 12,
    "start_time": "2025-04-10T16:44:30.675Z"
   },
   {
    "duration": 3,
    "start_time": "2025-04-10T16:44:30.690Z"
   },
   {
    "duration": 12,
    "start_time": "2025-04-10T16:44:30.695Z"
   },
   {
    "duration": 10,
    "start_time": "2025-04-10T16:44:30.710Z"
   },
   {
    "duration": 3,
    "start_time": "2025-04-10T16:44:30.723Z"
   },
   {
    "duration": 11,
    "start_time": "2025-04-10T16:44:30.728Z"
   },
   {
    "duration": 48,
    "start_time": "2025-04-10T16:44:30.741Z"
   },
   {
    "duration": 204,
    "start_time": "2025-04-10T16:44:30.792Z"
   },
   {
    "duration": 106,
    "start_time": "2025-04-10T16:44:30.997Z"
   },
   {
    "duration": 6,
    "start_time": "2025-04-10T16:44:31.105Z"
   },
   {
    "duration": 2730,
    "start_time": "2025-04-10T16:44:31.113Z"
   },
   {
    "duration": 2,
    "start_time": "2025-04-10T16:44:33.846Z"
   },
   {
    "duration": 7,
    "start_time": "2025-04-10T16:44:33.851Z"
   },
   {
    "duration": 10,
    "start_time": "2025-04-10T16:44:33.860Z"
   },
   {
    "duration": 11,
    "start_time": "2025-04-10T16:44:33.872Z"
   },
   {
    "duration": 8,
    "start_time": "2025-04-10T16:44:33.884Z"
   },
   {
    "duration": 0,
    "start_time": "2025-04-10T16:44:33.893Z"
   },
   {
    "duration": 0,
    "start_time": "2025-04-10T16:44:33.895Z"
   },
   {
    "duration": 0,
    "start_time": "2025-04-10T16:44:33.896Z"
   },
   {
    "duration": 0,
    "start_time": "2025-04-10T16:44:33.897Z"
   },
   {
    "duration": 0,
    "start_time": "2025-04-10T16:44:33.898Z"
   },
   {
    "duration": 0,
    "start_time": "2025-04-10T16:44:33.900Z"
   },
   {
    "duration": 0,
    "start_time": "2025-04-10T16:44:33.901Z"
   },
   {
    "duration": 0,
    "start_time": "2025-04-10T16:44:33.902Z"
   },
   {
    "duration": 0,
    "start_time": "2025-04-10T16:44:33.903Z"
   },
   {
    "duration": 0,
    "start_time": "2025-04-10T16:44:33.904Z"
   },
   {
    "duration": 4,
    "start_time": "2025-04-10T16:46:10.865Z"
   },
   {
    "duration": 2,
    "start_time": "2025-04-10T17:01:58.450Z"
   },
   {
    "duration": 2150,
    "start_time": "2025-04-10T19:27:23.110Z"
   },
   {
    "duration": 1008,
    "start_time": "2025-04-10T19:27:25.263Z"
   },
   {
    "duration": 7,
    "start_time": "2025-04-10T19:27:26.272Z"
   },
   {
    "duration": 3,
    "start_time": "2025-04-10T19:27:26.282Z"
   },
   {
    "duration": 10,
    "start_time": "2025-04-10T19:27:26.287Z"
   },
   {
    "duration": 8,
    "start_time": "2025-04-10T19:27:26.298Z"
   },
   {
    "duration": 2,
    "start_time": "2025-04-10T19:27:26.308Z"
   },
   {
    "duration": 8,
    "start_time": "2025-04-10T19:27:26.312Z"
   },
   {
    "duration": 49,
    "start_time": "2025-04-10T19:27:26.322Z"
   },
   {
    "duration": 133,
    "start_time": "2025-04-10T19:27:26.374Z"
   },
   {
    "duration": 96,
    "start_time": "2025-04-10T19:27:26.509Z"
   },
   {
    "duration": 5,
    "start_time": "2025-04-10T19:27:26.606Z"
   },
   {
    "duration": 2566,
    "start_time": "2025-04-10T19:27:26.612Z"
   },
   {
    "duration": 3,
    "start_time": "2025-04-10T19:27:29.180Z"
   },
   {
    "duration": 5,
    "start_time": "2025-04-10T19:27:29.184Z"
   },
   {
    "duration": 9,
    "start_time": "2025-04-10T19:27:29.190Z"
   },
   {
    "duration": 9,
    "start_time": "2025-04-10T19:27:29.200Z"
   },
   {
    "duration": 4,
    "start_time": "2025-04-10T19:27:29.211Z"
   },
   {
    "duration": 0,
    "start_time": "2025-04-10T19:27:29.217Z"
   },
   {
    "duration": 0,
    "start_time": "2025-04-10T19:27:29.219Z"
   },
   {
    "duration": 0,
    "start_time": "2025-04-10T19:27:29.220Z"
   },
   {
    "duration": 0,
    "start_time": "2025-04-10T19:27:29.221Z"
   },
   {
    "duration": 0,
    "start_time": "2025-04-10T19:27:29.223Z"
   },
   {
    "duration": 0,
    "start_time": "2025-04-10T19:27:29.224Z"
   },
   {
    "duration": 0,
    "start_time": "2025-04-10T19:27:29.226Z"
   },
   {
    "duration": 0,
    "start_time": "2025-04-10T19:27:29.227Z"
   },
   {
    "duration": 0,
    "start_time": "2025-04-10T19:27:29.228Z"
   },
   {
    "duration": 0,
    "start_time": "2025-04-10T19:27:29.231Z"
   },
   {
    "duration": 236,
    "start_time": "2025-04-10T19:37:32.245Z"
   },
   {
    "duration": 2137,
    "start_time": "2025-04-10T19:37:55.898Z"
   },
   {
    "duration": 938,
    "start_time": "2025-04-10T19:37:58.037Z"
   },
   {
    "duration": 8,
    "start_time": "2025-04-10T19:37:58.976Z"
   },
   {
    "duration": 4,
    "start_time": "2025-04-10T19:37:58.985Z"
   },
   {
    "duration": 10,
    "start_time": "2025-04-10T19:37:58.991Z"
   },
   {
    "duration": 9,
    "start_time": "2025-04-10T19:37:59.002Z"
   },
   {
    "duration": 3,
    "start_time": "2025-04-10T19:37:59.012Z"
   },
   {
    "duration": 8,
    "start_time": "2025-04-10T19:37:59.017Z"
   },
   {
    "duration": 50,
    "start_time": "2025-04-10T19:37:59.026Z"
   },
   {
    "duration": 132,
    "start_time": "2025-04-10T19:37:59.078Z"
   },
   {
    "duration": 99,
    "start_time": "2025-04-10T19:37:59.211Z"
   },
   {
    "duration": 5,
    "start_time": "2025-04-10T19:37:59.311Z"
   },
   {
    "duration": 2572,
    "start_time": "2025-04-10T19:37:59.318Z"
   },
   {
    "duration": 2,
    "start_time": "2025-04-10T19:38:01.894Z"
   },
   {
    "duration": 4,
    "start_time": "2025-04-10T19:38:01.898Z"
   },
   {
    "duration": 8,
    "start_time": "2025-04-10T19:38:01.903Z"
   },
   {
    "duration": 8,
    "start_time": "2025-04-10T19:38:01.913Z"
   },
   {
    "duration": 271,
    "start_time": "2025-04-10T19:38:01.923Z"
   },
   {
    "duration": 0,
    "start_time": "2025-04-10T19:38:02.196Z"
   },
   {
    "duration": 0,
    "start_time": "2025-04-10T19:38:02.197Z"
   },
   {
    "duration": 0,
    "start_time": "2025-04-10T19:38:02.198Z"
   },
   {
    "duration": 0,
    "start_time": "2025-04-10T19:38:02.199Z"
   },
   {
    "duration": 0,
    "start_time": "2025-04-10T19:38:02.200Z"
   },
   {
    "duration": 0,
    "start_time": "2025-04-10T19:38:02.201Z"
   },
   {
    "duration": 0,
    "start_time": "2025-04-10T19:38:02.202Z"
   },
   {
    "duration": 0,
    "start_time": "2025-04-10T19:38:02.204Z"
   },
   {
    "duration": 0,
    "start_time": "2025-04-10T19:38:02.205Z"
   },
   {
    "duration": 0,
    "start_time": "2025-04-10T19:38:02.206Z"
   },
   {
    "duration": 0,
    "start_time": "2025-04-10T19:38:02.207Z"
   },
   {
    "duration": 2115,
    "start_time": "2025-04-10T19:39:02.090Z"
   },
   {
    "duration": 976,
    "start_time": "2025-04-10T19:39:04.208Z"
   },
   {
    "duration": 8,
    "start_time": "2025-04-10T19:39:05.185Z"
   },
   {
    "duration": 3,
    "start_time": "2025-04-10T19:39:05.195Z"
   },
   {
    "duration": 9,
    "start_time": "2025-04-10T19:39:05.200Z"
   },
   {
    "duration": 9,
    "start_time": "2025-04-10T19:39:05.210Z"
   },
   {
    "duration": 3,
    "start_time": "2025-04-10T19:39:05.221Z"
   },
   {
    "duration": 8,
    "start_time": "2025-04-10T19:39:05.225Z"
   },
   {
    "duration": 45,
    "start_time": "2025-04-10T19:39:05.235Z"
   },
   {
    "duration": 135,
    "start_time": "2025-04-10T19:39:05.283Z"
   },
   {
    "duration": 94,
    "start_time": "2025-04-10T19:39:05.420Z"
   },
   {
    "duration": 5,
    "start_time": "2025-04-10T19:39:05.517Z"
   },
   {
    "duration": 2578,
    "start_time": "2025-04-10T19:39:05.524Z"
   },
   {
    "duration": 3,
    "start_time": "2025-04-10T19:39:08.104Z"
   },
   {
    "duration": 4,
    "start_time": "2025-04-10T19:39:08.108Z"
   },
   {
    "duration": 8,
    "start_time": "2025-04-10T19:39:08.114Z"
   },
   {
    "duration": 8,
    "start_time": "2025-04-10T19:39:08.124Z"
   },
   {
    "duration": 482,
    "start_time": "2025-04-10T19:39:08.133Z"
   },
   {
    "duration": 0,
    "start_time": "2025-04-10T19:39:08.617Z"
   },
   {
    "duration": 0,
    "start_time": "2025-04-10T19:39:08.618Z"
   },
   {
    "duration": 0,
    "start_time": "2025-04-10T19:39:08.619Z"
   },
   {
    "duration": 0,
    "start_time": "2025-04-10T19:39:08.620Z"
   },
   {
    "duration": 0,
    "start_time": "2025-04-10T19:39:08.621Z"
   },
   {
    "duration": 0,
    "start_time": "2025-04-10T19:39:08.622Z"
   },
   {
    "duration": 0,
    "start_time": "2025-04-10T19:39:08.625Z"
   },
   {
    "duration": 0,
    "start_time": "2025-04-10T19:39:08.626Z"
   },
   {
    "duration": 0,
    "start_time": "2025-04-10T19:39:08.627Z"
   },
   {
    "duration": 0,
    "start_time": "2025-04-10T19:39:08.628Z"
   },
   {
    "duration": 0,
    "start_time": "2025-04-10T19:39:08.629Z"
   },
   {
    "duration": 4,
    "start_time": "2025-04-10T19:46:35.559Z"
   },
   {
    "duration": 22,
    "start_time": "2025-04-10T19:46:38.414Z"
   },
   {
    "duration": 4,
    "start_time": "2025-04-10T19:46:46.542Z"
   },
   {
    "duration": 57,
    "start_time": "2025-04-10T19:46:48.433Z"
   },
   {
    "duration": 69,
    "start_time": "2025-04-10T19:49:49.217Z"
   },
   {
    "duration": 56,
    "start_time": "2025-04-10T19:49:57.705Z"
   },
   {
    "duration": 3,
    "start_time": "2025-04-10T19:59:33.873Z"
   },
   {
    "duration": 23,
    "start_time": "2025-04-10T19:59:35.934Z"
   },
   {
    "duration": 4,
    "start_time": "2025-04-10T19:59:44.673Z"
   },
   {
    "duration": 13,
    "start_time": "2025-04-10T19:59:46.872Z"
   },
   {
    "duration": 13,
    "start_time": "2025-04-10T20:12:10.151Z"
   },
   {
    "duration": 15,
    "start_time": "2025-04-10T20:12:16.445Z"
   },
   {
    "duration": 14,
    "start_time": "2025-04-10T20:12:32.115Z"
   },
   {
    "duration": 13,
    "start_time": "2025-04-10T20:12:41.464Z"
   },
   {
    "duration": 14,
    "start_time": "2025-04-10T20:14:13.208Z"
   },
   {
    "duration": 13,
    "start_time": "2025-04-10T20:26:02.476Z"
   },
   {
    "duration": 31,
    "start_time": "2025-04-10T20:26:06.762Z"
   },
   {
    "duration": 21,
    "start_time": "2025-04-10T20:26:20.633Z"
   },
   {
    "duration": 22,
    "start_time": "2025-04-10T20:26:43.114Z"
   },
   {
    "duration": 2382,
    "start_time": "2025-04-11T02:21:56.549Z"
   },
   {
    "duration": 2754,
    "start_time": "2025-04-11T02:21:58.934Z"
   },
   {
    "duration": 17,
    "start_time": "2025-04-11T02:22:01.693Z"
   },
   {
    "duration": 7,
    "start_time": "2025-04-11T02:22:01.713Z"
   },
   {
    "duration": 10,
    "start_time": "2025-04-11T02:22:01.722Z"
   },
   {
    "duration": 13,
    "start_time": "2025-04-11T02:22:01.733Z"
   },
   {
    "duration": 3,
    "start_time": "2025-04-11T02:22:01.747Z"
   },
   {
    "duration": 7,
    "start_time": "2025-04-11T02:22:01.752Z"
   },
   {
    "duration": 15,
    "start_time": "2025-04-11T02:22:01.761Z"
   },
   {
    "duration": 163,
    "start_time": "2025-04-11T02:22:01.779Z"
   },
   {
    "duration": 159,
    "start_time": "2025-04-11T02:22:01.944Z"
   },
   {
    "duration": 6,
    "start_time": "2025-04-11T02:22:02.105Z"
   },
   {
    "duration": 2607,
    "start_time": "2025-04-11T02:22:02.112Z"
   },
   {
    "duration": 2,
    "start_time": "2025-04-11T02:22:04.722Z"
   },
   {
    "duration": 4,
    "start_time": "2025-04-11T02:22:04.727Z"
   },
   {
    "duration": 13,
    "start_time": "2025-04-11T02:22:04.732Z"
   },
   {
    "duration": 7,
    "start_time": "2025-04-11T02:22:04.747Z"
   },
   {
    "duration": 14,
    "start_time": "2025-04-11T02:22:04.756Z"
   },
   {
    "duration": 13,
    "start_time": "2025-04-11T02:22:04.771Z"
   },
   {
    "duration": 20,
    "start_time": "2025-04-11T02:22:04.785Z"
   },
   {
    "duration": 48,
    "start_time": "2025-04-11T02:22:04.806Z"
   },
   {
    "duration": 5,
    "start_time": "2025-04-11T02:22:04.856Z"
   },
   {
    "duration": 0,
    "start_time": "2025-04-11T02:22:04.863Z"
   },
   {
    "duration": 0,
    "start_time": "2025-04-11T02:22:04.864Z"
   },
   {
    "duration": 0,
    "start_time": "2025-04-11T02:22:04.866Z"
   },
   {
    "duration": 0,
    "start_time": "2025-04-11T02:22:04.867Z"
   },
   {
    "duration": 0,
    "start_time": "2025-04-11T02:22:04.869Z"
   },
   {
    "duration": 0,
    "start_time": "2025-04-11T02:22:04.870Z"
   },
   {
    "duration": 0,
    "start_time": "2025-04-11T02:22:04.871Z"
   },
   {
    "duration": 0,
    "start_time": "2025-04-11T02:22:04.872Z"
   },
   {
    "duration": 0,
    "start_time": "2025-04-11T02:22:04.873Z"
   },
   {
    "duration": 0,
    "start_time": "2025-04-11T02:22:04.875Z"
   },
   {
    "duration": 4,
    "start_time": "2025-04-11T02:39:39.124Z"
   },
   {
    "duration": 5,
    "start_time": "2025-04-11T02:40:10.214Z"
   },
   {
    "duration": 2395,
    "start_time": "2025-04-11T03:23:44.587Z"
   },
   {
    "duration": 2677,
    "start_time": "2025-04-11T03:23:46.984Z"
   },
   {
    "duration": 63,
    "start_time": "2025-04-11T03:23:49.663Z"
   },
   {
    "duration": 3,
    "start_time": "2025-04-11T03:23:49.728Z"
   },
   {
    "duration": 10,
    "start_time": "2025-04-11T03:23:49.733Z"
   },
   {
    "duration": 26,
    "start_time": "2025-04-11T03:23:49.744Z"
   },
   {
    "duration": 3,
    "start_time": "2025-04-11T03:23:49.772Z"
   },
   {
    "duration": 8,
    "start_time": "2025-04-11T03:23:49.776Z"
   },
   {
    "duration": 15,
    "start_time": "2025-04-11T03:23:49.786Z"
   },
   {
    "duration": 144,
    "start_time": "2025-04-11T03:23:49.805Z"
   },
   {
    "duration": 102,
    "start_time": "2025-04-11T03:23:49.951Z"
   },
   {
    "duration": 15,
    "start_time": "2025-04-11T03:23:50.056Z"
   },
   {
    "duration": 2603,
    "start_time": "2025-04-11T03:23:50.072Z"
   },
   {
    "duration": 3,
    "start_time": "2025-04-11T03:23:52.676Z"
   },
   {
    "duration": 4,
    "start_time": "2025-04-11T03:23:52.681Z"
   },
   {
    "duration": 8,
    "start_time": "2025-04-11T03:23:52.686Z"
   },
   {
    "duration": 8,
    "start_time": "2025-04-11T03:23:52.696Z"
   },
   {
    "duration": 12,
    "start_time": "2025-04-11T03:23:52.705Z"
   },
   {
    "duration": 12,
    "start_time": "2025-04-11T03:23:52.719Z"
   },
   {
    "duration": 49,
    "start_time": "2025-04-11T03:23:52.733Z"
   },
   {
    "duration": 19,
    "start_time": "2025-04-11T03:23:52.783Z"
   },
   {
    "duration": 3,
    "start_time": "2025-04-11T03:23:52.804Z"
   },
   {
    "duration": 4,
    "start_time": "2025-04-11T03:23:52.810Z"
   },
   {
    "duration": 3,
    "start_time": "2025-04-11T03:23:52.815Z"
   },
   {
    "duration": 3,
    "start_time": "2025-04-11T03:23:52.819Z"
   },
   {
    "duration": 4,
    "start_time": "2025-04-11T03:23:52.824Z"
   },
   {
    "duration": 0,
    "start_time": "2025-04-11T03:23:52.830Z"
   },
   {
    "duration": 0,
    "start_time": "2025-04-11T03:23:52.831Z"
   },
   {
    "duration": 0,
    "start_time": "2025-04-11T03:23:52.832Z"
   },
   {
    "duration": 0,
    "start_time": "2025-04-11T03:23:52.833Z"
   },
   {
    "duration": 0,
    "start_time": "2025-04-11T03:23:52.869Z"
   },
   {
    "duration": 0,
    "start_time": "2025-04-11T03:23:52.870Z"
   },
   {
    "duration": 3,
    "start_time": "2025-04-11T03:24:52.346Z"
   },
   {
    "duration": 3,
    "start_time": "2025-04-11T03:24:54.235Z"
   },
   {
    "duration": 4,
    "start_time": "2025-04-11T03:24:55.913Z"
   },
   {
    "duration": 19,
    "start_time": "2025-04-11T03:51:35.294Z"
   },
   {
    "duration": 2849,
    "start_time": "2025-04-11T16:41:53.642Z"
   },
   {
    "duration": 3546,
    "start_time": "2025-04-11T16:41:56.493Z"
   },
   {
    "duration": 19,
    "start_time": "2025-04-11T16:42:00.041Z"
   },
   {
    "duration": 4,
    "start_time": "2025-04-11T16:42:00.062Z"
   },
   {
    "duration": 10,
    "start_time": "2025-04-11T16:42:00.068Z"
   },
   {
    "duration": 11,
    "start_time": "2025-04-11T16:42:00.080Z"
   },
   {
    "duration": 4,
    "start_time": "2025-04-11T16:42:00.093Z"
   },
   {
    "duration": 12,
    "start_time": "2025-04-11T16:42:00.112Z"
   },
   {
    "duration": 25,
    "start_time": "2025-04-11T16:42:00.128Z"
   },
   {
    "duration": 205,
    "start_time": "2025-04-11T16:42:00.161Z"
   },
   {
    "duration": 126,
    "start_time": "2025-04-11T16:42:00.368Z"
   },
   {
    "duration": 7,
    "start_time": "2025-04-11T16:42:00.496Z"
   },
   {
    "duration": 3164,
    "start_time": "2025-04-11T16:42:00.504Z"
   },
   {
    "duration": 4,
    "start_time": "2025-04-11T16:42:03.671Z"
   },
   {
    "duration": 4,
    "start_time": "2025-04-11T16:42:03.676Z"
   },
   {
    "duration": 8,
    "start_time": "2025-04-11T16:42:03.682Z"
   },
   {
    "duration": 7,
    "start_time": "2025-04-11T16:42:03.692Z"
   },
   {
    "duration": 21,
    "start_time": "2025-04-11T16:42:03.701Z"
   },
   {
    "duration": 19,
    "start_time": "2025-04-11T16:42:03.725Z"
   },
   {
    "duration": 31,
    "start_time": "2025-04-11T16:42:03.747Z"
   },
   {
    "duration": 21,
    "start_time": "2025-04-11T16:42:03.780Z"
   },
   {
    "duration": 3,
    "start_time": "2025-04-11T16:42:03.812Z"
   },
   {
    "duration": 6,
    "start_time": "2025-04-11T16:42:03.817Z"
   },
   {
    "duration": 6,
    "start_time": "2025-04-11T16:42:03.825Z"
   },
   {
    "duration": 11,
    "start_time": "2025-04-11T16:42:03.832Z"
   },
   {
    "duration": 28,
    "start_time": "2025-04-11T16:42:03.845Z"
   },
   {
    "duration": 7,
    "start_time": "2025-04-11T16:42:03.874Z"
   },
   {
    "duration": 0,
    "start_time": "2025-04-11T16:42:03.883Z"
   },
   {
    "duration": 0,
    "start_time": "2025-04-11T16:42:03.884Z"
   },
   {
    "duration": 0,
    "start_time": "2025-04-11T16:42:03.886Z"
   },
   {
    "duration": 0,
    "start_time": "2025-04-11T16:42:03.887Z"
   },
   {
    "duration": 0,
    "start_time": "2025-04-11T16:42:03.888Z"
   },
   {
    "duration": 4,
    "start_time": "2025-04-11T20:19:39.088Z"
   },
   {
    "duration": 3,
    "start_time": "2025-04-11T20:19:51.650Z"
   },
   {
    "duration": 2351,
    "start_time": "2025-04-11T23:20:24.711Z"
   },
   {
    "duration": 2698,
    "start_time": "2025-04-11T23:20:27.064Z"
   },
   {
    "duration": 13,
    "start_time": "2025-04-11T23:20:29.764Z"
   },
   {
    "duration": 3,
    "start_time": "2025-04-11T23:20:29.780Z"
   },
   {
    "duration": 10,
    "start_time": "2025-04-11T23:20:29.787Z"
   },
   {
    "duration": 9,
    "start_time": "2025-04-11T23:20:29.798Z"
   },
   {
    "duration": 3,
    "start_time": "2025-04-11T23:20:29.810Z"
   },
   {
    "duration": 7,
    "start_time": "2025-04-11T23:20:29.815Z"
   },
   {
    "duration": 16,
    "start_time": "2025-04-11T23:20:29.824Z"
   },
   {
    "duration": 211,
    "start_time": "2025-04-11T23:20:29.843Z"
   },
   {
    "duration": 91,
    "start_time": "2025-04-11T23:20:30.057Z"
   },
   {
    "duration": 5,
    "start_time": "2025-04-11T23:20:30.150Z"
   },
   {
    "duration": 2630,
    "start_time": "2025-04-11T23:20:30.157Z"
   },
   {
    "duration": 3,
    "start_time": "2025-04-11T23:20:32.789Z"
   },
   {
    "duration": 4,
    "start_time": "2025-04-11T23:20:32.794Z"
   },
   {
    "duration": 8,
    "start_time": "2025-04-11T23:20:32.800Z"
   },
   {
    "duration": 8,
    "start_time": "2025-04-11T23:20:32.810Z"
   },
   {
    "duration": 13,
    "start_time": "2025-04-11T23:20:32.820Z"
   },
   {
    "duration": 12,
    "start_time": "2025-04-11T23:20:32.834Z"
   },
   {
    "duration": 57,
    "start_time": "2025-04-11T23:20:32.848Z"
   },
   {
    "duration": 20,
    "start_time": "2025-04-11T23:20:32.906Z"
   },
   {
    "duration": 3,
    "start_time": "2025-04-11T23:20:32.928Z"
   },
   {
    "duration": 5,
    "start_time": "2025-04-11T23:20:32.933Z"
   },
   {
    "duration": 2,
    "start_time": "2025-04-11T23:20:32.940Z"
   },
   {
    "duration": 2,
    "start_time": "2025-04-11T23:20:32.944Z"
   },
   {
    "duration": 51,
    "start_time": "2025-04-11T23:20:32.948Z"
   },
   {
    "duration": 2,
    "start_time": "2025-04-11T23:20:33.001Z"
   },
   {
    "duration": 6,
    "start_time": "2025-04-11T23:20:33.007Z"
   },
   {
    "duration": 0,
    "start_time": "2025-04-11T23:20:33.014Z"
   },
   {
    "duration": 0,
    "start_time": "2025-04-11T23:20:33.016Z"
   },
   {
    "duration": 0,
    "start_time": "2025-04-11T23:20:33.017Z"
   },
   {
    "duration": 0,
    "start_time": "2025-04-11T23:20:33.018Z"
   },
   {
    "duration": 0,
    "start_time": "2025-04-11T23:20:33.019Z"
   },
   {
    "duration": 2232,
    "start_time": "2025-04-11T23:58:12.480Z"
   },
   {
    "duration": 1087,
    "start_time": "2025-04-11T23:58:14.715Z"
   },
   {
    "duration": 11,
    "start_time": "2025-04-11T23:58:15.804Z"
   },
   {
    "duration": 3,
    "start_time": "2025-04-11T23:58:15.817Z"
   },
   {
    "duration": 14,
    "start_time": "2025-04-11T23:58:15.822Z"
   },
   {
    "duration": 12,
    "start_time": "2025-04-11T23:58:15.837Z"
   },
   {
    "duration": 4,
    "start_time": "2025-04-11T23:58:15.850Z"
   },
   {
    "duration": 12,
    "start_time": "2025-04-11T23:58:15.856Z"
   },
   {
    "duration": 16,
    "start_time": "2025-04-11T23:58:15.887Z"
   },
   {
    "duration": 138,
    "start_time": "2025-04-11T23:58:15.907Z"
   },
   {
    "duration": 95,
    "start_time": "2025-04-11T23:58:16.047Z"
   },
   {
    "duration": 5,
    "start_time": "2025-04-11T23:58:16.144Z"
   },
   {
    "duration": 2656,
    "start_time": "2025-04-11T23:58:16.151Z"
   },
   {
    "duration": 3,
    "start_time": "2025-04-11T23:58:18.809Z"
   },
   {
    "duration": 4,
    "start_time": "2025-04-11T23:58:18.814Z"
   },
   {
    "duration": 8,
    "start_time": "2025-04-11T23:58:18.820Z"
   },
   {
    "duration": 9,
    "start_time": "2025-04-11T23:58:18.829Z"
   },
   {
    "duration": 13,
    "start_time": "2025-04-11T23:58:18.840Z"
   },
   {
    "duration": 12,
    "start_time": "2025-04-11T23:58:18.855Z"
   },
   {
    "duration": 20,
    "start_time": "2025-04-11T23:58:18.888Z"
   },
   {
    "duration": 22,
    "start_time": "2025-04-11T23:58:18.909Z"
   },
   {
    "duration": 3,
    "start_time": "2025-04-11T23:58:18.934Z"
   },
   {
    "duration": 5,
    "start_time": "2025-04-11T23:58:18.939Z"
   },
   {
    "duration": 3,
    "start_time": "2025-04-11T23:58:18.946Z"
   },
   {
    "duration": 3,
    "start_time": "2025-04-11T23:58:18.951Z"
   },
   {
    "duration": 26,
    "start_time": "2025-04-11T23:58:18.987Z"
   },
   {
    "duration": 3,
    "start_time": "2025-04-11T23:58:19.015Z"
   },
   {
    "duration": 5,
    "start_time": "2025-04-11T23:58:19.022Z"
   },
   {
    "duration": 0,
    "start_time": "2025-04-11T23:58:19.028Z"
   },
   {
    "duration": 0,
    "start_time": "2025-04-11T23:58:19.030Z"
   },
   {
    "duration": 0,
    "start_time": "2025-04-11T23:58:19.031Z"
   },
   {
    "duration": 0,
    "start_time": "2025-04-11T23:58:19.033Z"
   },
   {
    "duration": 0,
    "start_time": "2025-04-11T23:58:19.035Z"
   },
   {
    "duration": 2474,
    "start_time": "2025-04-12T00:25:33.164Z"
   },
   {
    "duration": 1117,
    "start_time": "2025-04-12T00:25:35.641Z"
   },
   {
    "duration": 8,
    "start_time": "2025-04-12T00:25:36.759Z"
   },
   {
    "duration": 2,
    "start_time": "2025-04-12T00:25:36.770Z"
   },
   {
    "duration": 21,
    "start_time": "2025-04-12T00:25:36.774Z"
   },
   {
    "duration": 9,
    "start_time": "2025-04-12T00:25:36.797Z"
   },
   {
    "duration": 8,
    "start_time": "2025-04-12T00:25:36.808Z"
   },
   {
    "duration": 11,
    "start_time": "2025-04-12T00:25:36.818Z"
   },
   {
    "duration": 17,
    "start_time": "2025-04-12T00:25:36.830Z"
   },
   {
    "duration": 177,
    "start_time": "2025-04-12T00:25:36.850Z"
   },
   {
    "duration": 105,
    "start_time": "2025-04-12T00:25:37.030Z"
   },
   {
    "duration": 5,
    "start_time": "2025-04-12T00:25:37.137Z"
   },
   {
    "duration": 2960,
    "start_time": "2025-04-12T00:25:37.143Z"
   },
   {
    "duration": 6,
    "start_time": "2025-04-12T00:25:40.105Z"
   },
   {
    "duration": 5,
    "start_time": "2025-04-12T00:25:40.113Z"
   },
   {
    "duration": 8,
    "start_time": "2025-04-12T00:25:40.120Z"
   },
   {
    "duration": 8,
    "start_time": "2025-04-12T00:25:40.130Z"
   },
   {
    "duration": 13,
    "start_time": "2025-04-12T00:25:40.140Z"
   },
   {
    "duration": 13,
    "start_time": "2025-04-12T00:25:40.154Z"
   },
   {
    "duration": 57,
    "start_time": "2025-04-12T00:25:40.168Z"
   },
   {
    "duration": 20,
    "start_time": "2025-04-12T00:25:40.227Z"
   },
   {
    "duration": 4,
    "start_time": "2025-04-12T00:25:40.248Z"
   },
   {
    "duration": 4,
    "start_time": "2025-04-12T00:25:40.254Z"
   },
   {
    "duration": 3,
    "start_time": "2025-04-12T00:25:40.259Z"
   },
   {
    "duration": 4,
    "start_time": "2025-04-12T00:25:40.264Z"
   },
   {
    "duration": 30,
    "start_time": "2025-04-12T00:25:40.286Z"
   },
   {
    "duration": 5,
    "start_time": "2025-04-12T00:25:40.317Z"
   },
   {
    "duration": 0,
    "start_time": "2025-04-12T00:25:40.324Z"
   },
   {
    "duration": 0,
    "start_time": "2025-04-12T00:25:40.325Z"
   },
   {
    "duration": 0,
    "start_time": "2025-04-12T00:25:40.327Z"
   },
   {
    "duration": 0,
    "start_time": "2025-04-12T00:25:40.328Z"
   },
   {
    "duration": 0,
    "start_time": "2025-04-12T00:25:40.329Z"
   },
   {
    "duration": 0,
    "start_time": "2025-04-12T00:25:40.330Z"
   },
   {
    "duration": 0,
    "start_time": "2025-04-12T00:25:40.332Z"
   },
   {
    "duration": 0,
    "start_time": "2025-04-12T00:25:40.332Z"
   },
   {
    "duration": 4,
    "start_time": "2025-04-12T00:26:01.757Z"
   },
   {
    "duration": 11,
    "start_time": "2025-04-12T00:26:11.194Z"
   },
   {
    "duration": 5,
    "start_time": "2025-04-12T00:26:14.909Z"
   },
   {
    "duration": 6,
    "start_time": "2025-04-12T00:26:21.247Z"
   },
   {
    "duration": 4,
    "start_time": "2025-04-12T00:26:24.565Z"
   },
   {
    "duration": 278,
    "start_time": "2025-04-12T00:26:26.963Z"
   },
   {
    "duration": 26,
    "start_time": "2025-04-12T00:26:50.226Z"
   },
   {
    "duration": 4,
    "start_time": "2025-04-12T00:27:09.817Z"
   },
   {
    "duration": 27,
    "start_time": "2025-04-12T00:27:12.357Z"
   },
   {
    "duration": 4,
    "start_time": "2025-04-12T00:27:39.095Z"
   },
   {
    "duration": 32,
    "start_time": "2025-04-12T00:27:41.053Z"
   },
   {
    "duration": 6,
    "start_time": "2025-04-12T00:27:53.164Z"
   },
   {
    "duration": 703,
    "start_time": "2025-04-12T00:27:55.052Z"
   },
   {
    "duration": 2102,
    "start_time": "2025-04-12T00:32:57.854Z"
   },
   {
    "duration": 976,
    "start_time": "2025-04-12T00:32:59.959Z"
   },
   {
    "duration": 7,
    "start_time": "2025-04-12T00:33:00.938Z"
   },
   {
    "duration": 4,
    "start_time": "2025-04-12T00:33:00.949Z"
   },
   {
    "duration": 10,
    "start_time": "2025-04-12T00:33:00.954Z"
   },
   {
    "duration": 8,
    "start_time": "2025-04-12T00:33:00.966Z"
   },
   {
    "duration": 3,
    "start_time": "2025-04-12T00:33:00.987Z"
   },
   {
    "duration": 9,
    "start_time": "2025-04-12T00:33:00.993Z"
   },
   {
    "duration": 16,
    "start_time": "2025-04-12T00:33:01.004Z"
   },
   {
    "duration": 146,
    "start_time": "2025-04-12T00:33:01.024Z"
   },
   {
    "duration": 103,
    "start_time": "2025-04-12T00:33:01.172Z"
   },
   {
    "duration": 13,
    "start_time": "2025-04-12T00:33:01.276Z"
   },
   {
    "duration": 2557,
    "start_time": "2025-04-12T00:33:01.290Z"
   },
   {
    "duration": 2,
    "start_time": "2025-04-12T00:33:03.849Z"
   },
   {
    "duration": 4,
    "start_time": "2025-04-12T00:33:03.853Z"
   },
   {
    "duration": 9,
    "start_time": "2025-04-12T00:33:03.859Z"
   },
   {
    "duration": 9,
    "start_time": "2025-04-12T00:33:03.870Z"
   },
   {
    "duration": 12,
    "start_time": "2025-04-12T00:33:03.887Z"
   },
   {
    "duration": 12,
    "start_time": "2025-04-12T00:33:03.901Z"
   },
   {
    "duration": 21,
    "start_time": "2025-04-12T00:33:03.914Z"
   },
   {
    "duration": 21,
    "start_time": "2025-04-12T00:33:03.937Z"
   },
   {
    "duration": 3,
    "start_time": "2025-04-12T00:33:03.986Z"
   },
   {
    "duration": 5,
    "start_time": "2025-04-12T00:33:03.991Z"
   },
   {
    "duration": 4,
    "start_time": "2025-04-12T00:33:03.997Z"
   },
   {
    "duration": 5,
    "start_time": "2025-04-12T00:33:04.002Z"
   },
   {
    "duration": 19,
    "start_time": "2025-04-12T00:33:04.008Z"
   },
   {
    "duration": 5,
    "start_time": "2025-04-12T00:33:04.029Z"
   },
   {
    "duration": 4,
    "start_time": "2025-04-12T00:33:04.038Z"
   },
   {
    "duration": 614,
    "start_time": "2025-04-12T00:33:04.043Z"
   },
   {
    "duration": 136,
    "start_time": "2025-04-12T00:33:04.659Z"
   },
   {
    "duration": 4,
    "start_time": "2025-04-12T00:33:04.797Z"
   },
   {
    "duration": 0,
    "start_time": "2025-04-12T00:33:04.802Z"
   },
   {
    "duration": 0,
    "start_time": "2025-04-12T00:33:04.804Z"
   },
   {
    "duration": 0,
    "start_time": "2025-04-12T00:33:04.805Z"
   },
   {
    "duration": 0,
    "start_time": "2025-04-12T00:33:04.807Z"
   },
   {
    "duration": 0,
    "start_time": "2025-04-12T00:33:04.808Z"
   },
   {
    "duration": 2142,
    "start_time": "2025-04-12T00:37:18.974Z"
   },
   {
    "duration": 975,
    "start_time": "2025-04-12T00:37:21.119Z"
   },
   {
    "duration": 9,
    "start_time": "2025-04-12T00:37:22.096Z"
   },
   {
    "duration": 3,
    "start_time": "2025-04-12T00:37:22.108Z"
   },
   {
    "duration": 11,
    "start_time": "2025-04-12T00:37:22.112Z"
   },
   {
    "duration": 8,
    "start_time": "2025-04-12T00:37:22.124Z"
   },
   {
    "duration": 3,
    "start_time": "2025-04-12T00:37:22.134Z"
   },
   {
    "duration": 8,
    "start_time": "2025-04-12T00:37:22.138Z"
   },
   {
    "duration": 49,
    "start_time": "2025-04-12T00:37:22.147Z"
   },
   {
    "duration": 132,
    "start_time": "2025-04-12T00:37:22.198Z"
   },
   {
    "duration": 94,
    "start_time": "2025-04-12T00:37:22.332Z"
   },
   {
    "duration": 5,
    "start_time": "2025-04-12T00:37:22.428Z"
   },
   {
    "duration": 2573,
    "start_time": "2025-04-12T00:37:22.434Z"
   },
   {
    "duration": 3,
    "start_time": "2025-04-12T00:37:25.009Z"
   },
   {
    "duration": 5,
    "start_time": "2025-04-12T00:37:25.014Z"
   },
   {
    "duration": 9,
    "start_time": "2025-04-12T00:37:25.021Z"
   },
   {
    "duration": 8,
    "start_time": "2025-04-12T00:37:25.032Z"
   },
   {
    "duration": 12,
    "start_time": "2025-04-12T00:37:25.042Z"
   },
   {
    "duration": 33,
    "start_time": "2025-04-12T00:37:25.056Z"
   },
   {
    "duration": 21,
    "start_time": "2025-04-12T00:37:25.091Z"
   },
   {
    "duration": 20,
    "start_time": "2025-04-12T00:37:25.113Z"
   },
   {
    "duration": 3,
    "start_time": "2025-04-12T00:37:25.135Z"
   },
   {
    "duration": 5,
    "start_time": "2025-04-12T00:37:25.140Z"
   },
   {
    "duration": 4,
    "start_time": "2025-04-12T00:37:25.147Z"
   },
   {
    "duration": 36,
    "start_time": "2025-04-12T00:37:25.152Z"
   },
   {
    "duration": 19,
    "start_time": "2025-04-12T00:37:25.190Z"
   },
   {
    "duration": 5,
    "start_time": "2025-04-12T00:37:25.210Z"
   },
   {
    "duration": 4,
    "start_time": "2025-04-12T00:37:25.219Z"
   },
   {
    "duration": 641,
    "start_time": "2025-04-12T00:37:25.224Z"
   },
   {
    "duration": 142,
    "start_time": "2025-04-12T00:37:25.867Z"
   },
   {
    "duration": 5,
    "start_time": "2025-04-12T00:37:26.011Z"
   },
   {
    "duration": 0,
    "start_time": "2025-04-12T00:37:26.018Z"
   },
   {
    "duration": 0,
    "start_time": "2025-04-12T00:37:26.019Z"
   },
   {
    "duration": 0,
    "start_time": "2025-04-12T00:37:26.021Z"
   },
   {
    "duration": 0,
    "start_time": "2025-04-12T00:37:26.022Z"
   },
   {
    "duration": 0,
    "start_time": "2025-04-12T00:37:26.023Z"
   },
   {
    "duration": 6,
    "start_time": "2025-04-12T00:39:06.160Z"
   },
   {
    "duration": 615,
    "start_time": "2025-04-12T00:39:08.095Z"
   },
   {
    "duration": 150,
    "start_time": "2025-04-12T00:39:09.617Z"
   },
   {
    "duration": 5,
    "start_time": "2025-04-12T00:39:29.767Z"
   },
   {
    "duration": 588,
    "start_time": "2025-04-12T00:39:31.377Z"
   },
   {
    "duration": 122,
    "start_time": "2025-04-12T00:39:32.797Z"
   },
   {
    "duration": 3,
    "start_time": "2025-04-12T00:43:34.922Z"
   },
   {
    "duration": 4,
    "start_time": "2025-04-12T00:49:45.604Z"
   },
   {
    "duration": 3,
    "start_time": "2025-04-12T00:49:55.550Z"
   },
   {
    "duration": 2281,
    "start_time": "2025-04-12T00:52:10.280Z"
   },
   {
    "duration": 1093,
    "start_time": "2025-04-12T00:52:12.564Z"
   },
   {
    "duration": 8,
    "start_time": "2025-04-12T00:52:13.659Z"
   },
   {
    "duration": 3,
    "start_time": "2025-04-12T00:52:13.669Z"
   },
   {
    "duration": 11,
    "start_time": "2025-04-12T00:52:13.686Z"
   },
   {
    "duration": 9,
    "start_time": "2025-04-12T00:52:13.700Z"
   },
   {
    "duration": 4,
    "start_time": "2025-04-12T00:52:13.710Z"
   },
   {
    "duration": 9,
    "start_time": "2025-04-12T00:52:13.716Z"
   },
   {
    "duration": 17,
    "start_time": "2025-04-12T00:52:13.726Z"
   },
   {
    "duration": 165,
    "start_time": "2025-04-12T00:52:13.747Z"
   },
   {
    "duration": 103,
    "start_time": "2025-04-12T00:52:13.914Z"
   },
   {
    "duration": 6,
    "start_time": "2025-04-12T00:52:14.018Z"
   },
   {
    "duration": 2522,
    "start_time": "2025-04-12T00:52:14.025Z"
   },
   {
    "duration": 3,
    "start_time": "2025-04-12T00:52:16.549Z"
   },
   {
    "duration": 5,
    "start_time": "2025-04-12T00:52:16.554Z"
   },
   {
    "duration": 9,
    "start_time": "2025-04-12T00:52:16.561Z"
   },
   {
    "duration": 12,
    "start_time": "2025-04-12T00:52:16.574Z"
   },
   {
    "duration": 15,
    "start_time": "2025-04-12T00:52:16.589Z"
   },
   {
    "duration": 13,
    "start_time": "2025-04-12T00:52:16.607Z"
   },
   {
    "duration": 21,
    "start_time": "2025-04-12T00:52:16.621Z"
   },
   {
    "duration": 45,
    "start_time": "2025-04-12T00:52:16.643Z"
   },
   {
    "duration": 4,
    "start_time": "2025-04-12T00:52:16.690Z"
   },
   {
    "duration": 6,
    "start_time": "2025-04-12T00:52:16.695Z"
   },
   {
    "duration": 3,
    "start_time": "2025-04-12T00:52:16.703Z"
   },
   {
    "duration": 4,
    "start_time": "2025-04-12T00:52:16.708Z"
   },
   {
    "duration": 20,
    "start_time": "2025-04-12T00:52:16.713Z"
   },
   {
    "duration": 6,
    "start_time": "2025-04-12T00:52:16.735Z"
   },
   {
    "duration": 4,
    "start_time": "2025-04-12T00:52:16.744Z"
   },
   {
    "duration": 639,
    "start_time": "2025-04-12T00:52:16.750Z"
   },
   {
    "duration": 3,
    "start_time": "2025-04-12T00:52:17.391Z"
   },
   {
    "duration": 3,
    "start_time": "2025-04-12T00:52:17.396Z"
   },
   {
    "duration": 142,
    "start_time": "2025-04-12T00:52:17.400Z"
   },
   {
    "duration": 4,
    "start_time": "2025-04-12T00:52:17.544Z"
   },
   {
    "duration": 0,
    "start_time": "2025-04-12T00:52:17.550Z"
   },
   {
    "duration": 0,
    "start_time": "2025-04-12T00:52:17.551Z"
   },
   {
    "duration": 0,
    "start_time": "2025-04-12T00:52:17.552Z"
   },
   {
    "duration": 0,
    "start_time": "2025-04-12T00:52:17.553Z"
   },
   {
    "duration": 0,
    "start_time": "2025-04-12T00:52:17.554Z"
   },
   {
    "duration": 2419,
    "start_time": "2025-04-12T23:35:08.989Z"
   },
   {
    "duration": 2702,
    "start_time": "2025-04-12T23:35:11.411Z"
   },
   {
    "duration": 19,
    "start_time": "2025-04-12T23:35:14.115Z"
   },
   {
    "duration": 5,
    "start_time": "2025-04-12T23:35:14.137Z"
   },
   {
    "duration": 14,
    "start_time": "2025-04-12T23:35:14.146Z"
   },
   {
    "duration": 11,
    "start_time": "2025-04-12T23:35:14.163Z"
   },
   {
    "duration": 3,
    "start_time": "2025-04-12T23:35:14.176Z"
   },
   {
    "duration": 10,
    "start_time": "2025-04-12T23:35:14.182Z"
   },
   {
    "duration": 46,
    "start_time": "2025-04-12T23:35:14.194Z"
   },
   {
    "duration": 202,
    "start_time": "2025-04-12T23:35:14.244Z"
   },
   {
    "duration": 97,
    "start_time": "2025-04-12T23:35:14.448Z"
   },
   {
    "duration": 5,
    "start_time": "2025-04-12T23:35:14.547Z"
   },
   {
    "duration": 2842,
    "start_time": "2025-04-12T23:35:14.554Z"
   },
   {
    "duration": 3,
    "start_time": "2025-04-12T23:35:17.398Z"
   },
   {
    "duration": 4,
    "start_time": "2025-04-12T23:35:17.402Z"
   },
   {
    "duration": 9,
    "start_time": "2025-04-12T23:35:17.408Z"
   },
   {
    "duration": 8,
    "start_time": "2025-04-12T23:35:17.418Z"
   },
   {
    "duration": 13,
    "start_time": "2025-04-12T23:35:17.427Z"
   },
   {
    "duration": 13,
    "start_time": "2025-04-12T23:35:17.441Z"
   },
   {
    "duration": 20,
    "start_time": "2025-04-12T23:35:17.457Z"
   },
   {
    "duration": 20,
    "start_time": "2025-04-12T23:35:17.478Z"
   },
   {
    "duration": 3,
    "start_time": "2025-04-12T23:35:17.524Z"
   },
   {
    "duration": 5,
    "start_time": "2025-04-12T23:35:17.529Z"
   },
   {
    "duration": 3,
    "start_time": "2025-04-12T23:35:17.536Z"
   },
   {
    "duration": 4,
    "start_time": "2025-04-12T23:35:17.540Z"
   },
   {
    "duration": 19,
    "start_time": "2025-04-12T23:35:17.546Z"
   },
   {
    "duration": 5,
    "start_time": "2025-04-12T23:35:17.567Z"
   },
   {
    "duration": 4,
    "start_time": "2025-04-12T23:35:17.575Z"
   },
   {
    "duration": 620,
    "start_time": "2025-04-12T23:35:17.581Z"
   },
   {
    "duration": 4,
    "start_time": "2025-04-12T23:35:18.203Z"
   },
   {
    "duration": 16,
    "start_time": "2025-04-12T23:35:18.209Z"
   },
   {
    "duration": 132,
    "start_time": "2025-04-12T23:35:18.227Z"
   },
   {
    "duration": 6,
    "start_time": "2025-04-12T23:35:18.362Z"
   },
   {
    "duration": 0,
    "start_time": "2025-04-12T23:35:18.370Z"
   },
   {
    "duration": 0,
    "start_time": "2025-04-12T23:35:18.371Z"
   },
   {
    "duration": 0,
    "start_time": "2025-04-12T23:35:18.372Z"
   },
   {
    "duration": 0,
    "start_time": "2025-04-12T23:35:18.374Z"
   },
   {
    "duration": 0,
    "start_time": "2025-04-12T23:35:18.375Z"
   },
   {
    "duration": 4,
    "start_time": "2025-04-13T00:29:47.827Z"
   },
   {
    "duration": 3,
    "start_time": "2025-04-13T00:29:56.234Z"
   },
   {
    "duration": 336,
    "start_time": "2025-04-13T00:30:49.598Z"
   },
   {
    "duration": 4,
    "start_time": "2025-04-13T00:39:09.277Z"
   },
   {
    "duration": 3,
    "start_time": "2025-04-13T00:39:11.066Z"
   },
   {
    "duration": 46,
    "start_time": "2025-04-13T00:39:12.782Z"
   },
   {
    "duration": 4,
    "start_time": "2025-04-13T00:39:34.921Z"
   },
   {
    "duration": 3,
    "start_time": "2025-04-13T00:39:37.577Z"
   },
   {
    "duration": 70,
    "start_time": "2025-04-13T00:39:39.161Z"
   },
   {
    "duration": 4,
    "start_time": "2025-04-13T00:41:34.761Z"
   },
   {
    "duration": 3,
    "start_time": "2025-04-13T00:41:38.453Z"
   },
   {
    "duration": 61,
    "start_time": "2025-04-13T00:41:39.770Z"
   },
   {
    "duration": 2270,
    "start_time": "2025-04-13T00:45:29.720Z"
   },
   {
    "duration": 933,
    "start_time": "2025-04-13T00:45:31.992Z"
   },
   {
    "duration": 9,
    "start_time": "2025-04-13T00:45:32.928Z"
   },
   {
    "duration": 4,
    "start_time": "2025-04-13T00:45:32.939Z"
   },
   {
    "duration": 12,
    "start_time": "2025-04-13T00:45:32.945Z"
   },
   {
    "duration": 8,
    "start_time": "2025-04-13T00:45:32.959Z"
   },
   {
    "duration": 3,
    "start_time": "2025-04-13T00:45:32.969Z"
   },
   {
    "duration": 8,
    "start_time": "2025-04-13T00:45:32.975Z"
   },
   {
    "duration": 46,
    "start_time": "2025-04-13T00:45:32.985Z"
   },
   {
    "duration": 135,
    "start_time": "2025-04-13T00:45:33.034Z"
   },
   {
    "duration": 96,
    "start_time": "2025-04-13T00:45:33.171Z"
   },
   {
    "duration": 5,
    "start_time": "2025-04-13T00:45:33.269Z"
   },
   {
    "duration": 2580,
    "start_time": "2025-04-13T00:45:33.276Z"
   },
   {
    "duration": 3,
    "start_time": "2025-04-13T00:45:35.858Z"
   },
   {
    "duration": 4,
    "start_time": "2025-04-13T00:45:35.863Z"
   },
   {
    "duration": 8,
    "start_time": "2025-04-13T00:45:35.869Z"
   },
   {
    "duration": 10,
    "start_time": "2025-04-13T00:45:35.878Z"
   },
   {
    "duration": 14,
    "start_time": "2025-04-13T00:45:35.889Z"
   },
   {
    "duration": 29,
    "start_time": "2025-04-13T00:45:35.904Z"
   },
   {
    "duration": 19,
    "start_time": "2025-04-13T00:45:35.936Z"
   },
   {
    "duration": 19,
    "start_time": "2025-04-13T00:45:35.956Z"
   },
   {
    "duration": 3,
    "start_time": "2025-04-13T00:45:35.977Z"
   },
   {
    "duration": 6,
    "start_time": "2025-04-13T00:45:35.981Z"
   },
   {
    "duration": 3,
    "start_time": "2025-04-13T00:45:35.989Z"
   },
   {
    "duration": 31,
    "start_time": "2025-04-13T00:45:35.994Z"
   },
   {
    "duration": 19,
    "start_time": "2025-04-13T00:45:36.026Z"
   },
   {
    "duration": 5,
    "start_time": "2025-04-13T00:45:36.046Z"
   },
   {
    "duration": 4,
    "start_time": "2025-04-13T00:45:36.055Z"
   },
   {
    "duration": 621,
    "start_time": "2025-04-13T00:45:36.061Z"
   },
   {
    "duration": 3,
    "start_time": "2025-04-13T00:45:36.684Z"
   },
   {
    "duration": 3,
    "start_time": "2025-04-13T00:45:36.689Z"
   },
   {
    "duration": 136,
    "start_time": "2025-04-13T00:45:36.694Z"
   },
   {
    "duration": 4,
    "start_time": "2025-04-13T00:45:36.832Z"
   },
   {
    "duration": 4,
    "start_time": "2025-04-13T00:45:36.838Z"
   },
   {
    "duration": 9,
    "start_time": "2025-04-13T00:45:36.844Z"
   },
   {
    "duration": 7,
    "start_time": "2025-04-13T00:45:36.855Z"
   },
   {
    "duration": 62,
    "start_time": "2025-04-13T00:45:36.863Z"
   },
   {
    "duration": 3,
    "start_time": "2025-04-13T00:45:36.927Z"
   },
   {
    "duration": 2313,
    "start_time": "2025-04-13T02:13:35.666Z"
   },
   {
    "duration": 2630,
    "start_time": "2025-04-13T02:13:37.981Z"
   },
   {
    "duration": 9,
    "start_time": "2025-04-13T02:13:40.613Z"
   },
   {
    "duration": 3,
    "start_time": "2025-04-13T02:13:40.624Z"
   },
   {
    "duration": 9,
    "start_time": "2025-04-13T02:13:40.629Z"
   },
   {
    "duration": 8,
    "start_time": "2025-04-13T02:13:40.640Z"
   },
   {
    "duration": 3,
    "start_time": "2025-04-13T02:13:40.650Z"
   },
   {
    "duration": 8,
    "start_time": "2025-04-13T02:13:40.655Z"
   },
   {
    "duration": 48,
    "start_time": "2025-04-13T02:13:40.665Z"
   },
   {
    "duration": 129,
    "start_time": "2025-04-13T02:13:40.717Z"
   },
   {
    "duration": 93,
    "start_time": "2025-04-13T02:13:40.848Z"
   },
   {
    "duration": 4,
    "start_time": "2025-04-13T02:13:40.943Z"
   },
   {
    "duration": 2507,
    "start_time": "2025-04-13T02:13:40.949Z"
   },
   {
    "duration": 2,
    "start_time": "2025-04-13T02:13:43.458Z"
   },
   {
    "duration": 4,
    "start_time": "2025-04-13T02:13:43.462Z"
   },
   {
    "duration": 8,
    "start_time": "2025-04-13T02:13:43.468Z"
   },
   {
    "duration": 8,
    "start_time": "2025-04-13T02:13:43.477Z"
   },
   {
    "duration": 26,
    "start_time": "2025-04-13T02:13:43.486Z"
   },
   {
    "duration": 12,
    "start_time": "2025-04-13T02:13:43.514Z"
   },
   {
    "duration": 20,
    "start_time": "2025-04-13T02:13:43.527Z"
   },
   {
    "duration": 20,
    "start_time": "2025-04-13T02:13:43.548Z"
   },
   {
    "duration": 4,
    "start_time": "2025-04-13T02:13:43.570Z"
   },
   {
    "duration": 3,
    "start_time": "2025-04-13T02:13:43.576Z"
   },
   {
    "duration": 2,
    "start_time": "2025-04-13T02:13:43.612Z"
   },
   {
    "duration": 3,
    "start_time": "2025-04-13T02:13:43.616Z"
   },
   {
    "duration": 19,
    "start_time": "2025-04-13T02:13:43.621Z"
   },
   {
    "duration": 6,
    "start_time": "2025-04-13T02:13:43.641Z"
   },
   {
    "duration": 4,
    "start_time": "2025-04-13T02:13:43.650Z"
   },
   {
    "duration": 583,
    "start_time": "2025-04-13T02:13:43.655Z"
   },
   {
    "duration": 4,
    "start_time": "2025-04-13T02:13:44.239Z"
   },
   {
    "duration": 3,
    "start_time": "2025-04-13T02:13:44.244Z"
   },
   {
    "duration": 148,
    "start_time": "2025-04-13T02:13:44.249Z"
   },
   {
    "duration": 4,
    "start_time": "2025-04-13T02:13:44.399Z"
   },
   {
    "duration": 8,
    "start_time": "2025-04-13T02:13:44.405Z"
   },
   {
    "duration": 15,
    "start_time": "2025-04-13T02:13:44.415Z"
   },
   {
    "duration": 3,
    "start_time": "2025-04-13T02:13:44.432Z"
   },
   {
    "duration": 2,
    "start_time": "2025-04-13T02:13:44.439Z"
   },
   {
    "duration": 3,
    "start_time": "2025-04-13T02:13:44.512Z"
   },
   {
    "duration": 236,
    "start_time": "2025-04-13T02:21:58.297Z"
   },
   {
    "duration": 16,
    "start_time": "2025-04-13T02:22:50.108Z"
   },
   {
    "duration": 28,
    "start_time": "2025-04-13T02:23:11.687Z"
   },
   {
    "duration": 7,
    "start_time": "2025-04-13T02:23:22.861Z"
   },
   {
    "duration": 2304,
    "start_time": "2025-04-13T04:43:43.666Z"
   },
   {
    "duration": 2641,
    "start_time": "2025-04-13T04:43:45.973Z"
   },
   {
    "duration": 10,
    "start_time": "2025-04-13T04:43:48.616Z"
   },
   {
    "duration": 3,
    "start_time": "2025-04-13T04:43:48.628Z"
   },
   {
    "duration": 10,
    "start_time": "2025-04-13T04:43:48.633Z"
   },
   {
    "duration": 7,
    "start_time": "2025-04-13T04:43:48.645Z"
   },
   {
    "duration": 3,
    "start_time": "2025-04-13T04:43:48.654Z"
   },
   {
    "duration": 8,
    "start_time": "2025-04-13T04:43:48.658Z"
   },
   {
    "duration": 51,
    "start_time": "2025-04-13T04:43:48.667Z"
   },
   {
    "duration": 148,
    "start_time": "2025-04-13T04:43:48.722Z"
   },
   {
    "duration": 95,
    "start_time": "2025-04-13T04:43:48.872Z"
   },
   {
    "duration": 6,
    "start_time": "2025-04-13T04:43:48.969Z"
   },
   {
    "duration": 2504,
    "start_time": "2025-04-13T04:43:48.976Z"
   },
   {
    "duration": 3,
    "start_time": "2025-04-13T04:43:51.482Z"
   },
   {
    "duration": 3,
    "start_time": "2025-04-13T04:43:51.487Z"
   },
   {
    "duration": 8,
    "start_time": "2025-04-13T04:43:51.492Z"
   },
   {
    "duration": 15,
    "start_time": "2025-04-13T04:43:51.501Z"
   },
   {
    "duration": 12,
    "start_time": "2025-04-13T04:43:51.518Z"
   },
   {
    "duration": 12,
    "start_time": "2025-04-13T04:43:51.531Z"
   },
   {
    "duration": 19,
    "start_time": "2025-04-13T04:43:51.545Z"
   },
   {
    "duration": 47,
    "start_time": "2025-04-13T04:43:51.566Z"
   },
   {
    "duration": 3,
    "start_time": "2025-04-13T04:43:51.614Z"
   },
   {
    "duration": 5,
    "start_time": "2025-04-13T04:43:51.618Z"
   },
   {
    "duration": 3,
    "start_time": "2025-04-13T04:43:51.624Z"
   },
   {
    "duration": 3,
    "start_time": "2025-04-13T04:43:51.628Z"
   },
   {
    "duration": 19,
    "start_time": "2025-04-13T04:43:51.632Z"
   },
   {
    "duration": 5,
    "start_time": "2025-04-13T04:43:51.653Z"
   },
   {
    "duration": 4,
    "start_time": "2025-04-13T04:43:51.662Z"
   },
   {
    "duration": 613,
    "start_time": "2025-04-13T04:43:51.667Z"
   },
   {
    "duration": 3,
    "start_time": "2025-04-13T04:43:52.282Z"
   },
   {
    "duration": 3,
    "start_time": "2025-04-13T04:43:52.287Z"
   },
   {
    "duration": 140,
    "start_time": "2025-04-13T04:43:52.291Z"
   },
   {
    "duration": 3,
    "start_time": "2025-04-13T04:43:52.433Z"
   },
   {
    "duration": 3,
    "start_time": "2025-04-13T04:43:52.438Z"
   },
   {
    "duration": 11,
    "start_time": "2025-04-13T04:43:52.442Z"
   },
   {
    "duration": 363,
    "start_time": "2025-04-13T04:43:52.454Z"
   },
   {
    "duration": 0,
    "start_time": "2025-04-13T04:43:52.819Z"
   },
   {
    "duration": 0,
    "start_time": "2025-04-13T04:43:52.821Z"
   },
   {
    "duration": 0,
    "start_time": "2025-04-13T04:43:52.822Z"
   },
   {
    "duration": 8,
    "start_time": "2025-04-13T04:44:09.261Z"
   },
   {
    "duration": 2064,
    "start_time": "2025-04-13T04:44:20.742Z"
   },
   {
    "duration": 981,
    "start_time": "2025-04-13T04:44:22.809Z"
   },
   {
    "duration": 7,
    "start_time": "2025-04-13T04:44:23.792Z"
   },
   {
    "duration": 2,
    "start_time": "2025-04-13T04:44:23.802Z"
   },
   {
    "duration": 14,
    "start_time": "2025-04-13T04:44:23.806Z"
   },
   {
    "duration": 8,
    "start_time": "2025-04-13T04:44:23.822Z"
   },
   {
    "duration": 3,
    "start_time": "2025-04-13T04:44:23.832Z"
   },
   {
    "duration": 8,
    "start_time": "2025-04-13T04:44:23.837Z"
   },
   {
    "duration": 16,
    "start_time": "2025-04-13T04:44:23.846Z"
   },
   {
    "duration": 160,
    "start_time": "2025-04-13T04:44:23.866Z"
   },
   {
    "duration": 95,
    "start_time": "2025-04-13T04:44:24.028Z"
   },
   {
    "duration": 4,
    "start_time": "2025-04-13T04:44:24.125Z"
   },
   {
    "duration": 2445,
    "start_time": "2025-04-13T04:44:24.131Z"
   },
   {
    "duration": 3,
    "start_time": "2025-04-13T04:44:26.578Z"
   },
   {
    "duration": 4,
    "start_time": "2025-04-13T04:44:26.582Z"
   },
   {
    "duration": 8,
    "start_time": "2025-04-13T04:44:26.588Z"
   },
   {
    "duration": 7,
    "start_time": "2025-04-13T04:44:26.597Z"
   },
   {
    "duration": 16,
    "start_time": "2025-04-13T04:44:26.606Z"
   },
   {
    "duration": 12,
    "start_time": "2025-04-13T04:44:26.623Z"
   },
   {
    "duration": 20,
    "start_time": "2025-04-13T04:44:26.636Z"
   },
   {
    "duration": 20,
    "start_time": "2025-04-13T04:44:26.657Z"
   },
   {
    "duration": 35,
    "start_time": "2025-04-13T04:44:26.678Z"
   },
   {
    "duration": 4,
    "start_time": "2025-04-13T04:44:26.714Z"
   },
   {
    "duration": 3,
    "start_time": "2025-04-13T04:44:26.720Z"
   },
   {
    "duration": 3,
    "start_time": "2025-04-13T04:44:26.724Z"
   },
   {
    "duration": 18,
    "start_time": "2025-04-13T04:44:26.729Z"
   },
   {
    "duration": 5,
    "start_time": "2025-04-13T04:44:26.749Z"
   },
   {
    "duration": 5,
    "start_time": "2025-04-13T04:44:26.758Z"
   },
   {
    "duration": 622,
    "start_time": "2025-04-13T04:44:26.764Z"
   },
   {
    "duration": 4,
    "start_time": "2025-04-13T04:44:27.388Z"
   },
   {
    "duration": 3,
    "start_time": "2025-04-13T04:44:27.394Z"
   },
   {
    "duration": 144,
    "start_time": "2025-04-13T04:44:27.399Z"
   },
   {
    "duration": 4,
    "start_time": "2025-04-13T04:44:27.545Z"
   },
   {
    "duration": 3,
    "start_time": "2025-04-13T04:44:27.552Z"
   },
   {
    "duration": 11,
    "start_time": "2025-04-13T04:44:27.556Z"
   },
   {
    "duration": 8,
    "start_time": "2025-04-13T04:44:27.612Z"
   },
   {
    "duration": 3,
    "start_time": "2025-04-13T04:44:27.621Z"
   },
   {
    "duration": 2,
    "start_time": "2025-04-13T04:44:27.626Z"
   },
   {
    "duration": 2,
    "start_time": "2025-04-13T04:44:27.630Z"
   },
   {
    "duration": 5,
    "start_time": "2025-04-13T05:02:02.553Z"
   },
   {
    "duration": 4,
    "start_time": "2025-04-13T05:04:29.813Z"
   },
   {
    "duration": 4,
    "start_time": "2025-04-13T05:09:58.230Z"
   },
   {
    "duration": 3,
    "start_time": "2025-04-13T05:10:10.225Z"
   },
   {
    "duration": 3,
    "start_time": "2025-04-13T05:10:13.794Z"
   },
   {
    "duration": 7,
    "start_time": "2025-04-13T05:10:15.018Z"
   },
   {
    "duration": 5,
    "start_time": "2025-04-13T05:12:42.165Z"
   },
   {
    "duration": 9,
    "start_time": "2025-04-13T05:12:57.914Z"
   },
   {
    "duration": 5,
    "start_time": "2025-04-13T05:15:28.743Z"
   },
   {
    "duration": 4,
    "start_time": "2025-04-13T05:25:31.293Z"
   },
   {
    "duration": 3,
    "start_time": "2025-04-13T05:26:41.738Z"
   },
   {
    "duration": 3,
    "start_time": "2025-04-13T05:27:16.016Z"
   },
   {
    "duration": 3,
    "start_time": "2025-04-13T05:28:11.635Z"
   },
   {
    "duration": 225,
    "start_time": "2025-04-13T05:28:50.569Z"
   },
   {
    "duration": 3,
    "start_time": "2025-04-13T05:28:56.752Z"
   },
   {
    "duration": 2371,
    "start_time": "2025-04-13T21:08:02.905Z"
   },
   {
    "duration": 2781,
    "start_time": "2025-04-13T21:08:05.279Z"
   },
   {
    "duration": 10,
    "start_time": "2025-04-13T21:08:08.062Z"
   },
   {
    "duration": 3,
    "start_time": "2025-04-13T21:08:08.074Z"
   },
   {
    "duration": 10,
    "start_time": "2025-04-13T21:08:08.080Z"
   },
   {
    "duration": 8,
    "start_time": "2025-04-13T21:08:08.092Z"
   },
   {
    "duration": 3,
    "start_time": "2025-04-13T21:08:08.102Z"
   },
   {
    "duration": 11,
    "start_time": "2025-04-13T21:08:08.131Z"
   },
   {
    "duration": 17,
    "start_time": "2025-04-13T21:08:08.143Z"
   },
   {
    "duration": 148,
    "start_time": "2025-04-13T21:08:08.162Z"
   },
   {
    "duration": 98,
    "start_time": "2025-04-13T21:08:08.311Z"
   },
   {
    "duration": 5,
    "start_time": "2025-04-13T21:08:08.411Z"
   },
   {
    "duration": 2715,
    "start_time": "2025-04-13T21:08:08.417Z"
   },
   {
    "duration": 3,
    "start_time": "2025-04-13T21:08:11.135Z"
   },
   {
    "duration": 5,
    "start_time": "2025-04-13T21:08:11.140Z"
   },
   {
    "duration": 8,
    "start_time": "2025-04-13T21:08:11.146Z"
   },
   {
    "duration": 9,
    "start_time": "2025-04-13T21:08:11.156Z"
   },
   {
    "duration": 13,
    "start_time": "2025-04-13T21:08:11.166Z"
   },
   {
    "duration": 13,
    "start_time": "2025-04-13T21:08:11.180Z"
   },
   {
    "duration": 54,
    "start_time": "2025-04-13T21:08:11.195Z"
   },
   {
    "duration": 20,
    "start_time": "2025-04-13T21:08:11.250Z"
   },
   {
    "duration": 3,
    "start_time": "2025-04-13T21:08:11.272Z"
   },
   {
    "duration": 4,
    "start_time": "2025-04-13T21:08:11.277Z"
   },
   {
    "duration": 3,
    "start_time": "2025-04-13T21:08:11.283Z"
   },
   {
    "duration": 3,
    "start_time": "2025-04-13T21:08:11.288Z"
   },
   {
    "duration": 57,
    "start_time": "2025-04-13T21:08:11.292Z"
   },
   {
    "duration": 6,
    "start_time": "2025-04-13T21:08:11.353Z"
   },
   {
    "duration": 4,
    "start_time": "2025-04-13T21:08:11.360Z"
   },
   {
    "duration": 602,
    "start_time": "2025-04-13T21:08:11.366Z"
   },
   {
    "duration": 5,
    "start_time": "2025-04-13T21:08:11.970Z"
   },
   {
    "duration": 3,
    "start_time": "2025-04-13T21:08:11.977Z"
   },
   {
    "duration": 144,
    "start_time": "2025-04-13T21:08:11.981Z"
   },
   {
    "duration": 4,
    "start_time": "2025-04-13T21:08:12.131Z"
   },
   {
    "duration": 3,
    "start_time": "2025-04-13T21:08:12.137Z"
   },
   {
    "duration": 7,
    "start_time": "2025-04-13T21:08:12.142Z"
   },
   {
    "duration": 6,
    "start_time": "2025-04-13T21:08:12.150Z"
   },
   {
    "duration": 4,
    "start_time": "2025-04-13T21:08:12.157Z"
   },
   {
    "duration": 79,
    "start_time": "2025-04-13T21:08:12.162Z"
   },
   {
    "duration": 4,
    "start_time": "2025-04-13T21:08:12.243Z"
   },
   {
    "duration": 3,
    "start_time": "2025-04-13T21:08:12.249Z"
   },
   {
    "duration": 76,
    "start_time": "2025-04-13T21:08:12.257Z"
   },
   {
    "duration": 6,
    "start_time": "2025-04-13T21:08:12.335Z"
   },
   {
    "duration": 4,
    "start_time": "2025-04-13T21:08:12.343Z"
   },
   {
    "duration": 3,
    "start_time": "2025-04-13T21:08:12.349Z"
   },
   {
    "duration": 79,
    "start_time": "2025-04-13T21:08:12.354Z"
   },
   {
    "duration": 3,
    "start_time": "2025-04-13T21:08:12.435Z"
   },
   {
    "duration": 7,
    "start_time": "2025-04-13T21:30:57.763Z"
   },
   {
    "duration": 2381,
    "start_time": "2025-04-14T02:36:38.054Z"
   },
   {
    "duration": 2641,
    "start_time": "2025-04-14T02:36:40.438Z"
   },
   {
    "duration": 575,
    "start_time": "2025-04-14T02:36:43.082Z"
   },
   {
    "duration": 0,
    "start_time": "2025-04-14T02:36:43.661Z"
   },
   {
    "duration": 0,
    "start_time": "2025-04-14T02:36:43.662Z"
   },
   {
    "duration": 0,
    "start_time": "2025-04-14T02:36:43.663Z"
   },
   {
    "duration": 0,
    "start_time": "2025-04-14T02:36:43.664Z"
   },
   {
    "duration": 0,
    "start_time": "2025-04-14T02:36:43.665Z"
   },
   {
    "duration": 0,
    "start_time": "2025-04-14T02:36:43.666Z"
   },
   {
    "duration": 0,
    "start_time": "2025-04-14T02:36:43.667Z"
   },
   {
    "duration": 0,
    "start_time": "2025-04-14T02:36:43.668Z"
   },
   {
    "duration": 0,
    "start_time": "2025-04-14T02:36:43.669Z"
   },
   {
    "duration": 0,
    "start_time": "2025-04-14T02:36:43.671Z"
   },
   {
    "duration": 0,
    "start_time": "2025-04-14T02:36:43.672Z"
   },
   {
    "duration": 0,
    "start_time": "2025-04-14T02:36:43.673Z"
   },
   {
    "duration": 0,
    "start_time": "2025-04-14T02:36:43.674Z"
   },
   {
    "duration": 0,
    "start_time": "2025-04-14T02:36:43.675Z"
   },
   {
    "duration": 0,
    "start_time": "2025-04-14T02:36:43.676Z"
   },
   {
    "duration": 0,
    "start_time": "2025-04-14T02:36:43.678Z"
   },
   {
    "duration": 0,
    "start_time": "2025-04-14T02:36:43.711Z"
   },
   {
    "duration": 0,
    "start_time": "2025-04-14T02:36:43.713Z"
   },
   {
    "duration": 0,
    "start_time": "2025-04-14T02:36:43.714Z"
   },
   {
    "duration": 0,
    "start_time": "2025-04-14T02:36:43.716Z"
   },
   {
    "duration": 0,
    "start_time": "2025-04-14T02:36:43.717Z"
   },
   {
    "duration": 0,
    "start_time": "2025-04-14T02:36:43.718Z"
   },
   {
    "duration": 0,
    "start_time": "2025-04-14T02:36:43.720Z"
   },
   {
    "duration": 0,
    "start_time": "2025-04-14T02:36:43.721Z"
   },
   {
    "duration": 0,
    "start_time": "2025-04-14T02:36:43.723Z"
   },
   {
    "duration": 0,
    "start_time": "2025-04-14T02:36:43.724Z"
   },
   {
    "duration": 0,
    "start_time": "2025-04-14T02:36:43.725Z"
   },
   {
    "duration": 0,
    "start_time": "2025-04-14T02:36:43.726Z"
   },
   {
    "duration": 0,
    "start_time": "2025-04-14T02:36:43.727Z"
   },
   {
    "duration": 0,
    "start_time": "2025-04-14T02:36:43.728Z"
   },
   {
    "duration": 0,
    "start_time": "2025-04-14T02:36:43.730Z"
   },
   {
    "duration": 0,
    "start_time": "2025-04-14T02:36:43.731Z"
   },
   {
    "duration": 0,
    "start_time": "2025-04-14T02:36:43.732Z"
   },
   {
    "duration": 0,
    "start_time": "2025-04-14T02:36:43.733Z"
   },
   {
    "duration": 0,
    "start_time": "2025-04-14T02:36:43.734Z"
   },
   {
    "duration": 0,
    "start_time": "2025-04-14T02:36:43.736Z"
   },
   {
    "duration": 0,
    "start_time": "2025-04-14T02:36:43.737Z"
   },
   {
    "duration": 0,
    "start_time": "2025-04-14T02:36:43.739Z"
   },
   {
    "duration": 0,
    "start_time": "2025-04-14T02:36:43.739Z"
   },
   {
    "duration": 0,
    "start_time": "2025-04-14T02:36:43.741Z"
   },
   {
    "duration": 1,
    "start_time": "2025-04-14T02:36:43.741Z"
   },
   {
    "duration": 0,
    "start_time": "2025-04-14T02:36:43.743Z"
   },
   {
    "duration": 0,
    "start_time": "2025-04-14T02:36:43.744Z"
   },
   {
    "duration": 2314,
    "start_time": "2025-04-14T02:43:33.457Z"
   },
   {
    "duration": 937,
    "start_time": "2025-04-14T02:43:35.773Z"
   },
   {
    "duration": 522,
    "start_time": "2025-04-14T02:43:36.712Z"
   },
   {
    "duration": 0,
    "start_time": "2025-04-14T02:43:37.237Z"
   },
   {
    "duration": 0,
    "start_time": "2025-04-14T02:43:37.238Z"
   },
   {
    "duration": 0,
    "start_time": "2025-04-14T02:43:37.240Z"
   },
   {
    "duration": 0,
    "start_time": "2025-04-14T02:43:37.241Z"
   },
   {
    "duration": 0,
    "start_time": "2025-04-14T02:43:37.242Z"
   },
   {
    "duration": 0,
    "start_time": "2025-04-14T02:43:37.243Z"
   },
   {
    "duration": 0,
    "start_time": "2025-04-14T02:43:37.244Z"
   },
   {
    "duration": 0,
    "start_time": "2025-04-14T02:43:37.246Z"
   },
   {
    "duration": 0,
    "start_time": "2025-04-14T02:43:37.247Z"
   },
   {
    "duration": 0,
    "start_time": "2025-04-14T02:43:37.248Z"
   },
   {
    "duration": 0,
    "start_time": "2025-04-14T02:43:37.250Z"
   },
   {
    "duration": 0,
    "start_time": "2025-04-14T02:43:37.251Z"
   },
   {
    "duration": 0,
    "start_time": "2025-04-14T02:43:37.253Z"
   },
   {
    "duration": 0,
    "start_time": "2025-04-14T02:43:37.254Z"
   },
   {
    "duration": 0,
    "start_time": "2025-04-14T02:43:37.256Z"
   },
   {
    "duration": 0,
    "start_time": "2025-04-14T02:43:37.258Z"
   },
   {
    "duration": 0,
    "start_time": "2025-04-14T02:43:37.259Z"
   },
   {
    "duration": 0,
    "start_time": "2025-04-14T02:43:37.260Z"
   },
   {
    "duration": 0,
    "start_time": "2025-04-14T02:43:37.261Z"
   },
   {
    "duration": 0,
    "start_time": "2025-04-14T02:43:37.263Z"
   },
   {
    "duration": 0,
    "start_time": "2025-04-14T02:43:37.264Z"
   },
   {
    "duration": 0,
    "start_time": "2025-04-14T02:43:37.311Z"
   },
   {
    "duration": 0,
    "start_time": "2025-04-14T02:43:37.312Z"
   },
   {
    "duration": 0,
    "start_time": "2025-04-14T02:43:37.314Z"
   },
   {
    "duration": 0,
    "start_time": "2025-04-14T02:43:37.315Z"
   },
   {
    "duration": 0,
    "start_time": "2025-04-14T02:43:37.317Z"
   },
   {
    "duration": 1,
    "start_time": "2025-04-14T02:43:37.318Z"
   },
   {
    "duration": 0,
    "start_time": "2025-04-14T02:43:37.320Z"
   },
   {
    "duration": 1,
    "start_time": "2025-04-14T02:43:37.321Z"
   },
   {
    "duration": 0,
    "start_time": "2025-04-14T02:43:37.323Z"
   },
   {
    "duration": 0,
    "start_time": "2025-04-14T02:43:37.324Z"
   },
   {
    "duration": 0,
    "start_time": "2025-04-14T02:43:37.328Z"
   },
   {
    "duration": 0,
    "start_time": "2025-04-14T02:43:37.329Z"
   },
   {
    "duration": 0,
    "start_time": "2025-04-14T02:43:37.331Z"
   },
   {
    "duration": 0,
    "start_time": "2025-04-14T02:43:37.332Z"
   },
   {
    "duration": 0,
    "start_time": "2025-04-14T02:43:37.334Z"
   },
   {
    "duration": 0,
    "start_time": "2025-04-14T02:43:37.335Z"
   },
   {
    "duration": 0,
    "start_time": "2025-04-14T02:43:37.336Z"
   },
   {
    "duration": 0,
    "start_time": "2025-04-14T02:43:37.338Z"
   },
   {
    "duration": 0,
    "start_time": "2025-04-14T02:43:37.340Z"
   },
   {
    "duration": 0,
    "start_time": "2025-04-14T02:43:37.341Z"
   },
   {
    "duration": 1,
    "start_time": "2025-04-14T02:43:37.341Z"
   },
   {
    "duration": 0,
    "start_time": "2025-04-14T02:43:37.343Z"
   },
   {
    "duration": 2165,
    "start_time": "2025-04-14T02:49:36.798Z"
   },
   {
    "duration": 953,
    "start_time": "2025-04-14T02:49:38.965Z"
   },
   {
    "duration": 527,
    "start_time": "2025-04-14T02:49:39.919Z"
   },
   {
    "duration": 0,
    "start_time": "2025-04-14T02:49:40.449Z"
   },
   {
    "duration": 0,
    "start_time": "2025-04-14T02:49:40.450Z"
   },
   {
    "duration": 0,
    "start_time": "2025-04-14T02:49:40.451Z"
   },
   {
    "duration": 0,
    "start_time": "2025-04-14T02:49:40.452Z"
   },
   {
    "duration": 0,
    "start_time": "2025-04-14T02:49:40.453Z"
   },
   {
    "duration": 0,
    "start_time": "2025-04-14T02:49:40.454Z"
   },
   {
    "duration": 0,
    "start_time": "2025-04-14T02:49:40.455Z"
   },
   {
    "duration": 0,
    "start_time": "2025-04-14T02:49:40.456Z"
   },
   {
    "duration": 0,
    "start_time": "2025-04-14T02:49:40.457Z"
   },
   {
    "duration": 0,
    "start_time": "2025-04-14T02:49:40.458Z"
   },
   {
    "duration": 0,
    "start_time": "2025-04-14T02:49:40.459Z"
   },
   {
    "duration": 0,
    "start_time": "2025-04-14T02:49:40.460Z"
   },
   {
    "duration": 0,
    "start_time": "2025-04-14T02:49:40.461Z"
   },
   {
    "duration": 0,
    "start_time": "2025-04-14T02:49:40.462Z"
   },
   {
    "duration": 0,
    "start_time": "2025-04-14T02:49:40.462Z"
   },
   {
    "duration": 0,
    "start_time": "2025-04-14T02:49:40.463Z"
   },
   {
    "duration": 0,
    "start_time": "2025-04-14T02:49:40.464Z"
   },
   {
    "duration": 0,
    "start_time": "2025-04-14T02:49:40.465Z"
   },
   {
    "duration": 0,
    "start_time": "2025-04-14T02:49:40.467Z"
   },
   {
    "duration": 0,
    "start_time": "2025-04-14T02:49:40.467Z"
   },
   {
    "duration": 0,
    "start_time": "2025-04-14T02:49:40.468Z"
   },
   {
    "duration": 0,
    "start_time": "2025-04-14T02:49:40.469Z"
   },
   {
    "duration": 0,
    "start_time": "2025-04-14T02:49:40.471Z"
   },
   {
    "duration": 0,
    "start_time": "2025-04-14T02:49:40.472Z"
   },
   {
    "duration": 0,
    "start_time": "2025-04-14T02:49:40.473Z"
   },
   {
    "duration": 0,
    "start_time": "2025-04-14T02:49:40.474Z"
   },
   {
    "duration": 1,
    "start_time": "2025-04-14T02:49:40.511Z"
   },
   {
    "duration": 0,
    "start_time": "2025-04-14T02:49:40.513Z"
   },
   {
    "duration": 0,
    "start_time": "2025-04-14T02:49:40.514Z"
   },
   {
    "duration": 0,
    "start_time": "2025-04-14T02:49:40.515Z"
   },
   {
    "duration": 0,
    "start_time": "2025-04-14T02:49:40.516Z"
   },
   {
    "duration": 0,
    "start_time": "2025-04-14T02:49:40.517Z"
   },
   {
    "duration": 0,
    "start_time": "2025-04-14T02:49:40.518Z"
   },
   {
    "duration": 0,
    "start_time": "2025-04-14T02:49:40.519Z"
   },
   {
    "duration": 0,
    "start_time": "2025-04-14T02:49:40.520Z"
   },
   {
    "duration": 0,
    "start_time": "2025-04-14T02:49:40.522Z"
   },
   {
    "duration": 0,
    "start_time": "2025-04-14T02:49:40.523Z"
   },
   {
    "duration": 0,
    "start_time": "2025-04-14T02:49:40.524Z"
   },
   {
    "duration": 0,
    "start_time": "2025-04-14T02:49:40.531Z"
   },
   {
    "duration": 0,
    "start_time": "2025-04-14T02:49:40.532Z"
   },
   {
    "duration": 0,
    "start_time": "2025-04-14T02:49:40.533Z"
   },
   {
    "duration": 0,
    "start_time": "2025-04-14T02:49:40.534Z"
   },
   {
    "duration": 0,
    "start_time": "2025-04-14T02:49:40.535Z"
   },
   {
    "duration": 2059,
    "start_time": "2025-04-14T02:49:56.037Z"
   },
   {
    "duration": 929,
    "start_time": "2025-04-14T02:49:58.098Z"
   },
   {
    "duration": 8,
    "start_time": "2025-04-14T02:49:59.029Z"
   },
   {
    "duration": 2,
    "start_time": "2025-04-14T02:49:59.039Z"
   },
   {
    "duration": 10,
    "start_time": "2025-04-14T02:49:59.043Z"
   },
   {
    "duration": 8,
    "start_time": "2025-04-14T02:49:59.055Z"
   },
   {
    "duration": 3,
    "start_time": "2025-04-14T02:49:59.065Z"
   },
   {
    "duration": 8,
    "start_time": "2025-04-14T02:49:59.069Z"
   },
   {
    "duration": 47,
    "start_time": "2025-04-14T02:49:59.078Z"
   },
   {
    "duration": 132,
    "start_time": "2025-04-14T02:49:59.129Z"
   },
   {
    "duration": 92,
    "start_time": "2025-04-14T02:49:59.263Z"
   },
   {
    "duration": 5,
    "start_time": "2025-04-14T02:49:59.356Z"
   },
   {
    "duration": 2530,
    "start_time": "2025-04-14T02:49:59.363Z"
   },
   {
    "duration": 3,
    "start_time": "2025-04-14T02:50:01.895Z"
   },
   {
    "duration": 3,
    "start_time": "2025-04-14T02:50:01.901Z"
   },
   {
    "duration": 9,
    "start_time": "2025-04-14T02:50:01.906Z"
   },
   {
    "duration": 8,
    "start_time": "2025-04-14T02:50:01.916Z"
   },
   {
    "duration": 13,
    "start_time": "2025-04-14T02:50:01.925Z"
   },
   {
    "duration": 13,
    "start_time": "2025-04-14T02:50:01.939Z"
   },
   {
    "duration": 22,
    "start_time": "2025-04-14T02:50:01.953Z"
   },
   {
    "duration": 48,
    "start_time": "2025-04-14T02:50:01.976Z"
   },
   {
    "duration": 4,
    "start_time": "2025-04-14T02:50:02.026Z"
   },
   {
    "duration": 5,
    "start_time": "2025-04-14T02:50:02.031Z"
   },
   {
    "duration": 3,
    "start_time": "2025-04-14T02:50:02.037Z"
   },
   {
    "duration": 3,
    "start_time": "2025-04-14T02:50:02.042Z"
   },
   {
    "duration": 18,
    "start_time": "2025-04-14T02:50:02.047Z"
   },
   {
    "duration": 4,
    "start_time": "2025-04-14T02:50:02.067Z"
   },
   {
    "duration": 37,
    "start_time": "2025-04-14T02:50:02.075Z"
   },
   {
    "duration": 563,
    "start_time": "2025-04-14T02:50:02.114Z"
   },
   {
    "duration": 4,
    "start_time": "2025-04-14T02:50:02.678Z"
   },
   {
    "duration": 3,
    "start_time": "2025-04-14T02:50:02.684Z"
   },
   {
    "duration": 138,
    "start_time": "2025-04-14T02:50:02.688Z"
   },
   {
    "duration": 4,
    "start_time": "2025-04-14T02:50:02.827Z"
   },
   {
    "duration": 4,
    "start_time": "2025-04-14T02:50:02.833Z"
   },
   {
    "duration": 9,
    "start_time": "2025-04-14T02:50:02.839Z"
   },
   {
    "duration": 6,
    "start_time": "2025-04-14T02:50:02.849Z"
   },
   {
    "duration": 3,
    "start_time": "2025-04-14T02:50:02.912Z"
   },
   {
    "duration": 10,
    "start_time": "2025-04-14T02:50:02.917Z"
   },
   {
    "duration": 4,
    "start_time": "2025-04-14T02:50:02.929Z"
   },
   {
    "duration": 3,
    "start_time": "2025-04-14T02:50:02.934Z"
   },
   {
    "duration": 4,
    "start_time": "2025-04-14T02:50:03.013Z"
   },
   {
    "duration": 4,
    "start_time": "2025-04-14T02:50:03.019Z"
   },
   {
    "duration": 4,
    "start_time": "2025-04-14T02:50:03.025Z"
   },
   {
    "duration": 3,
    "start_time": "2025-04-14T02:50:03.030Z"
   },
   {
    "duration": 77,
    "start_time": "2025-04-14T02:50:03.035Z"
   },
   {
    "duration": 4,
    "start_time": "2025-04-14T02:50:03.114Z"
   },
   {
    "duration": 6,
    "start_time": "2025-04-14T03:10:46.638Z"
   },
   {
    "duration": 10,
    "start_time": "2025-04-14T03:11:18.715Z"
   },
   {
    "duration": 2073,
    "start_time": "2025-04-14T03:13:24.662Z"
   },
   {
    "duration": 986,
    "start_time": "2025-04-14T03:13:26.739Z"
   },
   {
    "duration": 8,
    "start_time": "2025-04-14T03:13:27.727Z"
   },
   {
    "duration": 3,
    "start_time": "2025-04-14T03:13:27.737Z"
   },
   {
    "duration": 10,
    "start_time": "2025-04-14T03:13:27.743Z"
   },
   {
    "duration": 9,
    "start_time": "2025-04-14T03:13:27.754Z"
   },
   {
    "duration": 3,
    "start_time": "2025-04-14T03:13:27.764Z"
   },
   {
    "duration": 8,
    "start_time": "2025-04-14T03:13:27.769Z"
   },
   {
    "duration": 47,
    "start_time": "2025-04-14T03:13:27.779Z"
   },
   {
    "duration": 132,
    "start_time": "2025-04-14T03:13:27.827Z"
   },
   {
    "duration": 107,
    "start_time": "2025-04-14T03:13:27.960Z"
   },
   {
    "duration": 6,
    "start_time": "2025-04-14T03:13:28.068Z"
   },
   {
    "duration": 2557,
    "start_time": "2025-04-14T03:13:28.075Z"
   },
   {
    "duration": 3,
    "start_time": "2025-04-14T03:13:30.637Z"
   },
   {
    "duration": 5,
    "start_time": "2025-04-14T03:13:30.641Z"
   },
   {
    "duration": 10,
    "start_time": "2025-04-14T03:13:30.647Z"
   },
   {
    "duration": 8,
    "start_time": "2025-04-14T03:13:30.658Z"
   },
   {
    "duration": 13,
    "start_time": "2025-04-14T03:13:30.668Z"
   },
   {
    "duration": 11,
    "start_time": "2025-04-14T03:13:30.682Z"
   },
   {
    "duration": 36,
    "start_time": "2025-04-14T03:13:30.695Z"
   },
   {
    "duration": 20,
    "start_time": "2025-04-14T03:13:30.733Z"
   },
   {
    "duration": 3,
    "start_time": "2025-04-14T03:13:30.755Z"
   },
   {
    "duration": 5,
    "start_time": "2025-04-14T03:13:30.760Z"
   },
   {
    "duration": 3,
    "start_time": "2025-04-14T03:13:30.766Z"
   },
   {
    "duration": 3,
    "start_time": "2025-04-14T03:13:30.772Z"
   },
   {
    "duration": 19,
    "start_time": "2025-04-14T03:13:30.811Z"
   },
   {
    "duration": 6,
    "start_time": "2025-04-14T03:13:30.831Z"
   },
   {
    "duration": 4,
    "start_time": "2025-04-14T03:13:30.838Z"
   },
   {
    "duration": 611,
    "start_time": "2025-04-14T03:13:30.844Z"
   },
   {
    "duration": 3,
    "start_time": "2025-04-14T03:13:31.457Z"
   },
   {
    "duration": 3,
    "start_time": "2025-04-14T03:13:31.461Z"
   },
   {
    "duration": 149,
    "start_time": "2025-04-14T03:13:31.466Z"
   },
   {
    "duration": 5,
    "start_time": "2025-04-14T03:13:31.616Z"
   },
   {
    "duration": 4,
    "start_time": "2025-04-14T03:13:31.623Z"
   },
   {
    "duration": 11,
    "start_time": "2025-04-14T03:13:31.629Z"
   },
   {
    "duration": 7,
    "start_time": "2025-04-14T03:13:31.641Z"
   },
   {
    "duration": 65,
    "start_time": "2025-04-14T03:13:31.649Z"
   },
   {
    "duration": 17,
    "start_time": "2025-04-14T03:13:31.715Z"
   },
   {
    "duration": 77,
    "start_time": "2025-04-14T03:13:31.736Z"
   },
   {
    "duration": 3,
    "start_time": "2025-04-14T03:13:31.814Z"
   },
   {
    "duration": 3,
    "start_time": "2025-04-14T03:13:31.821Z"
   },
   {
    "duration": 4,
    "start_time": "2025-04-14T03:13:31.826Z"
   },
   {
    "duration": 5,
    "start_time": "2025-04-14T03:13:31.832Z"
   },
   {
    "duration": 4,
    "start_time": "2025-04-14T03:13:31.838Z"
   },
   {
    "duration": 3,
    "start_time": "2025-04-14T03:13:31.912Z"
   },
   {
    "duration": 3,
    "start_time": "2025-04-14T03:13:31.917Z"
   },
   {
    "duration": 6,
    "start_time": "2025-04-14T03:13:31.923Z"
   },
   {
    "duration": 6,
    "start_time": "2025-04-14T03:13:31.931Z"
   },
   {
    "duration": 6,
    "start_time": "2025-04-14T03:13:32.013Z"
   },
   {
    "duration": 3,
    "start_time": "2025-04-14T03:13:32.021Z"
   },
   {
    "duration": 2,
    "start_time": "2025-04-14T03:13:32.026Z"
   },
   {
    "duration": 235,
    "start_time": "2025-04-14T03:20:24.261Z"
   },
   {
    "duration": 5,
    "start_time": "2025-04-14T03:20:26.311Z"
   },
   {
    "duration": 22,
    "start_time": "2025-04-14T03:20:27.527Z"
   },
   {
    "duration": 6,
    "start_time": "2025-04-14T03:21:16.630Z"
   },
   {
    "duration": 6,
    "start_time": "2025-04-14T03:21:18.497Z"
   },
   {
    "duration": 6,
    "start_time": "2025-04-14T03:28:12.872Z"
   },
   {
    "duration": 17,
    "start_time": "2025-04-14T03:30:08.779Z"
   },
   {
    "duration": 25,
    "start_time": "2025-04-14T03:30:31.538Z"
   },
   {
    "duration": 6,
    "start_time": "2025-04-14T03:31:19.200Z"
   },
   {
    "duration": 16,
    "start_time": "2025-04-14T03:31:20.470Z"
   },
   {
    "duration": 25,
    "start_time": "2025-04-14T03:31:55.399Z"
   },
   {
    "duration": 5,
    "start_time": "2025-04-14T03:32:31.797Z"
   },
   {
    "duration": 104,
    "start_time": "2025-04-14T03:32:32.965Z"
   },
   {
    "duration": 5,
    "start_time": "2025-04-14T03:32:55.081Z"
   },
   {
    "duration": 25,
    "start_time": "2025-04-14T03:32:56.527Z"
   },
   {
    "duration": 5,
    "start_time": "2025-04-14T03:33:20.725Z"
   },
   {
    "duration": 6,
    "start_time": "2025-04-14T03:33:21.527Z"
   },
   {
    "duration": 4,
    "start_time": "2025-04-14T03:41:04.789Z"
   },
   {
    "duration": 6,
    "start_time": "2025-04-14T03:41:28.366Z"
   },
   {
    "duration": 7,
    "start_time": "2025-04-14T03:47:41.996Z"
   },
   {
    "duration": 8,
    "start_time": "2025-04-14T03:50:18.475Z"
   },
   {
    "duration": 7,
    "start_time": "2025-04-14T04:00:02.417Z"
   },
   {
    "duration": 8,
    "start_time": "2025-04-14T04:03:02.730Z"
   },
   {
    "duration": 2114,
    "start_time": "2025-04-14T04:04:07.389Z"
   },
   {
    "duration": 960,
    "start_time": "2025-04-14T04:04:09.505Z"
   },
   {
    "duration": 7,
    "start_time": "2025-04-14T04:04:10.467Z"
   },
   {
    "duration": 3,
    "start_time": "2025-04-14T04:04:10.477Z"
   },
   {
    "duration": 11,
    "start_time": "2025-04-14T04:04:10.482Z"
   },
   {
    "duration": 22,
    "start_time": "2025-04-14T04:04:10.494Z"
   },
   {
    "duration": 2,
    "start_time": "2025-04-14T04:04:10.519Z"
   },
   {
    "duration": 8,
    "start_time": "2025-04-14T04:04:10.523Z"
   },
   {
    "duration": 15,
    "start_time": "2025-04-14T04:04:10.532Z"
   },
   {
    "duration": 147,
    "start_time": "2025-04-14T04:04:10.549Z"
   },
   {
    "duration": 90,
    "start_time": "2025-04-14T04:04:10.698Z"
   },
   {
    "duration": 5,
    "start_time": "2025-04-14T04:04:10.790Z"
   },
   {
    "duration": 2500,
    "start_time": "2025-04-14T04:04:10.796Z"
   },
   {
    "duration": 2,
    "start_time": "2025-04-14T04:04:13.300Z"
   },
   {
    "duration": 4,
    "start_time": "2025-04-14T04:04:13.304Z"
   },
   {
    "duration": 9,
    "start_time": "2025-04-14T04:04:13.309Z"
   },
   {
    "duration": 7,
    "start_time": "2025-04-14T04:04:13.320Z"
   },
   {
    "duration": 11,
    "start_time": "2025-04-14T04:04:13.329Z"
   },
   {
    "duration": 12,
    "start_time": "2025-04-14T04:04:13.342Z"
   },
   {
    "duration": 19,
    "start_time": "2025-04-14T04:04:13.356Z"
   },
   {
    "duration": 42,
    "start_time": "2025-04-14T04:04:13.377Z"
   },
   {
    "duration": 4,
    "start_time": "2025-04-14T04:04:13.420Z"
   },
   {
    "duration": 5,
    "start_time": "2025-04-14T04:04:13.425Z"
   },
   {
    "duration": 3,
    "start_time": "2025-04-14T04:04:13.431Z"
   },
   {
    "duration": 4,
    "start_time": "2025-04-14T04:04:13.436Z"
   },
   {
    "duration": 19,
    "start_time": "2025-04-14T04:04:13.441Z"
   },
   {
    "duration": 4,
    "start_time": "2025-04-14T04:04:13.462Z"
   },
   {
    "duration": 5,
    "start_time": "2025-04-14T04:04:13.468Z"
   },
   {
    "duration": 608,
    "start_time": "2025-04-14T04:04:13.475Z"
   },
   {
    "duration": 3,
    "start_time": "2025-04-14T04:04:14.084Z"
   },
   {
    "duration": 3,
    "start_time": "2025-04-14T04:04:14.089Z"
   },
   {
    "duration": 144,
    "start_time": "2025-04-14T04:04:14.094Z"
   },
   {
    "duration": 3,
    "start_time": "2025-04-14T04:04:14.240Z"
   },
   {
    "duration": 4,
    "start_time": "2025-04-14T04:04:14.245Z"
   },
   {
    "duration": 11,
    "start_time": "2025-04-14T04:04:14.250Z"
   },
   {
    "duration": 50,
    "start_time": "2025-04-14T04:04:14.265Z"
   },
   {
    "duration": 6,
    "start_time": "2025-04-14T04:04:14.317Z"
   },
   {
    "duration": 87,
    "start_time": "2025-04-14T04:04:14.325Z"
   },
   {
    "duration": 4,
    "start_time": "2025-04-14T04:04:14.414Z"
   },
   {
    "duration": 3,
    "start_time": "2025-04-14T04:04:14.419Z"
   },
   {
    "duration": 3,
    "start_time": "2025-04-14T04:04:14.426Z"
   },
   {
    "duration": 4,
    "start_time": "2025-04-14T04:04:14.431Z"
   },
   {
    "duration": 3,
    "start_time": "2025-04-14T04:04:14.437Z"
   },
   {
    "duration": 70,
    "start_time": "2025-04-14T04:04:14.442Z"
   },
   {
    "duration": 4,
    "start_time": "2025-04-14T04:04:14.514Z"
   },
   {
    "duration": 3,
    "start_time": "2025-04-14T04:04:14.520Z"
   },
   {
    "duration": 8,
    "start_time": "2025-04-14T04:04:14.524Z"
   },
   {
    "duration": 79,
    "start_time": "2025-04-14T04:04:14.534Z"
   },
   {
    "duration": 8,
    "start_time": "2025-04-14T04:04:14.615Z"
   },
   {
    "duration": 9,
    "start_time": "2025-04-14T04:04:14.625Z"
   },
   {
    "duration": 80,
    "start_time": "2025-04-14T04:04:14.636Z"
   },
   {
    "duration": 2492,
    "start_time": "2025-04-14T21:03:07.140Z"
   },
   {
    "duration": 1022,
    "start_time": "2025-04-14T21:03:09.635Z"
   },
   {
    "duration": 9,
    "start_time": "2025-04-14T21:03:10.659Z"
   },
   {
    "duration": 3,
    "start_time": "2025-04-14T21:03:10.669Z"
   },
   {
    "duration": 11,
    "start_time": "2025-04-14T21:03:10.675Z"
   },
   {
    "duration": 9,
    "start_time": "2025-04-14T21:03:10.687Z"
   },
   {
    "duration": 2,
    "start_time": "2025-04-14T21:03:10.698Z"
   },
   {
    "duration": 32,
    "start_time": "2025-04-14T21:03:10.702Z"
   },
   {
    "duration": 15,
    "start_time": "2025-04-14T21:03:10.736Z"
   },
   {
    "duration": 142,
    "start_time": "2025-04-14T21:03:10.753Z"
   },
   {
    "duration": 99,
    "start_time": "2025-04-14T21:03:10.897Z"
   },
   {
    "duration": 5,
    "start_time": "2025-04-14T21:03:10.998Z"
   },
   {
    "duration": 2579,
    "start_time": "2025-04-14T21:03:11.004Z"
   },
   {
    "duration": 3,
    "start_time": "2025-04-14T21:03:13.587Z"
   },
   {
    "duration": 5,
    "start_time": "2025-04-14T21:03:13.591Z"
   },
   {
    "duration": 7,
    "start_time": "2025-04-14T21:03:13.598Z"
   },
   {
    "duration": 26,
    "start_time": "2025-04-14T21:03:13.606Z"
   },
   {
    "duration": 13,
    "start_time": "2025-04-14T21:03:13.633Z"
   },
   {
    "duration": 12,
    "start_time": "2025-04-14T21:03:13.647Z"
   },
   {
    "duration": 20,
    "start_time": "2025-04-14T21:03:13.660Z"
   },
   {
    "duration": 20,
    "start_time": "2025-04-14T21:03:13.681Z"
   },
   {
    "duration": 29,
    "start_time": "2025-04-14T21:03:13.703Z"
   },
   {
    "duration": 5,
    "start_time": "2025-04-14T21:03:13.734Z"
   },
   {
    "duration": 4,
    "start_time": "2025-04-14T21:03:13.740Z"
   },
   {
    "duration": 3,
    "start_time": "2025-04-14T21:03:13.746Z"
   },
   {
    "duration": 20,
    "start_time": "2025-04-14T21:03:13.750Z"
   },
   {
    "duration": 5,
    "start_time": "2025-04-14T21:03:13.772Z"
   },
   {
    "duration": 4,
    "start_time": "2025-04-14T21:03:13.779Z"
   },
   {
    "duration": 662,
    "start_time": "2025-04-14T21:03:13.785Z"
   },
   {
    "duration": 4,
    "start_time": "2025-04-14T21:03:14.449Z"
   },
   {
    "duration": 3,
    "start_time": "2025-04-14T21:03:14.455Z"
   },
   {
    "duration": 148,
    "start_time": "2025-04-14T21:03:14.460Z"
   },
   {
    "duration": 4,
    "start_time": "2025-04-14T21:03:14.609Z"
   },
   {
    "duration": 3,
    "start_time": "2025-04-14T21:03:14.615Z"
   },
   {
    "duration": 8,
    "start_time": "2025-04-14T21:03:14.632Z"
   },
   {
    "duration": 8,
    "start_time": "2025-04-14T21:03:14.642Z"
   },
   {
    "duration": 2,
    "start_time": "2025-04-14T21:03:14.652Z"
   },
   {
    "duration": 9,
    "start_time": "2025-04-14T21:03:14.656Z"
   },
   {
    "duration": 7,
    "start_time": "2025-04-14T21:03:14.730Z"
   },
   {
    "duration": 3,
    "start_time": "2025-04-14T21:03:14.739Z"
   },
   {
    "duration": 3,
    "start_time": "2025-04-14T21:03:14.748Z"
   },
   {
    "duration": 80,
    "start_time": "2025-04-14T21:03:14.753Z"
   },
   {
    "duration": 7,
    "start_time": "2025-04-14T21:03:14.836Z"
   },
   {
    "duration": 6,
    "start_time": "2025-04-14T21:03:14.844Z"
   },
   {
    "duration": 3,
    "start_time": "2025-04-14T21:03:14.852Z"
   },
   {
    "duration": 74,
    "start_time": "2025-04-14T21:03:14.858Z"
   },
   {
    "duration": 9,
    "start_time": "2025-04-14T21:03:14.934Z"
   },
   {
    "duration": 6,
    "start_time": "2025-04-14T21:03:14.947Z"
   },
   {
    "duration": 7,
    "start_time": "2025-04-14T21:03:14.955Z"
   },
   {
    "duration": 7,
    "start_time": "2025-04-14T21:03:15.032Z"
   },
   {
    "duration": 10,
    "start_time": "2025-04-14T21:03:15.043Z"
   }
  ],
  "kernelspec": {
   "display_name": "Python 3 (ipykernel)",
   "language": "python",
   "name": "python3"
  },
  "language_info": {
   "codemirror_mode": {
    "name": "ipython",
    "version": 3
   },
   "file_extension": ".py",
   "mimetype": "text/x-python",
   "name": "python",
   "nbconvert_exporter": "python",
   "pygments_lexer": "ipython3",
   "version": "3.9.19"
  },
  "toc": {
   "base_numbering": 1,
   "nav_menu": {},
   "number_sections": true,
   "sideBar": true,
   "skip_h1_title": true,
   "title_cell": "Table of Contents",
   "title_sidebar": "Contents",
   "toc_cell": false,
   "toc_position": {},
   "toc_section_display": true,
   "toc_window_display": false
  }
 },
 "nbformat": 4,
 "nbformat_minor": 4
}
