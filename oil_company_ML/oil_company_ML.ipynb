{
 "cells": [
  {
   "cell_type": "markdown",
   "metadata": {},
   "source": [
    "----"
   ]
  },
  {
   "cell_type": "markdown",
   "metadata": {},
   "source": [
    "# 1. Importar las librerías y cargar los datos del archivo"
   ]
  },
  {
   "cell_type": "code",
   "execution_count": 1,
   "metadata": {
    "trusted": true
   },
   "outputs": [],
   "source": [
    "# Importando todas las librerías que se van a utilizar\n",
    "import pandas as pd\n",
    "import numpy as np\n",
    "from sklearn.model_selection import train_test_split \n",
    "from sklearn.metrics import accuracy_score, recall_score, precision_score, f1_score, roc_curve\n",
    "from sklearn.metrics import roc_auc_score, mean_squared_error, mean_absolute_error, confusion_matrix\n",
    "from sklearn.linear_model import LinearRegression\n",
    "from sklearn.preprocessing import OrdinalEncoder, StandardScaler\n",
    "from sklearn.utils import shuffle, resample"
   ]
  },
  {
   "cell_type": "code",
   "execution_count": 2,
   "metadata": {
    "trusted": true
   },
   "outputs": [
    {
     "data": {
      "text/html": [
       "<div>\n",
       "<style scoped>\n",
       "    .dataframe tbody tr th:only-of-type {\n",
       "        vertical-align: middle;\n",
       "    }\n",
       "\n",
       "    .dataframe tbody tr th {\n",
       "        vertical-align: top;\n",
       "    }\n",
       "\n",
       "    .dataframe thead th {\n",
       "        text-align: right;\n",
       "    }\n",
       "</style>\n",
       "<table border=\"1\" class=\"dataframe\">\n",
       "  <thead>\n",
       "    <tr style=\"text-align: right;\">\n",
       "      <th></th>\n",
       "      <th>id</th>\n",
       "      <th>f0</th>\n",
       "      <th>f1</th>\n",
       "      <th>f2</th>\n",
       "      <th>product</th>\n",
       "    </tr>\n",
       "  </thead>\n",
       "  <tbody>\n",
       "    <tr>\n",
       "      <th>0</th>\n",
       "      <td>txEyH</td>\n",
       "      <td>0.705745</td>\n",
       "      <td>-0.497823</td>\n",
       "      <td>1.221170</td>\n",
       "      <td>105.280062</td>\n",
       "    </tr>\n",
       "    <tr>\n",
       "      <th>1</th>\n",
       "      <td>2acmU</td>\n",
       "      <td>1.334711</td>\n",
       "      <td>-0.340164</td>\n",
       "      <td>4.365080</td>\n",
       "      <td>73.037750</td>\n",
       "    </tr>\n",
       "    <tr>\n",
       "      <th>2</th>\n",
       "      <td>409Wp</td>\n",
       "      <td>1.022732</td>\n",
       "      <td>0.151990</td>\n",
       "      <td>1.419926</td>\n",
       "      <td>85.265647</td>\n",
       "    </tr>\n",
       "    <tr>\n",
       "      <th>3</th>\n",
       "      <td>iJLyR</td>\n",
       "      <td>-0.032172</td>\n",
       "      <td>0.139033</td>\n",
       "      <td>2.978566</td>\n",
       "      <td>168.620776</td>\n",
       "    </tr>\n",
       "    <tr>\n",
       "      <th>4</th>\n",
       "      <td>Xdl7t</td>\n",
       "      <td>1.988431</td>\n",
       "      <td>0.155413</td>\n",
       "      <td>4.751769</td>\n",
       "      <td>154.036647</td>\n",
       "    </tr>\n",
       "    <tr>\n",
       "      <th>...</th>\n",
       "      <td>...</td>\n",
       "      <td>...</td>\n",
       "      <td>...</td>\n",
       "      <td>...</td>\n",
       "      <td>...</td>\n",
       "    </tr>\n",
       "    <tr>\n",
       "      <th>99995</th>\n",
       "      <td>DLsed</td>\n",
       "      <td>0.971957</td>\n",
       "      <td>0.370953</td>\n",
       "      <td>6.075346</td>\n",
       "      <td>110.744026</td>\n",
       "    </tr>\n",
       "    <tr>\n",
       "      <th>99996</th>\n",
       "      <td>QKivN</td>\n",
       "      <td>1.392429</td>\n",
       "      <td>-0.382606</td>\n",
       "      <td>1.273912</td>\n",
       "      <td>122.346843</td>\n",
       "    </tr>\n",
       "    <tr>\n",
       "      <th>99997</th>\n",
       "      <td>3rnvd</td>\n",
       "      <td>1.029585</td>\n",
       "      <td>0.018787</td>\n",
       "      <td>-1.348308</td>\n",
       "      <td>64.375443</td>\n",
       "    </tr>\n",
       "    <tr>\n",
       "      <th>99998</th>\n",
       "      <td>7kl59</td>\n",
       "      <td>0.998163</td>\n",
       "      <td>-0.528582</td>\n",
       "      <td>1.583869</td>\n",
       "      <td>74.040764</td>\n",
       "    </tr>\n",
       "    <tr>\n",
       "      <th>99999</th>\n",
       "      <td>1CWhH</td>\n",
       "      <td>1.764754</td>\n",
       "      <td>-0.266417</td>\n",
       "      <td>5.722849</td>\n",
       "      <td>149.633246</td>\n",
       "    </tr>\n",
       "  </tbody>\n",
       "</table>\n",
       "<p>100000 rows × 5 columns</p>\n",
       "</div>"
      ],
      "text/plain": [
       "          id        f0        f1        f2     product\n",
       "0      txEyH  0.705745 -0.497823  1.221170  105.280062\n",
       "1      2acmU  1.334711 -0.340164  4.365080   73.037750\n",
       "2      409Wp  1.022732  0.151990  1.419926   85.265647\n",
       "3      iJLyR -0.032172  0.139033  2.978566  168.620776\n",
       "4      Xdl7t  1.988431  0.155413  4.751769  154.036647\n",
       "...      ...       ...       ...       ...         ...\n",
       "99995  DLsed  0.971957  0.370953  6.075346  110.744026\n",
       "99996  QKivN  1.392429 -0.382606  1.273912  122.346843\n",
       "99997  3rnvd  1.029585  0.018787 -1.348308   64.375443\n",
       "99998  7kl59  0.998163 -0.528582  1.583869   74.040764\n",
       "99999  1CWhH  1.764754 -0.266417  5.722849  149.633246\n",
       "\n",
       "[100000 rows x 5 columns]"
      ]
     },
     "execution_count": 2,
     "metadata": {},
     "output_type": "execute_result"
    }
   ],
   "source": [
    "# Cargar los datos\n",
    "df_0 = pd.read_csv(\"/datasets/geo_data_0.csv\")\n",
    "df_0"
   ]
  },
  {
   "cell_type": "code",
   "execution_count": 3,
   "metadata": {
    "trusted": true
   },
   "outputs": [
    {
     "data": {
      "text/plain": [
       "(100000, 5)"
      ]
     },
     "execution_count": 3,
     "metadata": {},
     "output_type": "execute_result"
    }
   ],
   "source": [
    "df_0.shape"
   ]
  },
  {
   "cell_type": "code",
   "execution_count": null,
   "metadata": {
    "trusted": true
   },
   "outputs": [
    {
     "data": {
      "text/plain": [
       "99990"
      ]
     },
     "execution_count": 4,
     "metadata": {},
     "output_type": "execute_result"
    }
   ],
   "source": [
    "# Revisar id únicos\n",
    "df_0['id'].nunique()"
   ]
  },
  {
   "cell_type": "code",
   "execution_count": 5,
   "metadata": {
    "trusted": true
   },
   "outputs": [
    {
     "name": "stdout",
     "output_type": "stream",
     "text": [
      "<class 'pandas.core.frame.DataFrame'>\n",
      "RangeIndex: 100000 entries, 0 to 99999\n",
      "Data columns (total 5 columns):\n",
      " #   Column   Non-Null Count   Dtype  \n",
      "---  ------   --------------   -----  \n",
      " 0   id       100000 non-null  object \n",
      " 1   f0       100000 non-null  float64\n",
      " 2   f1       100000 non-null  float64\n",
      " 3   f2       100000 non-null  float64\n",
      " 4   product  100000 non-null  float64\n",
      "dtypes: float64(4), object(1)\n",
      "memory usage: 3.8+ MB\n"
     ]
    }
   ],
   "source": [
    "df_0.info()"
   ]
  },
  {
   "cell_type": "code",
   "execution_count": null,
   "metadata": {
    "trusted": true
   },
   "outputs": [
    {
     "data": {
      "text/plain": [
       "AGS9W    2\n",
       "HZww2    2\n",
       "bxg6G    2\n",
       "TtcGQ    2\n",
       "QcMuo    2\n",
       "A5aEY    2\n",
       "74z30    2\n",
       "Tdehs    2\n",
       "bsk9y    2\n",
       "fiKDv    2\n",
       "lV7xa    1\n",
       "JuXoE    1\n",
       "iQJnv    1\n",
       "nlkzi    1\n",
       "MoplW    1\n",
       "Name: id, dtype: int64"
      ]
     },
     "execution_count": 6,
     "metadata": {},
     "output_type": "execute_result"
    }
   ],
   "source": [
    "# Identificar los IDs duplicados\n",
    "df_0['id'].value_counts().head(15)"
   ]
  },
  {
   "cell_type": "code",
   "execution_count": null,
   "metadata": {
    "trusted": true
   },
   "outputs": [
    {
     "data": {
      "text/html": [
       "<div>\n",
       "<style scoped>\n",
       "    .dataframe tbody tr th:only-of-type {\n",
       "        vertical-align: middle;\n",
       "    }\n",
       "\n",
       "    .dataframe tbody tr th {\n",
       "        vertical-align: top;\n",
       "    }\n",
       "\n",
       "    .dataframe thead th {\n",
       "        text-align: right;\n",
       "    }\n",
       "</style>\n",
       "<table border=\"1\" class=\"dataframe\">\n",
       "  <thead>\n",
       "    <tr style=\"text-align: right;\">\n",
       "      <th></th>\n",
       "      <th>id</th>\n",
       "      <th>f0</th>\n",
       "      <th>f1</th>\n",
       "      <th>f2</th>\n",
       "      <th>product</th>\n",
       "    </tr>\n",
       "  </thead>\n",
       "  <tbody>\n",
       "    <tr>\n",
       "      <th>66136</th>\n",
       "      <td>74z30</td>\n",
       "      <td>1.084962</td>\n",
       "      <td>-0.312358</td>\n",
       "      <td>6.990771</td>\n",
       "      <td>127.643327</td>\n",
       "    </tr>\n",
       "    <tr>\n",
       "      <th>64022</th>\n",
       "      <td>74z30</td>\n",
       "      <td>0.741456</td>\n",
       "      <td>0.459229</td>\n",
       "      <td>5.153109</td>\n",
       "      <td>140.771492</td>\n",
       "    </tr>\n",
       "    <tr>\n",
       "      <th>51970</th>\n",
       "      <td>A5aEY</td>\n",
       "      <td>-0.180335</td>\n",
       "      <td>0.935548</td>\n",
       "      <td>-2.094773</td>\n",
       "      <td>33.020205</td>\n",
       "    </tr>\n",
       "    <tr>\n",
       "      <th>3389</th>\n",
       "      <td>A5aEY</td>\n",
       "      <td>-0.039949</td>\n",
       "      <td>0.156872</td>\n",
       "      <td>0.209861</td>\n",
       "      <td>89.249364</td>\n",
       "    </tr>\n",
       "    <tr>\n",
       "      <th>69163</th>\n",
       "      <td>AGS9W</td>\n",
       "      <td>-0.933795</td>\n",
       "      <td>0.116194</td>\n",
       "      <td>-3.655896</td>\n",
       "      <td>19.230453</td>\n",
       "    </tr>\n",
       "    <tr>\n",
       "      <th>42529</th>\n",
       "      <td>AGS9W</td>\n",
       "      <td>1.454747</td>\n",
       "      <td>-0.479651</td>\n",
       "      <td>0.683380</td>\n",
       "      <td>126.370504</td>\n",
       "    </tr>\n",
       "    <tr>\n",
       "      <th>931</th>\n",
       "      <td>HZww2</td>\n",
       "      <td>0.755284</td>\n",
       "      <td>0.368511</td>\n",
       "      <td>1.863211</td>\n",
       "      <td>30.681774</td>\n",
       "    </tr>\n",
       "    <tr>\n",
       "      <th>7530</th>\n",
       "      <td>HZww2</td>\n",
       "      <td>1.061194</td>\n",
       "      <td>-0.373969</td>\n",
       "      <td>10.430210</td>\n",
       "      <td>158.828695</td>\n",
       "    </tr>\n",
       "    <tr>\n",
       "      <th>63593</th>\n",
       "      <td>QcMuo</td>\n",
       "      <td>0.635635</td>\n",
       "      <td>-0.473422</td>\n",
       "      <td>0.862670</td>\n",
       "      <td>64.578675</td>\n",
       "    </tr>\n",
       "    <tr>\n",
       "      <th>1949</th>\n",
       "      <td>QcMuo</td>\n",
       "      <td>0.506563</td>\n",
       "      <td>-0.323775</td>\n",
       "      <td>-2.215583</td>\n",
       "      <td>75.496502</td>\n",
       "    </tr>\n",
       "    <tr>\n",
       "      <th>75715</th>\n",
       "      <td>Tdehs</td>\n",
       "      <td>0.112079</td>\n",
       "      <td>0.430296</td>\n",
       "      <td>3.218993</td>\n",
       "      <td>60.964018</td>\n",
       "    </tr>\n",
       "    <tr>\n",
       "      <th>21426</th>\n",
       "      <td>Tdehs</td>\n",
       "      <td>0.829407</td>\n",
       "      <td>0.298807</td>\n",
       "      <td>-0.049563</td>\n",
       "      <td>96.035308</td>\n",
       "    </tr>\n",
       "    <tr>\n",
       "      <th>92341</th>\n",
       "      <td>TtcGQ</td>\n",
       "      <td>0.110711</td>\n",
       "      <td>1.022689</td>\n",
       "      <td>0.911381</td>\n",
       "      <td>101.318008</td>\n",
       "    </tr>\n",
       "    <tr>\n",
       "      <th>60140</th>\n",
       "      <td>TtcGQ</td>\n",
       "      <td>0.569276</td>\n",
       "      <td>-0.104876</td>\n",
       "      <td>6.440215</td>\n",
       "      <td>85.350186</td>\n",
       "    </tr>\n",
       "    <tr>\n",
       "      <th>89582</th>\n",
       "      <td>bsk9y</td>\n",
       "      <td>0.398908</td>\n",
       "      <td>-0.400253</td>\n",
       "      <td>10.122376</td>\n",
       "      <td>163.433078</td>\n",
       "    </tr>\n",
       "    <tr>\n",
       "      <th>97785</th>\n",
       "      <td>bsk9y</td>\n",
       "      <td>0.378429</td>\n",
       "      <td>0.005837</td>\n",
       "      <td>0.160827</td>\n",
       "      <td>160.637302</td>\n",
       "    </tr>\n",
       "    <tr>\n",
       "      <th>41724</th>\n",
       "      <td>bxg6G</td>\n",
       "      <td>-0.823752</td>\n",
       "      <td>0.546319</td>\n",
       "      <td>3.630479</td>\n",
       "      <td>93.007798</td>\n",
       "    </tr>\n",
       "    <tr>\n",
       "      <th>1364</th>\n",
       "      <td>bxg6G</td>\n",
       "      <td>0.411645</td>\n",
       "      <td>0.856830</td>\n",
       "      <td>-3.653440</td>\n",
       "      <td>73.604260</td>\n",
       "    </tr>\n",
       "    <tr>\n",
       "      <th>16633</th>\n",
       "      <td>fiKDv</td>\n",
       "      <td>0.157341</td>\n",
       "      <td>1.028359</td>\n",
       "      <td>5.585586</td>\n",
       "      <td>95.817889</td>\n",
       "    </tr>\n",
       "    <tr>\n",
       "      <th>90815</th>\n",
       "      <td>fiKDv</td>\n",
       "      <td>0.049883</td>\n",
       "      <td>0.841313</td>\n",
       "      <td>6.394613</td>\n",
       "      <td>137.346586</td>\n",
       "    </tr>\n",
       "  </tbody>\n",
       "</table>\n",
       "</div>"
      ],
      "text/plain": [
       "          id        f0        f1         f2     product\n",
       "66136  74z30  1.084962 -0.312358   6.990771  127.643327\n",
       "64022  74z30  0.741456  0.459229   5.153109  140.771492\n",
       "51970  A5aEY -0.180335  0.935548  -2.094773   33.020205\n",
       "3389   A5aEY -0.039949  0.156872   0.209861   89.249364\n",
       "69163  AGS9W -0.933795  0.116194  -3.655896   19.230453\n",
       "42529  AGS9W  1.454747 -0.479651   0.683380  126.370504\n",
       "931    HZww2  0.755284  0.368511   1.863211   30.681774\n",
       "7530   HZww2  1.061194 -0.373969  10.430210  158.828695\n",
       "63593  QcMuo  0.635635 -0.473422   0.862670   64.578675\n",
       "1949   QcMuo  0.506563 -0.323775  -2.215583   75.496502\n",
       "75715  Tdehs  0.112079  0.430296   3.218993   60.964018\n",
       "21426  Tdehs  0.829407  0.298807  -0.049563   96.035308\n",
       "92341  TtcGQ  0.110711  1.022689   0.911381  101.318008\n",
       "60140  TtcGQ  0.569276 -0.104876   6.440215   85.350186\n",
       "89582  bsk9y  0.398908 -0.400253  10.122376  163.433078\n",
       "97785  bsk9y  0.378429  0.005837   0.160827  160.637302\n",
       "41724  bxg6G -0.823752  0.546319   3.630479   93.007798\n",
       "1364   bxg6G  0.411645  0.856830  -3.653440   73.604260\n",
       "16633  fiKDv  0.157341  1.028359   5.585586   95.817889\n",
       "90815  fiKDv  0.049883  0.841313   6.394613  137.346586"
      ]
     },
     "execution_count": 7,
     "metadata": {},
     "output_type": "execute_result"
    }
   ],
   "source": [
    "# Ver filas duplicadas\n",
    "df_0[df_0['id'].duplicated(keep=False)].sort_values('id')"
   ]
  },
  {
   "cell_type": "code",
   "execution_count": null,
   "metadata": {
    "trusted": true
   },
   "outputs": [
    {
     "data": {
      "text/html": [
       "<div>\n",
       "<style scoped>\n",
       "    .dataframe tbody tr th:only-of-type {\n",
       "        vertical-align: middle;\n",
       "    }\n",
       "\n",
       "    .dataframe tbody tr th {\n",
       "        vertical-align: top;\n",
       "    }\n",
       "\n",
       "    .dataframe thead th {\n",
       "        text-align: right;\n",
       "    }\n",
       "</style>\n",
       "<table border=\"1\" class=\"dataframe\">\n",
       "  <thead>\n",
       "    <tr style=\"text-align: right;\">\n",
       "      <th></th>\n",
       "      <th>id</th>\n",
       "      <th>f0</th>\n",
       "      <th>f1</th>\n",
       "      <th>f2</th>\n",
       "      <th>product</th>\n",
       "    </tr>\n",
       "  </thead>\n",
       "  <tbody>\n",
       "    <tr>\n",
       "      <th>8826</th>\n",
       "      <td>rjMou</td>\n",
       "      <td>1.797736</td>\n",
       "      <td>0.098212</td>\n",
       "      <td>6.148260</td>\n",
       "      <td>185.364347</td>\n",
       "    </tr>\n",
       "    <tr>\n",
       "      <th>99818</th>\n",
       "      <td>7cHIv</td>\n",
       "      <td>0.518445</td>\n",
       "      <td>-0.412790</td>\n",
       "      <td>4.951916</td>\n",
       "      <td>185.362690</td>\n",
       "    </tr>\n",
       "    <tr>\n",
       "      <th>94175</th>\n",
       "      <td>uCDzR</td>\n",
       "      <td>0.351428</td>\n",
       "      <td>-0.400244</td>\n",
       "      <td>7.227618</td>\n",
       "      <td>185.355615</td>\n",
       "    </tr>\n",
       "    <tr>\n",
       "      <th>1925</th>\n",
       "      <td>IfqrC</td>\n",
       "      <td>0.624430</td>\n",
       "      <td>-0.469312</td>\n",
       "      <td>5.753677</td>\n",
       "      <td>185.354980</td>\n",
       "    </tr>\n",
       "    <tr>\n",
       "      <th>45291</th>\n",
       "      <td>5FEPb</td>\n",
       "      <td>1.758787</td>\n",
       "      <td>-0.395038</td>\n",
       "      <td>6.719085</td>\n",
       "      <td>185.352015</td>\n",
       "    </tr>\n",
       "    <tr>\n",
       "      <th>28690</th>\n",
       "      <td>bII2i</td>\n",
       "      <td>1.620518</td>\n",
       "      <td>-0.084109</td>\n",
       "      <td>7.616198</td>\n",
       "      <td>185.344675</td>\n",
       "    </tr>\n",
       "    <tr>\n",
       "      <th>45259</th>\n",
       "      <td>8nZzW</td>\n",
       "      <td>1.813483</td>\n",
       "      <td>0.085809</td>\n",
       "      <td>4.337725</td>\n",
       "      <td>185.338370</td>\n",
       "    </tr>\n",
       "    <tr>\n",
       "      <th>22823</th>\n",
       "      <td>jMdal</td>\n",
       "      <td>0.109721</td>\n",
       "      <td>0.017532</td>\n",
       "      <td>10.101270</td>\n",
       "      <td>185.337352</td>\n",
       "    </tr>\n",
       "    <tr>\n",
       "      <th>98975</th>\n",
       "      <td>AXcMW</td>\n",
       "      <td>0.395034</td>\n",
       "      <td>-0.560220</td>\n",
       "      <td>5.112276</td>\n",
       "      <td>185.330529</td>\n",
       "    </tr>\n",
       "    <tr>\n",
       "      <th>93314</th>\n",
       "      <td>TBC3a</td>\n",
       "      <td>0.162192</td>\n",
       "      <td>0.230608</td>\n",
       "      <td>8.359679</td>\n",
       "      <td>185.317346</td>\n",
       "    </tr>\n",
       "    <tr>\n",
       "      <th>66714</th>\n",
       "      <td>F8GHq</td>\n",
       "      <td>-0.015423</td>\n",
       "      <td>0.604621</td>\n",
       "      <td>2.396608</td>\n",
       "      <td>185.315412</td>\n",
       "    </tr>\n",
       "    <tr>\n",
       "      <th>21041</th>\n",
       "      <td>mG0vk</td>\n",
       "      <td>1.773598</td>\n",
       "      <td>-0.102381</td>\n",
       "      <td>6.871049</td>\n",
       "      <td>185.314475</td>\n",
       "    </tr>\n",
       "    <tr>\n",
       "      <th>89688</th>\n",
       "      <td>v0xIT</td>\n",
       "      <td>2.033610</td>\n",
       "      <td>0.164699</td>\n",
       "      <td>0.867660</td>\n",
       "      <td>185.304563</td>\n",
       "    </tr>\n",
       "    <tr>\n",
       "      <th>31006</th>\n",
       "      <td>1xKUF</td>\n",
       "      <td>2.038574</td>\n",
       "      <td>0.226744</td>\n",
       "      <td>5.555413</td>\n",
       "      <td>185.299685</td>\n",
       "    </tr>\n",
       "    <tr>\n",
       "      <th>80036</th>\n",
       "      <td>VqDcD</td>\n",
       "      <td>1.545501</td>\n",
       "      <td>-0.577269</td>\n",
       "      <td>6.680093</td>\n",
       "      <td>185.297021</td>\n",
       "    </tr>\n",
       "  </tbody>\n",
       "</table>\n",
       "</div>"
      ],
      "text/plain": [
       "          id        f0        f1         f2     product\n",
       "8826   rjMou  1.797736  0.098212   6.148260  185.364347\n",
       "99818  7cHIv  0.518445 -0.412790   4.951916  185.362690\n",
       "94175  uCDzR  0.351428 -0.400244   7.227618  185.355615\n",
       "1925   IfqrC  0.624430 -0.469312   5.753677  185.354980\n",
       "45291  5FEPb  1.758787 -0.395038   6.719085  185.352015\n",
       "28690  bII2i  1.620518 -0.084109   7.616198  185.344675\n",
       "45259  8nZzW  1.813483  0.085809   4.337725  185.338370\n",
       "22823  jMdal  0.109721  0.017532  10.101270  185.337352\n",
       "98975  AXcMW  0.395034 -0.560220   5.112276  185.330529\n",
       "93314  TBC3a  0.162192  0.230608   8.359679  185.317346\n",
       "66714  F8GHq -0.015423  0.604621   2.396608  185.315412\n",
       "21041  mG0vk  1.773598 -0.102381   6.871049  185.314475\n",
       "89688  v0xIT  2.033610  0.164699   0.867660  185.304563\n",
       "31006  1xKUF  2.038574  0.226744   5.555413  185.299685\n",
       "80036  VqDcD  1.545501 -0.577269   6.680093  185.297021"
      ]
     },
     "execution_count": 8,
     "metadata": {},
     "output_type": "execute_result"
    }
   ],
   "source": [
    "# Ordenado por la columna product\n",
    "df_0.sort_values(by='product', ascending=False).head(15)"
   ]
  },
  {
   "cell_type": "code",
   "execution_count": 9,
   "metadata": {
    "trusted": true
   },
   "outputs": [
    {
     "data": {
      "text/html": [
       "<div>\n",
       "<style scoped>\n",
       "    .dataframe tbody tr th:only-of-type {\n",
       "        vertical-align: middle;\n",
       "    }\n",
       "\n",
       "    .dataframe tbody tr th {\n",
       "        vertical-align: top;\n",
       "    }\n",
       "\n",
       "    .dataframe thead th {\n",
       "        text-align: right;\n",
       "    }\n",
       "</style>\n",
       "<table border=\"1\" class=\"dataframe\">\n",
       "  <thead>\n",
       "    <tr style=\"text-align: right;\">\n",
       "      <th></th>\n",
       "      <th>id</th>\n",
       "      <th>f0</th>\n",
       "      <th>f1</th>\n",
       "      <th>f2</th>\n",
       "      <th>product</th>\n",
       "    </tr>\n",
       "  </thead>\n",
       "  <tbody>\n",
       "    <tr>\n",
       "      <th>0</th>\n",
       "      <td>kBEdx</td>\n",
       "      <td>-15.001348</td>\n",
       "      <td>-8.276000</td>\n",
       "      <td>-0.005876</td>\n",
       "      <td>3.179103</td>\n",
       "    </tr>\n",
       "    <tr>\n",
       "      <th>1</th>\n",
       "      <td>62mP7</td>\n",
       "      <td>14.272088</td>\n",
       "      <td>-3.475083</td>\n",
       "      <td>0.999183</td>\n",
       "      <td>26.953261</td>\n",
       "    </tr>\n",
       "    <tr>\n",
       "      <th>2</th>\n",
       "      <td>vyE1P</td>\n",
       "      <td>6.263187</td>\n",
       "      <td>-5.948386</td>\n",
       "      <td>5.001160</td>\n",
       "      <td>134.766305</td>\n",
       "    </tr>\n",
       "    <tr>\n",
       "      <th>3</th>\n",
       "      <td>KcrkZ</td>\n",
       "      <td>-13.081196</td>\n",
       "      <td>-11.506057</td>\n",
       "      <td>4.999415</td>\n",
       "      <td>137.945408</td>\n",
       "    </tr>\n",
       "    <tr>\n",
       "      <th>4</th>\n",
       "      <td>AHL4O</td>\n",
       "      <td>12.702195</td>\n",
       "      <td>-8.147433</td>\n",
       "      <td>5.004363</td>\n",
       "      <td>134.766305</td>\n",
       "    </tr>\n",
       "    <tr>\n",
       "      <th>...</th>\n",
       "      <td>...</td>\n",
       "      <td>...</td>\n",
       "      <td>...</td>\n",
       "      <td>...</td>\n",
       "      <td>...</td>\n",
       "    </tr>\n",
       "    <tr>\n",
       "      <th>99995</th>\n",
       "      <td>QywKC</td>\n",
       "      <td>9.535637</td>\n",
       "      <td>-6.878139</td>\n",
       "      <td>1.998296</td>\n",
       "      <td>53.906522</td>\n",
       "    </tr>\n",
       "    <tr>\n",
       "      <th>99996</th>\n",
       "      <td>ptvty</td>\n",
       "      <td>-10.160631</td>\n",
       "      <td>-12.558096</td>\n",
       "      <td>5.005581</td>\n",
       "      <td>137.945408</td>\n",
       "    </tr>\n",
       "    <tr>\n",
       "      <th>99997</th>\n",
       "      <td>09gWa</td>\n",
       "      <td>-7.378891</td>\n",
       "      <td>-3.084104</td>\n",
       "      <td>4.998651</td>\n",
       "      <td>137.945408</td>\n",
       "    </tr>\n",
       "    <tr>\n",
       "      <th>99998</th>\n",
       "      <td>rqwUm</td>\n",
       "      <td>0.665714</td>\n",
       "      <td>-6.152593</td>\n",
       "      <td>1.000146</td>\n",
       "      <td>30.132364</td>\n",
       "    </tr>\n",
       "    <tr>\n",
       "      <th>99999</th>\n",
       "      <td>relB0</td>\n",
       "      <td>-3.426139</td>\n",
       "      <td>-7.794274</td>\n",
       "      <td>-0.003299</td>\n",
       "      <td>3.179103</td>\n",
       "    </tr>\n",
       "  </tbody>\n",
       "</table>\n",
       "<p>100000 rows × 5 columns</p>\n",
       "</div>"
      ],
      "text/plain": [
       "          id         f0         f1        f2     product\n",
       "0      kBEdx -15.001348  -8.276000 -0.005876    3.179103\n",
       "1      62mP7  14.272088  -3.475083  0.999183   26.953261\n",
       "2      vyE1P   6.263187  -5.948386  5.001160  134.766305\n",
       "3      KcrkZ -13.081196 -11.506057  4.999415  137.945408\n",
       "4      AHL4O  12.702195  -8.147433  5.004363  134.766305\n",
       "...      ...        ...        ...       ...         ...\n",
       "99995  QywKC   9.535637  -6.878139  1.998296   53.906522\n",
       "99996  ptvty -10.160631 -12.558096  5.005581  137.945408\n",
       "99997  09gWa  -7.378891  -3.084104  4.998651  137.945408\n",
       "99998  rqwUm   0.665714  -6.152593  1.000146   30.132364\n",
       "99999  relB0  -3.426139  -7.794274 -0.003299    3.179103\n",
       "\n",
       "[100000 rows x 5 columns]"
      ]
     },
     "execution_count": 9,
     "metadata": {},
     "output_type": "execute_result"
    }
   ],
   "source": [
    "# Cargar los datos\n",
    "df_1 = pd.read_csv(\"/datasets/geo_data_1.csv\")\n",
    "df_1"
   ]
  },
  {
   "cell_type": "code",
   "execution_count": 10,
   "metadata": {
    "trusted": true
   },
   "outputs": [
    {
     "data": {
      "text/plain": [
       "(100000, 5)"
      ]
     },
     "execution_count": 10,
     "metadata": {},
     "output_type": "execute_result"
    }
   ],
   "source": [
    "df_1.shape"
   ]
  },
  {
   "cell_type": "code",
   "execution_count": null,
   "metadata": {
    "trusted": true
   },
   "outputs": [
    {
     "data": {
      "text/plain": [
       "99996"
      ]
     },
     "execution_count": 11,
     "metadata": {},
     "output_type": "execute_result"
    }
   ],
   "source": [
    "# Ver ids únicos\n",
    "df_1['id'].nunique()"
   ]
  },
  {
   "cell_type": "code",
   "execution_count": null,
   "metadata": {
    "trusted": true
   },
   "outputs": [
    {
     "name": "stdout",
     "output_type": "stream",
     "text": [
      "<class 'pandas.core.frame.DataFrame'>\n",
      "RangeIndex: 100000 entries, 0 to 99999\n",
      "Data columns (total 5 columns):\n",
      " #   Column   Non-Null Count   Dtype  \n",
      "---  ------   --------------   -----  \n",
      " 0   id       100000 non-null  object \n",
      " 1   f0       100000 non-null  float64\n",
      " 2   f1       100000 non-null  float64\n",
      " 3   f2       100000 non-null  float64\n",
      " 4   product  100000 non-null  float64\n",
      "dtypes: float64(4), object(1)\n",
      "memory usage: 3.8+ MB\n"
     ]
    }
   ],
   "source": [
    "# Ver info del df\n",
    "df_1.info()"
   ]
  },
  {
   "cell_type": "code",
   "execution_count": null,
   "metadata": {
    "trusted": true
   },
   "outputs": [
    {
     "data": {
      "text/plain": [
       "5ltQ6    2\n",
       "wt4Uk    2\n",
       "bfPNe    2\n",
       "LHZR0    2\n",
       "V2Hwu    1\n",
       "WIZvW    1\n",
       "XSCRU    1\n",
       "blc3h    1\n",
       "Name: id, dtype: int64"
      ]
     },
     "execution_count": 13,
     "metadata": {},
     "output_type": "execute_result"
    }
   ],
   "source": [
    "# Identificar los IDs duplicados\n",
    "df_1['id'].value_counts().head(8)"
   ]
  },
  {
   "cell_type": "code",
   "execution_count": null,
   "metadata": {
    "trusted": true
   },
   "outputs": [
    {
     "data": {
      "text/html": [
       "<div>\n",
       "<style scoped>\n",
       "    .dataframe tbody tr th:only-of-type {\n",
       "        vertical-align: middle;\n",
       "    }\n",
       "\n",
       "    .dataframe tbody tr th {\n",
       "        vertical-align: top;\n",
       "    }\n",
       "\n",
       "    .dataframe thead th {\n",
       "        text-align: right;\n",
       "    }\n",
       "</style>\n",
       "<table border=\"1\" class=\"dataframe\">\n",
       "  <thead>\n",
       "    <tr style=\"text-align: right;\">\n",
       "      <th></th>\n",
       "      <th>id</th>\n",
       "      <th>f0</th>\n",
       "      <th>f1</th>\n",
       "      <th>f2</th>\n",
       "      <th>product</th>\n",
       "    </tr>\n",
       "  </thead>\n",
       "  <tbody>\n",
       "    <tr>\n",
       "      <th>5849</th>\n",
       "      <td>5ltQ6</td>\n",
       "      <td>-3.435401</td>\n",
       "      <td>-12.296043</td>\n",
       "      <td>1.999796</td>\n",
       "      <td>57.085625</td>\n",
       "    </tr>\n",
       "    <tr>\n",
       "      <th>84461</th>\n",
       "      <td>5ltQ6</td>\n",
       "      <td>18.213839</td>\n",
       "      <td>2.191999</td>\n",
       "      <td>3.993869</td>\n",
       "      <td>107.813044</td>\n",
       "    </tr>\n",
       "    <tr>\n",
       "      <th>1305</th>\n",
       "      <td>LHZR0</td>\n",
       "      <td>11.170835</td>\n",
       "      <td>-1.945066</td>\n",
       "      <td>3.002872</td>\n",
       "      <td>80.859783</td>\n",
       "    </tr>\n",
       "    <tr>\n",
       "      <th>41906</th>\n",
       "      <td>LHZR0</td>\n",
       "      <td>-8.989672</td>\n",
       "      <td>-4.286607</td>\n",
       "      <td>2.009139</td>\n",
       "      <td>57.085625</td>\n",
       "    </tr>\n",
       "    <tr>\n",
       "      <th>2721</th>\n",
       "      <td>bfPNe</td>\n",
       "      <td>-9.494442</td>\n",
       "      <td>-5.463692</td>\n",
       "      <td>4.006042</td>\n",
       "      <td>110.992147</td>\n",
       "    </tr>\n",
       "    <tr>\n",
       "      <th>82178</th>\n",
       "      <td>bfPNe</td>\n",
       "      <td>-6.202799</td>\n",
       "      <td>-4.820045</td>\n",
       "      <td>2.995107</td>\n",
       "      <td>84.038886</td>\n",
       "    </tr>\n",
       "    <tr>\n",
       "      <th>47591</th>\n",
       "      <td>wt4Uk</td>\n",
       "      <td>-9.091098</td>\n",
       "      <td>-8.109279</td>\n",
       "      <td>-0.002314</td>\n",
       "      <td>3.179103</td>\n",
       "    </tr>\n",
       "    <tr>\n",
       "      <th>82873</th>\n",
       "      <td>wt4Uk</td>\n",
       "      <td>10.259972</td>\n",
       "      <td>-9.376355</td>\n",
       "      <td>4.994297</td>\n",
       "      <td>134.766305</td>\n",
       "    </tr>\n",
       "  </tbody>\n",
       "</table>\n",
       "</div>"
      ],
      "text/plain": [
       "          id         f0         f1        f2     product\n",
       "5849   5ltQ6  -3.435401 -12.296043  1.999796   57.085625\n",
       "84461  5ltQ6  18.213839   2.191999  3.993869  107.813044\n",
       "1305   LHZR0  11.170835  -1.945066  3.002872   80.859783\n",
       "41906  LHZR0  -8.989672  -4.286607  2.009139   57.085625\n",
       "2721   bfPNe  -9.494442  -5.463692  4.006042  110.992147\n",
       "82178  bfPNe  -6.202799  -4.820045  2.995107   84.038886\n",
       "47591  wt4Uk  -9.091098  -8.109279 -0.002314    3.179103\n",
       "82873  wt4Uk  10.259972  -9.376355  4.994297  134.766305"
      ]
     },
     "execution_count": 14,
     "metadata": {},
     "output_type": "execute_result"
    }
   ],
   "source": [
    "# Filas de los IDs duplicados\n",
    "df_1[df_1['id'].duplicated(keep=False)].sort_values('id')"
   ]
  },
  {
   "cell_type": "code",
   "execution_count": null,
   "metadata": {
    "trusted": true
   },
   "outputs": [
    {
     "data": {
      "text/html": [
       "<div>\n",
       "<style scoped>\n",
       "    .dataframe tbody tr th:only-of-type {\n",
       "        vertical-align: middle;\n",
       "    }\n",
       "\n",
       "    .dataframe tbody tr th {\n",
       "        vertical-align: top;\n",
       "    }\n",
       "\n",
       "    .dataframe thead th {\n",
       "        text-align: right;\n",
       "    }\n",
       "</style>\n",
       "<table border=\"1\" class=\"dataframe\">\n",
       "  <thead>\n",
       "    <tr style=\"text-align: right;\">\n",
       "      <th></th>\n",
       "      <th>id</th>\n",
       "      <th>f0</th>\n",
       "      <th>f1</th>\n",
       "      <th>f2</th>\n",
       "      <th>product</th>\n",
       "    </tr>\n",
       "  </thead>\n",
       "  <tbody>\n",
       "    <tr>\n",
       "      <th>53864</th>\n",
       "      <td>MzRzn</td>\n",
       "      <td>2.901352</td>\n",
       "      <td>-3.475398</td>\n",
       "      <td>5.001393</td>\n",
       "      <td>137.945408</td>\n",
       "    </tr>\n",
       "    <tr>\n",
       "      <th>97083</th>\n",
       "      <td>nW6eC</td>\n",
       "      <td>-4.030430</td>\n",
       "      <td>-14.020643</td>\n",
       "      <td>5.009571</td>\n",
       "      <td>137.945408</td>\n",
       "    </tr>\n",
       "    <tr>\n",
       "      <th>88340</th>\n",
       "      <td>xwJzQ</td>\n",
       "      <td>-3.373117</td>\n",
       "      <td>-9.227661</td>\n",
       "      <td>4.994369</td>\n",
       "      <td>137.945408</td>\n",
       "    </tr>\n",
       "    <tr>\n",
       "      <th>64879</th>\n",
       "      <td>Xd8DC</td>\n",
       "      <td>-5.360281</td>\n",
       "      <td>-2.388204</td>\n",
       "      <td>5.001439</td>\n",
       "      <td>137.945408</td>\n",
       "    </tr>\n",
       "    <tr>\n",
       "      <th>7288</th>\n",
       "      <td>Stdrb</td>\n",
       "      <td>-8.058661</td>\n",
       "      <td>-2.244840</td>\n",
       "      <td>5.000753</td>\n",
       "      <td>137.945408</td>\n",
       "    </tr>\n",
       "    <tr>\n",
       "      <th>64875</th>\n",
       "      <td>ImlRy</td>\n",
       "      <td>-8.847193</td>\n",
       "      <td>-11.074386</td>\n",
       "      <td>5.003542</td>\n",
       "      <td>137.945408</td>\n",
       "    </tr>\n",
       "    <tr>\n",
       "      <th>16302</th>\n",
       "      <td>WzBhx</td>\n",
       "      <td>-12.857300</td>\n",
       "      <td>-8.330972</td>\n",
       "      <td>5.000053</td>\n",
       "      <td>137.945408</td>\n",
       "    </tr>\n",
       "    <tr>\n",
       "      <th>7293</th>\n",
       "      <td>qqyeH</td>\n",
       "      <td>-12.480495</td>\n",
       "      <td>-6.341109</td>\n",
       "      <td>4.991407</td>\n",
       "      <td>137.945408</td>\n",
       "    </tr>\n",
       "    <tr>\n",
       "      <th>40368</th>\n",
       "      <td>c0mBf</td>\n",
       "      <td>-3.376110</td>\n",
       "      <td>-8.685217</td>\n",
       "      <td>5.008846</td>\n",
       "      <td>137.945408</td>\n",
       "    </tr>\n",
       "    <tr>\n",
       "      <th>40388</th>\n",
       "      <td>tlA9U</td>\n",
       "      <td>4.209045</td>\n",
       "      <td>-3.083070</td>\n",
       "      <td>5.000436</td>\n",
       "      <td>137.945408</td>\n",
       "    </tr>\n",
       "    <tr>\n",
       "      <th>64645</th>\n",
       "      <td>VxhHZ</td>\n",
       "      <td>-2.471427</td>\n",
       "      <td>-7.754301</td>\n",
       "      <td>5.003066</td>\n",
       "      <td>137.945408</td>\n",
       "    </tr>\n",
       "    <tr>\n",
       "      <th>97084</th>\n",
       "      <td>00Fc3</td>\n",
       "      <td>-7.980383</td>\n",
       "      <td>-10.563682</td>\n",
       "      <td>4.996394</td>\n",
       "      <td>137.945408</td>\n",
       "    </tr>\n",
       "    <tr>\n",
       "      <th>7299</th>\n",
       "      <td>7RXWQ</td>\n",
       "      <td>-13.245414</td>\n",
       "      <td>0.233046</td>\n",
       "      <td>5.009939</td>\n",
       "      <td>137.945408</td>\n",
       "    </tr>\n",
       "    <tr>\n",
       "      <th>88343</th>\n",
       "      <td>3MW0F</td>\n",
       "      <td>-3.221055</td>\n",
       "      <td>-9.225833</td>\n",
       "      <td>5.004203</td>\n",
       "      <td>137.945408</td>\n",
       "    </tr>\n",
       "    <tr>\n",
       "      <th>64844</th>\n",
       "      <td>WKq1R</td>\n",
       "      <td>-15.639467</td>\n",
       "      <td>-7.503437</td>\n",
       "      <td>4.998247</td>\n",
       "      <td>137.945408</td>\n",
       "    </tr>\n",
       "  </tbody>\n",
       "</table>\n",
       "</div>"
      ],
      "text/plain": [
       "          id         f0         f1        f2     product\n",
       "53864  MzRzn   2.901352  -3.475398  5.001393  137.945408\n",
       "97083  nW6eC  -4.030430 -14.020643  5.009571  137.945408\n",
       "88340  xwJzQ  -3.373117  -9.227661  4.994369  137.945408\n",
       "64879  Xd8DC  -5.360281  -2.388204  5.001439  137.945408\n",
       "7288   Stdrb  -8.058661  -2.244840  5.000753  137.945408\n",
       "64875  ImlRy  -8.847193 -11.074386  5.003542  137.945408\n",
       "16302  WzBhx -12.857300  -8.330972  5.000053  137.945408\n",
       "7293   qqyeH -12.480495  -6.341109  4.991407  137.945408\n",
       "40368  c0mBf  -3.376110  -8.685217  5.008846  137.945408\n",
       "40388  tlA9U   4.209045  -3.083070  5.000436  137.945408\n",
       "64645  VxhHZ  -2.471427  -7.754301  5.003066  137.945408\n",
       "97084  00Fc3  -7.980383 -10.563682  4.996394  137.945408\n",
       "7299   7RXWQ -13.245414   0.233046  5.009939  137.945408\n",
       "88343  3MW0F  -3.221055  -9.225833  5.004203  137.945408\n",
       "64844  WKq1R -15.639467  -7.503437  4.998247  137.945408"
      ]
     },
     "execution_count": 15,
     "metadata": {},
     "output_type": "execute_result"
    }
   ],
   "source": [
    "# Ver filas en función de la columna product\n",
    "df_1.sort_values(by='product', ascending=False).head(15)"
   ]
  },
  {
   "cell_type": "code",
   "execution_count": 16,
   "metadata": {
    "trusted": true
   },
   "outputs": [
    {
     "data": {
      "text/html": [
       "<div>\n",
       "<style scoped>\n",
       "    .dataframe tbody tr th:only-of-type {\n",
       "        vertical-align: middle;\n",
       "    }\n",
       "\n",
       "    .dataframe tbody tr th {\n",
       "        vertical-align: top;\n",
       "    }\n",
       "\n",
       "    .dataframe thead th {\n",
       "        text-align: right;\n",
       "    }\n",
       "</style>\n",
       "<table border=\"1\" class=\"dataframe\">\n",
       "  <thead>\n",
       "    <tr style=\"text-align: right;\">\n",
       "      <th></th>\n",
       "      <th>id</th>\n",
       "      <th>f0</th>\n",
       "      <th>f1</th>\n",
       "      <th>f2</th>\n",
       "      <th>product</th>\n",
       "    </tr>\n",
       "  </thead>\n",
       "  <tbody>\n",
       "    <tr>\n",
       "      <th>0</th>\n",
       "      <td>fwXo0</td>\n",
       "      <td>-1.146987</td>\n",
       "      <td>0.963328</td>\n",
       "      <td>-0.828965</td>\n",
       "      <td>27.758673</td>\n",
       "    </tr>\n",
       "    <tr>\n",
       "      <th>1</th>\n",
       "      <td>WJtFt</td>\n",
       "      <td>0.262778</td>\n",
       "      <td>0.269839</td>\n",
       "      <td>-2.530187</td>\n",
       "      <td>56.069697</td>\n",
       "    </tr>\n",
       "    <tr>\n",
       "      <th>2</th>\n",
       "      <td>ovLUW</td>\n",
       "      <td>0.194587</td>\n",
       "      <td>0.289035</td>\n",
       "      <td>-5.586433</td>\n",
       "      <td>62.871910</td>\n",
       "    </tr>\n",
       "    <tr>\n",
       "      <th>3</th>\n",
       "      <td>q6cA6</td>\n",
       "      <td>2.236060</td>\n",
       "      <td>-0.553760</td>\n",
       "      <td>0.930038</td>\n",
       "      <td>114.572842</td>\n",
       "    </tr>\n",
       "    <tr>\n",
       "      <th>4</th>\n",
       "      <td>WPMUX</td>\n",
       "      <td>-0.515993</td>\n",
       "      <td>1.716266</td>\n",
       "      <td>5.899011</td>\n",
       "      <td>149.600746</td>\n",
       "    </tr>\n",
       "    <tr>\n",
       "      <th>...</th>\n",
       "      <td>...</td>\n",
       "      <td>...</td>\n",
       "      <td>...</td>\n",
       "      <td>...</td>\n",
       "      <td>...</td>\n",
       "    </tr>\n",
       "    <tr>\n",
       "      <th>99995</th>\n",
       "      <td>4GxBu</td>\n",
       "      <td>-1.777037</td>\n",
       "      <td>1.125220</td>\n",
       "      <td>6.263374</td>\n",
       "      <td>172.327046</td>\n",
       "    </tr>\n",
       "    <tr>\n",
       "      <th>99996</th>\n",
       "      <td>YKFjq</td>\n",
       "      <td>-1.261523</td>\n",
       "      <td>-0.894828</td>\n",
       "      <td>2.524545</td>\n",
       "      <td>138.748846</td>\n",
       "    </tr>\n",
       "    <tr>\n",
       "      <th>99997</th>\n",
       "      <td>tKPY3</td>\n",
       "      <td>-1.199934</td>\n",
       "      <td>-2.957637</td>\n",
       "      <td>5.219411</td>\n",
       "      <td>157.080080</td>\n",
       "    </tr>\n",
       "    <tr>\n",
       "      <th>99998</th>\n",
       "      <td>nmxp2</td>\n",
       "      <td>-2.419896</td>\n",
       "      <td>2.417221</td>\n",
       "      <td>-5.548444</td>\n",
       "      <td>51.795253</td>\n",
       "    </tr>\n",
       "    <tr>\n",
       "      <th>99999</th>\n",
       "      <td>V9kWn</td>\n",
       "      <td>-2.551421</td>\n",
       "      <td>-2.025625</td>\n",
       "      <td>6.090891</td>\n",
       "      <td>102.775767</td>\n",
       "    </tr>\n",
       "  </tbody>\n",
       "</table>\n",
       "<p>100000 rows × 5 columns</p>\n",
       "</div>"
      ],
      "text/plain": [
       "          id        f0        f1        f2     product\n",
       "0      fwXo0 -1.146987  0.963328 -0.828965   27.758673\n",
       "1      WJtFt  0.262778  0.269839 -2.530187   56.069697\n",
       "2      ovLUW  0.194587  0.289035 -5.586433   62.871910\n",
       "3      q6cA6  2.236060 -0.553760  0.930038  114.572842\n",
       "4      WPMUX -0.515993  1.716266  5.899011  149.600746\n",
       "...      ...       ...       ...       ...         ...\n",
       "99995  4GxBu -1.777037  1.125220  6.263374  172.327046\n",
       "99996  YKFjq -1.261523 -0.894828  2.524545  138.748846\n",
       "99997  tKPY3 -1.199934 -2.957637  5.219411  157.080080\n",
       "99998  nmxp2 -2.419896  2.417221 -5.548444   51.795253\n",
       "99999  V9kWn -2.551421 -2.025625  6.090891  102.775767\n",
       "\n",
       "[100000 rows x 5 columns]"
      ]
     },
     "execution_count": 16,
     "metadata": {},
     "output_type": "execute_result"
    }
   ],
   "source": [
    "# Cargar los datos\n",
    "df_2 = pd.read_csv(\"/datasets/geo_data_2.csv\")\n",
    "df_2"
   ]
  },
  {
   "cell_type": "code",
   "execution_count": 17,
   "metadata": {
    "trusted": true
   },
   "outputs": [
    {
     "data": {
      "text/plain": [
       "(100000, 5)"
      ]
     },
     "execution_count": 17,
     "metadata": {},
     "output_type": "execute_result"
    }
   ],
   "source": [
    "df_2.shape"
   ]
  },
  {
   "cell_type": "code",
   "execution_count": null,
   "metadata": {
    "trusted": true
   },
   "outputs": [
    {
     "data": {
      "text/plain": [
       "99996"
      ]
     },
     "execution_count": 18,
     "metadata": {},
     "output_type": "execute_result"
    }
   ],
   "source": [
    "# Ver los IDs únicos\n",
    "df_2['id'].nunique()"
   ]
  },
  {
   "cell_type": "code",
   "execution_count": 19,
   "metadata": {
    "trusted": true
   },
   "outputs": [
    {
     "name": "stdout",
     "output_type": "stream",
     "text": [
      "<class 'pandas.core.frame.DataFrame'>\n",
      "RangeIndex: 100000 entries, 0 to 99999\n",
      "Data columns (total 5 columns):\n",
      " #   Column   Non-Null Count   Dtype  \n",
      "---  ------   --------------   -----  \n",
      " 0   id       100000 non-null  object \n",
      " 1   f0       100000 non-null  float64\n",
      " 2   f1       100000 non-null  float64\n",
      " 3   f2       100000 non-null  float64\n",
      " 4   product  100000 non-null  float64\n",
      "dtypes: float64(4), object(1)\n",
      "memory usage: 3.8+ MB\n"
     ]
    }
   ],
   "source": [
    "df_2.info()"
   ]
  },
  {
   "cell_type": "code",
   "execution_count": null,
   "metadata": {
    "trusted": true
   },
   "outputs": [
    {
     "data": {
      "text/plain": [
       "VF7Jo    2\n",
       "Vcm5J    2\n",
       "KUPhW    2\n",
       "xCHr8    2\n",
       "K1jRp    1\n",
       "CndeH    1\n",
       "tqWLB    1\n",
       "os3fe    1\n",
       "Name: id, dtype: int64"
      ]
     },
     "execution_count": 20,
     "metadata": {},
     "output_type": "execute_result"
    }
   ],
   "source": [
    "# Identificar los IDs duplicados\n",
    "df_2['id'].value_counts().head(8)"
   ]
  },
  {
   "cell_type": "code",
   "execution_count": null,
   "metadata": {
    "trusted": true
   },
   "outputs": [
    {
     "data": {
      "text/html": [
       "<div>\n",
       "<style scoped>\n",
       "    .dataframe tbody tr th:only-of-type {\n",
       "        vertical-align: middle;\n",
       "    }\n",
       "\n",
       "    .dataframe tbody tr th {\n",
       "        vertical-align: top;\n",
       "    }\n",
       "\n",
       "    .dataframe thead th {\n",
       "        text-align: right;\n",
       "    }\n",
       "</style>\n",
       "<table border=\"1\" class=\"dataframe\">\n",
       "  <thead>\n",
       "    <tr style=\"text-align: right;\">\n",
       "      <th></th>\n",
       "      <th>id</th>\n",
       "      <th>f0</th>\n",
       "      <th>f1</th>\n",
       "      <th>f2</th>\n",
       "      <th>product</th>\n",
       "    </tr>\n",
       "  </thead>\n",
       "  <tbody>\n",
       "    <tr>\n",
       "      <th>45404</th>\n",
       "      <td>KUPhW</td>\n",
       "      <td>0.231846</td>\n",
       "      <td>-1.698941</td>\n",
       "      <td>4.990775</td>\n",
       "      <td>11.716299</td>\n",
       "    </tr>\n",
       "    <tr>\n",
       "      <th>55967</th>\n",
       "      <td>KUPhW</td>\n",
       "      <td>1.211150</td>\n",
       "      <td>3.176408</td>\n",
       "      <td>5.543540</td>\n",
       "      <td>132.831802</td>\n",
       "    </tr>\n",
       "    <tr>\n",
       "      <th>11449</th>\n",
       "      <td>VF7Jo</td>\n",
       "      <td>2.122656</td>\n",
       "      <td>-0.858275</td>\n",
       "      <td>5.746001</td>\n",
       "      <td>181.716817</td>\n",
       "    </tr>\n",
       "    <tr>\n",
       "      <th>49564</th>\n",
       "      <td>VF7Jo</td>\n",
       "      <td>-0.883115</td>\n",
       "      <td>0.560537</td>\n",
       "      <td>0.723601</td>\n",
       "      <td>136.233420</td>\n",
       "    </tr>\n",
       "    <tr>\n",
       "      <th>44378</th>\n",
       "      <td>Vcm5J</td>\n",
       "      <td>-1.229484</td>\n",
       "      <td>-2.439204</td>\n",
       "      <td>1.222909</td>\n",
       "      <td>137.968290</td>\n",
       "    </tr>\n",
       "    <tr>\n",
       "      <th>95090</th>\n",
       "      <td>Vcm5J</td>\n",
       "      <td>2.587702</td>\n",
       "      <td>1.986875</td>\n",
       "      <td>2.482245</td>\n",
       "      <td>92.327572</td>\n",
       "    </tr>\n",
       "    <tr>\n",
       "      <th>28039</th>\n",
       "      <td>xCHr8</td>\n",
       "      <td>1.633027</td>\n",
       "      <td>0.368135</td>\n",
       "      <td>-2.378367</td>\n",
       "      <td>6.120525</td>\n",
       "    </tr>\n",
       "    <tr>\n",
       "      <th>43233</th>\n",
       "      <td>xCHr8</td>\n",
       "      <td>-0.847066</td>\n",
       "      <td>2.101796</td>\n",
       "      <td>5.597130</td>\n",
       "      <td>184.388641</td>\n",
       "    </tr>\n",
       "  </tbody>\n",
       "</table>\n",
       "</div>"
      ],
      "text/plain": [
       "          id        f0        f1        f2     product\n",
       "45404  KUPhW  0.231846 -1.698941  4.990775   11.716299\n",
       "55967  KUPhW  1.211150  3.176408  5.543540  132.831802\n",
       "11449  VF7Jo  2.122656 -0.858275  5.746001  181.716817\n",
       "49564  VF7Jo -0.883115  0.560537  0.723601  136.233420\n",
       "44378  Vcm5J -1.229484 -2.439204  1.222909  137.968290\n",
       "95090  Vcm5J  2.587702  1.986875  2.482245   92.327572\n",
       "28039  xCHr8  1.633027  0.368135 -2.378367    6.120525\n",
       "43233  xCHr8 -0.847066  2.101796  5.597130  184.388641"
      ]
     },
     "execution_count": 21,
     "metadata": {},
     "output_type": "execute_result"
    }
   ],
   "source": [
    "# Ver las filas duplicadas\n",
    "df_2[df_2['id'].duplicated(keep=False)].sort_values('id')"
   ]
  },
  {
   "cell_type": "code",
   "execution_count": null,
   "metadata": {
    "trusted": true
   },
   "outputs": [
    {
     "data": {
      "text/html": [
       "<div>\n",
       "<style scoped>\n",
       "    .dataframe tbody tr th:only-of-type {\n",
       "        vertical-align: middle;\n",
       "    }\n",
       "\n",
       "    .dataframe tbody tr th {\n",
       "        vertical-align: top;\n",
       "    }\n",
       "\n",
       "    .dataframe thead th {\n",
       "        text-align: right;\n",
       "    }\n",
       "</style>\n",
       "<table border=\"1\" class=\"dataframe\">\n",
       "  <thead>\n",
       "    <tr style=\"text-align: right;\">\n",
       "      <th></th>\n",
       "      <th>id</th>\n",
       "      <th>f0</th>\n",
       "      <th>f1</th>\n",
       "      <th>f2</th>\n",
       "      <th>product</th>\n",
       "    </tr>\n",
       "  </thead>\n",
       "  <tbody>\n",
       "    <tr>\n",
       "      <th>53864</th>\n",
       "      <td>MzRzn</td>\n",
       "      <td>2.901352</td>\n",
       "      <td>-3.475398</td>\n",
       "      <td>5.001393</td>\n",
       "      <td>137.945408</td>\n",
       "    </tr>\n",
       "    <tr>\n",
       "      <th>97083</th>\n",
       "      <td>nW6eC</td>\n",
       "      <td>-4.030430</td>\n",
       "      <td>-14.020643</td>\n",
       "      <td>5.009571</td>\n",
       "      <td>137.945408</td>\n",
       "    </tr>\n",
       "    <tr>\n",
       "      <th>88340</th>\n",
       "      <td>xwJzQ</td>\n",
       "      <td>-3.373117</td>\n",
       "      <td>-9.227661</td>\n",
       "      <td>4.994369</td>\n",
       "      <td>137.945408</td>\n",
       "    </tr>\n",
       "    <tr>\n",
       "      <th>64879</th>\n",
       "      <td>Xd8DC</td>\n",
       "      <td>-5.360281</td>\n",
       "      <td>-2.388204</td>\n",
       "      <td>5.001439</td>\n",
       "      <td>137.945408</td>\n",
       "    </tr>\n",
       "    <tr>\n",
       "      <th>7288</th>\n",
       "      <td>Stdrb</td>\n",
       "      <td>-8.058661</td>\n",
       "      <td>-2.244840</td>\n",
       "      <td>5.000753</td>\n",
       "      <td>137.945408</td>\n",
       "    </tr>\n",
       "    <tr>\n",
       "      <th>64875</th>\n",
       "      <td>ImlRy</td>\n",
       "      <td>-8.847193</td>\n",
       "      <td>-11.074386</td>\n",
       "      <td>5.003542</td>\n",
       "      <td>137.945408</td>\n",
       "    </tr>\n",
       "    <tr>\n",
       "      <th>16302</th>\n",
       "      <td>WzBhx</td>\n",
       "      <td>-12.857300</td>\n",
       "      <td>-8.330972</td>\n",
       "      <td>5.000053</td>\n",
       "      <td>137.945408</td>\n",
       "    </tr>\n",
       "    <tr>\n",
       "      <th>7293</th>\n",
       "      <td>qqyeH</td>\n",
       "      <td>-12.480495</td>\n",
       "      <td>-6.341109</td>\n",
       "      <td>4.991407</td>\n",
       "      <td>137.945408</td>\n",
       "    </tr>\n",
       "    <tr>\n",
       "      <th>40368</th>\n",
       "      <td>c0mBf</td>\n",
       "      <td>-3.376110</td>\n",
       "      <td>-8.685217</td>\n",
       "      <td>5.008846</td>\n",
       "      <td>137.945408</td>\n",
       "    </tr>\n",
       "    <tr>\n",
       "      <th>40388</th>\n",
       "      <td>tlA9U</td>\n",
       "      <td>4.209045</td>\n",
       "      <td>-3.083070</td>\n",
       "      <td>5.000436</td>\n",
       "      <td>137.945408</td>\n",
       "    </tr>\n",
       "    <tr>\n",
       "      <th>64645</th>\n",
       "      <td>VxhHZ</td>\n",
       "      <td>-2.471427</td>\n",
       "      <td>-7.754301</td>\n",
       "      <td>5.003066</td>\n",
       "      <td>137.945408</td>\n",
       "    </tr>\n",
       "    <tr>\n",
       "      <th>97084</th>\n",
       "      <td>00Fc3</td>\n",
       "      <td>-7.980383</td>\n",
       "      <td>-10.563682</td>\n",
       "      <td>4.996394</td>\n",
       "      <td>137.945408</td>\n",
       "    </tr>\n",
       "    <tr>\n",
       "      <th>7299</th>\n",
       "      <td>7RXWQ</td>\n",
       "      <td>-13.245414</td>\n",
       "      <td>0.233046</td>\n",
       "      <td>5.009939</td>\n",
       "      <td>137.945408</td>\n",
       "    </tr>\n",
       "    <tr>\n",
       "      <th>88343</th>\n",
       "      <td>3MW0F</td>\n",
       "      <td>-3.221055</td>\n",
       "      <td>-9.225833</td>\n",
       "      <td>5.004203</td>\n",
       "      <td>137.945408</td>\n",
       "    </tr>\n",
       "    <tr>\n",
       "      <th>64844</th>\n",
       "      <td>WKq1R</td>\n",
       "      <td>-15.639467</td>\n",
       "      <td>-7.503437</td>\n",
       "      <td>4.998247</td>\n",
       "      <td>137.945408</td>\n",
       "    </tr>\n",
       "  </tbody>\n",
       "</table>\n",
       "</div>"
      ],
      "text/plain": [
       "          id         f0         f1        f2     product\n",
       "53864  MzRzn   2.901352  -3.475398  5.001393  137.945408\n",
       "97083  nW6eC  -4.030430 -14.020643  5.009571  137.945408\n",
       "88340  xwJzQ  -3.373117  -9.227661  4.994369  137.945408\n",
       "64879  Xd8DC  -5.360281  -2.388204  5.001439  137.945408\n",
       "7288   Stdrb  -8.058661  -2.244840  5.000753  137.945408\n",
       "64875  ImlRy  -8.847193 -11.074386  5.003542  137.945408\n",
       "16302  WzBhx -12.857300  -8.330972  5.000053  137.945408\n",
       "7293   qqyeH -12.480495  -6.341109  4.991407  137.945408\n",
       "40368  c0mBf  -3.376110  -8.685217  5.008846  137.945408\n",
       "40388  tlA9U   4.209045  -3.083070  5.000436  137.945408\n",
       "64645  VxhHZ  -2.471427  -7.754301  5.003066  137.945408\n",
       "97084  00Fc3  -7.980383 -10.563682  4.996394  137.945408\n",
       "7299   7RXWQ -13.245414   0.233046  5.009939  137.945408\n",
       "88343  3MW0F  -3.221055  -9.225833  5.004203  137.945408\n",
       "64844  WKq1R -15.639467  -7.503437  4.998247  137.945408"
      ]
     },
     "execution_count": 22,
     "metadata": {},
     "output_type": "execute_result"
    }
   ],
   "source": [
    "# Ordenar filas en función de la columna product\n",
    "df_1.sort_values(by='product', ascending=False).head(15)"
   ]
  },
  {
   "cell_type": "markdown",
   "metadata": {},
   "source": [
    "# 2. Entrenamiento y prueba del modelo para cada región"
   ]
  },
  {
   "cell_type": "markdown",
   "metadata": {},
   "source": [
    "# geo_data_0.csv"
   ]
  },
  {
   "cell_type": "code",
   "execution_count": 23,
   "metadata": {
    "trusted": true
   },
   "outputs": [
    {
     "name": "stdout",
     "output_type": "stream",
     "text": [
      "(75000, 3)\n",
      "(25000, 3)\n",
      "(75000,)\n",
      "(25000,)\n"
     ]
    }
   ],
   "source": [
    "# División de los datos en un conjunto de entrenamiento y uno de validación\n",
    "target_0 = df_0['product']\n",
    "features_0 = df_0.drop(['id','product'],axis=1)\n",
    "\n",
    "features_train_0, features_valid_0, target_train_0, target_valid_0 = train_test_split(\n",
    "    features_0, target_0, test_size=0.25, random_state=12345)\n",
    "\n",
    "print(features_train_0.shape)\n",
    "print(features_valid_0.shape)\n",
    "print(target_train_0.shape)\n",
    "print(target_valid_0.shape)"
   ]
  },
  {
   "cell_type": "code",
   "execution_count": 24,
   "metadata": {
    "trusted": true
   },
   "outputs": [],
   "source": [
    "# Entrenamiento del modelo y predicciones para el conjunto de validación\n",
    "model_0 = LinearRegression()\n",
    "model_0.fit(features_train_0,target_train_0)\n",
    "predicted_value_0 = model_0.predict(features_valid_0)"
   ]
  },
  {
   "cell_type": "code",
   "execution_count": 25,
   "metadata": {
    "trusted": true
   },
   "outputs": [
    {
     "data": {
      "text/html": [
       "<div>\n",
       "<style scoped>\n",
       "    .dataframe tbody tr th:only-of-type {\n",
       "        vertical-align: middle;\n",
       "    }\n",
       "\n",
       "    .dataframe tbody tr th {\n",
       "        vertical-align: top;\n",
       "    }\n",
       "\n",
       "    .dataframe thead th {\n",
       "        text-align: right;\n",
       "    }\n",
       "</style>\n",
       "<table border=\"1\" class=\"dataframe\">\n",
       "  <thead>\n",
       "    <tr style=\"text-align: right;\">\n",
       "      <th></th>\n",
       "      <th>Actual</th>\n",
       "      <th>Predicted</th>\n",
       "    </tr>\n",
       "  </thead>\n",
       "  <tbody>\n",
       "    <tr>\n",
       "      <th>71751</th>\n",
       "      <td>10.038645</td>\n",
       "      <td>95.894952</td>\n",
       "    </tr>\n",
       "    <tr>\n",
       "      <th>80493</th>\n",
       "      <td>114.551489</td>\n",
       "      <td>77.572583</td>\n",
       "    </tr>\n",
       "    <tr>\n",
       "      <th>2655</th>\n",
       "      <td>132.603635</td>\n",
       "      <td>77.892640</td>\n",
       "    </tr>\n",
       "    <tr>\n",
       "      <th>53233</th>\n",
       "      <td>169.072125</td>\n",
       "      <td>90.175134</td>\n",
       "    </tr>\n",
       "    <tr>\n",
       "      <th>91141</th>\n",
       "      <td>122.325180</td>\n",
       "      <td>70.510088</td>\n",
       "    </tr>\n",
       "    <tr>\n",
       "      <th>...</th>\n",
       "      <td>...</td>\n",
       "      <td>...</td>\n",
       "    </tr>\n",
       "    <tr>\n",
       "      <th>12581</th>\n",
       "      <td>170.116726</td>\n",
       "      <td>103.037104</td>\n",
       "    </tr>\n",
       "    <tr>\n",
       "      <th>18456</th>\n",
       "      <td>93.632175</td>\n",
       "      <td>85.403255</td>\n",
       "    </tr>\n",
       "    <tr>\n",
       "      <th>73035</th>\n",
       "      <td>127.352259</td>\n",
       "      <td>61.509833</td>\n",
       "    </tr>\n",
       "    <tr>\n",
       "      <th>63834</th>\n",
       "      <td>99.782700</td>\n",
       "      <td>118.180397</td>\n",
       "    </tr>\n",
       "    <tr>\n",
       "      <th>43558</th>\n",
       "      <td>177.821022</td>\n",
       "      <td>118.169392</td>\n",
       "    </tr>\n",
       "  </tbody>\n",
       "</table>\n",
       "<p>25000 rows × 2 columns</p>\n",
       "</div>"
      ],
      "text/plain": [
       "           Actual   Predicted\n",
       "71751   10.038645   95.894952\n",
       "80493  114.551489   77.572583\n",
       "2655   132.603635   77.892640\n",
       "53233  169.072125   90.175134\n",
       "91141  122.325180   70.510088\n",
       "...           ...         ...\n",
       "12581  170.116726  103.037104\n",
       "18456   93.632175   85.403255\n",
       "73035  127.352259   61.509833\n",
       "63834   99.782700  118.180397\n",
       "43558  177.821022  118.169392\n",
       "\n",
       "[25000 rows x 2 columns]"
      ]
     },
     "execution_count": 25,
     "metadata": {},
     "output_type": "execute_result"
    }
   ],
   "source": [
    "# Guardar predicciones y respuestas correctas\n",
    "results_0 = pd.DataFrame({\"Actual\": target_valid_0, \"Predicted\": predicted_value_0})\n",
    "results_0"
   ]
  },
  {
   "cell_type": "code",
   "execution_count": 26,
   "metadata": {
    "trusted": true
   },
   "outputs": [
    {
     "name": "stdout",
     "output_type": "stream",
     "text": [
      "92.07859674082927\n"
     ]
    }
   ],
   "source": [
    "print(target_valid_0.mean())"
   ]
  },
  {
   "cell_type": "code",
   "execution_count": 27,
   "metadata": {
    "trusted": true
   },
   "outputs": [
    {
     "name": "stdout",
     "output_type": "stream",
     "text": [
      "Volumen medio de reservas predicho: 92.59\n",
      "RMSE del modelo: 37.58\n"
     ]
    }
   ],
   "source": [
    "# Volumen medio de reservas predicho y RMSE del modelo\n",
    "rmse_0 = np.sqrt(mean_squared_error(target_valid_0, predicted_value_0))\n",
    "\n",
    "# Mostrar resultados\n",
    "print(f\"Volumen medio de reservas predicho: {predicted_value_0.mean():.2f}\")\n",
    "print(f\"RMSE del modelo: {rmse_0:.2f}\")"
   ]
  },
  {
   "cell_type": "code",
   "execution_count": 28,
   "metadata": {
    "trusted": true
   },
   "outputs": [
    {
     "name": "stdout",
     "output_type": "stream",
     "text": [
      "RMSE del modelo base (predice la media): 44.2860\n"
     ]
    }
   ],
   "source": [
    "# Prueba de cordura\n",
    "# Modelo constante: la media se compara al modelo para saber si la regresión está aportando\n",
    "\n",
    "# Calcular la media real del conjunto de validación\n",
    "mean_0 = target_valid_0.mean()\n",
    "\n",
    "# Crear un array con la media como predicción constante\n",
    "mean_prediction_0 = np.full_like(target_valid_0, mean_0)\n",
    "\n",
    "# Calcular el RMSE para el modelo de la media\n",
    "rmse_mean_0 = mean_squared_error(target_valid_0, mean_prediction_0, squared=False)\n",
    "\n",
    "print(f\"RMSE del modelo base (predice la media): {rmse_mean_0:.4f}\")"
   ]
  },
  {
   "cell_type": "code",
   "execution_count": 29,
   "metadata": {
    "trusted": true
   },
   "outputs": [
    {
     "data": {
      "text/html": [
       "<div>\n",
       "<style scoped>\n",
       "    .dataframe tbody tr th:only-of-type {\n",
       "        vertical-align: middle;\n",
       "    }\n",
       "\n",
       "    .dataframe tbody tr th {\n",
       "        vertical-align: top;\n",
       "    }\n",
       "\n",
       "    .dataframe thead th {\n",
       "        text-align: right;\n",
       "    }\n",
       "</style>\n",
       "<table border=\"1\" class=\"dataframe\">\n",
       "  <thead>\n",
       "    <tr style=\"text-align: right;\">\n",
       "      <th></th>\n",
       "      <th>f0</th>\n",
       "      <th>f1</th>\n",
       "      <th>f2</th>\n",
       "      <th>product</th>\n",
       "    </tr>\n",
       "  </thead>\n",
       "  <tbody>\n",
       "    <tr>\n",
       "      <th>count</th>\n",
       "      <td>100000.000000</td>\n",
       "      <td>100000.000000</td>\n",
       "      <td>100000.000000</td>\n",
       "      <td>100000.000000</td>\n",
       "    </tr>\n",
       "    <tr>\n",
       "      <th>mean</th>\n",
       "      <td>0.500419</td>\n",
       "      <td>0.250143</td>\n",
       "      <td>2.502647</td>\n",
       "      <td>92.500000</td>\n",
       "    </tr>\n",
       "    <tr>\n",
       "      <th>std</th>\n",
       "      <td>0.871832</td>\n",
       "      <td>0.504433</td>\n",
       "      <td>3.248248</td>\n",
       "      <td>44.288691</td>\n",
       "    </tr>\n",
       "    <tr>\n",
       "      <th>min</th>\n",
       "      <td>-1.408605</td>\n",
       "      <td>-0.848218</td>\n",
       "      <td>-12.088328</td>\n",
       "      <td>0.000000</td>\n",
       "    </tr>\n",
       "    <tr>\n",
       "      <th>25%</th>\n",
       "      <td>-0.072580</td>\n",
       "      <td>-0.200881</td>\n",
       "      <td>0.287748</td>\n",
       "      <td>56.497507</td>\n",
       "    </tr>\n",
       "    <tr>\n",
       "      <th>50%</th>\n",
       "      <td>0.502360</td>\n",
       "      <td>0.250252</td>\n",
       "      <td>2.515969</td>\n",
       "      <td>91.849972</td>\n",
       "    </tr>\n",
       "    <tr>\n",
       "      <th>75%</th>\n",
       "      <td>1.073581</td>\n",
       "      <td>0.700646</td>\n",
       "      <td>4.715088</td>\n",
       "      <td>128.564089</td>\n",
       "    </tr>\n",
       "    <tr>\n",
       "      <th>max</th>\n",
       "      <td>2.362331</td>\n",
       "      <td>1.343769</td>\n",
       "      <td>16.003790</td>\n",
       "      <td>185.364347</td>\n",
       "    </tr>\n",
       "  </tbody>\n",
       "</table>\n",
       "</div>"
      ],
      "text/plain": [
       "                  f0             f1             f2        product\n",
       "count  100000.000000  100000.000000  100000.000000  100000.000000\n",
       "mean        0.500419       0.250143       2.502647      92.500000\n",
       "std         0.871832       0.504433       3.248248      44.288691\n",
       "min        -1.408605      -0.848218     -12.088328       0.000000\n",
       "25%        -0.072580      -0.200881       0.287748      56.497507\n",
       "50%         0.502360       0.250252       2.515969      91.849972\n",
       "75%         1.073581       0.700646       4.715088     128.564089\n",
       "max         2.362331       1.343769      16.003790     185.364347"
      ]
     },
     "execution_count": 29,
     "metadata": {},
     "output_type": "execute_result"
    }
   ],
   "source": [
    "df_0.describe()"
   ]
  },
  {
   "cell_type": "markdown",
   "metadata": {},
   "source": [
    "Análisis de los resultados: \n",
    "1. El modelo es mejor que una simple media. La regresión lineal ha reducido el error, lo que sugiere que hay alguna relación entre las variables independientes (f0, f1, f2) y la variable objetivo (product), aunque tampoco es muy grande, lo que podría indicar que los patrones en los datos no son completamente lineales. \n",
    "2. Los valores de product varían bastante. El mínimo es 0, mientras que el máximo llega a 185.36. Esto puede significar que hay escenarios donde la predicción puede estar fallando más de lo esperado.\n",
    "3. La mediana (50% en describe()) de product es de 91.85. Esto está bastante cerca de la media (~92.50), lo que indica que la distribución es aproximadamente simétrica.\n",
    "4. El volumen medio de reservas predicho (92.59) es bastante cercano al valor real promedio de product (92.50). Esto sugiere que el modelo al menos captura la tendencia central correctamente."
   ]
  },
  {
   "cell_type": "markdown",
   "metadata": {},
   "source": [
    "# geo_data_1.csv"
   ]
  },
  {
   "cell_type": "code",
   "execution_count": 30,
   "metadata": {
    "trusted": true
   },
   "outputs": [
    {
     "name": "stdout",
     "output_type": "stream",
     "text": [
      "(75000, 3)\n",
      "(25000, 3)\n",
      "(75000,)\n",
      "(25000,)\n"
     ]
    }
   ],
   "source": [
    "# División de los datos en un conjunto de entrenamiento y uno de validación\n",
    "target_1 = df_1['product']\n",
    "features_1 = df_1.drop(['id','product'],axis=1)\n",
    "\n",
    "features_train_1, features_valid_1, target_train_1, target_valid_1 = train_test_split(\n",
    "    features_1, target_1, test_size=0.25, random_state=12345)\n",
    "\n",
    "print(features_train_1.shape)\n",
    "print(features_valid_1.shape)\n",
    "print(target_train_1.shape)\n",
    "print(target_valid_1.shape)"
   ]
  },
  {
   "cell_type": "code",
   "execution_count": 31,
   "metadata": {
    "trusted": true
   },
   "outputs": [],
   "source": [
    "# Entrenamiento del modelo y predicciones para el conjunto de validación\n",
    "model_1 = LinearRegression()\n",
    "model_1.fit(features_train_1,target_train_1)\n",
    "predicted_value_1 = model_1.predict(features_valid_1)"
   ]
  },
  {
   "cell_type": "code",
   "execution_count": 32,
   "metadata": {
    "trusted": true
   },
   "outputs": [
    {
     "data": {
      "text/html": [
       "<div>\n",
       "<style scoped>\n",
       "    .dataframe tbody tr th:only-of-type {\n",
       "        vertical-align: middle;\n",
       "    }\n",
       "\n",
       "    .dataframe tbody tr th {\n",
       "        vertical-align: top;\n",
       "    }\n",
       "\n",
       "    .dataframe thead th {\n",
       "        text-align: right;\n",
       "    }\n",
       "</style>\n",
       "<table border=\"1\" class=\"dataframe\">\n",
       "  <thead>\n",
       "    <tr style=\"text-align: right;\">\n",
       "      <th></th>\n",
       "      <th>Actual</th>\n",
       "      <th>Predicted</th>\n",
       "    </tr>\n",
       "  </thead>\n",
       "  <tbody>\n",
       "    <tr>\n",
       "      <th>71751</th>\n",
       "      <td>80.859783</td>\n",
       "      <td>82.663314</td>\n",
       "    </tr>\n",
       "    <tr>\n",
       "      <th>80493</th>\n",
       "      <td>53.906522</td>\n",
       "      <td>54.431786</td>\n",
       "    </tr>\n",
       "    <tr>\n",
       "      <th>2655</th>\n",
       "      <td>30.132364</td>\n",
       "      <td>29.748760</td>\n",
       "    </tr>\n",
       "    <tr>\n",
       "      <th>53233</th>\n",
       "      <td>53.906522</td>\n",
       "      <td>53.552133</td>\n",
       "    </tr>\n",
       "    <tr>\n",
       "      <th>91141</th>\n",
       "      <td>0.000000</td>\n",
       "      <td>1.243856</td>\n",
       "    </tr>\n",
       "    <tr>\n",
       "      <th>...</th>\n",
       "      <td>...</td>\n",
       "      <td>...</td>\n",
       "    </tr>\n",
       "    <tr>\n",
       "      <th>12581</th>\n",
       "      <td>137.945408</td>\n",
       "      <td>136.869211</td>\n",
       "    </tr>\n",
       "    <tr>\n",
       "      <th>18456</th>\n",
       "      <td>110.992147</td>\n",
       "      <td>110.693465</td>\n",
       "    </tr>\n",
       "    <tr>\n",
       "      <th>73035</th>\n",
       "      <td>137.945408</td>\n",
       "      <td>137.879341</td>\n",
       "    </tr>\n",
       "    <tr>\n",
       "      <th>63834</th>\n",
       "      <td>84.038886</td>\n",
       "      <td>83.761966</td>\n",
       "    </tr>\n",
       "    <tr>\n",
       "      <th>43558</th>\n",
       "      <td>53.906522</td>\n",
       "      <td>53.958466</td>\n",
       "    </tr>\n",
       "  </tbody>\n",
       "</table>\n",
       "<p>25000 rows × 2 columns</p>\n",
       "</div>"
      ],
      "text/plain": [
       "           Actual   Predicted\n",
       "71751   80.859783   82.663314\n",
       "80493   53.906522   54.431786\n",
       "2655    30.132364   29.748760\n",
       "53233   53.906522   53.552133\n",
       "91141    0.000000    1.243856\n",
       "...           ...         ...\n",
       "12581  137.945408  136.869211\n",
       "18456  110.992147  110.693465\n",
       "73035  137.945408  137.879341\n",
       "63834   84.038886   83.761966\n",
       "43558   53.906522   53.958466\n",
       "\n",
       "[25000 rows x 2 columns]"
      ]
     },
     "execution_count": 32,
     "metadata": {},
     "output_type": "execute_result"
    }
   ],
   "source": [
    "# Guardar predicciones y respuestas correctas\n",
    "results_1 = pd.DataFrame({\"Actual\": target_valid_1, \"Predicted\": predicted_value_1})\n",
    "results_1"
   ]
  },
  {
   "cell_type": "code",
   "execution_count": 33,
   "metadata": {
    "trusted": true
   },
   "outputs": [
    {
     "name": "stdout",
     "output_type": "stream",
     "text": [
      "68.72313602435997\n"
     ]
    }
   ],
   "source": [
    "print(target_valid_1.mean())"
   ]
  },
  {
   "cell_type": "code",
   "execution_count": 34,
   "metadata": {
    "trusted": true
   },
   "outputs": [
    {
     "name": "stdout",
     "output_type": "stream",
     "text": [
      "Volumen medio de reservas predicho: 68.7285\n",
      "RMSE del modelo: 0.8931\n"
     ]
    }
   ],
   "source": [
    "# Volumen medio de reservas predicho y RMSE del modelo\n",
    "rmse_1 = np.sqrt(mean_squared_error(target_valid_1, predicted_value_1))\n",
    "\n",
    "# Mostrar resultados\n",
    "print(f\"Volumen medio de reservas predicho: {predicted_value_1.mean():.4f}\")\n",
    "print(f\"RMSE del modelo: {rmse_1:.4f}\")"
   ]
  },
  {
   "cell_type": "code",
   "execution_count": 35,
   "metadata": {
    "trusted": true
   },
   "outputs": [
    {
     "name": "stdout",
     "output_type": "stream",
     "text": [
      "RMSE del modelo base (predice la media): 46.0212\n"
     ]
    }
   ],
   "source": [
    "# Prueba de cordura\n",
    "# Modelo constante: la media se compara al modelo para saber si la regresión está aportando\n",
    "\n",
    "# Calcular la media real del conjunto de validación\n",
    "mean_1 = target_valid_1.mean()\n",
    "\n",
    "# Crear un array con la media como predicción constante\n",
    "mean_prediction_1 = np.full_like(target_valid_1, mean_1)\n",
    "\n",
    "# Calcular el RMSE para el modelo de la media\n",
    "rmse_mean_1 = mean_squared_error(target_valid_1, mean_prediction_1, squared=False)\n",
    "\n",
    "print(f\"RMSE del modelo base (predice la media): {rmse_mean_1:.4f}\")"
   ]
  },
  {
   "cell_type": "code",
   "execution_count": 36,
   "metadata": {
    "trusted": true
   },
   "outputs": [
    {
     "data": {
      "text/html": [
       "<div>\n",
       "<style scoped>\n",
       "    .dataframe tbody tr th:only-of-type {\n",
       "        vertical-align: middle;\n",
       "    }\n",
       "\n",
       "    .dataframe tbody tr th {\n",
       "        vertical-align: top;\n",
       "    }\n",
       "\n",
       "    .dataframe thead th {\n",
       "        text-align: right;\n",
       "    }\n",
       "</style>\n",
       "<table border=\"1\" class=\"dataframe\">\n",
       "  <thead>\n",
       "    <tr style=\"text-align: right;\">\n",
       "      <th></th>\n",
       "      <th>f0</th>\n",
       "      <th>f1</th>\n",
       "      <th>f2</th>\n",
       "      <th>product</th>\n",
       "    </tr>\n",
       "  </thead>\n",
       "  <tbody>\n",
       "    <tr>\n",
       "      <th>count</th>\n",
       "      <td>100000.000000</td>\n",
       "      <td>100000.000000</td>\n",
       "      <td>100000.000000</td>\n",
       "      <td>100000.000000</td>\n",
       "    </tr>\n",
       "    <tr>\n",
       "      <th>mean</th>\n",
       "      <td>1.141296</td>\n",
       "      <td>-4.796579</td>\n",
       "      <td>2.494541</td>\n",
       "      <td>68.825000</td>\n",
       "    </tr>\n",
       "    <tr>\n",
       "      <th>std</th>\n",
       "      <td>8.965932</td>\n",
       "      <td>5.119872</td>\n",
       "      <td>1.703572</td>\n",
       "      <td>45.944423</td>\n",
       "    </tr>\n",
       "    <tr>\n",
       "      <th>min</th>\n",
       "      <td>-31.609576</td>\n",
       "      <td>-26.358598</td>\n",
       "      <td>-0.018144</td>\n",
       "      <td>0.000000</td>\n",
       "    </tr>\n",
       "    <tr>\n",
       "      <th>25%</th>\n",
       "      <td>-6.298551</td>\n",
       "      <td>-8.267985</td>\n",
       "      <td>1.000021</td>\n",
       "      <td>26.953261</td>\n",
       "    </tr>\n",
       "    <tr>\n",
       "      <th>50%</th>\n",
       "      <td>1.153055</td>\n",
       "      <td>-4.813172</td>\n",
       "      <td>2.011479</td>\n",
       "      <td>57.085625</td>\n",
       "    </tr>\n",
       "    <tr>\n",
       "      <th>75%</th>\n",
       "      <td>8.621015</td>\n",
       "      <td>-1.332816</td>\n",
       "      <td>3.999904</td>\n",
       "      <td>107.813044</td>\n",
       "    </tr>\n",
       "    <tr>\n",
       "      <th>max</th>\n",
       "      <td>29.421755</td>\n",
       "      <td>18.734063</td>\n",
       "      <td>5.019721</td>\n",
       "      <td>137.945408</td>\n",
       "    </tr>\n",
       "  </tbody>\n",
       "</table>\n",
       "</div>"
      ],
      "text/plain": [
       "                  f0             f1             f2        product\n",
       "count  100000.000000  100000.000000  100000.000000  100000.000000\n",
       "mean        1.141296      -4.796579       2.494541      68.825000\n",
       "std         8.965932       5.119872       1.703572      45.944423\n",
       "min       -31.609576     -26.358598      -0.018144       0.000000\n",
       "25%        -6.298551      -8.267985       1.000021      26.953261\n",
       "50%         1.153055      -4.813172       2.011479      57.085625\n",
       "75%         8.621015      -1.332816       3.999904     107.813044\n",
       "max        29.421755      18.734063       5.019721     137.945408"
      ]
     },
     "execution_count": 36,
     "metadata": {},
     "output_type": "execute_result"
    }
   ],
   "source": [
    "df_1.describe()"
   ]
  },
  {
   "cell_type": "markdown",
   "metadata": {},
   "source": [
    "El modelo tiene un RMSE del modelo base (que predice la media) de 46.02, mientras que el RMSE del modelo entrenado es de 0.89. Lo que significa una mejora muy significativa del modelo, los datos se ajustan a una distribución lineal. Y mejor aún considerando que la desviación estándar es de 45.94, lo cual indica variablidad. El modelo mantiene la tendencia central."
   ]
  },
  {
   "cell_type": "markdown",
   "metadata": {},
   "source": [
    "# geo_data_2.csv"
   ]
  },
  {
   "cell_type": "code",
   "execution_count": 37,
   "metadata": {
    "trusted": true
   },
   "outputs": [
    {
     "name": "stdout",
     "output_type": "stream",
     "text": [
      "(75000, 3)\n",
      "(25000, 3)\n",
      "(75000,)\n",
      "(25000,)\n"
     ]
    }
   ],
   "source": [
    "# División de los datos en un conjunto de entrenamiento y uno de validación\n",
    "target_2 = df_2['product']\n",
    "features_2 = df_2.drop(['id','product'],axis=1)\n",
    "\n",
    "features_train_2, features_valid_2, target_train_2, target_valid_2 = train_test_split(\n",
    "    features_2, target_2, test_size=0.25, random_state=12345)\n",
    "\n",
    "print(features_train_2.shape)\n",
    "print(features_valid_2.shape)\n",
    "print(target_train_2.shape)\n",
    "print(target_valid_2.shape)"
   ]
  },
  {
   "cell_type": "code",
   "execution_count": 38,
   "metadata": {
    "trusted": true
   },
   "outputs": [],
   "source": [
    "# Entrenamiento del modelo y predicciones para el conjunto de validación\n",
    "model_2 = LinearRegression()\n",
    "model_2.fit(features_train_2,target_train_2)\n",
    "predicted_value_2 = model_2.predict(features_valid_2)"
   ]
  },
  {
   "cell_type": "code",
   "execution_count": 39,
   "metadata": {
    "trusted": true
   },
   "outputs": [
    {
     "data": {
      "text/html": [
       "<div>\n",
       "<style scoped>\n",
       "    .dataframe tbody tr th:only-of-type {\n",
       "        vertical-align: middle;\n",
       "    }\n",
       "\n",
       "    .dataframe tbody tr th {\n",
       "        vertical-align: top;\n",
       "    }\n",
       "\n",
       "    .dataframe thead th {\n",
       "        text-align: right;\n",
       "    }\n",
       "</style>\n",
       "<table border=\"1\" class=\"dataframe\">\n",
       "  <thead>\n",
       "    <tr style=\"text-align: right;\">\n",
       "      <th></th>\n",
       "      <th>Actual</th>\n",
       "      <th>Predicted</th>\n",
       "    </tr>\n",
       "  </thead>\n",
       "  <tbody>\n",
       "    <tr>\n",
       "      <th>71751</th>\n",
       "      <td>61.212375</td>\n",
       "      <td>93.599633</td>\n",
       "    </tr>\n",
       "    <tr>\n",
       "      <th>80493</th>\n",
       "      <td>41.850118</td>\n",
       "      <td>75.105159</td>\n",
       "    </tr>\n",
       "    <tr>\n",
       "      <th>2655</th>\n",
       "      <td>57.776581</td>\n",
       "      <td>90.066809</td>\n",
       "    </tr>\n",
       "    <tr>\n",
       "      <th>53233</th>\n",
       "      <td>100.053761</td>\n",
       "      <td>105.162375</td>\n",
       "    </tr>\n",
       "    <tr>\n",
       "      <th>91141</th>\n",
       "      <td>109.897122</td>\n",
       "      <td>115.303310</td>\n",
       "    </tr>\n",
       "    <tr>\n",
       "      <th>...</th>\n",
       "      <td>...</td>\n",
       "      <td>...</td>\n",
       "    </tr>\n",
       "    <tr>\n",
       "      <th>12581</th>\n",
       "      <td>28.492402</td>\n",
       "      <td>78.765887</td>\n",
       "    </tr>\n",
       "    <tr>\n",
       "      <th>18456</th>\n",
       "      <td>21.431303</td>\n",
       "      <td>95.603394</td>\n",
       "    </tr>\n",
       "    <tr>\n",
       "      <th>73035</th>\n",
       "      <td>125.487229</td>\n",
       "      <td>99.407281</td>\n",
       "    </tr>\n",
       "    <tr>\n",
       "      <th>63834</th>\n",
       "      <td>99.422903</td>\n",
       "      <td>77.779912</td>\n",
       "    </tr>\n",
       "    <tr>\n",
       "      <th>43558</th>\n",
       "      <td>127.445075</td>\n",
       "      <td>129.032417</td>\n",
       "    </tr>\n",
       "  </tbody>\n",
       "</table>\n",
       "<p>25000 rows × 2 columns</p>\n",
       "</div>"
      ],
      "text/plain": [
       "           Actual   Predicted\n",
       "71751   61.212375   93.599633\n",
       "80493   41.850118   75.105159\n",
       "2655    57.776581   90.066809\n",
       "53233  100.053761  105.162375\n",
       "91141  109.897122  115.303310\n",
       "...           ...         ...\n",
       "12581   28.492402   78.765887\n",
       "18456   21.431303   95.603394\n",
       "73035  125.487229   99.407281\n",
       "63834   99.422903   77.779912\n",
       "43558  127.445075  129.032417\n",
       "\n",
       "[25000 rows x 2 columns]"
      ]
     },
     "execution_count": 39,
     "metadata": {},
     "output_type": "execute_result"
    }
   ],
   "source": [
    "# Guardar predicciones y respuestas correctas\n",
    "results_2 = pd.DataFrame({\"Actual\": target_valid_2, \"Predicted\": predicted_value_2})\n",
    "results_2"
   ]
  },
  {
   "cell_type": "code",
   "execution_count": 40,
   "metadata": {
    "trusted": true
   },
   "outputs": [
    {
     "name": "stdout",
     "output_type": "stream",
     "text": [
      "94.88423280885438\n"
     ]
    }
   ],
   "source": [
    "print(target_valid_2.mean())"
   ]
  },
  {
   "cell_type": "code",
   "execution_count": 41,
   "metadata": {
    "trusted": true
   },
   "outputs": [
    {
     "name": "stdout",
     "output_type": "stream",
     "text": [
      "Volumen medio de reservas predicho: 94.9650\n",
      "RMSE del modelo: 40.0297\n"
     ]
    }
   ],
   "source": [
    "# Voumen medio de reservas predicho y RMSE del modelo\n",
    "rmse_2 = np.sqrt(mean_squared_error(target_valid_2, predicted_value_2))\n",
    "\n",
    "# Mostrar resultados\n",
    "print(f\"Volumen medio de reservas predicho: {predicted_value_2.mean():.4f}\")\n",
    "print(f\"RMSE del modelo: {rmse_2:.4f}\")"
   ]
  },
  {
   "cell_type": "code",
   "execution_count": 42,
   "metadata": {
    "trusted": true
   },
   "outputs": [
    {
     "name": "stdout",
     "output_type": "stream",
     "text": [
      "RMSE del modelo base (predice la media): 44.9021\n"
     ]
    }
   ],
   "source": [
    "# Prueba de cordura\n",
    "# Modelo constante: la media se compara al modelo para saber si la regresión está aportando\n",
    "\n",
    "# Calcular la media real del conjunto de validación\n",
    "mean_2 = target_valid_2.mean()\n",
    "\n",
    "# Crear un array con la media como predicción constante\n",
    "mean_prediction_2 = np.full_like(target_valid_2, mean_2)\n",
    "\n",
    "# Calcular el RMSE para el modelo de la media\n",
    "rmse_mean_2 = mean_squared_error(target_valid_2, mean_prediction_2, squared=False)\n",
    "\n",
    "print(f\"RMSE del modelo base (predice la media): {rmse_mean_2:.4f}\")"
   ]
  },
  {
   "cell_type": "code",
   "execution_count": 43,
   "metadata": {
    "trusted": true
   },
   "outputs": [
    {
     "data": {
      "text/html": [
       "<div>\n",
       "<style scoped>\n",
       "    .dataframe tbody tr th:only-of-type {\n",
       "        vertical-align: middle;\n",
       "    }\n",
       "\n",
       "    .dataframe tbody tr th {\n",
       "        vertical-align: top;\n",
       "    }\n",
       "\n",
       "    .dataframe thead th {\n",
       "        text-align: right;\n",
       "    }\n",
       "</style>\n",
       "<table border=\"1\" class=\"dataframe\">\n",
       "  <thead>\n",
       "    <tr style=\"text-align: right;\">\n",
       "      <th></th>\n",
       "      <th>f0</th>\n",
       "      <th>f1</th>\n",
       "      <th>f2</th>\n",
       "      <th>product</th>\n",
       "    </tr>\n",
       "  </thead>\n",
       "  <tbody>\n",
       "    <tr>\n",
       "      <th>count</th>\n",
       "      <td>100000.000000</td>\n",
       "      <td>100000.000000</td>\n",
       "      <td>100000.000000</td>\n",
       "      <td>100000.000000</td>\n",
       "    </tr>\n",
       "    <tr>\n",
       "      <th>mean</th>\n",
       "      <td>0.002023</td>\n",
       "      <td>-0.002081</td>\n",
       "      <td>2.495128</td>\n",
       "      <td>95.000000</td>\n",
       "    </tr>\n",
       "    <tr>\n",
       "      <th>std</th>\n",
       "      <td>1.732045</td>\n",
       "      <td>1.730417</td>\n",
       "      <td>3.473445</td>\n",
       "      <td>44.749921</td>\n",
       "    </tr>\n",
       "    <tr>\n",
       "      <th>min</th>\n",
       "      <td>-8.760004</td>\n",
       "      <td>-7.084020</td>\n",
       "      <td>-11.970335</td>\n",
       "      <td>0.000000</td>\n",
       "    </tr>\n",
       "    <tr>\n",
       "      <th>25%</th>\n",
       "      <td>-1.162288</td>\n",
       "      <td>-1.174820</td>\n",
       "      <td>0.130359</td>\n",
       "      <td>59.450441</td>\n",
       "    </tr>\n",
       "    <tr>\n",
       "      <th>50%</th>\n",
       "      <td>0.009424</td>\n",
       "      <td>-0.009482</td>\n",
       "      <td>2.484236</td>\n",
       "      <td>94.925613</td>\n",
       "    </tr>\n",
       "    <tr>\n",
       "      <th>75%</th>\n",
       "      <td>1.158535</td>\n",
       "      <td>1.163678</td>\n",
       "      <td>4.858794</td>\n",
       "      <td>130.595027</td>\n",
       "    </tr>\n",
       "    <tr>\n",
       "      <th>max</th>\n",
       "      <td>7.238262</td>\n",
       "      <td>7.844801</td>\n",
       "      <td>16.739402</td>\n",
       "      <td>190.029838</td>\n",
       "    </tr>\n",
       "  </tbody>\n",
       "</table>\n",
       "</div>"
      ],
      "text/plain": [
       "                  f0             f1             f2        product\n",
       "count  100000.000000  100000.000000  100000.000000  100000.000000\n",
       "mean        0.002023      -0.002081       2.495128      95.000000\n",
       "std         1.732045       1.730417       3.473445      44.749921\n",
       "min        -8.760004      -7.084020     -11.970335       0.000000\n",
       "25%        -1.162288      -1.174820       0.130359      59.450441\n",
       "50%         0.009424      -0.009482       2.484236      94.925613\n",
       "75%         1.158535       1.163678       4.858794     130.595027\n",
       "max         7.238262       7.844801      16.739402     190.029838"
      ]
     },
     "execution_count": 43,
     "metadata": {},
     "output_type": "execute_result"
    }
   ],
   "source": [
    "df_2.describe()"
   ]
  },
  {
   "cell_type": "markdown",
   "metadata": {},
   "source": [
    "La reducción del RMSE es menor en comparación con el caso anterior (solo baja 4.87), lo que indica que el modelo no está aportando tanto valor en este caso como en df_1 e incluso menos que en el df_0. Volumen medio real (product): 95.00\n",
    "Volumen medio predicho: 94.96. Esto muestra que el modelo sigue capturando bien la tendencia central. Hay que considerar que se presenta una alta variablidad en los datos y que la regresión lineal podría no estarse ajustando a la distribución de los mismo. "
   ]
  },
  {
   "cell_type": "markdown",
   "metadata": {},
   "source": [
    "Conclusiones: A pesar de que el df_0 y el df_2 no se ajustan tan bien como el df_1 a la regresión lineal, se va a seguir considerando el modelo porque aprobaron la prueba de cordura, el modelo mejoró al modelo constante que tiene la media. "
   ]
  },
  {
   "cell_type": "markdown",
   "metadata": {},
   "source": [
    "# 3. Preparar el cálculo de las ganancias"
   ]
  },
  {
   "cell_type": "code",
   "execution_count": 44,
   "metadata": {
    "trusted": true
   },
   "outputs": [],
   "source": [
    "# Inversión total\n",
    "total_inversion = 100_000_000  \n",
    "\n",
    "# Número total de pozos\n",
    "total_pozos = 200  \n",
    "\n",
    "# Producción mínima requerida en unidades de reserva para evitar pérdidas\n",
    "inversion_por_pozo = 500_000  \n",
    "unidad_en_dolares = 4500 # columna product\n",
    "minimo_unidades_por_pozo = inversion_por_pozo/unidad_en_dolares # 111.1\n",
    "\n",
    "# Media de reservas en cada región (extraída del dataset)\n",
    "media_reservas_region0 = predicted_value_0.mean()\n",
    "media_reservas_region1 = predicted_value_1.mean()\n",
    "media_reservas_region2 = predicted_value_2.mean()"
   ]
  },
  {
   "cell_type": "code",
   "execution_count": 45,
   "metadata": {
    "trusted": true
   },
   "outputs": [
    {
     "name": "stdout",
     "output_type": "stream",
     "text": [
      "Media de reservas en Región 0: 92.59\n",
      "Media de reservas en Región 1: 68.73\n",
      "Media de reservas en Región 2: 94.97\n",
      "Cantidad mínima necesaria por pozo: 111.11\n",
      "Región 0 podría no ser rentable.\n",
      "Región 1 podría no ser rentable.\n",
      "Región 2 podría no ser rentable.\n"
     ]
    }
   ],
   "source": [
    "print(f\"Media de reservas en Región 0: {media_reservas_region0:.2f}\")\n",
    "print(f\"Media de reservas en Región 1: {media_reservas_region1:.2f}\")\n",
    "print(f\"Media de reservas en Región 2: {media_reservas_region2:.2f}\")\n",
    "print(f\"Cantidad mínima necesaria por pozo: {minimo_unidades_por_pozo:.2f}\")\n",
    "\n",
    "# Evaluación\n",
    "if media_reservas_region0 > minimo_unidades_por_pozo:\n",
    "    print(\"Región 0 parece viable para inversión.\")\n",
    "else:\n",
    "    print(\"Región 0 podría no ser rentable.\")\n",
    "\n",
    "if media_reservas_region1 > minimo_unidades_por_pozo:\n",
    "    print(\"Región 1 parece viable para inversión.\")\n",
    "else:\n",
    "    print(\"Región 1 podría no ser rentable.\")\n",
    "\n",
    "if media_reservas_region2 > minimo_unidades_por_pozo:\n",
    "    print(\"Región 2 parece viable para inversión.\")\n",
    "else:\n",
    "    print(\"Región 2 podría no ser rentable.\")"
   ]
  },
  {
   "cell_type": "markdown",
   "metadata": {},
   "source": [
    "Conclusiones: Dado que la media no nos favorece, la clave será elegir los mejores 200 pozos en lugar de seleccionar al azar. Si logramos encontrar pozos con reservas superiores a 111.1 en suficiente cantidad, aún podemos hacer rentable la inversión."
   ]
  },
  {
   "cell_type": "code",
   "execution_count": 46,
   "metadata": {
    "trusted": true
   },
   "outputs": [
    {
     "name": "stdout",
     "output_type": "stream",
     "text": [
      "Media de las 200 mejores predicciones en df_0: 155.5117\n"
     ]
    }
   ],
   "source": [
    "# Obteniendo la media de las primeras 200 predicciones del df_0\n",
    "# Convertir predicciones en pandas.Series para poder ordenarlas\n",
    "predicciones_0 = pd.Series(predicted_value_0)\n",
    "    \n",
    "# Seleccionar los 200 pozos con mayores predicciones\n",
    "mejores_predicciones_0 = predicciones_0.sort_values(ascending=False).head(200)\n",
    "\n",
    "# Calcular la media de estos 200 valores\n",
    "media_mejores_200_0 = mejores_predicciones_0.mean()\n",
    "\n",
    "# Mostrar el resultado\n",
    "print(f\"Media de las 200 mejores predicciones en df_0: {media_mejores_200_0:.4f}\")"
   ]
  },
  {
   "cell_type": "code",
   "execution_count": 47,
   "metadata": {
    "trusted": true
   },
   "outputs": [
    {
     "name": "stdout",
     "output_type": "stream",
     "text": [
      "Media de las 200 mejores predicciones en df_0: 138.7301\n"
     ]
    }
   ],
   "source": [
    "# Obteniendo la media de las primeras 200 predicciones del df_1\n",
    "# Convertir predicciones en pandas.Series para poder ordenarlas\n",
    "predicciones_1 = pd.Series(predicted_value_1)\n",
    "    \n",
    "# Seleccionar los 200 pozos con mayores predicciones\n",
    "mejores_predicciones_1 = predicciones_1.sort_values(ascending=False).head(200)\n",
    "\n",
    "# Calcular la media de estos 200 valores\n",
    "media_mejores_200_1 = mejores_predicciones_1.mean()\n",
    "\n",
    "# Mostrar el resultado\n",
    "print(f\"Media de las 200 mejores predicciones en df_0: {media_mejores_200_1:.4f}\")"
   ]
  },
  {
   "cell_type": "code",
   "execution_count": 48,
   "metadata": {
    "trusted": true
   },
   "outputs": [
    {
     "name": "stdout",
     "output_type": "stream",
     "text": [
      "Media de las 200 mejores predicciones en df_0: 148.0195\n"
     ]
    }
   ],
   "source": [
    "# Obteniendo la media de las primeras 200 predicciones del df_2\n",
    "# Convertir predicciones en pandas.Series para poder ordenarlas\n",
    "predicciones_2 = pd.Series(predicted_value_2)\n",
    "    \n",
    "# Seleccionar los 200 pozos con mayores predicciones\n",
    "mejores_predicciones_2 = predicciones_2.sort_values(ascending=False).head(200)\n",
    "\n",
    "# Calcular la media de estos 200 valores\n",
    "media_mejores_200_2 = mejores_predicciones_2.mean()\n",
    "\n",
    "# Mostrar el resultado\n",
    "print(f\"Media de las 200 mejores predicciones en df_0: {media_mejores_200_2:.4f}\")"
   ]
  },
  {
   "cell_type": "markdown",
   "metadata": {},
   "source": [
    "Conclusiones: Después de obtener la media, las prediciones de df_0 son las que tienen un mayor promedio de unidades, por lo que sería el elegido, y sí supera las 111.1 unidades que es el mínimo por pozo."
   ]
  },
  {
   "cell_type": "markdown",
   "metadata": {},
   "source": [
    "# 4. Función para calcular la ganancia de un conjunto de pozos de petróleo seleccionados y modela las predicciones"
   ]
  },
  {
   "cell_type": "markdown",
   "metadata": {},
   "source": [
    "# Creación de función"
   ]
  },
  {
   "cell_type": "code",
   "execution_count": 49,
   "metadata": {
    "trusted": true
   },
   "outputs": [],
   "source": [
    "def calcular_ganancia(predicciones, target_real):\n",
    "    # Convertir predicciones en pandas.Series para poder ordenarlas\n",
    "    predicciones = pd.Series(predicciones, index=target_real.index)\n",
    "    \n",
    "    # Seleccionar los 200 pozos con mayores predicciones\n",
    "    mejores_indices = predicciones.sort_values(ascending=False).index[:200]\n",
    "    \n",
    "    # Guardar las predicciones seleccionadas\n",
    "    mejores_predicciones = predicciones.loc[mejores_indices]\n",
    "\n",
    "    # Obtener el volumen real de los 200 pozos seleccionados\n",
    "    volumen_total = target_real.loc[mejores_indices].sum()\n",
    "    \n",
    "    # Calcular la ganancia total\n",
    "    ganancia = volumen_total * 4500 - 100_000_000\n",
    "    \n",
    "    return ganancia, mejores_predicciones"
   ]
  },
  {
   "cell_type": "markdown",
   "metadata": {},
   "source": [
    "# geo_data_0.csv"
   ]
  },
  {
   "cell_type": "code",
   "execution_count": 50,
   "metadata": {
    "trusted": true
   },
   "outputs": [
    {
     "name": "stdout",
     "output_type": "stream",
     "text": [
      "Ganancia estimada Región 0: $33,208,260.43\n"
     ]
    }
   ],
   "source": [
    "# Calcular ganancias\n",
    "ganancia_0, _ = calcular_ganancia(predicted_value_0, target_valid_0)\n",
    "\n",
    "# Imprimir solo la ganancia\n",
    "print(f\"Ganancia estimada Región 0: ${ganancia_0:,.2f}\")"
   ]
  },
  {
   "cell_type": "markdown",
   "metadata": {},
   "source": [
    "# geo_data_1.csv"
   ]
  },
  {
   "cell_type": "code",
   "execution_count": 51,
   "metadata": {
    "trusted": true
   },
   "outputs": [
    {
     "name": "stdout",
     "output_type": "stream",
     "text": [
      "Ganancia estimada Región 1: $24,150,866.97\n"
     ]
    }
   ],
   "source": [
    "# Calcular ganancias\n",
    "ganancia_1, _ = calcular_ganancia(predicted_value_1, target_valid_1)\n",
    "\n",
    "# Imprimir solo la ganancia\n",
    "print(f\"Ganancia estimada Región 1: ${ganancia_1:,.2f}\")"
   ]
  },
  {
   "cell_type": "markdown",
   "metadata": {},
   "source": [
    "# geo_data_2.csv"
   ]
  },
  {
   "cell_type": "code",
   "execution_count": 52,
   "metadata": {
    "trusted": true
   },
   "outputs": [
    {
     "name": "stdout",
     "output_type": "stream",
     "text": [
      "Ganancia estimada Región 1: $27,103,499.64\n"
     ]
    }
   ],
   "source": [
    "# Calcular ganancias\n",
    "ganancia_2, _ = calcular_ganancia(predicted_value_2, target_valid_2)\n",
    "\n",
    "# Imprimir solo la ganancia\n",
    "print(f\"Ganancia estimada Región 1: ${ganancia_2:,.2f}\")"
   ]
  },
  {
   "cell_type": "markdown",
   "metadata": {},
   "source": [
    "La región 0 es la que tiene mayores ganancias, por lo que debería ser la elegida."
   ]
  },
  {
   "cell_type": "markdown",
   "metadata": {},
   "source": [
    "# 5. Cálculo de los riesgos y ganancias para cada región"
   ]
  },
  {
   "cell_type": "markdown",
   "metadata": {},
   "source": [
    "# Creación de función"
   ]
  },
  {
   "cell_type": "code",
   "execution_count": 53,
   "metadata": {
    "trusted": true
   },
   "outputs": [],
   "source": [
    "# Función para calcular la ganancia\n",
    "def revenue(target, probabilities):\n",
    "    \n",
    "    # Convertir probabilities en una serie de pandas con el mismo índice que target\n",
    "    probs_series = pd.Series(probabilities, index=target.index)\n",
    "\n",
    "    # Seleccionar 500 pozos **al azar con reemplazo** (bootstrapping)\n",
    "    sampled_target = target.sample(n=500, replace=True, random_state=None)\n",
    "    sampled_probs = probs_series.loc[sampled_target.index]\n",
    "\n",
    "    # Tomar los 200 pozos con mayores predicciones dentro de la muestra de 500\n",
    "    top_200_indices = sampled_probs.sort_values(ascending=False).index[:200]\n",
    "    top_200_target = sampled_target.loc[top_200_indices]\n",
    "    \n",
    "    # Calcular la ganancia\n",
    "    return top_200_target.sum() * 4500 - 100_000_000 "
   ]
  },
  {
   "cell_type": "code",
   "execution_count": 54,
   "metadata": {
    "trusted": true
   },
   "outputs": [
    {
     "name": "stdout",
     "output_type": "stream",
     "text": [
      "Beneficio promedio: 5867268.432456819\n",
      "Intervalo de confianza del 95%: (-230984.98171102477, 11894826.672667705)\n",
      "Riesgo de pérdidas: 2.70%\n"
     ]
    }
   ],
   "source": [
    "# Simulaciones de bootstrapping para df_0\n",
    "np.random.seed(42)\n",
    "values_0 = []\n",
    "\n",
    "for i in range(1000):\n",
    "    values_0.append(revenue(target_valid_0, predicted_value_0))\n",
    "\n",
    "values_0 = pd.Series(values_0)\n",
    "\n",
    "# Beneficio promedio\n",
    "mean_0 = values_0.mean()\n",
    "\n",
    "# Intervalo de confianza del 95%\n",
    "ci_lower_0 = values_0.quantile(0.025)  # Límite inferior\n",
    "ci_upper_0 = values_0.quantile(0.975)  # Límite superior\n",
    "\n",
    "# Riesgo de pérdidas (proporción de valores negativos)\n",
    "risk_0 = (values_0 < 0).mean() * 100  # Convertir a porcentaje\n",
    "\n",
    "# Imprimir resultados\n",
    "print(\"Beneficio promedio:\", mean_0)\n",
    "print(f\"Intervalo de confianza del 95%: ({ci_lower_0}, {ci_upper_0})\")\n",
    "print(f\"Riesgo de pérdidas: {risk_0:.2f}%\")"
   ]
  },
  {
   "cell_type": "code",
   "execution_count": 55,
   "metadata": {
    "trusted": true
   },
   "outputs": [
    {
     "name": "stdout",
     "output_type": "stream",
     "text": [
      "Beneficio promedio: 6562429.81558303\n",
      "Intervalo de confianza del 95%: (1673526.6620060499, 11808383.025377596)\n",
      "Riesgo de pérdidas: 0.10%\n"
     ]
    }
   ],
   "source": [
    "# Simulaciones de bootstrapping para df_1\n",
    "np.random.seed(42)\n",
    "values_1 = []\n",
    "\n",
    "for i in range(1000):\n",
    "    values_1.append(revenue(target_valid_1, predicted_value_1))\n",
    "\n",
    "values_1 = pd.Series(values_1)\n",
    "\n",
    "# Beneficio promedio\n",
    "mean_1 = values_1.mean()\n",
    "\n",
    "# Intervalo de confianza del 95%\n",
    "ci_lower_1 = values_1.quantile(0.025)  # Límite inferior\n",
    "ci_upper_1 = values_1.quantile(0.975)  # Límite superior\n",
    "\n",
    "# Riesgo de pérdidas (proporción de valores negativos)\n",
    "risk_1 = (values_1 < 0).mean() * 100  # Convertir a porcentaje\n",
    "\n",
    "# Imprimir resultados\n",
    "print(\"Beneficio promedio:\", mean_1)\n",
    "print(f\"Intervalo de confianza del 95%: ({ci_lower_1}, {ci_upper_1})\")\n",
    "print(f\"Riesgo de pérdidas: {risk_1:.2f}%\")"
   ]
  },
  {
   "cell_type": "code",
   "execution_count": 56,
   "metadata": {
    "trusted": true
   },
   "outputs": [
    {
     "name": "stdout",
     "output_type": "stream",
     "text": [
      "Beneficio promedio: 6005664.69070398\n",
      "Intervalo de confianza del 95%: (-306514.88403670705, 12586354.078390274)\n",
      "Riesgo de pérdidas: 3.30%\n"
     ]
    }
   ],
   "source": [
    "# Simulaciones de bootstrapping para df_2\n",
    "np.random.seed(42)\n",
    "values_2 = []\n",
    "\n",
    "for i in range(1000):\n",
    "    values_2.append(revenue(target_valid_2, predicted_value_2))\n",
    "\n",
    "values_2 = pd.Series(values_2)\n",
    "\n",
    "# Beneficio promedio\n",
    "mean_2 = values_2.mean()\n",
    "\n",
    "# Intervalo de confianza del 95%\n",
    "ci_lower_2 = values_2.quantile(0.025)  # Límite inferior\n",
    "ci_upper_2 = values_2.quantile(0.975)  # Límite superior\n",
    "\n",
    "# Riesgo de pérdidas (proporción de valores negativos)\n",
    "risk_2 = (values_2 < 0).mean() * 100  # Convertir a porcentaje\n",
    "\n",
    "# Imprimir resultados\n",
    "print(\"Beneficio promedio:\", mean_2)\n",
    "print(f\"Intervalo de confianza del 95%: ({ci_lower_2}, {ci_upper_2})\")\n",
    "print(f\"Riesgo de pérdidas: {risk_2:.2f}%\")"
   ]
  },
  {
   "cell_type": "markdown",
   "metadata": {},
   "source": [
    "Conclusión: En el Punto 4, la Región 0 parecía la mejor en base a la ganancia estimada, pero con la evaluación de riesgo y bootstrapping, se concluye que la Región 1 es la más adecuada para el desarrollo de pozos. Además, es la única región que tiene un riesgo de pérdidas menor al 2.5%, que es una de las condiciones que se indicaron al principio del proyecto."
   ]
  }
 ],
 "metadata": {
  "ExecuteTimeLog": [
   {
    "duration": 837,
    "start_time": "2025-03-08T23:38:42.932Z"
   },
   {
    "duration": 611,
    "start_time": "2025-03-08T23:44:40.626Z"
   },
   {
    "duration": 61,
    "start_time": "2025-03-08T23:44:53.329Z"
   },
   {
    "duration": 114,
    "start_time": "2025-03-08T23:44:56.487Z"
   },
   {
    "duration": 776,
    "start_time": "2025-03-08T23:48:57.851Z"
   },
   {
    "duration": 116,
    "start_time": "2025-03-08T23:48:58.629Z"
   },
   {
    "duration": 83,
    "start_time": "2025-03-08T23:48:58.747Z"
   },
   {
    "duration": 106,
    "start_time": "2025-03-08T23:48:58.832Z"
   },
   {
    "duration": 208,
    "start_time": "2025-03-08T23:49:25.371Z"
   },
   {
    "duration": 5,
    "start_time": "2025-03-08T23:49:30.272Z"
   },
   {
    "duration": 3,
    "start_time": "2025-03-08T23:49:48.919Z"
   },
   {
    "duration": 4,
    "start_time": "2025-03-08T23:52:31.711Z"
   },
   {
    "duration": 4,
    "start_time": "2025-03-08T23:52:45.470Z"
   },
   {
    "duration": 13,
    "start_time": "2025-03-08T23:54:40.429Z"
   },
   {
    "duration": 18,
    "start_time": "2025-03-08T23:54:45.030Z"
   },
   {
    "duration": 17,
    "start_time": "2025-03-08T23:55:00.410Z"
   },
   {
    "duration": 16,
    "start_time": "2025-03-08T23:55:13.133Z"
   },
   {
    "duration": 32,
    "start_time": "2025-03-08T23:55:29.919Z"
   },
   {
    "duration": 16,
    "start_time": "2025-03-08T23:55:44.922Z"
   },
   {
    "duration": 13,
    "start_time": "2025-03-08T23:56:20.495Z"
   },
   {
    "duration": 11,
    "start_time": "2025-03-08T23:56:52.650Z"
   },
   {
    "duration": 11,
    "start_time": "2025-03-08T23:57:12.366Z"
   },
   {
    "duration": 10,
    "start_time": "2025-03-09T00:06:48.931Z"
   },
   {
    "duration": 18,
    "start_time": "2025-03-09T00:06:55.795Z"
   },
   {
    "duration": 821,
    "start_time": "2025-03-09T00:07:21.336Z"
   },
   {
    "duration": 96,
    "start_time": "2025-03-09T00:07:22.159Z"
   },
   {
    "duration": 3,
    "start_time": "2025-03-09T00:07:22.257Z"
   },
   {
    "duration": 21,
    "start_time": "2025-03-09T00:07:22.262Z"
   },
   {
    "duration": 14,
    "start_time": "2025-03-09T00:07:22.287Z"
   },
   {
    "duration": 99,
    "start_time": "2025-03-09T00:07:22.303Z"
   },
   {
    "duration": 3,
    "start_time": "2025-03-09T00:07:22.404Z"
   },
   {
    "duration": 17,
    "start_time": "2025-03-09T00:07:22.423Z"
   },
   {
    "duration": 10,
    "start_time": "2025-03-09T00:07:22.442Z"
   },
   {
    "duration": 94,
    "start_time": "2025-03-09T00:07:22.454Z"
   },
   {
    "duration": 4,
    "start_time": "2025-03-09T00:07:22.549Z"
   },
   {
    "duration": 16,
    "start_time": "2025-03-09T00:07:22.554Z"
   },
   {
    "duration": 11,
    "start_time": "2025-03-09T00:07:22.571Z"
   },
   {
    "duration": 14,
    "start_time": "2025-03-09T00:19:55.254Z"
   },
   {
    "duration": 17,
    "start_time": "2025-03-09T00:29:55.667Z"
   },
   {
    "duration": 4,
    "start_time": "2025-03-09T00:30:17.321Z"
   },
   {
    "duration": 3,
    "start_time": "2025-03-09T00:30:26.362Z"
   },
   {
    "duration": 4,
    "start_time": "2025-03-09T00:30:29.480Z"
   },
   {
    "duration": 16,
    "start_time": "2025-03-09T00:30:34.887Z"
   },
   {
    "duration": 17,
    "start_time": "2025-03-09T00:30:44.278Z"
   },
   {
    "duration": 16,
    "start_time": "2025-03-09T00:31:11.132Z"
   },
   {
    "duration": 16,
    "start_time": "2025-03-09T00:31:20.130Z"
   },
   {
    "duration": 15,
    "start_time": "2025-03-09T00:31:31.056Z"
   },
   {
    "duration": 15,
    "start_time": "2025-03-09T00:31:53.351Z"
   },
   {
    "duration": 43,
    "start_time": "2025-03-09T00:34:32.885Z"
   },
   {
    "duration": 31,
    "start_time": "2025-03-09T00:34:50.720Z"
   },
   {
    "duration": 17,
    "start_time": "2025-03-09T00:39:13.775Z"
   },
   {
    "duration": 249,
    "start_time": "2025-03-09T01:05:24.538Z"
   },
   {
    "duration": 14,
    "start_time": "2025-03-09T01:05:42.473Z"
   },
   {
    "duration": 878,
    "start_time": "2025-03-09T01:05:52.383Z"
   },
   {
    "duration": 134,
    "start_time": "2025-03-09T01:05:53.264Z"
   },
   {
    "duration": 4,
    "start_time": "2025-03-09T01:05:53.400Z"
   },
   {
    "duration": 24,
    "start_time": "2025-03-09T01:05:53.407Z"
   },
   {
    "duration": 15,
    "start_time": "2025-03-09T01:05:53.434Z"
   },
   {
    "duration": 44,
    "start_time": "2025-03-09T01:05:53.451Z"
   },
   {
    "duration": 32,
    "start_time": "2025-03-09T01:05:53.509Z"
   },
   {
    "duration": 153,
    "start_time": "2025-03-09T01:05:53.543Z"
   },
   {
    "duration": 0,
    "start_time": "2025-03-09T01:05:53.698Z"
   },
   {
    "duration": 0,
    "start_time": "2025-03-09T01:05:53.699Z"
   },
   {
    "duration": 0,
    "start_time": "2025-03-09T01:05:53.700Z"
   },
   {
    "duration": 0,
    "start_time": "2025-03-09T01:05:53.701Z"
   },
   {
    "duration": 0,
    "start_time": "2025-03-09T01:05:53.702Z"
   },
   {
    "duration": 0,
    "start_time": "2025-03-09T01:05:53.703Z"
   },
   {
    "duration": 1,
    "start_time": "2025-03-09T01:05:53.703Z"
   },
   {
    "duration": 0,
    "start_time": "2025-03-09T01:05:53.704Z"
   },
   {
    "duration": 801,
    "start_time": "2025-03-09T01:06:19.897Z"
   },
   {
    "duration": 108,
    "start_time": "2025-03-09T01:06:20.701Z"
   },
   {
    "duration": 8,
    "start_time": "2025-03-09T01:06:23.029Z"
   },
   {
    "duration": 30,
    "start_time": "2025-03-09T01:06:23.047Z"
   },
   {
    "duration": 15,
    "start_time": "2025-03-09T01:06:23.084Z"
   },
   {
    "duration": 53,
    "start_time": "2025-03-09T01:06:23.101Z"
   },
   {
    "duration": 18,
    "start_time": "2025-03-09T01:06:23.157Z"
   },
   {
    "duration": 40,
    "start_time": "2025-03-09T01:06:23.177Z"
   },
   {
    "duration": 153,
    "start_time": "2025-03-09T01:06:23.219Z"
   },
   {
    "duration": 4,
    "start_time": "2025-03-09T01:06:23.374Z"
   },
   {
    "duration": 19,
    "start_time": "2025-03-09T01:06:23.379Z"
   },
   {
    "duration": 20,
    "start_time": "2025-03-09T01:06:23.399Z"
   },
   {
    "duration": 160,
    "start_time": "2025-03-09T01:06:23.421Z"
   },
   {
    "duration": 4,
    "start_time": "2025-03-09T01:06:23.583Z"
   },
   {
    "duration": 30,
    "start_time": "2025-03-09T01:06:23.591Z"
   },
   {
    "duration": 16,
    "start_time": "2025-03-09T01:06:23.623Z"
   },
   {
    "duration": 19,
    "start_time": "2025-03-09T01:06:47.981Z"
   },
   {
    "duration": 20,
    "start_time": "2025-03-09T01:07:03.943Z"
   },
   {
    "duration": 639,
    "start_time": "2025-03-09T01:08:06.817Z"
   },
   {
    "duration": 31,
    "start_time": "2025-03-09T01:10:26.325Z"
   },
   {
    "duration": 745,
    "start_time": "2025-03-09T01:51:24.215Z"
   },
   {
    "duration": 103,
    "start_time": "2025-03-09T01:51:24.962Z"
   },
   {
    "duration": 4,
    "start_time": "2025-03-09T01:51:25.066Z"
   },
   {
    "duration": 15,
    "start_time": "2025-03-09T01:51:25.071Z"
   },
   {
    "duration": 11,
    "start_time": "2025-03-09T01:51:25.089Z"
   },
   {
    "duration": 48,
    "start_time": "2025-03-09T01:51:25.101Z"
   },
   {
    "duration": 17,
    "start_time": "2025-03-09T01:51:25.150Z"
   },
   {
    "duration": 26,
    "start_time": "2025-03-09T01:51:25.170Z"
   },
   {
    "duration": 107,
    "start_time": "2025-03-09T01:51:25.198Z"
   },
   {
    "duration": 4,
    "start_time": "2025-03-09T01:51:25.306Z"
   },
   {
    "duration": 15,
    "start_time": "2025-03-09T01:51:25.311Z"
   },
   {
    "duration": 23,
    "start_time": "2025-03-09T01:51:25.328Z"
   },
   {
    "duration": 103,
    "start_time": "2025-03-09T01:51:25.352Z"
   },
   {
    "duration": 4,
    "start_time": "2025-03-09T01:51:25.459Z"
   },
   {
    "duration": 21,
    "start_time": "2025-03-09T01:51:25.464Z"
   },
   {
    "duration": 12,
    "start_time": "2025-03-09T01:51:25.486Z"
   },
   {
    "duration": 35,
    "start_time": "2025-03-09T01:51:46.559Z"
   },
   {
    "duration": 29,
    "start_time": "2025-03-09T01:51:54.498Z"
   },
   {
    "duration": 39,
    "start_time": "2025-03-09T01:52:08.735Z"
   },
   {
    "duration": 20,
    "start_time": "2025-03-09T01:52:30.011Z"
   },
   {
    "duration": 19,
    "start_time": "2025-03-09T01:52:39.280Z"
   },
   {
    "duration": 24,
    "start_time": "2025-03-09T01:53:11.090Z"
   },
   {
    "duration": 20,
    "start_time": "2025-03-09T01:53:25.376Z"
   },
   {
    "duration": 26,
    "start_time": "2025-03-09T01:53:46.789Z"
   },
   {
    "duration": 33,
    "start_time": "2025-03-09T01:54:25.186Z"
   },
   {
    "duration": 16,
    "start_time": "2025-03-09T01:54:42.286Z"
   },
   {
    "duration": 18,
    "start_time": "2025-03-09T01:54:49.529Z"
   },
   {
    "duration": 22,
    "start_time": "2025-03-09T01:55:04.001Z"
   },
   {
    "duration": 816,
    "start_time": "2025-03-10T14:07:46.034Z"
   },
   {
    "duration": 112,
    "start_time": "2025-03-10T14:07:46.852Z"
   },
   {
    "duration": 4,
    "start_time": "2025-03-10T14:07:46.999Z"
   },
   {
    "duration": 18,
    "start_time": "2025-03-10T14:07:47.005Z"
   },
   {
    "duration": 14,
    "start_time": "2025-03-10T14:07:47.027Z"
   },
   {
    "duration": 37,
    "start_time": "2025-03-10T14:07:47.285Z"
   },
   {
    "duration": 17,
    "start_time": "2025-03-10T14:07:47.324Z"
   },
   {
    "duration": 28,
    "start_time": "2025-03-10T14:07:47.343Z"
   },
   {
    "duration": 105,
    "start_time": "2025-03-10T14:07:47.372Z"
   },
   {
    "duration": 3,
    "start_time": "2025-03-10T14:07:47.480Z"
   },
   {
    "duration": 17,
    "start_time": "2025-03-10T14:07:47.485Z"
   },
   {
    "duration": 28,
    "start_time": "2025-03-10T14:07:47.504Z"
   },
   {
    "duration": 32,
    "start_time": "2025-03-10T14:07:47.534Z"
   },
   {
    "duration": 17,
    "start_time": "2025-03-10T14:07:47.568Z"
   },
   {
    "duration": 21,
    "start_time": "2025-03-10T14:07:47.587Z"
   },
   {
    "duration": 147,
    "start_time": "2025-03-10T14:07:47.609Z"
   },
   {
    "duration": 4,
    "start_time": "2025-03-10T14:07:47.758Z"
   },
   {
    "duration": 16,
    "start_time": "2025-03-10T14:07:47.764Z"
   },
   {
    "duration": 11,
    "start_time": "2025-03-10T14:07:47.782Z"
   },
   {
    "duration": 60,
    "start_time": "2025-03-10T14:07:47.794Z"
   },
   {
    "duration": 18,
    "start_time": "2025-03-10T14:07:47.856Z"
   },
   {
    "duration": 21,
    "start_time": "2025-03-10T14:07:47.877Z"
   },
   {
    "duration": 773,
    "start_time": "2025-03-10T18:07:15.723Z"
   },
   {
    "duration": 120,
    "start_time": "2025-03-10T18:07:16.498Z"
   },
   {
    "duration": 4,
    "start_time": "2025-03-10T18:07:16.619Z"
   },
   {
    "duration": 17,
    "start_time": "2025-03-10T18:07:16.626Z"
   },
   {
    "duration": 29,
    "start_time": "2025-03-10T18:07:16.644Z"
   },
   {
    "duration": 36,
    "start_time": "2025-03-10T18:07:16.675Z"
   },
   {
    "duration": 15,
    "start_time": "2025-03-10T18:07:16.713Z"
   },
   {
    "duration": 44,
    "start_time": "2025-03-10T18:07:16.730Z"
   },
   {
    "duration": 107,
    "start_time": "2025-03-10T18:07:16.775Z"
   },
   {
    "duration": 4,
    "start_time": "2025-03-10T18:07:16.886Z"
   },
   {
    "duration": 16,
    "start_time": "2025-03-10T18:07:16.892Z"
   },
   {
    "duration": 10,
    "start_time": "2025-03-10T18:07:16.910Z"
   },
   {
    "duration": 54,
    "start_time": "2025-03-10T18:07:16.922Z"
   },
   {
    "duration": 17,
    "start_time": "2025-03-10T18:07:16.978Z"
   },
   {
    "duration": 20,
    "start_time": "2025-03-10T18:07:16.997Z"
   },
   {
    "duration": 108,
    "start_time": "2025-03-10T18:07:17.018Z"
   },
   {
    "duration": 4,
    "start_time": "2025-03-10T18:07:17.128Z"
   },
   {
    "duration": 17,
    "start_time": "2025-03-10T18:07:17.134Z"
   },
   {
    "duration": 26,
    "start_time": "2025-03-10T18:07:17.153Z"
   },
   {
    "duration": 52,
    "start_time": "2025-03-10T18:07:17.180Z"
   },
   {
    "duration": 19,
    "start_time": "2025-03-10T18:07:17.236Z"
   },
   {
    "duration": 32,
    "start_time": "2025-03-10T18:07:17.257Z"
   },
   {
    "duration": 8,
    "start_time": "2025-03-10T18:34:32.208Z"
   },
   {
    "duration": 212,
    "start_time": "2025-03-10T18:38:28.448Z"
   },
   {
    "duration": 13,
    "start_time": "2025-03-10T18:38:41.952Z"
   },
   {
    "duration": 12,
    "start_time": "2025-03-10T18:45:10.823Z"
   },
   {
    "duration": 10,
    "start_time": "2025-03-10T18:53:09.504Z"
   },
   {
    "duration": 3,
    "start_time": "2025-03-10T18:53:14.299Z"
   },
   {
    "duration": 4,
    "start_time": "2025-03-10T18:56:28.756Z"
   },
   {
    "duration": 8,
    "start_time": "2025-03-10T18:56:57.271Z"
   },
   {
    "duration": 3,
    "start_time": "2025-03-10T18:59:03.958Z"
   },
   {
    "duration": 3,
    "start_time": "2025-03-10T18:59:19.862Z"
   },
   {
    "duration": 26,
    "start_time": "2025-03-10T19:05:13.327Z"
   },
   {
    "duration": 27,
    "start_time": "2025-03-10T19:20:31.516Z"
   },
   {
    "duration": 5,
    "start_time": "2025-03-10T19:20:47.005Z"
   },
   {
    "duration": 19,
    "start_time": "2025-03-10T19:21:33.555Z"
   },
   {
    "duration": 4,
    "start_time": "2025-03-10T19:21:43.251Z"
   },
   {
    "duration": 5,
    "start_time": "2025-03-10T19:24:29.021Z"
   },
   {
    "duration": 14,
    "start_time": "2025-03-10T19:33:33.661Z"
   },
   {
    "duration": 9,
    "start_time": "2025-03-10T19:34:10.139Z"
   },
   {
    "duration": 13,
    "start_time": "2025-03-10T19:35:29.597Z"
   },
   {
    "duration": 11,
    "start_time": "2025-03-10T19:35:41.761Z"
   },
   {
    "duration": 11,
    "start_time": "2025-03-10T19:35:54.712Z"
   },
   {
    "duration": 8,
    "start_time": "2025-03-10T19:36:55.415Z"
   },
   {
    "duration": 7,
    "start_time": "2025-03-10T19:37:37.051Z"
   },
   {
    "duration": 3,
    "start_time": "2025-03-10T19:39:35.862Z"
   },
   {
    "duration": 4,
    "start_time": "2025-03-10T19:40:12.696Z"
   },
   {
    "duration": 4,
    "start_time": "2025-03-10T19:40:26.671Z"
   },
   {
    "duration": 4,
    "start_time": "2025-03-10T19:40:31.254Z"
   },
   {
    "duration": 5,
    "start_time": "2025-03-10T19:41:22.212Z"
   },
   {
    "duration": 5,
    "start_time": "2025-03-10T19:41:55.864Z"
   },
   {
    "duration": 13,
    "start_time": "2025-03-10T19:46:56.080Z"
   },
   {
    "duration": 10,
    "start_time": "2025-03-10T19:47:48.799Z"
   },
   {
    "duration": 9,
    "start_time": "2025-03-10T19:48:12.136Z"
   },
   {
    "duration": 4,
    "start_time": "2025-03-10T19:48:37.271Z"
   },
   {
    "duration": 4,
    "start_time": "2025-03-10T19:49:38.969Z"
   },
   {
    "duration": 7,
    "start_time": "2025-03-10T19:50:16.874Z"
   },
   {
    "duration": 4,
    "start_time": "2025-03-10T19:51:03.130Z"
   },
   {
    "duration": 753,
    "start_time": "2025-03-10T23:13:35.817Z"
   },
   {
    "duration": 106,
    "start_time": "2025-03-10T23:13:36.575Z"
   },
   {
    "duration": 4,
    "start_time": "2025-03-10T23:13:36.682Z"
   },
   {
    "duration": 16,
    "start_time": "2025-03-10T23:13:36.688Z"
   },
   {
    "duration": 24,
    "start_time": "2025-03-10T23:13:36.707Z"
   },
   {
    "duration": 25,
    "start_time": "2025-03-10T23:13:36.733Z"
   },
   {
    "duration": 31,
    "start_time": "2025-03-10T23:13:36.760Z"
   },
   {
    "duration": 16,
    "start_time": "2025-03-10T23:13:36.793Z"
   },
   {
    "duration": 24,
    "start_time": "2025-03-10T23:13:36.832Z"
   },
   {
    "duration": 100,
    "start_time": "2025-03-10T23:13:36.858Z"
   },
   {
    "duration": 4,
    "start_time": "2025-03-10T23:13:36.960Z"
   },
   {
    "duration": 16,
    "start_time": "2025-03-10T23:13:36.965Z"
   },
   {
    "duration": 11,
    "start_time": "2025-03-10T23:13:36.982Z"
   },
   {
    "duration": 43,
    "start_time": "2025-03-10T23:13:36.996Z"
   },
   {
    "duration": 14,
    "start_time": "2025-03-10T23:13:37.041Z"
   },
   {
    "duration": 20,
    "start_time": "2025-03-10T23:13:37.057Z"
   },
   {
    "duration": 104,
    "start_time": "2025-03-10T23:13:37.079Z"
   },
   {
    "duration": 3,
    "start_time": "2025-03-10T23:13:37.185Z"
   },
   {
    "duration": 16,
    "start_time": "2025-03-10T23:13:37.190Z"
   },
   {
    "duration": 29,
    "start_time": "2025-03-10T23:13:37.208Z"
   },
   {
    "duration": 29,
    "start_time": "2025-03-10T23:13:37.239Z"
   },
   {
    "duration": 15,
    "start_time": "2025-03-10T23:13:37.269Z"
   },
   {
    "duration": 20,
    "start_time": "2025-03-10T23:13:37.286Z"
   },
   {
    "duration": 13,
    "start_time": "2025-03-10T23:13:37.331Z"
   },
   {
    "duration": 15,
    "start_time": "2025-03-10T23:13:37.346Z"
   },
   {
    "duration": 69,
    "start_time": "2025-03-10T23:13:37.363Z"
   },
   {
    "duration": 3,
    "start_time": "2025-03-10T23:13:37.434Z"
   },
   {
    "duration": 5,
    "start_time": "2025-03-10T23:13:37.439Z"
   },
   {
    "duration": 318,
    "start_time": "2025-03-10T23:13:37.445Z"
   },
   {
    "duration": 0,
    "start_time": "2025-03-10T23:13:37.765Z"
   },
   {
    "duration": 0,
    "start_time": "2025-03-10T23:13:37.767Z"
   },
   {
    "duration": 0,
    "start_time": "2025-03-10T23:13:37.768Z"
   },
   {
    "duration": 0,
    "start_time": "2025-03-10T23:13:37.770Z"
   },
   {
    "duration": 0,
    "start_time": "2025-03-10T23:13:37.771Z"
   },
   {
    "duration": 0,
    "start_time": "2025-03-10T23:13:37.772Z"
   },
   {
    "duration": 0,
    "start_time": "2025-03-10T23:13:37.773Z"
   },
   {
    "duration": 0,
    "start_time": "2025-03-10T23:13:37.774Z"
   },
   {
    "duration": 0,
    "start_time": "2025-03-10T23:13:37.775Z"
   },
   {
    "duration": 0,
    "start_time": "2025-03-10T23:13:37.776Z"
   },
   {
    "duration": 0,
    "start_time": "2025-03-10T23:13:37.777Z"
   },
   {
    "duration": 0,
    "start_time": "2025-03-10T23:13:37.778Z"
   },
   {
    "duration": 879,
    "start_time": "2025-03-10T23:24:50.830Z"
   },
   {
    "duration": 119,
    "start_time": "2025-03-10T23:24:51.712Z"
   },
   {
    "duration": 4,
    "start_time": "2025-03-10T23:24:51.833Z"
   },
   {
    "duration": 24,
    "start_time": "2025-03-10T23:24:51.840Z"
   },
   {
    "duration": 14,
    "start_time": "2025-03-10T23:24:51.867Z"
   },
   {
    "duration": 62,
    "start_time": "2025-03-10T23:24:51.883Z"
   },
   {
    "duration": 23,
    "start_time": "2025-03-10T23:24:51.947Z"
   },
   {
    "duration": 27,
    "start_time": "2025-03-10T23:24:51.972Z"
   },
   {
    "duration": 105,
    "start_time": "2025-03-10T23:24:52.001Z"
   },
   {
    "duration": 4,
    "start_time": "2025-03-10T23:24:52.110Z"
   },
   {
    "duration": 26,
    "start_time": "2025-03-10T23:24:52.116Z"
   },
   {
    "duration": 11,
    "start_time": "2025-03-10T23:24:52.144Z"
   },
   {
    "duration": 50,
    "start_time": "2025-03-10T23:24:52.157Z"
   },
   {
    "duration": 43,
    "start_time": "2025-03-10T23:24:52.209Z"
   },
   {
    "duration": 25,
    "start_time": "2025-03-10T23:24:52.257Z"
   },
   {
    "duration": 94,
    "start_time": "2025-03-10T23:24:52.284Z"
   },
   {
    "duration": 4,
    "start_time": "2025-03-10T23:24:52.381Z"
   },
   {
    "duration": 23,
    "start_time": "2025-03-10T23:24:52.387Z"
   },
   {
    "duration": 25,
    "start_time": "2025-03-10T23:24:52.412Z"
   },
   {
    "duration": 59,
    "start_time": "2025-03-10T23:24:52.439Z"
   },
   {
    "duration": 37,
    "start_time": "2025-03-10T23:24:52.500Z"
   },
   {
    "duration": 26,
    "start_time": "2025-03-10T23:24:52.539Z"
   },
   {
    "duration": 17,
    "start_time": "2025-03-10T23:24:52.569Z"
   },
   {
    "duration": 16,
    "start_time": "2025-03-10T23:24:52.588Z"
   },
   {
    "duration": 9,
    "start_time": "2025-03-10T23:24:52.636Z"
   },
   {
    "duration": 3,
    "start_time": "2025-03-10T23:24:52.647Z"
   },
   {
    "duration": 5,
    "start_time": "2025-03-10T23:24:52.651Z"
   },
   {
    "duration": 72,
    "start_time": "2025-03-10T23:24:52.660Z"
   },
   {
    "duration": 28,
    "start_time": "2025-03-10T23:24:52.734Z"
   },
   {
    "duration": 12,
    "start_time": "2025-03-10T23:24:52.764Z"
   },
   {
    "duration": 11,
    "start_time": "2025-03-10T23:24:52.778Z"
   },
   {
    "duration": 50,
    "start_time": "2025-03-10T23:24:52.790Z"
   },
   {
    "duration": 5,
    "start_time": "2025-03-10T23:24:52.841Z"
   },
   {
    "duration": 4,
    "start_time": "2025-03-10T23:24:52.848Z"
   },
   {
    "duration": 7,
    "start_time": "2025-03-10T23:24:52.854Z"
   },
   {
    "duration": 83,
    "start_time": "2025-03-10T23:24:52.862Z"
   },
   {
    "duration": 18,
    "start_time": "2025-03-10T23:24:52.947Z"
   },
   {
    "duration": 10,
    "start_time": "2025-03-10T23:24:52.968Z"
   },
   {
    "duration": 51,
    "start_time": "2025-03-10T23:24:52.980Z"
   },
   {
    "duration": 4,
    "start_time": "2025-03-10T23:24:53.034Z"
   },
   {
    "duration": 6,
    "start_time": "2025-03-10T23:24:53.039Z"
   },
   {
    "duration": 25,
    "start_time": "2025-03-10T23:27:33.636Z"
   },
   {
    "duration": 24,
    "start_time": "2025-03-10T23:35:48.592Z"
   },
   {
    "duration": 804,
    "start_time": "2025-03-11T01:09:04.046Z"
   },
   {
    "duration": 115,
    "start_time": "2025-03-11T01:09:04.852Z"
   },
   {
    "duration": 4,
    "start_time": "2025-03-11T01:09:04.969Z"
   },
   {
    "duration": 16,
    "start_time": "2025-03-11T01:09:04.975Z"
   },
   {
    "duration": 30,
    "start_time": "2025-03-11T01:09:04.994Z"
   },
   {
    "duration": 33,
    "start_time": "2025-03-11T01:09:05.026Z"
   },
   {
    "duration": 20,
    "start_time": "2025-03-11T01:09:05.061Z"
   },
   {
    "duration": 45,
    "start_time": "2025-03-11T01:09:05.083Z"
   },
   {
    "duration": 106,
    "start_time": "2025-03-11T01:09:05.130Z"
   },
   {
    "duration": 3,
    "start_time": "2025-03-11T01:09:05.239Z"
   },
   {
    "duration": 16,
    "start_time": "2025-03-11T01:09:05.244Z"
   },
   {
    "duration": 11,
    "start_time": "2025-03-11T01:09:05.262Z"
   },
   {
    "duration": 65,
    "start_time": "2025-03-11T01:09:05.275Z"
   },
   {
    "duration": 15,
    "start_time": "2025-03-11T01:09:05.345Z"
   },
   {
    "duration": 23,
    "start_time": "2025-03-11T01:09:05.363Z"
   },
   {
    "duration": 131,
    "start_time": "2025-03-11T01:09:05.388Z"
   },
   {
    "duration": 4,
    "start_time": "2025-03-11T01:09:05.525Z"
   },
   {
    "duration": 15,
    "start_time": "2025-03-11T01:09:05.531Z"
   },
   {
    "duration": 13,
    "start_time": "2025-03-11T01:09:05.548Z"
   },
   {
    "duration": 66,
    "start_time": "2025-03-11T01:09:05.563Z"
   },
   {
    "duration": 16,
    "start_time": "2025-03-11T01:09:05.631Z"
   },
   {
    "duration": 24,
    "start_time": "2025-03-11T01:09:05.648Z"
   },
   {
    "duration": 13,
    "start_time": "2025-03-11T01:09:05.674Z"
   },
   {
    "duration": 40,
    "start_time": "2025-03-11T01:09:05.688Z"
   },
   {
    "duration": 14,
    "start_time": "2025-03-11T01:09:05.730Z"
   },
   {
    "duration": 4,
    "start_time": "2025-03-11T01:09:05.745Z"
   },
   {
    "duration": 4,
    "start_time": "2025-03-11T01:09:05.751Z"
   },
   {
    "duration": 69,
    "start_time": "2025-03-11T01:09:05.756Z"
   },
   {
    "duration": 31,
    "start_time": "2025-03-11T01:09:05.828Z"
   },
   {
    "duration": 14,
    "start_time": "2025-03-11T01:09:05.861Z"
   },
   {
    "duration": 11,
    "start_time": "2025-03-11T01:09:05.877Z"
   },
   {
    "duration": 14,
    "start_time": "2025-03-11T01:09:05.926Z"
   },
   {
    "duration": 3,
    "start_time": "2025-03-11T01:09:05.942Z"
   },
   {
    "duration": 5,
    "start_time": "2025-03-11T01:09:05.947Z"
   },
   {
    "duration": 72,
    "start_time": "2025-03-11T01:09:05.953Z"
   },
   {
    "duration": 25,
    "start_time": "2025-03-11T01:09:06.027Z"
   },
   {
    "duration": 13,
    "start_time": "2025-03-11T01:09:06.053Z"
   },
   {
    "duration": 16,
    "start_time": "2025-03-11T01:09:06.067Z"
   },
   {
    "duration": 50,
    "start_time": "2025-03-11T01:09:06.085Z"
   },
   {
    "duration": 4,
    "start_time": "2025-03-11T01:09:06.137Z"
   },
   {
    "duration": 5,
    "start_time": "2025-03-11T01:09:06.147Z"
   },
   {
    "duration": 72,
    "start_time": "2025-03-11T01:09:06.153Z"
   },
   {
    "duration": 25,
    "start_time": "2025-03-11T01:09:06.228Z"
   },
   {
    "duration": 11,
    "start_time": "2025-03-11T01:09:25.702Z"
   },
   {
    "duration": 10,
    "start_time": "2025-03-11T01:09:28.749Z"
   },
   {
    "duration": 10,
    "start_time": "2025-03-11T01:09:31.936Z"
   },
   {
    "duration": 163,
    "start_time": "2025-03-12T02:07:35.975Z"
   },
   {
    "duration": 844,
    "start_time": "2025-03-12T02:07:42.290Z"
   },
   {
    "duration": 119,
    "start_time": "2025-03-12T02:07:43.137Z"
   },
   {
    "duration": 3,
    "start_time": "2025-03-12T02:07:43.258Z"
   },
   {
    "duration": 17,
    "start_time": "2025-03-12T02:07:43.263Z"
   },
   {
    "duration": 25,
    "start_time": "2025-03-12T02:07:43.283Z"
   },
   {
    "duration": 35,
    "start_time": "2025-03-12T02:07:43.310Z"
   },
   {
    "duration": 16,
    "start_time": "2025-03-12T02:07:43.346Z"
   },
   {
    "duration": 52,
    "start_time": "2025-03-12T02:07:43.364Z"
   },
   {
    "duration": 114,
    "start_time": "2025-03-12T02:07:43.419Z"
   },
   {
    "duration": 5,
    "start_time": "2025-03-12T02:07:43.535Z"
   },
   {
    "duration": 19,
    "start_time": "2025-03-12T02:07:43.543Z"
   },
   {
    "duration": 12,
    "start_time": "2025-03-12T02:07:43.564Z"
   },
   {
    "duration": 65,
    "start_time": "2025-03-12T02:07:43.578Z"
   },
   {
    "duration": 16,
    "start_time": "2025-03-12T02:07:43.646Z"
   },
   {
    "duration": 22,
    "start_time": "2025-03-12T02:07:43.665Z"
   },
   {
    "duration": 109,
    "start_time": "2025-03-12T02:07:43.707Z"
   },
   {
    "duration": 4,
    "start_time": "2025-03-12T02:07:43.818Z"
   },
   {
    "duration": 17,
    "start_time": "2025-03-12T02:07:43.824Z"
   },
   {
    "duration": 10,
    "start_time": "2025-03-12T02:07:43.843Z"
   },
   {
    "duration": 33,
    "start_time": "2025-03-12T02:07:43.855Z"
   },
   {
    "duration": 16,
    "start_time": "2025-03-12T02:07:43.906Z"
   },
   {
    "duration": 21,
    "start_time": "2025-03-12T02:07:43.924Z"
   },
   {
    "duration": 13,
    "start_time": "2025-03-12T02:07:43.947Z"
   },
   {
    "duration": 11,
    "start_time": "2025-03-12T02:07:43.961Z"
   },
   {
    "duration": 43,
    "start_time": "2025-03-12T02:07:43.973Z"
   },
   {
    "duration": 4,
    "start_time": "2025-03-12T02:07:44.019Z"
   },
   {
    "duration": 79,
    "start_time": "2025-03-12T02:07:44.026Z"
   },
   {
    "duration": 4,
    "start_time": "2025-03-12T02:07:44.108Z"
   },
   {
    "duration": 33,
    "start_time": "2025-03-12T02:07:44.114Z"
   },
   {
    "duration": 16,
    "start_time": "2025-03-12T02:07:44.149Z"
   },
   {
    "duration": 40,
    "start_time": "2025-03-12T02:07:44.167Z"
   },
   {
    "duration": 9,
    "start_time": "2025-03-12T02:07:44.209Z"
   },
   {
    "duration": 3,
    "start_time": "2025-03-12T02:07:44.220Z"
   },
   {
    "duration": 7,
    "start_time": "2025-03-12T02:07:44.225Z"
   },
   {
    "duration": 75,
    "start_time": "2025-03-12T02:07:44.234Z"
   },
   {
    "duration": 26,
    "start_time": "2025-03-12T02:07:44.311Z"
   },
   {
    "duration": 12,
    "start_time": "2025-03-12T02:07:44.339Z"
   },
   {
    "duration": 53,
    "start_time": "2025-03-12T02:07:44.352Z"
   },
   {
    "duration": 9,
    "start_time": "2025-03-12T02:07:44.407Z"
   },
   {
    "duration": 3,
    "start_time": "2025-03-12T02:07:44.418Z"
   },
   {
    "duration": 3,
    "start_time": "2025-03-12T02:07:44.427Z"
   },
   {
    "duration": 5,
    "start_time": "2025-03-12T02:07:44.505Z"
   },
   {
    "duration": 26,
    "start_time": "2025-03-12T02:07:44.512Z"
   },
   {
    "duration": 5,
    "start_time": "2025-03-12T02:07:44.540Z"
   },
   {
    "duration": 3,
    "start_time": "2025-03-12T02:08:19.574Z"
   },
   {
    "duration": 5,
    "start_time": "2025-03-12T02:08:28.878Z"
   },
   {
    "duration": 3,
    "start_time": "2025-03-12T02:08:34.635Z"
   },
   {
    "duration": 4,
    "start_time": "2025-03-12T02:19:16.123Z"
   },
   {
    "duration": 5,
    "start_time": "2025-03-12T02:31:17.414Z"
   },
   {
    "duration": 4,
    "start_time": "2025-03-12T02:31:27.354Z"
   },
   {
    "duration": 783,
    "start_time": "2025-03-12T02:34:26.050Z"
   },
   {
    "duration": 92,
    "start_time": "2025-03-12T02:34:26.835Z"
   },
   {
    "duration": 3,
    "start_time": "2025-03-12T02:34:26.929Z"
   },
   {
    "duration": 16,
    "start_time": "2025-03-12T02:34:26.934Z"
   },
   {
    "duration": 12,
    "start_time": "2025-03-12T02:34:26.953Z"
   },
   {
    "duration": 68,
    "start_time": "2025-03-12T02:34:26.966Z"
   },
   {
    "duration": 18,
    "start_time": "2025-03-12T02:34:27.036Z"
   },
   {
    "duration": 28,
    "start_time": "2025-03-12T02:34:27.055Z"
   },
   {
    "duration": 84,
    "start_time": "2025-03-12T02:34:27.105Z"
   },
   {
    "duration": 4,
    "start_time": "2025-03-12T02:34:27.205Z"
   },
   {
    "duration": 18,
    "start_time": "2025-03-12T02:34:27.211Z"
   },
   {
    "duration": 12,
    "start_time": "2025-03-12T02:34:27.231Z"
   },
   {
    "duration": 61,
    "start_time": "2025-03-12T02:34:27.245Z"
   },
   {
    "duration": 17,
    "start_time": "2025-03-12T02:34:27.308Z"
   },
   {
    "duration": 21,
    "start_time": "2025-03-12T02:34:27.326Z"
   },
   {
    "duration": 106,
    "start_time": "2025-03-12T02:34:27.348Z"
   },
   {
    "duration": 4,
    "start_time": "2025-03-12T02:34:27.456Z"
   },
   {
    "duration": 17,
    "start_time": "2025-03-12T02:34:27.461Z"
   },
   {
    "duration": 27,
    "start_time": "2025-03-12T02:34:27.480Z"
   },
   {
    "duration": 33,
    "start_time": "2025-03-12T02:34:27.509Z"
   },
   {
    "duration": 16,
    "start_time": "2025-03-12T02:34:27.545Z"
   },
   {
    "duration": 43,
    "start_time": "2025-03-12T02:34:27.563Z"
   },
   {
    "duration": 14,
    "start_time": "2025-03-12T02:34:27.608Z"
   },
   {
    "duration": 15,
    "start_time": "2025-03-12T02:34:27.623Z"
   },
   {
    "duration": 9,
    "start_time": "2025-03-12T02:34:27.640Z"
   },
   {
    "duration": 3,
    "start_time": "2025-03-12T02:34:27.707Z"
   },
   {
    "duration": 3,
    "start_time": "2025-03-12T02:34:27.713Z"
   },
   {
    "duration": 7,
    "start_time": "2025-03-12T02:34:27.722Z"
   },
   {
    "duration": 29,
    "start_time": "2025-03-12T02:34:27.806Z"
   },
   {
    "duration": 12,
    "start_time": "2025-03-12T02:34:27.836Z"
   },
   {
    "duration": 9,
    "start_time": "2025-03-12T02:34:27.850Z"
   },
   {
    "duration": 49,
    "start_time": "2025-03-12T02:34:27.861Z"
   },
   {
    "duration": 4,
    "start_time": "2025-03-12T02:34:27.912Z"
   },
   {
    "duration": 4,
    "start_time": "2025-03-12T02:34:27.918Z"
   },
   {
    "duration": 82,
    "start_time": "2025-03-12T02:34:27.924Z"
   },
   {
    "duration": 26,
    "start_time": "2025-03-12T02:34:28.008Z"
   },
   {
    "duration": 12,
    "start_time": "2025-03-12T02:34:28.036Z"
   },
   {
    "duration": 11,
    "start_time": "2025-03-12T02:34:28.050Z"
   },
   {
    "duration": 50,
    "start_time": "2025-03-12T02:34:28.063Z"
   },
   {
    "duration": 6,
    "start_time": "2025-03-12T02:34:28.115Z"
   },
   {
    "duration": 3,
    "start_time": "2025-03-12T02:34:28.123Z"
   },
   {
    "duration": 78,
    "start_time": "2025-03-12T02:34:28.128Z"
   },
   {
    "duration": 29,
    "start_time": "2025-03-12T02:34:28.208Z"
   },
   {
    "duration": 4,
    "start_time": "2025-03-12T02:34:28.239Z"
   },
   {
    "duration": 801,
    "start_time": "2025-03-12T02:36:42.256Z"
   },
   {
    "duration": 94,
    "start_time": "2025-03-12T02:36:43.059Z"
   },
   {
    "duration": 3,
    "start_time": "2025-03-12T02:36:43.155Z"
   },
   {
    "duration": 17,
    "start_time": "2025-03-12T02:36:43.160Z"
   },
   {
    "duration": 30,
    "start_time": "2025-03-12T02:36:43.181Z"
   },
   {
    "duration": 36,
    "start_time": "2025-03-12T02:36:43.213Z"
   },
   {
    "duration": 17,
    "start_time": "2025-03-12T02:36:43.251Z"
   },
   {
    "duration": 52,
    "start_time": "2025-03-12T02:36:43.270Z"
   },
   {
    "duration": 90,
    "start_time": "2025-03-12T02:36:43.324Z"
   },
   {
    "duration": 4,
    "start_time": "2025-03-12T02:36:43.416Z"
   },
   {
    "duration": 21,
    "start_time": "2025-03-12T02:36:43.422Z"
   },
   {
    "duration": 12,
    "start_time": "2025-03-12T02:36:43.444Z"
   },
   {
    "duration": 58,
    "start_time": "2025-03-12T02:36:43.458Z"
   },
   {
    "duration": 18,
    "start_time": "2025-03-12T02:36:43.519Z"
   },
   {
    "duration": 21,
    "start_time": "2025-03-12T02:36:43.539Z"
   },
   {
    "duration": 104,
    "start_time": "2025-03-12T02:36:43.561Z"
   },
   {
    "duration": 4,
    "start_time": "2025-03-12T02:36:43.666Z"
   },
   {
    "duration": 15,
    "start_time": "2025-03-12T02:36:43.672Z"
   },
   {
    "duration": 11,
    "start_time": "2025-03-12T02:36:43.705Z"
   },
   {
    "duration": 32,
    "start_time": "2025-03-12T02:36:43.718Z"
   },
   {
    "duration": 15,
    "start_time": "2025-03-12T02:36:43.751Z"
   },
   {
    "duration": 41,
    "start_time": "2025-03-12T02:36:43.768Z"
   },
   {
    "duration": 13,
    "start_time": "2025-03-12T02:36:43.811Z"
   },
   {
    "duration": 11,
    "start_time": "2025-03-12T02:36:43.826Z"
   },
   {
    "duration": 68,
    "start_time": "2025-03-12T02:36:43.838Z"
   },
   {
    "duration": 4,
    "start_time": "2025-03-12T02:36:43.908Z"
   },
   {
    "duration": 4,
    "start_time": "2025-03-12T02:36:43.914Z"
   },
   {
    "duration": 4,
    "start_time": "2025-03-12T02:36:43.920Z"
   },
   {
    "duration": 106,
    "start_time": "2025-03-12T02:36:43.930Z"
   },
   {
    "duration": 14,
    "start_time": "2025-03-12T02:36:44.038Z"
   },
   {
    "duration": 10,
    "start_time": "2025-03-12T02:36:44.054Z"
   },
   {
    "duration": 43,
    "start_time": "2025-03-12T02:36:44.066Z"
   },
   {
    "duration": 3,
    "start_time": "2025-03-12T02:36:44.111Z"
   },
   {
    "duration": 4,
    "start_time": "2025-03-12T02:36:44.116Z"
   },
   {
    "duration": 5,
    "start_time": "2025-03-12T02:36:44.121Z"
   },
   {
    "duration": 102,
    "start_time": "2025-03-12T02:36:44.128Z"
   },
   {
    "duration": 12,
    "start_time": "2025-03-12T02:36:44.232Z"
   },
   {
    "duration": 9,
    "start_time": "2025-03-12T02:36:44.246Z"
   },
   {
    "duration": 49,
    "start_time": "2025-03-12T02:36:44.257Z"
   },
   {
    "duration": 3,
    "start_time": "2025-03-12T02:36:44.308Z"
   },
   {
    "duration": 4,
    "start_time": "2025-03-12T02:36:44.316Z"
   },
   {
    "duration": 5,
    "start_time": "2025-03-12T02:36:44.322Z"
   },
   {
    "duration": 95,
    "start_time": "2025-03-12T02:36:44.330Z"
   },
   {
    "duration": 5,
    "start_time": "2025-03-12T02:36:44.426Z"
   },
   {
    "duration": 10,
    "start_time": "2025-03-12T02:36:44.432Z"
   },
   {
    "duration": 787,
    "start_time": "2025-03-12T02:37:26.065Z"
   },
   {
    "duration": 89,
    "start_time": "2025-03-12T02:37:26.854Z"
   },
   {
    "duration": 5,
    "start_time": "2025-03-12T02:37:26.945Z"
   },
   {
    "duration": 17,
    "start_time": "2025-03-12T02:37:26.953Z"
   },
   {
    "duration": 33,
    "start_time": "2025-03-12T02:37:26.972Z"
   },
   {
    "duration": 35,
    "start_time": "2025-03-12T02:37:27.007Z"
   },
   {
    "duration": 20,
    "start_time": "2025-03-12T02:37:27.043Z"
   },
   {
    "duration": 47,
    "start_time": "2025-03-12T02:37:27.065Z"
   },
   {
    "duration": 81,
    "start_time": "2025-03-12T02:37:27.114Z"
   },
   {
    "duration": 4,
    "start_time": "2025-03-12T02:37:27.206Z"
   },
   {
    "duration": 17,
    "start_time": "2025-03-12T02:37:27.212Z"
   },
   {
    "duration": 11,
    "start_time": "2025-03-12T02:37:27.230Z"
   },
   {
    "duration": 36,
    "start_time": "2025-03-12T02:37:27.243Z"
   },
   {
    "duration": 17,
    "start_time": "2025-03-12T02:37:27.306Z"
   },
   {
    "duration": 22,
    "start_time": "2025-03-12T02:37:27.325Z"
   },
   {
    "duration": 105,
    "start_time": "2025-03-12T02:37:27.349Z"
   },
   {
    "duration": 4,
    "start_time": "2025-03-12T02:37:27.455Z"
   },
   {
    "duration": 18,
    "start_time": "2025-03-12T02:37:27.461Z"
   },
   {
    "duration": 28,
    "start_time": "2025-03-12T02:37:27.481Z"
   },
   {
    "duration": 37,
    "start_time": "2025-03-12T02:37:27.511Z"
   },
   {
    "duration": 18,
    "start_time": "2025-03-12T02:37:27.551Z"
   },
   {
    "duration": 40,
    "start_time": "2025-03-12T02:37:27.570Z"
   },
   {
    "duration": 14,
    "start_time": "2025-03-12T02:37:27.612Z"
   },
   {
    "duration": 13,
    "start_time": "2025-03-12T02:37:27.628Z"
   },
   {
    "duration": 62,
    "start_time": "2025-03-12T02:37:27.645Z"
   },
   {
    "duration": 4,
    "start_time": "2025-03-12T02:37:27.709Z"
   },
   {
    "duration": 4,
    "start_time": "2025-03-12T02:37:27.715Z"
   },
   {
    "duration": 80,
    "start_time": "2025-03-12T02:37:27.728Z"
   },
   {
    "duration": 31,
    "start_time": "2025-03-12T02:37:27.810Z"
   },
   {
    "duration": 13,
    "start_time": "2025-03-12T02:37:27.843Z"
   },
   {
    "duration": 48,
    "start_time": "2025-03-12T02:37:27.857Z"
   },
   {
    "duration": 11,
    "start_time": "2025-03-12T02:37:27.907Z"
   },
   {
    "duration": 4,
    "start_time": "2025-03-12T02:37:27.921Z"
   },
   {
    "duration": 4,
    "start_time": "2025-03-12T02:37:27.927Z"
   },
   {
    "duration": 6,
    "start_time": "2025-03-12T02:37:28.004Z"
   },
   {
    "duration": 27,
    "start_time": "2025-03-12T02:37:28.011Z"
   },
   {
    "duration": 12,
    "start_time": "2025-03-12T02:37:28.040Z"
   },
   {
    "duration": 52,
    "start_time": "2025-03-12T02:37:28.054Z"
   },
   {
    "duration": 9,
    "start_time": "2025-03-12T02:37:28.108Z"
   },
   {
    "duration": 3,
    "start_time": "2025-03-12T02:37:28.118Z"
   },
   {
    "duration": 3,
    "start_time": "2025-03-12T02:37:28.123Z"
   },
   {
    "duration": 80,
    "start_time": "2025-03-12T02:37:28.128Z"
   },
   {
    "duration": 25,
    "start_time": "2025-03-12T02:37:28.210Z"
   },
   {
    "duration": 5,
    "start_time": "2025-03-12T02:37:28.236Z"
   },
   {
    "duration": 4,
    "start_time": "2025-03-12T02:37:28.242Z"
   },
   {
    "duration": 753,
    "start_time": "2025-03-12T02:48:54.081Z"
   },
   {
    "duration": 91,
    "start_time": "2025-03-12T02:48:54.837Z"
   },
   {
    "duration": 4,
    "start_time": "2025-03-12T02:48:54.929Z"
   },
   {
    "duration": 20,
    "start_time": "2025-03-12T02:48:54.935Z"
   },
   {
    "duration": 11,
    "start_time": "2025-03-12T02:48:54.958Z"
   },
   {
    "duration": 70,
    "start_time": "2025-03-12T02:48:54.971Z"
   },
   {
    "duration": 23,
    "start_time": "2025-03-12T02:48:55.043Z"
   },
   {
    "duration": 46,
    "start_time": "2025-03-12T02:48:55.069Z"
   },
   {
    "duration": 93,
    "start_time": "2025-03-12T02:48:55.117Z"
   },
   {
    "duration": 3,
    "start_time": "2025-03-12T02:48:55.212Z"
   },
   {
    "duration": 19,
    "start_time": "2025-03-12T02:48:55.217Z"
   },
   {
    "duration": 11,
    "start_time": "2025-03-12T02:48:55.238Z"
   },
   {
    "duration": 56,
    "start_time": "2025-03-12T02:48:55.251Z"
   },
   {
    "duration": 18,
    "start_time": "2025-03-12T02:48:55.311Z"
   },
   {
    "duration": 21,
    "start_time": "2025-03-12T02:48:55.330Z"
   },
   {
    "duration": 104,
    "start_time": "2025-03-12T02:48:55.353Z"
   },
   {
    "duration": 4,
    "start_time": "2025-03-12T02:48:55.459Z"
   },
   {
    "duration": 17,
    "start_time": "2025-03-12T02:48:55.465Z"
   },
   {
    "duration": 28,
    "start_time": "2025-03-12T02:48:55.483Z"
   },
   {
    "duration": 37,
    "start_time": "2025-03-12T02:48:55.513Z"
   },
   {
    "duration": 16,
    "start_time": "2025-03-12T02:48:55.551Z"
   },
   {
    "duration": 46,
    "start_time": "2025-03-12T02:48:55.569Z"
   },
   {
    "duration": 14,
    "start_time": "2025-03-12T02:48:55.617Z"
   },
   {
    "duration": 11,
    "start_time": "2025-03-12T02:48:55.633Z"
   },
   {
    "duration": 60,
    "start_time": "2025-03-12T02:48:55.646Z"
   },
   {
    "duration": 6,
    "start_time": "2025-03-12T02:48:55.709Z"
   },
   {
    "duration": 5,
    "start_time": "2025-03-12T02:48:55.719Z"
   },
   {
    "duration": 79,
    "start_time": "2025-03-12T02:48:55.726Z"
   },
   {
    "duration": 29,
    "start_time": "2025-03-12T02:48:55.807Z"
   },
   {
    "duration": 13,
    "start_time": "2025-03-12T02:48:55.838Z"
   },
   {
    "duration": 13,
    "start_time": "2025-03-12T02:48:55.852Z"
   },
   {
    "duration": 48,
    "start_time": "2025-03-12T02:48:55.867Z"
   },
   {
    "duration": 3,
    "start_time": "2025-03-12T02:48:55.917Z"
   },
   {
    "duration": 3,
    "start_time": "2025-03-12T02:48:55.922Z"
   },
   {
    "duration": 79,
    "start_time": "2025-03-12T02:48:55.927Z"
   },
   {
    "duration": 27,
    "start_time": "2025-03-12T02:48:56.008Z"
   },
   {
    "duration": 11,
    "start_time": "2025-03-12T02:48:56.036Z"
   },
   {
    "duration": 12,
    "start_time": "2025-03-12T02:48:56.049Z"
   },
   {
    "duration": 48,
    "start_time": "2025-03-12T02:48:56.063Z"
   },
   {
    "duration": 6,
    "start_time": "2025-03-12T02:48:56.113Z"
   },
   {
    "duration": 6,
    "start_time": "2025-03-12T02:48:56.126Z"
   },
   {
    "duration": 6,
    "start_time": "2025-03-12T02:48:56.205Z"
   },
   {
    "duration": 26,
    "start_time": "2025-03-12T02:48:56.212Z"
   },
   {
    "duration": 4,
    "start_time": "2025-03-12T02:48:56.240Z"
   },
   {
    "duration": 4,
    "start_time": "2025-03-12T02:48:56.246Z"
   },
   {
    "duration": 3,
    "start_time": "2025-03-12T02:57:22.865Z"
   },
   {
    "duration": 223,
    "start_time": "2025-03-12T02:57:27.925Z"
   },
   {
    "duration": 861,
    "start_time": "2025-03-12T03:00:04.111Z"
   },
   {
    "duration": 102,
    "start_time": "2025-03-12T03:00:04.974Z"
   },
   {
    "duration": 3,
    "start_time": "2025-03-12T03:00:05.078Z"
   },
   {
    "duration": 30,
    "start_time": "2025-03-12T03:00:05.083Z"
   },
   {
    "duration": 13,
    "start_time": "2025-03-12T03:00:05.116Z"
   },
   {
    "duration": 44,
    "start_time": "2025-03-12T03:00:05.131Z"
   },
   {
    "duration": 35,
    "start_time": "2025-03-12T03:00:05.177Z"
   },
   {
    "duration": 31,
    "start_time": "2025-03-12T03:00:05.215Z"
   },
   {
    "duration": 106,
    "start_time": "2025-03-12T03:00:05.254Z"
   },
   {
    "duration": 6,
    "start_time": "2025-03-12T03:00:05.365Z"
   },
   {
    "duration": 22,
    "start_time": "2025-03-12T03:00:05.374Z"
   },
   {
    "duration": 13,
    "start_time": "2025-03-12T03:00:05.406Z"
   },
   {
    "duration": 35,
    "start_time": "2025-03-12T03:00:05.421Z"
   },
   {
    "duration": 20,
    "start_time": "2025-03-12T03:00:05.458Z"
   },
   {
    "duration": 30,
    "start_time": "2025-03-12T03:00:05.504Z"
   },
   {
    "duration": 125,
    "start_time": "2025-03-12T03:00:05.536Z"
   },
   {
    "duration": 5,
    "start_time": "2025-03-12T03:00:05.662Z"
   },
   {
    "duration": 21,
    "start_time": "2025-03-12T03:00:05.669Z"
   },
   {
    "duration": 24,
    "start_time": "2025-03-12T03:00:05.692Z"
   },
   {
    "duration": 37,
    "start_time": "2025-03-12T03:00:05.719Z"
   },
   {
    "duration": 19,
    "start_time": "2025-03-12T03:00:05.757Z"
   },
   {
    "duration": 41,
    "start_time": "2025-03-12T03:00:05.778Z"
   },
   {
    "duration": 13,
    "start_time": "2025-03-12T03:00:05.822Z"
   },
   {
    "duration": 12,
    "start_time": "2025-03-12T03:00:05.837Z"
   },
   {
    "duration": 56,
    "start_time": "2025-03-12T03:00:05.850Z"
   },
   {
    "duration": 14,
    "start_time": "2025-03-12T03:00:05.910Z"
   },
   {
    "duration": 79,
    "start_time": "2025-03-12T03:00:05.928Z"
   },
   {
    "duration": 8,
    "start_time": "2025-03-12T03:00:06.013Z"
   },
   {
    "duration": 30,
    "start_time": "2025-03-12T03:00:06.022Z"
   },
   {
    "duration": 14,
    "start_time": "2025-03-12T03:00:06.054Z"
   },
   {
    "duration": 41,
    "start_time": "2025-03-12T03:00:06.069Z"
   },
   {
    "duration": 16,
    "start_time": "2025-03-12T03:00:06.113Z"
   },
   {
    "duration": 4,
    "start_time": "2025-03-12T03:00:06.131Z"
   },
   {
    "duration": 72,
    "start_time": "2025-03-12T03:00:06.136Z"
   },
   {
    "duration": 4,
    "start_time": "2025-03-12T03:00:06.210Z"
   },
   {
    "duration": 26,
    "start_time": "2025-03-12T03:00:06.216Z"
   },
   {
    "duration": 15,
    "start_time": "2025-03-12T03:00:06.244Z"
   },
   {
    "duration": 45,
    "start_time": "2025-03-12T03:00:06.261Z"
   },
   {
    "duration": 11,
    "start_time": "2025-03-12T03:00:06.308Z"
   },
   {
    "duration": 4,
    "start_time": "2025-03-12T03:00:06.321Z"
   },
   {
    "duration": 4,
    "start_time": "2025-03-12T03:00:06.327Z"
   },
   {
    "duration": 72,
    "start_time": "2025-03-12T03:00:06.333Z"
   },
   {
    "duration": 27,
    "start_time": "2025-03-12T03:00:06.408Z"
   },
   {
    "duration": 4,
    "start_time": "2025-03-12T03:00:06.437Z"
   },
   {
    "duration": 4,
    "start_time": "2025-03-12T03:00:06.443Z"
   },
   {
    "duration": 4,
    "start_time": "2025-03-12T03:00:06.450Z"
   },
   {
    "duration": 7,
    "start_time": "2025-03-12T03:00:06.456Z"
   },
   {
    "duration": 41,
    "start_time": "2025-03-12T03:00:06.465Z"
   },
   {
    "duration": 9,
    "start_time": "2025-03-12T03:00:06.509Z"
   },
   {
    "duration": 812,
    "start_time": "2025-03-13T00:48:38.466Z"
   },
   {
    "duration": 143,
    "start_time": "2025-03-13T00:48:39.280Z"
   },
   {
    "duration": 3,
    "start_time": "2025-03-13T00:48:39.425Z"
   },
   {
    "duration": 23,
    "start_time": "2025-03-13T00:48:39.430Z"
   },
   {
    "duration": 11,
    "start_time": "2025-03-13T00:48:39.471Z"
   },
   {
    "duration": 41,
    "start_time": "2025-03-13T00:48:39.484Z"
   },
   {
    "duration": 44,
    "start_time": "2025-03-13T00:48:39.527Z"
   },
   {
    "duration": 34,
    "start_time": "2025-03-13T00:48:39.573Z"
   },
   {
    "duration": 120,
    "start_time": "2025-03-13T00:48:39.608Z"
   },
   {
    "duration": 5,
    "start_time": "2025-03-13T00:48:39.730Z"
   },
   {
    "duration": 16,
    "start_time": "2025-03-13T00:48:39.737Z"
   },
   {
    "duration": 19,
    "start_time": "2025-03-13T00:48:39.756Z"
   },
   {
    "duration": 33,
    "start_time": "2025-03-13T00:48:39.777Z"
   },
   {
    "duration": 14,
    "start_time": "2025-03-13T00:48:39.814Z"
   },
   {
    "duration": 52,
    "start_time": "2025-03-13T00:48:39.830Z"
   },
   {
    "duration": 140,
    "start_time": "2025-03-13T00:48:39.883Z"
   },
   {
    "duration": 5,
    "start_time": "2025-03-13T00:48:40.025Z"
   },
   {
    "duration": 19,
    "start_time": "2025-03-13T00:48:40.033Z"
   },
   {
    "duration": 18,
    "start_time": "2025-03-13T00:48:40.054Z"
   },
   {
    "duration": 45,
    "start_time": "2025-03-13T00:48:40.074Z"
   },
   {
    "duration": 18,
    "start_time": "2025-03-13T00:48:40.123Z"
   },
   {
    "duration": 36,
    "start_time": "2025-03-13T00:48:40.143Z"
   },
   {
    "duration": 13,
    "start_time": "2025-03-13T00:48:40.181Z"
   },
   {
    "duration": 20,
    "start_time": "2025-03-13T00:48:40.196Z"
   },
   {
    "duration": 61,
    "start_time": "2025-03-13T00:48:40.218Z"
   },
   {
    "duration": 4,
    "start_time": "2025-03-13T00:48:40.280Z"
   },
   {
    "duration": 5,
    "start_time": "2025-03-13T00:48:40.286Z"
   },
   {
    "duration": 6,
    "start_time": "2025-03-13T00:48:40.293Z"
   },
   {
    "duration": 101,
    "start_time": "2025-03-13T00:48:40.301Z"
   },
   {
    "duration": 11,
    "start_time": "2025-03-13T00:48:40.404Z"
   },
   {
    "duration": 13,
    "start_time": "2025-03-13T00:48:40.417Z"
   },
   {
    "duration": 13,
    "start_time": "2025-03-13T00:48:40.469Z"
   },
   {
    "duration": 6,
    "start_time": "2025-03-13T00:48:40.487Z"
   },
   {
    "duration": 72,
    "start_time": "2025-03-13T00:48:40.498Z"
   },
   {
    "duration": 5,
    "start_time": "2025-03-13T00:48:40.572Z"
   },
   {
    "duration": 31,
    "start_time": "2025-03-13T00:48:40.579Z"
   },
   {
    "duration": 15,
    "start_time": "2025-03-13T00:48:40.612Z"
   },
   {
    "duration": 13,
    "start_time": "2025-03-13T00:48:40.629Z"
   },
   {
    "duration": 9,
    "start_time": "2025-03-13T00:48:40.672Z"
   },
   {
    "duration": 3,
    "start_time": "2025-03-13T00:48:40.690Z"
   },
   {
    "duration": 68,
    "start_time": "2025-03-13T00:48:40.703Z"
   },
   {
    "duration": 5,
    "start_time": "2025-03-13T00:48:40.773Z"
   },
   {
    "duration": 32,
    "start_time": "2025-03-13T00:48:40.780Z"
   },
   {
    "duration": 4,
    "start_time": "2025-03-13T00:48:40.814Z"
   },
   {
    "duration": 4,
    "start_time": "2025-03-13T00:48:40.819Z"
   },
   {
    "duration": 4,
    "start_time": "2025-03-13T00:48:40.825Z"
   },
   {
    "duration": 43,
    "start_time": "2025-03-13T00:48:40.830Z"
   },
   {
    "duration": 6,
    "start_time": "2025-03-13T00:48:40.874Z"
   },
   {
    "duration": 6,
    "start_time": "2025-03-13T00:48:40.882Z"
   },
   {
    "duration": 901,
    "start_time": "2025-03-13T00:49:16.204Z"
   },
   {
    "duration": 104,
    "start_time": "2025-03-13T00:49:17.107Z"
   },
   {
    "duration": 7,
    "start_time": "2025-03-13T00:49:17.213Z"
   },
   {
    "duration": 23,
    "start_time": "2025-03-13T00:49:17.222Z"
   },
   {
    "duration": 24,
    "start_time": "2025-03-13T00:49:17.249Z"
   },
   {
    "duration": 51,
    "start_time": "2025-03-13T00:49:17.277Z"
   },
   {
    "duration": 19,
    "start_time": "2025-03-13T00:49:17.330Z"
   },
   {
    "duration": 50,
    "start_time": "2025-03-13T00:49:17.351Z"
   },
   {
    "duration": 96,
    "start_time": "2025-03-13T00:49:17.403Z"
   },
   {
    "duration": 4,
    "start_time": "2025-03-13T00:49:17.501Z"
   },
   {
    "duration": 20,
    "start_time": "2025-03-13T00:49:17.507Z"
   },
   {
    "duration": 12,
    "start_time": "2025-03-13T00:49:17.529Z"
   },
   {
    "duration": 69,
    "start_time": "2025-03-13T00:49:17.544Z"
   },
   {
    "duration": 20,
    "start_time": "2025-03-13T00:49:17.618Z"
   },
   {
    "duration": 33,
    "start_time": "2025-03-13T00:49:17.640Z"
   },
   {
    "duration": 84,
    "start_time": "2025-03-13T00:49:17.675Z"
   },
   {
    "duration": 4,
    "start_time": "2025-03-13T00:49:17.771Z"
   },
   {
    "duration": 16,
    "start_time": "2025-03-13T00:49:17.776Z"
   },
   {
    "duration": 11,
    "start_time": "2025-03-13T00:49:17.794Z"
   },
   {
    "duration": 68,
    "start_time": "2025-03-13T00:49:17.806Z"
   },
   {
    "duration": 17,
    "start_time": "2025-03-13T00:49:17.876Z"
   },
   {
    "duration": 21,
    "start_time": "2025-03-13T00:49:17.894Z"
   },
   {
    "duration": 15,
    "start_time": "2025-03-13T00:49:17.917Z"
   },
   {
    "duration": 46,
    "start_time": "2025-03-13T00:49:17.934Z"
   },
   {
    "duration": 15,
    "start_time": "2025-03-13T00:49:17.983Z"
   },
   {
    "duration": 3,
    "start_time": "2025-03-13T00:49:18.000Z"
   },
   {
    "duration": 70,
    "start_time": "2025-03-13T00:49:18.005Z"
   },
   {
    "duration": 4,
    "start_time": "2025-03-13T00:49:18.077Z"
   },
   {
    "duration": 27,
    "start_time": "2025-03-13T00:49:18.083Z"
   },
   {
    "duration": 13,
    "start_time": "2025-03-13T00:49:18.111Z"
   },
   {
    "duration": 53,
    "start_time": "2025-03-13T00:49:18.126Z"
   },
   {
    "duration": 11,
    "start_time": "2025-03-13T00:49:18.181Z"
   },
   {
    "duration": 4,
    "start_time": "2025-03-13T00:49:18.194Z"
   },
   {
    "duration": 4,
    "start_time": "2025-03-13T00:49:18.201Z"
   },
   {
    "duration": 68,
    "start_time": "2025-03-13T00:49:18.207Z"
   },
   {
    "duration": 28,
    "start_time": "2025-03-13T00:49:18.278Z"
   },
   {
    "duration": 12,
    "start_time": "2025-03-13T00:49:18.308Z"
   },
   {
    "duration": 54,
    "start_time": "2025-03-13T00:49:18.322Z"
   },
   {
    "duration": 17,
    "start_time": "2025-03-13T00:49:18.378Z"
   },
   {
    "duration": 4,
    "start_time": "2025-03-13T00:49:18.396Z"
   },
   {
    "duration": 4,
    "start_time": "2025-03-13T00:49:18.473Z"
   },
   {
    "duration": 6,
    "start_time": "2025-03-13T00:49:18.479Z"
   },
   {
    "duration": 40,
    "start_time": "2025-03-13T00:49:18.487Z"
   },
   {
    "duration": 5,
    "start_time": "2025-03-13T00:49:18.529Z"
   },
   {
    "duration": 5,
    "start_time": "2025-03-13T00:49:18.536Z"
   },
   {
    "duration": 3,
    "start_time": "2025-03-13T00:49:18.543Z"
   },
   {
    "duration": 351,
    "start_time": "2025-03-13T00:49:18.570Z"
   },
   {
    "duration": 0,
    "start_time": "2025-03-13T00:49:18.923Z"
   },
   {
    "duration": 0,
    "start_time": "2025-03-13T00:49:18.926Z"
   },
   {
    "duration": 804,
    "start_time": "2025-03-13T00:50:19.074Z"
   },
   {
    "duration": 91,
    "start_time": "2025-03-13T00:50:19.880Z"
   },
   {
    "duration": 5,
    "start_time": "2025-03-13T00:50:19.973Z"
   },
   {
    "duration": 22,
    "start_time": "2025-03-13T00:50:19.980Z"
   },
   {
    "duration": 15,
    "start_time": "2025-03-13T00:50:20.006Z"
   },
   {
    "duration": 78,
    "start_time": "2025-03-13T00:50:20.023Z"
   },
   {
    "duration": 22,
    "start_time": "2025-03-13T00:50:20.104Z"
   },
   {
    "duration": 43,
    "start_time": "2025-03-13T00:50:20.128Z"
   },
   {
    "duration": 129,
    "start_time": "2025-03-13T00:50:20.172Z"
   },
   {
    "duration": 4,
    "start_time": "2025-03-13T00:50:20.303Z"
   },
   {
    "duration": 24,
    "start_time": "2025-03-13T00:50:20.309Z"
   },
   {
    "duration": 12,
    "start_time": "2025-03-13T00:50:20.335Z"
   },
   {
    "duration": 49,
    "start_time": "2025-03-13T00:50:20.349Z"
   },
   {
    "duration": 15,
    "start_time": "2025-03-13T00:50:20.402Z"
   },
   {
    "duration": 19,
    "start_time": "2025-03-13T00:50:20.418Z"
   },
   {
    "duration": 106,
    "start_time": "2025-03-13T00:50:20.439Z"
   },
   {
    "duration": 6,
    "start_time": "2025-03-13T00:50:20.547Z"
   },
   {
    "duration": 23,
    "start_time": "2025-03-13T00:50:20.556Z"
   },
   {
    "duration": 13,
    "start_time": "2025-03-13T00:50:20.580Z"
   },
   {
    "duration": 40,
    "start_time": "2025-03-13T00:50:20.595Z"
   },
   {
    "duration": 38,
    "start_time": "2025-03-13T00:50:20.637Z"
   },
   {
    "duration": 21,
    "start_time": "2025-03-13T00:50:20.678Z"
   },
   {
    "duration": 14,
    "start_time": "2025-03-13T00:50:20.702Z"
   },
   {
    "duration": 13,
    "start_time": "2025-03-13T00:50:20.717Z"
   },
   {
    "duration": 40,
    "start_time": "2025-03-13T00:50:20.732Z"
   },
   {
    "duration": 3,
    "start_time": "2025-03-13T00:50:20.775Z"
   },
   {
    "duration": 4,
    "start_time": "2025-03-13T00:50:20.779Z"
   },
   {
    "duration": 5,
    "start_time": "2025-03-13T00:50:20.785Z"
   },
   {
    "duration": 101,
    "start_time": "2025-03-13T00:50:20.791Z"
   },
   {
    "duration": 13,
    "start_time": "2025-03-13T00:50:20.894Z"
   },
   {
    "duration": 61,
    "start_time": "2025-03-13T00:50:20.909Z"
   },
   {
    "duration": 10,
    "start_time": "2025-03-13T00:50:20.975Z"
   },
   {
    "duration": 4,
    "start_time": "2025-03-13T00:50:20.990Z"
   },
   {
    "duration": 4,
    "start_time": "2025-03-13T00:50:20.996Z"
   },
   {
    "duration": 70,
    "start_time": "2025-03-13T00:50:21.002Z"
   },
   {
    "duration": 25,
    "start_time": "2025-03-13T00:50:21.075Z"
   },
   {
    "duration": 12,
    "start_time": "2025-03-13T00:50:21.102Z"
   },
   {
    "duration": 55,
    "start_time": "2025-03-13T00:50:21.116Z"
   },
   {
    "duration": 11,
    "start_time": "2025-03-13T00:50:21.189Z"
   },
   {
    "duration": 7,
    "start_time": "2025-03-13T00:50:21.204Z"
   },
   {
    "duration": 4,
    "start_time": "2025-03-13T00:50:21.273Z"
   },
   {
    "duration": 5,
    "start_time": "2025-03-13T00:50:21.280Z"
   },
   {
    "duration": 26,
    "start_time": "2025-03-13T00:50:21.287Z"
   },
   {
    "duration": 4,
    "start_time": "2025-03-13T00:50:21.315Z"
   },
   {
    "duration": 4,
    "start_time": "2025-03-13T00:50:21.321Z"
   },
   {
    "duration": 3,
    "start_time": "2025-03-13T00:50:21.327Z"
   },
   {
    "duration": 292,
    "start_time": "2025-03-13T00:50:21.332Z"
   },
   {
    "duration": 0,
    "start_time": "2025-03-13T00:50:21.627Z"
   },
   {
    "duration": 0,
    "start_time": "2025-03-13T00:50:21.632Z"
   },
   {
    "duration": 7,
    "start_time": "2025-03-13T00:51:53.207Z"
   },
   {
    "duration": 725,
    "start_time": "2025-03-13T00:52:05.468Z"
   },
   {
    "duration": 93,
    "start_time": "2025-03-13T00:52:06.195Z"
   },
   {
    "duration": 4,
    "start_time": "2025-03-13T00:52:06.290Z"
   },
   {
    "duration": 22,
    "start_time": "2025-03-13T00:52:06.296Z"
   },
   {
    "duration": 13,
    "start_time": "2025-03-13T00:52:06.321Z"
   },
   {
    "duration": 66,
    "start_time": "2025-03-13T00:52:06.336Z"
   },
   {
    "duration": 17,
    "start_time": "2025-03-13T00:52:06.403Z"
   },
   {
    "duration": 26,
    "start_time": "2025-03-13T00:52:06.422Z"
   },
   {
    "duration": 100,
    "start_time": "2025-03-13T00:52:06.449Z"
   },
   {
    "duration": 4,
    "start_time": "2025-03-13T00:52:06.552Z"
   },
   {
    "duration": 42,
    "start_time": "2025-03-13T00:52:06.558Z"
   },
   {
    "duration": 14,
    "start_time": "2025-03-13T00:52:06.602Z"
   },
   {
    "duration": 57,
    "start_time": "2025-03-13T00:52:06.618Z"
   },
   {
    "duration": 24,
    "start_time": "2025-03-13T00:52:06.680Z"
   },
   {
    "duration": 27,
    "start_time": "2025-03-13T00:52:06.706Z"
   },
   {
    "duration": 98,
    "start_time": "2025-03-13T00:52:06.735Z"
   },
   {
    "duration": 3,
    "start_time": "2025-03-13T00:52:06.835Z"
   },
   {
    "duration": 16,
    "start_time": "2025-03-13T00:52:06.840Z"
   },
   {
    "duration": 19,
    "start_time": "2025-03-13T00:52:06.870Z"
   },
   {
    "duration": 36,
    "start_time": "2025-03-13T00:52:06.891Z"
   },
   {
    "duration": 18,
    "start_time": "2025-03-13T00:52:06.930Z"
   },
   {
    "duration": 39,
    "start_time": "2025-03-13T00:52:06.950Z"
   },
   {
    "duration": 14,
    "start_time": "2025-03-13T00:52:06.992Z"
   },
   {
    "duration": 61,
    "start_time": "2025-03-13T00:52:07.009Z"
   },
   {
    "duration": 19,
    "start_time": "2025-03-13T00:52:07.074Z"
   },
   {
    "duration": 5,
    "start_time": "2025-03-13T00:52:07.095Z"
   },
   {
    "duration": 69,
    "start_time": "2025-03-13T00:52:07.102Z"
   },
   {
    "duration": 12,
    "start_time": "2025-03-13T00:52:07.173Z"
   },
   {
    "duration": 31,
    "start_time": "2025-03-13T00:52:07.188Z"
   },
   {
    "duration": 12,
    "start_time": "2025-03-13T00:52:07.220Z"
   },
   {
    "duration": 41,
    "start_time": "2025-03-13T00:52:07.234Z"
   },
   {
    "duration": 19,
    "start_time": "2025-03-13T00:52:07.277Z"
   },
   {
    "duration": 4,
    "start_time": "2025-03-13T00:52:07.298Z"
   },
   {
    "duration": 5,
    "start_time": "2025-03-13T00:52:07.303Z"
   },
   {
    "duration": 61,
    "start_time": "2025-03-13T00:52:07.310Z"
   },
   {
    "duration": 32,
    "start_time": "2025-03-13T00:52:07.373Z"
   },
   {
    "duration": 14,
    "start_time": "2025-03-13T00:52:07.407Z"
   },
   {
    "duration": 9,
    "start_time": "2025-03-13T00:52:07.423Z"
   },
   {
    "duration": 40,
    "start_time": "2025-03-13T00:52:07.437Z"
   },
   {
    "duration": 4,
    "start_time": "2025-03-13T00:52:07.479Z"
   },
   {
    "duration": 8,
    "start_time": "2025-03-13T00:52:07.488Z"
   },
   {
    "duration": 73,
    "start_time": "2025-03-13T00:52:07.498Z"
   },
   {
    "duration": 26,
    "start_time": "2025-03-13T00:52:07.573Z"
   },
   {
    "duration": 4,
    "start_time": "2025-03-13T00:52:07.602Z"
   },
   {
    "duration": 5,
    "start_time": "2025-03-13T00:52:07.608Z"
   },
   {
    "duration": 5,
    "start_time": "2025-03-13T00:52:07.614Z"
   },
   {
    "duration": 7,
    "start_time": "2025-03-13T00:52:07.621Z"
   },
   {
    "duration": 283,
    "start_time": "2025-03-13T00:52:07.629Z"
   },
   {
    "duration": 0,
    "start_time": "2025-03-13T00:52:07.914Z"
   },
   {
    "duration": 7,
    "start_time": "2025-03-13T00:52:59.154Z"
   },
   {
    "duration": 17,
    "start_time": "2025-03-13T00:53:12.033Z"
   },
   {
    "duration": 7,
    "start_time": "2025-03-13T00:53:30.433Z"
   },
   {
    "duration": 876,
    "start_time": "2025-03-13T02:10:05.901Z"
   },
   {
    "duration": 128,
    "start_time": "2025-03-13T02:10:06.779Z"
   },
   {
    "duration": 4,
    "start_time": "2025-03-13T02:10:06.909Z"
   },
   {
    "duration": 38,
    "start_time": "2025-03-13T02:10:06.915Z"
   },
   {
    "duration": 14,
    "start_time": "2025-03-13T02:10:06.957Z"
   },
   {
    "duration": 58,
    "start_time": "2025-03-13T02:10:06.973Z"
   },
   {
    "duration": 38,
    "start_time": "2025-03-13T02:10:07.033Z"
   },
   {
    "duration": 32,
    "start_time": "2025-03-13T02:10:07.075Z"
   },
   {
    "duration": 160,
    "start_time": "2025-03-13T02:10:07.112Z"
   },
   {
    "duration": 5,
    "start_time": "2025-03-13T02:10:07.276Z"
   },
   {
    "duration": 17,
    "start_time": "2025-03-13T02:10:07.283Z"
   },
   {
    "duration": 12,
    "start_time": "2025-03-13T02:10:07.301Z"
   },
   {
    "duration": 66,
    "start_time": "2025-03-13T02:10:07.327Z"
   },
   {
    "duration": 28,
    "start_time": "2025-03-13T02:10:07.397Z"
   },
   {
    "duration": 30,
    "start_time": "2025-03-13T02:10:07.427Z"
   },
   {
    "duration": 144,
    "start_time": "2025-03-13T02:10:07.459Z"
   },
   {
    "duration": 4,
    "start_time": "2025-03-13T02:10:07.605Z"
   },
   {
    "duration": 38,
    "start_time": "2025-03-13T02:10:07.611Z"
   },
   {
    "duration": 15,
    "start_time": "2025-03-13T02:10:07.651Z"
   },
   {
    "duration": 37,
    "start_time": "2025-03-13T02:10:07.668Z"
   },
   {
    "duration": 28,
    "start_time": "2025-03-13T02:10:07.707Z"
   },
   {
    "duration": 29,
    "start_time": "2025-03-13T02:10:07.740Z"
   },
   {
    "duration": 14,
    "start_time": "2025-03-13T02:10:07.771Z"
   },
   {
    "duration": 11,
    "start_time": "2025-03-13T02:10:07.787Z"
   },
   {
    "duration": 40,
    "start_time": "2025-03-13T02:10:07.800Z"
   },
   {
    "duration": 7,
    "start_time": "2025-03-13T02:10:07.842Z"
   },
   {
    "duration": 6,
    "start_time": "2025-03-13T02:10:07.851Z"
   },
   {
    "duration": 70,
    "start_time": "2025-03-13T02:10:07.859Z"
   },
   {
    "duration": 33,
    "start_time": "2025-03-13T02:10:07.933Z"
   },
   {
    "duration": 15,
    "start_time": "2025-03-13T02:10:07.968Z"
   },
   {
    "duration": 64,
    "start_time": "2025-03-13T02:10:07.984Z"
   },
   {
    "duration": 66,
    "start_time": "2025-03-13T02:10:08.060Z"
   },
   {
    "duration": 5,
    "start_time": "2025-03-13T02:10:08.128Z"
   },
   {
    "duration": 6,
    "start_time": "2025-03-13T02:10:08.136Z"
   },
   {
    "duration": 6,
    "start_time": "2025-03-13T02:10:08.144Z"
   },
   {
    "duration": 28,
    "start_time": "2025-03-13T02:10:08.153Z"
   },
   {
    "duration": 49,
    "start_time": "2025-03-13T02:10:08.183Z"
   },
   {
    "duration": 20,
    "start_time": "2025-03-13T02:10:08.234Z"
   },
   {
    "duration": 18,
    "start_time": "2025-03-13T02:10:08.257Z"
   },
   {
    "duration": 4,
    "start_time": "2025-03-13T02:10:08.277Z"
   },
   {
    "duration": 7,
    "start_time": "2025-03-13T02:10:08.328Z"
   },
   {
    "duration": 5,
    "start_time": "2025-03-13T02:10:08.337Z"
   },
   {
    "duration": 34,
    "start_time": "2025-03-13T02:10:08.344Z"
   },
   {
    "duration": 47,
    "start_time": "2025-03-13T02:10:08.381Z"
   },
   {
    "duration": 5,
    "start_time": "2025-03-13T02:10:08.430Z"
   },
   {
    "duration": 8,
    "start_time": "2025-03-13T02:10:08.436Z"
   },
   {
    "duration": 9,
    "start_time": "2025-03-13T02:10:08.447Z"
   },
   {
    "duration": 8,
    "start_time": "2025-03-13T02:10:08.458Z"
   },
   {
    "duration": 8,
    "start_time": "2025-03-13T02:10:08.468Z"
   },
   {
    "duration": 428,
    "start_time": "2025-03-13T02:16:56.228Z"
   },
   {
    "duration": 803,
    "start_time": "2025-03-13T13:53:52.408Z"
   },
   {
    "duration": 137,
    "start_time": "2025-03-13T13:53:53.213Z"
   },
   {
    "duration": 4,
    "start_time": "2025-03-13T13:53:53.352Z"
   },
   {
    "duration": 18,
    "start_time": "2025-03-13T13:53:53.362Z"
   },
   {
    "duration": 11,
    "start_time": "2025-03-13T13:53:53.382Z"
   },
   {
    "duration": 65,
    "start_time": "2025-03-13T13:53:53.395Z"
   },
   {
    "duration": 20,
    "start_time": "2025-03-13T13:53:53.461Z"
   },
   {
    "duration": 27,
    "start_time": "2025-03-13T13:53:53.483Z"
   },
   {
    "duration": 118,
    "start_time": "2025-03-13T13:53:53.511Z"
   },
   {
    "duration": 27,
    "start_time": "2025-03-13T13:53:53.632Z"
   },
   {
    "duration": 16,
    "start_time": "2025-03-13T13:53:53.661Z"
   },
   {
    "duration": 11,
    "start_time": "2025-03-13T13:53:53.679Z"
   },
   {
    "duration": 33,
    "start_time": "2025-03-13T13:53:53.692Z"
   },
   {
    "duration": 36,
    "start_time": "2025-03-13T13:53:53.727Z"
   },
   {
    "duration": 20,
    "start_time": "2025-03-13T13:53:53.766Z"
   },
   {
    "duration": 123,
    "start_time": "2025-03-13T13:53:53.787Z"
   },
   {
    "duration": 3,
    "start_time": "2025-03-13T13:53:53.912Z"
   },
   {
    "duration": 42,
    "start_time": "2025-03-13T13:53:53.917Z"
   },
   {
    "duration": 12,
    "start_time": "2025-03-13T13:53:53.960Z"
   },
   {
    "duration": 34,
    "start_time": "2025-03-13T13:53:53.974Z"
   },
   {
    "duration": 15,
    "start_time": "2025-03-13T13:53:54.010Z"
   },
   {
    "duration": 24,
    "start_time": "2025-03-13T13:53:54.026Z"
   },
   {
    "duration": 13,
    "start_time": "2025-03-13T13:53:54.052Z"
   },
   {
    "duration": 13,
    "start_time": "2025-03-13T13:53:54.066Z"
   },
   {
    "duration": 59,
    "start_time": "2025-03-13T13:53:54.083Z"
   },
   {
    "duration": 11,
    "start_time": "2025-03-13T13:53:54.145Z"
   },
   {
    "duration": 4,
    "start_time": "2025-03-13T13:53:54.158Z"
   },
   {
    "duration": 5,
    "start_time": "2025-03-13T13:53:54.166Z"
   },
   {
    "duration": 89,
    "start_time": "2025-03-13T13:53:54.173Z"
   },
   {
    "duration": 12,
    "start_time": "2025-03-13T13:53:54.264Z"
   },
   {
    "duration": 10,
    "start_time": "2025-03-13T13:53:54.278Z"
   },
   {
    "duration": 52,
    "start_time": "2025-03-13T13:53:54.289Z"
   },
   {
    "duration": 4,
    "start_time": "2025-03-13T13:53:54.343Z"
   },
   {
    "duration": 12,
    "start_time": "2025-03-13T13:53:54.351Z"
   },
   {
    "duration": 4,
    "start_time": "2025-03-13T13:53:54.368Z"
   },
   {
    "duration": 95,
    "start_time": "2025-03-13T13:53:54.373Z"
   },
   {
    "duration": 11,
    "start_time": "2025-03-13T13:53:54.471Z"
   },
   {
    "duration": 9,
    "start_time": "2025-03-13T13:53:54.483Z"
   },
   {
    "duration": 47,
    "start_time": "2025-03-13T13:53:54.494Z"
   },
   {
    "duration": 11,
    "start_time": "2025-03-13T13:53:54.545Z"
   },
   {
    "duration": 3,
    "start_time": "2025-03-13T13:53:54.567Z"
   },
   {
    "duration": 6,
    "start_time": "2025-03-13T13:53:54.572Z"
   },
   {
    "duration": 94,
    "start_time": "2025-03-13T13:53:54.580Z"
   },
   {
    "duration": 4,
    "start_time": "2025-03-13T13:53:54.676Z"
   },
   {
    "duration": 5,
    "start_time": "2025-03-13T13:53:54.681Z"
   },
   {
    "duration": 4,
    "start_time": "2025-03-13T13:53:54.688Z"
   },
   {
    "duration": 8,
    "start_time": "2025-03-13T13:53:54.693Z"
   },
   {
    "duration": 6,
    "start_time": "2025-03-13T13:53:54.702Z"
   },
   {
    "duration": 49,
    "start_time": "2025-03-13T13:53:54.709Z"
   },
   {
    "duration": 805,
    "start_time": "2025-03-13T14:24:16.425Z"
   },
   {
    "duration": 114,
    "start_time": "2025-03-13T14:24:17.245Z"
   },
   {
    "duration": 4,
    "start_time": "2025-03-13T14:24:17.361Z"
   },
   {
    "duration": 16,
    "start_time": "2025-03-13T14:24:17.367Z"
   },
   {
    "duration": 10,
    "start_time": "2025-03-13T14:24:17.386Z"
   },
   {
    "duration": 55,
    "start_time": "2025-03-13T14:24:17.399Z"
   },
   {
    "duration": 21,
    "start_time": "2025-03-13T14:24:17.456Z"
   },
   {
    "duration": 28,
    "start_time": "2025-03-13T14:24:17.479Z"
   },
   {
    "duration": 103,
    "start_time": "2025-03-13T14:24:17.509Z"
   },
   {
    "duration": 4,
    "start_time": "2025-03-13T14:24:17.614Z"
   },
   {
    "duration": 42,
    "start_time": "2025-03-13T14:24:17.620Z"
   },
   {
    "duration": 15,
    "start_time": "2025-03-13T14:24:17.665Z"
   },
   {
    "duration": 34,
    "start_time": "2025-03-13T14:24:17.682Z"
   },
   {
    "duration": 44,
    "start_time": "2025-03-13T14:24:17.720Z"
   },
   {
    "duration": 25,
    "start_time": "2025-03-13T14:24:17.766Z"
   },
   {
    "duration": 108,
    "start_time": "2025-03-13T14:24:17.793Z"
   },
   {
    "duration": 4,
    "start_time": "2025-03-13T14:24:17.903Z"
   },
   {
    "duration": 16,
    "start_time": "2025-03-13T14:24:17.908Z"
   },
   {
    "duration": 38,
    "start_time": "2025-03-13T14:24:17.926Z"
   },
   {
    "duration": 35,
    "start_time": "2025-03-13T14:24:17.966Z"
   },
   {
    "duration": 15,
    "start_time": "2025-03-13T14:24:18.003Z"
   },
   {
    "duration": 22,
    "start_time": "2025-03-13T14:24:18.020Z"
   },
   {
    "duration": 13,
    "start_time": "2025-03-13T14:24:18.043Z"
   },
   {
    "duration": 20,
    "start_time": "2025-03-13T14:24:18.057Z"
   },
   {
    "duration": 61,
    "start_time": "2025-03-13T14:24:18.079Z"
   },
   {
    "duration": 5,
    "start_time": "2025-03-13T14:24:18.143Z"
   },
   {
    "duration": 6,
    "start_time": "2025-03-13T14:24:18.150Z"
   },
   {
    "duration": 7,
    "start_time": "2025-03-13T14:24:18.159Z"
   },
   {
    "duration": 41,
    "start_time": "2025-03-13T14:24:18.232Z"
   },
   {
    "duration": 12,
    "start_time": "2025-03-13T14:24:18.274Z"
   },
   {
    "duration": 9,
    "start_time": "2025-03-13T14:24:18.288Z"
   },
   {
    "duration": 34,
    "start_time": "2025-03-13T14:24:18.299Z"
   },
   {
    "duration": 4,
    "start_time": "2025-03-13T14:24:18.335Z"
   },
   {
    "duration": 5,
    "start_time": "2025-03-13T14:24:18.341Z"
   },
   {
    "duration": 4,
    "start_time": "2025-03-13T14:24:18.348Z"
   },
   {
    "duration": 104,
    "start_time": "2025-03-13T14:24:18.354Z"
   },
   {
    "duration": 14,
    "start_time": "2025-03-13T14:24:18.459Z"
   },
   {
    "duration": 10,
    "start_time": "2025-03-13T14:24:18.474Z"
   },
   {
    "duration": 62,
    "start_time": "2025-03-13T14:24:18.486Z"
   },
   {
    "duration": 3,
    "start_time": "2025-03-13T14:24:18.550Z"
   },
   {
    "duration": 5,
    "start_time": "2025-03-13T14:24:18.560Z"
   },
   {
    "duration": 5,
    "start_time": "2025-03-13T14:24:18.567Z"
   },
   {
    "duration": 91,
    "start_time": "2025-03-13T14:24:18.574Z"
   },
   {
    "duration": 258,
    "start_time": "2025-03-13T14:24:18.667Z"
   },
   {
    "duration": 0,
    "start_time": "2025-03-13T14:24:18.927Z"
   },
   {
    "duration": 0,
    "start_time": "2025-03-13T14:24:18.928Z"
   },
   {
    "duration": 0,
    "start_time": "2025-03-13T14:24:18.929Z"
   },
   {
    "duration": 0,
    "start_time": "2025-03-13T14:24:18.934Z"
   },
   {
    "duration": 0,
    "start_time": "2025-03-13T14:24:18.936Z"
   },
   {
    "duration": 775,
    "start_time": "2025-03-13T14:24:47.592Z"
   },
   {
    "duration": 101,
    "start_time": "2025-03-13T14:24:48.369Z"
   },
   {
    "duration": 4,
    "start_time": "2025-03-13T14:24:48.472Z"
   },
   {
    "duration": 16,
    "start_time": "2025-03-13T14:24:48.478Z"
   },
   {
    "duration": 11,
    "start_time": "2025-03-13T14:24:48.496Z"
   },
   {
    "duration": 61,
    "start_time": "2025-03-13T14:24:48.509Z"
   },
   {
    "duration": 23,
    "start_time": "2025-03-13T14:24:48.572Z"
   },
   {
    "duration": 49,
    "start_time": "2025-03-13T14:24:48.597Z"
   },
   {
    "duration": 98,
    "start_time": "2025-03-13T14:24:48.648Z"
   },
   {
    "duration": 3,
    "start_time": "2025-03-13T14:24:48.756Z"
   },
   {
    "duration": 15,
    "start_time": "2025-03-13T14:24:48.761Z"
   },
   {
    "duration": 10,
    "start_time": "2025-03-13T14:24:48.778Z"
   },
   {
    "duration": 33,
    "start_time": "2025-03-13T14:24:48.790Z"
   },
   {
    "duration": 27,
    "start_time": "2025-03-13T14:24:48.846Z"
   },
   {
    "duration": 20,
    "start_time": "2025-03-13T14:24:48.875Z"
   },
   {
    "duration": 94,
    "start_time": "2025-03-13T14:24:48.897Z"
   },
   {
    "duration": 3,
    "start_time": "2025-03-13T14:24:48.993Z"
   },
   {
    "duration": 16,
    "start_time": "2025-03-13T14:24:48.998Z"
   },
   {
    "duration": 44,
    "start_time": "2025-03-13T14:24:49.015Z"
   },
   {
    "duration": 31,
    "start_time": "2025-03-13T14:24:49.061Z"
   },
   {
    "duration": 15,
    "start_time": "2025-03-13T14:24:49.094Z"
   },
   {
    "duration": 46,
    "start_time": "2025-03-13T14:24:49.110Z"
   },
   {
    "duration": 15,
    "start_time": "2025-03-13T14:24:49.158Z"
   },
   {
    "duration": 16,
    "start_time": "2025-03-13T14:24:49.175Z"
   },
   {
    "duration": 65,
    "start_time": "2025-03-13T14:24:49.193Z"
   },
   {
    "duration": 4,
    "start_time": "2025-03-13T14:24:49.263Z"
   },
   {
    "duration": 5,
    "start_time": "2025-03-13T14:24:49.269Z"
   },
   {
    "duration": 70,
    "start_time": "2025-03-13T14:24:49.276Z"
   },
   {
    "duration": 27,
    "start_time": "2025-03-13T14:24:49.359Z"
   },
   {
    "duration": 11,
    "start_time": "2025-03-13T14:24:49.388Z"
   },
   {
    "duration": 11,
    "start_time": "2025-03-13T14:24:49.401Z"
   },
   {
    "duration": 50,
    "start_time": "2025-03-13T14:24:49.414Z"
   },
   {
    "duration": 2,
    "start_time": "2025-03-13T14:24:49.467Z"
   },
   {
    "duration": 4,
    "start_time": "2025-03-13T14:24:49.471Z"
   },
   {
    "duration": 4,
    "start_time": "2025-03-13T14:24:49.477Z"
   },
   {
    "duration": 81,
    "start_time": "2025-03-13T14:24:49.483Z"
   },
   {
    "duration": 13,
    "start_time": "2025-03-13T14:24:49.565Z"
   },
   {
    "duration": 9,
    "start_time": "2025-03-13T14:24:49.580Z"
   },
   {
    "duration": 71,
    "start_time": "2025-03-13T14:24:49.591Z"
   },
   {
    "duration": 4,
    "start_time": "2025-03-13T14:24:49.664Z"
   },
   {
    "duration": 4,
    "start_time": "2025-03-13T14:24:49.673Z"
   },
   {
    "duration": 6,
    "start_time": "2025-03-13T14:24:49.735Z"
   },
   {
    "duration": 49,
    "start_time": "2025-03-13T14:24:49.747Z"
   },
   {
    "duration": 3,
    "start_time": "2025-03-13T14:24:49.798Z"
   },
   {
    "duration": 5,
    "start_time": "2025-03-13T14:24:49.803Z"
   },
   {
    "duration": 3,
    "start_time": "2025-03-13T14:24:49.809Z"
   },
   {
    "duration": 8,
    "start_time": "2025-03-13T14:24:49.814Z"
   },
   {
    "duration": 27,
    "start_time": "2025-03-13T14:24:49.823Z"
   },
   {
    "duration": 6,
    "start_time": "2025-03-13T14:24:49.855Z"
   },
   {
    "duration": 809,
    "start_time": "2025-03-13T16:42:56.138Z"
   },
   {
    "duration": 132,
    "start_time": "2025-03-13T16:42:56.953Z"
   },
   {
    "duration": 4,
    "start_time": "2025-03-13T16:42:57.087Z"
   },
   {
    "duration": 38,
    "start_time": "2025-03-13T16:42:57.093Z"
   },
   {
    "duration": 11,
    "start_time": "2025-03-13T16:42:57.141Z"
   },
   {
    "duration": 33,
    "start_time": "2025-03-13T16:42:57.154Z"
   },
   {
    "duration": 17,
    "start_time": "2025-03-13T16:42:57.188Z"
   },
   {
    "duration": 31,
    "start_time": "2025-03-13T16:42:57.207Z"
   },
   {
    "duration": 123,
    "start_time": "2025-03-13T16:42:57.244Z"
   },
   {
    "duration": 4,
    "start_time": "2025-03-13T16:42:57.371Z"
   },
   {
    "duration": 15,
    "start_time": "2025-03-13T16:42:57.377Z"
   },
   {
    "duration": 21,
    "start_time": "2025-03-13T16:42:57.393Z"
   },
   {
    "duration": 39,
    "start_time": "2025-03-13T16:42:57.415Z"
   },
   {
    "duration": 15,
    "start_time": "2025-03-13T16:42:57.456Z"
   },
   {
    "duration": 19,
    "start_time": "2025-03-13T16:42:57.472Z"
   },
   {
    "duration": 143,
    "start_time": "2025-03-13T16:42:57.492Z"
   },
   {
    "duration": 3,
    "start_time": "2025-03-13T16:42:57.638Z"
   },
   {
    "duration": 15,
    "start_time": "2025-03-13T16:42:57.643Z"
   },
   {
    "duration": 10,
    "start_time": "2025-03-13T16:42:57.660Z"
   },
   {
    "duration": 31,
    "start_time": "2025-03-13T16:42:57.672Z"
   },
   {
    "duration": 30,
    "start_time": "2025-03-13T16:42:57.705Z"
   },
   {
    "duration": 21,
    "start_time": "2025-03-13T16:42:57.738Z"
   },
   {
    "duration": 14,
    "start_time": "2025-03-13T16:42:57.761Z"
   },
   {
    "duration": 34,
    "start_time": "2025-03-13T16:42:57.777Z"
   },
   {
    "duration": 17,
    "start_time": "2025-03-13T16:42:57.816Z"
   },
   {
    "duration": 3,
    "start_time": "2025-03-13T16:42:57.834Z"
   },
   {
    "duration": 4,
    "start_time": "2025-03-13T16:42:57.843Z"
   },
   {
    "duration": 55,
    "start_time": "2025-03-13T16:42:57.860Z"
   },
   {
    "duration": 36,
    "start_time": "2025-03-13T16:42:57.916Z"
   },
   {
    "duration": 12,
    "start_time": "2025-03-13T16:42:57.953Z"
   },
   {
    "duration": 9,
    "start_time": "2025-03-13T16:42:57.966Z"
   },
   {
    "duration": 42,
    "start_time": "2025-03-13T16:42:57.977Z"
   },
   {
    "duration": 3,
    "start_time": "2025-03-13T16:42:58.021Z"
   },
   {
    "duration": 14,
    "start_time": "2025-03-13T16:42:58.025Z"
   },
   {
    "duration": 4,
    "start_time": "2025-03-13T16:42:58.041Z"
   },
   {
    "duration": 69,
    "start_time": "2025-03-13T16:42:58.047Z"
   },
   {
    "duration": 18,
    "start_time": "2025-03-13T16:42:58.117Z"
   },
   {
    "duration": 11,
    "start_time": "2025-03-13T16:42:58.136Z"
   },
   {
    "duration": 66,
    "start_time": "2025-03-13T16:42:58.153Z"
   },
   {
    "duration": 4,
    "start_time": "2025-03-13T16:42:58.221Z"
   },
   {
    "duration": 5,
    "start_time": "2025-03-13T16:42:58.227Z"
   },
   {
    "duration": 6,
    "start_time": "2025-03-13T16:42:58.234Z"
   },
   {
    "duration": 29,
    "start_time": "2025-03-13T16:42:58.243Z"
   },
   {
    "duration": 45,
    "start_time": "2025-03-13T16:42:58.274Z"
   },
   {
    "duration": 15,
    "start_time": "2025-03-13T16:42:58.321Z"
   },
   {
    "duration": 6,
    "start_time": "2025-03-13T16:42:58.337Z"
   },
   {
    "duration": 8,
    "start_time": "2025-03-13T16:42:58.344Z"
   },
   {
    "duration": 6,
    "start_time": "2025-03-13T16:42:58.353Z"
   },
   {
    "duration": 6,
    "start_time": "2025-03-13T16:42:58.360Z"
   },
   {
    "duration": 230,
    "start_time": "2025-03-13T16:51:01.689Z"
   },
   {
    "duration": 14,
    "start_time": "2025-03-13T16:52:12.904Z"
   },
   {
    "duration": 14,
    "start_time": "2025-03-13T16:52:27.689Z"
   },
   {
    "duration": 7,
    "start_time": "2025-03-13T16:54:17.086Z"
   },
   {
    "duration": 8,
    "start_time": "2025-03-13T16:54:46.790Z"
   },
   {
    "duration": 17,
    "start_time": "2025-03-13T16:55:16.401Z"
   },
   {
    "duration": 17,
    "start_time": "2025-03-13T16:55:49.825Z"
   },
   {
    "duration": 6,
    "start_time": "2025-03-13T16:56:05.878Z"
   },
   {
    "duration": 7,
    "start_time": "2025-03-13T16:56:21.910Z"
   },
   {
    "duration": 7,
    "start_time": "2025-03-13T16:57:05.054Z"
   },
   {
    "duration": 7,
    "start_time": "2025-03-13T17:00:03.277Z"
   },
   {
    "duration": 8,
    "start_time": "2025-03-13T17:04:06.828Z"
   },
   {
    "duration": 7,
    "start_time": "2025-03-13T17:05:11.882Z"
   },
   {
    "duration": 17,
    "start_time": "2025-03-13T17:08:08.560Z"
   },
   {
    "duration": 6,
    "start_time": "2025-03-13T17:08:14.788Z"
   },
   {
    "duration": 7,
    "start_time": "2025-03-13T17:09:01.541Z"
   },
   {
    "duration": 8,
    "start_time": "2025-03-13T17:09:23.275Z"
   },
   {
    "duration": 18,
    "start_time": "2025-03-13T17:09:51.655Z"
   },
   {
    "duration": 25,
    "start_time": "2025-03-13T17:18:59.929Z"
   },
   {
    "duration": 21,
    "start_time": "2025-03-13T17:19:06.436Z"
   },
   {
    "duration": 10,
    "start_time": "2025-03-13T17:19:12.042Z"
   },
   {
    "duration": 10,
    "start_time": "2025-03-13T17:24:47.035Z"
   },
   {
    "duration": 10,
    "start_time": "2025-03-13T17:25:47.992Z"
   },
   {
    "duration": 132,
    "start_time": "2025-03-13T17:26:48.334Z"
   },
   {
    "duration": 28,
    "start_time": "2025-03-13T17:26:58.416Z"
   },
   {
    "duration": 12,
    "start_time": "2025-03-13T17:30:18.854Z"
   },
   {
    "duration": 7,
    "start_time": "2025-03-13T17:32:19.002Z"
   },
   {
    "duration": 748,
    "start_time": "2025-03-13T17:40:49.709Z"
   },
   {
    "duration": 89,
    "start_time": "2025-03-13T17:40:50.459Z"
   },
   {
    "duration": 4,
    "start_time": "2025-03-13T17:40:50.550Z"
   },
   {
    "duration": 15,
    "start_time": "2025-03-13T17:40:50.556Z"
   },
   {
    "duration": 11,
    "start_time": "2025-03-13T17:40:50.574Z"
   },
   {
    "duration": 52,
    "start_time": "2025-03-13T17:40:50.587Z"
   },
   {
    "duration": 16,
    "start_time": "2025-03-13T17:40:50.640Z"
   },
   {
    "duration": 25,
    "start_time": "2025-03-13T17:40:50.657Z"
   },
   {
    "duration": 101,
    "start_time": "2025-03-13T17:40:50.683Z"
   },
   {
    "duration": 3,
    "start_time": "2025-03-13T17:40:50.786Z"
   },
   {
    "duration": 25,
    "start_time": "2025-03-13T17:40:50.790Z"
   },
   {
    "duration": 12,
    "start_time": "2025-03-13T17:40:50.816Z"
   },
   {
    "duration": 31,
    "start_time": "2025-03-13T17:40:50.829Z"
   },
   {
    "duration": 14,
    "start_time": "2025-03-13T17:40:50.863Z"
   },
   {
    "duration": 44,
    "start_time": "2025-03-13T17:40:50.879Z"
   },
   {
    "duration": 98,
    "start_time": "2025-03-13T17:40:50.925Z"
   },
   {
    "duration": 3,
    "start_time": "2025-03-13T17:40:51.025Z"
   },
   {
    "duration": 14,
    "start_time": "2025-03-13T17:40:51.030Z"
   },
   {
    "duration": 10,
    "start_time": "2025-03-13T17:40:51.046Z"
   },
   {
    "duration": 31,
    "start_time": "2025-03-13T17:40:51.057Z"
   },
   {
    "duration": 16,
    "start_time": "2025-03-13T17:40:51.113Z"
   },
   {
    "duration": 20,
    "start_time": "2025-03-13T17:40:51.130Z"
   },
   {
    "duration": 14,
    "start_time": "2025-03-13T17:40:51.151Z"
   },
   {
    "duration": 47,
    "start_time": "2025-03-13T17:40:51.167Z"
   },
   {
    "duration": 8,
    "start_time": "2025-03-13T17:40:51.216Z"
   },
   {
    "duration": 4,
    "start_time": "2025-03-13T17:40:51.225Z"
   },
   {
    "duration": 4,
    "start_time": "2025-03-13T17:40:51.230Z"
   },
   {
    "duration": 77,
    "start_time": "2025-03-13T17:40:51.236Z"
   },
   {
    "duration": 27,
    "start_time": "2025-03-13T17:40:51.315Z"
   },
   {
    "duration": 11,
    "start_time": "2025-03-13T17:40:51.344Z"
   },
   {
    "duration": 9,
    "start_time": "2025-03-13T17:40:51.356Z"
   },
   {
    "duration": 53,
    "start_time": "2025-03-13T17:40:51.366Z"
   },
   {
    "duration": 4,
    "start_time": "2025-03-13T17:40:51.423Z"
   },
   {
    "duration": 5,
    "start_time": "2025-03-13T17:40:51.430Z"
   },
   {
    "duration": 77,
    "start_time": "2025-03-13T17:40:51.436Z"
   },
   {
    "duration": 24,
    "start_time": "2025-03-13T17:40:51.515Z"
   },
   {
    "duration": 11,
    "start_time": "2025-03-13T17:40:51.541Z"
   },
   {
    "duration": 9,
    "start_time": "2025-03-13T17:40:51.553Z"
   },
   {
    "duration": 51,
    "start_time": "2025-03-13T17:40:51.564Z"
   },
   {
    "duration": 3,
    "start_time": "2025-03-13T17:40:51.616Z"
   },
   {
    "duration": 4,
    "start_time": "2025-03-13T17:40:51.626Z"
   },
   {
    "duration": 80,
    "start_time": "2025-03-13T17:40:51.631Z"
   },
   {
    "duration": 23,
    "start_time": "2025-03-13T17:40:51.713Z"
   },
   {
    "duration": 3,
    "start_time": "2025-03-13T17:40:51.738Z"
   },
   {
    "duration": 5,
    "start_time": "2025-03-13T17:40:51.743Z"
   },
   {
    "duration": 7,
    "start_time": "2025-03-13T17:40:51.749Z"
   },
   {
    "duration": 6,
    "start_time": "2025-03-13T17:40:51.757Z"
   },
   {
    "duration": 6,
    "start_time": "2025-03-13T17:40:51.764Z"
   },
   {
    "duration": 3,
    "start_time": "2025-03-13T17:40:51.771Z"
   },
   {
    "duration": 44,
    "start_time": "2025-03-13T17:40:51.775Z"
   },
   {
    "duration": 6,
    "start_time": "2025-03-13T17:40:51.820Z"
   },
   {
    "duration": 6,
    "start_time": "2025-03-13T17:40:51.828Z"
   },
   {
    "duration": 4,
    "start_time": "2025-03-13T18:13:57.076Z"
   },
   {
    "duration": 212,
    "start_time": "2025-03-13T20:09:56.978Z"
   },
   {
    "duration": 16,
    "start_time": "2025-03-13T20:10:04.761Z"
   },
   {
    "duration": 24,
    "start_time": "2025-03-13T20:10:10.236Z"
   },
   {
    "duration": 796,
    "start_time": "2025-03-13T20:14:15.027Z"
   },
   {
    "duration": 88,
    "start_time": "2025-03-13T20:14:15.825Z"
   },
   {
    "duration": 5,
    "start_time": "2025-03-13T20:14:15.915Z"
   },
   {
    "duration": 16,
    "start_time": "2025-03-13T20:14:15.923Z"
   },
   {
    "duration": 10,
    "start_time": "2025-03-13T20:14:15.941Z"
   },
   {
    "duration": 31,
    "start_time": "2025-03-13T20:14:15.953Z"
   },
   {
    "duration": 37,
    "start_time": "2025-03-13T20:14:15.986Z"
   },
   {
    "duration": 30,
    "start_time": "2025-03-13T20:14:16.024Z"
   },
   {
    "duration": 100,
    "start_time": "2025-03-13T20:14:16.058Z"
   },
   {
    "duration": 3,
    "start_time": "2025-03-13T20:14:16.162Z"
   },
   {
    "duration": 14,
    "start_time": "2025-03-13T20:14:16.167Z"
   },
   {
    "duration": 30,
    "start_time": "2025-03-13T20:14:16.183Z"
   },
   {
    "duration": 30,
    "start_time": "2025-03-13T20:14:16.214Z"
   },
   {
    "duration": 14,
    "start_time": "2025-03-13T20:14:16.246Z"
   },
   {
    "duration": 18,
    "start_time": "2025-03-13T20:14:16.262Z"
   },
   {
    "duration": 101,
    "start_time": "2025-03-13T20:14:16.281Z"
   },
   {
    "duration": 3,
    "start_time": "2025-03-13T20:14:16.384Z"
   },
   {
    "duration": 28,
    "start_time": "2025-03-13T20:14:16.388Z"
   },
   {
    "duration": 10,
    "start_time": "2025-03-13T20:14:16.418Z"
   },
   {
    "duration": 30,
    "start_time": "2025-03-13T20:14:16.430Z"
   },
   {
    "duration": 15,
    "start_time": "2025-03-13T20:14:16.462Z"
   },
   {
    "duration": 44,
    "start_time": "2025-03-13T20:14:16.478Z"
   },
   {
    "duration": 12,
    "start_time": "2025-03-13T20:14:16.523Z"
   },
   {
    "duration": 11,
    "start_time": "2025-03-13T20:14:16.537Z"
   },
   {
    "duration": 8,
    "start_time": "2025-03-13T20:14:16.549Z"
   },
   {
    "duration": 2,
    "start_time": "2025-03-13T20:14:16.612Z"
   },
   {
    "duration": 4,
    "start_time": "2025-03-13T20:14:16.616Z"
   },
   {
    "duration": 5,
    "start_time": "2025-03-13T20:14:16.625Z"
   },
   {
    "duration": 102,
    "start_time": "2025-03-13T20:14:16.631Z"
   },
   {
    "duration": 11,
    "start_time": "2025-03-13T20:14:16.735Z"
   },
   {
    "duration": 9,
    "start_time": "2025-03-13T20:14:16.748Z"
   },
   {
    "duration": 53,
    "start_time": "2025-03-13T20:14:16.759Z"
   },
   {
    "duration": 3,
    "start_time": "2025-03-13T20:14:16.814Z"
   },
   {
    "duration": 4,
    "start_time": "2025-03-13T20:14:16.819Z"
   },
   {
    "duration": 5,
    "start_time": "2025-03-13T20:14:16.825Z"
   },
   {
    "duration": 100,
    "start_time": "2025-03-13T20:14:16.833Z"
   },
   {
    "duration": 10,
    "start_time": "2025-03-13T20:14:16.934Z"
   },
   {
    "duration": 8,
    "start_time": "2025-03-13T20:14:16.946Z"
   },
   {
    "duration": 8,
    "start_time": "2025-03-13T20:14:16.956Z"
   },
   {
    "duration": 3,
    "start_time": "2025-03-13T20:14:17.013Z"
   },
   {
    "duration": 4,
    "start_time": "2025-03-13T20:14:17.017Z"
   },
   {
    "duration": 5,
    "start_time": "2025-03-13T20:14:17.022Z"
   },
   {
    "duration": 97,
    "start_time": "2025-03-13T20:14:17.031Z"
   },
   {
    "duration": 4,
    "start_time": "2025-03-13T20:14:17.129Z"
   },
   {
    "duration": 5,
    "start_time": "2025-03-13T20:14:17.134Z"
   },
   {
    "duration": 6,
    "start_time": "2025-03-13T20:14:17.141Z"
   },
   {
    "duration": 6,
    "start_time": "2025-03-13T20:14:17.148Z"
   },
   {
    "duration": 5,
    "start_time": "2025-03-13T20:14:17.157Z"
   },
   {
    "duration": 4,
    "start_time": "2025-03-13T20:14:17.164Z"
   },
   {
    "duration": 50,
    "start_time": "2025-03-13T20:14:17.170Z"
   },
   {
    "duration": 7,
    "start_time": "2025-03-13T20:14:17.222Z"
   },
   {
    "duration": 6,
    "start_time": "2025-03-13T20:14:17.231Z"
   },
   {
    "duration": 4,
    "start_time": "2025-03-13T20:14:17.239Z"
   },
   {
    "duration": 358,
    "start_time": "2025-03-13T20:14:17.244Z"
   },
   {
    "duration": 779,
    "start_time": "2025-03-13T20:17:01.527Z"
   },
   {
    "duration": 87,
    "start_time": "2025-03-13T20:17:02.309Z"
   },
   {
    "duration": 14,
    "start_time": "2025-03-13T20:17:02.398Z"
   },
   {
    "duration": 15,
    "start_time": "2025-03-13T20:17:02.413Z"
   },
   {
    "duration": 11,
    "start_time": "2025-03-13T20:17:02.431Z"
   },
   {
    "duration": 31,
    "start_time": "2025-03-13T20:17:02.443Z"
   },
   {
    "duration": 38,
    "start_time": "2025-03-13T20:17:02.475Z"
   },
   {
    "duration": 24,
    "start_time": "2025-03-13T20:17:02.514Z"
   },
   {
    "duration": 90,
    "start_time": "2025-03-13T20:17:02.540Z"
   },
   {
    "duration": 3,
    "start_time": "2025-03-13T20:17:02.632Z"
   },
   {
    "duration": 15,
    "start_time": "2025-03-13T20:17:02.637Z"
   },
   {
    "duration": 10,
    "start_time": "2025-03-13T20:17:02.654Z"
   },
   {
    "duration": 51,
    "start_time": "2025-03-13T20:17:02.666Z"
   },
   {
    "duration": 14,
    "start_time": "2025-03-13T20:17:02.721Z"
   },
   {
    "duration": 18,
    "start_time": "2025-03-13T20:17:02.737Z"
   },
   {
    "duration": 97,
    "start_time": "2025-03-13T20:17:02.758Z"
   },
   {
    "duration": 4,
    "start_time": "2025-03-13T20:17:02.857Z"
   },
   {
    "duration": 18,
    "start_time": "2025-03-13T20:17:02.862Z"
   },
   {
    "duration": 11,
    "start_time": "2025-03-13T20:17:02.882Z"
   },
   {
    "duration": 30,
    "start_time": "2025-03-13T20:17:02.912Z"
   },
   {
    "duration": 14,
    "start_time": "2025-03-13T20:17:02.944Z"
   },
   {
    "duration": 19,
    "start_time": "2025-03-13T20:17:02.960Z"
   },
   {
    "duration": 32,
    "start_time": "2025-03-13T20:17:02.981Z"
   },
   {
    "duration": 13,
    "start_time": "2025-03-13T20:17:03.014Z"
   },
   {
    "duration": 8,
    "start_time": "2025-03-13T20:17:03.029Z"
   },
   {
    "duration": 4,
    "start_time": "2025-03-13T20:17:03.038Z"
   },
   {
    "duration": 6,
    "start_time": "2025-03-13T20:17:03.112Z"
   },
   {
    "duration": 4,
    "start_time": "2025-03-13T20:17:03.120Z"
   },
   {
    "duration": 29,
    "start_time": "2025-03-13T20:17:03.125Z"
   },
   {
    "duration": 62,
    "start_time": "2025-03-13T20:17:03.155Z"
   },
   {
    "duration": 12,
    "start_time": "2025-03-13T20:17:03.219Z"
   },
   {
    "duration": 9,
    "start_time": "2025-03-13T20:17:03.233Z"
   },
   {
    "duration": 3,
    "start_time": "2025-03-13T20:17:03.243Z"
   },
   {
    "duration": 4,
    "start_time": "2025-03-13T20:17:03.248Z"
   },
   {
    "duration": 5,
    "start_time": "2025-03-13T20:17:03.311Z"
   },
   {
    "duration": 26,
    "start_time": "2025-03-13T20:17:03.318Z"
   },
   {
    "duration": 12,
    "start_time": "2025-03-13T20:17:03.346Z"
   },
   {
    "duration": 57,
    "start_time": "2025-03-13T20:17:03.359Z"
   },
   {
    "duration": 8,
    "start_time": "2025-03-13T20:17:03.419Z"
   },
   {
    "duration": 3,
    "start_time": "2025-03-13T20:17:03.429Z"
   },
   {
    "duration": 76,
    "start_time": "2025-03-13T20:17:03.437Z"
   },
   {
    "duration": 4,
    "start_time": "2025-03-13T20:17:03.515Z"
   },
   {
    "duration": 24,
    "start_time": "2025-03-13T20:17:03.520Z"
   },
   {
    "duration": 3,
    "start_time": "2025-03-13T20:17:03.545Z"
   },
   {
    "duration": 4,
    "start_time": "2025-03-13T20:17:03.550Z"
   },
   {
    "duration": 7,
    "start_time": "2025-03-13T20:17:03.555Z"
   },
   {
    "duration": 49,
    "start_time": "2025-03-13T20:17:03.563Z"
   },
   {
    "duration": 6,
    "start_time": "2025-03-13T20:17:03.613Z"
   },
   {
    "duration": 3,
    "start_time": "2025-03-13T20:17:03.620Z"
   },
   {
    "duration": 8,
    "start_time": "2025-03-13T20:17:03.625Z"
   },
   {
    "duration": 6,
    "start_time": "2025-03-13T20:17:03.634Z"
   },
   {
    "duration": 6,
    "start_time": "2025-03-13T20:17:03.642Z"
   },
   {
    "duration": 4,
    "start_time": "2025-03-13T20:17:03.649Z"
   },
   {
    "duration": 261,
    "start_time": "2025-03-13T20:17:03.654Z"
   },
   {
    "duration": 5,
    "start_time": "2025-03-13T20:17:50.317Z"
   },
   {
    "duration": 25,
    "start_time": "2025-03-13T20:17:51.606Z"
   },
   {
    "duration": 3,
    "start_time": "2025-03-13T20:18:47.760Z"
   },
   {
    "duration": 568,
    "start_time": "2025-03-13T20:18:48.314Z"
   },
   {
    "duration": 775,
    "start_time": "2025-03-13T20:19:45.043Z"
   },
   {
    "duration": 93,
    "start_time": "2025-03-13T20:19:45.820Z"
   },
   {
    "duration": 3,
    "start_time": "2025-03-13T20:19:45.915Z"
   },
   {
    "duration": 15,
    "start_time": "2025-03-13T20:19:45.920Z"
   },
   {
    "duration": 10,
    "start_time": "2025-03-13T20:19:45.938Z"
   },
   {
    "duration": 32,
    "start_time": "2025-03-13T20:19:45.950Z"
   },
   {
    "duration": 40,
    "start_time": "2025-03-13T20:19:45.984Z"
   },
   {
    "duration": 34,
    "start_time": "2025-03-13T20:19:46.026Z"
   },
   {
    "duration": 97,
    "start_time": "2025-03-13T20:19:46.062Z"
   },
   {
    "duration": 3,
    "start_time": "2025-03-13T20:19:46.161Z"
   },
   {
    "duration": 15,
    "start_time": "2025-03-13T20:19:46.166Z"
   },
   {
    "duration": 10,
    "start_time": "2025-03-13T20:19:46.183Z"
   },
   {
    "duration": 30,
    "start_time": "2025-03-13T20:19:46.212Z"
   },
   {
    "duration": 15,
    "start_time": "2025-03-13T20:19:46.246Z"
   },
   {
    "duration": 19,
    "start_time": "2025-03-13T20:19:46.262Z"
   },
   {
    "duration": 100,
    "start_time": "2025-03-13T20:19:46.282Z"
   },
   {
    "duration": 3,
    "start_time": "2025-03-13T20:19:46.384Z"
   },
   {
    "duration": 28,
    "start_time": "2025-03-13T20:19:46.389Z"
   },
   {
    "duration": 11,
    "start_time": "2025-03-13T20:19:46.418Z"
   },
   {
    "duration": 31,
    "start_time": "2025-03-13T20:19:46.431Z"
   },
   {
    "duration": 14,
    "start_time": "2025-03-13T20:19:46.464Z"
   },
   {
    "duration": 44,
    "start_time": "2025-03-13T20:19:46.479Z"
   },
   {
    "duration": 12,
    "start_time": "2025-03-13T20:19:46.525Z"
   },
   {
    "duration": 9,
    "start_time": "2025-03-13T20:19:46.538Z"
   },
   {
    "duration": 9,
    "start_time": "2025-03-13T20:19:46.549Z"
   },
   {
    "duration": 3,
    "start_time": "2025-03-13T20:19:46.612Z"
   },
   {
    "duration": 3,
    "start_time": "2025-03-13T20:19:46.617Z"
   },
   {
    "duration": 4,
    "start_time": "2025-03-13T20:19:46.622Z"
   },
   {
    "duration": 106,
    "start_time": "2025-03-13T20:19:46.627Z"
   },
   {
    "duration": 12,
    "start_time": "2025-03-13T20:19:46.735Z"
   },
   {
    "duration": 10,
    "start_time": "2025-03-13T20:19:46.748Z"
   },
   {
    "duration": 59,
    "start_time": "2025-03-13T20:19:46.761Z"
   },
   {
    "duration": 5,
    "start_time": "2025-03-13T20:19:46.823Z"
   },
   {
    "duration": 80,
    "start_time": "2025-03-13T20:19:46.831Z"
   },
   {
    "duration": 4,
    "start_time": "2025-03-13T20:19:46.913Z"
   },
   {
    "duration": 25,
    "start_time": "2025-03-13T20:19:46.918Z"
   },
   {
    "duration": 10,
    "start_time": "2025-03-13T20:19:46.944Z"
   },
   {
    "duration": 10,
    "start_time": "2025-03-13T20:19:46.956Z"
   },
   {
    "duration": 53,
    "start_time": "2025-03-13T20:19:46.967Z"
   },
   {
    "duration": 3,
    "start_time": "2025-03-13T20:19:47.021Z"
   },
   {
    "duration": 4,
    "start_time": "2025-03-13T20:19:47.031Z"
   },
   {
    "duration": 78,
    "start_time": "2025-03-13T20:19:47.037Z"
   },
   {
    "duration": 24,
    "start_time": "2025-03-13T20:19:47.117Z"
   },
   {
    "duration": 3,
    "start_time": "2025-03-13T20:19:47.143Z"
   },
   {
    "duration": 4,
    "start_time": "2025-03-13T20:19:47.148Z"
   },
   {
    "duration": 5,
    "start_time": "2025-03-13T20:19:47.154Z"
   },
   {
    "duration": 7,
    "start_time": "2025-03-13T20:19:47.161Z"
   },
   {
    "duration": 43,
    "start_time": "2025-03-13T20:19:47.169Z"
   },
   {
    "duration": 4,
    "start_time": "2025-03-13T20:19:47.213Z"
   },
   {
    "duration": 13,
    "start_time": "2025-03-13T20:19:47.218Z"
   },
   {
    "duration": 7,
    "start_time": "2025-03-13T20:19:47.232Z"
   },
   {
    "duration": 7,
    "start_time": "2025-03-13T20:19:47.240Z"
   },
   {
    "duration": 10,
    "start_time": "2025-03-13T20:19:47.248Z"
   },
   {
    "duration": 787,
    "start_time": "2025-03-13T20:19:47.260Z"
   },
   {
    "duration": 545,
    "start_time": "2025-03-13T20:19:59.944Z"
   },
   {
    "duration": 539,
    "start_time": "2025-03-13T20:20:36.235Z"
   },
   {
    "duration": 720,
    "start_time": "2025-03-13T20:21:21.183Z"
   },
   {
    "duration": 86,
    "start_time": "2025-03-13T20:21:21.905Z"
   },
   {
    "duration": 18,
    "start_time": "2025-03-13T20:21:21.993Z"
   },
   {
    "duration": 15,
    "start_time": "2025-03-13T20:21:22.014Z"
   },
   {
    "duration": 11,
    "start_time": "2025-03-13T20:21:22.030Z"
   },
   {
    "duration": 30,
    "start_time": "2025-03-13T20:21:22.043Z"
   },
   {
    "duration": 38,
    "start_time": "2025-03-13T20:21:22.074Z"
   },
   {
    "duration": 26,
    "start_time": "2025-03-13T20:21:22.114Z"
   },
   {
    "duration": 90,
    "start_time": "2025-03-13T20:21:22.141Z"
   },
   {
    "duration": 3,
    "start_time": "2025-03-13T20:21:22.234Z"
   },
   {
    "duration": 15,
    "start_time": "2025-03-13T20:21:22.239Z"
   },
   {
    "duration": 11,
    "start_time": "2025-03-13T20:21:22.255Z"
   },
   {
    "duration": 50,
    "start_time": "2025-03-13T20:21:22.268Z"
   },
   {
    "duration": 15,
    "start_time": "2025-03-13T20:21:22.319Z"
   },
   {
    "duration": 18,
    "start_time": "2025-03-13T20:21:22.336Z"
   },
   {
    "duration": 96,
    "start_time": "2025-03-13T20:21:22.356Z"
   },
   {
    "duration": 4,
    "start_time": "2025-03-13T20:21:22.454Z"
   },
   {
    "duration": 15,
    "start_time": "2025-03-13T20:21:22.459Z"
   },
   {
    "duration": 10,
    "start_time": "2025-03-13T20:21:22.476Z"
   },
   {
    "duration": 51,
    "start_time": "2025-03-13T20:21:22.488Z"
   },
   {
    "duration": 15,
    "start_time": "2025-03-13T20:21:22.541Z"
   },
   {
    "duration": 18,
    "start_time": "2025-03-13T20:21:22.558Z"
   },
   {
    "duration": 35,
    "start_time": "2025-03-13T20:21:22.578Z"
   },
   {
    "duration": 13,
    "start_time": "2025-03-13T20:21:22.615Z"
   },
   {
    "duration": 8,
    "start_time": "2025-03-13T20:21:22.629Z"
   },
   {
    "duration": 2,
    "start_time": "2025-03-13T20:21:22.639Z"
   },
   {
    "duration": 4,
    "start_time": "2025-03-13T20:21:22.643Z"
   },
   {
    "duration": 4,
    "start_time": "2025-03-13T20:21:22.713Z"
   },
   {
    "duration": 26,
    "start_time": "2025-03-13T20:21:22.719Z"
   },
   {
    "duration": 11,
    "start_time": "2025-03-13T20:21:22.747Z"
   },
   {
    "duration": 8,
    "start_time": "2025-03-13T20:21:22.813Z"
   },
   {
    "duration": 8,
    "start_time": "2025-03-13T20:21:22.822Z"
   },
   {
    "duration": 3,
    "start_time": "2025-03-13T20:21:22.832Z"
   },
   {
    "duration": 4,
    "start_time": "2025-03-13T20:21:22.836Z"
   },
   {
    "duration": 76,
    "start_time": "2025-03-13T20:21:22.841Z"
   },
   {
    "duration": 24,
    "start_time": "2025-03-13T20:21:22.919Z"
   },
   {
    "duration": 11,
    "start_time": "2025-03-13T20:21:22.945Z"
   },
   {
    "duration": 54,
    "start_time": "2025-03-13T20:21:22.958Z"
   },
   {
    "duration": 9,
    "start_time": "2025-03-13T20:21:23.017Z"
   },
   {
    "duration": 4,
    "start_time": "2025-03-13T20:21:23.029Z"
   },
   {
    "duration": 80,
    "start_time": "2025-03-13T20:21:23.034Z"
   },
   {
    "duration": 4,
    "start_time": "2025-03-13T20:21:23.116Z"
   },
   {
    "duration": 24,
    "start_time": "2025-03-13T20:21:23.121Z"
   },
   {
    "duration": 4,
    "start_time": "2025-03-13T20:21:23.146Z"
   },
   {
    "duration": 5,
    "start_time": "2025-03-13T20:21:23.151Z"
   },
   {
    "duration": 6,
    "start_time": "2025-03-13T20:21:23.158Z"
   },
   {
    "duration": 6,
    "start_time": "2025-03-13T20:21:23.165Z"
   },
   {
    "duration": 43,
    "start_time": "2025-03-13T20:21:23.172Z"
   },
   {
    "duration": 4,
    "start_time": "2025-03-13T20:21:23.217Z"
   },
   {
    "duration": 7,
    "start_time": "2025-03-13T20:21:23.222Z"
   },
   {
    "duration": 7,
    "start_time": "2025-03-13T20:21:23.230Z"
   },
   {
    "duration": 12,
    "start_time": "2025-03-13T20:21:23.238Z"
   },
   {
    "duration": 7,
    "start_time": "2025-03-13T20:21:23.255Z"
   },
   {
    "duration": 597,
    "start_time": "2025-03-13T20:21:23.264Z"
   },
   {
    "duration": 552,
    "start_time": "2025-03-13T20:29:18.184Z"
   },
   {
    "duration": 771,
    "start_time": "2025-03-13T20:30:32.234Z"
   },
   {
    "duration": 88,
    "start_time": "2025-03-13T20:30:33.007Z"
   },
   {
    "duration": 3,
    "start_time": "2025-03-13T20:30:33.097Z"
   },
   {
    "duration": 17,
    "start_time": "2025-03-13T20:30:33.111Z"
   },
   {
    "duration": 11,
    "start_time": "2025-03-13T20:30:33.129Z"
   },
   {
    "duration": 32,
    "start_time": "2025-03-13T20:30:33.141Z"
   },
   {
    "duration": 16,
    "start_time": "2025-03-13T20:30:33.174Z"
   },
   {
    "duration": 25,
    "start_time": "2025-03-13T20:30:33.213Z"
   },
   {
    "duration": 94,
    "start_time": "2025-03-13T20:30:33.240Z"
   },
   {
    "duration": 4,
    "start_time": "2025-03-13T20:30:33.337Z"
   },
   {
    "duration": 16,
    "start_time": "2025-03-13T20:30:33.342Z"
   },
   {
    "duration": 11,
    "start_time": "2025-03-13T20:30:33.359Z"
   },
   {
    "duration": 52,
    "start_time": "2025-03-13T20:30:33.371Z"
   },
   {
    "duration": 14,
    "start_time": "2025-03-13T20:30:33.425Z"
   },
   {
    "duration": 19,
    "start_time": "2025-03-13T20:30:33.441Z"
   },
   {
    "duration": 102,
    "start_time": "2025-03-13T20:30:33.461Z"
   },
   {
    "duration": 3,
    "start_time": "2025-03-13T20:30:33.566Z"
   },
   {
    "duration": 16,
    "start_time": "2025-03-13T20:30:33.572Z"
   },
   {
    "duration": 27,
    "start_time": "2025-03-13T20:30:33.591Z"
   },
   {
    "duration": 32,
    "start_time": "2025-03-13T20:30:33.620Z"
   },
   {
    "duration": 14,
    "start_time": "2025-03-13T20:30:33.654Z"
   },
   {
    "duration": 20,
    "start_time": "2025-03-13T20:30:33.669Z"
   },
   {
    "duration": 13,
    "start_time": "2025-03-13T20:30:33.711Z"
   },
   {
    "duration": 13,
    "start_time": "2025-03-13T20:30:33.726Z"
   },
   {
    "duration": 8,
    "start_time": "2025-03-13T20:30:33.741Z"
   },
   {
    "duration": 62,
    "start_time": "2025-03-13T20:30:33.751Z"
   },
   {
    "duration": 4,
    "start_time": "2025-03-13T20:30:33.815Z"
   },
   {
    "duration": 4,
    "start_time": "2025-03-13T20:30:33.824Z"
   },
   {
    "duration": 99,
    "start_time": "2025-03-13T20:30:33.830Z"
   },
   {
    "duration": 11,
    "start_time": "2025-03-13T20:30:33.931Z"
   },
   {
    "duration": 9,
    "start_time": "2025-03-13T20:30:33.944Z"
   },
   {
    "duration": 58,
    "start_time": "2025-03-13T20:30:33.957Z"
   },
   {
    "duration": 4,
    "start_time": "2025-03-13T20:30:34.019Z"
   },
   {
    "duration": 4,
    "start_time": "2025-03-13T20:30:34.024Z"
   },
   {
    "duration": 81,
    "start_time": "2025-03-13T20:30:34.030Z"
   },
   {
    "duration": 23,
    "start_time": "2025-03-13T20:30:34.113Z"
   },
   {
    "duration": 12,
    "start_time": "2025-03-13T20:30:34.138Z"
   },
   {
    "duration": 8,
    "start_time": "2025-03-13T20:30:34.151Z"
   },
   {
    "duration": 54,
    "start_time": "2025-03-13T20:30:34.161Z"
   },
   {
    "duration": 3,
    "start_time": "2025-03-13T20:30:34.216Z"
   },
   {
    "duration": 4,
    "start_time": "2025-03-13T20:30:34.221Z"
   },
   {
    "duration": 5,
    "start_time": "2025-03-13T20:30:34.226Z"
   },
   {
    "duration": 96,
    "start_time": "2025-03-13T20:30:34.233Z"
   },
   {
    "duration": 3,
    "start_time": "2025-03-13T20:30:34.331Z"
   },
   {
    "duration": 4,
    "start_time": "2025-03-13T20:30:34.336Z"
   },
   {
    "duration": 6,
    "start_time": "2025-03-13T20:30:34.342Z"
   },
   {
    "duration": 6,
    "start_time": "2025-03-13T20:30:34.349Z"
   },
   {
    "duration": 6,
    "start_time": "2025-03-13T20:30:34.356Z"
   },
   {
    "duration": 3,
    "start_time": "2025-03-13T20:30:34.363Z"
   },
   {
    "duration": 43,
    "start_time": "2025-03-13T20:30:34.368Z"
   },
   {
    "duration": 6,
    "start_time": "2025-03-13T20:30:34.413Z"
   },
   {
    "duration": 6,
    "start_time": "2025-03-13T20:30:34.421Z"
   },
   {
    "duration": 4,
    "start_time": "2025-03-13T20:30:34.428Z"
   },
   {
    "duration": 603,
    "start_time": "2025-03-13T20:30:34.433Z"
   },
   {
    "duration": 532,
    "start_time": "2025-03-13T20:30:51.788Z"
   },
   {
    "duration": 774,
    "start_time": "2025-03-13T20:30:58.433Z"
   },
   {
    "duration": 85,
    "start_time": "2025-03-13T20:30:59.209Z"
   },
   {
    "duration": 3,
    "start_time": "2025-03-13T20:30:59.296Z"
   },
   {
    "duration": 16,
    "start_time": "2025-03-13T20:30:59.313Z"
   },
   {
    "duration": 10,
    "start_time": "2025-03-13T20:30:59.332Z"
   },
   {
    "duration": 41,
    "start_time": "2025-03-13T20:30:59.344Z"
   },
   {
    "duration": 39,
    "start_time": "2025-03-13T20:30:59.387Z"
   },
   {
    "duration": 25,
    "start_time": "2025-03-13T20:30:59.428Z"
   },
   {
    "duration": 96,
    "start_time": "2025-03-13T20:30:59.455Z"
   },
   {
    "duration": 4,
    "start_time": "2025-03-13T20:30:59.554Z"
   },
   {
    "duration": 15,
    "start_time": "2025-03-13T20:30:59.559Z"
   },
   {
    "duration": 10,
    "start_time": "2025-03-13T20:30:59.575Z"
   },
   {
    "duration": 51,
    "start_time": "2025-03-13T20:30:59.587Z"
   },
   {
    "duration": 14,
    "start_time": "2025-03-13T20:30:59.640Z"
   },
   {
    "duration": 18,
    "start_time": "2025-03-13T20:30:59.656Z"
   },
   {
    "duration": 100,
    "start_time": "2025-03-13T20:30:59.675Z"
   },
   {
    "duration": 3,
    "start_time": "2025-03-13T20:30:59.777Z"
   },
   {
    "duration": 16,
    "start_time": "2025-03-13T20:30:59.781Z"
   },
   {
    "duration": 11,
    "start_time": "2025-03-13T20:30:59.812Z"
   },
   {
    "duration": 30,
    "start_time": "2025-03-13T20:30:59.824Z"
   },
   {
    "duration": 14,
    "start_time": "2025-03-13T20:30:59.856Z"
   },
   {
    "duration": 45,
    "start_time": "2025-03-13T20:30:59.872Z"
   },
   {
    "duration": 12,
    "start_time": "2025-03-13T20:30:59.919Z"
   },
   {
    "duration": 17,
    "start_time": "2025-03-13T20:30:59.933Z"
   },
   {
    "duration": 8,
    "start_time": "2025-03-13T20:30:59.952Z"
   },
   {
    "duration": 4,
    "start_time": "2025-03-13T20:31:00.016Z"
   },
   {
    "duration": 8,
    "start_time": "2025-03-13T20:31:00.022Z"
   },
   {
    "duration": 77,
    "start_time": "2025-03-13T20:31:00.036Z"
   },
   {
    "duration": 26,
    "start_time": "2025-03-13T20:31:00.115Z"
   },
   {
    "duration": 11,
    "start_time": "2025-03-13T20:31:00.143Z"
   },
   {
    "duration": 11,
    "start_time": "2025-03-13T20:31:00.156Z"
   },
   {
    "duration": 52,
    "start_time": "2025-03-13T20:31:00.168Z"
   },
   {
    "duration": 3,
    "start_time": "2025-03-13T20:31:00.222Z"
   },
   {
    "duration": 4,
    "start_time": "2025-03-13T20:31:00.227Z"
   },
   {
    "duration": 79,
    "start_time": "2025-03-13T20:31:00.233Z"
   },
   {
    "duration": 24,
    "start_time": "2025-03-13T20:31:00.313Z"
   },
   {
    "duration": 11,
    "start_time": "2025-03-13T20:31:00.339Z"
   },
   {
    "duration": 12,
    "start_time": "2025-03-13T20:31:00.352Z"
   },
   {
    "duration": 51,
    "start_time": "2025-03-13T20:31:00.368Z"
   },
   {
    "duration": 3,
    "start_time": "2025-03-13T20:31:00.421Z"
   },
   {
    "duration": 4,
    "start_time": "2025-03-13T20:31:00.426Z"
   },
   {
    "duration": 4,
    "start_time": "2025-03-13T20:31:00.432Z"
   },
   {
    "duration": 97,
    "start_time": "2025-03-13T20:31:00.438Z"
   },
   {
    "duration": 3,
    "start_time": "2025-03-13T20:31:00.537Z"
   },
   {
    "duration": 6,
    "start_time": "2025-03-13T20:31:00.541Z"
   },
   {
    "duration": 6,
    "start_time": "2025-03-13T20:31:00.548Z"
   },
   {
    "duration": 5,
    "start_time": "2025-03-13T20:31:00.556Z"
   },
   {
    "duration": 6,
    "start_time": "2025-03-13T20:31:00.563Z"
   },
   {
    "duration": 4,
    "start_time": "2025-03-13T20:31:00.570Z"
   },
   {
    "duration": 41,
    "start_time": "2025-03-13T20:31:00.575Z"
   },
   {
    "duration": 5,
    "start_time": "2025-03-13T20:31:00.618Z"
   },
   {
    "duration": 6,
    "start_time": "2025-03-13T20:31:00.625Z"
   },
   {
    "duration": 3,
    "start_time": "2025-03-13T20:31:00.633Z"
   },
   {
    "duration": 587,
    "start_time": "2025-03-13T20:31:00.638Z"
   },
   {
    "duration": 1020,
    "start_time": "2025-03-13T22:20:21.332Z"
   },
   {
    "duration": 153,
    "start_time": "2025-03-13T22:20:22.354Z"
   },
   {
    "duration": 4,
    "start_time": "2025-03-13T22:20:22.510Z"
   },
   {
    "duration": 18,
    "start_time": "2025-03-13T22:20:22.524Z"
   },
   {
    "duration": 13,
    "start_time": "2025-03-13T22:20:22.545Z"
   },
   {
    "duration": 69,
    "start_time": "2025-03-13T22:20:22.560Z"
   },
   {
    "duration": 22,
    "start_time": "2025-03-13T22:20:22.632Z"
   },
   {
    "duration": 38,
    "start_time": "2025-03-13T22:20:22.660Z"
   },
   {
    "duration": 157,
    "start_time": "2025-03-13T22:20:22.704Z"
   },
   {
    "duration": 4,
    "start_time": "2025-03-13T22:20:22.866Z"
   },
   {
    "duration": 17,
    "start_time": "2025-03-13T22:20:22.873Z"
   },
   {
    "duration": 32,
    "start_time": "2025-03-13T22:20:22.892Z"
   },
   {
    "duration": 49,
    "start_time": "2025-03-13T22:20:22.926Z"
   },
   {
    "duration": 25,
    "start_time": "2025-03-13T22:20:22.977Z"
   },
   {
    "duration": 38,
    "start_time": "2025-03-13T22:20:23.005Z"
   },
   {
    "duration": 127,
    "start_time": "2025-03-13T22:20:23.045Z"
   },
   {
    "duration": 8,
    "start_time": "2025-03-13T22:20:23.174Z"
   },
   {
    "duration": 22,
    "start_time": "2025-03-13T22:20:23.184Z"
   },
   {
    "duration": 17,
    "start_time": "2025-03-13T22:20:23.210Z"
   },
   {
    "duration": 44,
    "start_time": "2025-03-13T22:20:23.230Z"
   },
   {
    "duration": 24,
    "start_time": "2025-03-13T22:20:23.277Z"
   },
   {
    "duration": 43,
    "start_time": "2025-03-13T22:20:23.304Z"
   },
   {
    "duration": 30,
    "start_time": "2025-03-13T22:20:23.350Z"
   },
   {
    "duration": 43,
    "start_time": "2025-03-13T22:20:23.382Z"
   },
   {
    "duration": 26,
    "start_time": "2025-03-13T22:20:23.428Z"
   },
   {
    "duration": 8,
    "start_time": "2025-03-13T22:20:23.456Z"
   },
   {
    "duration": 56,
    "start_time": "2025-03-13T22:20:23.468Z"
   },
   {
    "duration": 5,
    "start_time": "2025-03-13T22:20:23.530Z"
   },
   {
    "duration": 29,
    "start_time": "2025-03-13T22:20:23.537Z"
   },
   {
    "duration": 14,
    "start_time": "2025-03-13T22:20:23.569Z"
   },
   {
    "duration": 46,
    "start_time": "2025-03-13T22:20:23.586Z"
   },
   {
    "duration": 15,
    "start_time": "2025-03-13T22:20:23.634Z"
   },
   {
    "duration": 5,
    "start_time": "2025-03-13T22:20:23.650Z"
   },
   {
    "duration": 6,
    "start_time": "2025-03-13T22:20:23.657Z"
   },
   {
    "duration": 7,
    "start_time": "2025-03-13T22:20:23.665Z"
   },
   {
    "duration": 40,
    "start_time": "2025-03-13T22:20:23.723Z"
   },
   {
    "duration": 15,
    "start_time": "2025-03-13T22:20:23.765Z"
   },
   {
    "duration": 64,
    "start_time": "2025-03-13T22:20:23.782Z"
   },
   {
    "duration": 31,
    "start_time": "2025-03-13T22:20:23.851Z"
   },
   {
    "duration": 34,
    "start_time": "2025-03-13T22:20:23.895Z"
   },
   {
    "duration": 7,
    "start_time": "2025-03-13T22:20:23.933Z"
   },
   {
    "duration": 5,
    "start_time": "2025-03-13T22:20:23.942Z"
   },
   {
    "duration": 32,
    "start_time": "2025-03-13T22:20:23.949Z"
   },
   {
    "duration": 4,
    "start_time": "2025-03-13T22:20:23.983Z"
   },
   {
    "duration": 38,
    "start_time": "2025-03-13T22:20:23.989Z"
   },
   {
    "duration": 8,
    "start_time": "2025-03-13T22:20:24.029Z"
   },
   {
    "duration": 7,
    "start_time": "2025-03-13T22:20:24.039Z"
   },
   {
    "duration": 7,
    "start_time": "2025-03-13T22:20:24.049Z"
   },
   {
    "duration": 4,
    "start_time": "2025-03-13T22:20:24.060Z"
   },
   {
    "duration": 9,
    "start_time": "2025-03-13T22:20:24.070Z"
   },
   {
    "duration": 7,
    "start_time": "2025-03-13T22:20:24.082Z"
   },
   {
    "duration": 34,
    "start_time": "2025-03-13T22:20:24.091Z"
   },
   {
    "duration": 5,
    "start_time": "2025-03-13T22:20:24.128Z"
   },
   {
    "duration": 621,
    "start_time": "2025-03-13T22:20:24.137Z"
   },
   {
    "duration": 959,
    "start_time": "2025-03-13T22:24:41.077Z"
   },
   {
    "duration": 127,
    "start_time": "2025-03-13T22:24:42.039Z"
   },
   {
    "duration": 5,
    "start_time": "2025-03-13T22:24:42.168Z"
   },
   {
    "duration": 22,
    "start_time": "2025-03-13T22:24:42.175Z"
   },
   {
    "duration": 26,
    "start_time": "2025-03-13T22:24:42.199Z"
   },
   {
    "duration": 59,
    "start_time": "2025-03-13T22:24:42.227Z"
   },
   {
    "duration": 39,
    "start_time": "2025-03-13T22:24:42.291Z"
   },
   {
    "duration": 36,
    "start_time": "2025-03-13T22:24:42.334Z"
   },
   {
    "duration": 110,
    "start_time": "2025-03-13T22:24:42.374Z"
   },
   {
    "duration": 7,
    "start_time": "2025-03-13T22:24:42.488Z"
   },
   {
    "duration": 28,
    "start_time": "2025-03-13T22:24:42.497Z"
   },
   {
    "duration": 13,
    "start_time": "2025-03-13T22:24:42.527Z"
   },
   {
    "duration": 59,
    "start_time": "2025-03-13T22:24:42.543Z"
   },
   {
    "duration": 31,
    "start_time": "2025-03-13T22:24:42.623Z"
   },
   {
    "duration": 31,
    "start_time": "2025-03-13T22:24:42.656Z"
   },
   {
    "duration": 129,
    "start_time": "2025-03-13T22:24:42.689Z"
   },
   {
    "duration": 8,
    "start_time": "2025-03-13T22:24:42.820Z"
   },
   {
    "duration": 27,
    "start_time": "2025-03-13T22:24:42.829Z"
   },
   {
    "duration": 17,
    "start_time": "2025-03-13T22:24:42.858Z"
   },
   {
    "duration": 96,
    "start_time": "2025-03-13T22:24:42.879Z"
   },
   {
    "duration": 31,
    "start_time": "2025-03-13T22:24:42.977Z"
   },
   {
    "duration": 31,
    "start_time": "2025-03-13T22:24:43.010Z"
   },
   {
    "duration": 14,
    "start_time": "2025-03-13T22:24:43.043Z"
   },
   {
    "duration": 30,
    "start_time": "2025-03-13T22:24:43.058Z"
   },
   {
    "duration": 14,
    "start_time": "2025-03-13T22:24:43.124Z"
   },
   {
    "duration": 4,
    "start_time": "2025-03-13T22:24:43.141Z"
   },
   {
    "duration": 6,
    "start_time": "2025-03-13T22:24:43.147Z"
   },
   {
    "duration": 5,
    "start_time": "2025-03-13T22:24:43.167Z"
   },
   {
    "duration": 76,
    "start_time": "2025-03-13T22:24:43.174Z"
   },
   {
    "duration": 15,
    "start_time": "2025-03-13T22:24:43.252Z"
   },
   {
    "duration": 60,
    "start_time": "2025-03-13T22:24:43.269Z"
   },
   {
    "duration": 24,
    "start_time": "2025-03-13T22:24:43.336Z"
   },
   {
    "duration": 5,
    "start_time": "2025-03-13T22:24:43.363Z"
   },
   {
    "duration": 54,
    "start_time": "2025-03-13T22:24:43.370Z"
   },
   {
    "duration": 4,
    "start_time": "2025-03-13T22:24:43.426Z"
   },
   {
    "duration": 34,
    "start_time": "2025-03-13T22:24:43.432Z"
   },
   {
    "duration": 14,
    "start_time": "2025-03-13T22:24:43.468Z"
   },
   {
    "duration": 51,
    "start_time": "2025-03-13T22:24:43.484Z"
   },
   {
    "duration": 24,
    "start_time": "2025-03-13T22:24:43.539Z"
   },
   {
    "duration": 6,
    "start_time": "2025-03-13T22:24:43.566Z"
   },
   {
    "duration": 4,
    "start_time": "2025-03-13T22:24:43.625Z"
   },
   {
    "duration": 4,
    "start_time": "2025-03-13T22:24:43.631Z"
   },
   {
    "duration": 30,
    "start_time": "2025-03-13T22:24:43.637Z"
   },
   {
    "duration": 4,
    "start_time": "2025-03-13T22:24:43.669Z"
   },
   {
    "duration": 7,
    "start_time": "2025-03-13T22:24:43.674Z"
   },
   {
    "duration": 6,
    "start_time": "2025-03-13T22:24:43.683Z"
   },
   {
    "duration": 34,
    "start_time": "2025-03-13T22:24:43.691Z"
   },
   {
    "duration": 8,
    "start_time": "2025-03-13T22:24:43.726Z"
   },
   {
    "duration": 4,
    "start_time": "2025-03-13T22:24:43.736Z"
   },
   {
    "duration": 8,
    "start_time": "2025-03-13T22:24:43.741Z"
   },
   {
    "duration": 7,
    "start_time": "2025-03-13T22:24:43.751Z"
   },
   {
    "duration": 6,
    "start_time": "2025-03-13T22:24:43.760Z"
   },
   {
    "duration": 5,
    "start_time": "2025-03-13T22:24:43.769Z"
   },
   {
    "duration": 757,
    "start_time": "2025-03-13T22:24:43.775Z"
   },
   {
    "duration": 968,
    "start_time": "2025-03-13T22:27:11.386Z"
   },
   {
    "duration": 135,
    "start_time": "2025-03-13T22:27:12.357Z"
   },
   {
    "duration": 7,
    "start_time": "2025-03-13T22:27:12.493Z"
   },
   {
    "duration": 36,
    "start_time": "2025-03-13T22:27:12.503Z"
   },
   {
    "duration": 13,
    "start_time": "2025-03-13T22:27:12.543Z"
   },
   {
    "duration": 83,
    "start_time": "2025-03-13T22:27:12.559Z"
   },
   {
    "duration": 33,
    "start_time": "2025-03-13T22:27:12.644Z"
   },
   {
    "duration": 45,
    "start_time": "2025-03-13T22:27:12.681Z"
   },
   {
    "duration": 120,
    "start_time": "2025-03-13T22:27:12.728Z"
   },
   {
    "duration": 7,
    "start_time": "2025-03-13T22:27:12.854Z"
   },
   {
    "duration": 23,
    "start_time": "2025-03-13T22:27:12.866Z"
   },
   {
    "duration": 16,
    "start_time": "2025-03-13T22:27:12.891Z"
   },
   {
    "duration": 73,
    "start_time": "2025-03-13T22:27:12.908Z"
   },
   {
    "duration": 22,
    "start_time": "2025-03-13T22:27:12.983Z"
   },
   {
    "duration": 40,
    "start_time": "2025-03-13T22:27:13.007Z"
   },
   {
    "duration": 125,
    "start_time": "2025-03-13T22:27:13.049Z"
   },
   {
    "duration": 7,
    "start_time": "2025-03-13T22:27:13.179Z"
   },
   {
    "duration": 25,
    "start_time": "2025-03-13T22:27:13.190Z"
   },
   {
    "duration": 15,
    "start_time": "2025-03-13T22:27:13.219Z"
   },
   {
    "duration": 51,
    "start_time": "2025-03-13T22:27:13.238Z"
   },
   {
    "duration": 33,
    "start_time": "2025-03-13T22:27:13.291Z"
   },
   {
    "duration": 26,
    "start_time": "2025-03-13T22:27:13.326Z"
   },
   {
    "duration": 16,
    "start_time": "2025-03-13T22:27:13.354Z"
   },
   {
    "duration": 18,
    "start_time": "2025-03-13T22:27:13.372Z"
   },
   {
    "duration": 43,
    "start_time": "2025-03-13T22:27:13.392Z"
   },
   {
    "duration": 4,
    "start_time": "2025-03-13T22:27:13.437Z"
   },
   {
    "duration": 5,
    "start_time": "2025-03-13T22:27:13.443Z"
   },
   {
    "duration": 6,
    "start_time": "2025-03-13T22:27:13.457Z"
   },
   {
    "duration": 85,
    "start_time": "2025-03-13T22:27:13.465Z"
   },
   {
    "duration": 15,
    "start_time": "2025-03-13T22:27:13.552Z"
   },
   {
    "duration": 19,
    "start_time": "2025-03-13T22:27:13.569Z"
   },
   {
    "duration": 50,
    "start_time": "2025-03-13T22:27:13.593Z"
   },
   {
    "duration": 8,
    "start_time": "2025-03-13T22:27:13.649Z"
   },
   {
    "duration": 8,
    "start_time": "2025-03-13T22:27:13.661Z"
   },
   {
    "duration": 55,
    "start_time": "2025-03-13T22:27:13.672Z"
   },
   {
    "duration": 30,
    "start_time": "2025-03-13T22:27:13.729Z"
   },
   {
    "duration": 14,
    "start_time": "2025-03-13T22:27:13.761Z"
   },
   {
    "duration": 18,
    "start_time": "2025-03-13T22:27:13.777Z"
   },
   {
    "duration": 42,
    "start_time": "2025-03-13T22:27:13.797Z"
   },
   {
    "duration": 5,
    "start_time": "2025-03-13T22:27:13.841Z"
   },
   {
    "duration": 8,
    "start_time": "2025-03-13T22:27:13.847Z"
   },
   {
    "duration": 11,
    "start_time": "2025-03-13T22:27:13.857Z"
   },
   {
    "duration": 83,
    "start_time": "2025-03-13T22:27:13.873Z"
   },
   {
    "duration": 3,
    "start_time": "2025-03-13T22:27:13.959Z"
   },
   {
    "duration": 7,
    "start_time": "2025-03-13T22:27:13.964Z"
   },
   {
    "duration": 18,
    "start_time": "2025-03-13T22:27:13.973Z"
   },
   {
    "duration": 7,
    "start_time": "2025-03-13T22:27:14.004Z"
   },
   {
    "duration": 11,
    "start_time": "2025-03-13T22:27:14.012Z"
   },
   {
    "duration": 9,
    "start_time": "2025-03-13T22:27:14.025Z"
   },
   {
    "duration": 6,
    "start_time": "2025-03-13T22:27:14.036Z"
   },
   {
    "duration": 6,
    "start_time": "2025-03-13T22:27:14.044Z"
   },
   {
    "duration": 6,
    "start_time": "2025-03-13T22:27:14.051Z"
   },
   {
    "duration": 4,
    "start_time": "2025-03-13T22:27:14.059Z"
   },
   {
    "duration": 731,
    "start_time": "2025-03-13T22:27:14.064Z"
   },
   {
    "duration": 880,
    "start_time": "2025-03-13T22:28:12.491Z"
   },
   {
    "duration": 126,
    "start_time": "2025-03-13T22:28:13.375Z"
   },
   {
    "duration": 7,
    "start_time": "2025-03-13T22:28:13.503Z"
   },
   {
    "duration": 26,
    "start_time": "2025-03-13T22:28:13.512Z"
   },
   {
    "duration": 13,
    "start_time": "2025-03-13T22:28:13.541Z"
   },
   {
    "duration": 49,
    "start_time": "2025-03-13T22:28:13.557Z"
   },
   {
    "duration": 36,
    "start_time": "2025-03-13T22:28:13.608Z"
   },
   {
    "duration": 36,
    "start_time": "2025-03-13T22:28:13.647Z"
   },
   {
    "duration": 119,
    "start_time": "2025-03-13T22:28:13.686Z"
   },
   {
    "duration": 6,
    "start_time": "2025-03-13T22:28:13.809Z"
   },
   {
    "duration": 24,
    "start_time": "2025-03-13T22:28:13.818Z"
   },
   {
    "duration": 29,
    "start_time": "2025-03-13T22:28:13.844Z"
   },
   {
    "duration": 53,
    "start_time": "2025-03-13T22:28:13.874Z"
   },
   {
    "duration": 20,
    "start_time": "2025-03-13T22:28:13.931Z"
   },
   {
    "duration": 24,
    "start_time": "2025-03-13T22:28:13.953Z"
   },
   {
    "duration": 130,
    "start_time": "2025-03-13T22:28:13.979Z"
   },
   {
    "duration": 3,
    "start_time": "2025-03-13T22:28:14.111Z"
   },
   {
    "duration": 27,
    "start_time": "2025-03-13T22:28:14.116Z"
   },
   {
    "duration": 13,
    "start_time": "2025-03-13T22:28:14.145Z"
   },
   {
    "duration": 69,
    "start_time": "2025-03-13T22:28:14.160Z"
   },
   {
    "duration": 27,
    "start_time": "2025-03-13T22:28:14.233Z"
   },
   {
    "duration": 27,
    "start_time": "2025-03-13T22:28:14.261Z"
   },
   {
    "duration": 18,
    "start_time": "2025-03-13T22:28:14.292Z"
   },
   {
    "duration": 30,
    "start_time": "2025-03-13T22:28:14.324Z"
   },
   {
    "duration": 13,
    "start_time": "2025-03-13T22:28:14.355Z"
   },
   {
    "duration": 6,
    "start_time": "2025-03-13T22:28:14.371Z"
   },
   {
    "duration": 65,
    "start_time": "2025-03-13T22:28:14.378Z"
   },
   {
    "duration": 10,
    "start_time": "2025-03-13T22:28:14.445Z"
   },
   {
    "duration": 37,
    "start_time": "2025-03-13T22:28:14.457Z"
   },
   {
    "duration": 17,
    "start_time": "2025-03-13T22:28:14.498Z"
   },
   {
    "duration": 20,
    "start_time": "2025-03-13T22:28:14.519Z"
   },
   {
    "duration": 15,
    "start_time": "2025-03-13T22:28:14.541Z"
   },
   {
    "duration": 4,
    "start_time": "2025-03-13T22:28:14.558Z"
   },
   {
    "duration": 5,
    "start_time": "2025-03-13T22:28:14.564Z"
   },
   {
    "duration": 7,
    "start_time": "2025-03-13T22:28:14.571Z"
   },
   {
    "duration": 36,
    "start_time": "2025-03-13T22:28:14.626Z"
   },
   {
    "duration": 16,
    "start_time": "2025-03-13T22:28:14.664Z"
   },
   {
    "duration": 18,
    "start_time": "2025-03-13T22:28:14.682Z"
   },
   {
    "duration": 19,
    "start_time": "2025-03-13T22:28:14.726Z"
   },
   {
    "duration": 5,
    "start_time": "2025-03-13T22:28:14.748Z"
   },
   {
    "duration": 7,
    "start_time": "2025-03-13T22:28:14.765Z"
   },
   {
    "duration": 6,
    "start_time": "2025-03-13T22:28:14.823Z"
   },
   {
    "duration": 30,
    "start_time": "2025-03-13T22:28:14.831Z"
   },
   {
    "duration": 3,
    "start_time": "2025-03-13T22:28:14.863Z"
   },
   {
    "duration": 5,
    "start_time": "2025-03-13T22:28:14.868Z"
   },
   {
    "duration": 6,
    "start_time": "2025-03-13T22:28:14.875Z"
   },
   {
    "duration": 6,
    "start_time": "2025-03-13T22:28:14.883Z"
   },
   {
    "duration": 37,
    "start_time": "2025-03-13T22:28:14.891Z"
   },
   {
    "duration": 4,
    "start_time": "2025-03-13T22:28:14.930Z"
   },
   {
    "duration": 8,
    "start_time": "2025-03-13T22:28:14.936Z"
   },
   {
    "duration": 7,
    "start_time": "2025-03-13T22:28:14.945Z"
   },
   {
    "duration": 6,
    "start_time": "2025-03-13T22:28:14.954Z"
   },
   {
    "duration": 5,
    "start_time": "2025-03-13T22:28:14.961Z"
   },
   {
    "duration": 761,
    "start_time": "2025-03-13T22:28:14.967Z"
   },
   {
    "duration": 986,
    "start_time": "2025-03-13T22:29:47.025Z"
   },
   {
    "duration": 162,
    "start_time": "2025-03-13T22:29:48.017Z"
   },
   {
    "duration": 6,
    "start_time": "2025-03-13T22:29:48.181Z"
   },
   {
    "duration": 26,
    "start_time": "2025-03-13T22:29:48.190Z"
   },
   {
    "duration": 19,
    "start_time": "2025-03-13T22:29:48.218Z"
   },
   {
    "duration": 93,
    "start_time": "2025-03-13T22:29:48.239Z"
   },
   {
    "duration": 35,
    "start_time": "2025-03-13T22:29:48.334Z"
   },
   {
    "duration": 39,
    "start_time": "2025-03-13T22:29:48.372Z"
   },
   {
    "duration": 130,
    "start_time": "2025-03-13T22:29:48.414Z"
   },
   {
    "duration": 5,
    "start_time": "2025-03-13T22:29:48.552Z"
   },
   {
    "duration": 22,
    "start_time": "2025-03-13T22:29:48.559Z"
   },
   {
    "duration": 14,
    "start_time": "2025-03-13T22:29:48.583Z"
   },
   {
    "duration": 102,
    "start_time": "2025-03-13T22:29:48.601Z"
   },
   {
    "duration": 36,
    "start_time": "2025-03-13T22:29:48.705Z"
   },
   {
    "duration": 32,
    "start_time": "2025-03-13T22:29:48.743Z"
   },
   {
    "duration": 146,
    "start_time": "2025-03-13T22:29:48.779Z"
   },
   {
    "duration": 7,
    "start_time": "2025-03-13T22:29:48.929Z"
   },
   {
    "duration": 26,
    "start_time": "2025-03-13T22:29:48.939Z"
   },
   {
    "duration": 18,
    "start_time": "2025-03-13T22:29:48.968Z"
   },
   {
    "duration": 73,
    "start_time": "2025-03-13T22:29:48.988Z"
   },
   {
    "duration": 26,
    "start_time": "2025-03-13T22:29:49.063Z"
   },
   {
    "duration": 36,
    "start_time": "2025-03-13T22:29:49.092Z"
   },
   {
    "duration": 16,
    "start_time": "2025-03-13T22:29:49.130Z"
   },
   {
    "duration": 20,
    "start_time": "2025-03-13T22:29:49.148Z"
   },
   {
    "duration": 53,
    "start_time": "2025-03-13T22:29:49.171Z"
   },
   {
    "duration": 8,
    "start_time": "2025-03-13T22:29:49.226Z"
   },
   {
    "duration": 7,
    "start_time": "2025-03-13T22:29:49.238Z"
   },
   {
    "duration": 8,
    "start_time": "2025-03-13T22:29:49.254Z"
   },
   {
    "duration": 106,
    "start_time": "2025-03-13T22:29:49.265Z"
   },
   {
    "duration": 14,
    "start_time": "2025-03-13T22:29:49.373Z"
   },
   {
    "duration": 14,
    "start_time": "2025-03-13T22:29:49.390Z"
   },
   {
    "duration": 43,
    "start_time": "2025-03-13T22:29:49.424Z"
   },
   {
    "duration": 51,
    "start_time": "2025-03-13T22:29:49.475Z"
   },
   {
    "duration": 4,
    "start_time": "2025-03-13T22:29:49.528Z"
   },
   {
    "duration": 8,
    "start_time": "2025-03-13T22:29:49.535Z"
   },
   {
    "duration": 32,
    "start_time": "2025-03-13T22:29:49.545Z"
   },
   {
    "duration": 15,
    "start_time": "2025-03-13T22:29:49.579Z"
   },
   {
    "duration": 32,
    "start_time": "2025-03-13T22:29:49.596Z"
   },
   {
    "duration": 8,
    "start_time": "2025-03-13T22:29:49.630Z"
   },
   {
    "duration": 4,
    "start_time": "2025-03-13T22:29:49.640Z"
   },
   {
    "duration": 7,
    "start_time": "2025-03-13T22:29:49.647Z"
   },
   {
    "duration": 7,
    "start_time": "2025-03-13T22:29:49.656Z"
   },
   {
    "duration": 88,
    "start_time": "2025-03-13T22:29:49.665Z"
   },
   {
    "duration": 4,
    "start_time": "2025-03-13T22:29:49.755Z"
   },
   {
    "duration": 5,
    "start_time": "2025-03-13T22:29:49.761Z"
   },
   {
    "duration": 7,
    "start_time": "2025-03-13T22:29:49.768Z"
   },
   {
    "duration": 8,
    "start_time": "2025-03-13T22:29:49.777Z"
   },
   {
    "duration": 44,
    "start_time": "2025-03-13T22:29:49.788Z"
   },
   {
    "duration": 7,
    "start_time": "2025-03-13T22:29:49.835Z"
   },
   {
    "duration": 10,
    "start_time": "2025-03-13T22:29:49.847Z"
   },
   {
    "duration": 10,
    "start_time": "2025-03-13T22:29:49.862Z"
   },
   {
    "duration": 8,
    "start_time": "2025-03-13T22:29:49.873Z"
   },
   {
    "duration": 4,
    "start_time": "2025-03-13T22:29:49.883Z"
   },
   {
    "duration": 355,
    "start_time": "2025-03-13T22:29:49.889Z"
   },
   {
    "duration": 958,
    "start_time": "2025-03-13T22:35:22.501Z"
   },
   {
    "duration": 131,
    "start_time": "2025-03-13T22:35:23.463Z"
   },
   {
    "duration": 5,
    "start_time": "2025-03-13T22:35:23.595Z"
   },
   {
    "duration": 35,
    "start_time": "2025-03-13T22:35:23.604Z"
   },
   {
    "duration": 18,
    "start_time": "2025-03-13T22:35:23.641Z"
   },
   {
    "duration": 92,
    "start_time": "2025-03-13T22:35:23.663Z"
   },
   {
    "duration": 28,
    "start_time": "2025-03-13T22:35:23.757Z"
   },
   {
    "duration": 43,
    "start_time": "2025-03-13T22:35:23.788Z"
   },
   {
    "duration": 113,
    "start_time": "2025-03-13T22:35:23.833Z"
   },
   {
    "duration": 4,
    "start_time": "2025-03-13T22:35:23.951Z"
   },
   {
    "duration": 19,
    "start_time": "2025-03-13T22:35:23.957Z"
   },
   {
    "duration": 14,
    "start_time": "2025-03-13T22:35:23.978Z"
   },
   {
    "duration": 78,
    "start_time": "2025-03-13T22:35:23.995Z"
   },
   {
    "duration": 36,
    "start_time": "2025-03-13T22:35:24.079Z"
   },
   {
    "duration": 33,
    "start_time": "2025-03-13T22:35:24.118Z"
   },
   {
    "duration": 104,
    "start_time": "2025-03-13T22:35:24.153Z"
   },
   {
    "duration": 4,
    "start_time": "2025-03-13T22:35:24.261Z"
   },
   {
    "duration": 18,
    "start_time": "2025-03-13T22:35:24.268Z"
   },
   {
    "duration": 14,
    "start_time": "2025-03-13T22:35:24.288Z"
   },
   {
    "duration": 51,
    "start_time": "2025-03-13T22:35:24.326Z"
   },
   {
    "duration": 19,
    "start_time": "2025-03-13T22:35:24.380Z"
   },
   {
    "duration": 32,
    "start_time": "2025-03-13T22:35:24.401Z"
   },
   {
    "duration": 15,
    "start_time": "2025-03-13T22:35:24.436Z"
   },
   {
    "duration": 15,
    "start_time": "2025-03-13T22:35:24.453Z"
   },
   {
    "duration": 10,
    "start_time": "2025-03-13T22:35:24.470Z"
   },
   {
    "duration": 53,
    "start_time": "2025-03-13T22:35:24.481Z"
   },
   {
    "duration": 4,
    "start_time": "2025-03-13T22:35:24.536Z"
   },
   {
    "duration": 8,
    "start_time": "2025-03-13T22:35:24.545Z"
   },
   {
    "duration": 93,
    "start_time": "2025-03-13T22:35:24.556Z"
   },
   {
    "duration": 15,
    "start_time": "2025-03-13T22:35:24.651Z"
   },
   {
    "duration": 60,
    "start_time": "2025-03-13T22:35:24.668Z"
   },
   {
    "duration": 15,
    "start_time": "2025-03-13T22:35:24.730Z"
   },
   {
    "duration": 5,
    "start_time": "2025-03-13T22:35:24.748Z"
   },
   {
    "duration": 6,
    "start_time": "2025-03-13T22:35:24.756Z"
   },
   {
    "duration": 64,
    "start_time": "2025-03-13T22:35:24.765Z"
   },
   {
    "duration": 33,
    "start_time": "2025-03-13T22:35:24.831Z"
   },
   {
    "duration": 15,
    "start_time": "2025-03-13T22:35:24.866Z"
   },
   {
    "duration": 49,
    "start_time": "2025-03-13T22:35:24.883Z"
   },
   {
    "duration": 17,
    "start_time": "2025-03-13T22:35:24.934Z"
   },
   {
    "duration": 4,
    "start_time": "2025-03-13T22:35:24.953Z"
   },
   {
    "duration": 6,
    "start_time": "2025-03-13T22:35:24.959Z"
   },
   {
    "duration": 60,
    "start_time": "2025-03-13T22:35:24.967Z"
   },
   {
    "duration": 37,
    "start_time": "2025-03-13T22:35:25.029Z"
   },
   {
    "duration": 4,
    "start_time": "2025-03-13T22:35:25.068Z"
   },
   {
    "duration": 5,
    "start_time": "2025-03-13T22:35:25.077Z"
   },
   {
    "duration": 7,
    "start_time": "2025-03-13T22:35:25.084Z"
   },
   {
    "duration": 38,
    "start_time": "2025-03-13T22:35:25.093Z"
   },
   {
    "duration": 10,
    "start_time": "2025-03-13T22:35:25.136Z"
   },
   {
    "duration": 4,
    "start_time": "2025-03-13T22:35:25.148Z"
   },
   {
    "duration": 8,
    "start_time": "2025-03-13T22:35:25.154Z"
   },
   {
    "duration": 9,
    "start_time": "2025-03-13T22:35:25.164Z"
   },
   {
    "duration": 8,
    "start_time": "2025-03-13T22:35:25.175Z"
   },
   {
    "duration": 193,
    "start_time": "2025-03-13T22:35:25.185Z"
   },
   {
    "duration": 3,
    "start_time": "2025-03-13T22:35:51.421Z"
   },
   {
    "duration": 7,
    "start_time": "2025-03-13T22:35:59.975Z"
   },
   {
    "duration": 3,
    "start_time": "2025-03-13T22:36:21.584Z"
   },
   {
    "duration": 3,
    "start_time": "2025-03-13T22:41:52.144Z"
   },
   {
    "duration": 3,
    "start_time": "2025-03-13T22:41:54.404Z"
   },
   {
    "duration": 3073,
    "start_time": "2025-03-13T22:42:57.244Z"
   },
   {
    "duration": 2932,
    "start_time": "2025-03-13T22:44:53.189Z"
   },
   {
    "duration": 2730,
    "start_time": "2025-03-13T22:46:14.112Z"
   },
   {
    "duration": 2544,
    "start_time": "2025-03-13T22:46:55.250Z"
   },
   {
    "duration": 2872,
    "start_time": "2025-03-13T22:48:49.660Z"
   },
   {
    "duration": 7,
    "start_time": "2025-03-13T22:49:31.844Z"
   },
   {
    "duration": 2895,
    "start_time": "2025-03-13T22:49:33.742Z"
   },
   {
    "duration": 2889,
    "start_time": "2025-03-13T22:54:42.150Z"
   },
   {
    "duration": 2902,
    "start_time": "2025-03-13T22:56:04.691Z"
   },
   {
    "duration": 916,
    "start_time": "2025-03-13T23:11:58.881Z"
   },
   {
    "duration": 128,
    "start_time": "2025-03-13T23:11:59.800Z"
   },
   {
    "duration": 4,
    "start_time": "2025-03-13T23:11:59.930Z"
   },
   {
    "duration": 26,
    "start_time": "2025-03-13T23:11:59.940Z"
   },
   {
    "duration": 15,
    "start_time": "2025-03-13T23:11:59.968Z"
   },
   {
    "duration": 75,
    "start_time": "2025-03-13T23:11:59.985Z"
   },
   {
    "duration": 23,
    "start_time": "2025-03-13T23:12:00.062Z"
   },
   {
    "duration": 46,
    "start_time": "2025-03-13T23:12:00.088Z"
   },
   {
    "duration": 120,
    "start_time": "2025-03-13T23:12:00.136Z"
   },
   {
    "duration": 3,
    "start_time": "2025-03-13T23:12:00.259Z"
   },
   {
    "duration": 24,
    "start_time": "2025-03-13T23:12:00.264Z"
   },
   {
    "duration": 15,
    "start_time": "2025-03-13T23:12:00.292Z"
   },
   {
    "duration": 65,
    "start_time": "2025-03-13T23:12:00.310Z"
   },
   {
    "duration": 26,
    "start_time": "2025-03-13T23:12:00.377Z"
   },
   {
    "duration": 38,
    "start_time": "2025-03-13T23:12:00.405Z"
   },
   {
    "duration": 122,
    "start_time": "2025-03-13T23:12:00.444Z"
   },
   {
    "duration": 6,
    "start_time": "2025-03-13T23:12:00.570Z"
   },
   {
    "duration": 23,
    "start_time": "2025-03-13T23:12:00.580Z"
   },
   {
    "duration": 18,
    "start_time": "2025-03-13T23:12:00.607Z"
   },
   {
    "duration": 49,
    "start_time": "2025-03-13T23:12:00.628Z"
   },
   {
    "duration": 23,
    "start_time": "2025-03-13T23:12:00.679Z"
   },
   {
    "duration": 38,
    "start_time": "2025-03-13T23:12:00.707Z"
   },
   {
    "duration": 15,
    "start_time": "2025-03-13T23:12:00.747Z"
   },
   {
    "duration": 20,
    "start_time": "2025-03-13T23:12:00.764Z"
   },
   {
    "duration": 49,
    "start_time": "2025-03-13T23:12:00.786Z"
   },
   {
    "duration": 3,
    "start_time": "2025-03-13T23:12:00.836Z"
   },
   {
    "duration": 6,
    "start_time": "2025-03-13T23:12:00.849Z"
   },
   {
    "duration": 8,
    "start_time": "2025-03-13T23:12:00.866Z"
   },
   {
    "duration": 32,
    "start_time": "2025-03-13T23:12:00.925Z"
   },
   {
    "duration": 15,
    "start_time": "2025-03-13T23:12:00.959Z"
   },
   {
    "duration": 10,
    "start_time": "2025-03-13T23:12:00.976Z"
   },
   {
    "duration": 8,
    "start_time": "2025-03-13T23:12:00.988Z"
   },
   {
    "duration": 3,
    "start_time": "2025-03-13T23:12:01.025Z"
   },
   {
    "duration": 4,
    "start_time": "2025-03-13T23:12:01.030Z"
   },
   {
    "duration": 5,
    "start_time": "2025-03-13T23:12:01.035Z"
   },
   {
    "duration": 29,
    "start_time": "2025-03-13T23:12:01.041Z"
   },
   {
    "duration": 63,
    "start_time": "2025-03-13T23:12:01.072Z"
   },
   {
    "duration": 21,
    "start_time": "2025-03-13T23:12:01.139Z"
   },
   {
    "duration": 16,
    "start_time": "2025-03-13T23:12:01.162Z"
   },
   {
    "duration": 39,
    "start_time": "2025-03-13T23:12:01.193Z"
   },
   {
    "duration": 13,
    "start_time": "2025-03-13T23:12:01.239Z"
   },
   {
    "duration": 6,
    "start_time": "2025-03-13T23:12:01.255Z"
   },
   {
    "duration": 29,
    "start_time": "2025-03-13T23:12:01.264Z"
   },
   {
    "duration": 3,
    "start_time": "2025-03-13T23:12:01.296Z"
   },
   {
    "duration": 8,
    "start_time": "2025-03-13T23:12:01.324Z"
   },
   {
    "duration": 7,
    "start_time": "2025-03-13T23:12:01.334Z"
   },
   {
    "duration": 6,
    "start_time": "2025-03-13T23:12:01.343Z"
   },
   {
    "duration": 6,
    "start_time": "2025-03-13T23:12:01.351Z"
   },
   {
    "duration": 3,
    "start_time": "2025-03-13T23:12:01.359Z"
   },
   {
    "duration": 7,
    "start_time": "2025-03-13T23:12:01.364Z"
   },
   {
    "duration": 6,
    "start_time": "2025-03-13T23:12:01.373Z"
   },
   {
    "duration": 42,
    "start_time": "2025-03-13T23:12:01.381Z"
   },
   {
    "duration": 6,
    "start_time": "2025-03-13T23:12:01.430Z"
   },
   {
    "duration": 2749,
    "start_time": "2025-03-13T23:12:01.438Z"
   },
   {
    "duration": 2727,
    "start_time": "2025-03-13T23:12:04.189Z"
   },
   {
    "duration": 2747,
    "start_time": "2025-03-13T23:12:06.924Z"
   },
   {
    "duration": 812,
    "start_time": "2025-03-15T03:53:52.499Z"
   },
   {
    "duration": 124,
    "start_time": "2025-03-15T03:53:53.313Z"
   },
   {
    "duration": 4,
    "start_time": "2025-03-15T03:53:53.439Z"
   },
   {
    "duration": 16,
    "start_time": "2025-03-15T03:53:53.446Z"
   },
   {
    "duration": 12,
    "start_time": "2025-03-15T03:53:53.464Z"
   },
   {
    "duration": 75,
    "start_time": "2025-03-15T03:53:53.478Z"
   },
   {
    "duration": 19,
    "start_time": "2025-03-15T03:53:53.557Z"
   },
   {
    "duration": 41,
    "start_time": "2025-03-15T03:53:53.578Z"
   },
   {
    "duration": 155,
    "start_time": "2025-03-15T03:53:53.622Z"
   },
   {
    "duration": 4,
    "start_time": "2025-03-15T03:53:53.781Z"
   },
   {
    "duration": 19,
    "start_time": "2025-03-15T03:53:53.789Z"
   },
   {
    "duration": 12,
    "start_time": "2025-03-15T03:53:53.809Z"
   },
   {
    "duration": 45,
    "start_time": "2025-03-15T03:53:53.824Z"
   },
   {
    "duration": 40,
    "start_time": "2025-03-15T03:53:53.871Z"
   },
   {
    "duration": 25,
    "start_time": "2025-03-15T03:53:53.913Z"
   },
   {
    "duration": 140,
    "start_time": "2025-03-15T03:53:53.940Z"
   },
   {
    "duration": 3,
    "start_time": "2025-03-15T03:53:54.082Z"
   },
   {
    "duration": 25,
    "start_time": "2025-03-15T03:53:54.086Z"
   },
   {
    "duration": 14,
    "start_time": "2025-03-15T03:53:54.113Z"
   },
   {
    "duration": 76,
    "start_time": "2025-03-15T03:53:54.129Z"
   },
   {
    "duration": 26,
    "start_time": "2025-03-15T03:53:54.209Z"
   },
   {
    "duration": 20,
    "start_time": "2025-03-15T03:53:54.237Z"
   },
   {
    "duration": 13,
    "start_time": "2025-03-15T03:53:54.259Z"
   },
   {
    "duration": 32,
    "start_time": "2025-03-15T03:53:54.274Z"
   },
   {
    "duration": 13,
    "start_time": "2025-03-15T03:53:54.308Z"
   },
   {
    "duration": 3,
    "start_time": "2025-03-15T03:53:54.323Z"
   },
   {
    "duration": 75,
    "start_time": "2025-03-15T03:53:54.329Z"
   },
   {
    "duration": 5,
    "start_time": "2025-03-15T03:53:54.411Z"
   },
   {
    "duration": 28,
    "start_time": "2025-03-15T03:53:54.418Z"
   },
   {
    "duration": 12,
    "start_time": "2025-03-15T03:53:54.449Z"
   },
   {
    "duration": 45,
    "start_time": "2025-03-15T03:53:54.463Z"
   },
   {
    "duration": 19,
    "start_time": "2025-03-15T03:53:54.510Z"
   },
   {
    "duration": 4,
    "start_time": "2025-03-15T03:53:54.531Z"
   },
   {
    "duration": 68,
    "start_time": "2025-03-15T03:53:54.537Z"
   },
   {
    "duration": 5,
    "start_time": "2025-03-15T03:53:54.608Z"
   },
   {
    "duration": 28,
    "start_time": "2025-03-15T03:53:54.615Z"
   },
   {
    "duration": 12,
    "start_time": "2025-03-15T03:53:54.645Z"
   },
   {
    "duration": 9,
    "start_time": "2025-03-15T03:53:54.659Z"
   },
   {
    "duration": 13,
    "start_time": "2025-03-15T03:53:54.706Z"
   },
   {
    "duration": 3,
    "start_time": "2025-03-15T03:53:54.721Z"
   },
   {
    "duration": 5,
    "start_time": "2025-03-15T03:53:54.725Z"
   },
   {
    "duration": 4,
    "start_time": "2025-03-15T03:53:54.732Z"
   },
   {
    "duration": 96,
    "start_time": "2025-03-15T03:53:54.738Z"
   },
   {
    "duration": 3,
    "start_time": "2025-03-15T03:53:54.837Z"
   },
   {
    "duration": 7,
    "start_time": "2025-03-15T03:53:54.842Z"
   },
   {
    "duration": 7,
    "start_time": "2025-03-15T03:53:54.851Z"
   },
   {
    "duration": 6,
    "start_time": "2025-03-15T03:53:54.860Z"
   },
   {
    "duration": 41,
    "start_time": "2025-03-15T03:53:54.868Z"
   },
   {
    "duration": 3,
    "start_time": "2025-03-15T03:53:54.912Z"
   },
   {
    "duration": 7,
    "start_time": "2025-03-15T03:53:54.918Z"
   },
   {
    "duration": 7,
    "start_time": "2025-03-15T03:53:54.926Z"
   },
   {
    "duration": 6,
    "start_time": "2025-03-15T03:53:54.935Z"
   },
   {
    "duration": 3,
    "start_time": "2025-03-15T03:53:54.943Z"
   },
   {
    "duration": 2602,
    "start_time": "2025-03-15T03:53:54.948Z"
   },
   {
    "duration": 2489,
    "start_time": "2025-03-15T03:53:57.551Z"
   },
   {
    "duration": 2510,
    "start_time": "2025-03-15T03:54:00.042Z"
   },
   {
    "duration": 3,
    "start_time": "2025-03-15T03:57:42.083Z"
   },
   {
    "duration": 6,
    "start_time": "2025-03-15T03:57:45.106Z"
   },
   {
    "duration": 6,
    "start_time": "2025-03-15T03:57:47.577Z"
   },
   {
    "duration": 6,
    "start_time": "2025-03-15T03:57:49.559Z"
   },
   {
    "duration": 4,
    "start_time": "2025-03-15T03:59:36.099Z"
   },
   {
    "duration": 3,
    "start_time": "2025-03-15T04:04:40.098Z"
   },
   {
    "duration": 2646,
    "start_time": "2025-03-15T04:04:42.239Z"
   },
   {
    "duration": 2486,
    "start_time": "2025-03-15T04:04:52.705Z"
   },
   {
    "duration": 2512,
    "start_time": "2025-03-15T04:05:01.275Z"
   },
   {
    "duration": 776,
    "start_time": "2025-03-15T04:06:34.438Z"
   },
   {
    "duration": 90,
    "start_time": "2025-03-15T04:06:35.216Z"
   },
   {
    "duration": 4,
    "start_time": "2025-03-15T04:06:35.307Z"
   },
   {
    "duration": 17,
    "start_time": "2025-03-15T04:06:35.313Z"
   },
   {
    "duration": 12,
    "start_time": "2025-03-15T04:06:35.332Z"
   },
   {
    "duration": 33,
    "start_time": "2025-03-15T04:06:35.346Z"
   },
   {
    "duration": 41,
    "start_time": "2025-03-15T04:06:35.381Z"
   },
   {
    "duration": 26,
    "start_time": "2025-03-15T04:06:35.423Z"
   },
   {
    "duration": 97,
    "start_time": "2025-03-15T04:06:35.451Z"
   },
   {
    "duration": 3,
    "start_time": "2025-03-15T04:06:35.551Z"
   },
   {
    "duration": 16,
    "start_time": "2025-03-15T04:06:35.555Z"
   },
   {
    "duration": 33,
    "start_time": "2025-03-15T04:06:35.573Z"
   },
   {
    "duration": 32,
    "start_time": "2025-03-15T04:06:35.608Z"
   },
   {
    "duration": 15,
    "start_time": "2025-03-15T04:06:35.641Z"
   },
   {
    "duration": 19,
    "start_time": "2025-03-15T04:06:35.659Z"
   },
   {
    "duration": 98,
    "start_time": "2025-03-15T04:06:35.679Z"
   },
   {
    "duration": 3,
    "start_time": "2025-03-15T04:06:35.779Z"
   },
   {
    "duration": 28,
    "start_time": "2025-03-15T04:06:35.784Z"
   },
   {
    "duration": 11,
    "start_time": "2025-03-15T04:06:35.814Z"
   },
   {
    "duration": 32,
    "start_time": "2025-03-15T04:06:35.827Z"
   },
   {
    "duration": 17,
    "start_time": "2025-03-15T04:06:35.860Z"
   },
   {
    "duration": 45,
    "start_time": "2025-03-15T04:06:35.879Z"
   },
   {
    "duration": 14,
    "start_time": "2025-03-15T04:06:35.925Z"
   },
   {
    "duration": 11,
    "start_time": "2025-03-15T04:06:35.941Z"
   },
   {
    "duration": 51,
    "start_time": "2025-03-15T04:06:35.956Z"
   },
   {
    "duration": 5,
    "start_time": "2025-03-15T04:06:36.011Z"
   },
   {
    "duration": 6,
    "start_time": "2025-03-15T04:06:36.019Z"
   },
   {
    "duration": 75,
    "start_time": "2025-03-15T04:06:36.030Z"
   },
   {
    "duration": 27,
    "start_time": "2025-03-15T04:06:36.107Z"
   },
   {
    "duration": 11,
    "start_time": "2025-03-15T04:06:36.136Z"
   },
   {
    "duration": 12,
    "start_time": "2025-03-15T04:06:36.149Z"
   },
   {
    "duration": 53,
    "start_time": "2025-03-15T04:06:36.162Z"
   },
   {
    "duration": 4,
    "start_time": "2025-03-15T04:06:36.217Z"
   },
   {
    "duration": 3,
    "start_time": "2025-03-15T04:06:36.223Z"
   },
   {
    "duration": 79,
    "start_time": "2025-03-15T04:06:36.229Z"
   },
   {
    "duration": 30,
    "start_time": "2025-03-15T04:06:36.310Z"
   },
   {
    "duration": 13,
    "start_time": "2025-03-15T04:06:36.342Z"
   },
   {
    "duration": 10,
    "start_time": "2025-03-15T04:06:36.357Z"
   },
   {
    "duration": 8,
    "start_time": "2025-03-15T04:06:36.405Z"
   },
   {
    "duration": 3,
    "start_time": "2025-03-15T04:06:36.415Z"
   },
   {
    "duration": 84,
    "start_time": "2025-03-15T04:06:36.420Z"
   },
   {
    "duration": 4,
    "start_time": "2025-03-15T04:06:36.507Z"
   },
   {
    "duration": 27,
    "start_time": "2025-03-15T04:06:36.513Z"
   },
   {
    "duration": 3,
    "start_time": "2025-03-15T04:06:36.542Z"
   },
   {
    "duration": 4,
    "start_time": "2025-03-15T04:06:36.547Z"
   },
   {
    "duration": 7,
    "start_time": "2025-03-15T04:06:36.552Z"
   },
   {
    "duration": 5,
    "start_time": "2025-03-15T04:06:36.561Z"
   },
   {
    "duration": 41,
    "start_time": "2025-03-15T04:06:36.568Z"
   },
   {
    "duration": 3,
    "start_time": "2025-03-15T04:06:36.611Z"
   },
   {
    "duration": 7,
    "start_time": "2025-03-15T04:06:36.616Z"
   },
   {
    "duration": 6,
    "start_time": "2025-03-15T04:06:36.625Z"
   },
   {
    "duration": 6,
    "start_time": "2025-03-15T04:06:36.634Z"
   },
   {
    "duration": 4,
    "start_time": "2025-03-15T04:06:36.642Z"
   },
   {
    "duration": 2533,
    "start_time": "2025-03-15T04:06:36.648Z"
   },
   {
    "duration": 2506,
    "start_time": "2025-03-15T04:06:39.183Z"
   },
   {
    "duration": 2500,
    "start_time": "2025-03-15T04:06:41.693Z"
   },
   {
    "duration": 791,
    "start_time": "2025-03-15T04:36:59.828Z"
   },
   {
    "duration": 99,
    "start_time": "2025-03-15T04:37:00.621Z"
   },
   {
    "duration": 4,
    "start_time": "2025-03-15T04:37:00.721Z"
   },
   {
    "duration": 18,
    "start_time": "2025-03-15T04:37:00.727Z"
   },
   {
    "duration": 12,
    "start_time": "2025-03-15T04:37:00.748Z"
   },
   {
    "duration": 55,
    "start_time": "2025-03-15T04:37:00.762Z"
   },
   {
    "duration": 17,
    "start_time": "2025-03-15T04:37:00.819Z"
   },
   {
    "duration": 26,
    "start_time": "2025-03-15T04:37:00.838Z"
   },
   {
    "duration": 107,
    "start_time": "2025-03-15T04:37:00.865Z"
   },
   {
    "duration": 3,
    "start_time": "2025-03-15T04:37:00.975Z"
   },
   {
    "duration": 31,
    "start_time": "2025-03-15T04:37:00.980Z"
   },
   {
    "duration": 12,
    "start_time": "2025-03-15T04:37:01.013Z"
   },
   {
    "duration": 36,
    "start_time": "2025-03-15T04:37:01.027Z"
   },
   {
    "duration": 18,
    "start_time": "2025-03-15T04:37:01.066Z"
   },
   {
    "duration": 20,
    "start_time": "2025-03-15T04:37:01.106Z"
   },
   {
    "duration": 96,
    "start_time": "2025-03-15T04:37:01.128Z"
   },
   {
    "duration": 4,
    "start_time": "2025-03-15T04:37:01.226Z"
   },
   {
    "duration": 17,
    "start_time": "2025-03-15T04:37:01.232Z"
   },
   {
    "duration": 18,
    "start_time": "2025-03-15T04:37:01.251Z"
   },
   {
    "duration": 60,
    "start_time": "2025-03-15T04:37:01.272Z"
   },
   {
    "duration": 15,
    "start_time": "2025-03-15T04:37:01.333Z"
   },
   {
    "duration": 21,
    "start_time": "2025-03-15T04:37:01.350Z"
   },
   {
    "duration": 13,
    "start_time": "2025-03-15T04:37:01.372Z"
   },
   {
    "duration": 11,
    "start_time": "2025-03-15T04:37:01.404Z"
   },
   {
    "duration": 9,
    "start_time": "2025-03-15T04:37:01.417Z"
   },
   {
    "duration": 3,
    "start_time": "2025-03-15T04:37:01.428Z"
   },
   {
    "duration": 71,
    "start_time": "2025-03-15T04:37:01.434Z"
   },
   {
    "duration": 7,
    "start_time": "2025-03-15T04:37:01.508Z"
   },
   {
    "duration": 29,
    "start_time": "2025-03-15T04:37:01.518Z"
   },
   {
    "duration": 63,
    "start_time": "2025-03-15T04:37:01.549Z"
   },
   {
    "duration": 10,
    "start_time": "2025-03-15T04:37:01.614Z"
   },
   {
    "duration": 10,
    "start_time": "2025-03-15T04:37:01.625Z"
   },
   {
    "duration": 3,
    "start_time": "2025-03-15T04:37:01.636Z"
   },
   {
    "duration": 71,
    "start_time": "2025-03-15T04:37:01.640Z"
   },
   {
    "duration": 6,
    "start_time": "2025-03-15T04:37:01.713Z"
   },
   {
    "duration": 25,
    "start_time": "2025-03-15T04:37:01.721Z"
   },
   {
    "duration": 67,
    "start_time": "2025-03-15T04:37:01.747Z"
   },
   {
    "duration": 13,
    "start_time": "2025-03-15T04:37:01.816Z"
   },
   {
    "duration": 75,
    "start_time": "2025-03-15T04:37:01.833Z"
   },
   {
    "duration": 6,
    "start_time": "2025-03-15T04:37:01.912Z"
   },
   {
    "duration": 4,
    "start_time": "2025-03-15T04:37:01.925Z"
   },
   {
    "duration": 4,
    "start_time": "2025-03-15T04:37:01.931Z"
   },
   {
    "duration": 26,
    "start_time": "2025-03-15T04:37:02.006Z"
   },
   {
    "duration": 4,
    "start_time": "2025-03-15T04:37:02.034Z"
   },
   {
    "duration": 4,
    "start_time": "2025-03-15T04:37:02.041Z"
   },
   {
    "duration": 6,
    "start_time": "2025-03-15T04:37:02.047Z"
   },
   {
    "duration": 6,
    "start_time": "2025-03-15T04:37:02.057Z"
   },
   {
    "duration": 40,
    "start_time": "2025-03-15T04:37:02.065Z"
   },
   {
    "duration": 3,
    "start_time": "2025-03-15T04:37:02.107Z"
   },
   {
    "duration": 7,
    "start_time": "2025-03-15T04:37:02.112Z"
   },
   {
    "duration": 7,
    "start_time": "2025-03-15T04:37:02.120Z"
   },
   {
    "duration": 6,
    "start_time": "2025-03-15T04:37:02.128Z"
   },
   {
    "duration": 4,
    "start_time": "2025-03-15T04:37:02.135Z"
   },
   {
    "duration": 748,
    "start_time": "2025-03-15T04:37:02.141Z"
   },
   {
    "duration": 700,
    "start_time": "2025-03-15T04:37:02.891Z"
   },
   {
    "duration": 697,
    "start_time": "2025-03-15T04:37:03.593Z"
   },
   {
    "duration": 751,
    "start_time": "2025-03-15T04:39:01.575Z"
   },
   {
    "duration": 98,
    "start_time": "2025-03-15T04:39:02.327Z"
   },
   {
    "duration": 9,
    "start_time": "2025-03-15T04:39:02.427Z"
   },
   {
    "duration": 20,
    "start_time": "2025-03-15T04:39:02.439Z"
   },
   {
    "duration": 11,
    "start_time": "2025-03-15T04:39:02.463Z"
   },
   {
    "duration": 56,
    "start_time": "2025-03-15T04:39:02.476Z"
   },
   {
    "duration": 17,
    "start_time": "2025-03-15T04:39:02.534Z"
   },
   {
    "duration": 29,
    "start_time": "2025-03-15T04:39:02.552Z"
   },
   {
    "duration": 106,
    "start_time": "2025-03-15T04:39:02.583Z"
   },
   {
    "duration": 4,
    "start_time": "2025-03-15T04:39:02.691Z"
   },
   {
    "duration": 21,
    "start_time": "2025-03-15T04:39:02.705Z"
   },
   {
    "duration": 11,
    "start_time": "2025-03-15T04:39:02.728Z"
   },
   {
    "duration": 32,
    "start_time": "2025-03-15T04:39:02.740Z"
   },
   {
    "duration": 48,
    "start_time": "2025-03-15T04:39:02.774Z"
   },
   {
    "duration": 20,
    "start_time": "2025-03-15T04:39:02.824Z"
   },
   {
    "duration": 100,
    "start_time": "2025-03-15T04:39:02.845Z"
   },
   {
    "duration": 5,
    "start_time": "2025-03-15T04:39:02.946Z"
   },
   {
    "duration": 16,
    "start_time": "2025-03-15T04:39:02.952Z"
   },
   {
    "duration": 11,
    "start_time": "2025-03-15T04:39:02.969Z"
   },
   {
    "duration": 58,
    "start_time": "2025-03-15T04:39:02.982Z"
   },
   {
    "duration": 15,
    "start_time": "2025-03-15T04:39:03.041Z"
   },
   {
    "duration": 20,
    "start_time": "2025-03-15T04:39:03.058Z"
   },
   {
    "duration": 35,
    "start_time": "2025-03-15T04:39:03.080Z"
   },
   {
    "duration": 12,
    "start_time": "2025-03-15T04:39:03.117Z"
   },
   {
    "duration": 9,
    "start_time": "2025-03-15T04:39:03.130Z"
   },
   {
    "duration": 64,
    "start_time": "2025-03-15T04:39:03.141Z"
   },
   {
    "duration": 4,
    "start_time": "2025-03-15T04:39:03.208Z"
   },
   {
    "duration": 4,
    "start_time": "2025-03-15T04:39:03.218Z"
   },
   {
    "duration": 92,
    "start_time": "2025-03-15T04:39:03.224Z"
   },
   {
    "duration": 12,
    "start_time": "2025-03-15T04:39:03.318Z"
   },
   {
    "duration": 10,
    "start_time": "2025-03-15T04:39:03.332Z"
   },
   {
    "duration": 8,
    "start_time": "2025-03-15T04:39:03.344Z"
   },
   {
    "duration": 3,
    "start_time": "2025-03-15T04:39:03.406Z"
   },
   {
    "duration": 4,
    "start_time": "2025-03-15T04:39:03.411Z"
   },
   {
    "duration": 4,
    "start_time": "2025-03-15T04:39:03.416Z"
   },
   {
    "duration": 100,
    "start_time": "2025-03-15T04:39:03.422Z"
   },
   {
    "duration": 11,
    "start_time": "2025-03-15T04:39:03.523Z"
   },
   {
    "duration": 9,
    "start_time": "2025-03-15T04:39:03.536Z"
   },
   {
    "duration": 9,
    "start_time": "2025-03-15T04:39:03.547Z"
   },
   {
    "duration": 4,
    "start_time": "2025-03-15T04:39:03.606Z"
   },
   {
    "duration": 4,
    "start_time": "2025-03-15T04:39:03.612Z"
   },
   {
    "duration": 6,
    "start_time": "2025-03-15T04:39:03.617Z"
   },
   {
    "duration": 100,
    "start_time": "2025-03-15T04:39:03.625Z"
   },
   {
    "duration": 3,
    "start_time": "2025-03-15T04:39:03.727Z"
   },
   {
    "duration": 4,
    "start_time": "2025-03-15T04:39:03.732Z"
   },
   {
    "duration": 7,
    "start_time": "2025-03-15T04:39:03.737Z"
   },
   {
    "duration": 6,
    "start_time": "2025-03-15T04:39:03.745Z"
   },
   {
    "duration": 5,
    "start_time": "2025-03-15T04:39:03.753Z"
   },
   {
    "duration": 3,
    "start_time": "2025-03-15T04:39:03.760Z"
   },
   {
    "duration": 40,
    "start_time": "2025-03-15T04:39:03.765Z"
   },
   {
    "duration": 6,
    "start_time": "2025-03-15T04:39:03.807Z"
   },
   {
    "duration": 6,
    "start_time": "2025-03-15T04:39:03.815Z"
   },
   {
    "duration": 3,
    "start_time": "2025-03-15T04:39:03.823Z"
   },
   {
    "duration": 740,
    "start_time": "2025-03-15T04:39:03.827Z"
   },
   {
    "duration": 702,
    "start_time": "2025-03-15T04:39:04.568Z"
   },
   {
    "duration": 696,
    "start_time": "2025-03-15T04:39:05.272Z"
   },
   {
    "duration": 684,
    "start_time": "2025-03-15T04:48:09.043Z"
   },
   {
    "duration": 4,
    "start_time": "2025-03-15T04:52:52.889Z"
   },
   {
    "duration": 760,
    "start_time": "2025-03-15T05:00:35.800Z"
   },
   {
    "duration": 95,
    "start_time": "2025-03-15T05:00:36.562Z"
   },
   {
    "duration": 4,
    "start_time": "2025-03-15T05:00:36.659Z"
   },
   {
    "duration": 16,
    "start_time": "2025-03-15T05:00:36.665Z"
   },
   {
    "duration": 24,
    "start_time": "2025-03-15T05:00:36.683Z"
   },
   {
    "duration": 33,
    "start_time": "2025-03-15T05:00:36.709Z"
   },
   {
    "duration": 17,
    "start_time": "2025-03-15T05:00:36.743Z"
   },
   {
    "duration": 51,
    "start_time": "2025-03-15T05:00:36.762Z"
   },
   {
    "duration": 83,
    "start_time": "2025-03-15T05:00:36.815Z"
   },
   {
    "duration": 3,
    "start_time": "2025-03-15T05:00:36.907Z"
   },
   {
    "duration": 16,
    "start_time": "2025-03-15T05:00:36.912Z"
   },
   {
    "duration": 10,
    "start_time": "2025-03-15T05:00:36.930Z"
   },
   {
    "duration": 33,
    "start_time": "2025-03-15T05:00:36.942Z"
   },
   {
    "duration": 41,
    "start_time": "2025-03-15T05:00:36.977Z"
   },
   {
    "duration": 21,
    "start_time": "2025-03-15T05:00:37.020Z"
   },
   {
    "duration": 100,
    "start_time": "2025-03-15T05:00:37.043Z"
   },
   {
    "duration": 4,
    "start_time": "2025-03-15T05:00:37.145Z"
   },
   {
    "duration": 16,
    "start_time": "2025-03-15T05:00:37.151Z"
   },
   {
    "duration": 11,
    "start_time": "2025-03-15T05:00:37.169Z"
   },
   {
    "duration": 58,
    "start_time": "2025-03-15T05:00:37.181Z"
   },
   {
    "duration": 16,
    "start_time": "2025-03-15T05:00:37.241Z"
   },
   {
    "duration": 21,
    "start_time": "2025-03-15T05:00:37.259Z"
   },
   {
    "duration": 32,
    "start_time": "2025-03-15T05:00:37.282Z"
   },
   {
    "duration": 11,
    "start_time": "2025-03-15T05:00:37.316Z"
   },
   {
    "duration": 9,
    "start_time": "2025-03-15T05:00:37.329Z"
   },
   {
    "duration": 3,
    "start_time": "2025-03-15T05:00:37.340Z"
   },
   {
    "duration": 63,
    "start_time": "2025-03-15T05:00:37.344Z"
   },
   {
    "duration": 4,
    "start_time": "2025-03-15T05:00:37.412Z"
   },
   {
    "duration": 97,
    "start_time": "2025-03-15T05:00:37.418Z"
   },
   {
    "duration": 13,
    "start_time": "2025-03-15T05:00:37.517Z"
   },
   {
    "duration": 10,
    "start_time": "2025-03-15T05:00:37.532Z"
   },
   {
    "duration": 63,
    "start_time": "2025-03-15T05:00:37.543Z"
   },
   {
    "duration": 3,
    "start_time": "2025-03-15T05:00:37.608Z"
   },
   {
    "duration": 4,
    "start_time": "2025-03-15T05:00:37.613Z"
   },
   {
    "duration": 5,
    "start_time": "2025-03-15T05:00:37.618Z"
   },
   {
    "duration": 101,
    "start_time": "2025-03-15T05:00:37.625Z"
   },
   {
    "duration": 10,
    "start_time": "2025-03-15T05:00:37.728Z"
   },
   {
    "duration": 8,
    "start_time": "2025-03-15T05:00:37.740Z"
   },
   {
    "duration": 8,
    "start_time": "2025-03-15T05:00:37.750Z"
   },
   {
    "duration": 46,
    "start_time": "2025-03-15T05:00:37.760Z"
   },
   {
    "duration": 4,
    "start_time": "2025-03-15T05:00:37.808Z"
   },
   {
    "duration": 4,
    "start_time": "2025-03-15T05:00:37.813Z"
   },
   {
    "duration": 94,
    "start_time": "2025-03-15T05:00:37.818Z"
   },
   {
    "duration": 4,
    "start_time": "2025-03-15T05:00:37.914Z"
   },
   {
    "duration": 4,
    "start_time": "2025-03-15T05:00:37.920Z"
   },
   {
    "duration": 6,
    "start_time": "2025-03-15T05:00:37.925Z"
   },
   {
    "duration": 6,
    "start_time": "2025-03-15T05:00:37.933Z"
   },
   {
    "duration": 6,
    "start_time": "2025-03-15T05:00:37.940Z"
   },
   {
    "duration": 4,
    "start_time": "2025-03-15T05:00:37.947Z"
   },
   {
    "duration": 8,
    "start_time": "2025-03-15T05:00:37.952Z"
   },
   {
    "duration": 45,
    "start_time": "2025-03-15T05:00:37.961Z"
   },
   {
    "duration": 7,
    "start_time": "2025-03-15T05:00:38.007Z"
   },
   {
    "duration": 3,
    "start_time": "2025-03-15T05:00:38.016Z"
   },
   {
    "duration": 713,
    "start_time": "2025-03-15T05:00:38.020Z"
   },
   {
    "duration": 716,
    "start_time": "2025-03-15T05:00:38.735Z"
   },
   {
    "duration": 707,
    "start_time": "2025-03-15T05:00:39.453Z"
   }
  ],
  "kernelspec": {
   "display_name": "Python 3 (ipykernel)",
   "language": "python",
   "name": "python3"
  },
  "language_info": {
   "codemirror_mode": {
    "name": "ipython",
    "version": 3
   },
   "file_extension": ".py",
   "mimetype": "text/x-python",
   "name": "python",
   "nbconvert_exporter": "python",
   "pygments_lexer": "ipython3",
   "version": "3.9.19"
  },
  "toc": {
   "base_numbering": 1,
   "nav_menu": {},
   "number_sections": true,
   "sideBar": true,
   "skip_h1_title": true,
   "title_cell": "Table of Contents",
   "title_sidebar": "Contents",
   "toc_cell": false,
   "toc_position": {},
   "toc_section_display": true,
   "toc_window_display": false
  }
 },
 "nbformat": 4,
 "nbformat_minor": 2
}
