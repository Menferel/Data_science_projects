{
 "cells": [
  {
   "cell_type": "markdown",
   "metadata": {},
   "source": [
    "# Análisis exploratorio de datos "
   ]
  },
  {
   "cell_type": "code",
   "execution_count": 1,
   "metadata": {
    "trusted": true
   },
   "outputs": [],
   "source": [
    "# Importar librería Pandas\n",
    "import pandas as pd"
   ]
  },
  {
   "cell_type": "code",
   "execution_count": 2,
   "metadata": {
    "trusted": true
   },
   "outputs": [],
   "source": [
    "# Cargar los datos\n",
    "df_companies = pd.read_csv(\"moved_project_sql_result_01.csv\")\n",
    "df_neighborhoods = pd.read_csv(\"moved_project_sql_result_04.csv\")"
   ]
  },
  {
   "cell_type": "code",
   "execution_count": 3,
   "metadata": {
    "trusted": true
   },
   "outputs": [
    {
     "data": {
      "text/html": [
       "<div>\n",
       "<style scoped>\n",
       "    .dataframe tbody tr th:only-of-type {\n",
       "        vertical-align: middle;\n",
       "    }\n",
       "\n",
       "    .dataframe tbody tr th {\n",
       "        vertical-align: top;\n",
       "    }\n",
       "\n",
       "    .dataframe thead th {\n",
       "        text-align: right;\n",
       "    }\n",
       "</style>\n",
       "<table border=\"1\" class=\"dataframe\">\n",
       "  <thead>\n",
       "    <tr style=\"text-align: right;\">\n",
       "      <th></th>\n",
       "      <th>company_name</th>\n",
       "      <th>trips_amount</th>\n",
       "    </tr>\n",
       "  </thead>\n",
       "  <tbody>\n",
       "    <tr>\n",
       "      <th>0</th>\n",
       "      <td>Flash Cab</td>\n",
       "      <td>19558</td>\n",
       "    </tr>\n",
       "    <tr>\n",
       "      <th>1</th>\n",
       "      <td>Taxi Affiliation Services</td>\n",
       "      <td>11422</td>\n",
       "    </tr>\n",
       "    <tr>\n",
       "      <th>2</th>\n",
       "      <td>Medallion Leasin</td>\n",
       "      <td>10367</td>\n",
       "    </tr>\n",
       "    <tr>\n",
       "      <th>3</th>\n",
       "      <td>Yellow Cab</td>\n",
       "      <td>9888</td>\n",
       "    </tr>\n",
       "    <tr>\n",
       "      <th>4</th>\n",
       "      <td>Taxi Affiliation Service Yellow</td>\n",
       "      <td>9299</td>\n",
       "    </tr>\n",
       "    <tr>\n",
       "      <th>...</th>\n",
       "      <td>...</td>\n",
       "      <td>...</td>\n",
       "    </tr>\n",
       "    <tr>\n",
       "      <th>59</th>\n",
       "      <td>4053 - 40193 Adwar H. Nikola</td>\n",
       "      <td>7</td>\n",
       "    </tr>\n",
       "    <tr>\n",
       "      <th>60</th>\n",
       "      <td>2733 - 74600 Benny Jona</td>\n",
       "      <td>7</td>\n",
       "    </tr>\n",
       "    <tr>\n",
       "      <th>61</th>\n",
       "      <td>5874 - 73628 Sergey Cab Corp.</td>\n",
       "      <td>5</td>\n",
       "    </tr>\n",
       "    <tr>\n",
       "      <th>62</th>\n",
       "      <td>2241 - 44667 - Felman Corp, Manuel Alonso</td>\n",
       "      <td>3</td>\n",
       "    </tr>\n",
       "    <tr>\n",
       "      <th>63</th>\n",
       "      <td>3556 - 36214 RC Andrews Cab</td>\n",
       "      <td>2</td>\n",
       "    </tr>\n",
       "  </tbody>\n",
       "</table>\n",
       "<p>64 rows × 2 columns</p>\n",
       "</div>"
      ],
      "text/plain": [
       "                                 company_name  trips_amount\n",
       "0                                   Flash Cab         19558\n",
       "1                   Taxi Affiliation Services         11422\n",
       "2                            Medallion Leasin         10367\n",
       "3                                  Yellow Cab          9888\n",
       "4             Taxi Affiliation Service Yellow          9299\n",
       "..                                        ...           ...\n",
       "59               4053 - 40193 Adwar H. Nikola             7\n",
       "60                    2733 - 74600 Benny Jona             7\n",
       "61              5874 - 73628 Sergey Cab Corp.             5\n",
       "62  2241 - 44667 - Felman Corp, Manuel Alonso             3\n",
       "63                3556 - 36214 RC Andrews Cab             2\n",
       "\n",
       "[64 rows x 2 columns]"
      ]
     },
     "execution_count": 3,
     "metadata": {},
     "output_type": "execute_result"
    }
   ],
   "source": [
    "# Mostrar las primeras filas\n",
    "df_companies"
   ]
  },
  {
   "cell_type": "code",
   "execution_count": 4,
   "metadata": {
    "scrolled": false,
    "trusted": true
   },
   "outputs": [
    {
     "data": {
      "text/html": [
       "<div>\n",
       "<style scoped>\n",
       "    .dataframe tbody tr th:only-of-type {\n",
       "        vertical-align: middle;\n",
       "    }\n",
       "\n",
       "    .dataframe tbody tr th {\n",
       "        vertical-align: top;\n",
       "    }\n",
       "\n",
       "    .dataframe thead th {\n",
       "        text-align: right;\n",
       "    }\n",
       "</style>\n",
       "<table border=\"1\" class=\"dataframe\">\n",
       "  <thead>\n",
       "    <tr style=\"text-align: right;\">\n",
       "      <th></th>\n",
       "      <th>dropoff_location_name</th>\n",
       "      <th>average_trips</th>\n",
       "    </tr>\n",
       "  </thead>\n",
       "  <tbody>\n",
       "    <tr>\n",
       "      <th>0</th>\n",
       "      <td>Loop</td>\n",
       "      <td>10727.466667</td>\n",
       "    </tr>\n",
       "    <tr>\n",
       "      <th>1</th>\n",
       "      <td>River North</td>\n",
       "      <td>9523.666667</td>\n",
       "    </tr>\n",
       "    <tr>\n",
       "      <th>2</th>\n",
       "      <td>Streeterville</td>\n",
       "      <td>6664.666667</td>\n",
       "    </tr>\n",
       "    <tr>\n",
       "      <th>3</th>\n",
       "      <td>West Loop</td>\n",
       "      <td>5163.666667</td>\n",
       "    </tr>\n",
       "    <tr>\n",
       "      <th>4</th>\n",
       "      <td>O'Hare</td>\n",
       "      <td>2546.900000</td>\n",
       "    </tr>\n",
       "    <tr>\n",
       "      <th>...</th>\n",
       "      <td>...</td>\n",
       "      <td>...</td>\n",
       "    </tr>\n",
       "    <tr>\n",
       "      <th>89</th>\n",
       "      <td>Mount Greenwood</td>\n",
       "      <td>3.137931</td>\n",
       "    </tr>\n",
       "    <tr>\n",
       "      <th>90</th>\n",
       "      <td>Hegewisch</td>\n",
       "      <td>3.117647</td>\n",
       "    </tr>\n",
       "    <tr>\n",
       "      <th>91</th>\n",
       "      <td>Burnside</td>\n",
       "      <td>2.333333</td>\n",
       "    </tr>\n",
       "    <tr>\n",
       "      <th>92</th>\n",
       "      <td>East Side</td>\n",
       "      <td>1.961538</td>\n",
       "    </tr>\n",
       "    <tr>\n",
       "      <th>93</th>\n",
       "      <td>Riverdale</td>\n",
       "      <td>1.800000</td>\n",
       "    </tr>\n",
       "  </tbody>\n",
       "</table>\n",
       "<p>94 rows × 2 columns</p>\n",
       "</div>"
      ],
      "text/plain": [
       "   dropoff_location_name  average_trips\n",
       "0                   Loop   10727.466667\n",
       "1            River North    9523.666667\n",
       "2          Streeterville    6664.666667\n",
       "3              West Loop    5163.666667\n",
       "4                 O'Hare    2546.900000\n",
       "..                   ...            ...\n",
       "89       Mount Greenwood       3.137931\n",
       "90             Hegewisch       3.117647\n",
       "91              Burnside       2.333333\n",
       "92             East Side       1.961538\n",
       "93             Riverdale       1.800000\n",
       "\n",
       "[94 rows x 2 columns]"
      ]
     },
     "execution_count": 4,
     "metadata": {},
     "output_type": "execute_result"
    }
   ],
   "source": [
    "# Mostrar las primeras filas del df neighborhoods\n",
    "df_neighborhoods"
   ]
  },
  {
   "cell_type": "code",
   "execution_count": 5,
   "metadata": {
    "trusted": true
   },
   "outputs": [
    {
     "name": "stdout",
     "output_type": "stream",
     "text": [
      "<class 'pandas.core.frame.DataFrame'>\n",
      "RangeIndex: 64 entries, 0 to 63\n",
      "Data columns (total 2 columns):\n",
      " #   Column        Non-Null Count  Dtype \n",
      "---  ------        --------------  ----- \n",
      " 0   company_name  64 non-null     object\n",
      " 1   trips_amount  64 non-null     int64 \n",
      "dtypes: int64(1), object(1)\n",
      "memory usage: 1.1+ KB\n"
     ]
    }
   ],
   "source": [
    "# Mostrar la informacion del df companies\n",
    "df_companies.info()"
   ]
  },
  {
   "cell_type": "code",
   "execution_count": 6,
   "metadata": {
    "trusted": true
   },
   "outputs": [
    {
     "name": "stdout",
     "output_type": "stream",
     "text": [
      "<class 'pandas.core.frame.DataFrame'>\n",
      "RangeIndex: 94 entries, 0 to 93\n",
      "Data columns (total 2 columns):\n",
      " #   Column                 Non-Null Count  Dtype  \n",
      "---  ------                 --------------  -----  \n",
      " 0   dropoff_location_name  94 non-null     object \n",
      " 1   average_trips          94 non-null     float64\n",
      "dtypes: float64(1), object(1)\n",
      "memory usage: 1.6+ KB\n"
     ]
    }
   ],
   "source": [
    "# Mostrar la informacion del df neighborhoods\n",
    "df_neighborhoods.info()"
   ]
  },
  {
   "cell_type": "code",
   "execution_count": 7,
   "metadata": {
    "trusted": true
   },
   "outputs": [
    {
     "name": "stdout",
     "output_type": "stream",
     "text": [
      "company_name    0\n",
      "trips_amount    0\n",
      "dtype: int64\n",
      "dropoff_location_name    0\n",
      "average_trips            0\n",
      "dtype: int64\n"
     ]
    }
   ],
   "source": [
    "# Verificar valores nulos\n",
    "print(df_companies.isnull().sum())\n",
    "print(df_neighborhoods.isnull().sum())"
   ]
  },
  {
   "cell_type": "code",
   "execution_count": 8,
   "metadata": {
    "trusted": true
   },
   "outputs": [
    {
     "name": "stdout",
     "output_type": "stream",
     "text": [
      "0\n",
      "0\n"
     ]
    }
   ],
   "source": [
    "# Verificar los registros duplicados\n",
    "print(df_companies.duplicated().sum())\n",
    "print(df_neighborhoods.duplicated().sum())"
   ]
  },
  {
   "cell_type": "code",
   "execution_count": 9,
   "metadata": {
    "trusted": true
   },
   "outputs": [
    {
     "data": {
      "text/html": [
       "<div>\n",
       "<style scoped>\n",
       "    .dataframe tbody tr th:only-of-type {\n",
       "        vertical-align: middle;\n",
       "    }\n",
       "\n",
       "    .dataframe tbody tr th {\n",
       "        vertical-align: top;\n",
       "    }\n",
       "\n",
       "    .dataframe thead th {\n",
       "        text-align: right;\n",
       "    }\n",
       "</style>\n",
       "<table border=\"1\" class=\"dataframe\">\n",
       "  <thead>\n",
       "    <tr style=\"text-align: right;\">\n",
       "      <th></th>\n",
       "      <th>dropoff_location_name</th>\n",
       "      <th>average_trips</th>\n",
       "    </tr>\n",
       "  </thead>\n",
       "  <tbody>\n",
       "    <tr>\n",
       "      <th>0</th>\n",
       "      <td>Loop</td>\n",
       "      <td>10727.466667</td>\n",
       "    </tr>\n",
       "    <tr>\n",
       "      <th>1</th>\n",
       "      <td>River North</td>\n",
       "      <td>9523.666667</td>\n",
       "    </tr>\n",
       "    <tr>\n",
       "      <th>2</th>\n",
       "      <td>Streeterville</td>\n",
       "      <td>6664.666667</td>\n",
       "    </tr>\n",
       "    <tr>\n",
       "      <th>3</th>\n",
       "      <td>West Loop</td>\n",
       "      <td>5163.666667</td>\n",
       "    </tr>\n",
       "    <tr>\n",
       "      <th>4</th>\n",
       "      <td>O'Hare</td>\n",
       "      <td>2546.900000</td>\n",
       "    </tr>\n",
       "    <tr>\n",
       "      <th>5</th>\n",
       "      <td>Lake View</td>\n",
       "      <td>2420.966667</td>\n",
       "    </tr>\n",
       "    <tr>\n",
       "      <th>6</th>\n",
       "      <td>Grant Park</td>\n",
       "      <td>2068.533333</td>\n",
       "    </tr>\n",
       "    <tr>\n",
       "      <th>7</th>\n",
       "      <td>Museum Campus</td>\n",
       "      <td>1510.000000</td>\n",
       "    </tr>\n",
       "    <tr>\n",
       "      <th>8</th>\n",
       "      <td>Gold Coast</td>\n",
       "      <td>1364.233333</td>\n",
       "    </tr>\n",
       "    <tr>\n",
       "      <th>9</th>\n",
       "      <td>Sheffield &amp; DePaul</td>\n",
       "      <td>1259.766667</td>\n",
       "    </tr>\n",
       "  </tbody>\n",
       "</table>\n",
       "</div>"
      ],
      "text/plain": [
       "  dropoff_location_name  average_trips\n",
       "0                  Loop   10727.466667\n",
       "1           River North    9523.666667\n",
       "2         Streeterville    6664.666667\n",
       "3             West Loop    5163.666667\n",
       "4                O'Hare    2546.900000\n",
       "5             Lake View    2420.966667\n",
       "6            Grant Park    2068.533333\n",
       "7         Museum Campus    1510.000000\n",
       "8            Gold Coast    1364.233333\n",
       "9    Sheffield & DePaul    1259.766667"
      ]
     },
     "execution_count": 9,
     "metadata": {},
     "output_type": "execute_result"
    }
   ],
   "source": [
    "# Mostrar los principales 10 barrios por finalización de viajes \n",
    "top_neighborhoods = df_neighborhoods.sort_values(by='average_trips', ascending=False).head(10)\n",
    "top_neighborhoods"
   ]
  },
  {
   "cell_type": "code",
   "execution_count": 10,
   "metadata": {
    "trusted": true
   },
   "outputs": [
    {
     "data": {
      "text/html": [
       "<div>\n",
       "<style scoped>\n",
       "    .dataframe tbody tr th:only-of-type {\n",
       "        vertical-align: middle;\n",
       "    }\n",
       "\n",
       "    .dataframe tbody tr th {\n",
       "        vertical-align: top;\n",
       "    }\n",
       "\n",
       "    .dataframe thead th {\n",
       "        text-align: right;\n",
       "    }\n",
       "</style>\n",
       "<table border=\"1\" class=\"dataframe\">\n",
       "  <thead>\n",
       "    <tr style=\"text-align: right;\">\n",
       "      <th></th>\n",
       "      <th>company_name</th>\n",
       "      <th>trips_amount</th>\n",
       "    </tr>\n",
       "  </thead>\n",
       "  <tbody>\n",
       "    <tr>\n",
       "      <th>0</th>\n",
       "      <td>Flash Cab</td>\n",
       "      <td>19558</td>\n",
       "    </tr>\n",
       "    <tr>\n",
       "      <th>1</th>\n",
       "      <td>Taxi Affiliation Services</td>\n",
       "      <td>11422</td>\n",
       "    </tr>\n",
       "    <tr>\n",
       "      <th>2</th>\n",
       "      <td>Medallion Leasin</td>\n",
       "      <td>10367</td>\n",
       "    </tr>\n",
       "    <tr>\n",
       "      <th>3</th>\n",
       "      <td>Yellow Cab</td>\n",
       "      <td>9888</td>\n",
       "    </tr>\n",
       "    <tr>\n",
       "      <th>4</th>\n",
       "      <td>Taxi Affiliation Service Yellow</td>\n",
       "      <td>9299</td>\n",
       "    </tr>\n",
       "    <tr>\n",
       "      <th>5</th>\n",
       "      <td>Chicago Carriage Cab Corp</td>\n",
       "      <td>9181</td>\n",
       "    </tr>\n",
       "    <tr>\n",
       "      <th>6</th>\n",
       "      <td>City Service</td>\n",
       "      <td>8448</td>\n",
       "    </tr>\n",
       "    <tr>\n",
       "      <th>7</th>\n",
       "      <td>Sun Taxi</td>\n",
       "      <td>7701</td>\n",
       "    </tr>\n",
       "    <tr>\n",
       "      <th>8</th>\n",
       "      <td>Star North Management LLC</td>\n",
       "      <td>7455</td>\n",
       "    </tr>\n",
       "    <tr>\n",
       "      <th>9</th>\n",
       "      <td>Blue Ribbon Taxi Association Inc.</td>\n",
       "      <td>5953</td>\n",
       "    </tr>\n",
       "  </tbody>\n",
       "</table>\n",
       "</div>"
      ],
      "text/plain": [
       "                        company_name  trips_amount\n",
       "0                          Flash Cab         19558\n",
       "1          Taxi Affiliation Services         11422\n",
       "2                   Medallion Leasin         10367\n",
       "3                         Yellow Cab          9888\n",
       "4    Taxi Affiliation Service Yellow          9299\n",
       "5          Chicago Carriage Cab Corp          9181\n",
       "6                       City Service          8448\n",
       "7                           Sun Taxi          7701\n",
       "8          Star North Management LLC          7455\n",
       "9  Blue Ribbon Taxi Association Inc.          5953"
      ]
     },
     "execution_count": 10,
     "metadata": {},
     "output_type": "execute_result"
    }
   ],
   "source": [
    "# Mostrar las 10 compañías con mayor número de viajes el 15 y 16 de noviembre de 2017\n",
    "top_companies = df_companies.sort_values(by='trips_amount', ascending=False).head(10)\n",
    "top_companies"
   ]
  },
  {
   "cell_type": "code",
   "execution_count": 11,
   "metadata": {
    "trusted": true
   },
   "outputs": [],
   "source": [
    "# Importar librerias matplotlib y seaborn\n",
    "import matplotlib.pyplot as plt\n",
    "import seaborn as sns"
   ]
  },
  {
   "cell_type": "code",
   "execution_count": 12,
   "metadata": {
    "trusted": true
   },
   "outputs": [
    {
     "data": {
      "image/png": "[encoded data removed]",
      "text/plain": [
       "<Figure size 1200x600 with 1 Axes>"
      ]
     },
     "metadata": {},
     "output_type": "display_data"
    }
   ],
   "source": [
    "# Gráfico de los 10 barrios con más finalizaciones\n",
    "plt.figure(figsize=(12,6))\n",
    "sns.barplot(x=\"average_trips\", y=\"dropoff_location_name\", data=top_neighborhoods)\n",
    "plt.title(\"Top 10 barrios con más finalización de viajes\")\n",
    "plt.xlabel(\"Promedio de viajes finalizados\")\n",
    "plt.ylabel(\"Barrio\")\n",
    "plt.show()"
   ]
  },
  {
   "cell_type": "markdown",
   "metadata": {},
   "source": [
    "Loop es el barrio con más finalización de viajes, revisando en Google Maps, me di cuenta de que esta zona se encuentra en el centro de la ciudad, por lo que es una zona de alta actividad, la cual incluye museos, negocios, parques, bares, restaurantes y bonitas vistas, pues está al lado del lago de Michigan, es decir, tiene muchos lugares atractivos como destinos. Las siguientes tres zonas están muy cerca de Loop, se trata de River North, Streeterville y West Loop, son zonas que tienen el mismo perfil, mucha actividad debido a muchos establecimientos con actividades y cosas que hacer. Esta sin duda es la zona con más afluencia de la ciudad. Finalmente, el quinto puesto es ocupado por O'Hare, esto se debe a que ahí se encuentra el aeropuerto de la ciudad de Chicago."
   ]
  },
  {
   "cell_type": "code",
   "execution_count": 13,
   "metadata": {
    "trusted": true
   },
   "outputs": [
    {
     "data": {
      "image/png": "[encoded data removed]",
      "text/plain": [
       "<Figure size 1200x600 with 1 Axes>"
      ]
     },
     "metadata": {},
     "output_type": "display_data"
    }
   ],
   "source": [
    "# Gráfico de empresas de taxis y número de viajes\n",
    "plt.figure(figsize=(12,6))\n",
    "sns.barplot(x=\"trips_amount\", y=\"company_name\", data=top_companies.sort_values(by=\"trips_amount\", ascending=False))\n",
    "plt.title(\"Número de viajes por empresa de taxis\")\n",
    "plt.xlabel(\"Número de viajes\")\n",
    "plt.ylabel(\"Empresa de taxis\")\n",
    "plt.show()"
   ]
  },
  {
   "cell_type": "markdown",
   "metadata": {},
   "source": [
    "Flash Cab es la compañía de taxis con mayor número de viajes con diferencia. Casi tiene el doble de viajes que su más cercano competidor, lo que indica una dominancia en el mercado. Con esto se puede deducir que la compañía tiene un mayor número de contratos con empresas y licencias en la ciudad que le da una ventaja competitiva. Hay otras compañías que también son muy fuertes y tienen su lugar en el mercado, como Taxi Affiliation Services, Medallion Leasin y Yellow Cab. "
   ]
  },
  {
   "cell_type": "markdown",
   "metadata": {},
   "source": [
    "# Prueba de hipótesis "
   ]
  },
  {
   "cell_type": "code",
   "execution_count": 14,
   "metadata": {
    "trusted": true
   },
   "outputs": [
    {
     "data": {
      "text/html": [
       "<div>\n",
       "<style scoped>\n",
       "    .dataframe tbody tr th:only-of-type {\n",
       "        vertical-align: middle;\n",
       "    }\n",
       "\n",
       "    .dataframe tbody tr th {\n",
       "        vertical-align: top;\n",
       "    }\n",
       "\n",
       "    .dataframe thead th {\n",
       "        text-align: right;\n",
       "    }\n",
       "</style>\n",
       "<table border=\"1\" class=\"dataframe\">\n",
       "  <thead>\n",
       "    <tr style=\"text-align: right;\">\n",
       "      <th></th>\n",
       "      <th>start_ts</th>\n",
       "      <th>weather_conditions</th>\n",
       "      <th>duration_seconds</th>\n",
       "    </tr>\n",
       "  </thead>\n",
       "  <tbody>\n",
       "    <tr>\n",
       "      <th>0</th>\n",
       "      <td>2017-11-25 16:00:00</td>\n",
       "      <td>Good</td>\n",
       "      <td>2410.0</td>\n",
       "    </tr>\n",
       "    <tr>\n",
       "      <th>1</th>\n",
       "      <td>2017-11-25 14:00:00</td>\n",
       "      <td>Good</td>\n",
       "      <td>1920.0</td>\n",
       "    </tr>\n",
       "    <tr>\n",
       "      <th>2</th>\n",
       "      <td>2017-11-25 12:00:00</td>\n",
       "      <td>Good</td>\n",
       "      <td>1543.0</td>\n",
       "    </tr>\n",
       "    <tr>\n",
       "      <th>3</th>\n",
       "      <td>2017-11-04 10:00:00</td>\n",
       "      <td>Good</td>\n",
       "      <td>2512.0</td>\n",
       "    </tr>\n",
       "    <tr>\n",
       "      <th>4</th>\n",
       "      <td>2017-11-11 07:00:00</td>\n",
       "      <td>Good</td>\n",
       "      <td>1440.0</td>\n",
       "    </tr>\n",
       "    <tr>\n",
       "      <th>...</th>\n",
       "      <td>...</td>\n",
       "      <td>...</td>\n",
       "      <td>...</td>\n",
       "    </tr>\n",
       "    <tr>\n",
       "      <th>1063</th>\n",
       "      <td>2017-11-25 11:00:00</td>\n",
       "      <td>Good</td>\n",
       "      <td>0.0</td>\n",
       "    </tr>\n",
       "    <tr>\n",
       "      <th>1064</th>\n",
       "      <td>2017-11-11 10:00:00</td>\n",
       "      <td>Good</td>\n",
       "      <td>1318.0</td>\n",
       "    </tr>\n",
       "    <tr>\n",
       "      <th>1065</th>\n",
       "      <td>2017-11-11 13:00:00</td>\n",
       "      <td>Good</td>\n",
       "      <td>2100.0</td>\n",
       "    </tr>\n",
       "    <tr>\n",
       "      <th>1066</th>\n",
       "      <td>2017-11-11 08:00:00</td>\n",
       "      <td>Good</td>\n",
       "      <td>1380.0</td>\n",
       "    </tr>\n",
       "    <tr>\n",
       "      <th>1067</th>\n",
       "      <td>2017-11-04 16:00:00</td>\n",
       "      <td>Bad</td>\n",
       "      <td>2834.0</td>\n",
       "    </tr>\n",
       "  </tbody>\n",
       "</table>\n",
       "<p>1068 rows × 3 columns</p>\n",
       "</div>"
      ],
      "text/plain": [
       "                 start_ts weather_conditions  duration_seconds\n",
       "0     2017-11-25 16:00:00               Good            2410.0\n",
       "1     2017-11-25 14:00:00               Good            1920.0\n",
       "2     2017-11-25 12:00:00               Good            1543.0\n",
       "3     2017-11-04 10:00:00               Good            2512.0\n",
       "4     2017-11-11 07:00:00               Good            1440.0\n",
       "...                   ...                ...               ...\n",
       "1063  2017-11-25 11:00:00               Good               0.0\n",
       "1064  2017-11-11 10:00:00               Good            1318.0\n",
       "1065  2017-11-11 13:00:00               Good            2100.0\n",
       "1066  2017-11-11 08:00:00               Good            1380.0\n",
       "1067  2017-11-04 16:00:00                Bad            2834.0\n",
       "\n",
       "[1068 rows x 3 columns]"
      ]
     },
     "execution_count": 14,
     "metadata": {},
     "output_type": "execute_result"
    }
   ],
   "source": [
    "# Importar la librería para estadística\n",
    "import scipy.stats as stats\n",
    "\n",
    "# Cargar datos\n",
    "df_trips = pd.read_csv(\"moved_project_sql_result_07.csv\")\n",
    "\n",
    "# Mostrar el df \n",
    "df_trips"
   ]
  },
  {
   "cell_type": "code",
   "execution_count": 15,
   "metadata": {
    "trusted": true
   },
   "outputs": [
    {
     "name": "stdout",
     "output_type": "stream",
     "text": [
      "<class 'pandas.core.frame.DataFrame'>\n",
      "RangeIndex: 1068 entries, 0 to 1067\n",
      "Data columns (total 3 columns):\n",
      " #   Column              Non-Null Count  Dtype  \n",
      "---  ------              --------------  -----  \n",
      " 0   start_ts            1068 non-null   object \n",
      " 1   weather_conditions  1068 non-null   object \n",
      " 2   duration_seconds    1068 non-null   float64\n",
      "dtypes: float64(1), object(2)\n",
      "memory usage: 25.2+ KB\n"
     ]
    }
   ],
   "source": [
    "# Revisar info del df\n",
    "df_trips.info()"
   ]
  },
  {
   "cell_type": "code",
   "execution_count": 16,
   "metadata": {
    "trusted": true
   },
   "outputs": [
    {
     "name": "stdout",
     "output_type": "stream",
     "text": [
      "<class 'pandas.core.frame.DataFrame'>\n",
      "RangeIndex: 1068 entries, 0 to 1067\n",
      "Data columns (total 3 columns):\n",
      " #   Column              Non-Null Count  Dtype         \n",
      "---  ------              --------------  -----         \n",
      " 0   start_ts            1068 non-null   datetime64[ns]\n",
      " 1   weather_conditions  1068 non-null   object        \n",
      " 2   duration_seconds    1068 non-null   float64       \n",
      "dtypes: datetime64[ns](1), float64(1), object(1)\n",
      "memory usage: 25.2+ KB\n"
     ]
    }
   ],
   "source": [
    "# Convertir la columna de fecha a datetime\n",
    "df_trips[\"start_ts\"] = pd.to_datetime(df_trips[\"start_ts\"])\n",
    "df_trips.info()"
   ]
  },
  {
   "cell_type": "code",
   "execution_count": 17,
   "metadata": {
    "trusted": true
   },
   "outputs": [
    {
     "data": {
      "text/html": [
       "<div>\n",
       "<style scoped>\n",
       "    .dataframe tbody tr th:only-of-type {\n",
       "        vertical-align: middle;\n",
       "    }\n",
       "\n",
       "    .dataframe tbody tr th {\n",
       "        vertical-align: top;\n",
       "    }\n",
       "\n",
       "    .dataframe thead th {\n",
       "        text-align: right;\n",
       "    }\n",
       "</style>\n",
       "<table border=\"1\" class=\"dataframe\">\n",
       "  <thead>\n",
       "    <tr style=\"text-align: right;\">\n",
       "      <th></th>\n",
       "      <th>start_ts</th>\n",
       "      <th>weather_conditions</th>\n",
       "      <th>duration_seconds</th>\n",
       "      <th>weekday</th>\n",
       "    </tr>\n",
       "  </thead>\n",
       "  <tbody>\n",
       "    <tr>\n",
       "      <th>0</th>\n",
       "      <td>2017-11-25 16:00:00</td>\n",
       "      <td>Good</td>\n",
       "      <td>2410.0</td>\n",
       "      <td>Saturday</td>\n",
       "    </tr>\n",
       "    <tr>\n",
       "      <th>1</th>\n",
       "      <td>2017-11-25 14:00:00</td>\n",
       "      <td>Good</td>\n",
       "      <td>1920.0</td>\n",
       "      <td>Saturday</td>\n",
       "    </tr>\n",
       "    <tr>\n",
       "      <th>2</th>\n",
       "      <td>2017-11-25 12:00:00</td>\n",
       "      <td>Good</td>\n",
       "      <td>1543.0</td>\n",
       "      <td>Saturday</td>\n",
       "    </tr>\n",
       "    <tr>\n",
       "      <th>3</th>\n",
       "      <td>2017-11-04 10:00:00</td>\n",
       "      <td>Good</td>\n",
       "      <td>2512.0</td>\n",
       "      <td>Saturday</td>\n",
       "    </tr>\n",
       "    <tr>\n",
       "      <th>4</th>\n",
       "      <td>2017-11-11 07:00:00</td>\n",
       "      <td>Good</td>\n",
       "      <td>1440.0</td>\n",
       "      <td>Saturday</td>\n",
       "    </tr>\n",
       "    <tr>\n",
       "      <th>...</th>\n",
       "      <td>...</td>\n",
       "      <td>...</td>\n",
       "      <td>...</td>\n",
       "      <td>...</td>\n",
       "    </tr>\n",
       "    <tr>\n",
       "      <th>1063</th>\n",
       "      <td>2017-11-25 11:00:00</td>\n",
       "      <td>Good</td>\n",
       "      <td>0.0</td>\n",
       "      <td>Saturday</td>\n",
       "    </tr>\n",
       "    <tr>\n",
       "      <th>1064</th>\n",
       "      <td>2017-11-11 10:00:00</td>\n",
       "      <td>Good</td>\n",
       "      <td>1318.0</td>\n",
       "      <td>Saturday</td>\n",
       "    </tr>\n",
       "    <tr>\n",
       "      <th>1065</th>\n",
       "      <td>2017-11-11 13:00:00</td>\n",
       "      <td>Good</td>\n",
       "      <td>2100.0</td>\n",
       "      <td>Saturday</td>\n",
       "    </tr>\n",
       "    <tr>\n",
       "      <th>1066</th>\n",
       "      <td>2017-11-11 08:00:00</td>\n",
       "      <td>Good</td>\n",
       "      <td>1380.0</td>\n",
       "      <td>Saturday</td>\n",
       "    </tr>\n",
       "    <tr>\n",
       "      <th>1067</th>\n",
       "      <td>2017-11-04 16:00:00</td>\n",
       "      <td>Bad</td>\n",
       "      <td>2834.0</td>\n",
       "      <td>Saturday</td>\n",
       "    </tr>\n",
       "  </tbody>\n",
       "</table>\n",
       "<p>1068 rows × 4 columns</p>\n",
       "</div>"
      ],
      "text/plain": [
       "                start_ts weather_conditions  duration_seconds   weekday\n",
       "0    2017-11-25 16:00:00               Good            2410.0  Saturday\n",
       "1    2017-11-25 14:00:00               Good            1920.0  Saturday\n",
       "2    2017-11-25 12:00:00               Good            1543.0  Saturday\n",
       "3    2017-11-04 10:00:00               Good            2512.0  Saturday\n",
       "4    2017-11-11 07:00:00               Good            1440.0  Saturday\n",
       "...                  ...                ...               ...       ...\n",
       "1063 2017-11-25 11:00:00               Good               0.0  Saturday\n",
       "1064 2017-11-11 10:00:00               Good            1318.0  Saturday\n",
       "1065 2017-11-11 13:00:00               Good            2100.0  Saturday\n",
       "1066 2017-11-11 08:00:00               Good            1380.0  Saturday\n",
       "1067 2017-11-04 16:00:00                Bad            2834.0  Saturday\n",
       "\n",
       "[1068 rows x 4 columns]"
      ]
     },
     "execution_count": 17,
     "metadata": {},
     "output_type": "execute_result"
    }
   ],
   "source": [
    "# Filtrar solo los viajes de los sábados\n",
    "df_trips[\"weekday\"] = df_trips[\"start_ts\"].dt.day_name()\n",
    "df_trips_saturday = df_trips[df_trips[\"weekday\"] == \"Saturday\"]\n",
    "df_trips_saturday"
   ]
  },
  {
   "cell_type": "code",
   "execution_count": 18,
   "metadata": {
    "trusted": true
   },
   "outputs": [
    {
     "data": {
      "text/plain": [
       "array(['2017-11-25T16:00:00.000000000', '2017-11-25T14:00:00.000000000',\n",
       "       '2017-11-25T12:00:00.000000000', '2017-11-04T10:00:00.000000000',\n",
       "       '2017-11-11T07:00:00.000000000', '2017-11-11T04:00:00.000000000',\n",
       "       '2017-11-04T16:00:00.000000000', '2017-11-18T11:00:00.000000000',\n",
       "       '2017-11-11T14:00:00.000000000', '2017-11-11T12:00:00.000000000',\n",
       "       '2017-11-18T06:00:00.000000000', '2017-11-04T11:00:00.000000000',\n",
       "       '2017-11-11T08:00:00.000000000', '2017-11-04T08:00:00.000000000',\n",
       "       '2017-11-11T16:00:00.000000000', '2017-11-25T13:00:00.000000000',\n",
       "       '2017-11-04T12:00:00.000000000', '2017-11-25T10:00:00.000000000',\n",
       "       '2017-11-11T13:00:00.000000000', '2017-11-18T14:00:00.000000000',\n",
       "       '2017-11-04T14:00:00.000000000', '2017-11-25T20:00:00.000000000',\n",
       "       '2017-11-11T11:00:00.000000000', '2017-11-18T12:00:00.000000000',\n",
       "       '2017-11-11T10:00:00.000000000', '2017-11-04T17:00:00.000000000',\n",
       "       '2017-11-11T09:00:00.000000000', '2017-11-04T06:00:00.000000000',\n",
       "       '2017-11-04T05:00:00.000000000', '2017-11-11T19:00:00.000000000',\n",
       "       '2017-11-04T13:00:00.000000000', '2017-11-04T07:00:00.000000000',\n",
       "       '2017-11-11T06:00:00.000000000', '2017-11-04T09:00:00.000000000',\n",
       "       '2017-11-11T05:00:00.000000000', '2017-11-18T10:00:00.000000000',\n",
       "       '2017-11-25T05:00:00.000000000', '2017-11-25T08:00:00.000000000',\n",
       "       '2017-11-04T18:00:00.000000000', '2017-11-11T18:00:00.000000000',\n",
       "       '2017-11-18T16:00:00.000000000', '2017-11-11T15:00:00.000000000',\n",
       "       '2017-11-11T17:00:00.000000000', '2017-11-25T07:00:00.000000000',\n",
       "       '2017-11-18T05:00:00.000000000', '2017-11-04T04:00:00.000000000',\n",
       "       '2017-11-18T07:00:00.000000000', '2017-11-04T15:00:00.000000000',\n",
       "       '2017-11-25T18:00:00.000000000', '2017-11-18T08:00:00.000000000',\n",
       "       '2017-11-18T13:00:00.000000000', '2017-11-04T21:00:00.000000000',\n",
       "       '2017-11-04T19:00:00.000000000', '2017-11-18T15:00:00.000000000',\n",
       "       '2017-11-25T06:00:00.000000000', '2017-11-18T18:00:00.000000000',\n",
       "       '2017-11-11T21:00:00.000000000', '2017-11-11T03:00:00.000000000',\n",
       "       '2017-11-18T09:00:00.000000000', '2017-11-04T22:00:00.000000000',\n",
       "       '2017-11-25T11:00:00.000000000', '2017-11-18T19:00:00.000000000',\n",
       "       '2017-11-25T09:00:00.000000000', '2017-11-25T04:00:00.000000000',\n",
       "       '2017-11-18T00:00:00.000000000', '2017-11-11T20:00:00.000000000',\n",
       "       '2017-11-18T17:00:00.000000000', '2017-11-04T02:00:00.000000000',\n",
       "       '2017-11-18T04:00:00.000000000', '2017-11-25T15:00:00.000000000',\n",
       "       '2017-11-18T03:00:00.000000000', '2017-11-25T17:00:00.000000000',\n",
       "       '2017-11-25T19:00:00.000000000', '2017-11-04T20:00:00.000000000',\n",
       "       '2017-11-04T01:00:00.000000000', '2017-11-25T03:00:00.000000000',\n",
       "       '2017-11-25T23:00:00.000000000', '2017-11-18T21:00:00.000000000',\n",
       "       '2017-11-11T23:00:00.000000000', '2017-11-04T00:00:00.000000000',\n",
       "       '2017-11-18T20:00:00.000000000'], dtype='datetime64[ns]')"
      ]
     },
     "execution_count": 18,
     "metadata": {},
     "output_type": "execute_result"
    }
   ],
   "source": [
    "# Ver los valores únicos del df de los sabados\n",
    "df_trips_saturday['start_ts'].unique()"
   ]
  },
  {
   "cell_type": "code",
   "execution_count": 19,
   "metadata": {
    "trusted": true
   },
   "outputs": [],
   "source": [
    "# Separar por condición climática\n",
    "rainy_saturdays = df_trips_saturday[df_trips_saturday[\"weather_conditions\"].str.contains(\"Bad\", na=False)]\n",
    "non_rainy_saturdays = df_trips_saturday[~df_trips_saturday[\"weather_conditions\"].str.contains(\"Bad\", na=False)]"
   ]
  },
  {
   "cell_type": "code",
   "execution_count": 20,
   "metadata": {
    "trusted": true
   },
   "outputs": [
    {
     "data": {
      "text/html": [
       "<div>\n",
       "<style scoped>\n",
       "    .dataframe tbody tr th:only-of-type {\n",
       "        vertical-align: middle;\n",
       "    }\n",
       "\n",
       "    .dataframe tbody tr th {\n",
       "        vertical-align: top;\n",
       "    }\n",
       "\n",
       "    .dataframe thead th {\n",
       "        text-align: right;\n",
       "    }\n",
       "</style>\n",
       "<table border=\"1\" class=\"dataframe\">\n",
       "  <thead>\n",
       "    <tr style=\"text-align: right;\">\n",
       "      <th></th>\n",
       "      <th>start_ts</th>\n",
       "      <th>weather_conditions</th>\n",
       "      <th>duration_seconds</th>\n",
       "      <th>weekday</th>\n",
       "    </tr>\n",
       "  </thead>\n",
       "  <tbody>\n",
       "    <tr>\n",
       "      <th>6</th>\n",
       "      <td>2017-11-04 16:00:00</td>\n",
       "      <td>Bad</td>\n",
       "      <td>2969.0</td>\n",
       "      <td>Saturday</td>\n",
       "    </tr>\n",
       "    <tr>\n",
       "      <th>30</th>\n",
       "      <td>2017-11-18 12:00:00</td>\n",
       "      <td>Bad</td>\n",
       "      <td>1980.0</td>\n",
       "      <td>Saturday</td>\n",
       "    </tr>\n",
       "    <tr>\n",
       "      <th>34</th>\n",
       "      <td>2017-11-04 17:00:00</td>\n",
       "      <td>Bad</td>\n",
       "      <td>2460.0</td>\n",
       "      <td>Saturday</td>\n",
       "    </tr>\n",
       "    <tr>\n",
       "      <th>51</th>\n",
       "      <td>2017-11-04 16:00:00</td>\n",
       "      <td>Bad</td>\n",
       "      <td>2760.0</td>\n",
       "      <td>Saturday</td>\n",
       "    </tr>\n",
       "    <tr>\n",
       "      <th>52</th>\n",
       "      <td>2017-11-18 12:00:00</td>\n",
       "      <td>Bad</td>\n",
       "      <td>2460.0</td>\n",
       "      <td>Saturday</td>\n",
       "    </tr>\n",
       "    <tr>\n",
       "      <th>...</th>\n",
       "      <td>...</td>\n",
       "      <td>...</td>\n",
       "      <td>...</td>\n",
       "      <td>...</td>\n",
       "    </tr>\n",
       "    <tr>\n",
       "      <th>1031</th>\n",
       "      <td>2017-11-18 12:00:00</td>\n",
       "      <td>Bad</td>\n",
       "      <td>2560.0</td>\n",
       "      <td>Saturday</td>\n",
       "    </tr>\n",
       "    <tr>\n",
       "      <th>1032</th>\n",
       "      <td>2017-11-18 10:00:00</td>\n",
       "      <td>Bad</td>\n",
       "      <td>1908.0</td>\n",
       "      <td>Saturday</td>\n",
       "    </tr>\n",
       "    <tr>\n",
       "      <th>1053</th>\n",
       "      <td>2017-11-18 12:00:00</td>\n",
       "      <td>Bad</td>\n",
       "      <td>2400.0</td>\n",
       "      <td>Saturday</td>\n",
       "    </tr>\n",
       "    <tr>\n",
       "      <th>1061</th>\n",
       "      <td>2017-11-18 16:00:00</td>\n",
       "      <td>Bad</td>\n",
       "      <td>2186.0</td>\n",
       "      <td>Saturday</td>\n",
       "    </tr>\n",
       "    <tr>\n",
       "      <th>1067</th>\n",
       "      <td>2017-11-04 16:00:00</td>\n",
       "      <td>Bad</td>\n",
       "      <td>2834.0</td>\n",
       "      <td>Saturday</td>\n",
       "    </tr>\n",
       "  </tbody>\n",
       "</table>\n",
       "<p>180 rows × 4 columns</p>\n",
       "</div>"
      ],
      "text/plain": [
       "                start_ts weather_conditions  duration_seconds   weekday\n",
       "6    2017-11-04 16:00:00                Bad            2969.0  Saturday\n",
       "30   2017-11-18 12:00:00                Bad            1980.0  Saturday\n",
       "34   2017-11-04 17:00:00                Bad            2460.0  Saturday\n",
       "51   2017-11-04 16:00:00                Bad            2760.0  Saturday\n",
       "52   2017-11-18 12:00:00                Bad            2460.0  Saturday\n",
       "...                  ...                ...               ...       ...\n",
       "1031 2017-11-18 12:00:00                Bad            2560.0  Saturday\n",
       "1032 2017-11-18 10:00:00                Bad            1908.0  Saturday\n",
       "1053 2017-11-18 12:00:00                Bad            2400.0  Saturday\n",
       "1061 2017-11-18 16:00:00                Bad            2186.0  Saturday\n",
       "1067 2017-11-04 16:00:00                Bad            2834.0  Saturday\n",
       "\n",
       "[180 rows x 4 columns]"
      ]
     },
     "execution_count": 20,
     "metadata": {},
     "output_type": "execute_result"
    }
   ],
   "source": [
    "# Mostrar el df de sabados lluviosos\n",
    "rainy_saturdays"
   ]
  },
  {
   "cell_type": "code",
   "execution_count": 21,
   "metadata": {
    "trusted": true
   },
   "outputs": [
    {
     "data": {
      "text/html": [
       "<div>\n",
       "<style scoped>\n",
       "    .dataframe tbody tr th:only-of-type {\n",
       "        vertical-align: middle;\n",
       "    }\n",
       "\n",
       "    .dataframe tbody tr th {\n",
       "        vertical-align: top;\n",
       "    }\n",
       "\n",
       "    .dataframe thead th {\n",
       "        text-align: right;\n",
       "    }\n",
       "</style>\n",
       "<table border=\"1\" class=\"dataframe\">\n",
       "  <thead>\n",
       "    <tr style=\"text-align: right;\">\n",
       "      <th></th>\n",
       "      <th>start_ts</th>\n",
       "      <th>weather_conditions</th>\n",
       "      <th>duration_seconds</th>\n",
       "      <th>weekday</th>\n",
       "    </tr>\n",
       "  </thead>\n",
       "  <tbody>\n",
       "    <tr>\n",
       "      <th>0</th>\n",
       "      <td>2017-11-25 16:00:00</td>\n",
       "      <td>Good</td>\n",
       "      <td>2410.0</td>\n",
       "      <td>Saturday</td>\n",
       "    </tr>\n",
       "    <tr>\n",
       "      <th>1</th>\n",
       "      <td>2017-11-25 14:00:00</td>\n",
       "      <td>Good</td>\n",
       "      <td>1920.0</td>\n",
       "      <td>Saturday</td>\n",
       "    </tr>\n",
       "    <tr>\n",
       "      <th>2</th>\n",
       "      <td>2017-11-25 12:00:00</td>\n",
       "      <td>Good</td>\n",
       "      <td>1543.0</td>\n",
       "      <td>Saturday</td>\n",
       "    </tr>\n",
       "    <tr>\n",
       "      <th>3</th>\n",
       "      <td>2017-11-04 10:00:00</td>\n",
       "      <td>Good</td>\n",
       "      <td>2512.0</td>\n",
       "      <td>Saturday</td>\n",
       "    </tr>\n",
       "    <tr>\n",
       "      <th>4</th>\n",
       "      <td>2017-11-11 07:00:00</td>\n",
       "      <td>Good</td>\n",
       "      <td>1440.0</td>\n",
       "      <td>Saturday</td>\n",
       "    </tr>\n",
       "    <tr>\n",
       "      <th>...</th>\n",
       "      <td>...</td>\n",
       "      <td>...</td>\n",
       "      <td>...</td>\n",
       "      <td>...</td>\n",
       "    </tr>\n",
       "    <tr>\n",
       "      <th>1062</th>\n",
       "      <td>2017-11-11 06:00:00</td>\n",
       "      <td>Good</td>\n",
       "      <td>1500.0</td>\n",
       "      <td>Saturday</td>\n",
       "    </tr>\n",
       "    <tr>\n",
       "      <th>1063</th>\n",
       "      <td>2017-11-25 11:00:00</td>\n",
       "      <td>Good</td>\n",
       "      <td>0.0</td>\n",
       "      <td>Saturday</td>\n",
       "    </tr>\n",
       "    <tr>\n",
       "      <th>1064</th>\n",
       "      <td>2017-11-11 10:00:00</td>\n",
       "      <td>Good</td>\n",
       "      <td>1318.0</td>\n",
       "      <td>Saturday</td>\n",
       "    </tr>\n",
       "    <tr>\n",
       "      <th>1065</th>\n",
       "      <td>2017-11-11 13:00:00</td>\n",
       "      <td>Good</td>\n",
       "      <td>2100.0</td>\n",
       "      <td>Saturday</td>\n",
       "    </tr>\n",
       "    <tr>\n",
       "      <th>1066</th>\n",
       "      <td>2017-11-11 08:00:00</td>\n",
       "      <td>Good</td>\n",
       "      <td>1380.0</td>\n",
       "      <td>Saturday</td>\n",
       "    </tr>\n",
       "  </tbody>\n",
       "</table>\n",
       "<p>888 rows × 4 columns</p>\n",
       "</div>"
      ],
      "text/plain": [
       "                start_ts weather_conditions  duration_seconds   weekday\n",
       "0    2017-11-25 16:00:00               Good            2410.0  Saturday\n",
       "1    2017-11-25 14:00:00               Good            1920.0  Saturday\n",
       "2    2017-11-25 12:00:00               Good            1543.0  Saturday\n",
       "3    2017-11-04 10:00:00               Good            2512.0  Saturday\n",
       "4    2017-11-11 07:00:00               Good            1440.0  Saturday\n",
       "...                  ...                ...               ...       ...\n",
       "1062 2017-11-11 06:00:00               Good            1500.0  Saturday\n",
       "1063 2017-11-25 11:00:00               Good               0.0  Saturday\n",
       "1064 2017-11-11 10:00:00               Good            1318.0  Saturday\n",
       "1065 2017-11-11 13:00:00               Good            2100.0  Saturday\n",
       "1066 2017-11-11 08:00:00               Good            1380.0  Saturday\n",
       "\n",
       "[888 rows x 4 columns]"
      ]
     },
     "execution_count": 21,
     "metadata": {},
     "output_type": "execute_result"
    }
   ],
   "source": [
    "# Mostrar el df de sabados NO lluviosos\n",
    "non_rainy_saturdays"
   ]
  },
  {
   "cell_type": "code",
   "execution_count": 22,
   "metadata": {
    "trusted": true
   },
   "outputs": [],
   "source": [
    "# Extraer duración de viajes\n",
    "rainy_durations = rainy_saturdays[\"duration_seconds\"]\n",
    "non_rainy_durations = non_rainy_saturdays[\"duration_seconds\"]"
   ]
  },
  {
   "cell_type": "code",
   "execution_count": 23,
   "metadata": {
    "trusted": true
   },
   "outputs": [
    {
     "data": {
      "text/plain": [
       "6       2969.0\n",
       "30      1980.0\n",
       "34      2460.0\n",
       "51      2760.0\n",
       "52      2460.0\n",
       "         ...  \n",
       "1031    2560.0\n",
       "1032    1908.0\n",
       "1053    2400.0\n",
       "1061    2186.0\n",
       "1067    2834.0\n",
       "Name: duration_seconds, Length: 180, dtype: float64"
      ]
     },
     "execution_count": 23,
     "metadata": {},
     "output_type": "execute_result"
    }
   ],
   "source": [
    "# Revisar la extraccion de los dias lluiosos\n",
    "rainy_durations"
   ]
  },
  {
   "cell_type": "code",
   "execution_count": 24,
   "metadata": {
    "trusted": true
   },
   "outputs": [
    {
     "data": {
      "text/plain": [
       "0       2410.0\n",
       "1       1920.0\n",
       "2       1543.0\n",
       "3       2512.0\n",
       "4       1440.0\n",
       "         ...  \n",
       "1062    1500.0\n",
       "1063       0.0\n",
       "1064    1318.0\n",
       "1065    2100.0\n",
       "1066    1380.0\n",
       "Name: duration_seconds, Length: 888, dtype: float64"
      ]
     },
     "execution_count": 24,
     "metadata": {},
     "output_type": "execute_result"
    }
   ],
   "source": [
    "# Revisar la extraccion de los dias NO lluiosos\n",
    "non_rainy_durations"
   ]
  },
  {
   "cell_type": "code",
   "execution_count": 25,
   "metadata": {
    "trusted": true
   },
   "outputs": [
    {
     "name": "stdout",
     "output_type": "stream",
     "text": [
      "Shapiro-Wilk (Rainy Saturdays) p-value: 0.0036\n",
      "Shapiro-Wilk (Non-Rainy Saturdays) p-value: 0.0000\n"
     ]
    }
   ],
   "source": [
    "# Prueba de normalidad (Shapiro-Wilk)\n",
    "shapiro_rain = stats.shapiro(rainy_durations)\n",
    "shapiro_no_rain = stats.shapiro(non_rainy_durations)\n",
    "\n",
    "print(f\"Shapiro-Wilk (Rainy Saturdays) p-value: {shapiro_rain.pvalue:.4f}\")\n",
    "print(f\"Shapiro-Wilk (Non-Rainy Saturdays) p-value: {shapiro_no_rain.pvalue:.4f}\")"
   ]
  },
  {
   "cell_type": "markdown",
   "metadata": {},
   "source": [
    "Hipótesis nula (H0): La duración promedio de los viajes desde el Loop hasta el Aeropuerto Internacional O'Hare NO cambia los sábados lluviosos\n",
    "\n",
    "Hipótesis alternativa (H1): La duración promedio de los viajes desde el Loop hasta el Aeropuerto Internacional O'Hare cambia los sábados lluviosos\n",
    "\n",
    "La hipótesis nula siempre representa el escenario de que no hay diferencia entre los grupos comparados, por lo tanto, asume que la lluvia no tiene un impacto significativo en la duración del viaje. En cambio, la hipótesis alternativa verifica si hay un cambio en los tiempos de viaje cuando llueve los sábados. No se asume si es más corto o más largo, solo si cambia. Por eso se usa una prueba bilateral."
   ]
  },
  {
   "cell_type": "code",
   "execution_count": 26,
   "metadata": {
    "trusted": true
   },
   "outputs": [
    {
     "name": "stdout",
     "output_type": "stream",
     "text": [
      "\n",
      "Prueba utilizada: Mann-Whitney U\n",
      "Estadístico de prueba: 108193.5000\n",
      "Valor p: 0.0000\n"
     ]
    }
   ],
   "source": [
    "# Prueba de Mann-Whitney U (NO usa varianza, solo rangos)\n",
    "test_stat, p_value = stats.mannwhitneyu(rainy_durations, non_rainy_durations, alternative=\"two-sided\")\n",
    "test_used = \"Mann-Whitney U\"\n",
    "\n",
    "# Resultado\n",
    "print(f\"\\nPrueba utilizada: {test_used}\")\n",
    "print(f\"Estadístico de prueba: {test_stat:.4f}\")\n",
    "print(f\"Valor p: {p_value:.4f}\")"
   ]
  },
  {
   "cell_type": "code",
   "execution_count": 27,
   "metadata": {
    "trusted": true
   },
   "outputs": [
    {
     "name": "stdout",
     "output_type": "stream",
     "text": [
      "🔴 Rechazamos la hipótesis nula: la duración promedio de los viajes en sábados lluviosos es diferente.\n"
     ]
    }
   ],
   "source": [
    "# Interpretación final\n",
    "alpha = 0.05\n",
    "if p_value < alpha:\n",
    "    print(\"🔴 Rechazamos la hipótesis nula: la duración promedio de los viajes en sábados lluviosos es diferente.\")\n",
    "else:\n",
    "    print(\"✅ No hay evidencia suficiente para rechazar la hipótesis nula.\")"
   ]
  },
  {
   "cell_type": "markdown",
   "metadata": {},
   "source": [
    "Conclusiones:\n",
    "1. Verifiqué la calidad de los datos, asegurando que no hubiera valores ausentes o duplicados en los conjuntos de datos utilizados. En esta parte realicé conversiones y ajustes de tipos de datos. \n",
    "2. Grafiqué, analicé y concluí en cada DF. \n",
    "3. Lo siguiente fueron las pruebas de hipótesis. Determiné la hipótesis nula y la alternativa. (H0): La duración promedio de los viajes en sábados lluviosos es igual a la duración promedio en sábados sin lluvia y (H1): La duración promedio de los viajes en sábados lluviosos es diferente a la duración promedio en sábados sin lluvia. \n",
    "4. Verifiqué la normalidad de los datos, mediante la prueba de Shapiro-Wilk, obteniendo p-valores menores a 0.05 para ambas muestras, lo que indica que los datos no siguen una distribución normal.\n",
    "5. Debido a esto, realicé la prueba no paramétrica de Mann-Whitney U, en lugar de una prueba t de muestras independientes.\n",
    "6. El resultado de la prueba indicó que se encontró evidencia estadística suficiente para rechazar la hipótesis nula, lo que sugiere que la lluvia tiene un impacto en la duración de los viajes. Lo cual, por cierto, en teoría es muy lógico. Pues cuando hay lluvia hay más accidentes, tráfico y baches en las carreteras. "
   ]
  }
 ],
 "metadata": {
  "ExecuteTimeLog": [
   {
    "duration": 330,
    "start_time": "2025-02-01T00:26:12.273Z"
   },
   {
    "duration": 554,
    "start_time": "2025-02-01T00:28:26.264Z"
   },
   {
    "duration": 61,
    "start_time": "2025-02-01T00:29:26.820Z"
   },
   {
    "duration": 319,
    "start_time": "2025-02-01T00:31:52.389Z"
   },
   {
    "duration": 524,
    "start_time": "2025-02-01T00:31:52.711Z"
   },
   {
    "duration": 60,
    "start_time": "2025-02-01T00:38:57.437Z"
   },
   {
    "duration": 272,
    "start_time": "2025-02-01T00:41:25.057Z"
   },
   {
    "duration": 12,
    "start_time": "2025-02-01T00:41:25.331Z"
   },
   {
    "duration": 10,
    "start_time": "2025-02-01T00:41:33.259Z"
   },
   {
    "duration": 14,
    "start_time": "2025-02-01T00:41:50.132Z"
   },
   {
    "duration": 271,
    "start_time": "2025-02-01T00:42:28.438Z"
   },
   {
    "duration": 9,
    "start_time": "2025-02-01T00:42:28.711Z"
   },
   {
    "duration": 9,
    "start_time": "2025-02-01T00:42:28.721Z"
   },
   {
    "duration": 6,
    "start_time": "2025-02-01T00:42:28.732Z"
   },
   {
    "duration": 8,
    "start_time": "2025-02-01T00:42:44.017Z"
   },
   {
    "duration": 8,
    "start_time": "2025-02-01T00:42:49.377Z"
   },
   {
    "duration": 8,
    "start_time": "2025-02-01T00:44:43.591Z"
   },
   {
    "duration": 7,
    "start_time": "2025-02-01T00:46:49.292Z"
   },
   {
    "duration": 9,
    "start_time": "2025-02-01T00:47:21.231Z"
   },
   {
    "duration": 8,
    "start_time": "2025-02-01T00:47:36.404Z"
   },
   {
    "duration": 5,
    "start_time": "2025-02-01T00:56:51.220Z"
   },
   {
    "duration": 90,
    "start_time": "2025-02-01T00:58:27.485Z"
   },
   {
    "duration": 6,
    "start_time": "2025-02-01T00:58:40.553Z"
   },
   {
    "duration": 103,
    "start_time": "2025-02-01T00:58:48.175Z"
   },
   {
    "duration": 13,
    "start_time": "2025-02-01T00:59:13.190Z"
   },
   {
    "duration": 9,
    "start_time": "2025-02-01T00:59:22.400Z"
   },
   {
    "duration": 9,
    "start_time": "2025-02-01T00:59:39.352Z"
   },
   {
    "duration": 7,
    "start_time": "2025-02-01T00:59:59.451Z"
   },
   {
    "duration": 7,
    "start_time": "2025-02-01T01:02:54.286Z"
   },
   {
    "duration": 7,
    "start_time": "2025-02-01T01:03:00.281Z"
   },
   {
    "duration": 277,
    "start_time": "2025-02-01T01:05:43.732Z"
   },
   {
    "duration": 10,
    "start_time": "2025-02-01T01:05:44.011Z"
   },
   {
    "duration": 10,
    "start_time": "2025-02-01T01:05:44.023Z"
   },
   {
    "duration": 8,
    "start_time": "2025-02-01T01:05:44.037Z"
   },
   {
    "duration": 8,
    "start_time": "2025-02-01T01:05:44.046Z"
   },
   {
    "duration": 19,
    "start_time": "2025-02-01T01:05:44.056Z"
   },
   {
    "duration": 5,
    "start_time": "2025-02-01T01:05:44.077Z"
   },
   {
    "duration": 6,
    "start_time": "2025-02-01T01:05:44.084Z"
   },
   {
    "duration": 2272,
    "start_time": "2025-02-01T01:05:44.092Z"
   },
   {
    "duration": 269,
    "start_time": "2025-02-01T01:10:27.543Z"
   },
   {
    "duration": 9,
    "start_time": "2025-02-01T01:10:27.815Z"
   },
   {
    "duration": 10,
    "start_time": "2025-02-01T01:10:27.826Z"
   },
   {
    "duration": 7,
    "start_time": "2025-02-01T01:10:27.839Z"
   },
   {
    "duration": 25,
    "start_time": "2025-02-01T01:10:27.847Z"
   },
   {
    "duration": 7,
    "start_time": "2025-02-01T01:10:27.874Z"
   },
   {
    "duration": 5,
    "start_time": "2025-02-01T01:10:27.883Z"
   },
   {
    "duration": 7,
    "start_time": "2025-02-01T01:10:27.890Z"
   },
   {
    "duration": 552,
    "start_time": "2025-02-01T01:10:27.898Z"
   },
   {
    "duration": 174,
    "start_time": "2025-02-01T01:10:28.452Z"
   },
   {
    "duration": 1135,
    "start_time": "2025-02-01T01:10:28.627Z"
   },
   {
    "duration": 159,
    "start_time": "2025-02-01T04:05:28.142Z"
   },
   {
    "duration": 336,
    "start_time": "2025-02-01T04:05:42.219Z"
   },
   {
    "duration": 14,
    "start_time": "2025-02-01T04:05:42.557Z"
   },
   {
    "duration": 10,
    "start_time": "2025-02-01T04:05:42.573Z"
   },
   {
    "duration": 7,
    "start_time": "2025-02-01T04:05:42.585Z"
   },
   {
    "duration": 8,
    "start_time": "2025-02-01T04:05:42.608Z"
   },
   {
    "duration": 8,
    "start_time": "2025-02-01T04:05:42.618Z"
   },
   {
    "duration": 5,
    "start_time": "2025-02-01T04:05:42.627Z"
   },
   {
    "duration": 6,
    "start_time": "2025-02-01T04:05:42.634Z"
   },
   {
    "duration": 6,
    "start_time": "2025-02-01T04:05:42.642Z"
   },
   {
    "duration": 2291,
    "start_time": "2025-02-01T04:05:42.649Z"
   },
   {
    "duration": 173,
    "start_time": "2025-02-01T04:05:44.942Z"
   },
   {
    "duration": 1079,
    "start_time": "2025-02-01T04:05:45.118Z"
   },
   {
    "duration": 178,
    "start_time": "2025-02-01T04:06:05.229Z"
   },
   {
    "duration": 393,
    "start_time": "2025-02-01T17:30:31.653Z"
   },
   {
    "duration": 13,
    "start_time": "2025-02-01T17:30:32.050Z"
   },
   {
    "duration": 14,
    "start_time": "2025-02-01T17:30:32.065Z"
   },
   {
    "duration": 8,
    "start_time": "2025-02-01T17:30:32.080Z"
   },
   {
    "duration": 19,
    "start_time": "2025-02-01T17:30:32.091Z"
   },
   {
    "duration": 9,
    "start_time": "2025-02-01T17:30:32.112Z"
   },
   {
    "duration": 5,
    "start_time": "2025-02-01T17:30:32.123Z"
   },
   {
    "duration": 7,
    "start_time": "2025-02-01T17:30:32.129Z"
   },
   {
    "duration": 6,
    "start_time": "2025-02-01T17:30:32.138Z"
   },
   {
    "duration": 2438,
    "start_time": "2025-02-01T17:30:32.145Z"
   },
   {
    "duration": 172,
    "start_time": "2025-02-01T17:30:34.584Z"
   },
   {
    "duration": 182,
    "start_time": "2025-02-01T17:30:34.758Z"
   },
   {
    "duration": 277,
    "start_time": "2025-02-01T17:31:26.263Z"
   },
   {
    "duration": 8,
    "start_time": "2025-02-01T17:31:26.543Z"
   },
   {
    "duration": 11,
    "start_time": "2025-02-01T17:31:26.552Z"
   },
   {
    "duration": 8,
    "start_time": "2025-02-01T17:31:26.564Z"
   },
   {
    "duration": 7,
    "start_time": "2025-02-01T17:31:26.576Z"
   },
   {
    "duration": 25,
    "start_time": "2025-02-01T17:31:26.585Z"
   },
   {
    "duration": 4,
    "start_time": "2025-02-01T17:31:26.612Z"
   },
   {
    "duration": 7,
    "start_time": "2025-02-01T17:31:26.618Z"
   },
   {
    "duration": 6,
    "start_time": "2025-02-01T17:31:26.627Z"
   },
   {
    "duration": 557,
    "start_time": "2025-02-01T17:31:26.634Z"
   },
   {
    "duration": 168,
    "start_time": "2025-02-01T17:31:27.193Z"
   },
   {
    "duration": 177,
    "start_time": "2025-02-01T17:31:27.363Z"
   },
   {
    "duration": 275,
    "start_time": "2025-02-01T17:42:30.073Z"
   },
   {
    "duration": 9,
    "start_time": "2025-02-01T17:42:30.350Z"
   },
   {
    "duration": 10,
    "start_time": "2025-02-01T17:42:30.360Z"
   },
   {
    "duration": 8,
    "start_time": "2025-02-01T17:42:30.373Z"
   },
   {
    "duration": 27,
    "start_time": "2025-02-01T17:42:30.383Z"
   },
   {
    "duration": 8,
    "start_time": "2025-02-01T17:42:30.411Z"
   },
   {
    "duration": 5,
    "start_time": "2025-02-01T17:42:30.421Z"
   },
   {
    "duration": 8,
    "start_time": "2025-02-01T17:42:30.427Z"
   },
   {
    "duration": 7,
    "start_time": "2025-02-01T17:42:30.436Z"
   },
   {
    "duration": 555,
    "start_time": "2025-02-01T17:42:30.446Z"
   },
   {
    "duration": 172,
    "start_time": "2025-02-01T17:42:31.003Z"
   },
   {
    "duration": 199,
    "start_time": "2025-02-01T17:42:31.176Z"
   },
   {
    "duration": 577,
    "start_time": "2025-02-01T17:46:42.554Z"
   },
   {
    "duration": 8,
    "start_time": "2025-02-01T17:47:13.584Z"
   },
   {
    "duration": 60,
    "start_time": "2025-02-01T17:47:18.839Z"
   },
   {
    "duration": 11,
    "start_time": "2025-02-01T17:47:34.654Z"
   },
   {
    "duration": 8,
    "start_time": "2025-02-01T17:48:00.378Z"
   },
   {
    "duration": 14,
    "start_time": "2025-02-01T17:48:20.898Z"
   },
   {
    "duration": 16,
    "start_time": "2025-02-01T17:48:27.772Z"
   },
   {
    "duration": 5,
    "start_time": "2025-02-01T17:48:35.879Z"
   },
   {
    "duration": 10,
    "start_time": "2025-02-01T17:48:48.037Z"
   },
   {
    "duration": 14,
    "start_time": "2025-02-01T17:51:41.032Z"
   },
   {
    "duration": 5,
    "start_time": "2025-02-01T17:52:34.294Z"
   },
   {
    "duration": 15,
    "start_time": "2025-02-01T18:00:27.346Z"
   },
   {
    "duration": 5,
    "start_time": "2025-02-01T18:00:53.171Z"
   },
   {
    "duration": 5,
    "start_time": "2025-02-01T18:01:18.024Z"
   },
   {
    "duration": 12,
    "start_time": "2025-02-01T18:01:31.530Z"
   },
   {
    "duration": 6,
    "start_time": "2025-02-01T18:02:17.721Z"
   },
   {
    "duration": 10,
    "start_time": "2025-02-01T18:02:19.001Z"
   },
   {
    "duration": 10,
    "start_time": "2025-02-01T18:02:42.363Z"
   },
   {
    "duration": 3,
    "start_time": "2025-02-01T18:03:37.129Z"
   },
   {
    "duration": 5,
    "start_time": "2025-02-01T18:03:59.552Z"
   },
   {
    "duration": 4,
    "start_time": "2025-02-01T18:04:19.841Z"
   },
   {
    "duration": 4,
    "start_time": "2025-02-01T18:07:13.300Z"
   },
   {
    "duration": 6,
    "start_time": "2025-02-01T18:12:29.315Z"
   },
   {
    "duration": 3,
    "start_time": "2025-02-01T18:12:59.207Z"
   },
   {
    "duration": 329,
    "start_time": "2025-02-01T18:18:59.320Z"
   },
   {
    "duration": 8,
    "start_time": "2025-02-01T18:18:59.651Z"
   },
   {
    "duration": 10,
    "start_time": "2025-02-01T18:18:59.661Z"
   },
   {
    "duration": 8,
    "start_time": "2025-02-01T18:18:59.674Z"
   },
   {
    "duration": 28,
    "start_time": "2025-02-01T18:18:59.684Z"
   },
   {
    "duration": 8,
    "start_time": "2025-02-01T18:18:59.714Z"
   },
   {
    "duration": 5,
    "start_time": "2025-02-01T18:18:59.723Z"
   },
   {
    "duration": 7,
    "start_time": "2025-02-01T18:18:59.729Z"
   },
   {
    "duration": 7,
    "start_time": "2025-02-01T18:18:59.737Z"
   },
   {
    "duration": 539,
    "start_time": "2025-02-01T18:18:59.747Z"
   },
   {
    "duration": 178,
    "start_time": "2025-02-01T18:19:00.287Z"
   },
   {
    "duration": 175,
    "start_time": "2025-02-01T18:19:00.467Z"
   },
   {
    "duration": 11,
    "start_time": "2025-02-01T18:19:00.644Z"
   },
   {
    "duration": 8,
    "start_time": "2025-02-01T18:19:00.657Z"
   },
   {
    "duration": 10,
    "start_time": "2025-02-01T18:19:00.667Z"
   },
   {
    "duration": 35,
    "start_time": "2025-02-01T18:19:00.678Z"
   },
   {
    "duration": 5,
    "start_time": "2025-02-01T18:19:00.714Z"
   },
   {
    "duration": 7,
    "start_time": "2025-02-01T18:19:00.720Z"
   },
   {
    "duration": 9,
    "start_time": "2025-02-01T18:19:00.728Z"
   },
   {
    "duration": 9,
    "start_time": "2025-02-01T18:19:00.739Z"
   },
   {
    "duration": 2,
    "start_time": "2025-02-01T18:19:00.750Z"
   },
   {
    "duration": 5,
    "start_time": "2025-02-01T18:19:00.754Z"
   },
   {
    "duration": 4,
    "start_time": "2025-02-01T18:19:00.761Z"
   },
   {
    "duration": 4,
    "start_time": "2025-02-01T18:19:00.806Z"
   },
   {
    "duration": 6,
    "start_time": "2025-02-01T18:19:00.812Z"
   },
   {
    "duration": 3,
    "start_time": "2025-02-01T18:19:00.820Z"
   },
   {
    "duration": 303,
    "start_time": "2025-02-02T20:18:20.864Z"
   },
   {
    "duration": 19,
    "start_time": "2025-02-02T20:18:22.507Z"
   },
   {
    "duration": 14,
    "start_time": "2025-02-02T20:18:23.861Z"
   },
   {
    "duration": 9,
    "start_time": "2025-02-02T20:18:26.018Z"
   },
   {
    "duration": 12,
    "start_time": "2025-02-02T20:18:28.065Z"
   },
   {
    "duration": 8,
    "start_time": "2025-02-02T20:18:29.259Z"
   },
   {
    "duration": 8,
    "start_time": "2025-02-02T20:18:31.559Z"
   },
   {
    "duration": 107,
    "start_time": "2025-02-02T20:20:07.474Z"
   },
   {
    "duration": 6,
    "start_time": "2025-02-02T20:21:08.879Z"
   },
   {
    "duration": 4,
    "start_time": "2025-02-02T20:21:28.904Z"
   },
   {
    "duration": 336,
    "start_time": "2025-02-02T20:58:12.242Z"
   },
   {
    "duration": 14,
    "start_time": "2025-02-02T20:58:12.580Z"
   },
   {
    "duration": 11,
    "start_time": "2025-02-02T20:58:12.595Z"
   },
   {
    "duration": 8,
    "start_time": "2025-02-02T20:58:12.608Z"
   },
   {
    "duration": 18,
    "start_time": "2025-02-02T20:58:12.619Z"
   },
   {
    "duration": 8,
    "start_time": "2025-02-02T20:58:12.638Z"
   },
   {
    "duration": 5,
    "start_time": "2025-02-02T20:58:12.647Z"
   },
   {
    "duration": 5,
    "start_time": "2025-02-02T20:58:12.653Z"
   },
   {
    "duration": 6,
    "start_time": "2025-02-02T20:58:12.660Z"
   },
   {
    "duration": 8,
    "start_time": "2025-02-02T20:58:12.668Z"
   },
   {
    "duration": 2296,
    "start_time": "2025-02-02T20:58:12.678Z"
   },
   {
    "duration": 177,
    "start_time": "2025-02-02T20:58:14.976Z"
   },
   {
    "duration": 182,
    "start_time": "2025-02-02T20:58:15.155Z"
   },
   {
    "duration": 17,
    "start_time": "2025-02-02T20:58:15.341Z"
   },
   {
    "duration": 8,
    "start_time": "2025-02-02T20:58:15.359Z"
   },
   {
    "duration": 10,
    "start_time": "2025-02-02T20:58:15.369Z"
   },
   {
    "duration": 11,
    "start_time": "2025-02-02T20:58:15.381Z"
   },
   {
    "duration": 4,
    "start_time": "2025-02-02T20:58:15.394Z"
   },
   {
    "duration": 33,
    "start_time": "2025-02-02T20:58:15.400Z"
   },
   {
    "duration": 10,
    "start_time": "2025-02-02T20:58:15.435Z"
   },
   {
    "duration": 10,
    "start_time": "2025-02-02T20:58:15.447Z"
   },
   {
    "duration": 3,
    "start_time": "2025-02-02T20:58:15.458Z"
   },
   {
    "duration": 5,
    "start_time": "2025-02-02T20:58:15.463Z"
   },
   {
    "duration": 5,
    "start_time": "2025-02-02T20:58:15.469Z"
   },
   {
    "duration": 4,
    "start_time": "2025-02-02T20:58:15.476Z"
   },
   {
    "duration": 5,
    "start_time": "2025-02-02T20:58:15.481Z"
   },
   {
    "duration": 45,
    "start_time": "2025-02-02T20:58:15.488Z"
   }
  ],
  "kernelspec": {
   "display_name": "Python 3 (ipykernel)",
   "language": "python",
   "name": "python3"
  },
  "language_info": {
   "codemirror_mode": {
    "name": "ipython",
    "version": 3
   },
   "file_extension": ".py",
   "mimetype": "text/x-python",
   "name": "python",
   "nbconvert_exporter": "python",
   "pygments_lexer": "ipython3",
   "version": "3.9.19"
  },
  "toc": {
   "base_numbering": 1,
   "nav_menu": {},
   "number_sections": true,
   "sideBar": true,
   "skip_h1_title": true,
   "title_cell": "Table of Contents",
   "title_sidebar": "Contents",
   "toc_cell": false,
   "toc_position": {},
   "toc_section_display": true,
   "toc_window_display": false
  }
 },
 "nbformat": 4,
 "nbformat_minor": 2
}
