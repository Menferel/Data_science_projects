{
 "cells": [
  {
   "cell_type": "markdown",
   "metadata": {},
   "source": [
    "## Inicialización "
   ]
  },
  {
   "cell_type": "code",
   "execution_count": 1,
   "metadata": {
    "trusted": false
   },
   "outputs": [],
   "source": [
    "# Importar librerías\n",
    "import matplotlib.pyplot as plt\n",
    "import numpy as np\n",
    "import pandas as pd\n",
    "import seaborn as sns\n",
    "import math\n",
    "import time\n",
    "from sklearn.model_selection import train_test_split\n",
    "from sklearn.preprocessing import StandardScaler\n",
    "from sklearn.linear_model import LinearRegression\n",
    "from sklearn.tree import DecisionTreeRegressor\n",
    "from sklearn.ensemble import RandomForestRegressor\n",
    "from sklearn.metrics import mean_squared_error\n",
    "import lightgbm as lgb\n",
    "from catboost import CatBoostRegressor\n",
    "from lightgbm import LGBMRegressor"
   ]
  },
  {
   "cell_type": "markdown",
   "metadata": {},
   "source": [
    "## Preparación de datos"
   ]
  },
  {
   "cell_type": "code",
   "execution_count": null,
   "metadata": {
    "trusted": false
   },
   "outputs": [],
   "source": [
    "# Cargar df\n",
    "df = pd.read_csv('/datasets/car_data.csv')"
   ]
  },
  {
   "cell_type": "code",
   "execution_count": null,
   "metadata": {
    "trusted": false
   },
   "outputs": [
    {
     "data": {
      "text/plain": [
       "Index(['DateCrawled', 'Price', 'VehicleType', 'RegistrationYear', 'Gearbox',\n",
       "       'Power', 'Model', 'Mileage', 'RegistrationMonth', 'FuelType', 'Brand',\n",
       "       'NotRepaired', 'DateCreated', 'NumberOfPictures', 'PostalCode',\n",
       "       'LastSeen'],\n",
       "      dtype='object')"
      ]
     },
     "execution_count": 3,
     "metadata": {},
     "output_type": "execute_result"
    }
   ],
   "source": [
    "# Checar columnas del df\n",
    "df.columns"
   ]
  },
  {
   "cell_type": "code",
   "execution_count": null,
   "metadata": {
    "trusted": false
   },
   "outputs": [],
   "source": [
    "# Renombrar columnas del df\n",
    "df = df.rename(columns={'DateCrawled': 'date_crawled', 'Price': 'price', 'VehicleType': 'vehicle_type', 'RegistrationYear': 'registration_year', 'Gearbox': 'gearbox', 'Power':'power', 'Model':'model', 'Mileage':'mileage', 'RegistrationMonth':'registration_month', 'FuelType':'fuel_type', 'Brand':'brand', 'NotRepaired':'not_repaired', 'DateCreated':'date_created', 'NumberOfPictures':'number_of_pictures', 'PostalCode':'postal_code', 'LastSeen':'last_seen'})"
   ]
  },
  {
   "cell_type": "code",
   "execution_count": 5,
   "metadata": {
    "trusted": false
   },
   "outputs": [
    {
     "data": {
      "text/html": [
       "<div>\n",
       "<style scoped>\n",
       "    .dataframe tbody tr th:only-of-type {\n",
       "        vertical-align: middle;\n",
       "    }\n",
       "\n",
       "    .dataframe tbody tr th {\n",
       "        vertical-align: top;\n",
       "    }\n",
       "\n",
       "    .dataframe thead th {\n",
       "        text-align: right;\n",
       "    }\n",
       "</style>\n",
       "<table border=\"1\" class=\"dataframe\">\n",
       "  <thead>\n",
       "    <tr style=\"text-align: right;\">\n",
       "      <th></th>\n",
       "      <th>date_crawled</th>\n",
       "      <th>price</th>\n",
       "      <th>vehicle_type</th>\n",
       "      <th>registration_year</th>\n",
       "      <th>gearbox</th>\n",
       "      <th>power</th>\n",
       "      <th>model</th>\n",
       "      <th>mileage</th>\n",
       "      <th>registration_month</th>\n",
       "      <th>fuel_type</th>\n",
       "      <th>brand</th>\n",
       "      <th>not_repaired</th>\n",
       "      <th>date_created</th>\n",
       "      <th>number_of_pictures</th>\n",
       "      <th>postal_code</th>\n",
       "      <th>last_seen</th>\n",
       "    </tr>\n",
       "  </thead>\n",
       "  <tbody>\n",
       "    <tr>\n",
       "      <th>83110</th>\n",
       "      <td>21/03/2016 13:58</td>\n",
       "      <td>5500</td>\n",
       "      <td>wagon</td>\n",
       "      <td>2006</td>\n",
       "      <td>auto</td>\n",
       "      <td>140</td>\n",
       "      <td>passat</td>\n",
       "      <td>150000</td>\n",
       "      <td>12</td>\n",
       "      <td>gasoline</td>\n",
       "      <td>volkswagen</td>\n",
       "      <td>no</td>\n",
       "      <td>21/03/2016 00:00</td>\n",
       "      <td>0</td>\n",
       "      <td>24109</td>\n",
       "      <td>06/04/2016 09:46</td>\n",
       "    </tr>\n",
       "    <tr>\n",
       "      <th>99873</th>\n",
       "      <td>20/03/2016 18:55</td>\n",
       "      <td>1700</td>\n",
       "      <td>convertible</td>\n",
       "      <td>2002</td>\n",
       "      <td>auto</td>\n",
       "      <td>54</td>\n",
       "      <td>fortwo</td>\n",
       "      <td>150000</td>\n",
       "      <td>11</td>\n",
       "      <td>petrol</td>\n",
       "      <td>smart</td>\n",
       "      <td>no</td>\n",
       "      <td>20/03/2016 00:00</td>\n",
       "      <td>0</td>\n",
       "      <td>21339</td>\n",
       "      <td>07/04/2016 02:45</td>\n",
       "    </tr>\n",
       "    <tr>\n",
       "      <th>20912</th>\n",
       "      <td>20/03/2016 10:39</td>\n",
       "      <td>4800</td>\n",
       "      <td>wagon</td>\n",
       "      <td>2002</td>\n",
       "      <td>manual</td>\n",
       "      <td>150</td>\n",
       "      <td>a4</td>\n",
       "      <td>150000</td>\n",
       "      <td>2</td>\n",
       "      <td>petrol</td>\n",
       "      <td>audi</td>\n",
       "      <td>no</td>\n",
       "      <td>20/03/2016 00:00</td>\n",
       "      <td>0</td>\n",
       "      <td>78464</td>\n",
       "      <td>06/04/2016 06:17</td>\n",
       "    </tr>\n",
       "    <tr>\n",
       "      <th>124634</th>\n",
       "      <td>27/03/2016 19:56</td>\n",
       "      <td>2500</td>\n",
       "      <td>wagon</td>\n",
       "      <td>2005</td>\n",
       "      <td>manual</td>\n",
       "      <td>150</td>\n",
       "      <td>octavia</td>\n",
       "      <td>150000</td>\n",
       "      <td>5</td>\n",
       "      <td>petrol</td>\n",
       "      <td>skoda</td>\n",
       "      <td>NaN</td>\n",
       "      <td>27/03/2016 00:00</td>\n",
       "      <td>0</td>\n",
       "      <td>16909</td>\n",
       "      <td>05/04/2016 18:16</td>\n",
       "    </tr>\n",
       "    <tr>\n",
       "      <th>178615</th>\n",
       "      <td>29/03/2016 02:57</td>\n",
       "      <td>2490</td>\n",
       "      <td>sedan</td>\n",
       "      <td>2004</td>\n",
       "      <td>auto</td>\n",
       "      <td>131</td>\n",
       "      <td>mondeo</td>\n",
       "      <td>5000</td>\n",
       "      <td>9</td>\n",
       "      <td>gasoline</td>\n",
       "      <td>ford</td>\n",
       "      <td>yes</td>\n",
       "      <td>29/03/2016 00:00</td>\n",
       "      <td>0</td>\n",
       "      <td>28277</td>\n",
       "      <td>05/04/2016 17:46</td>\n",
       "    </tr>\n",
       "    <tr>\n",
       "      <th>83602</th>\n",
       "      <td>06/03/2016 16:06</td>\n",
       "      <td>11999</td>\n",
       "      <td>coupe</td>\n",
       "      <td>2005</td>\n",
       "      <td>auto</td>\n",
       "      <td>306</td>\n",
       "      <td>other</td>\n",
       "      <td>150000</td>\n",
       "      <td>3</td>\n",
       "      <td>petrol</td>\n",
       "      <td>mercedes_benz</td>\n",
       "      <td>no</td>\n",
       "      <td>06/03/2016 00:00</td>\n",
       "      <td>0</td>\n",
       "      <td>60489</td>\n",
       "      <td>19/03/2016 22:48</td>\n",
       "    </tr>\n",
       "    <tr>\n",
       "      <th>121027</th>\n",
       "      <td>29/03/2016 21:53</td>\n",
       "      <td>1599</td>\n",
       "      <td>bus</td>\n",
       "      <td>2001</td>\n",
       "      <td>manual</td>\n",
       "      <td>122</td>\n",
       "      <td>vito</td>\n",
       "      <td>150000</td>\n",
       "      <td>0</td>\n",
       "      <td>gasoline</td>\n",
       "      <td>mercedes_benz</td>\n",
       "      <td>no</td>\n",
       "      <td>29/03/2016 00:00</td>\n",
       "      <td>0</td>\n",
       "      <td>9131</td>\n",
       "      <td>06/04/2016 09:17</td>\n",
       "    </tr>\n",
       "    <tr>\n",
       "      <th>251871</th>\n",
       "      <td>09/03/2016 21:53</td>\n",
       "      <td>2400</td>\n",
       "      <td>wagon</td>\n",
       "      <td>2002</td>\n",
       "      <td>auto</td>\n",
       "      <td>166</td>\n",
       "      <td>NaN</td>\n",
       "      <td>150000</td>\n",
       "      <td>6</td>\n",
       "      <td>petrol</td>\n",
       "      <td>alfa_romeo</td>\n",
       "      <td>no</td>\n",
       "      <td>09/03/2016 00:00</td>\n",
       "      <td>0</td>\n",
       "      <td>63065</td>\n",
       "      <td>21/03/2016 06:45</td>\n",
       "    </tr>\n",
       "    <tr>\n",
       "      <th>333792</th>\n",
       "      <td>22/03/2016 19:49</td>\n",
       "      <td>1120</td>\n",
       "      <td>sedan</td>\n",
       "      <td>1999</td>\n",
       "      <td>manual</td>\n",
       "      <td>75</td>\n",
       "      <td>golf</td>\n",
       "      <td>150000</td>\n",
       "      <td>8</td>\n",
       "      <td>petrol</td>\n",
       "      <td>volkswagen</td>\n",
       "      <td>no</td>\n",
       "      <td>22/03/2016 00:00</td>\n",
       "      <td>0</td>\n",
       "      <td>45139</td>\n",
       "      <td>26/03/2016 21:47</td>\n",
       "    </tr>\n",
       "    <tr>\n",
       "      <th>242968</th>\n",
       "      <td>29/03/2016 21:49</td>\n",
       "      <td>1199</td>\n",
       "      <td>wagon</td>\n",
       "      <td>1996</td>\n",
       "      <td>manual</td>\n",
       "      <td>136</td>\n",
       "      <td>omega</td>\n",
       "      <td>150000</td>\n",
       "      <td>11</td>\n",
       "      <td>petrol</td>\n",
       "      <td>opel</td>\n",
       "      <td>no</td>\n",
       "      <td>29/03/2016 00:00</td>\n",
       "      <td>0</td>\n",
       "      <td>49124</td>\n",
       "      <td>06/04/2016 08:45</td>\n",
       "    </tr>\n",
       "  </tbody>\n",
       "</table>\n",
       "</div>"
      ],
      "text/plain": [
       "            date_crawled  price vehicle_type  registration_year gearbox  \\\n",
       "83110   21/03/2016 13:58   5500        wagon               2006    auto   \n",
       "99873   20/03/2016 18:55   1700  convertible               2002    auto   \n",
       "20912   20/03/2016 10:39   4800        wagon               2002  manual   \n",
       "124634  27/03/2016 19:56   2500        wagon               2005  manual   \n",
       "178615  29/03/2016 02:57   2490        sedan               2004    auto   \n",
       "83602   06/03/2016 16:06  11999        coupe               2005    auto   \n",
       "121027  29/03/2016 21:53   1599          bus               2001  manual   \n",
       "251871  09/03/2016 21:53   2400        wagon               2002    auto   \n",
       "333792  22/03/2016 19:49   1120        sedan               1999  manual   \n",
       "242968  29/03/2016 21:49   1199        wagon               1996  manual   \n",
       "\n",
       "        power    model  mileage  registration_month fuel_type          brand  \\\n",
       "83110     140   passat   150000                  12  gasoline     volkswagen   \n",
       "99873      54   fortwo   150000                  11    petrol          smart   \n",
       "20912     150       a4   150000                   2    petrol           audi   \n",
       "124634    150  octavia   150000                   5    petrol          skoda   \n",
       "178615    131   mondeo     5000                   9  gasoline           ford   \n",
       "83602     306    other   150000                   3    petrol  mercedes_benz   \n",
       "121027    122     vito   150000                   0  gasoline  mercedes_benz   \n",
       "251871    166      NaN   150000                   6    petrol     alfa_romeo   \n",
       "333792     75     golf   150000                   8    petrol     volkswagen   \n",
       "242968    136    omega   150000                  11    petrol           opel   \n",
       "\n",
       "       not_repaired      date_created  number_of_pictures  postal_code  \\\n",
       "83110            no  21/03/2016 00:00                   0        24109   \n",
       "99873            no  20/03/2016 00:00                   0        21339   \n",
       "20912            no  20/03/2016 00:00                   0        78464   \n",
       "124634          NaN  27/03/2016 00:00                   0        16909   \n",
       "178615          yes  29/03/2016 00:00                   0        28277   \n",
       "83602            no  06/03/2016 00:00                   0        60489   \n",
       "121027           no  29/03/2016 00:00                   0         9131   \n",
       "251871           no  09/03/2016 00:00                   0        63065   \n",
       "333792           no  22/03/2016 00:00                   0        45139   \n",
       "242968           no  29/03/2016 00:00                   0        49124   \n",
       "\n",
       "               last_seen  \n",
       "83110   06/04/2016 09:46  \n",
       "99873   07/04/2016 02:45  \n",
       "20912   06/04/2016 06:17  \n",
       "124634  05/04/2016 18:16  \n",
       "178615  05/04/2016 17:46  \n",
       "83602   19/03/2016 22:48  \n",
       "121027  06/04/2016 09:17  \n",
       "251871  21/03/2016 06:45  \n",
       "333792  26/03/2016 21:47  \n",
       "242968  06/04/2016 08:45  "
      ]
     },
     "execution_count": 5,
     "metadata": {},
     "output_type": "execute_result"
    }
   ],
   "source": [
    "df.sample(10)"
   ]
  },
  {
   "cell_type": "code",
   "execution_count": 6,
   "metadata": {
    "trusted": false
   },
   "outputs": [
    {
     "name": "stdout",
     "output_type": "stream",
     "text": [
      "<class 'pandas.core.frame.DataFrame'>\n",
      "RangeIndex: 354369 entries, 0 to 354368\n",
      "Data columns (total 16 columns):\n",
      " #   Column              Non-Null Count   Dtype \n",
      "---  ------              --------------   ----- \n",
      " 0   date_crawled        354369 non-null  object\n",
      " 1   price               354369 non-null  int64 \n",
      " 2   vehicle_type        316879 non-null  object\n",
      " 3   registration_year   354369 non-null  int64 \n",
      " 4   gearbox             334536 non-null  object\n",
      " 5   power               354369 non-null  int64 \n",
      " 6   model               334664 non-null  object\n",
      " 7   mileage             354369 non-null  int64 \n",
      " 8   registration_month  354369 non-null  int64 \n",
      " 9   fuel_type           321474 non-null  object\n",
      " 10  brand               354369 non-null  object\n",
      " 11  not_repaired        283215 non-null  object\n",
      " 12  date_created        354369 non-null  object\n",
      " 13  number_of_pictures  354369 non-null  int64 \n",
      " 14  postal_code         354369 non-null  int64 \n",
      " 15  last_seen           354369 non-null  object\n",
      "dtypes: int64(7), object(9)\n",
      "memory usage: 43.3+ MB\n"
     ]
    }
   ],
   "source": [
    "df.info()"
   ]
  },
  {
   "cell_type": "code",
   "execution_count": 7,
   "metadata": {
    "trusted": false
   },
   "outputs": [
    {
     "data": {
      "text/html": [
       "<div>\n",
       "<style scoped>\n",
       "    .dataframe tbody tr th:only-of-type {\n",
       "        vertical-align: middle;\n",
       "    }\n",
       "\n",
       "    .dataframe tbody tr th {\n",
       "        vertical-align: top;\n",
       "    }\n",
       "\n",
       "    .dataframe thead th {\n",
       "        text-align: right;\n",
       "    }\n",
       "</style>\n",
       "<table border=\"1\" class=\"dataframe\">\n",
       "  <thead>\n",
       "    <tr style=\"text-align: right;\">\n",
       "      <th></th>\n",
       "      <th>price</th>\n",
       "      <th>vehicle_type</th>\n",
       "      <th>registration_year</th>\n",
       "      <th>gearbox</th>\n",
       "      <th>power</th>\n",
       "      <th>model</th>\n",
       "      <th>mileage</th>\n",
       "      <th>fuel_type</th>\n",
       "      <th>brand</th>\n",
       "      <th>not_repaired</th>\n",
       "    </tr>\n",
       "  </thead>\n",
       "  <tbody>\n",
       "    <tr>\n",
       "      <th>128374</th>\n",
       "      <td>699</td>\n",
       "      <td>sedan</td>\n",
       "      <td>2002</td>\n",
       "      <td>manual</td>\n",
       "      <td>82</td>\n",
       "      <td>colt</td>\n",
       "      <td>100000</td>\n",
       "      <td>petrol</td>\n",
       "      <td>mitsubishi</td>\n",
       "      <td>no</td>\n",
       "    </tr>\n",
       "    <tr>\n",
       "      <th>315002</th>\n",
       "      <td>6950</td>\n",
       "      <td>small</td>\n",
       "      <td>2009</td>\n",
       "      <td>manual</td>\n",
       "      <td>80</td>\n",
       "      <td>polo</td>\n",
       "      <td>70000</td>\n",
       "      <td>petrol</td>\n",
       "      <td>volkswagen</td>\n",
       "      <td>no</td>\n",
       "    </tr>\n",
       "    <tr>\n",
       "      <th>258901</th>\n",
       "      <td>4299</td>\n",
       "      <td>sedan</td>\n",
       "      <td>1999</td>\n",
       "      <td>manual</td>\n",
       "      <td>170</td>\n",
       "      <td>golf</td>\n",
       "      <td>150000</td>\n",
       "      <td>petrol</td>\n",
       "      <td>volkswagen</td>\n",
       "      <td>no</td>\n",
       "    </tr>\n",
       "    <tr>\n",
       "      <th>136264</th>\n",
       "      <td>4400</td>\n",
       "      <td>sedan</td>\n",
       "      <td>2004</td>\n",
       "      <td>manual</td>\n",
       "      <td>170</td>\n",
       "      <td>3er</td>\n",
       "      <td>150000</td>\n",
       "      <td>petrol</td>\n",
       "      <td>bmw</td>\n",
       "      <td>no</td>\n",
       "    </tr>\n",
       "    <tr>\n",
       "      <th>106929</th>\n",
       "      <td>14900</td>\n",
       "      <td>wagon</td>\n",
       "      <td>2011</td>\n",
       "      <td>manual</td>\n",
       "      <td>163</td>\n",
       "      <td>3er</td>\n",
       "      <td>125000</td>\n",
       "      <td>gasoline</td>\n",
       "      <td>bmw</td>\n",
       "      <td>no</td>\n",
       "    </tr>\n",
       "    <tr>\n",
       "      <th>169375</th>\n",
       "      <td>7450</td>\n",
       "      <td>bus</td>\n",
       "      <td>2007</td>\n",
       "      <td>manual</td>\n",
       "      <td>136</td>\n",
       "      <td>other</td>\n",
       "      <td>150000</td>\n",
       "      <td>gasoline</td>\n",
       "      <td>citroen</td>\n",
       "      <td>no</td>\n",
       "    </tr>\n",
       "    <tr>\n",
       "      <th>62112</th>\n",
       "      <td>580</td>\n",
       "      <td>small</td>\n",
       "      <td>1995</td>\n",
       "      <td>manual</td>\n",
       "      <td>0</td>\n",
       "      <td>micra</td>\n",
       "      <td>150000</td>\n",
       "      <td>petrol</td>\n",
       "      <td>nissan</td>\n",
       "      <td>NaN</td>\n",
       "    </tr>\n",
       "    <tr>\n",
       "      <th>189901</th>\n",
       "      <td>5800</td>\n",
       "      <td>sedan</td>\n",
       "      <td>2006</td>\n",
       "      <td>auto</td>\n",
       "      <td>190</td>\n",
       "      <td>e_klasse</td>\n",
       "      <td>150000</td>\n",
       "      <td>gasoline</td>\n",
       "      <td>mercedes_benz</td>\n",
       "      <td>no</td>\n",
       "    </tr>\n",
       "    <tr>\n",
       "      <th>167694</th>\n",
       "      <td>4999</td>\n",
       "      <td>sedan</td>\n",
       "      <td>2004</td>\n",
       "      <td>manual</td>\n",
       "      <td>102</td>\n",
       "      <td>octavia</td>\n",
       "      <td>125000</td>\n",
       "      <td>petrol</td>\n",
       "      <td>skoda</td>\n",
       "      <td>no</td>\n",
       "    </tr>\n",
       "    <tr>\n",
       "      <th>327148</th>\n",
       "      <td>4799</td>\n",
       "      <td>small</td>\n",
       "      <td>2005</td>\n",
       "      <td>manual</td>\n",
       "      <td>92</td>\n",
       "      <td>swift</td>\n",
       "      <td>100000</td>\n",
       "      <td>petrol</td>\n",
       "      <td>suzuki</td>\n",
       "      <td>no</td>\n",
       "    </tr>\n",
       "  </tbody>\n",
       "</table>\n",
       "</div>"
      ],
      "text/plain": [
       "        price vehicle_type  registration_year gearbox  power     model  \\\n",
       "128374    699        sedan               2002  manual     82      colt   \n",
       "315002   6950        small               2009  manual     80      polo   \n",
       "258901   4299        sedan               1999  manual    170      golf   \n",
       "136264   4400        sedan               2004  manual    170       3er   \n",
       "106929  14900        wagon               2011  manual    163       3er   \n",
       "169375   7450          bus               2007  manual    136     other   \n",
       "62112     580        small               1995  manual      0     micra   \n",
       "189901   5800        sedan               2006    auto    190  e_klasse   \n",
       "167694   4999        sedan               2004  manual    102   octavia   \n",
       "327148   4799        small               2005  manual     92     swift   \n",
       "\n",
       "        mileage fuel_type          brand not_repaired  \n",
       "128374   100000    petrol     mitsubishi           no  \n",
       "315002    70000    petrol     volkswagen           no  \n",
       "258901   150000    petrol     volkswagen           no  \n",
       "136264   150000    petrol            bmw           no  \n",
       "106929   125000  gasoline            bmw           no  \n",
       "169375   150000  gasoline        citroen           no  \n",
       "62112    150000    petrol         nissan          NaN  \n",
       "189901   150000  gasoline  mercedes_benz           no  \n",
       "167694   125000    petrol          skoda           no  \n",
       "327148   100000    petrol         suzuki           no  "
      ]
     },
     "execution_count": 7,
     "metadata": {},
     "output_type": "execute_result"
    }
   ],
   "source": [
    "# Dejando las columnas relevantes para el modelo\n",
    "df_relevant = df[[\"price\",\"vehicle_type\",\"registration_year\",\"gearbox\",\"power\",\"model\",\"mileage\",\n",
    "                 \"fuel_type\",\"brand\",\"not_repaired\"]]\n",
    "df_relevant.sample(10)"
   ]
  },
  {
   "cell_type": "code",
   "execution_count": 8,
   "metadata": {
    "trusted": false
   },
   "outputs": [
    {
     "name": "stdout",
     "output_type": "stream",
     "text": [
      "<class 'pandas.core.frame.DataFrame'>\n",
      "RangeIndex: 354369 entries, 0 to 354368\n",
      "Data columns (total 10 columns):\n",
      " #   Column             Non-Null Count   Dtype \n",
      "---  ------             --------------   ----- \n",
      " 0   price              354369 non-null  int64 \n",
      " 1   vehicle_type       316879 non-null  object\n",
      " 2   registration_year  354369 non-null  int64 \n",
      " 3   gearbox            334536 non-null  object\n",
      " 4   power              354369 non-null  int64 \n",
      " 5   model              334664 non-null  object\n",
      " 6   mileage            354369 non-null  int64 \n",
      " 7   fuel_type          321474 non-null  object\n",
      " 8   brand              354369 non-null  object\n",
      " 9   not_repaired       283215 non-null  object\n",
      "dtypes: int64(4), object(6)\n",
      "memory usage: 27.0+ MB\n"
     ]
    }
   ],
   "source": [
    "df_relevant.info()"
   ]
  },
  {
   "cell_type": "code",
   "execution_count": null,
   "metadata": {
    "trusted": false
   },
   "outputs": [
    {
     "data": {
      "text/plain": [
       "price                    0\n",
       "vehicle_type         37490\n",
       "registration_year        0\n",
       "gearbox              19833\n",
       "power                    0\n",
       "model                19705\n",
       "mileage                  0\n",
       "fuel_type            32895\n",
       "brand                    0\n",
       "not_repaired         71154\n",
       "dtype: int64"
      ]
     },
     "execution_count": 9,
     "metadata": {},
     "output_type": "execute_result"
    }
   ],
   "source": [
    "# Checar valores ausentes\n",
    "df_relevant.isna().sum()"
   ]
  },
  {
   "cell_type": "code",
   "execution_count": 10,
   "metadata": {
    "trusted": false
   },
   "outputs": [
    {
     "name": "stdout",
     "output_type": "stream",
     "text": [
      "10.57936783409384\n",
      "5.596708515699737\n",
      "5.560587974681758\n",
      "9.282696849893755\n",
      "20.079070121822166\n"
     ]
    }
   ],
   "source": [
    "# ESTOS VALORES AUSENTES SE VAN A LLENAR COMO UNKNOWN, PERO NO SE VAN A CONTEMPLAR PARA EL ML. \n",
    "# Porcentajes de valores ausentes\n",
    "print(37490/354369*100)\n",
    "print(19833/354369*100)\n",
    "print(19705/354369*100)\n",
    "print(32895/354369*100)\n",
    "print(71154/354369*100)"
   ]
  },
  {
   "cell_type": "code",
   "execution_count": 11,
   "metadata": {
    "scrolled": true,
    "trusted": false
   },
   "outputs": [
    {
     "data": {
      "text/html": [
       "<div>\n",
       "<style scoped>\n",
       "    .dataframe tbody tr th:only-of-type {\n",
       "        vertical-align: middle;\n",
       "    }\n",
       "\n",
       "    .dataframe tbody tr th {\n",
       "        vertical-align: top;\n",
       "    }\n",
       "\n",
       "    .dataframe thead th {\n",
       "        text-align: right;\n",
       "    }\n",
       "</style>\n",
       "<table border=\"1\" class=\"dataframe\">\n",
       "  <thead>\n",
       "    <tr style=\"text-align: right;\">\n",
       "      <th></th>\n",
       "      <th>price</th>\n",
       "      <th>registration_year</th>\n",
       "      <th>power</th>\n",
       "      <th>mileage</th>\n",
       "    </tr>\n",
       "  </thead>\n",
       "  <tbody>\n",
       "    <tr>\n",
       "      <th>count</th>\n",
       "      <td>354369.000000</td>\n",
       "      <td>354369.000000</td>\n",
       "      <td>354369.000000</td>\n",
       "      <td>354369.000000</td>\n",
       "    </tr>\n",
       "    <tr>\n",
       "      <th>mean</th>\n",
       "      <td>4416.656776</td>\n",
       "      <td>2004.234448</td>\n",
       "      <td>110.094337</td>\n",
       "      <td>128211.172535</td>\n",
       "    </tr>\n",
       "    <tr>\n",
       "      <th>std</th>\n",
       "      <td>4514.158514</td>\n",
       "      <td>90.227958</td>\n",
       "      <td>189.850405</td>\n",
       "      <td>37905.341530</td>\n",
       "    </tr>\n",
       "    <tr>\n",
       "      <th>min</th>\n",
       "      <td>0.000000</td>\n",
       "      <td>1000.000000</td>\n",
       "      <td>0.000000</td>\n",
       "      <td>5000.000000</td>\n",
       "    </tr>\n",
       "    <tr>\n",
       "      <th>25%</th>\n",
       "      <td>1050.000000</td>\n",
       "      <td>1999.000000</td>\n",
       "      <td>69.000000</td>\n",
       "      <td>125000.000000</td>\n",
       "    </tr>\n",
       "    <tr>\n",
       "      <th>50%</th>\n",
       "      <td>2700.000000</td>\n",
       "      <td>2003.000000</td>\n",
       "      <td>105.000000</td>\n",
       "      <td>150000.000000</td>\n",
       "    </tr>\n",
       "    <tr>\n",
       "      <th>75%</th>\n",
       "      <td>6400.000000</td>\n",
       "      <td>2008.000000</td>\n",
       "      <td>143.000000</td>\n",
       "      <td>150000.000000</td>\n",
       "    </tr>\n",
       "    <tr>\n",
       "      <th>max</th>\n",
       "      <td>20000.000000</td>\n",
       "      <td>9999.000000</td>\n",
       "      <td>20000.000000</td>\n",
       "      <td>150000.000000</td>\n",
       "    </tr>\n",
       "  </tbody>\n",
       "</table>\n",
       "</div>"
      ],
      "text/plain": [
       "               price  registration_year          power        mileage\n",
       "count  354369.000000      354369.000000  354369.000000  354369.000000\n",
       "mean     4416.656776        2004.234448     110.094337  128211.172535\n",
       "std      4514.158514          90.227958     189.850405   37905.341530\n",
       "min         0.000000        1000.000000       0.000000    5000.000000\n",
       "25%      1050.000000        1999.000000      69.000000  125000.000000\n",
       "50%      2700.000000        2003.000000     105.000000  150000.000000\n",
       "75%      6400.000000        2008.000000     143.000000  150000.000000\n",
       "max     20000.000000        9999.000000   20000.000000  150000.000000"
      ]
     },
     "execution_count": 11,
     "metadata": {},
     "output_type": "execute_result"
    }
   ],
   "source": [
    "# LAS COSAS ILOGICAS COMO PRICE EN 0, REGISTRATION EN 1000/9999, DEBEN ESTUDIARSE MAS Y VER ESAS FILAS EN ESPECIFICO. \n",
    "df_relevant.describe()"
   ]
  },
  {
   "cell_type": "code",
   "execution_count": 12,
   "metadata": {
    "trusted": false
   },
   "outputs": [
    {
     "data": {
      "text/html": [
       "<div>\n",
       "<style scoped>\n",
       "    .dataframe tbody tr th:only-of-type {\n",
       "        vertical-align: middle;\n",
       "    }\n",
       "\n",
       "    .dataframe tbody tr th {\n",
       "        vertical-align: top;\n",
       "    }\n",
       "\n",
       "    .dataframe thead th {\n",
       "        text-align: right;\n",
       "    }\n",
       "</style>\n",
       "<table border=\"1\" class=\"dataframe\">\n",
       "  <thead>\n",
       "    <tr style=\"text-align: right;\">\n",
       "      <th></th>\n",
       "      <th>price</th>\n",
       "      <th>vehicle_type</th>\n",
       "      <th>registration_year</th>\n",
       "      <th>gearbox</th>\n",
       "      <th>power</th>\n",
       "      <th>model</th>\n",
       "      <th>mileage</th>\n",
       "      <th>fuel_type</th>\n",
       "      <th>brand</th>\n",
       "      <th>not_repaired</th>\n",
       "    </tr>\n",
       "  </thead>\n",
       "  <tbody>\n",
       "    <tr>\n",
       "      <th>7</th>\n",
       "      <td>0</td>\n",
       "      <td>sedan</td>\n",
       "      <td>1980</td>\n",
       "      <td>manual</td>\n",
       "      <td>50</td>\n",
       "      <td>other</td>\n",
       "      <td>40000</td>\n",
       "      <td>petrol</td>\n",
       "      <td>volkswagen</td>\n",
       "      <td>no</td>\n",
       "    </tr>\n",
       "    <tr>\n",
       "      <th>40</th>\n",
       "      <td>0</td>\n",
       "      <td>NaN</td>\n",
       "      <td>1990</td>\n",
       "      <td>NaN</td>\n",
       "      <td>0</td>\n",
       "      <td>corsa</td>\n",
       "      <td>150000</td>\n",
       "      <td>petrol</td>\n",
       "      <td>opel</td>\n",
       "      <td>NaN</td>\n",
       "    </tr>\n",
       "    <tr>\n",
       "      <th>111</th>\n",
       "      <td>0</td>\n",
       "      <td>NaN</td>\n",
       "      <td>2017</td>\n",
       "      <td>manual</td>\n",
       "      <td>0</td>\n",
       "      <td>golf</td>\n",
       "      <td>5000</td>\n",
       "      <td>petrol</td>\n",
       "      <td>volkswagen</td>\n",
       "      <td>NaN</td>\n",
       "    </tr>\n",
       "    <tr>\n",
       "      <th>115</th>\n",
       "      <td>0</td>\n",
       "      <td>small</td>\n",
       "      <td>1999</td>\n",
       "      <td>NaN</td>\n",
       "      <td>0</td>\n",
       "      <td>NaN</td>\n",
       "      <td>5000</td>\n",
       "      <td>petrol</td>\n",
       "      <td>volkswagen</td>\n",
       "      <td>NaN</td>\n",
       "    </tr>\n",
       "    <tr>\n",
       "      <th>152</th>\n",
       "      <td>0</td>\n",
       "      <td>bus</td>\n",
       "      <td>2004</td>\n",
       "      <td>manual</td>\n",
       "      <td>101</td>\n",
       "      <td>meriva</td>\n",
       "      <td>150000</td>\n",
       "      <td>lpg</td>\n",
       "      <td>opel</td>\n",
       "      <td>yes</td>\n",
       "    </tr>\n",
       "    <tr>\n",
       "      <th>...</th>\n",
       "      <td>...</td>\n",
       "      <td>...</td>\n",
       "      <td>...</td>\n",
       "      <td>...</td>\n",
       "      <td>...</td>\n",
       "      <td>...</td>\n",
       "      <td>...</td>\n",
       "      <td>...</td>\n",
       "      <td>...</td>\n",
       "      <td>...</td>\n",
       "    </tr>\n",
       "    <tr>\n",
       "      <th>354205</th>\n",
       "      <td>0</td>\n",
       "      <td>NaN</td>\n",
       "      <td>2000</td>\n",
       "      <td>manual</td>\n",
       "      <td>65</td>\n",
       "      <td>corsa</td>\n",
       "      <td>150000</td>\n",
       "      <td>NaN</td>\n",
       "      <td>opel</td>\n",
       "      <td>yes</td>\n",
       "    </tr>\n",
       "    <tr>\n",
       "      <th>354238</th>\n",
       "      <td>0</td>\n",
       "      <td>small</td>\n",
       "      <td>2002</td>\n",
       "      <td>manual</td>\n",
       "      <td>60</td>\n",
       "      <td>fiesta</td>\n",
       "      <td>150000</td>\n",
       "      <td>petrol</td>\n",
       "      <td>ford</td>\n",
       "      <td>NaN</td>\n",
       "    </tr>\n",
       "    <tr>\n",
       "      <th>354248</th>\n",
       "      <td>0</td>\n",
       "      <td>small</td>\n",
       "      <td>1999</td>\n",
       "      <td>manual</td>\n",
       "      <td>53</td>\n",
       "      <td>swift</td>\n",
       "      <td>150000</td>\n",
       "      <td>petrol</td>\n",
       "      <td>suzuki</td>\n",
       "      <td>NaN</td>\n",
       "    </tr>\n",
       "    <tr>\n",
       "      <th>354277</th>\n",
       "      <td>0</td>\n",
       "      <td>small</td>\n",
       "      <td>1999</td>\n",
       "      <td>manual</td>\n",
       "      <td>37</td>\n",
       "      <td>arosa</td>\n",
       "      <td>150000</td>\n",
       "      <td>petrol</td>\n",
       "      <td>seat</td>\n",
       "      <td>yes</td>\n",
       "    </tr>\n",
       "    <tr>\n",
       "      <th>354364</th>\n",
       "      <td>0</td>\n",
       "      <td>NaN</td>\n",
       "      <td>2005</td>\n",
       "      <td>manual</td>\n",
       "      <td>0</td>\n",
       "      <td>colt</td>\n",
       "      <td>150000</td>\n",
       "      <td>petrol</td>\n",
       "      <td>mitsubishi</td>\n",
       "      <td>yes</td>\n",
       "    </tr>\n",
       "  </tbody>\n",
       "</table>\n",
       "<p>10772 rows × 10 columns</p>\n",
       "</div>"
      ],
      "text/plain": [
       "        price vehicle_type  registration_year gearbox  power   model  mileage  \\\n",
       "7           0        sedan               1980  manual     50   other    40000   \n",
       "40          0          NaN               1990     NaN      0   corsa   150000   \n",
       "111         0          NaN               2017  manual      0    golf     5000   \n",
       "115         0        small               1999     NaN      0     NaN     5000   \n",
       "152         0          bus               2004  manual    101  meriva   150000   \n",
       "...       ...          ...                ...     ...    ...     ...      ...   \n",
       "354205      0          NaN               2000  manual     65   corsa   150000   \n",
       "354238      0        small               2002  manual     60  fiesta   150000   \n",
       "354248      0        small               1999  manual     53   swift   150000   \n",
       "354277      0        small               1999  manual     37   arosa   150000   \n",
       "354364      0          NaN               2005  manual      0    colt   150000   \n",
       "\n",
       "       fuel_type       brand not_repaired  \n",
       "7         petrol  volkswagen           no  \n",
       "40        petrol        opel          NaN  \n",
       "111       petrol  volkswagen          NaN  \n",
       "115       petrol  volkswagen          NaN  \n",
       "152          lpg        opel          yes  \n",
       "...          ...         ...          ...  \n",
       "354205       NaN        opel          yes  \n",
       "354238    petrol        ford          NaN  \n",
       "354248    petrol      suzuki          NaN  \n",
       "354277    petrol        seat          yes  \n",
       "354364    petrol  mitsubishi          yes  \n",
       "\n",
       "[10772 rows x 10 columns]"
      ]
     },
     "execution_count": 12,
     "metadata": {},
     "output_type": "execute_result"
    }
   ],
   "source": [
    "# Filas donde price = 0\n",
    "df_relevant[df_relevant['price']==0]"
   ]
  },
  {
   "cell_type": "code",
   "execution_count": 13,
   "metadata": {
    "trusted": false
   },
   "outputs": [
    {
     "data": {
      "image/png": "[encoded data removed]",
      "text/plain": [
       "<Figure size 1000x600 with 1 Axes>"
      ]
     },
     "metadata": {},
     "output_type": "display_data"
    }
   ],
   "source": [
    "# Distribución de la variable price\n",
    "plt.figure(figsize=(10, 6))\n",
    "sns.boxplot(x = df_relevant['price'])  \n",
    "plt.title('Distribución de precios de vehículos')\n",
    "plt.xlabel('Precio')\n",
    "plt.ylabel('Frecuencia')\n",
    "plt.grid(True)\n",
    "plt.show()"
   ]
  },
  {
   "cell_type": "code",
   "execution_count": 14,
   "metadata": {
    "trusted": false
   },
   "outputs": [
    {
     "data": {
      "text/plain": [
       "0     10772\n",
       "1      1189\n",
       "2        12\n",
       "3         8\n",
       "4         1\n",
       "5        26\n",
       "7         3\n",
       "8         9\n",
       "9         8\n",
       "10       84\n",
       "11        5\n",
       "12        8\n",
       "13        7\n",
       "14        5\n",
       "15       27\n",
       "16        2\n",
       "17        5\n",
       "18        3\n",
       "19        3\n",
       "20       51\n",
       "Name: price, dtype: int64"
      ]
     },
     "execution_count": 14,
     "metadata": {},
     "output_type": "execute_result"
    }
   ],
   "source": [
    "df_relevant['price'].value_counts().sort_index().head(20)"
   ]
  },
  {
   "cell_type": "code",
   "execution_count": 15,
   "metadata": {
    "trusted": false
   },
   "outputs": [
    {
     "data": {
      "image/png": "[encoded data removed]",
      "text/plain": [
       "<Figure size 1000x600 with 1 Axes>"
      ]
     },
     "metadata": {},
     "output_type": "display_data"
    }
   ],
   "source": [
    "# Distribución de la variable registration_year\n",
    "plt.figure(figsize=(10, 6))\n",
    "sns.boxplot(x = df_relevant['registration_year'])  \n",
    "plt.title('Distribución de año de registro')\n",
    "plt.xlabel('Año de registro')\n",
    "plt.ylabel('Frecuencia')\n",
    "plt.grid(True)\n",
    "plt.show()"
   ]
  },
  {
   "cell_type": "code",
   "execution_count": null,
   "metadata": {
    "trusted": false
   },
   "outputs": [
    {
     "data": {
      "text/plain": [
       "1000     37\n",
       "1001      1\n",
       "1039      1\n",
       "1111      3\n",
       "1200      1\n",
       "1234      4\n",
       "1253      1\n",
       "1255      1\n",
       "1300      2\n",
       "1400      1\n",
       "1500      5\n",
       "1600      2\n",
       "1602      1\n",
       "1688      1\n",
       "1800      5\n",
       "1910    101\n",
       "1915      1\n",
       "1919      1\n",
       "1920      1\n",
       "1923      2\n",
       "1925      1\n",
       "1927      1\n",
       "1928      2\n",
       "1929      7\n",
       "1930      3\n",
       "1931      1\n",
       "1932      3\n",
       "1933      3\n",
       "1934      3\n",
       "1935      4\n",
       "1936      3\n",
       "1937     11\n",
       "1938      8\n",
       "1940      2\n",
       "1941      2\n",
       "1942      3\n",
       "1943      4\n",
       "1944      2\n",
       "1945      4\n",
       "1946      1\n",
       "Name: registration_year, dtype: int64"
      ]
     },
     "execution_count": 16,
     "metadata": {},
     "output_type": "execute_result"
    }
   ],
   "source": [
    "# Carros más antiguos\n",
    "df_relevant['registration_year'].value_counts().sort_index().head(40)"
   ]
  },
  {
   "cell_type": "code",
   "execution_count": null,
   "metadata": {
    "trusted": false
   },
   "outputs": [
    {
     "data": {
      "text/plain": [
       "2018    3959\n",
       "2019      25\n",
       "2066       1\n",
       "2200       1\n",
       "2222       2\n",
       "2290       1\n",
       "2500       4\n",
       "2800       2\n",
       "2900       1\n",
       "3000       7\n",
       "3200       1\n",
       "3500       1\n",
       "3700       1\n",
       "3800       1\n",
       "4000       3\n",
       "4100       1\n",
       "4500       2\n",
       "4800       1\n",
       "5000      17\n",
       "5300       1\n",
       "5555       2\n",
       "5600       1\n",
       "5900       1\n",
       "5911       2\n",
       "6000       5\n",
       "6500       1\n",
       "7000       4\n",
       "7100       1\n",
       "7500       1\n",
       "7800       1\n",
       "8000       2\n",
       "8200       1\n",
       "8455       1\n",
       "8500       1\n",
       "8888       1\n",
       "9000       3\n",
       "9229       1\n",
       "9450       1\n",
       "9996       1\n",
       "9999      26\n",
       "Name: registration_year, dtype: int64"
      ]
     },
     "execution_count": 17,
     "metadata": {},
     "output_type": "execute_result"
    }
   ],
   "source": [
    "# Carros más nuevos\n",
    "df_relevant['registration_year'].value_counts().sort_index().tail(40)"
   ]
  },
  {
   "cell_type": "code",
   "execution_count": 18,
   "metadata": {
    "trusted": false
   },
   "outputs": [
    {
     "data": {
      "image/png": "[encoded data removed]",
      "text/plain": [
       "<Figure size 1000x600 with 1 Axes>"
      ]
     },
     "metadata": {},
     "output_type": "display_data"
    }
   ],
   "source": [
    "# Distribución de la variable power\n",
    "plt.figure(figsize=(10, 6))\n",
    "sns.boxplot(x = df_relevant['power'])  \n",
    "plt.title('Distribución del power')\n",
    "plt.xlabel('Power')\n",
    "plt.ylabel('Frecuencia')\n",
    "plt.grid(True)\n",
    "plt.show()"
   ]
  },
  {
   "cell_type": "code",
   "execution_count": 19,
   "metadata": {
    "trusted": false
   },
   "outputs": [
    {
     "data": {
      "text/plain": [
       "0     40225\n",
       "1        34\n",
       "2        10\n",
       "3         9\n",
       "4        30\n",
       "5       103\n",
       "6        11\n",
       "7        11\n",
       "8         7\n",
       "9         5\n",
       "10       15\n",
       "11       28\n",
       "12       22\n",
       "13        8\n",
       "14       20\n",
       "15       20\n",
       "16       11\n",
       "17        8\n",
       "18       51\n",
       "19       14\n",
       "Name: power, dtype: int64"
      ]
     },
     "execution_count": 19,
     "metadata": {},
     "output_type": "execute_result"
    }
   ],
   "source": [
    "df_relevant['power'].value_counts().sort_index().head(20)"
   ]
  },
  {
   "cell_type": "code",
   "execution_count": 20,
   "metadata": {
    "scrolled": true,
    "trusted": false
   },
   "outputs": [
    {
     "data": {
      "text/plain": [
       "13636    1\n",
       "14009    1\n",
       "15001    1\n",
       "15016    1\n",
       "15017    1\n",
       "15020    1\n",
       "15033    1\n",
       "16011    1\n",
       "16051    1\n",
       "16311    1\n",
       "16312    1\n",
       "17011    1\n",
       "17019    1\n",
       "17410    1\n",
       "17700    1\n",
       "17932    1\n",
       "19208    1\n",
       "19211    1\n",
       "19312    1\n",
       "20000    1\n",
       "Name: power, dtype: int64"
      ]
     },
     "execution_count": 20,
     "metadata": {},
     "output_type": "execute_result"
    }
   ],
   "source": [
    "df_relevant['power'].value_counts().sort_index().tail(20)"
   ]
  },
  {
   "cell_type": "code",
   "execution_count": 21,
   "metadata": {
    "trusted": false
   },
   "outputs": [
    {
     "name": "stdout",
     "output_type": "stream",
     "text": [
      "Percentil 2: 0.0\n",
      "Percentil 4: 0.0\n",
      "Percentil 6: 0.0\n",
      "Percentil 8: 0.0\n",
      "Percentil 10: 0.0\n",
      "Percentil 12: 43.0\n",
      "Percentil 14: 50.0\n",
      "Percentil 16: 54.0\n",
      "Percentil 18: 60.0\n",
      "Percentil 20: 60.0\n",
      "Percentil 22: 60.0\n",
      "Percentil 24: 66.0\n",
      "Percentil 26: 70.0\n",
      "Percentil 28: 75.0\n",
      "Percentil 30: 75.0\n",
      "Percentil 32: 75.0\n",
      "Percentil 34: 77.0\n",
      "Percentil 36: 82.0\n",
      "Percentil 38: 88.0\n",
      "Percentil 40: 90.0\n",
      "Percentil 42: 94.0\n",
      "Percentil 44: 101.0\n",
      "Percentil 46: 101.0\n",
      "Percentil 48: 102.0\n",
      "Percentil 50: 105.0\n",
      "Percentil 52: 105.0\n",
      "Percentil 54: 109.0\n",
      "Percentil 56: 110.0\n",
      "Percentil 58: 116.0\n",
      "Percentil 60: 116.0\n",
      "Percentil 62: 120.0\n",
      "Percentil 64: 122.0\n",
      "Percentil 66: 125.0\n",
      "Percentil 68: 131.0\n",
      "Percentil 70: 136.0\n",
      "Percentil 72: 140.0\n",
      "Percentil 74: 140.0\n",
      "Percentil 76: 143.0\n",
      "Percentil 78: 150.0\n",
      "Percentil 80: 150.0\n",
      "Percentil 82: 156.0\n",
      "Percentil 84: 163.0\n",
      "Percentil 86: 170.0\n",
      "Percentil 88: 174.0\n",
      "Percentil 90: 179.0\n",
      "Percentil 92: 193.0\n",
      "Percentil 94: 204.0\n",
      "Percentil 96: 224.0\n",
      "Percentil 98: 258.0\n",
      "Percentil 100: 20000.0\n"
     ]
    }
   ],
   "source": [
    "# Cálculo de los percentiles columna power\n",
    "percentiles = np.percentile(df_relevant['power'].dropna(), np.arange(2, 101, 2))\n",
    "for p, value in zip(range(2, 101, 2), percentiles):\n",
    "    print(f\"Percentil {p}: {value}\")"
   ]
  },
  {
   "cell_type": "markdown",
   "metadata": {},
   "source": [
    "### Filtrado del DF columna Power ###"
   ]
  },
  {
   "cell_type": "markdown",
   "metadata": {},
   "source": [
    "Primero se va a filtrar en función de la variable Power (CV), que es la potencia del motor de los carros. Primero, me percaté de que había valores en 0, lo cual no tiene sentido pues el carro debe tener potencia. Después, se imprimieron los valores de los percentiles de 2 en 2 y se determinó lo siguiente: se van a usar los valores del percentil 12 en adelante, que es donde dejan de aparecer carros con potencia 0. También, se van a eliminar los valores de los percentiles 98 en adelante, pues hay un outlier que es un erorr, marca potencia de 20,000 en el percentil 100 a pesar de que el percentil 98 tiene 258 cv, lo cual no tiene sentido. "
   ]
  },
  {
   "cell_type": "code",
   "execution_count": 22,
   "metadata": {
    "trusted": false
   },
   "outputs": [
    {
     "name": "stdout",
     "output_type": "stream",
     "text": [
      "Tamaño original: (354369, 10)\n",
      "Tamaño filtrado: (304912, 10)\n"
     ]
    }
   ],
   "source": [
    "# Calcular percentiles 12 y 98\n",
    "p12 = np.percentile(df_relevant['power'].dropna(), 12)\n",
    "p98 = np.percentile(df_relevant['power'].dropna(), 98)\n",
    "\n",
    "# Filtrar el DataFrame usando esos percentiles\n",
    "df_filtered = df_relevant[(df_relevant['power'] >= p12) & (df_relevant['power'] <= p98)]\n",
    "\n",
    "# Verificar tamaño original y nuevo\n",
    "print(f\"Tamaño original: {df_relevant.shape}\")\n",
    "print(f\"Tamaño filtrado: {df_filtered.shape}\")"
   ]
  },
  {
   "cell_type": "code",
   "execution_count": 23,
   "metadata": {
    "trusted": false
   },
   "outputs": [
    {
     "data": {
      "text/html": [
       "<div>\n",
       "<style scoped>\n",
       "    .dataframe tbody tr th:only-of-type {\n",
       "        vertical-align: middle;\n",
       "    }\n",
       "\n",
       "    .dataframe tbody tr th {\n",
       "        vertical-align: top;\n",
       "    }\n",
       "\n",
       "    .dataframe thead th {\n",
       "        text-align: right;\n",
       "    }\n",
       "</style>\n",
       "<table border=\"1\" class=\"dataframe\">\n",
       "  <thead>\n",
       "    <tr style=\"text-align: right;\">\n",
       "      <th></th>\n",
       "      <th>price</th>\n",
       "      <th>registration_year</th>\n",
       "      <th>power</th>\n",
       "      <th>mileage</th>\n",
       "    </tr>\n",
       "  </thead>\n",
       "  <tbody>\n",
       "    <tr>\n",
       "      <th>count</th>\n",
       "      <td>304912.000000</td>\n",
       "      <td>304912.000000</td>\n",
       "      <td>304912.000000</td>\n",
       "      <td>304912.000000</td>\n",
       "    </tr>\n",
       "    <tr>\n",
       "      <th>mean</th>\n",
       "      <td>4584.190927</td>\n",
       "      <td>2003.551543</td>\n",
       "      <td>116.664179</td>\n",
       "      <td>128654.562628</td>\n",
       "    </tr>\n",
       "    <tr>\n",
       "      <th>std</th>\n",
       "      <td>4477.533047</td>\n",
       "      <td>34.276767</td>\n",
       "      <td>45.564315</td>\n",
       "      <td>36622.570560</td>\n",
       "    </tr>\n",
       "    <tr>\n",
       "      <th>min</th>\n",
       "      <td>0.000000</td>\n",
       "      <td>1000.000000</td>\n",
       "      <td>43.000000</td>\n",
       "      <td>5000.000000</td>\n",
       "    </tr>\n",
       "    <tr>\n",
       "      <th>25%</th>\n",
       "      <td>1200.000000</td>\n",
       "      <td>1999.000000</td>\n",
       "      <td>75.000000</td>\n",
       "      <td>125000.000000</td>\n",
       "    </tr>\n",
       "    <tr>\n",
       "      <th>50%</th>\n",
       "      <td>2970.000000</td>\n",
       "      <td>2003.000000</td>\n",
       "      <td>110.000000</td>\n",
       "      <td>150000.000000</td>\n",
       "    </tr>\n",
       "    <tr>\n",
       "      <th>75%</th>\n",
       "      <td>6600.000000</td>\n",
       "      <td>2008.000000</td>\n",
       "      <td>144.000000</td>\n",
       "      <td>150000.000000</td>\n",
       "    </tr>\n",
       "    <tr>\n",
       "      <th>max</th>\n",
       "      <td>20000.000000</td>\n",
       "      <td>9999.000000</td>\n",
       "      <td>258.000000</td>\n",
       "      <td>150000.000000</td>\n",
       "    </tr>\n",
       "  </tbody>\n",
       "</table>\n",
       "</div>"
      ],
      "text/plain": [
       "               price  registration_year          power        mileage\n",
       "count  304912.000000      304912.000000  304912.000000  304912.000000\n",
       "mean     4584.190927        2003.551543     116.664179  128654.562628\n",
       "std      4477.533047          34.276767      45.564315   36622.570560\n",
       "min         0.000000        1000.000000      43.000000    5000.000000\n",
       "25%      1200.000000        1999.000000      75.000000  125000.000000\n",
       "50%      2970.000000        2003.000000     110.000000  150000.000000\n",
       "75%      6600.000000        2008.000000     144.000000  150000.000000\n",
       "max     20000.000000        9999.000000     258.000000  150000.000000"
      ]
     },
     "execution_count": 23,
     "metadata": {},
     "output_type": "execute_result"
    }
   ],
   "source": [
    "# Revisión de describe con el nuevo DF\n",
    "df_filtered.describe()"
   ]
  },
  {
   "cell_type": "markdown",
   "metadata": {},
   "source": [
    "### Filtrado del DF columna registration_year ###"
   ]
  },
  {
   "cell_type": "code",
   "execution_count": 24,
   "metadata": {
    "trusted": false
   },
   "outputs": [
    {
     "name": "stdout",
     "output_type": "stream",
     "text": [
      "Percentil 2: 1989.0\n",
      "Percentil 4: 1992.0\n",
      "Percentil 6: 1994.0\n",
      "Percentil 8: 1995.0\n",
      "Percentil 10: 1996.0\n",
      "Percentil 12: 1996.0\n",
      "Percentil 14: 1997.0\n",
      "Percentil 16: 1997.0\n",
      "Percentil 18: 1998.0\n",
      "Percentil 20: 1998.0\n",
      "Percentil 22: 1999.0\n",
      "Percentil 24: 1999.0\n",
      "Percentil 26: 1999.0\n",
      "Percentil 28: 2000.0\n",
      "Percentil 30: 2000.0\n",
      "Percentil 32: 2000.0\n",
      "Percentil 34: 2000.0\n",
      "Percentil 36: 2001.0\n",
      "Percentil 38: 2001.0\n",
      "Percentil 40: 2002.0\n",
      "Percentil 42: 2002.0\n",
      "Percentil 44: 2002.0\n",
      "Percentil 46: 2003.0\n",
      "Percentil 48: 2003.0\n",
      "Percentil 50: 2003.0\n",
      "Percentil 52: 2004.0\n",
      "Percentil 54: 2004.0\n",
      "Percentil 56: 2004.0\n",
      "Percentil 58: 2005.0\n",
      "Percentil 60: 2005.0\n",
      "Percentil 62: 2005.0\n",
      "Percentil 64: 2006.0\n",
      "Percentil 66: 2006.0\n",
      "Percentil 68: 2006.0\n",
      "Percentil 70: 2007.0\n",
      "Percentil 72: 2007.0\n",
      "Percentil 74: 2007.0\n",
      "Percentil 76: 2008.0\n",
      "Percentil 78: 2008.0\n",
      "Percentil 80: 2009.0\n",
      "Percentil 82: 2009.0\n",
      "Percentil 84: 2010.0\n",
      "Percentil 86: 2010.0\n",
      "Percentil 88: 2011.0\n",
      "Percentil 90: 2012.0\n",
      "Percentil 92: 2013.0\n",
      "Percentil 94: 2014.0\n",
      "Percentil 96: 2016.0\n",
      "Percentil 98: 2017.0\n",
      "Percentil 100: 9999.0\n"
     ]
    }
   ],
   "source": [
    "# Cálculo de los percentiles columna registration_year\n",
    "percentiles_year = np.percentile(df_filtered['registration_year'].dropna(), np.arange(2, 101, 2))\n",
    "for p, value in zip(range(2, 101, 2), percentiles_year):\n",
    "    print(f\"Percentil {p}: {value}\")"
   ]
  },
  {
   "cell_type": "code",
   "execution_count": 25,
   "metadata": {
    "trusted": false
   },
   "outputs": [
    {
     "name": "stdout",
     "output_type": "stream",
     "text": [
      "1967.0\n",
      "2018.0\n"
     ]
    }
   ],
   "source": [
    "percentil_1 = np.percentile(df_filtered['registration_year'].dropna(),0.1)\n",
    "percentil_99 = np.percentile(df_filtered['registration_year'].dropna(),99.9)\n",
    "print(percentil_1)\n",
    "print(percentil_99)"
   ]
  },
  {
   "cell_type": "code",
   "execution_count": null,
   "metadata": {
    "trusted": false
   },
   "outputs": [
    {
     "data": {
      "text/plain": [
       "1000      3\n",
       "1500      1\n",
       "1910      7\n",
       "1930      1\n",
       "1935      1\n",
       "1937      2\n",
       "1941      1\n",
       "1942      2\n",
       "1943      3\n",
       "1945      2\n",
       "1947      1\n",
       "1948      1\n",
       "1949      1\n",
       "1950      5\n",
       "1951      7\n",
       "1952      2\n",
       "1953      6\n",
       "1954      6\n",
       "1955      6\n",
       "1956      8\n",
       "1957      5\n",
       "1958      9\n",
       "1959     11\n",
       "1960     32\n",
       "1961     16\n",
       "1962     14\n",
       "1963     28\n",
       "1964     28\n",
       "1965     33\n",
       "1966     60\n",
       "1967     45\n",
       "1968     56\n",
       "1969     67\n",
       "1970    107\n",
       "1971    105\n",
       "1972    139\n",
       "1973    109\n",
       "1974    109\n",
       "1975     92\n",
       "1976    113\n",
       "Name: registration_year, dtype: int64"
      ]
     },
     "execution_count": 26,
     "metadata": {},
     "output_type": "execute_result"
    }
   ],
   "source": [
    "# Años más antiguos\n",
    "df_filtered['registration_year'].value_counts().sort_index().head(40)"
   ]
  },
  {
   "cell_type": "code",
   "execution_count": null,
   "metadata": {
    "trusted": false
   },
   "outputs": [
    {
     "data": {
      "text/plain": [
       "1992     2603\n",
       "1993     2937\n",
       "1994     4163\n",
       "1995     7466\n",
       "1996     9338\n",
       "1997    12771\n",
       "1998    15467\n",
       "1999    19719\n",
       "2000    18908\n",
       "2001    17805\n",
       "2002    17021\n",
       "2003    17631\n",
       "2004    17492\n",
       "2005    18393\n",
       "2006    18031\n",
       "2007    15576\n",
       "2008    14104\n",
       "2009    13674\n",
       "2010    10254\n",
       "2011     9484\n",
       "2012     6905\n",
       "2013     3971\n",
       "2014     2397\n",
       "2015     1061\n",
       "2016     6640\n",
       "2017     7589\n",
       "2018     2908\n",
       "2019       10\n",
       "2800        1\n",
       "2900        1\n",
       "3500        1\n",
       "4500        1\n",
       "5000        5\n",
       "5911        2\n",
       "6000        3\n",
       "6500        1\n",
       "8000        1\n",
       "8200        1\n",
       "9000        1\n",
       "9999        1\n",
       "Name: registration_year, dtype: int64"
      ]
     },
     "execution_count": 27,
     "metadata": {},
     "output_type": "execute_result"
    }
   ],
   "source": [
    "# Años más recientes\n",
    "df_filtered['registration_year'].value_counts().sort_index().tail(40)"
   ]
  },
  {
   "cell_type": "markdown",
   "metadata": {},
   "source": [
    "Después de revisar detenidamente los percentiles, valores mínimos y máximos, decidí seleccionar el rango de años de 1950 a 2019. Con esto estoy considerando la eliminación de menos del percentil 1 para el primer valor y más del percentil 99 para el segundo valor. Después del 2019, el siguiente valor es 2800, por eso se eligió el 2019, pues es el último valor factible. Todo esto se hizo obviamente sobre el nuevo DF, después de haberse aplicado el filtro a la columna Power."
   ]
  },
  {
   "cell_type": "code",
   "execution_count": 28,
   "metadata": {
    "trusted": false
   },
   "outputs": [
    {
     "name": "stdout",
     "output_type": "stream",
     "text": [
      "Tamaño antes del filtrado: (304912, 10)\n",
      "Tamaño después del filtrado por año: (304867, 10)\n"
     ]
    }
   ],
   "source": [
    "# Definir los límites razonables\n",
    "año_min = 1950\n",
    "año_max = 2019\n",
    "\n",
    "# Filtrar el DataFrame con esos límites\n",
    "df_filtered_2 = df_filtered[(df_filtered['registration_year'] >= año_min) & \n",
    "                          (df_filtered['registration_year'] <= año_max)]\n",
    "\n",
    "# Verificar cuántos datos quedaron\n",
    "print(f\"Tamaño antes del filtrado: {df_filtered.shape}\")\n",
    "print(f\"Tamaño después del filtrado por año: {df_filtered_2.shape}\")"
   ]
  },
  {
   "cell_type": "code",
   "execution_count": 29,
   "metadata": {
    "trusted": false
   },
   "outputs": [
    {
     "data": {
      "text/html": [
       "<div>\n",
       "<style scoped>\n",
       "    .dataframe tbody tr th:only-of-type {\n",
       "        vertical-align: middle;\n",
       "    }\n",
       "\n",
       "    .dataframe tbody tr th {\n",
       "        vertical-align: top;\n",
       "    }\n",
       "\n",
       "    .dataframe thead th {\n",
       "        text-align: right;\n",
       "    }\n",
       "</style>\n",
       "<table border=\"1\" class=\"dataframe\">\n",
       "  <thead>\n",
       "    <tr style=\"text-align: right;\">\n",
       "      <th></th>\n",
       "      <th>price</th>\n",
       "      <th>registration_year</th>\n",
       "      <th>power</th>\n",
       "      <th>mileage</th>\n",
       "    </tr>\n",
       "  </thead>\n",
       "  <tbody>\n",
       "    <tr>\n",
       "      <th>count</th>\n",
       "      <td>304867.000000</td>\n",
       "      <td>304867.000000</td>\n",
       "      <td>304867.000000</td>\n",
       "      <td>304867.000000</td>\n",
       "    </tr>\n",
       "    <tr>\n",
       "      <th>mean</th>\n",
       "      <td>4583.943575</td>\n",
       "      <td>2003.331584</td>\n",
       "      <td>116.665743</td>\n",
       "      <td>128667.304103</td>\n",
       "    </tr>\n",
       "    <tr>\n",
       "      <th>std</th>\n",
       "      <td>4477.247298</td>\n",
       "      <td>6.807317</td>\n",
       "      <td>45.563687</td>\n",
       "      <td>36604.080145</td>\n",
       "    </tr>\n",
       "    <tr>\n",
       "      <th>min</th>\n",
       "      <td>0.000000</td>\n",
       "      <td>1950.000000</td>\n",
       "      <td>43.000000</td>\n",
       "      <td>5000.000000</td>\n",
       "    </tr>\n",
       "    <tr>\n",
       "      <th>25%</th>\n",
       "      <td>1200.000000</td>\n",
       "      <td>1999.000000</td>\n",
       "      <td>75.000000</td>\n",
       "      <td>125000.000000</td>\n",
       "    </tr>\n",
       "    <tr>\n",
       "      <th>50%</th>\n",
       "      <td>2968.000000</td>\n",
       "      <td>2003.000000</td>\n",
       "      <td>110.000000</td>\n",
       "      <td>150000.000000</td>\n",
       "    </tr>\n",
       "    <tr>\n",
       "      <th>75%</th>\n",
       "      <td>6600.000000</td>\n",
       "      <td>2008.000000</td>\n",
       "      <td>144.000000</td>\n",
       "      <td>150000.000000</td>\n",
       "    </tr>\n",
       "    <tr>\n",
       "      <th>max</th>\n",
       "      <td>20000.000000</td>\n",
       "      <td>2019.000000</td>\n",
       "      <td>258.000000</td>\n",
       "      <td>150000.000000</td>\n",
       "    </tr>\n",
       "  </tbody>\n",
       "</table>\n",
       "</div>"
      ],
      "text/plain": [
       "               price  registration_year          power        mileage\n",
       "count  304867.000000      304867.000000  304867.000000  304867.000000\n",
       "mean     4583.943575        2003.331584     116.665743  128667.304103\n",
       "std      4477.247298           6.807317      45.563687   36604.080145\n",
       "min         0.000000        1950.000000      43.000000    5000.000000\n",
       "25%      1200.000000        1999.000000      75.000000  125000.000000\n",
       "50%      2968.000000        2003.000000     110.000000  150000.000000\n",
       "75%      6600.000000        2008.000000     144.000000  150000.000000\n",
       "max     20000.000000        2019.000000     258.000000  150000.000000"
      ]
     },
     "execution_count": 29,
     "metadata": {},
     "output_type": "execute_result"
    }
   ],
   "source": [
    "# Revisión de describe con el nuevo DF\n",
    "df_filtered_2.describe()"
   ]
  },
  {
   "cell_type": "markdown",
   "metadata": {},
   "source": [
    "### Filtrado del DF columna Price ###"
   ]
  },
  {
   "cell_type": "code",
   "execution_count": 30,
   "metadata": {
    "scrolled": false,
    "trusted": false
   },
   "outputs": [
    {
     "name": "stdout",
     "output_type": "stream",
     "text": [
      "Percentil 2: 0.0\n",
      "Percentil 4: 250.0\n",
      "Percentil 6: 350.0\n",
      "Percentil 8: 500.0\n",
      "Percentil 10: 550.0\n",
      "Percentil 12: 650.0\n",
      "Percentil 14: 750.0\n",
      "Percentil 16: 800.0\n",
      "Percentil 18: 900.0\n",
      "Percentil 20: 999.0\n",
      "Percentil 22: 1050.0\n",
      "Percentil 24: 1200.0\n",
      "Percentil 26: 1290.0\n",
      "Percentil 28: 1399.0\n",
      "Percentil 30: 1500.0\n",
      "Percentil 32: 1599.0\n",
      "Percentil 34: 1700.0\n",
      "Percentil 36: 1850.0\n",
      "Percentil 38: 1990.0\n",
      "Percentil 40: 2100.0\n",
      "Percentil 42: 2290.0\n",
      "Percentil 44: 2480.0\n",
      "Percentil 46: 2599.0\n",
      "Percentil 48: 2800.0\n",
      "Percentil 50: 2968.0\n",
      "Percentil 52: 3150.0\n",
      "Percentil 54: 3400.0\n",
      "Percentil 56: 3550.0\n",
      "Percentil 58: 3800.0\n",
      "Percentil 60: 4000.0\n",
      "Percentil 62: 4300.0\n",
      "Percentil 64: 4600.0\n",
      "Percentil 66: 4950.0\n",
      "Percentil 68: 5250.0\n",
      "Percentil 70: 5600.0\n",
      "Percentil 72: 5999.0\n",
      "Percentil 74: 6490.0\n",
      "Percentil 76: 6900.0\n",
      "Percentil 78: 7299.0\n",
      "Percentil 80: 7800.0\n",
      "Percentil 82: 8400.0\n",
      "Percentil 84: 8950.0\n",
      "Percentil 86: 9700.0\n",
      "Percentil 88: 10500.0\n",
      "Percentil 90: 11500.0\n",
      "Percentil 92: 12500.0\n",
      "Percentil 94: 13900.0\n",
      "Percentil 96: 15400.0\n",
      "Percentil 98: 17400.0\n",
      "Percentil 100: 20000.0\n"
     ]
    }
   ],
   "source": [
    "# Cálculo de los percentiles columna registration_year\n",
    "percentiles_price = np.percentile(df_filtered_2['price'].dropna(), np.arange(2, 101, 2))\n",
    "for p, value in zip(range(2, 101, 2), percentiles_price):\n",
    "    print(f\"Percentil {p}: {value}\")"
   ]
  },
  {
   "cell_type": "code",
   "execution_count": 31,
   "metadata": {
    "trusted": false
   },
   "outputs": [
    {
     "name": "stdout",
     "output_type": "stream",
     "text": [
      "150.0\n"
     ]
    }
   ],
   "source": [
    "percentil_3_price = np.percentile(df_filtered_2['price'].dropna(),3)\n",
    "print(percentil_3_price)"
   ]
  },
  {
   "cell_type": "markdown",
   "metadata": {},
   "source": [
    "Finalmente, la filtración para la columna Price. Solo se van a considerar mínimos, los máximos pueden ser coches de lujo. Sin embargo, hay mínimos muy bajos, lo cual no es realista, un auto no puede costar 0 euros y es muy poco creíble que cueste menos de 500 euros. Por eso decidí filtrar a partir del percentil 10 en adelante, para tener autos con un precio mínimo de 550 euros."
   ]
  },
  {
   "cell_type": "code",
   "execution_count": 32,
   "metadata": {
    "trusted": false
   },
   "outputs": [
    {
     "name": "stdout",
     "output_type": "stream",
     "text": [
      "Tamaño antes del filtrado: (304867, 10)\n",
      "Tamaño después del filtrado por precio: (276323, 10)\n"
     ]
    }
   ],
   "source": [
    "# Filtrar por precio mínimo razonable\n",
    "df_filtered_3 = df_filtered_2[df_filtered_2['price'] >= 550] # basado en el percentil 10\n",
    "\n",
    "# Verificar tamaño final\n",
    "print(f\"Tamaño antes del filtrado: {df_filtered_2.shape}\")\n",
    "print(f\"Tamaño después del filtrado por precio: {df_filtered_3.shape}\")"
   ]
  },
  {
   "cell_type": "markdown",
   "metadata": {},
   "source": [
    "### Revisión de valores duplicados y ausentes en el df filtrado 3 ###"
   ]
  },
  {
   "cell_type": "code",
   "execution_count": 33,
   "metadata": {
    "trusted": false
   },
   "outputs": [
    {
     "data": {
      "text/plain": [
       "36669"
      ]
     },
     "execution_count": 33,
     "metadata": {},
     "output_type": "execute_result"
    }
   ],
   "source": [
    "df_filtered_3.duplicated().sum()"
   ]
  },
  {
   "cell_type": "code",
   "execution_count": 34,
   "metadata": {
    "trusted": false
   },
   "outputs": [
    {
     "data": {
      "text/html": [
       "<div>\n",
       "<style scoped>\n",
       "    .dataframe tbody tr th:only-of-type {\n",
       "        vertical-align: middle;\n",
       "    }\n",
       "\n",
       "    .dataframe tbody tr th {\n",
       "        vertical-align: top;\n",
       "    }\n",
       "\n",
       "    .dataframe thead th {\n",
       "        text-align: right;\n",
       "    }\n",
       "</style>\n",
       "<table border=\"1\" class=\"dataframe\">\n",
       "  <thead>\n",
       "    <tr style=\"text-align: right;\">\n",
       "      <th></th>\n",
       "      <th>price</th>\n",
       "      <th>vehicle_type</th>\n",
       "      <th>registration_year</th>\n",
       "      <th>gearbox</th>\n",
       "      <th>power</th>\n",
       "      <th>model</th>\n",
       "      <th>mileage</th>\n",
       "      <th>fuel_type</th>\n",
       "      <th>brand</th>\n",
       "      <th>not_repaired</th>\n",
       "    </tr>\n",
       "  </thead>\n",
       "  <tbody>\n",
       "    <tr>\n",
       "      <th>1</th>\n",
       "      <td>18300</td>\n",
       "      <td>coupe</td>\n",
       "      <td>2011</td>\n",
       "      <td>manual</td>\n",
       "      <td>190</td>\n",
       "      <td>NaN</td>\n",
       "      <td>125000</td>\n",
       "      <td>gasoline</td>\n",
       "      <td>audi</td>\n",
       "      <td>yes</td>\n",
       "    </tr>\n",
       "    <tr>\n",
       "      <th>2</th>\n",
       "      <td>9800</td>\n",
       "      <td>suv</td>\n",
       "      <td>2004</td>\n",
       "      <td>auto</td>\n",
       "      <td>163</td>\n",
       "      <td>grand</td>\n",
       "      <td>125000</td>\n",
       "      <td>gasoline</td>\n",
       "      <td>jeep</td>\n",
       "      <td>NaN</td>\n",
       "    </tr>\n",
       "    <tr>\n",
       "      <th>3</th>\n",
       "      <td>1500</td>\n",
       "      <td>small</td>\n",
       "      <td>2001</td>\n",
       "      <td>manual</td>\n",
       "      <td>75</td>\n",
       "      <td>golf</td>\n",
       "      <td>150000</td>\n",
       "      <td>petrol</td>\n",
       "      <td>volkswagen</td>\n",
       "      <td>no</td>\n",
       "    </tr>\n",
       "    <tr>\n",
       "      <th>4</th>\n",
       "      <td>3600</td>\n",
       "      <td>small</td>\n",
       "      <td>2008</td>\n",
       "      <td>manual</td>\n",
       "      <td>69</td>\n",
       "      <td>fabia</td>\n",
       "      <td>90000</td>\n",
       "      <td>gasoline</td>\n",
       "      <td>skoda</td>\n",
       "      <td>no</td>\n",
       "    </tr>\n",
       "    <tr>\n",
       "      <th>5</th>\n",
       "      <td>650</td>\n",
       "      <td>sedan</td>\n",
       "      <td>1995</td>\n",
       "      <td>manual</td>\n",
       "      <td>102</td>\n",
       "      <td>3er</td>\n",
       "      <td>150000</td>\n",
       "      <td>petrol</td>\n",
       "      <td>bmw</td>\n",
       "      <td>yes</td>\n",
       "    </tr>\n",
       "    <tr>\n",
       "      <th>...</th>\n",
       "      <td>...</td>\n",
       "      <td>...</td>\n",
       "      <td>...</td>\n",
       "      <td>...</td>\n",
       "      <td>...</td>\n",
       "      <td>...</td>\n",
       "      <td>...</td>\n",
       "      <td>...</td>\n",
       "      <td>...</td>\n",
       "      <td>...</td>\n",
       "    </tr>\n",
       "    <tr>\n",
       "      <th>354361</th>\n",
       "      <td>5250</td>\n",
       "      <td>NaN</td>\n",
       "      <td>2016</td>\n",
       "      <td>auto</td>\n",
       "      <td>150</td>\n",
       "      <td>159</td>\n",
       "      <td>150000</td>\n",
       "      <td>NaN</td>\n",
       "      <td>alfa_romeo</td>\n",
       "      <td>no</td>\n",
       "    </tr>\n",
       "    <tr>\n",
       "      <th>354362</th>\n",
       "      <td>3200</td>\n",
       "      <td>sedan</td>\n",
       "      <td>2004</td>\n",
       "      <td>manual</td>\n",
       "      <td>225</td>\n",
       "      <td>leon</td>\n",
       "      <td>150000</td>\n",
       "      <td>petrol</td>\n",
       "      <td>seat</td>\n",
       "      <td>yes</td>\n",
       "    </tr>\n",
       "    <tr>\n",
       "      <th>354366</th>\n",
       "      <td>1199</td>\n",
       "      <td>convertible</td>\n",
       "      <td>2000</td>\n",
       "      <td>auto</td>\n",
       "      <td>101</td>\n",
       "      <td>fortwo</td>\n",
       "      <td>125000</td>\n",
       "      <td>petrol</td>\n",
       "      <td>smart</td>\n",
       "      <td>no</td>\n",
       "    </tr>\n",
       "    <tr>\n",
       "      <th>354367</th>\n",
       "      <td>9200</td>\n",
       "      <td>bus</td>\n",
       "      <td>1996</td>\n",
       "      <td>manual</td>\n",
       "      <td>102</td>\n",
       "      <td>transporter</td>\n",
       "      <td>150000</td>\n",
       "      <td>gasoline</td>\n",
       "      <td>volkswagen</td>\n",
       "      <td>no</td>\n",
       "    </tr>\n",
       "    <tr>\n",
       "      <th>354368</th>\n",
       "      <td>3400</td>\n",
       "      <td>wagon</td>\n",
       "      <td>2002</td>\n",
       "      <td>manual</td>\n",
       "      <td>100</td>\n",
       "      <td>golf</td>\n",
       "      <td>150000</td>\n",
       "      <td>gasoline</td>\n",
       "      <td>volkswagen</td>\n",
       "      <td>NaN</td>\n",
       "    </tr>\n",
       "  </tbody>\n",
       "</table>\n",
       "<p>239654 rows × 10 columns</p>\n",
       "</div>"
      ],
      "text/plain": [
       "        price vehicle_type  registration_year gearbox  power        model  \\\n",
       "1       18300        coupe               2011  manual    190          NaN   \n",
       "2        9800          suv               2004    auto    163        grand   \n",
       "3        1500        small               2001  manual     75         golf   \n",
       "4        3600        small               2008  manual     69        fabia   \n",
       "5         650        sedan               1995  manual    102          3er   \n",
       "...       ...          ...                ...     ...    ...          ...   \n",
       "354361   5250          NaN               2016    auto    150          159   \n",
       "354362   3200        sedan               2004  manual    225         leon   \n",
       "354366   1199  convertible               2000    auto    101       fortwo   \n",
       "354367   9200          bus               1996  manual    102  transporter   \n",
       "354368   3400        wagon               2002  manual    100         golf   \n",
       "\n",
       "        mileage fuel_type       brand not_repaired  \n",
       "1        125000  gasoline        audi          yes  \n",
       "2        125000  gasoline        jeep          NaN  \n",
       "3        150000    petrol  volkswagen           no  \n",
       "4         90000  gasoline       skoda           no  \n",
       "5        150000    petrol         bmw          yes  \n",
       "...         ...       ...         ...          ...  \n",
       "354361   150000       NaN  alfa_romeo           no  \n",
       "354362   150000    petrol        seat          yes  \n",
       "354366   125000    petrol       smart           no  \n",
       "354367   150000  gasoline  volkswagen           no  \n",
       "354368   150000  gasoline  volkswagen          NaN  \n",
       "\n",
       "[239654 rows x 10 columns]"
      ]
     },
     "execution_count": 34,
     "metadata": {},
     "output_type": "execute_result"
    }
   ],
   "source": [
    "df_filtered_3 = df_filtered_3.drop_duplicates()\n",
    "df_filtered_3"
   ]
  },
  {
   "cell_type": "code",
   "execution_count": 35,
   "metadata": {
    "trusted": false
   },
   "outputs": [
    {
     "data": {
      "text/plain": [
       "price                    0\n",
       "vehicle_type         16383\n",
       "registration_year        0\n",
       "gearbox               4581\n",
       "power                    0\n",
       "model                 9488\n",
       "mileage                  0\n",
       "fuel_type            15165\n",
       "brand                    0\n",
       "not_repaired         35650\n",
       "dtype: int64"
      ]
     },
     "execution_count": 35,
     "metadata": {},
     "output_type": "execute_result"
    }
   ],
   "source": [
    "df_filtered_3.isna().sum()"
   ]
  },
  {
   "cell_type": "markdown",
   "metadata": {},
   "source": [
    "### Análisis exploratorio de datos: variables con valores ausentes ###"
   ]
  },
  {
   "cell_type": "markdown",
   "metadata": {},
   "source": [
    "Por lógica, tanto el tipo de vehículo como el modelo, influyen en el precio de los autos. Voy a hacer un análisis exploratorio de las otras tres: not_repaired, fuel_type y gearbox, para ver que tanto influyen al precio y si es necesario utilizarlas o no durante el modelo."
   ]
  },
  {
   "cell_type": "code",
   "execution_count": 36,
   "metadata": {
    "trusted": false
   },
   "outputs": [
    {
     "data": {
      "image/png": "[encoded data removed]",
      "text/plain": [
       "<Figure size 800x500 with 1 Axes>"
      ]
     },
     "metadata": {},
     "output_type": "display_data"
    }
   ],
   "source": [
    "# Analizando a la variable not_repaired\n",
    "plt.figure(figsize=(8, 5))\n",
    "sns.boxplot(data=df_filtered_3, x='not_repaired', y='price')\n",
    "plt.title('Distribución del precio según reparación del vehículo')\n",
    "plt.xlabel('¿Reparado?')\n",
    "plt.ylabel('Precio')\n",
    "plt.show()"
   ]
  },
  {
   "cell_type": "code",
   "execution_count": 37,
   "metadata": {
    "trusted": false
   },
   "outputs": [
    {
     "data": {
      "image/png": "[encoded data removed]",
      "text/plain": [
       "<Figure size 800x500 with 1 Axes>"
      ]
     },
     "metadata": {},
     "output_type": "display_data"
    }
   ],
   "source": [
    "# Analizando a la variable fuel_type\n",
    "plt.figure(figsize=(8, 5))\n",
    "sns.boxplot(data=df_filtered_3, x='fuel_type', y='price')\n",
    "plt.title('Distribución del precio según el tipo de combustible')\n",
    "plt.xlabel('Tipo de combustible')\n",
    "plt.ylabel('Precio')\n",
    "plt.show()"
   ]
  },
  {
   "cell_type": "code",
   "execution_count": 38,
   "metadata": {
    "trusted": false
   },
   "outputs": [
    {
     "data": {
      "image/png": "[encoded data removed]",
      "text/plain": [
       "<Figure size 800x500 with 1 Axes>"
      ]
     },
     "metadata": {},
     "output_type": "display_data"
    }
   ],
   "source": [
    "# Analizando a la variable gearbox\n",
    "plt.figure(figsize=(8, 5))\n",
    "sns.boxplot(data=df_filtered_3, x='gearbox', y='price')\n",
    "plt.title('Distribución del precio según el tipo de caja de cambios')\n",
    "plt.xlabel('Tipo de caja de cambios')\n",
    "plt.ylabel('Precio')\n",
    "plt.show()"
   ]
  },
  {
   "cell_type": "code",
   "execution_count": 39,
   "metadata": {
    "trusted": false
   },
   "outputs": [
    {
     "data": {
      "image/png": "[encoded data removed]",
      "text/plain": [
       "<Figure size 1000x600 with 2 Axes>"
      ]
     },
     "metadata": {},
     "output_type": "display_data"
    }
   ],
   "source": [
    "# Matriz de correlación\n",
    "# Solo columnas numéricas\n",
    "numerical_df = df_filtered_3.select_dtypes(include=['int64', 'float64'])\n",
    "\n",
    "# Correlación\n",
    "correlation_matrix = numerical_df.corr()\n",
    "\n",
    "# Heatmap\n",
    "plt.figure(figsize=(10, 6))\n",
    "sns.heatmap(correlation_matrix, annot=True, cmap='coolwarm', fmt=\".2f\", linewidths=0.5)\n",
    "plt.title('Matriz de correlación (numéricas)')\n",
    "plt.show()"
   ]
  },
  {
   "cell_type": "markdown",
   "metadata": {},
   "source": [
    "Conclusiones de las variables:\n",
    "1. Primero se analizaron las variables categóricas con gráficas de caja y bigotes para ver si influyen en el precio de los autos y en las tres se puede ver que efectivamente. Tanto si el carro es reparado o no, como el tipo de combustible y el tipo de caja de cambios tienen un impacto en el precio, por lo que es importante mantener todas estas columnas para el modelo. \n",
    "2. Finalmente, en la matriz de correlación, se ve que el año de registro, la potencia y el kilometraje influyen en el precio, estas variables son importantes para el modelo.\n",
    "3. Decisión: los valores ausentes se van a rellenar con \"unknown\" como se había establecido previamente, después van a ser ignoradas para el modelo, pues esta categoría \"unknown\" afectaría al modelo. Finalmente se va a obtener un DF limpio para poder llevar a cabo los modelos."
   ]
  },
  {
   "cell_type": "code",
   "execution_count": 40,
   "metadata": {
    "trusted": false
   },
   "outputs": [
    {
     "data": {
      "text/html": [
       "<div>\n",
       "<style scoped>\n",
       "    .dataframe tbody tr th:only-of-type {\n",
       "        vertical-align: middle;\n",
       "    }\n",
       "\n",
       "    .dataframe tbody tr th {\n",
       "        vertical-align: top;\n",
       "    }\n",
       "\n",
       "    .dataframe thead th {\n",
       "        text-align: right;\n",
       "    }\n",
       "</style>\n",
       "<table border=\"1\" class=\"dataframe\">\n",
       "  <thead>\n",
       "    <tr style=\"text-align: right;\">\n",
       "      <th></th>\n",
       "      <th>price</th>\n",
       "      <th>vehicle_type</th>\n",
       "      <th>registration_year</th>\n",
       "      <th>gearbox</th>\n",
       "      <th>power</th>\n",
       "      <th>model</th>\n",
       "      <th>mileage</th>\n",
       "      <th>fuel_type</th>\n",
       "      <th>brand</th>\n",
       "      <th>not_repaired</th>\n",
       "    </tr>\n",
       "  </thead>\n",
       "  <tbody>\n",
       "    <tr>\n",
       "      <th>3</th>\n",
       "      <td>1500</td>\n",
       "      <td>small</td>\n",
       "      <td>2001</td>\n",
       "      <td>manual</td>\n",
       "      <td>75</td>\n",
       "      <td>golf</td>\n",
       "      <td>150000</td>\n",
       "      <td>petrol</td>\n",
       "      <td>volkswagen</td>\n",
       "      <td>no</td>\n",
       "    </tr>\n",
       "    <tr>\n",
       "      <th>4</th>\n",
       "      <td>3600</td>\n",
       "      <td>small</td>\n",
       "      <td>2008</td>\n",
       "      <td>manual</td>\n",
       "      <td>69</td>\n",
       "      <td>fabia</td>\n",
       "      <td>90000</td>\n",
       "      <td>gasoline</td>\n",
       "      <td>skoda</td>\n",
       "      <td>no</td>\n",
       "    </tr>\n",
       "    <tr>\n",
       "      <th>5</th>\n",
       "      <td>650</td>\n",
       "      <td>sedan</td>\n",
       "      <td>1995</td>\n",
       "      <td>manual</td>\n",
       "      <td>102</td>\n",
       "      <td>3er</td>\n",
       "      <td>150000</td>\n",
       "      <td>petrol</td>\n",
       "      <td>bmw</td>\n",
       "      <td>yes</td>\n",
       "    </tr>\n",
       "    <tr>\n",
       "      <th>6</th>\n",
       "      <td>2200</td>\n",
       "      <td>convertible</td>\n",
       "      <td>2004</td>\n",
       "      <td>manual</td>\n",
       "      <td>109</td>\n",
       "      <td>2_reihe</td>\n",
       "      <td>150000</td>\n",
       "      <td>petrol</td>\n",
       "      <td>peugeot</td>\n",
       "      <td>no</td>\n",
       "    </tr>\n",
       "    <tr>\n",
       "      <th>10</th>\n",
       "      <td>2000</td>\n",
       "      <td>sedan</td>\n",
       "      <td>2004</td>\n",
       "      <td>manual</td>\n",
       "      <td>105</td>\n",
       "      <td>3_reihe</td>\n",
       "      <td>150000</td>\n",
       "      <td>petrol</td>\n",
       "      <td>mazda</td>\n",
       "      <td>no</td>\n",
       "    </tr>\n",
       "    <tr>\n",
       "      <th>...</th>\n",
       "      <td>...</td>\n",
       "      <td>...</td>\n",
       "      <td>...</td>\n",
       "      <td>...</td>\n",
       "      <td>...</td>\n",
       "      <td>...</td>\n",
       "      <td>...</td>\n",
       "      <td>...</td>\n",
       "      <td>...</td>\n",
       "      <td>...</td>\n",
       "    </tr>\n",
       "    <tr>\n",
       "      <th>354350</th>\n",
       "      <td>1400</td>\n",
       "      <td>sedan</td>\n",
       "      <td>2001</td>\n",
       "      <td>manual</td>\n",
       "      <td>125</td>\n",
       "      <td>astra</td>\n",
       "      <td>150000</td>\n",
       "      <td>petrol</td>\n",
       "      <td>opel</td>\n",
       "      <td>no</td>\n",
       "    </tr>\n",
       "    <tr>\n",
       "      <th>354353</th>\n",
       "      <td>1999</td>\n",
       "      <td>sedan</td>\n",
       "      <td>1997</td>\n",
       "      <td>manual</td>\n",
       "      <td>150</td>\n",
       "      <td>a3</td>\n",
       "      <td>150000</td>\n",
       "      <td>petrol</td>\n",
       "      <td>audi</td>\n",
       "      <td>no</td>\n",
       "    </tr>\n",
       "    <tr>\n",
       "      <th>354362</th>\n",
       "      <td>3200</td>\n",
       "      <td>sedan</td>\n",
       "      <td>2004</td>\n",
       "      <td>manual</td>\n",
       "      <td>225</td>\n",
       "      <td>leon</td>\n",
       "      <td>150000</td>\n",
       "      <td>petrol</td>\n",
       "      <td>seat</td>\n",
       "      <td>yes</td>\n",
       "    </tr>\n",
       "    <tr>\n",
       "      <th>354366</th>\n",
       "      <td>1199</td>\n",
       "      <td>convertible</td>\n",
       "      <td>2000</td>\n",
       "      <td>auto</td>\n",
       "      <td>101</td>\n",
       "      <td>fortwo</td>\n",
       "      <td>125000</td>\n",
       "      <td>petrol</td>\n",
       "      <td>smart</td>\n",
       "      <td>no</td>\n",
       "    </tr>\n",
       "    <tr>\n",
       "      <th>354367</th>\n",
       "      <td>9200</td>\n",
       "      <td>bus</td>\n",
       "      <td>1996</td>\n",
       "      <td>manual</td>\n",
       "      <td>102</td>\n",
       "      <td>transporter</td>\n",
       "      <td>150000</td>\n",
       "      <td>gasoline</td>\n",
       "      <td>volkswagen</td>\n",
       "      <td>no</td>\n",
       "    </tr>\n",
       "  </tbody>\n",
       "</table>\n",
       "<p>183062 rows × 10 columns</p>\n",
       "</div>"
      ],
      "text/plain": [
       "        price vehicle_type  registration_year gearbox  power        model  \\\n",
       "3        1500        small               2001  manual     75         golf   \n",
       "4        3600        small               2008  manual     69        fabia   \n",
       "5         650        sedan               1995  manual    102          3er   \n",
       "6        2200  convertible               2004  manual    109      2_reihe   \n",
       "10       2000        sedan               2004  manual    105      3_reihe   \n",
       "...       ...          ...                ...     ...    ...          ...   \n",
       "354350   1400        sedan               2001  manual    125        astra   \n",
       "354353   1999        sedan               1997  manual    150           a3   \n",
       "354362   3200        sedan               2004  manual    225         leon   \n",
       "354366   1199  convertible               2000    auto    101       fortwo   \n",
       "354367   9200          bus               1996  manual    102  transporter   \n",
       "\n",
       "        mileage fuel_type       brand not_repaired  \n",
       "3        150000    petrol  volkswagen           no  \n",
       "4         90000  gasoline       skoda           no  \n",
       "5        150000    petrol         bmw          yes  \n",
       "6        150000    petrol     peugeot           no  \n",
       "10       150000    petrol       mazda           no  \n",
       "...         ...       ...         ...          ...  \n",
       "354350   150000    petrol        opel           no  \n",
       "354353   150000    petrol        audi           no  \n",
       "354362   150000    petrol        seat          yes  \n",
       "354366   125000    petrol       smart           no  \n",
       "354367   150000  gasoline  volkswagen           no  \n",
       "\n",
       "[183062 rows x 10 columns]"
      ]
     },
     "execution_count": 40,
     "metadata": {},
     "output_type": "execute_result"
    }
   ],
   "source": [
    "# 1. Columnas con valores nulos \n",
    "cols_to_fill = ['vehicle_type', 'gearbox', 'model', 'fuel_type', 'not_repaired']\n",
    "\n",
    "# 2. Rellenar nulos con 'unknown'\n",
    "df_filtered_3[cols_to_fill] = df_filtered_3[cols_to_fill].fillna('unknown')\n",
    "\n",
    "# 3. Eliminar filas que contengan 'unknown' en cualquiera de esas columnas y revisión del DF final\n",
    "df_final = df_filtered_3[~df_filtered_3[cols_to_fill].isin(['unknown']).any(axis=1)]\n",
    "df_final"
   ]
  },
  {
   "cell_type": "code",
   "execution_count": 41,
   "metadata": {
    "trusted": false
   },
   "outputs": [
    {
     "name": "stdout",
     "output_type": "stream",
     "text": [
      "price                0\n",
      "vehicle_type         0\n",
      "registration_year    0\n",
      "gearbox              0\n",
      "power                0\n",
      "model                0\n",
      "mileage              0\n",
      "fuel_type            0\n",
      "brand                0\n",
      "not_repaired         0\n",
      "dtype: int64\n",
      "0\n"
     ]
    }
   ],
   "source": [
    "# Verificar si hay nulos o ausentes en el df final\n",
    "print(df_final.isna().sum())\n",
    "print(df_final.duplicated().sum())"
   ]
  },
  {
   "cell_type": "code",
   "execution_count": 42,
   "metadata": {
    "scrolled": true,
    "trusted": false
   },
   "outputs": [
    {
     "name": "stdout",
     "output_type": "stream",
     "text": [
      "<class 'pandas.core.frame.DataFrame'>\n",
      "Int64Index: 183062 entries, 3 to 354367\n",
      "Data columns (total 10 columns):\n",
      " #   Column             Non-Null Count   Dtype \n",
      "---  ------             --------------   ----- \n",
      " 0   price              183062 non-null  int64 \n",
      " 1   vehicle_type       183062 non-null  object\n",
      " 2   registration_year  183062 non-null  int64 \n",
      " 3   gearbox            183062 non-null  object\n",
      " 4   power              183062 non-null  int64 \n",
      " 5   model              183062 non-null  object\n",
      " 6   mileage            183062 non-null  int64 \n",
      " 7   fuel_type          183062 non-null  object\n",
      " 8   brand              183062 non-null  object\n",
      " 9   not_repaired       183062 non-null  object\n",
      "dtypes: int64(4), object(6)\n",
      "memory usage: 15.4+ MB\n"
     ]
    }
   ],
   "source": [
    "df_final.info()"
   ]
  },
  {
   "cell_type": "markdown",
   "metadata": {},
   "source": [
    "A pesar de que se eliminaron casi el 50% de los datos respecto al total de registros iniciales, seguimos teniendo muchos datos para el análisis, suficientes para realizar el modelo. En el análisis exploratorio me cercioré de que las columnas que quedaban fueran relevantes antes de eliminar filas, y determiné que sí. Asimismo, todas esas eliminaciones fueron necesarias: no sirve de nada tener valores duplicados o entrenar el modelo con ausentes dentro de las variables categóricas que no pueden deducirse ni mucho menos. Los datos están listos para el modelo."
   ]
  },
  {
   "cell_type": "markdown",
   "metadata": {},
   "source": [
    "## Entrenamiento del modelo "
   ]
  },
  {
   "cell_type": "markdown",
   "metadata": {},
   "source": [
    "### Preparación ###"
   ]
  },
  {
   "cell_type": "code",
   "execution_count": 43,
   "metadata": {
    "trusted": false
   },
   "outputs": [],
   "source": [
    "# Copia base de tu DataFrame final\n",
    "df_model = df_final.copy()\n",
    "\n",
    "# Separar X y y\n",
    "X = df_model.drop(\"price\", axis=1)\n",
    "y = df_model[\"price\"]\n",
    "\n",
    "# Identificar columnas\n",
    "num_cols = X.select_dtypes(include=[\"int64\", \"float64\"]).columns\n",
    "cat_cols = X.select_dtypes(include=[\"object\", \"category\"]).columns"
   ]
  },
  {
   "cell_type": "code",
   "execution_count": 44,
   "metadata": {
    "trusted": false
   },
   "outputs": [],
   "source": [
    "# Versión 1: DF para modelos que requieren codificación (Regresión lineal, árbol de decisión y Random Forest)\n",
    "\n",
    "# Codificación one-hot\n",
    "X_encoded = pd.get_dummies(X, columns=cat_cols, drop_first=True)\n",
    "\n",
    "# Estandarización\n",
    "scaler_1 = StandardScaler()\n",
    "X_encoded[num_cols] = scaler_1.fit_transform(X_encoded[num_cols])\n",
    "\n",
    "# División\n",
    "X_train_1, X_test_1, y_train_1, y_test_1 = train_test_split(X_encoded, y, test_size=0.2, random_state=42)"
   ]
  },
  {
   "cell_type": "code",
   "execution_count": 45,
   "metadata": {
    "trusted": false
   },
   "outputs": [],
   "source": [
    "# Versión 2: DF para modelos que no requieren codificación (CatBoost y LightGBM)\n",
    "\n",
    "# Estandarizar numéricas pero sin tocar categóricas\n",
    "X_standard = X.copy()\n",
    "scaler_2 = StandardScaler()\n",
    "X_standard[num_cols] = scaler_2.fit_transform(X_standard[num_cols])\n",
    "\n",
    "# División\n",
    "X_train_2, X_test_2, y_train_2, y_test_2 = train_test_split(X_standard, y, test_size=0.2, random_state=42)"
   ]
  },
  {
   "cell_type": "code",
   "execution_count": 46,
   "metadata": {
    "trusted": false
   },
   "outputs": [
    {
     "name": "stdout",
     "output_type": "stream",
     "text": [
      "Conjunto codificado: (146449, 303)\n",
      "Conjunto sin codificar: (146449, 9)\n"
     ]
    }
   ],
   "source": [
    "print(f\"Conjunto codificado: {X_train_1.shape}\")\n",
    "print(f\"Conjunto sin codificar: {X_train_2.shape}\")"
   ]
  },
  {
   "cell_type": "markdown",
   "metadata": {},
   "source": [
    "### Entrenamiento de los modelos ###"
   ]
  },
  {
   "cell_type": "markdown",
   "metadata": {},
   "source": [
    "**Regresión lineal**"
   ]
  },
  {
   "cell_type": "code",
   "execution_count": 47,
   "metadata": {
    "trusted": false
   },
   "outputs": [],
   "source": [
    "lr = LinearRegression()\n",
    "lr.fit(X_train_1, y_train_1)\n",
    "predict_lr = lr.predict(X_test_1)"
   ]
  },
  {
   "cell_type": "markdown",
   "metadata": {},
   "source": [
    "**Bosque aleatorio**"
   ]
  },
  {
   "cell_type": "code",
   "execution_count": 48,
   "metadata": {
    "trusted": false
   },
   "outputs": [
    {
     "name": "stdout",
     "output_type": "stream",
     "text": [
      "n_estimators=70, max_depth=10 | RMSE=1825.28 | Train Time=61.93s | Predict Time=0.1829s\n",
      "n_estimators=70, max_depth=15 | RMSE=1621.39 | Train Time=76.95s | Predict Time=0.3721s\n",
      "n_estimators=70, max_depth=20 | RMSE=1572.85 | Train Time=85.47s | Predict Time=0.5171s\n",
      "n_estimators=80, max_depth=10 | RMSE=1825.21 | Train Time=71.07s | Predict Time=0.2035s\n",
      "n_estimators=80, max_depth=15 | RMSE=1620.94 | Train Time=86.21s | Predict Time=0.3746s\n",
      "n_estimators=80, max_depth=20 | RMSE=1572.29 | Train Time=96.00s | Predict Time=0.5570s\n",
      "n_estimators=90, max_depth=10 | RMSE=1825.16 | Train Time=79.97s | Predict Time=0.2297s\n",
      "n_estimators=90, max_depth=15 | RMSE=1620.89 | Train Time=98.02s | Predict Time=0.4049s\n",
      "n_estimators=90, max_depth=20 | RMSE=1571.90 | Train Time=107.68s | Predict Time=0.6033s\n",
      "n_estimators=100, max_depth=10 | RMSE=1824.68 | Train Time=87.95s | Predict Time=0.2623s\n",
      "n_estimators=100, max_depth=15 | RMSE=1620.83 | Train Time=108.89s | Predict Time=0.4405s\n",
      "n_estimators=100, max_depth=20 | RMSE=1572.19 | Train Time=119.73s | Predict Time=0.6652s\n",
      "\n",
      "Tiempo total de entrenamiento y evaluación: 1084.70 segundos\n"
     ]
    }
   ],
   "source": [
    "# Obteniendo la mejor combinación de hiperparámetros\n",
    "\n",
    "# Inicia el cronómetro general\n",
    "total_start = time.time()\n",
    "\n",
    "best_rmse = float('inf')\n",
    "best_model = None\n",
    "\n",
    "for n in range(70, 101, 10):\n",
    "    for depth in [10, 15, 20]:\n",
    "        model = RandomForestRegressor(n_estimators=n, max_depth=depth, random_state=42)\n",
    "\n",
    "        # Tiempo de entrenamiento\n",
    "        start_train = time.time()\n",
    "        model.fit(X_train_1, y_train_1)\n",
    "        end_train = time.time()\n",
    "        train_time = end_train - start_train\n",
    "\n",
    "        # Tiempo de predicción\n",
    "        start_pred = time.time()\n",
    "        predictions_valid = model.predict(X_test_1)\n",
    "        end_pred = time.time()\n",
    "        pred_time = end_pred - start_pred\n",
    "\n",
    "        # Cálculo de RMSE\n",
    "        rmse = np.sqrt(mean_squared_error(y_test_1, predictions_valid))\n",
    "\n",
    "        print(f\"n_estimators={n}, max_depth={depth} | RMSE={rmse:.2f} | \"\n",
    "              f\"Train Time={train_time:.2f}s | Predict Time={pred_time:.4f}s\")\n",
    "\n",
    "# Termina el cronómetro general\n",
    "total_end = time.time()\n",
    "total_time_ba = total_end - total_start\n",
    "\n",
    "print(f\"\\nTiempo total de entrenamiento y evaluación: {total_time_ba:.2f} segundos\")"
   ]
  },
  {
   "cell_type": "code",
   "execution_count": 49,
   "metadata": {
    "trusted": false
   },
   "outputs": [
    {
     "name": "stdout",
     "output_type": "stream",
     "text": [
      "El tiempo de entrenamiento es: 107.27957606315613\n",
      "El tiempo de predicción es: 0.6446807384490967\n"
     ]
    }
   ],
   "source": [
    "# Mejor modelo del bosque aleatorio\n",
    "best_model_rf = RandomForestRegressor(random_state=42, n_estimators=90, max_depth=20)\n",
    "\n",
    "# Tiempo de entrenamiento \n",
    "start_train_rf = time.time()\n",
    "best_model_rf.fit(X_train_1,y_train_1) \n",
    "end_train_rf = time.time()\n",
    "train_time_rf = end_train_rf - start_train_rf\n",
    "\n",
    "# Tiempo de predicción\n",
    "start_pred_rf = time.time()\n",
    "predict_rf = best_model_rf.predict(X_test_1)\n",
    "end_pred_rf = time.time()\n",
    "pred_time_rf = end_pred_rf - start_pred_rf\n",
    "\n",
    "# Imprimir tiempos\n",
    "print(\"El tiempo de entrenamiento es:\",train_time_rf)\n",
    "print(\"El tiempo de predicción es:\",pred_time_rf)"
   ]
  },
  {
   "cell_type": "markdown",
   "metadata": {},
   "source": [
    "Este modelo necesita una gran cantidad de estimadores y depth, pero llega un momento en donde estos empiezan a bajar, llegan al punto en donde el modelo funciona mejor y después empieza a empeorar. Por eso decidí empezar a analizar al modelo en 70 estimators y con depth a partir de 10. De hecho el modelo de árbol de decisión tuvo su mejor desempeño en 16, lo cual esta dentro del rango que escogí para Random Forest. El mejor modelo llega cuando n_estimators = 90 y max_depth = 20. A partir de aquí empeora cuando max_depth = 20."
   ]
  },
  {
   "cell_type": "markdown",
   "metadata": {},
   "source": [
    "**Arbol de decisión**"
   ]
  },
  {
   "cell_type": "code",
   "execution_count": 50,
   "metadata": {
    "trusted": false
   },
   "outputs": [
    {
     "name": "stdout",
     "output_type": "stream",
     "text": [
      "max_depth=1: RMSE=3579.75, Training time=0.229s, Prediction time=0.020s\n",
      "max_depth=2: RMSE=3122.77, Training time=0.363s, Prediction time=0.020s\n",
      "max_depth=3: RMSE=2725.34, Training time=0.538s, Prediction time=0.019s\n",
      "max_depth=4: RMSE=2477.72, Training time=0.708s, Prediction time=0.020s\n",
      "max_depth=5: RMSE=2323.45, Training time=0.925s, Prediction time=0.021s\n",
      "max_depth=6: RMSE=2206.65, Training time=0.987s, Prediction time=0.021s\n",
      "max_depth=7: RMSE=2110.59, Training time=1.103s, Prediction time=0.021s\n",
      "max_depth=8: RMSE=2028.91, Training time=1.208s, Prediction time=0.021s\n",
      "max_depth=9: RMSE=1972.23, Training time=1.357s, Prediction time=0.023s\n",
      "max_depth=10: RMSE=1920.09, Training time=1.441s, Prediction time=0.022s\n",
      "max_depth=11: RMSE=1876.46, Training time=1.462s, Prediction time=0.022s\n",
      "max_depth=12: RMSE=1850.76, Training time=1.533s, Prediction time=0.023s\n",
      "max_depth=13: RMSE=1822.16, Training time=1.605s, Prediction time=0.023s\n",
      "max_depth=14: RMSE=1788.42, Training time=1.650s, Prediction time=0.023s\n",
      "max_depth=15: RMSE=1781.34, Training time=1.700s, Prediction time=0.024s\n",
      "max_depth=16: RMSE=1774.88, Training time=1.793s, Prediction time=0.026s\n",
      "max_depth=17: RMSE=1784.40, Training time=1.780s, Prediction time=0.025s\n",
      "max_depth=18: RMSE=1782.49, Training time=1.856s, Prediction time=0.026s\n",
      "max_depth=19: RMSE=1785.47, Training time=1.869s, Prediction time=0.026s\n",
      "max_depth=20: RMSE=1792.94, Training time=1.957s, Prediction time=0.027s\n",
      "\n",
      "Mejor max_depth=16 con RMSE=1774.88\n",
      "Tiempo total de entrenamiento y predicción: 26.53 segundos\n"
     ]
    }
   ],
   "source": [
    "# Inicializar variables para guardar los mejores resultados\n",
    "best_rmse = np.inf\n",
    "best_depth = None\n",
    "\n",
    "# Medir el tiempo total de entrenamiento y predicción\n",
    "start_total_ad = time.time()\n",
    "\n",
    "for depth in range(1, 21):  # puedes ajustar el rango si quieres explorar más\n",
    "    model = DecisionTreeRegressor(random_state=42, max_depth=depth)\n",
    "    \n",
    "    start_train = time.time()\n",
    "    model.fit(X_train_1, y_train_1)\n",
    "    end_train = time.time()\n",
    "    \n",
    "    start_pred = time.time()\n",
    "    predictions_valid = model.predict(X_test_1)\n",
    "    end_pred = time.time()\n",
    "    \n",
    "    rmse = mean_squared_error(y_test_1, predictions_valid, squared=False)\n",
    "    \n",
    "    print(f\"max_depth={depth}: RMSE={rmse:.2f}, Training time={end_train - start_train:.3f}s, Prediction time={end_pred - start_pred:.3f}s\")\n",
    "    \n",
    "    if rmse < best_rmse:\n",
    "        best_rmse = rmse\n",
    "        best_depth = depth\n",
    "\n",
    "end_total_ad = time.time()\n",
    "print(f\"\\nMejor max_depth={best_depth} con RMSE={best_rmse:.2f}\")\n",
    "print(f\"Tiempo total de entrenamiento y predicción: {end_total_ad - start_total_ad:.2f} segundos\")"
   ]
  },
  {
   "cell_type": "code",
   "execution_count": 51,
   "metadata": {
    "trusted": false
   },
   "outputs": [
    {
     "name": "stdout",
     "output_type": "stream",
     "text": [
      "El tiempo de entrenamiento es: 1.8608558177947998\n",
      "El tiempo de predicción es: 0.02613377571105957\n"
     ]
    }
   ],
   "source": [
    "# Mejor modelo del árbol de decisión \n",
    "best_model_ad = DecisionTreeRegressor(random_state=42, max_depth=16)\n",
    "\n",
    "# Tiempo de entrenamiento \n",
    "start_train_ad = time.time()\n",
    "best_model_ad.fit(X_train_1,y_train_1) \n",
    "end_train_ad = time.time()\n",
    "train_time_ad = end_train_ad - start_train_ad\n",
    "\n",
    "# Tiempo de predicción\n",
    "start_pred_ad = time.time()\n",
    "predict_ad = best_model_ad.predict(X_test_1)\n",
    "end_pred_ad = time.time()\n",
    "pred_time_ad = end_pred_ad - start_pred_ad\n",
    "\n",
    "# Imprimir tiempos\n",
    "print(\"El tiempo de entrenamiento es:\",train_time_ad)\n",
    "print(\"El tiempo de predicción es:\",pred_time_ad)"
   ]
  },
  {
   "cell_type": "markdown",
   "metadata": {},
   "source": [
    "**Potenciación de la gradiente**"
   ]
  },
  {
   "cell_type": "markdown",
   "metadata": {},
   "source": [
    "**CatBoost**"
   ]
  },
  {
   "cell_type": "code",
   "execution_count": 52,
   "metadata": {
    "trusted": false
   },
   "outputs": [
    {
     "name": "stdout",
     "output_type": "stream",
     "text": [
      "depth=4, learning_rate=0.03: RMSE=1687.46, Tiempo entrenamiento: 27.46 s, Tiempo predicción: 0.05 s\n",
      "depth=4, learning_rate=0.1: RMSE=1596.74, Tiempo entrenamiento: 26.86 s, Tiempo predicción: 0.06 s\n",
      "depth=4, learning_rate=0.2: RMSE=1568.21, Tiempo entrenamiento: 27.13 s, Tiempo predicción: 0.08 s\n",
      "depth=6, learning_rate=0.03: RMSE=1614.97, Tiempo entrenamiento: 42.55 s, Tiempo predicción: 0.08 s\n",
      "depth=6, learning_rate=0.1: RMSE=1550.21, Tiempo entrenamiento: 40.63 s, Tiempo predicción: 0.08 s\n",
      "depth=6, learning_rate=0.2: RMSE=1533.66, Tiempo entrenamiento: 41.30 s, Tiempo predicción: 0.11 s\n",
      "depth=8, learning_rate=0.03: RMSE=1569.09, Tiempo entrenamiento: 57.93 s, Tiempo predicción: 0.08 s\n",
      "depth=8, learning_rate=0.1: RMSE=1520.90, Tiempo entrenamiento: 57.13 s, Tiempo predicción: 0.12 s\n",
      "depth=8, learning_rate=0.2: RMSE=1512.17, Tiempo entrenamiento: 57.58 s, Tiempo predicción: 0.15 s\n",
      "\n",
      "Mejor modelo CatBoost: depth=8, learning_rate=0.2, RMSE=1512.17\n",
      "Tiempo total de búsqueda: 379.39 segundos\n"
     ]
    }
   ],
   "source": [
    "cat_features = X_train_2.select_dtypes(include='object').columns.tolist()\n",
    "\n",
    "# Definir listas de hiperparámetros que vamos a probar\n",
    "depths = [4, 6, 8]\n",
    "learning_rates = [0.03, 0.1, 0.2]\n",
    "\n",
    "best_rmse = float('inf')\n",
    "best_model = None\n",
    "best_params = None\n",
    "\n",
    "start_total_cb = time.time()\n",
    "\n",
    "for depth in depths:\n",
    "    for lr in learning_rates:\n",
    "        model = CatBoostRegressor(\n",
    "            iterations=500,\n",
    "            learning_rate=lr,\n",
    "            depth=depth,\n",
    "            random_state=42,\n",
    "            verbose=0\n",
    "        )\n",
    "        \n",
    "        start_train = time.time()\n",
    "        model.fit(X_train_2, y_train_2, cat_features=cat_features)\n",
    "        end_train = time.time()\n",
    "        \n",
    "        start_pred = time.time()\n",
    "        predictions_valid = model.predict(X_test_2)\n",
    "        end_pred = time.time()\n",
    "        \n",
    "        rmse = mean_squared_error(y_test_2, predictions_valid, squared=False)\n",
    "        \n",
    "        print(f\"depth={depth}, learning_rate={lr}: RMSE={rmse:.2f}, \"\n",
    "              f\"Tiempo entrenamiento: {end_train - start_train:.2f} s, \"\n",
    "              f\"Tiempo predicción: {end_pred - start_pred:.2f} s\")\n",
    "        \n",
    "        if rmse < best_rmse:\n",
    "            best_rmse = rmse\n",
    "            best_model = model\n",
    "            best_params = (depth, lr)\n",
    "\n",
    "print(f\"\\nMejor modelo CatBoost: depth={best_params[0]}, learning_rate={best_params[1]}, RMSE={best_rmse:.2f}\")\n",
    "\n",
    "end_total_cb = time.time()\n",
    "print(f\"Tiempo total de búsqueda: {end_total_cb - start_total_cb:.2f} segundos\")"
   ]
  },
  {
   "cell_type": "code",
   "execution_count": 53,
   "metadata": {
    "trusted": false
   },
   "outputs": [
    {
     "name": "stdout",
     "output_type": "stream",
     "text": [
      "El tiempo de entrenamiento es: 57.05286240577698\n",
      "El tiempo de predicción es: 0.14827823638916016\n"
     ]
    }
   ],
   "source": [
    "cat_features = X_train_2.select_dtypes(include='object').columns.tolist()\n",
    "\n",
    "# Mejor modelo de CatBoost\n",
    "best_model_cb = CatBoostRegressor(\n",
    "                iterations=500,\n",
    "                learning_rate=0.2,\n",
    "                depth=8,\n",
    "                random_state=42,\n",
    "                verbose=0\n",
    "                )\n",
    "\n",
    "# Tiempo de entrenamiento \n",
    "start_train_cb = time.time()\n",
    "best_model_cb.fit(X_train_2,y_train_2,cat_features=cat_features) \n",
    "end_train_cb = time.time()\n",
    "train_time_cb = end_train_cb - start_train_cb\n",
    "\n",
    "# Tiempo de predicción\n",
    "start_pred_cb = time.time()\n",
    "predict_cb = best_model_cb.predict(X_test_2)\n",
    "end_pred_cb = time.time()\n",
    "pred_time_cb = end_pred_cb - start_pred_cb\n",
    "\n",
    "# Imprimir tiempos\n",
    "print(\"El tiempo de entrenamiento es:\",train_time_cb)\n",
    "print(\"El tiempo de predicción es:\",pred_time_cb)"
   ]
  },
  {
   "cell_type": "markdown",
   "metadata": {},
   "source": [
    "**LightGBM**"
   ]
  },
  {
   "cell_type": "code",
   "execution_count": 54,
   "metadata": {
    "trusted": false
   },
   "outputs": [
    {
     "name": "stderr",
     "output_type": "stream",
     "text": [
      "/opt/conda/envs/python3/lib/python3.9/site-packages/pandas/core/indexing.py:1676: SettingWithCopyWarning: \n",
      "A value is trying to be set on a copy of a slice from a DataFrame.\n",
      "Try using .loc[row_indexer,col_indexer] = value instead\n",
      "\n",
      "See the caveats in the documentation: https://pandas.pydata.org/pandas-docs/stable/user_guide/indexing.html#returning-a-view-versus-a-copy\n",
      "  self._setitem_single_column(ilocs[0], value, pi)\n"
     ]
    }
   ],
   "source": [
    "for col in X_train_2.select_dtypes(include='object').columns:\n",
    "    X_train_2.loc[:, col] = X_train_2.loc[:,col].astype('category')\n",
    "    X_test_2.loc[:, col] = X_test_2.loc[:,col].astype('category')"
   ]
  },
  {
   "cell_type": "code",
   "execution_count": 55,
   "metadata": {
    "scrolled": true,
    "trusted": false
   },
   "outputs": [
    {
     "name": "stdout",
     "output_type": "stream",
     "text": [
      "depth=4, learning_rate=0.03: RMSE=1560.77, Tiempo entrenamiento: 5.63 s, Tiempo predicción: 1.30 s\n",
      "depth=4, learning_rate=0.1: RMSE=1520.94, Tiempo entrenamiento: 5.01 s, Tiempo predicción: 1.29 s\n",
      "depth=4, learning_rate=0.2: RMSE=1520.04, Tiempo entrenamiento: 4.70 s, Tiempo predicción: 1.22 s\n",
      "depth=6, learning_rate=0.03: RMSE=1521.66, Tiempo entrenamiento: 7.49 s, Tiempo predicción: 1.91 s\n",
      "depth=6, learning_rate=0.1: RMSE=1502.96, Tiempo entrenamiento: 6.42 s, Tiempo predicción: 1.70 s\n",
      "depth=6, learning_rate=0.2: RMSE=1503.62, Tiempo entrenamiento: 5.78 s, Tiempo predicción: 1.60 s\n",
      "depth=8, learning_rate=0.03: RMSE=1518.40, Tiempo entrenamiento: 7.50 s, Tiempo predicción: 1.89 s\n",
      "depth=8, learning_rate=0.1: RMSE=1500.66, Tiempo entrenamiento: 5.91 s, Tiempo predicción: 1.42 s\n",
      "depth=8, learning_rate=0.2: RMSE=1501.49, Tiempo entrenamiento: 5.57 s, Tiempo predicción: 1.31 s\n",
      "\n",
      "Mejor modelo LGMRegressor: depth=8, learning_rate=0.1, RMSE=1500.66\n",
      "Tiempo total de búsqueda: 67.75 segundos\n"
     ]
    }
   ],
   "source": [
    "# Definir listas de hiperparámetros que vamos a probar\n",
    "depths = [4, 6, 8]\n",
    "learning_rates = [0.03, 0.1, 0.2]\n",
    "\n",
    "best_rmse = float('inf')\n",
    "best_model = None\n",
    "best_params = None\n",
    "\n",
    "start_total_lgb = time.time()\n",
    "\n",
    "for depth in depths:\n",
    "    for lr in learning_rates:\n",
    "        model = LGBMRegressor(\n",
    "            n_estimators=500,\n",
    "            learning_rate=lr,\n",
    "            max_depth=depth,\n",
    "            random_state=42,\n",
    "            verbose=-1\n",
    "        )\n",
    "        \n",
    "        start_train = time.time()\n",
    "        model.fit(X_train_2, y_train_2)\n",
    "        end_train = time.time()\n",
    "        \n",
    "        start_pred = time.time()\n",
    "        predictions_valid = model.predict(X_test_2)\n",
    "        end_pred = time.time()\n",
    "        \n",
    "        rmse = mean_squared_error(y_test_2, predictions_valid, squared=False)\n",
    "        \n",
    "        print(f\"depth={depth}, learning_rate={lr}: RMSE={rmse:.2f}, \"\n",
    "              f\"Tiempo entrenamiento: {end_train - start_train:.2f} s, \"\n",
    "              f\"Tiempo predicción: {end_pred - start_pred:.2f} s\")\n",
    "        \n",
    "        if rmse < best_rmse:\n",
    "            best_rmse = rmse\n",
    "            best_model = model\n",
    "            best_params = (depth, lr)\n",
    "\n",
    "print(f\"\\nMejor modelo LGMRegressor: depth={best_params[0]}, learning_rate={best_params[1]}, RMSE={best_rmse:.2f}\")\n",
    "\n",
    "end_total_lgb = time.time()\n",
    "print(f\"Tiempo total de búsqueda: {end_total_lgb - start_total_lgb:.2f} segundos\")"
   ]
  },
  {
   "cell_type": "code",
   "execution_count": 56,
   "metadata": {
    "trusted": false
   },
   "outputs": [
    {
     "name": "stdout",
     "output_type": "stream",
     "text": [
      "El tiempo de entrenamiento es: 5.983157157897949\n",
      "El tiempo de predicción es: 1.3209447860717773\n"
     ]
    }
   ],
   "source": [
    "# Mejor modelo de LGBMRegressor\n",
    "best_model_lgb = LGBMRegressor(\n",
    "                n_estimators=500,\n",
    "                learning_rate=0.1,\n",
    "                max_depth=8,\n",
    "                random_state=42,\n",
    "                verbose=-1\n",
    "                )\n",
    "\n",
    "# Tiempo de entrenamiento \n",
    "start_train_lgb = time.time()\n",
    "best_model_lgb.fit(X_train_2,y_train_2) \n",
    "end_train_lgb = time.time()\n",
    "train_time_lgb = end_train_lgb - start_train_lgb\n",
    "\n",
    "# Tiempo de predicción\n",
    "start_pred_lgb = time.time()\n",
    "predict_lgb = best_model_lgb.predict(X_test_2)\n",
    "end_pred_lgb = time.time()\n",
    "pred_time_lgb = end_pred_lgb - start_pred_lgb\n",
    "\n",
    "# Imprimir tiempos\n",
    "print(\"El tiempo de entrenamiento es:\",train_time_lgb)\n",
    "print(\"El tiempo de predicción es:\",pred_time_lgb)"
   ]
  },
  {
   "cell_type": "markdown",
   "metadata": {},
   "source": [
    "## Análisis del modelo"
   ]
  },
  {
   "cell_type": "markdown",
   "metadata": {},
   "source": [
    "**Función para mostrar RMSE**"
   ]
  },
  {
   "cell_type": "code",
   "execution_count": 57,
   "metadata": {
    "trusted": false
   },
   "outputs": [],
   "source": [
    "def print_rmse(model_name, y_true, y_pred):\n",
    "    rmse = np.sqrt(mean_squared_error(y_true, y_pred))\n",
    "    print(f\"{model_name} RMSE: {rmse:.2f}\")"
   ]
  },
  {
   "cell_type": "code",
   "execution_count": 58,
   "metadata": {
    "trusted": false
   },
   "outputs": [
    {
     "name": "stdout",
     "output_type": "stream",
     "text": [
      "Linear Regression RMSE: 2468.50\n"
     ]
    }
   ],
   "source": [
    "print_rmse(\"Linear Regression\", y_test_1, predict_lr)"
   ]
  },
  {
   "cell_type": "code",
   "execution_count": 59,
   "metadata": {
    "trusted": false
   },
   "outputs": [
    {
     "name": "stdout",
     "output_type": "stream",
     "text": [
      "Random Forest Regressor RMSE: 1571.90\n",
      "El tiempo total de entrenamiento y predicción cambiando los hiperparámetros es de: 1084.70 segundos\n",
      "Para el mejor modelo, el tiempo de entrenamiento es de: 107.27957606315613 segundos y el de predicción es de 0.6446807384490967 segundos\n"
     ]
    }
   ],
   "source": [
    "print_rmse(\"Random Forest Regressor\", y_test_1, predict_rf)\n",
    "print(f\"El tiempo total de entrenamiento y predicción cambiando los hiperparámetros es de: {total_time_ba:.2f} segundos\")\n",
    "print(\"Para el mejor modelo, el tiempo de entrenamiento es de:\", train_time_rf, \n",
    "      \"segundos y el de predicción es de\",pred_time_rf,\"segundos\")"
   ]
  },
  {
   "cell_type": "code",
   "execution_count": 60,
   "metadata": {
    "trusted": false
   },
   "outputs": [
    {
     "name": "stdout",
     "output_type": "stream",
     "text": [
      "Decision Tree RMSE: 1774.88\n",
      "El tiempo total de entrenamiento y predicción cambiando los hiperparámetros es de: 26.53 segundos\n",
      "Para el mejor modelo, el tiempo de entrenamiento es de: 1.8608558177947998 segundos y el de predicción es de 0.02613377571105957 segundos\n"
     ]
    }
   ],
   "source": [
    "print_rmse(\"Decision Tree\", y_test_1, predict_ad)\n",
    "print(f\"El tiempo total de entrenamiento y predicción cambiando los hiperparámetros es de: {end_total_ad - start_total_ad:.2f} segundos\")\n",
    "print(\"Para el mejor modelo, el tiempo de entrenamiento es de:\", train_time_ad, \n",
    "      \"segundos y el de predicción es de\",pred_time_ad,\"segundos\")"
   ]
  },
  {
   "cell_type": "code",
   "execution_count": 61,
   "metadata": {
    "trusted": false
   },
   "outputs": [
    {
     "name": "stdout",
     "output_type": "stream",
     "text": [
      "CatBoost RMSE: 1512.17\n",
      "El tiempo total de entrenamiento y predicción cambiando los hiperparámetros es de: 379.39 segundos\n",
      "Para el mejor modelo, el tiempo de entrenamiento es de: 57.05286240577698 segundos y el de predicción es de 0.14827823638916016 segundos\n"
     ]
    }
   ],
   "source": [
    "print_rmse(\"CatBoost\", y_test_2, predict_cb)\n",
    "print(f\"El tiempo total de entrenamiento y predicción cambiando los hiperparámetros es de: {end_total_cb - start_total_cb:.2f} segundos\")\n",
    "print(\"Para el mejor modelo, el tiempo de entrenamiento es de:\", train_time_cb, \n",
    "      \"segundos y el de predicción es de\",pred_time_cb,\"segundos\")"
   ]
  },
  {
   "cell_type": "code",
   "execution_count": 62,
   "metadata": {
    "scrolled": true,
    "trusted": false
   },
   "outputs": [
    {
     "name": "stdout",
     "output_type": "stream",
     "text": [
      "LGBMRegressor RMSE: 1500.66\n",
      "El tiempo total de entrenamiento y predicción cambiando los hiperparámetros es de: 67.75 segundos\n",
      "Para el mejor modelo, el tiempo de entrenamiento es de: 5.983157157897949 segundos y el de predicción es de 1.3209447860717773 segundos\n"
     ]
    }
   ],
   "source": [
    "print_rmse(\"LGBMRegressor\", y_test_2, predict_lgb)\n",
    "print(f\"El tiempo total de entrenamiento y predicción cambiando los hiperparámetros es de: {end_total_lgb - start_total_lgb:.2f} segundos\")\n",
    "print(\"Para el mejor modelo, el tiempo de entrenamiento es de:\", train_time_lgb, \n",
    "      \"segundos y el de predicción es de\",pred_time_lgb,\"segundos\")"
   ]
  },
  {
   "cell_type": "markdown",
   "metadata": {},
   "source": [
    "**Conclusiones finales**\n",
    "\n",
    "El orden de mejor a peor modelo, basado en el RMSE, es:\n",
    "    \n",
    "    1. LGBMRegressor\n",
    "    2. CatBoost\n",
    "    3. Random Forest Regressor\n",
    "    4. Arbol de decisión\n",
    "    5. Regresión Lineal\n",
    "    \n",
    "Antes de empezar a analizar los resultados y tiempos, es importante mencionar que durante el cambio de hiperparámetros, se necesitan ciclos for y esto se traduce en varias pruebas del modelo para encontrar la combinación de hiperparámetros que arroje el menor RMSE posible. Esto significa que durante esas pruebas, se invierte también tiempo para encontrar la mejor combinación. Esto es importante para analizar el tiempo de entrenamiento y prueba de los modelos. \n",
    "\n",
    "Como era de esperarse, el de regresión lineal es el peor con diferencia. Este modelo, básicamente, se utilizó como prueba de cordura y tampoco es buena para el ajuste de hiperparámetros. Después, tenemos al árbol de decisión, el cual baja significativamente su RMSE, se trata de un modelo muy rápido, pero con un RMSE todavía muy lejos a lo deseado. Despúes tenemos al modelo de Random Forest, el cual mejora significativamente el RMSE, sin embargo, el tiempo que duró para encontrar la combinación perfecta de hiperparámetros fue muy largo. Estamos hablando de más de 15 minutos. Todavía no es lo que buscamos, es  mucho tiempo e incluso no es el modelo con el RMSE más bajo. Siguen los mejores dos modelos, los dos de potenciación de gradiente. El de LGBM tiene un RSME ligeramente más bajo, y además es aproximadamente 5 veces más rápido al momento de encontrar la combinación perfecta de hiperparámetros. \n",
    "\n",
    "MEJOR MODELO: LGBMRegressor, tanto en RMSE como en tiempo. "
   ]
  }
 ],
 "metadata": {
  "ExecuteTimeLog": [
   {
    "duration": 2566,
    "start_time": "2025-04-22T01:18:28.284Z"
   },
   {
    "duration": 641,
    "start_time": "2025-04-22T01:19:54.087Z"
   },
   {
    "duration": 5,
    "start_time": "2025-04-22T01:20:13.367Z"
   },
   {
    "duration": 30,
    "start_time": "2025-04-22T01:27:44.517Z"
   },
   {
    "duration": 23,
    "start_time": "2025-04-22T01:27:55.518Z"
   },
   {
    "duration": 32,
    "start_time": "2025-04-22T01:29:08.733Z"
   },
   {
    "duration": 20,
    "start_time": "2025-04-22T01:29:09.622Z"
   },
   {
    "duration": 2623,
    "start_time": "2025-04-22T03:16:51.403Z"
   },
   {
    "duration": 498,
    "start_time": "2025-04-22T03:16:54.028Z"
   },
   {
    "duration": 6,
    "start_time": "2025-04-22T03:16:54.527Z"
   },
   {
    "duration": 34,
    "start_time": "2025-04-22T03:16:54.535Z"
   },
   {
    "duration": 21,
    "start_time": "2025-04-22T03:16:54.571Z"
   },
   {
    "duration": 32,
    "start_time": "2025-04-22T03:17:18.341Z"
   },
   {
    "duration": 17,
    "start_time": "2025-04-22T03:17:21.675Z"
   },
   {
    "duration": 829,
    "start_time": "2025-04-22T03:18:07.410Z"
   },
   {
    "duration": 413,
    "start_time": "2025-04-22T03:18:08.242Z"
   },
   {
    "duration": 4,
    "start_time": "2025-04-22T03:18:08.657Z"
   },
   {
    "duration": 31,
    "start_time": "2025-04-22T03:18:08.663Z"
   },
   {
    "duration": 19,
    "start_time": "2025-04-22T03:18:08.697Z"
   },
   {
    "duration": 842,
    "start_time": "2025-04-22T03:18:12.721Z"
   },
   {
    "duration": 467,
    "start_time": "2025-04-22T03:18:13.565Z"
   },
   {
    "duration": 6,
    "start_time": "2025-04-22T03:18:14.035Z"
   },
   {
    "duration": 33,
    "start_time": "2025-04-22T03:18:14.043Z"
   },
   {
    "duration": 18,
    "start_time": "2025-04-22T03:18:14.079Z"
   },
   {
    "duration": 95,
    "start_time": "2025-04-22T03:24:08.440Z"
   },
   {
    "duration": 33,
    "start_time": "2025-04-22T03:48:15.840Z"
   },
   {
    "duration": 68,
    "start_time": "2025-04-22T03:49:03.370Z"
   },
   {
    "duration": 60,
    "start_time": "2025-04-22T03:50:30.994Z"
   },
   {
    "duration": 3,
    "start_time": "2025-04-22T03:51:17.341Z"
   },
   {
    "duration": 3,
    "start_time": "2025-04-22T03:52:08.417Z"
   },
   {
    "duration": 4,
    "start_time": "2025-04-22T03:52:22.076Z"
   },
   {
    "duration": 35,
    "start_time": "2025-04-22T03:53:10.612Z"
   },
   {
    "duration": 27,
    "start_time": "2025-04-22T03:53:11.775Z"
   },
   {
    "duration": 43,
    "start_time": "2025-04-22T03:54:51.272Z"
   },
   {
    "duration": 825,
    "start_time": "2025-04-22T04:06:23.778Z"
   },
   {
    "duration": 429,
    "start_time": "2025-04-22T04:06:24.605Z"
   },
   {
    "duration": 6,
    "start_time": "2025-04-22T04:06:25.036Z"
   },
   {
    "duration": 32,
    "start_time": "2025-04-22T04:06:25.044Z"
   },
   {
    "duration": 20,
    "start_time": "2025-04-22T04:06:25.079Z"
   },
   {
    "duration": 114,
    "start_time": "2025-04-22T04:06:25.101Z"
   },
   {
    "duration": 36,
    "start_time": "2025-04-22T04:06:25.217Z"
   },
   {
    "duration": 78,
    "start_time": "2025-04-22T04:06:25.255Z"
   },
   {
    "duration": 61,
    "start_time": "2025-04-22T04:06:25.335Z"
   },
   {
    "duration": 3,
    "start_time": "2025-04-22T04:06:25.398Z"
   },
   {
    "duration": 64,
    "start_time": "2025-04-22T04:06:25.402Z"
   },
   {
    "duration": 2852,
    "start_time": "2025-04-22T18:37:29.497Z"
   },
   {
    "duration": 480,
    "start_time": "2025-04-22T18:37:32.352Z"
   },
   {
    "duration": 6,
    "start_time": "2025-04-22T18:37:32.835Z"
   },
   {
    "duration": 35,
    "start_time": "2025-04-22T18:37:32.844Z"
   },
   {
    "duration": 21,
    "start_time": "2025-04-22T18:37:32.884Z"
   },
   {
    "duration": 149,
    "start_time": "2025-04-22T18:37:32.908Z"
   },
   {
    "duration": 29,
    "start_time": "2025-04-22T18:37:33.061Z"
   },
   {
    "duration": 75,
    "start_time": "2025-04-22T18:37:33.092Z"
   },
   {
    "duration": 69,
    "start_time": "2025-04-22T18:37:33.169Z"
   },
   {
    "duration": 4,
    "start_time": "2025-04-22T18:37:33.241Z"
   },
   {
    "duration": 52,
    "start_time": "2025-04-22T18:37:33.247Z"
   },
   {
    "duration": 3,
    "start_time": "2025-04-22T18:41:28.301Z"
   },
   {
    "duration": 5,
    "start_time": "2025-04-22T18:41:44.759Z"
   },
   {
    "duration": 4,
    "start_time": "2025-04-22T18:41:51.020Z"
   },
   {
    "duration": 4,
    "start_time": "2025-04-22T18:42:00.245Z"
   },
   {
    "duration": 8,
    "start_time": "2025-04-22T18:42:26.330Z"
   },
   {
    "duration": 47,
    "start_time": "2025-04-22T18:43:49.916Z"
   },
   {
    "duration": 5,
    "start_time": "2025-04-22T18:44:34.770Z"
   },
   {
    "duration": 53,
    "start_time": "2025-04-22T18:44:48.509Z"
   },
   {
    "duration": 1072,
    "start_time": "2025-04-22T18:44:57.344Z"
   },
   {
    "duration": 564,
    "start_time": "2025-04-22T18:44:58.419Z"
   },
   {
    "duration": 6,
    "start_time": "2025-04-22T18:44:58.989Z"
   },
   {
    "duration": 39,
    "start_time": "2025-04-22T18:44:59.001Z"
   },
   {
    "duration": 32,
    "start_time": "2025-04-22T18:44:59.043Z"
   },
   {
    "duration": 120,
    "start_time": "2025-04-22T18:44:59.078Z"
   },
   {
    "duration": 41,
    "start_time": "2025-04-22T18:44:59.200Z"
   },
   {
    "duration": 68,
    "start_time": "2025-04-22T18:44:59.244Z"
   },
   {
    "duration": 90,
    "start_time": "2025-04-22T18:44:59.315Z"
   },
   {
    "duration": 7,
    "start_time": "2025-04-22T18:44:59.413Z"
   },
   {
    "duration": 72,
    "start_time": "2025-04-22T18:44:59.422Z"
   },
   {
    "duration": 14,
    "start_time": "2025-04-22T18:44:59.496Z"
   },
   {
    "duration": 29,
    "start_time": "2025-04-22T18:45:11.940Z"
   },
   {
    "duration": 317,
    "start_time": "2025-04-22T18:47:21.974Z"
   },
   {
    "duration": 3,
    "start_time": "2025-04-22T18:47:31.049Z"
   },
   {
    "duration": 1312,
    "start_time": "2025-04-22T18:47:34.080Z"
   },
   {
    "duration": 11,
    "start_time": "2025-04-22T18:49:08.636Z"
   },
   {
    "duration": 10,
    "start_time": "2025-04-22T18:49:34.690Z"
   },
   {
    "duration": 8,
    "start_time": "2025-04-22T18:49:40.982Z"
   },
   {
    "duration": 13,
    "start_time": "2025-04-22T18:50:00.488Z"
   },
   {
    "duration": 498,
    "start_time": "2025-04-22T18:52:08.516Z"
   },
   {
    "duration": 20,
    "start_time": "2025-04-22T18:52:15.173Z"
   },
   {
    "duration": 8,
    "start_time": "2025-04-22T18:52:23.761Z"
   },
   {
    "duration": 1627,
    "start_time": "2025-04-22T19:15:43.671Z"
   },
   {
    "duration": 7,
    "start_time": "2025-04-22T19:17:39.724Z"
   },
   {
    "duration": 7,
    "start_time": "2025-04-22T19:18:08.881Z"
   },
   {
    "duration": 1634,
    "start_time": "2025-04-22T19:22:06.635Z"
   },
   {
    "duration": 7,
    "start_time": "2025-04-22T19:22:29.965Z"
   },
   {
    "duration": 8,
    "start_time": "2025-04-22T19:22:47.342Z"
   },
   {
    "duration": 7,
    "start_time": "2025-04-22T19:24:13.702Z"
   },
   {
    "duration": 2621,
    "start_time": "2025-04-23T00:02:46.245Z"
   },
   {
    "duration": 510,
    "start_time": "2025-04-23T00:02:48.868Z"
   },
   {
    "duration": 6,
    "start_time": "2025-04-23T00:02:49.379Z"
   },
   {
    "duration": 39,
    "start_time": "2025-04-23T00:02:49.387Z"
   },
   {
    "duration": 19,
    "start_time": "2025-04-23T00:02:49.430Z"
   },
   {
    "duration": 101,
    "start_time": "2025-04-23T00:02:49.451Z"
   },
   {
    "duration": 30,
    "start_time": "2025-04-23T00:02:49.554Z"
   },
   {
    "duration": 80,
    "start_time": "2025-04-23T00:02:49.586Z"
   },
   {
    "duration": 68,
    "start_time": "2025-04-23T00:02:49.667Z"
   },
   {
    "duration": 3,
    "start_time": "2025-04-23T00:02:49.737Z"
   },
   {
    "duration": 51,
    "start_time": "2025-04-23T00:02:49.741Z"
   },
   {
    "duration": 20,
    "start_time": "2025-04-23T00:02:49.809Z"
   },
   {
    "duration": 1235,
    "start_time": "2025-04-23T00:02:49.831Z"
   },
   {
    "duration": 7,
    "start_time": "2025-04-23T00:02:51.069Z"
   },
   {
    "duration": 1645,
    "start_time": "2025-04-23T00:02:51.078Z"
   },
   {
    "duration": 7,
    "start_time": "2025-04-23T00:02:52.725Z"
   },
   {
    "duration": 7,
    "start_time": "2025-04-23T00:02:52.733Z"
   },
   {
    "duration": 1643,
    "start_time": "2025-04-23T00:02:52.741Z"
   },
   {
    "duration": 7,
    "start_time": "2025-04-23T00:02:54.386Z"
   },
   {
    "duration": 17,
    "start_time": "2025-04-23T00:02:54.395Z"
   },
   {
    "duration": 6,
    "start_time": "2025-04-23T00:02:54.414Z"
   },
   {
    "duration": 149,
    "start_time": "2025-04-23T00:04:22.775Z"
   },
   {
    "duration": 111,
    "start_time": "2025-04-23T00:04:53.638Z"
   },
   {
    "duration": 127,
    "start_time": "2025-04-23T00:05:23.711Z"
   },
   {
    "duration": 861,
    "start_time": "2025-04-23T00:47:38.338Z"
   },
   {
    "duration": 399,
    "start_time": "2025-04-23T00:47:39.201Z"
   },
   {
    "duration": 9,
    "start_time": "2025-04-23T00:47:39.602Z"
   },
   {
    "duration": 31,
    "start_time": "2025-04-23T00:47:39.614Z"
   },
   {
    "duration": 20,
    "start_time": "2025-04-23T00:47:39.647Z"
   },
   {
    "duration": 121,
    "start_time": "2025-04-23T00:47:39.668Z"
   },
   {
    "duration": 30,
    "start_time": "2025-04-23T00:47:39.790Z"
   },
   {
    "duration": 60,
    "start_time": "2025-04-23T00:47:39.822Z"
   },
   {
    "duration": 77,
    "start_time": "2025-04-23T00:47:39.884Z"
   },
   {
    "duration": 3,
    "start_time": "2025-04-23T00:47:39.964Z"
   },
   {
    "duration": 52,
    "start_time": "2025-04-23T00:47:39.968Z"
   },
   {
    "duration": 21,
    "start_time": "2025-04-23T00:47:40.022Z"
   },
   {
    "duration": 174,
    "start_time": "2025-04-23T00:47:40.045Z"
   },
   {
    "duration": 8,
    "start_time": "2025-04-23T00:47:40.221Z"
   },
   {
    "duration": 123,
    "start_time": "2025-04-23T00:47:40.230Z"
   },
   {
    "duration": 6,
    "start_time": "2025-04-23T00:47:40.355Z"
   },
   {
    "duration": 6,
    "start_time": "2025-04-23T00:47:40.363Z"
   },
   {
    "duration": 143,
    "start_time": "2025-04-23T00:47:40.371Z"
   },
   {
    "duration": 7,
    "start_time": "2025-04-23T00:47:40.516Z"
   },
   {
    "duration": 7,
    "start_time": "2025-04-23T00:47:40.524Z"
   },
   {
    "duration": 715,
    "start_time": "2025-04-23T00:47:40.533Z"
   },
   {
    "duration": 2599,
    "start_time": "2025-04-23T02:52:34.376Z"
   },
   {
    "duration": 471,
    "start_time": "2025-04-23T02:52:36.977Z"
   },
   {
    "duration": 5,
    "start_time": "2025-04-23T02:52:37.450Z"
   },
   {
    "duration": 36,
    "start_time": "2025-04-23T02:52:37.458Z"
   },
   {
    "duration": 23,
    "start_time": "2025-04-23T02:52:37.496Z"
   },
   {
    "duration": 141,
    "start_time": "2025-04-23T02:52:37.521Z"
   },
   {
    "duration": 35,
    "start_time": "2025-04-23T02:52:37.664Z"
   },
   {
    "duration": 101,
    "start_time": "2025-04-23T02:52:37.700Z"
   },
   {
    "duration": 97,
    "start_time": "2025-04-23T02:52:37.803Z"
   },
   {
    "duration": 4,
    "start_time": "2025-04-23T02:52:37.903Z"
   },
   {
    "duration": 55,
    "start_time": "2025-04-23T02:52:37.908Z"
   },
   {
    "duration": 22,
    "start_time": "2025-04-23T02:52:37.965Z"
   },
   {
    "duration": 201,
    "start_time": "2025-04-23T02:52:37.989Z"
   },
   {
    "duration": 12,
    "start_time": "2025-04-23T02:52:38.193Z"
   },
   {
    "duration": 171,
    "start_time": "2025-04-23T02:52:38.207Z"
   },
   {
    "duration": 10,
    "start_time": "2025-04-23T02:52:38.380Z"
   },
   {
    "duration": 8,
    "start_time": "2025-04-23T02:52:38.392Z"
   },
   {
    "duration": 200,
    "start_time": "2025-04-23T02:52:38.402Z"
   },
   {
    "duration": 8,
    "start_time": "2025-04-23T02:52:38.604Z"
   },
   {
    "duration": 8,
    "start_time": "2025-04-23T02:52:38.615Z"
   },
   {
    "duration": 134,
    "start_time": "2025-04-23T03:07:11.468Z"
   },
   {
    "duration": 2481,
    "start_time": "2025-04-23T03:56:37.322Z"
   },
   {
    "duration": 651,
    "start_time": "2025-04-23T03:56:39.806Z"
   },
   {
    "duration": 5,
    "start_time": "2025-04-23T03:56:40.459Z"
   },
   {
    "duration": 32,
    "start_time": "2025-04-23T03:56:40.470Z"
   },
   {
    "duration": 20,
    "start_time": "2025-04-23T03:56:40.505Z"
   },
   {
    "duration": 112,
    "start_time": "2025-04-23T03:56:40.527Z"
   },
   {
    "duration": 32,
    "start_time": "2025-04-23T03:56:40.640Z"
   },
   {
    "duration": 63,
    "start_time": "2025-04-23T03:56:40.674Z"
   },
   {
    "duration": 75,
    "start_time": "2025-04-23T03:56:40.739Z"
   },
   {
    "duration": 3,
    "start_time": "2025-04-23T03:56:40.816Z"
   },
   {
    "duration": 50,
    "start_time": "2025-04-23T03:56:40.821Z"
   },
   {
    "duration": 19,
    "start_time": "2025-04-23T03:56:40.873Z"
   },
   {
    "duration": 213,
    "start_time": "2025-04-23T03:56:40.895Z"
   },
   {
    "duration": 9,
    "start_time": "2025-04-23T03:56:41.112Z"
   },
   {
    "duration": 153,
    "start_time": "2025-04-23T03:56:41.123Z"
   },
   {
    "duration": 9,
    "start_time": "2025-04-23T03:56:41.278Z"
   },
   {
    "duration": 6,
    "start_time": "2025-04-23T03:56:41.290Z"
   },
   {
    "duration": 159,
    "start_time": "2025-04-23T03:56:41.298Z"
   },
   {
    "duration": 12,
    "start_time": "2025-04-23T03:56:41.459Z"
   },
   {
    "duration": 6,
    "start_time": "2025-04-23T03:56:41.473Z"
   },
   {
    "duration": 7,
    "start_time": "2025-04-23T04:08:13.050Z"
   },
   {
    "duration": 7,
    "start_time": "2025-04-23T04:08:41.855Z"
   },
   {
    "duration": 275,
    "start_time": "2025-04-23T04:14:32.761Z"
   },
   {
    "duration": 1586,
    "start_time": "2025-04-23T04:15:18.738Z"
   },
   {
    "duration": 10,
    "start_time": "2025-04-23T04:19:59.926Z"
   },
   {
    "duration": 9,
    "start_time": "2025-04-23T04:20:13.730Z"
   },
   {
    "duration": 11,
    "start_time": "2025-04-23T04:20:26.307Z"
   },
   {
    "duration": 9,
    "start_time": "2025-04-23T04:20:33.749Z"
   },
   {
    "duration": 11,
    "start_time": "2025-04-23T04:20:36.750Z"
   },
   {
    "duration": 11,
    "start_time": "2025-04-23T04:21:17.760Z"
   },
   {
    "duration": 13,
    "start_time": "2025-04-23T04:22:18.568Z"
   },
   {
    "duration": 12,
    "start_time": "2025-04-23T04:31:25.404Z"
   },
   {
    "duration": 24,
    "start_time": "2025-04-23T04:53:59.897Z"
   },
   {
    "duration": 35,
    "start_time": "2025-04-23T04:56:16.895Z"
   },
   {
    "duration": 7,
    "start_time": "2025-04-23T04:58:52.316Z"
   },
   {
    "duration": 7,
    "start_time": "2025-04-23T04:58:55.940Z"
   },
   {
    "duration": 9,
    "start_time": "2025-04-23T04:59:10.722Z"
   },
   {
    "duration": 7,
    "start_time": "2025-04-23T04:59:17.734Z"
   },
   {
    "duration": 8,
    "start_time": "2025-04-23T04:59:31.550Z"
   },
   {
    "duration": 11,
    "start_time": "2025-04-23T05:00:30.961Z"
   },
   {
    "duration": 11,
    "start_time": "2025-04-23T05:01:51.052Z"
   },
   {
    "duration": 11,
    "start_time": "2025-04-23T05:03:01.973Z"
   },
   {
    "duration": 11,
    "start_time": "2025-04-23T05:04:55.481Z"
   },
   {
    "duration": 11,
    "start_time": "2025-04-23T05:05:19.515Z"
   },
   {
    "duration": 13,
    "start_time": "2025-04-23T05:05:23.970Z"
   },
   {
    "duration": 11,
    "start_time": "2025-04-23T05:05:31.651Z"
   },
   {
    "duration": 10,
    "start_time": "2025-04-23T05:05:37.040Z"
   },
   {
    "duration": 15,
    "start_time": "2025-04-23T05:05:44.075Z"
   },
   {
    "duration": 11,
    "start_time": "2025-04-23T05:06:13.606Z"
   },
   {
    "duration": 7,
    "start_time": "2025-04-23T05:06:40.119Z"
   },
   {
    "duration": 7,
    "start_time": "2025-04-23T05:07:14.466Z"
   },
   {
    "duration": 23,
    "start_time": "2025-04-23T05:12:34.766Z"
   },
   {
    "duration": 786,
    "start_time": "2025-04-23T05:13:59.473Z"
   },
   {
    "duration": 424,
    "start_time": "2025-04-23T05:14:00.262Z"
   },
   {
    "duration": 7,
    "start_time": "2025-04-23T05:14:00.688Z"
   },
   {
    "duration": 32,
    "start_time": "2025-04-23T05:14:00.697Z"
   },
   {
    "duration": 39,
    "start_time": "2025-04-23T05:14:00.732Z"
   },
   {
    "duration": 104,
    "start_time": "2025-04-23T05:14:00.773Z"
   },
   {
    "duration": 29,
    "start_time": "2025-04-23T05:14:00.879Z"
   },
   {
    "duration": 71,
    "start_time": "2025-04-23T05:14:00.911Z"
   },
   {
    "duration": 60,
    "start_time": "2025-04-23T05:14:00.984Z"
   },
   {
    "duration": 4,
    "start_time": "2025-04-23T05:14:01.045Z"
   },
   {
    "duration": 54,
    "start_time": "2025-04-23T05:14:01.070Z"
   },
   {
    "duration": 22,
    "start_time": "2025-04-23T05:14:01.126Z"
   },
   {
    "duration": 224,
    "start_time": "2025-04-23T05:14:01.149Z"
   },
   {
    "duration": 10,
    "start_time": "2025-04-23T05:14:01.380Z"
   },
   {
    "duration": 133,
    "start_time": "2025-04-23T05:14:01.392Z"
   },
   {
    "duration": 9,
    "start_time": "2025-04-23T05:14:01.527Z"
   },
   {
    "duration": 6,
    "start_time": "2025-04-23T05:14:01.537Z"
   },
   {
    "duration": 28,
    "start_time": "2025-04-23T05:14:01.545Z"
   },
   {
    "duration": 11,
    "start_time": "2025-04-23T05:14:01.575Z"
   },
   {
    "duration": 144,
    "start_time": "2025-04-23T05:14:01.588Z"
   },
   {
    "duration": 10,
    "start_time": "2025-04-23T05:14:01.734Z"
   },
   {
    "duration": 7,
    "start_time": "2025-04-23T05:14:01.745Z"
   },
   {
    "duration": 26,
    "start_time": "2025-04-23T05:14:01.753Z"
   },
   {
    "duration": 28,
    "start_time": "2025-04-23T05:14:01.781Z"
   },
   {
    "duration": 62,
    "start_time": "2025-04-23T05:14:01.810Z"
   },
   {
    "duration": 23,
    "start_time": "2025-04-23T05:14:01.873Z"
   },
   {
    "duration": 35,
    "start_time": "2025-04-23T05:15:09.246Z"
   },
   {
    "duration": 2546,
    "start_time": "2025-04-23T16:52:19.808Z"
   },
   {
    "duration": 505,
    "start_time": "2025-04-23T16:52:22.356Z"
   },
   {
    "duration": 5,
    "start_time": "2025-04-23T16:52:22.863Z"
   },
   {
    "duration": 29,
    "start_time": "2025-04-23T16:52:22.870Z"
   },
   {
    "duration": 41,
    "start_time": "2025-04-23T16:52:22.901Z"
   },
   {
    "duration": 99,
    "start_time": "2025-04-23T16:52:22.943Z"
   },
   {
    "duration": 30,
    "start_time": "2025-04-23T16:52:23.043Z"
   },
   {
    "duration": 75,
    "start_time": "2025-04-23T16:52:23.075Z"
   },
   {
    "duration": 62,
    "start_time": "2025-04-23T16:52:23.152Z"
   },
   {
    "duration": 4,
    "start_time": "2025-04-23T16:52:23.230Z"
   },
   {
    "duration": 36,
    "start_time": "2025-04-23T16:52:23.236Z"
   },
   {
    "duration": 18,
    "start_time": "2025-04-23T16:52:23.274Z"
   },
   {
    "duration": 185,
    "start_time": "2025-04-23T16:52:23.295Z"
   },
   {
    "duration": 8,
    "start_time": "2025-04-23T16:52:23.482Z"
   },
   {
    "duration": 126,
    "start_time": "2025-04-23T16:52:23.491Z"
   },
   {
    "duration": 14,
    "start_time": "2025-04-23T16:52:23.618Z"
   },
   {
    "duration": 6,
    "start_time": "2025-04-23T16:52:23.634Z"
   },
   {
    "duration": 12,
    "start_time": "2025-04-23T16:52:23.641Z"
   },
   {
    "duration": 10,
    "start_time": "2025-04-23T16:52:23.654Z"
   },
   {
    "duration": 148,
    "start_time": "2025-04-23T16:52:23.666Z"
   },
   {
    "duration": 15,
    "start_time": "2025-04-23T16:52:23.816Z"
   },
   {
    "duration": 7,
    "start_time": "2025-04-23T16:52:23.833Z"
   },
   {
    "duration": 12,
    "start_time": "2025-04-23T16:52:23.841Z"
   },
   {
    "duration": 26,
    "start_time": "2025-04-23T16:52:23.854Z"
   },
   {
    "duration": 60,
    "start_time": "2025-04-23T16:52:23.881Z"
   },
   {
    "duration": 21,
    "start_time": "2025-04-23T16:52:23.943Z"
   },
   {
    "duration": 34,
    "start_time": "2025-04-23T16:52:23.965Z"
   },
   {
    "duration": 10,
    "start_time": "2025-04-23T16:54:26.245Z"
   },
   {
    "duration": 8,
    "start_time": "2025-04-23T16:54:56.796Z"
   },
   {
    "duration": 8,
    "start_time": "2025-04-23T16:59:44.598Z"
   },
   {
    "duration": 8,
    "start_time": "2025-04-23T17:00:06.728Z"
   },
   {
    "duration": 811,
    "start_time": "2025-04-23T17:23:12.507Z"
   },
   {
    "duration": 415,
    "start_time": "2025-04-23T17:23:13.320Z"
   },
   {
    "duration": 6,
    "start_time": "2025-04-23T17:23:13.736Z"
   },
   {
    "duration": 36,
    "start_time": "2025-04-23T17:23:13.743Z"
   },
   {
    "duration": 24,
    "start_time": "2025-04-23T17:23:13.782Z"
   },
   {
    "duration": 141,
    "start_time": "2025-04-23T17:23:13.808Z"
   },
   {
    "duration": 30,
    "start_time": "2025-04-23T17:23:13.951Z"
   },
   {
    "duration": 84,
    "start_time": "2025-04-23T17:23:13.983Z"
   },
   {
    "duration": 93,
    "start_time": "2025-04-23T17:23:14.068Z"
   },
   {
    "duration": 3,
    "start_time": "2025-04-23T17:23:14.163Z"
   },
   {
    "duration": 48,
    "start_time": "2025-04-23T17:23:14.167Z"
   },
   {
    "duration": 29,
    "start_time": "2025-04-23T17:23:14.217Z"
   },
   {
    "duration": 207,
    "start_time": "2025-04-23T17:23:14.248Z"
   },
   {
    "duration": 9,
    "start_time": "2025-04-23T17:23:14.460Z"
   },
   {
    "duration": 134,
    "start_time": "2025-04-23T17:23:14.470Z"
   },
   {
    "duration": 10,
    "start_time": "2025-04-23T17:23:14.606Z"
   },
   {
    "duration": 21,
    "start_time": "2025-04-23T17:23:14.617Z"
   },
   {
    "duration": 134,
    "start_time": "2025-04-23T17:23:14.640Z"
   },
   {
    "duration": 8,
    "start_time": "2025-04-23T17:23:14.776Z"
   },
   {
    "duration": 6,
    "start_time": "2025-04-23T17:23:14.785Z"
   },
   {
    "duration": 13,
    "start_time": "2025-04-23T17:23:14.793Z"
   },
   {
    "duration": 48,
    "start_time": "2025-04-23T17:23:14.808Z"
   },
   {
    "duration": 42,
    "start_time": "2025-04-23T17:23:14.858Z"
   },
   {
    "duration": 29,
    "start_time": "2025-04-23T17:23:14.902Z"
   },
   {
    "duration": 9,
    "start_time": "2025-04-23T17:23:14.932Z"
   },
   {
    "duration": 8,
    "start_time": "2025-04-23T17:23:14.942Z"
   },
   {
    "duration": 8,
    "start_time": "2025-04-23T17:23:14.951Z"
   },
   {
    "duration": 24,
    "start_time": "2025-04-23T17:23:14.961Z"
   },
   {
    "duration": 117,
    "start_time": "2025-04-23T17:23:14.987Z"
   },
   {
    "duration": 12,
    "start_time": "2025-04-23T17:25:36.202Z"
   },
   {
    "duration": 13,
    "start_time": "2025-04-23T17:25:59.248Z"
   },
   {
    "duration": 8,
    "start_time": "2025-04-23T17:26:57.919Z"
   },
   {
    "duration": 6,
    "start_time": "2025-04-23T17:28:13.843Z"
   },
   {
    "duration": 26,
    "start_time": "2025-04-23T17:41:15.228Z"
   },
   {
    "duration": 7,
    "start_time": "2025-04-23T17:43:05.520Z"
   },
   {
    "duration": 17,
    "start_time": "2025-04-23T17:43:10.801Z"
   },
   {
    "duration": 27,
    "start_time": "2025-04-23T17:43:43.135Z"
   },
   {
    "duration": 62,
    "start_time": "2025-04-23T17:50:33.448Z"
   },
   {
    "duration": 117,
    "start_time": "2025-04-23T17:51:26.467Z"
   },
   {
    "duration": 773,
    "start_time": "2025-04-23T17:59:48.599Z"
   },
   {
    "duration": 409,
    "start_time": "2025-04-23T17:59:49.375Z"
   },
   {
    "duration": 6,
    "start_time": "2025-04-23T17:59:49.786Z"
   },
   {
    "duration": 47,
    "start_time": "2025-04-23T17:59:49.794Z"
   },
   {
    "duration": 20,
    "start_time": "2025-04-23T17:59:49.844Z"
   },
   {
    "duration": 102,
    "start_time": "2025-04-23T17:59:49.865Z"
   },
   {
    "duration": 29,
    "start_time": "2025-04-23T17:59:49.968Z"
   },
   {
    "duration": 80,
    "start_time": "2025-04-23T17:59:49.998Z"
   },
   {
    "duration": 67,
    "start_time": "2025-04-23T17:59:50.080Z"
   },
   {
    "duration": 4,
    "start_time": "2025-04-23T17:59:50.148Z"
   },
   {
    "duration": 40,
    "start_time": "2025-04-23T17:59:50.154Z"
   },
   {
    "duration": 37,
    "start_time": "2025-04-23T17:59:50.195Z"
   },
   {
    "duration": 160,
    "start_time": "2025-04-23T17:59:50.234Z"
   },
   {
    "duration": 9,
    "start_time": "2025-04-23T17:59:50.397Z"
   },
   {
    "duration": 134,
    "start_time": "2025-04-23T17:59:50.407Z"
   },
   {
    "duration": 8,
    "start_time": "2025-04-23T17:59:50.543Z"
   },
   {
    "duration": 8,
    "start_time": "2025-04-23T17:59:50.552Z"
   },
   {
    "duration": 149,
    "start_time": "2025-04-23T17:59:50.562Z"
   },
   {
    "duration": 7,
    "start_time": "2025-04-23T17:59:50.712Z"
   },
   {
    "duration": 8,
    "start_time": "2025-04-23T17:59:50.730Z"
   },
   {
    "duration": 12,
    "start_time": "2025-04-23T17:59:50.739Z"
   },
   {
    "duration": 26,
    "start_time": "2025-04-23T17:59:50.752Z"
   },
   {
    "duration": 57,
    "start_time": "2025-04-23T17:59:50.780Z"
   },
   {
    "duration": 11,
    "start_time": "2025-04-23T17:59:50.839Z"
   },
   {
    "duration": 8,
    "start_time": "2025-04-23T17:59:50.851Z"
   },
   {
    "duration": 7,
    "start_time": "2025-04-23T17:59:50.861Z"
   },
   {
    "duration": 7,
    "start_time": "2025-04-23T17:59:50.870Z"
   },
   {
    "duration": 21,
    "start_time": "2025-04-23T17:59:50.878Z"
   },
   {
    "duration": 110,
    "start_time": "2025-04-23T17:59:50.901Z"
   },
   {
    "duration": 24,
    "start_time": "2025-04-23T17:59:51.013Z"
   },
   {
    "duration": 6,
    "start_time": "2025-04-23T17:59:51.039Z"
   },
   {
    "duration": 17,
    "start_time": "2025-04-23T17:59:51.046Z"
   },
   {
    "duration": 116,
    "start_time": "2025-04-23T17:59:51.065Z"
   },
   {
    "duration": 108,
    "start_time": "2025-04-23T17:59:51.182Z"
   },
   {
    "duration": 46,
    "start_time": "2025-04-23T17:59:51.292Z"
   },
   {
    "duration": 91,
    "start_time": "2025-04-23T18:19:49.578Z"
   },
   {
    "duration": 2513,
    "start_time": "2025-04-23T22:25:01.591Z"
   },
   {
    "duration": 469,
    "start_time": "2025-04-23T22:25:04.106Z"
   },
   {
    "duration": 4,
    "start_time": "2025-04-23T22:25:04.577Z"
   },
   {
    "duration": 43,
    "start_time": "2025-04-23T22:25:04.584Z"
   },
   {
    "duration": 21,
    "start_time": "2025-04-23T22:25:04.629Z"
   },
   {
    "duration": 106,
    "start_time": "2025-04-23T22:25:04.652Z"
   },
   {
    "duration": 29,
    "start_time": "2025-04-23T22:25:04.760Z"
   },
   {
    "duration": 84,
    "start_time": "2025-04-23T22:25:04.790Z"
   },
   {
    "duration": 65,
    "start_time": "2025-04-23T22:25:04.875Z"
   },
   {
    "duration": 4,
    "start_time": "2025-04-23T22:25:04.944Z"
   },
   {
    "duration": 38,
    "start_time": "2025-04-23T22:25:04.949Z"
   },
   {
    "duration": 20,
    "start_time": "2025-04-23T22:25:05.008Z"
   },
   {
    "duration": 172,
    "start_time": "2025-04-23T22:25:05.030Z"
   },
   {
    "duration": 10,
    "start_time": "2025-04-23T22:25:05.208Z"
   },
   {
    "duration": 130,
    "start_time": "2025-04-23T22:25:05.219Z"
   },
   {
    "duration": 8,
    "start_time": "2025-04-23T22:25:05.350Z"
   },
   {
    "duration": 10,
    "start_time": "2025-04-23T22:25:05.360Z"
   },
   {
    "duration": 138,
    "start_time": "2025-04-23T22:25:05.372Z"
   },
   {
    "duration": 8,
    "start_time": "2025-04-23T22:25:05.512Z"
   },
   {
    "duration": 8,
    "start_time": "2025-04-23T22:25:05.522Z"
   },
   {
    "duration": 12,
    "start_time": "2025-04-23T22:25:05.531Z"
   },
   {
    "duration": 31,
    "start_time": "2025-04-23T22:25:05.545Z"
   },
   {
    "duration": 58,
    "start_time": "2025-04-23T22:25:05.578Z"
   },
   {
    "duration": 12,
    "start_time": "2025-04-23T22:25:05.639Z"
   },
   {
    "duration": 8,
    "start_time": "2025-04-23T22:25:05.653Z"
   },
   {
    "duration": 8,
    "start_time": "2025-04-23T22:25:05.663Z"
   },
   {
    "duration": 6,
    "start_time": "2025-04-23T22:25:05.672Z"
   },
   {
    "duration": 20,
    "start_time": "2025-04-23T22:25:05.710Z"
   },
   {
    "duration": 34,
    "start_time": "2025-04-23T22:25:05.732Z"
   },
   {
    "duration": 12,
    "start_time": "2025-04-23T22:25:05.768Z"
   },
   {
    "duration": 29,
    "start_time": "2025-04-23T22:25:05.782Z"
   },
   {
    "duration": 20,
    "start_time": "2025-04-23T22:25:05.812Z"
   },
   {
    "duration": 115,
    "start_time": "2025-04-23T22:25:05.834Z"
   },
   {
    "duration": 112,
    "start_time": "2025-04-23T22:25:05.951Z"
   },
   {
    "duration": 49,
    "start_time": "2025-04-23T22:25:06.066Z"
   },
   {
    "duration": 92,
    "start_time": "2025-04-23T22:25:06.117Z"
   },
   {
    "duration": 781,
    "start_time": "2025-04-23T23:00:30.710Z"
   },
   {
    "duration": 417,
    "start_time": "2025-04-23T23:00:31.493Z"
   },
   {
    "duration": 8,
    "start_time": "2025-04-23T23:00:31.912Z"
   },
   {
    "duration": 35,
    "start_time": "2025-04-23T23:00:31.923Z"
   },
   {
    "duration": 20,
    "start_time": "2025-04-23T23:00:31.962Z"
   },
   {
    "duration": 122,
    "start_time": "2025-04-23T23:00:31.983Z"
   },
   {
    "duration": 30,
    "start_time": "2025-04-23T23:00:32.106Z"
   },
   {
    "duration": 77,
    "start_time": "2025-04-23T23:00:32.138Z"
   },
   {
    "duration": 59,
    "start_time": "2025-04-23T23:00:32.217Z"
   },
   {
    "duration": 5,
    "start_time": "2025-04-23T23:00:32.278Z"
   },
   {
    "duration": 50,
    "start_time": "2025-04-23T23:00:32.284Z"
   },
   {
    "duration": 17,
    "start_time": "2025-04-23T23:00:32.336Z"
   },
   {
    "duration": 173,
    "start_time": "2025-04-23T23:00:32.355Z"
   },
   {
    "duration": 8,
    "start_time": "2025-04-23T23:00:32.531Z"
   },
   {
    "duration": 124,
    "start_time": "2025-04-23T23:00:32.541Z"
   },
   {
    "duration": 7,
    "start_time": "2025-04-23T23:00:32.667Z"
   },
   {
    "duration": 6,
    "start_time": "2025-04-23T23:00:32.676Z"
   },
   {
    "duration": 144,
    "start_time": "2025-04-23T23:00:32.684Z"
   },
   {
    "duration": 6,
    "start_time": "2025-04-23T23:00:32.830Z"
   },
   {
    "duration": 7,
    "start_time": "2025-04-23T23:00:32.837Z"
   },
   {
    "duration": 11,
    "start_time": "2025-04-23T23:00:32.845Z"
   },
   {
    "duration": 25,
    "start_time": "2025-04-23T23:00:32.858Z"
   },
   {
    "duration": 55,
    "start_time": "2025-04-23T23:00:32.885Z"
   },
   {
    "duration": 11,
    "start_time": "2025-04-23T23:00:32.942Z"
   },
   {
    "duration": 8,
    "start_time": "2025-04-23T23:00:32.955Z"
   },
   {
    "duration": 6,
    "start_time": "2025-04-23T23:00:32.964Z"
   },
   {
    "duration": 5,
    "start_time": "2025-04-23T23:00:32.972Z"
   },
   {
    "duration": 21,
    "start_time": "2025-04-23T23:00:33.009Z"
   },
   {
    "duration": 88,
    "start_time": "2025-04-23T23:00:33.032Z"
   },
   {
    "duration": 12,
    "start_time": "2025-04-23T23:00:33.122Z"
   },
   {
    "duration": 6,
    "start_time": "2025-04-23T23:00:33.135Z"
   },
   {
    "duration": 17,
    "start_time": "2025-04-23T23:00:33.143Z"
   },
   {
    "duration": 128,
    "start_time": "2025-04-23T23:00:33.162Z"
   },
   {
    "duration": 126,
    "start_time": "2025-04-23T23:00:33.292Z"
   },
   {
    "duration": 42,
    "start_time": "2025-04-23T23:00:33.421Z"
   },
   {
    "duration": 3,
    "start_time": "2025-04-23T23:00:33.464Z"
   },
   {
    "duration": 245,
    "start_time": "2025-04-23T23:07:43.964Z"
   },
   {
    "duration": 245,
    "start_time": "2025-04-23T23:35:22.800Z"
   },
   {
    "duration": 193,
    "start_time": "2025-04-23T23:36:32.991Z"
   },
   {
    "duration": 269,
    "start_time": "2025-04-23T23:37:34.252Z"
   },
   {
    "duration": 82,
    "start_time": "2025-04-23T23:48:00.080Z"
   },
   {
    "duration": 97,
    "start_time": "2025-04-23T23:48:23.271Z"
   },
   {
    "duration": 89,
    "start_time": "2025-04-23T23:49:27.404Z"
   },
   {
    "duration": 2588,
    "start_time": "2025-04-24T14:42:21.980Z"
   },
   {
    "duration": 457,
    "start_time": "2025-04-24T14:42:24.569Z"
   },
   {
    "duration": 6,
    "start_time": "2025-04-24T14:42:25.028Z"
   },
   {
    "duration": 29,
    "start_time": "2025-04-24T14:42:25.037Z"
   },
   {
    "duration": 19,
    "start_time": "2025-04-24T14:42:25.068Z"
   },
   {
    "duration": 120,
    "start_time": "2025-04-24T14:42:25.089Z"
   },
   {
    "duration": 29,
    "start_time": "2025-04-24T14:42:25.211Z"
   },
   {
    "duration": 75,
    "start_time": "2025-04-24T14:42:25.242Z"
   },
   {
    "duration": 60,
    "start_time": "2025-04-24T14:42:25.319Z"
   },
   {
    "duration": 3,
    "start_time": "2025-04-24T14:42:25.382Z"
   },
   {
    "duration": 59,
    "start_time": "2025-04-24T14:42:25.386Z"
   },
   {
    "duration": 20,
    "start_time": "2025-04-24T14:42:25.447Z"
   },
   {
    "duration": 182,
    "start_time": "2025-04-24T14:42:25.468Z"
   },
   {
    "duration": 7,
    "start_time": "2025-04-24T14:42:25.652Z"
   },
   {
    "duration": 130,
    "start_time": "2025-04-24T14:42:25.661Z"
   },
   {
    "duration": 8,
    "start_time": "2025-04-24T14:42:25.792Z"
   },
   {
    "duration": 8,
    "start_time": "2025-04-24T14:42:25.809Z"
   },
   {
    "duration": 137,
    "start_time": "2025-04-24T14:42:25.818Z"
   },
   {
    "duration": 6,
    "start_time": "2025-04-24T14:42:25.958Z"
   },
   {
    "duration": 7,
    "start_time": "2025-04-24T14:42:25.966Z"
   },
   {
    "duration": 35,
    "start_time": "2025-04-24T14:42:25.974Z"
   },
   {
    "duration": 27,
    "start_time": "2025-04-24T14:42:26.011Z"
   },
   {
    "duration": 35,
    "start_time": "2025-04-24T14:42:26.040Z"
   },
   {
    "duration": 10,
    "start_time": "2025-04-24T14:42:26.077Z"
   },
   {
    "duration": 8,
    "start_time": "2025-04-24T14:42:26.110Z"
   },
   {
    "duration": 6,
    "start_time": "2025-04-24T14:42:26.120Z"
   },
   {
    "duration": 6,
    "start_time": "2025-04-24T14:42:26.128Z"
   },
   {
    "duration": 19,
    "start_time": "2025-04-24T14:42:26.138Z"
   },
   {
    "duration": 66,
    "start_time": "2025-04-24T14:42:26.159Z"
   },
   {
    "duration": 12,
    "start_time": "2025-04-24T14:42:26.227Z"
   },
   {
    "duration": 6,
    "start_time": "2025-04-24T14:42:26.241Z"
   },
   {
    "duration": 17,
    "start_time": "2025-04-24T14:42:26.249Z"
   },
   {
    "duration": 129,
    "start_time": "2025-04-24T14:42:26.268Z"
   },
   {
    "duration": 119,
    "start_time": "2025-04-24T14:42:26.399Z"
   },
   {
    "duration": 43,
    "start_time": "2025-04-24T14:42:26.520Z"
   },
   {
    "duration": 216,
    "start_time": "2025-04-24T14:42:26.565Z"
   },
   {
    "duration": 251,
    "start_time": "2025-04-24T14:42:26.783Z"
   },
   {
    "duration": 207,
    "start_time": "2025-04-24T14:42:27.036Z"
   },
   {
    "duration": 395,
    "start_time": "2025-04-24T14:42:27.245Z"
   },
   {
    "duration": 107,
    "start_time": "2025-04-24T14:42:27.642Z"
   },
   {
    "duration": 103,
    "start_time": "2025-04-24T14:42:27.751Z"
   },
   {
    "duration": 90,
    "start_time": "2025-04-24T14:43:04.015Z"
   },
   {
    "duration": 2516,
    "start_time": "2025-04-24T15:59:24.491Z"
   },
   {
    "duration": 432,
    "start_time": "2025-04-24T15:59:27.009Z"
   },
   {
    "duration": 5,
    "start_time": "2025-04-24T15:59:27.442Z"
   },
   {
    "duration": 44,
    "start_time": "2025-04-24T15:59:27.450Z"
   },
   {
    "duration": 20,
    "start_time": "2025-04-24T15:59:27.496Z"
   },
   {
    "duration": 99,
    "start_time": "2025-04-24T15:59:27.518Z"
   },
   {
    "duration": 28,
    "start_time": "2025-04-24T15:59:27.619Z"
   },
   {
    "duration": 79,
    "start_time": "2025-04-24T15:59:27.649Z"
   },
   {
    "duration": 67,
    "start_time": "2025-04-24T15:59:27.730Z"
   },
   {
    "duration": 4,
    "start_time": "2025-04-24T15:59:27.801Z"
   },
   {
    "duration": 39,
    "start_time": "2025-04-24T15:59:27.807Z"
   },
   {
    "duration": 41,
    "start_time": "2025-04-24T15:59:27.848Z"
   },
   {
    "duration": 162,
    "start_time": "2025-04-24T15:59:27.891Z"
   },
   {
    "duration": 8,
    "start_time": "2025-04-24T15:59:28.054Z"
   },
   {
    "duration": 137,
    "start_time": "2025-04-24T15:59:28.064Z"
   },
   {
    "duration": 6,
    "start_time": "2025-04-24T15:59:28.203Z"
   },
   {
    "duration": 6,
    "start_time": "2025-04-24T15:59:28.211Z"
   },
   {
    "duration": 141,
    "start_time": "2025-04-24T15:59:28.218Z"
   },
   {
    "duration": 7,
    "start_time": "2025-04-24T15:59:28.361Z"
   },
   {
    "duration": 19,
    "start_time": "2025-04-24T15:59:28.370Z"
   },
   {
    "duration": 13,
    "start_time": "2025-04-24T15:59:28.390Z"
   },
   {
    "duration": 26,
    "start_time": "2025-04-24T15:59:28.406Z"
   },
   {
    "duration": 56,
    "start_time": "2025-04-24T15:59:28.434Z"
   },
   {
    "duration": 10,
    "start_time": "2025-04-24T15:59:28.493Z"
   },
   {
    "duration": 8,
    "start_time": "2025-04-24T15:59:28.504Z"
   },
   {
    "duration": 6,
    "start_time": "2025-04-24T15:59:28.514Z"
   },
   {
    "duration": 6,
    "start_time": "2025-04-24T15:59:28.521Z"
   },
   {
    "duration": 19,
    "start_time": "2025-04-24T15:59:28.531Z"
   },
   {
    "duration": 67,
    "start_time": "2025-04-24T15:59:28.553Z"
   },
   {
    "duration": 12,
    "start_time": "2025-04-24T15:59:28.622Z"
   },
   {
    "duration": 6,
    "start_time": "2025-04-24T15:59:28.635Z"
   },
   {
    "duration": 18,
    "start_time": "2025-04-24T15:59:28.643Z"
   },
   {
    "duration": 102,
    "start_time": "2025-04-24T15:59:28.686Z"
   },
   {
    "duration": 115,
    "start_time": "2025-04-24T15:59:28.790Z"
   },
   {
    "duration": 41,
    "start_time": "2025-04-24T15:59:28.907Z"
   },
   {
    "duration": 207,
    "start_time": "2025-04-24T15:59:28.949Z"
   },
   {
    "duration": 246,
    "start_time": "2025-04-24T15:59:29.158Z"
   },
   {
    "duration": 200,
    "start_time": "2025-04-24T15:59:29.406Z"
   },
   {
    "duration": 404,
    "start_time": "2025-04-24T15:59:29.608Z"
   },
   {
    "duration": 98,
    "start_time": "2025-04-24T15:59:30.014Z"
   },
   {
    "duration": 98,
    "start_time": "2025-04-24T15:59:30.114Z"
   },
   {
    "duration": 87,
    "start_time": "2025-04-24T15:59:35.960Z"
   },
   {
    "duration": 135,
    "start_time": "2025-04-24T16:01:03.592Z"
   },
   {
    "duration": 89,
    "start_time": "2025-04-24T16:03:45.122Z"
   },
   {
    "duration": 40,
    "start_time": "2025-04-24T16:06:06.489Z"
   },
   {
    "duration": 21,
    "start_time": "2025-04-24T16:07:43.400Z"
   },
   {
    "duration": 463,
    "start_time": "2025-04-24T16:12:35.699Z"
   },
   {
    "duration": 89,
    "start_time": "2025-04-24T16:19:46.707Z"
   },
   {
    "duration": 3,
    "start_time": "2025-04-24T16:21:30.056Z"
   },
   {
    "duration": 15,
    "start_time": "2025-04-24T16:21:49.465Z"
   },
   {
    "duration": 31,
    "start_time": "2025-04-24T16:21:58.147Z"
   },
   {
    "duration": 20,
    "start_time": "2025-04-24T16:22:16.610Z"
   },
   {
    "duration": 30,
    "start_time": "2025-04-24T18:27:36.817Z"
   },
   {
    "duration": 158,
    "start_time": "2025-04-24T18:45:31.055Z"
   },
   {
    "duration": 2816,
    "start_time": "2025-04-24T18:45:43.750Z"
   },
   {
    "duration": 478,
    "start_time": "2025-04-24T18:45:46.568Z"
   },
   {
    "duration": 7,
    "start_time": "2025-04-24T18:45:47.048Z"
   },
   {
    "duration": 34,
    "start_time": "2025-04-24T18:45:47.058Z"
   },
   {
    "duration": 21,
    "start_time": "2025-04-24T18:45:47.094Z"
   },
   {
    "duration": 128,
    "start_time": "2025-04-24T18:45:47.117Z"
   },
   {
    "duration": 27,
    "start_time": "2025-04-24T18:45:47.247Z"
   },
   {
    "duration": 81,
    "start_time": "2025-04-24T18:45:47.277Z"
   },
   {
    "duration": 61,
    "start_time": "2025-04-24T18:45:47.359Z"
   },
   {
    "duration": 4,
    "start_time": "2025-04-24T18:45:47.422Z"
   },
   {
    "duration": 43,
    "start_time": "2025-04-24T18:45:47.444Z"
   },
   {
    "duration": 19,
    "start_time": "2025-04-24T18:45:47.489Z"
   },
   {
    "duration": 192,
    "start_time": "2025-04-24T18:45:47.510Z"
   },
   {
    "duration": 8,
    "start_time": "2025-04-24T18:45:47.707Z"
   },
   {
    "duration": 198,
    "start_time": "2025-04-24T18:45:47.717Z"
   },
   {
    "duration": 7,
    "start_time": "2025-04-24T18:45:47.917Z"
   },
   {
    "duration": 21,
    "start_time": "2025-04-24T18:45:47.926Z"
   },
   {
    "duration": 136,
    "start_time": "2025-04-24T18:45:47.950Z"
   },
   {
    "duration": 7,
    "start_time": "2025-04-24T18:45:48.088Z"
   },
   {
    "duration": 8,
    "start_time": "2025-04-24T18:45:48.096Z"
   },
   {
    "duration": 12,
    "start_time": "2025-04-24T18:45:48.105Z"
   },
   {
    "duration": 48,
    "start_time": "2025-04-24T18:45:48.118Z"
   },
   {
    "duration": 35,
    "start_time": "2025-04-24T18:45:48.168Z"
   },
   {
    "duration": 11,
    "start_time": "2025-04-24T18:45:48.204Z"
   },
   {
    "duration": 31,
    "start_time": "2025-04-24T18:45:48.217Z"
   },
   {
    "duration": 6,
    "start_time": "2025-04-24T18:45:48.250Z"
   },
   {
    "duration": 7,
    "start_time": "2025-04-24T18:45:48.258Z"
   },
   {
    "duration": 20,
    "start_time": "2025-04-24T18:45:48.267Z"
   },
   {
    "duration": 71,
    "start_time": "2025-04-24T18:45:48.289Z"
   },
   {
    "duration": 12,
    "start_time": "2025-04-24T18:45:48.362Z"
   },
   {
    "duration": 6,
    "start_time": "2025-04-24T18:45:48.376Z"
   },
   {
    "duration": 17,
    "start_time": "2025-04-24T18:45:48.384Z"
   },
   {
    "duration": 123,
    "start_time": "2025-04-24T18:45:48.403Z"
   },
   {
    "duration": 117,
    "start_time": "2025-04-24T18:45:48.527Z"
   },
   {
    "duration": 44,
    "start_time": "2025-04-24T18:45:48.646Z"
   },
   {
    "duration": 211,
    "start_time": "2025-04-24T18:45:48.693Z"
   },
   {
    "duration": 285,
    "start_time": "2025-04-24T18:45:48.906Z"
   },
   {
    "duration": 204,
    "start_time": "2025-04-24T18:45:49.193Z"
   },
   {
    "duration": 309,
    "start_time": "2025-04-24T18:45:49.400Z"
   },
   {
    "duration": 100,
    "start_time": "2025-04-24T18:45:49.711Z"
   },
   {
    "duration": 102,
    "start_time": "2025-04-24T18:45:49.816Z"
   },
   {
    "duration": 48,
    "start_time": "2025-04-24T18:45:49.923Z"
   },
   {
    "duration": 20,
    "start_time": "2025-04-24T18:45:49.973Z"
   },
   {
    "duration": 514,
    "start_time": "2025-04-24T18:45:49.996Z"
   },
   {
    "duration": 107,
    "start_time": "2025-04-24T18:45:50.512Z"
   },
   {
    "duration": 3,
    "start_time": "2025-04-24T18:45:50.621Z"
   },
   {
    "duration": 26,
    "start_time": "2025-04-24T18:45:50.626Z"
   },
   {
    "duration": 930,
    "start_time": "2025-04-24T19:17:07.202Z"
   },
   {
    "duration": 402,
    "start_time": "2025-04-24T19:17:08.134Z"
   },
   {
    "duration": 5,
    "start_time": "2025-04-24T19:17:08.542Z"
   },
   {
    "duration": 31,
    "start_time": "2025-04-24T19:17:08.548Z"
   },
   {
    "duration": 87,
    "start_time": "2025-04-24T19:17:08.581Z"
   },
   {
    "duration": 97,
    "start_time": "2025-04-24T19:17:08.669Z"
   },
   {
    "duration": 28,
    "start_time": "2025-04-24T19:17:08.768Z"
   },
   {
    "duration": 86,
    "start_time": "2025-04-24T19:17:08.798Z"
   },
   {
    "duration": 66,
    "start_time": "2025-04-24T19:17:08.886Z"
   },
   {
    "duration": 4,
    "start_time": "2025-04-24T19:17:08.954Z"
   },
   {
    "duration": 44,
    "start_time": "2025-04-24T19:17:08.960Z"
   },
   {
    "duration": 42,
    "start_time": "2025-04-24T19:17:09.007Z"
   },
   {
    "duration": 165,
    "start_time": "2025-04-24T19:17:09.050Z"
   },
   {
    "duration": 7,
    "start_time": "2025-04-24T19:17:09.218Z"
   },
   {
    "duration": 125,
    "start_time": "2025-04-24T19:17:09.226Z"
   },
   {
    "duration": 7,
    "start_time": "2025-04-24T19:17:09.353Z"
   },
   {
    "duration": 7,
    "start_time": "2025-04-24T19:17:09.361Z"
   },
   {
    "duration": 145,
    "start_time": "2025-04-24T19:17:09.369Z"
   },
   {
    "duration": 7,
    "start_time": "2025-04-24T19:17:09.516Z"
   },
   {
    "duration": 19,
    "start_time": "2025-04-24T19:17:09.525Z"
   },
   {
    "duration": 12,
    "start_time": "2025-04-24T19:17:09.545Z"
   },
   {
    "duration": 27,
    "start_time": "2025-04-24T19:17:09.558Z"
   },
   {
    "duration": 35,
    "start_time": "2025-04-24T19:17:09.586Z"
   },
   {
    "duration": 11,
    "start_time": "2025-04-24T19:17:09.643Z"
   },
   {
    "duration": 9,
    "start_time": "2025-04-24T19:17:09.656Z"
   },
   {
    "duration": 7,
    "start_time": "2025-04-24T19:17:09.666Z"
   },
   {
    "duration": 7,
    "start_time": "2025-04-24T19:17:09.674Z"
   },
   {
    "duration": 19,
    "start_time": "2025-04-24T19:17:09.682Z"
   },
   {
    "duration": 70,
    "start_time": "2025-04-24T19:17:09.703Z"
   },
   {
    "duration": 12,
    "start_time": "2025-04-24T19:17:09.775Z"
   },
   {
    "duration": 6,
    "start_time": "2025-04-24T19:17:09.788Z"
   },
   {
    "duration": 17,
    "start_time": "2025-04-24T19:17:09.796Z"
   },
   {
    "duration": 130,
    "start_time": "2025-04-24T19:17:09.815Z"
   },
   {
    "duration": 118,
    "start_time": "2025-04-24T19:17:09.946Z"
   },
   {
    "duration": 41,
    "start_time": "2025-04-24T19:17:10.065Z"
   },
   {
    "duration": 227,
    "start_time": "2025-04-24T19:17:10.108Z"
   },
   {
    "duration": 259,
    "start_time": "2025-04-24T19:17:10.337Z"
   },
   {
    "duration": 202,
    "start_time": "2025-04-24T19:17:10.598Z"
   },
   {
    "duration": 287,
    "start_time": "2025-04-24T19:17:10.802Z"
   },
   {
    "duration": 107,
    "start_time": "2025-04-24T19:17:11.091Z"
   },
   {
    "duration": 102,
    "start_time": "2025-04-24T19:17:11.203Z"
   },
   {
    "duration": 43,
    "start_time": "2025-04-24T19:17:11.307Z"
   },
   {
    "duration": 20,
    "start_time": "2025-04-24T19:17:11.352Z"
   },
   {
    "duration": 486,
    "start_time": "2025-04-24T19:17:11.374Z"
   },
   {
    "duration": 99,
    "start_time": "2025-04-24T19:17:11.862Z"
   },
   {
    "duration": 3,
    "start_time": "2025-04-24T19:17:11.963Z"
   },
   {
    "duration": 2873,
    "start_time": "2025-04-25T20:21:50.076Z"
   },
   {
    "duration": 474,
    "start_time": "2025-04-25T20:21:52.951Z"
   },
   {
    "duration": 5,
    "start_time": "2025-04-25T20:21:53.427Z"
   },
   {
    "duration": 32,
    "start_time": "2025-04-25T20:21:53.434Z"
   },
   {
    "duration": 20,
    "start_time": "2025-04-25T20:21:53.469Z"
   },
   {
    "duration": 100,
    "start_time": "2025-04-25T20:21:53.510Z"
   },
   {
    "duration": 30,
    "start_time": "2025-04-25T20:21:53.612Z"
   },
   {
    "duration": 78,
    "start_time": "2025-04-25T20:21:53.644Z"
   },
   {
    "duration": 63,
    "start_time": "2025-04-25T20:21:53.724Z"
   },
   {
    "duration": 3,
    "start_time": "2025-04-25T20:21:53.789Z"
   },
   {
    "duration": 41,
    "start_time": "2025-04-25T20:21:53.810Z"
   },
   {
    "duration": 19,
    "start_time": "2025-04-25T20:21:53.853Z"
   },
   {
    "duration": 187,
    "start_time": "2025-04-25T20:21:53.874Z"
   },
   {
    "duration": 9,
    "start_time": "2025-04-25T20:21:54.066Z"
   },
   {
    "duration": 136,
    "start_time": "2025-04-25T20:21:54.077Z"
   },
   {
    "duration": 9,
    "start_time": "2025-04-25T20:21:54.215Z"
   },
   {
    "duration": 8,
    "start_time": "2025-04-25T20:21:54.226Z"
   },
   {
    "duration": 227,
    "start_time": "2025-04-25T20:21:54.236Z"
   },
   {
    "duration": 8,
    "start_time": "2025-04-25T20:21:54.465Z"
   },
   {
    "duration": 6,
    "start_time": "2025-04-25T20:21:54.474Z"
   },
   {
    "duration": 32,
    "start_time": "2025-04-25T20:21:54.482Z"
   },
   {
    "duration": 27,
    "start_time": "2025-04-25T20:21:54.516Z"
   },
   {
    "duration": 39,
    "start_time": "2025-04-25T20:21:54.545Z"
   },
   {
    "duration": 32,
    "start_time": "2025-04-25T20:21:54.586Z"
   },
   {
    "duration": 10,
    "start_time": "2025-04-25T20:21:54.620Z"
   },
   {
    "duration": 7,
    "start_time": "2025-04-25T20:21:54.632Z"
   },
   {
    "duration": 9,
    "start_time": "2025-04-25T20:21:54.641Z"
   },
   {
    "duration": 57,
    "start_time": "2025-04-25T20:21:54.652Z"
   },
   {
    "duration": 42,
    "start_time": "2025-04-25T20:21:54.712Z"
   },
   {
    "duration": 13,
    "start_time": "2025-04-25T20:21:54.755Z"
   },
   {
    "duration": 6,
    "start_time": "2025-04-25T20:21:54.770Z"
   },
   {
    "duration": 43,
    "start_time": "2025-04-25T20:21:54.778Z"
   },
   {
    "duration": 112,
    "start_time": "2025-04-25T20:21:54.823Z"
   },
   {
    "duration": 116,
    "start_time": "2025-04-25T20:21:54.937Z"
   },
   {
    "duration": 42,
    "start_time": "2025-04-25T20:21:55.055Z"
   },
   {
    "duration": 216,
    "start_time": "2025-04-25T20:21:55.109Z"
   },
   {
    "duration": 273,
    "start_time": "2025-04-25T20:21:55.326Z"
   },
   {
    "duration": 203,
    "start_time": "2025-04-25T20:21:55.608Z"
   },
   {
    "duration": 328,
    "start_time": "2025-04-25T20:21:55.813Z"
   },
   {
    "duration": 111,
    "start_time": "2025-04-25T20:21:56.143Z"
   },
   {
    "duration": 113,
    "start_time": "2025-04-25T20:21:56.260Z"
   },
   {
    "duration": 42,
    "start_time": "2025-04-25T20:21:56.375Z"
   },
   {
    "duration": 23,
    "start_time": "2025-04-25T20:21:56.419Z"
   },
   {
    "duration": 517,
    "start_time": "2025-04-25T20:21:56.444Z"
   },
   {
    "duration": 117,
    "start_time": "2025-04-25T20:21:56.963Z"
   },
   {
    "duration": 3,
    "start_time": "2025-04-25T20:21:57.082Z"
   },
   {
    "duration": 74,
    "start_time": "2025-04-25T20:30:05.186Z"
   },
   {
    "duration": 507,
    "start_time": "2025-04-25T20:36:53.626Z"
   },
   {
    "duration": 1127,
    "start_time": "2025-04-25T20:37:12.186Z"
   },
   {
    "duration": 408,
    "start_time": "2025-04-25T20:37:13.315Z"
   },
   {
    "duration": 4,
    "start_time": "2025-04-25T20:37:13.725Z"
   },
   {
    "duration": 30,
    "start_time": "2025-04-25T20:37:13.731Z"
   },
   {
    "duration": 19,
    "start_time": "2025-04-25T20:37:13.763Z"
   },
   {
    "duration": 114,
    "start_time": "2025-04-25T20:37:13.783Z"
   },
   {
    "duration": 40,
    "start_time": "2025-04-25T20:37:13.899Z"
   },
   {
    "duration": 73,
    "start_time": "2025-04-25T20:37:13.941Z"
   },
   {
    "duration": 59,
    "start_time": "2025-04-25T20:37:14.016Z"
   },
   {
    "duration": 3,
    "start_time": "2025-04-25T20:37:14.078Z"
   },
   {
    "duration": 61,
    "start_time": "2025-04-25T20:37:14.084Z"
   },
   {
    "duration": 18,
    "start_time": "2025-04-25T20:37:14.147Z"
   },
   {
    "duration": 184,
    "start_time": "2025-04-25T20:37:14.167Z"
   },
   {
    "duration": 9,
    "start_time": "2025-04-25T20:37:14.352Z"
   },
   {
    "duration": 125,
    "start_time": "2025-04-25T20:37:14.362Z"
   },
   {
    "duration": 7,
    "start_time": "2025-04-25T20:37:14.489Z"
   },
   {
    "duration": 7,
    "start_time": "2025-04-25T20:37:14.508Z"
   },
   {
    "duration": 134,
    "start_time": "2025-04-25T20:37:14.516Z"
   },
   {
    "duration": 7,
    "start_time": "2025-04-25T20:37:14.652Z"
   },
   {
    "duration": 7,
    "start_time": "2025-04-25T20:37:14.661Z"
   },
   {
    "duration": 14,
    "start_time": "2025-04-25T20:37:14.670Z"
   },
   {
    "duration": 26,
    "start_time": "2025-04-25T20:37:14.709Z"
   },
   {
    "duration": 34,
    "start_time": "2025-04-25T20:37:14.737Z"
   },
   {
    "duration": 10,
    "start_time": "2025-04-25T20:37:14.773Z"
   },
   {
    "duration": 32,
    "start_time": "2025-04-25T20:37:14.784Z"
   },
   {
    "duration": 7,
    "start_time": "2025-04-25T20:37:14.818Z"
   },
   {
    "duration": 9,
    "start_time": "2025-04-25T20:37:14.827Z"
   },
   {
    "duration": 21,
    "start_time": "2025-04-25T20:37:14.841Z"
   },
   {
    "duration": 72,
    "start_time": "2025-04-25T20:37:14.865Z"
   },
   {
    "duration": 13,
    "start_time": "2025-04-25T20:37:14.939Z"
   },
   {
    "duration": 7,
    "start_time": "2025-04-25T20:37:14.953Z"
   },
   {
    "duration": 18,
    "start_time": "2025-04-25T20:37:14.961Z"
   },
   {
    "duration": 128,
    "start_time": "2025-04-25T20:37:14.981Z"
   },
   {
    "duration": 115,
    "start_time": "2025-04-25T20:37:15.111Z"
   },
   {
    "duration": 43,
    "start_time": "2025-04-25T20:37:15.228Z"
   },
   {
    "duration": 214,
    "start_time": "2025-04-25T20:37:15.273Z"
   },
   {
    "duration": 260,
    "start_time": "2025-04-25T20:37:15.489Z"
   },
   {
    "duration": 200,
    "start_time": "2025-04-25T20:37:15.750Z"
   },
   {
    "duration": 287,
    "start_time": "2025-04-25T20:37:15.952Z"
   },
   {
    "duration": 105,
    "start_time": "2025-04-25T20:37:16.241Z"
   },
   {
    "duration": 95,
    "start_time": "2025-04-25T20:37:16.348Z"
   },
   {
    "duration": 37,
    "start_time": "2025-04-25T20:37:16.446Z"
   },
   {
    "duration": 39,
    "start_time": "2025-04-25T20:37:16.488Z"
   },
   {
    "duration": 486,
    "start_time": "2025-04-25T20:37:16.532Z"
   },
   {
    "duration": 107,
    "start_time": "2025-04-25T20:37:17.020Z"
   },
   {
    "duration": 3,
    "start_time": "2025-04-25T20:37:17.129Z"
   },
   {
    "duration": 529,
    "start_time": "2025-04-25T20:37:17.134Z"
   },
   {
    "duration": 0,
    "start_time": "2025-04-25T20:37:17.666Z"
   },
   {
    "duration": 0,
    "start_time": "2025-04-25T20:37:17.667Z"
   },
   {
    "duration": 5490,
    "start_time": "2025-04-25T20:37:57.530Z"
   },
   {
    "duration": 3,
    "start_time": "2025-04-25T20:38:14.567Z"
   },
   {
    "duration": 4,
    "start_time": "2025-04-25T20:39:59.557Z"
   },
   {
    "duration": 2,
    "start_time": "2025-04-25T20:43:24.446Z"
   },
   {
    "duration": 2204188,
    "start_time": "2025-04-25T20:51:03.437Z"
   },
   {
    "duration": 2811,
    "start_time": "2025-04-26T03:11:29.704Z"
   },
   {
    "duration": 448,
    "start_time": "2025-04-26T03:11:32.518Z"
   },
   {
    "duration": 5,
    "start_time": "2025-04-26T03:11:32.967Z"
   },
   {
    "duration": 31,
    "start_time": "2025-04-26T03:11:32.974Z"
   },
   {
    "duration": 18,
    "start_time": "2025-04-26T03:11:33.025Z"
   },
   {
    "duration": 101,
    "start_time": "2025-04-26T03:11:33.045Z"
   },
   {
    "duration": 29,
    "start_time": "2025-04-26T03:11:33.147Z"
   },
   {
    "duration": 78,
    "start_time": "2025-04-26T03:11:33.178Z"
   },
   {
    "duration": 67,
    "start_time": "2025-04-26T03:11:33.258Z"
   },
   {
    "duration": 3,
    "start_time": "2025-04-26T03:11:33.327Z"
   },
   {
    "duration": 41,
    "start_time": "2025-04-26T03:11:33.332Z"
   },
   {
    "duration": 17,
    "start_time": "2025-04-26T03:11:33.375Z"
   },
   {
    "duration": 183,
    "start_time": "2025-04-26T03:11:33.394Z"
   },
   {
    "duration": 8,
    "start_time": "2025-04-26T03:11:33.581Z"
   },
   {
    "duration": 124,
    "start_time": "2025-04-26T03:11:33.590Z"
   },
   {
    "duration": 12,
    "start_time": "2025-04-26T03:11:33.716Z"
   },
   {
    "duration": 7,
    "start_time": "2025-04-26T03:11:33.729Z"
   },
   {
    "duration": 143,
    "start_time": "2025-04-26T03:11:33.737Z"
   },
   {
    "duration": 8,
    "start_time": "2025-04-26T03:11:33.882Z"
   },
   {
    "duration": 6,
    "start_time": "2025-04-26T03:11:33.891Z"
   },
   {
    "duration": 29,
    "start_time": "2025-04-26T03:11:33.899Z"
   },
   {
    "duration": 25,
    "start_time": "2025-04-26T03:11:33.929Z"
   },
   {
    "duration": 33,
    "start_time": "2025-04-26T03:11:33.956Z"
   },
   {
    "duration": 33,
    "start_time": "2025-04-26T03:11:33.991Z"
   },
   {
    "duration": 8,
    "start_time": "2025-04-26T03:11:34.025Z"
   },
   {
    "duration": 7,
    "start_time": "2025-04-26T03:11:34.035Z"
   },
   {
    "duration": 6,
    "start_time": "2025-04-26T03:11:34.043Z"
   },
   {
    "duration": 20,
    "start_time": "2025-04-26T03:11:34.050Z"
   },
   {
    "duration": 64,
    "start_time": "2025-04-26T03:11:34.072Z"
   },
   {
    "duration": 11,
    "start_time": "2025-04-26T03:11:34.138Z"
   },
   {
    "duration": 6,
    "start_time": "2025-04-26T03:11:34.151Z"
   },
   {
    "duration": 18,
    "start_time": "2025-04-26T03:11:34.159Z"
   },
   {
    "duration": 125,
    "start_time": "2025-04-26T03:11:34.178Z"
   },
   {
    "duration": 109,
    "start_time": "2025-04-26T03:11:34.305Z"
   },
   {
    "duration": 51,
    "start_time": "2025-04-26T03:11:34.416Z"
   },
   {
    "duration": 199,
    "start_time": "2025-04-26T03:11:34.470Z"
   },
   {
    "duration": 254,
    "start_time": "2025-04-26T03:11:34.670Z"
   },
   {
    "duration": 200,
    "start_time": "2025-04-26T03:11:34.926Z"
   },
   {
    "duration": 325,
    "start_time": "2025-04-26T03:11:35.128Z"
   },
   {
    "duration": 105,
    "start_time": "2025-04-26T03:11:35.455Z"
   },
   {
    "duration": 100,
    "start_time": "2025-04-26T03:11:35.564Z"
   },
   {
    "duration": 35,
    "start_time": "2025-04-26T03:11:35.666Z"
   },
   {
    "duration": 31,
    "start_time": "2025-04-26T03:11:35.703Z"
   },
   {
    "duration": 474,
    "start_time": "2025-04-26T03:11:35.735Z"
   },
   {
    "duration": 98,
    "start_time": "2025-04-26T03:11:36.210Z"
   },
   {
    "duration": 3,
    "start_time": "2025-04-26T03:11:36.310Z"
   },
   {
    "duration": 4820,
    "start_time": "2025-04-26T03:11:36.325Z"
   },
   {
    "duration": 77,
    "start_time": "2025-04-26T03:11:41.149Z"
   },
   {
    "duration": 329,
    "start_time": "2025-04-26T03:11:41.230Z"
   },
   {
    "duration": 0,
    "start_time": "2025-04-26T03:11:41.562Z"
   },
   {
    "duration": 0,
    "start_time": "2025-04-26T03:11:41.563Z"
   },
   {
    "duration": 0,
    "start_time": "2025-04-26T03:11:41.564Z"
   },
   {
    "duration": 0,
    "start_time": "2025-04-26T03:11:41.564Z"
   },
   {
    "duration": 1109,
    "start_time": "2025-04-26T03:12:24.766Z"
   },
   {
    "duration": 422,
    "start_time": "2025-04-26T03:12:25.877Z"
   },
   {
    "duration": 4,
    "start_time": "2025-04-26T03:12:26.303Z"
   },
   {
    "duration": 42,
    "start_time": "2025-04-26T03:12:26.309Z"
   },
   {
    "duration": 21,
    "start_time": "2025-04-26T03:12:26.354Z"
   },
   {
    "duration": 102,
    "start_time": "2025-04-26T03:12:26.377Z"
   },
   {
    "duration": 46,
    "start_time": "2025-04-26T03:12:26.480Z"
   },
   {
    "duration": 63,
    "start_time": "2025-04-26T03:12:26.528Z"
   },
   {
    "duration": 66,
    "start_time": "2025-04-26T03:12:26.593Z"
   },
   {
    "duration": 3,
    "start_time": "2025-04-26T03:12:26.661Z"
   },
   {
    "duration": 58,
    "start_time": "2025-04-26T03:12:26.666Z"
   },
   {
    "duration": 19,
    "start_time": "2025-04-26T03:12:26.726Z"
   },
   {
    "duration": 168,
    "start_time": "2025-04-26T03:12:26.747Z"
   },
   {
    "duration": 10,
    "start_time": "2025-04-26T03:12:26.923Z"
   },
   {
    "duration": 120,
    "start_time": "2025-04-26T03:12:26.934Z"
   },
   {
    "duration": 7,
    "start_time": "2025-04-26T03:12:27.056Z"
   },
   {
    "duration": 6,
    "start_time": "2025-04-26T03:12:27.066Z"
   },
   {
    "duration": 145,
    "start_time": "2025-04-26T03:12:27.073Z"
   },
   {
    "duration": 8,
    "start_time": "2025-04-26T03:12:27.219Z"
   },
   {
    "duration": 7,
    "start_time": "2025-04-26T03:12:27.228Z"
   },
   {
    "duration": 11,
    "start_time": "2025-04-26T03:12:27.237Z"
   },
   {
    "duration": 26,
    "start_time": "2025-04-26T03:12:27.249Z"
   },
   {
    "duration": 68,
    "start_time": "2025-04-26T03:12:27.276Z"
   },
   {
    "duration": 10,
    "start_time": "2025-04-26T03:12:27.346Z"
   },
   {
    "duration": 7,
    "start_time": "2025-04-26T03:12:27.358Z"
   },
   {
    "duration": 6,
    "start_time": "2025-04-26T03:12:27.367Z"
   },
   {
    "duration": 7,
    "start_time": "2025-04-26T03:12:27.375Z"
   },
   {
    "duration": 48,
    "start_time": "2025-04-26T03:12:27.383Z"
   },
   {
    "duration": 34,
    "start_time": "2025-04-26T03:12:27.433Z"
   },
   {
    "duration": 11,
    "start_time": "2025-04-26T03:12:27.469Z"
   },
   {
    "duration": 6,
    "start_time": "2025-04-26T03:12:27.482Z"
   },
   {
    "duration": 42,
    "start_time": "2025-04-26T03:12:27.489Z"
   },
   {
    "duration": 104,
    "start_time": "2025-04-26T03:12:27.533Z"
   },
   {
    "duration": 112,
    "start_time": "2025-04-26T03:12:27.639Z"
   },
   {
    "duration": 42,
    "start_time": "2025-04-26T03:12:27.753Z"
   },
   {
    "duration": 211,
    "start_time": "2025-04-26T03:12:27.796Z"
   },
   {
    "duration": 250,
    "start_time": "2025-04-26T03:12:28.008Z"
   },
   {
    "duration": 192,
    "start_time": "2025-04-26T03:12:28.260Z"
   },
   {
    "duration": 287,
    "start_time": "2025-04-26T03:12:28.454Z"
   },
   {
    "duration": 97,
    "start_time": "2025-04-26T03:12:28.743Z"
   },
   {
    "duration": 113,
    "start_time": "2025-04-26T03:12:28.845Z"
   },
   {
    "duration": 35,
    "start_time": "2025-04-26T03:12:28.960Z"
   },
   {
    "duration": 36,
    "start_time": "2025-04-26T03:12:28.996Z"
   },
   {
    "duration": 481,
    "start_time": "2025-04-26T03:12:29.034Z"
   },
   {
    "duration": 109,
    "start_time": "2025-04-26T03:12:29.517Z"
   },
   {
    "duration": 3,
    "start_time": "2025-04-26T03:12:29.628Z"
   },
   {
    "duration": 4700,
    "start_time": "2025-04-26T03:12:29.633Z"
   },
   {
    "duration": 3,
    "start_time": "2025-04-26T03:12:34.335Z"
   },
   {
    "duration": 109449,
    "start_time": "2025-04-26T03:12:34.340Z"
   },
   {
    "duration": 3,
    "start_time": "2025-04-26T03:14:23.791Z"
   },
   {
    "duration": 5,
    "start_time": "2025-04-26T03:14:23.796Z"
   },
   {
    "duration": 4,
    "start_time": "2025-04-26T03:14:23.802Z"
   },
   {
    "duration": 16,
    "start_time": "2025-04-26T03:14:23.808Z"
   },
   {
    "duration": 1065,
    "start_time": "2025-04-26T03:19:19.181Z"
   },
   {
    "duration": 399,
    "start_time": "2025-04-26T03:19:20.249Z"
   },
   {
    "duration": 5,
    "start_time": "2025-04-26T03:19:20.650Z"
   },
   {
    "duration": 38,
    "start_time": "2025-04-26T03:19:20.657Z"
   },
   {
    "duration": 37,
    "start_time": "2025-04-26T03:19:20.698Z"
   },
   {
    "duration": 98,
    "start_time": "2025-04-26T03:19:20.737Z"
   },
   {
    "duration": 28,
    "start_time": "2025-04-26T03:19:20.836Z"
   },
   {
    "duration": 74,
    "start_time": "2025-04-26T03:19:20.866Z"
   },
   {
    "duration": 61,
    "start_time": "2025-04-26T03:19:20.941Z"
   },
   {
    "duration": 20,
    "start_time": "2025-04-26T03:19:21.004Z"
   },
   {
    "duration": 40,
    "start_time": "2025-04-26T03:19:21.025Z"
   },
   {
    "duration": 18,
    "start_time": "2025-04-26T03:19:21.067Z"
   },
   {
    "duration": 182,
    "start_time": "2025-04-26T03:19:21.087Z"
   },
   {
    "duration": 8,
    "start_time": "2025-04-26T03:19:21.273Z"
   },
   {
    "duration": 123,
    "start_time": "2025-04-26T03:19:21.283Z"
   },
   {
    "duration": 15,
    "start_time": "2025-04-26T03:19:21.408Z"
   },
   {
    "duration": 7,
    "start_time": "2025-04-26T03:19:21.425Z"
   },
   {
    "duration": 130,
    "start_time": "2025-04-26T03:19:21.434Z"
   },
   {
    "duration": 6,
    "start_time": "2025-04-26T03:19:21.566Z"
   },
   {
    "duration": 7,
    "start_time": "2025-04-26T03:19:21.574Z"
   },
   {
    "duration": 12,
    "start_time": "2025-04-26T03:19:21.583Z"
   },
   {
    "duration": 27,
    "start_time": "2025-04-26T03:19:21.623Z"
   },
   {
    "duration": 34,
    "start_time": "2025-04-26T03:19:21.651Z"
   },
   {
    "duration": 10,
    "start_time": "2025-04-26T03:19:21.687Z"
   },
   {
    "duration": 30,
    "start_time": "2025-04-26T03:19:21.698Z"
   },
   {
    "duration": 6,
    "start_time": "2025-04-26T03:19:21.729Z"
   },
   {
    "duration": 5,
    "start_time": "2025-04-26T03:19:21.737Z"
   },
   {
    "duration": 20,
    "start_time": "2025-04-26T03:19:21.745Z"
   },
   {
    "duration": 60,
    "start_time": "2025-04-26T03:19:21.766Z"
   },
   {
    "duration": 12,
    "start_time": "2025-04-26T03:19:21.828Z"
   },
   {
    "duration": 6,
    "start_time": "2025-04-26T03:19:21.841Z"
   },
   {
    "duration": 17,
    "start_time": "2025-04-26T03:19:21.849Z"
   },
   {
    "duration": 128,
    "start_time": "2025-04-26T03:19:21.868Z"
   },
   {
    "duration": 114,
    "start_time": "2025-04-26T03:19:21.998Z"
   },
   {
    "duration": 54,
    "start_time": "2025-04-26T03:19:22.113Z"
   },
   {
    "duration": 201,
    "start_time": "2025-04-26T03:19:22.168Z"
   },
   {
    "duration": 247,
    "start_time": "2025-04-26T03:19:22.371Z"
   },
   {
    "duration": 195,
    "start_time": "2025-04-26T03:19:22.624Z"
   },
   {
    "duration": 299,
    "start_time": "2025-04-26T03:19:22.825Z"
   },
   {
    "duration": 105,
    "start_time": "2025-04-26T03:19:23.126Z"
   },
   {
    "duration": 96,
    "start_time": "2025-04-26T03:19:23.237Z"
   },
   {
    "duration": 37,
    "start_time": "2025-04-26T03:19:23.334Z"
   },
   {
    "duration": 20,
    "start_time": "2025-04-26T03:19:23.372Z"
   },
   {
    "duration": 496,
    "start_time": "2025-04-26T03:19:23.394Z"
   },
   {
    "duration": 97,
    "start_time": "2025-04-26T03:19:23.891Z"
   },
   {
    "duration": 3,
    "start_time": "2025-04-26T03:19:23.989Z"
   },
   {
    "duration": 4635,
    "start_time": "2025-04-26T03:19:23.994Z"
   },
   {
    "duration": 3,
    "start_time": "2025-04-26T03:19:28.632Z"
   },
   {
    "duration": 110138,
    "start_time": "2025-04-26T03:19:28.636Z"
   },
   {
    "duration": 3,
    "start_time": "2025-04-26T03:21:18.775Z"
   },
   {
    "duration": 5,
    "start_time": "2025-04-26T03:21:18.780Z"
   },
   {
    "duration": 3,
    "start_time": "2025-04-26T03:21:18.787Z"
   },
   {
    "duration": 3,
    "start_time": "2025-04-26T03:21:18.792Z"
   },
   {
    "duration": 2682,
    "start_time": "2025-04-26T05:19:54.656Z"
   },
   {
    "duration": 537,
    "start_time": "2025-04-26T05:19:57.340Z"
   },
   {
    "duration": 5,
    "start_time": "2025-04-26T05:19:57.879Z"
   },
   {
    "duration": 43,
    "start_time": "2025-04-26T05:19:57.886Z"
   },
   {
    "duration": 21,
    "start_time": "2025-04-26T05:19:57.932Z"
   },
   {
    "duration": 101,
    "start_time": "2025-04-26T05:19:57.955Z"
   },
   {
    "duration": 27,
    "start_time": "2025-04-26T05:19:58.058Z"
   },
   {
    "duration": 79,
    "start_time": "2025-04-26T05:19:58.087Z"
   },
   {
    "duration": 71,
    "start_time": "2025-04-26T05:19:58.169Z"
   },
   {
    "duration": 3,
    "start_time": "2025-04-26T05:19:58.242Z"
   },
   {
    "duration": 37,
    "start_time": "2025-04-26T05:19:58.247Z"
   },
   {
    "duration": 39,
    "start_time": "2025-04-26T05:19:58.286Z"
   },
   {
    "duration": 163,
    "start_time": "2025-04-26T05:19:58.327Z"
   },
   {
    "duration": 6,
    "start_time": "2025-04-26T05:19:58.495Z"
   },
   {
    "duration": 127,
    "start_time": "2025-04-26T05:19:58.503Z"
   },
   {
    "duration": 7,
    "start_time": "2025-04-26T05:19:58.632Z"
   },
   {
    "duration": 5,
    "start_time": "2025-04-26T05:19:58.642Z"
   },
   {
    "duration": 140,
    "start_time": "2025-04-26T05:19:58.649Z"
   },
   {
    "duration": 7,
    "start_time": "2025-04-26T05:19:58.790Z"
   },
   {
    "duration": 7,
    "start_time": "2025-04-26T05:19:58.799Z"
   },
   {
    "duration": 12,
    "start_time": "2025-04-26T05:19:58.824Z"
   },
   {
    "duration": 26,
    "start_time": "2025-04-26T05:19:58.838Z"
   },
   {
    "duration": 35,
    "start_time": "2025-04-26T05:19:58.866Z"
   },
   {
    "duration": 27,
    "start_time": "2025-04-26T05:19:58.903Z"
   },
   {
    "duration": 9,
    "start_time": "2025-04-26T05:19:58.932Z"
   },
   {
    "duration": 7,
    "start_time": "2025-04-26T05:19:58.942Z"
   },
   {
    "duration": 83,
    "start_time": "2025-04-26T05:19:58.950Z"
   },
   {
    "duration": 19,
    "start_time": "2025-04-26T05:19:59.035Z"
   },
   {
    "duration": 33,
    "start_time": "2025-04-26T05:19:59.056Z"
   },
   {
    "duration": 33,
    "start_time": "2025-04-26T05:19:59.091Z"
   },
   {
    "duration": 6,
    "start_time": "2025-04-26T05:19:59.126Z"
   },
   {
    "duration": 18,
    "start_time": "2025-04-26T05:19:59.134Z"
   },
   {
    "duration": 119,
    "start_time": "2025-04-26T05:19:59.154Z"
   },
   {
    "duration": 110,
    "start_time": "2025-04-26T05:19:59.275Z"
   },
   {
    "duration": 50,
    "start_time": "2025-04-26T05:19:59.387Z"
   },
   {
    "duration": 212,
    "start_time": "2025-04-26T05:19:59.438Z"
   },
   {
    "duration": 254,
    "start_time": "2025-04-26T05:19:59.652Z"
   },
   {
    "duration": 202,
    "start_time": "2025-04-26T05:19:59.908Z"
   },
   {
    "duration": 336,
    "start_time": "2025-04-26T05:20:00.112Z"
   },
   {
    "duration": 100,
    "start_time": "2025-04-26T05:20:00.450Z"
   },
   {
    "duration": 98,
    "start_time": "2025-04-26T05:20:00.555Z"
   },
   {
    "duration": 35,
    "start_time": "2025-04-26T05:20:00.655Z"
   },
   {
    "duration": 32,
    "start_time": "2025-04-26T05:20:00.692Z"
   },
   {
    "duration": 474,
    "start_time": "2025-04-26T05:20:00.726Z"
   },
   {
    "duration": 99,
    "start_time": "2025-04-26T05:20:01.202Z"
   },
   {
    "duration": 3,
    "start_time": "2025-04-26T05:20:01.303Z"
   },
   {
    "duration": 4636,
    "start_time": "2025-04-26T05:20:01.307Z"
   },
   {
    "duration": 81,
    "start_time": "2025-04-26T05:20:05.945Z"
   },
   {
    "duration": 3,
    "start_time": "2025-04-26T05:20:06.032Z"
   },
   {
    "duration": 26625,
    "start_time": "2025-04-26T05:20:06.040Z"
   },
   {
    "duration": 3,
    "start_time": "2025-04-26T05:20:32.667Z"
   },
   {
    "duration": 4,
    "start_time": "2025-04-26T05:20:32.672Z"
   },
   {
    "duration": 242,
    "start_time": "2025-04-26T05:20:32.677Z"
   },
   {
    "duration": 26564,
    "start_time": "2025-04-26T05:22:27.229Z"
   },
   {
    "duration": 1946,
    "start_time": "2025-04-26T05:26:59.708Z"
   },
   {
    "duration": 1953,
    "start_time": "2025-04-26T05:27:13.580Z"
   },
   {
    "duration": 2,
    "start_time": "2025-04-26T05:29:10.356Z"
   },
   {
    "duration": 4,
    "start_time": "2025-04-26T05:29:11.529Z"
   },
   {
    "duration": 1790,
    "start_time": "2025-04-26T05:29:22.570Z"
   },
   {
    "duration": 1124,
    "start_time": "2025-04-26T05:32:04.038Z"
   },
   {
    "duration": 413,
    "start_time": "2025-04-26T05:32:05.164Z"
   },
   {
    "duration": 5,
    "start_time": "2025-04-26T05:32:05.578Z"
   },
   {
    "duration": 42,
    "start_time": "2025-04-26T05:32:05.585Z"
   },
   {
    "duration": 19,
    "start_time": "2025-04-26T05:32:05.630Z"
   },
   {
    "duration": 102,
    "start_time": "2025-04-26T05:32:05.650Z"
   },
   {
    "duration": 27,
    "start_time": "2025-04-26T05:32:05.754Z"
   },
   {
    "duration": 79,
    "start_time": "2025-04-26T05:32:05.783Z"
   },
   {
    "duration": 63,
    "start_time": "2025-04-26T05:32:05.864Z"
   },
   {
    "duration": 3,
    "start_time": "2025-04-26T05:32:05.928Z"
   },
   {
    "duration": 40,
    "start_time": "2025-04-26T05:32:05.933Z"
   },
   {
    "duration": 18,
    "start_time": "2025-04-26T05:32:05.974Z"
   },
   {
    "duration": 184,
    "start_time": "2025-04-26T05:32:05.994Z"
   },
   {
    "duration": 7,
    "start_time": "2025-04-26T05:32:06.182Z"
   },
   {
    "duration": 124,
    "start_time": "2025-04-26T05:32:06.190Z"
   },
   {
    "duration": 12,
    "start_time": "2025-04-26T05:32:06.316Z"
   },
   {
    "duration": 7,
    "start_time": "2025-04-26T05:32:06.329Z"
   },
   {
    "duration": 139,
    "start_time": "2025-04-26T05:32:06.337Z"
   },
   {
    "duration": 6,
    "start_time": "2025-04-26T05:32:06.478Z"
   },
   {
    "duration": 6,
    "start_time": "2025-04-26T05:32:06.486Z"
   },
   {
    "duration": 12,
    "start_time": "2025-04-26T05:32:06.493Z"
   },
   {
    "duration": 25,
    "start_time": "2025-04-26T05:32:06.525Z"
   },
   {
    "duration": 36,
    "start_time": "2025-04-26T05:32:06.552Z"
   },
   {
    "duration": 11,
    "start_time": "2025-04-26T05:32:06.590Z"
   },
   {
    "duration": 28,
    "start_time": "2025-04-26T05:32:06.602Z"
   },
   {
    "duration": 7,
    "start_time": "2025-04-26T05:32:06.632Z"
   },
   {
    "duration": 5,
    "start_time": "2025-04-26T05:32:06.641Z"
   },
   {
    "duration": 19,
    "start_time": "2025-04-26T05:32:06.648Z"
   },
   {
    "duration": 63,
    "start_time": "2025-04-26T05:32:06.669Z"
   },
   {
    "duration": 13,
    "start_time": "2025-04-26T05:32:06.733Z"
   },
   {
    "duration": 6,
    "start_time": "2025-04-26T05:32:06.748Z"
   },
   {
    "duration": 18,
    "start_time": "2025-04-26T05:32:06.755Z"
   },
   {
    "duration": 119,
    "start_time": "2025-04-26T05:32:06.775Z"
   },
   {
    "duration": 107,
    "start_time": "2025-04-26T05:32:06.896Z"
   },
   {
    "duration": 49,
    "start_time": "2025-04-26T05:32:07.005Z"
   },
   {
    "duration": 202,
    "start_time": "2025-04-26T05:32:07.056Z"
   },
   {
    "duration": 259,
    "start_time": "2025-04-26T05:32:07.259Z"
   },
   {
    "duration": 207,
    "start_time": "2025-04-26T05:32:07.524Z"
   },
   {
    "duration": 305,
    "start_time": "2025-04-26T05:32:07.732Z"
   },
   {
    "duration": 103,
    "start_time": "2025-04-26T05:32:08.039Z"
   },
   {
    "duration": 96,
    "start_time": "2025-04-26T05:32:08.147Z"
   },
   {
    "duration": 36,
    "start_time": "2025-04-26T05:32:08.245Z"
   },
   {
    "duration": 19,
    "start_time": "2025-04-26T05:32:08.282Z"
   },
   {
    "duration": 489,
    "start_time": "2025-04-26T05:32:08.303Z"
   },
   {
    "duration": 98,
    "start_time": "2025-04-26T05:32:08.794Z"
   },
   {
    "duration": 3,
    "start_time": "2025-04-26T05:32:08.894Z"
   },
   {
    "duration": 4740,
    "start_time": "2025-04-26T05:32:08.898Z"
   },
   {
    "duration": 5,
    "start_time": "2025-04-26T05:32:13.640Z"
   },
   {
    "duration": 109070,
    "start_time": "2025-04-26T05:32:13.725Z"
   },
   {
    "duration": 0,
    "start_time": "2025-04-26T05:34:02.796Z"
   },
   {
    "duration": 0,
    "start_time": "2025-04-26T05:34:02.798Z"
   },
   {
    "duration": 0,
    "start_time": "2025-04-26T05:34:02.799Z"
   },
   {
    "duration": 0,
    "start_time": "2025-04-26T05:34:02.800Z"
   },
   {
    "duration": 1,
    "start_time": "2025-04-26T05:34:02.802Z"
   },
   {
    "duration": 0,
    "start_time": "2025-04-26T05:34:02.804Z"
   },
   {
    "duration": 1086,
    "start_time": "2025-04-26T05:34:34.817Z"
   },
   {
    "duration": 398,
    "start_time": "2025-04-26T05:34:35.905Z"
   },
   {
    "duration": 5,
    "start_time": "2025-04-26T05:34:36.305Z"
   },
   {
    "duration": 41,
    "start_time": "2025-04-26T05:34:36.312Z"
   },
   {
    "duration": 21,
    "start_time": "2025-04-26T05:34:36.355Z"
   },
   {
    "duration": 107,
    "start_time": "2025-04-26T05:34:36.377Z"
   },
   {
    "duration": 42,
    "start_time": "2025-04-26T05:34:36.485Z"
   },
   {
    "duration": 62,
    "start_time": "2025-04-26T05:34:36.529Z"
   },
   {
    "duration": 67,
    "start_time": "2025-04-26T05:34:36.593Z"
   },
   {
    "duration": 3,
    "start_time": "2025-04-26T05:34:36.662Z"
   },
   {
    "duration": 39,
    "start_time": "2025-04-26T05:34:36.667Z"
   },
   {
    "duration": 20,
    "start_time": "2025-04-26T05:34:36.725Z"
   },
   {
    "duration": 164,
    "start_time": "2025-04-26T05:34:36.747Z"
   },
   {
    "duration": 14,
    "start_time": "2025-04-26T05:34:36.915Z"
   },
   {
    "duration": 119,
    "start_time": "2025-04-26T05:34:36.931Z"
   },
   {
    "duration": 8,
    "start_time": "2025-04-26T05:34:37.052Z"
   },
   {
    "duration": 7,
    "start_time": "2025-04-26T05:34:37.062Z"
   },
   {
    "duration": 144,
    "start_time": "2025-04-26T05:34:37.070Z"
   },
   {
    "duration": 12,
    "start_time": "2025-04-26T05:34:37.215Z"
   },
   {
    "duration": 6,
    "start_time": "2025-04-26T05:34:37.228Z"
   },
   {
    "duration": 11,
    "start_time": "2025-04-26T05:34:37.236Z"
   },
   {
    "duration": 26,
    "start_time": "2025-04-26T05:34:37.248Z"
   },
   {
    "duration": 65,
    "start_time": "2025-04-26T05:34:37.276Z"
   },
   {
    "duration": 10,
    "start_time": "2025-04-26T05:34:37.343Z"
   },
   {
    "duration": 8,
    "start_time": "2025-04-26T05:34:37.355Z"
   },
   {
    "duration": 6,
    "start_time": "2025-04-26T05:34:37.365Z"
   },
   {
    "duration": 6,
    "start_time": "2025-04-26T05:34:37.372Z"
   },
   {
    "duration": 49,
    "start_time": "2025-04-26T05:34:37.379Z"
   },
   {
    "duration": 35,
    "start_time": "2025-04-26T05:34:37.429Z"
   },
   {
    "duration": 12,
    "start_time": "2025-04-26T05:34:37.465Z"
   },
   {
    "duration": 6,
    "start_time": "2025-04-26T05:34:37.478Z"
   },
   {
    "duration": 42,
    "start_time": "2025-04-26T05:34:37.485Z"
   },
   {
    "duration": 106,
    "start_time": "2025-04-26T05:34:37.529Z"
   },
   {
    "duration": 112,
    "start_time": "2025-04-26T05:34:37.636Z"
   },
   {
    "duration": 42,
    "start_time": "2025-04-26T05:34:37.749Z"
   },
   {
    "duration": 219,
    "start_time": "2025-04-26T05:34:37.793Z"
   },
   {
    "duration": 241,
    "start_time": "2025-04-26T05:34:38.013Z"
   },
   {
    "duration": 195,
    "start_time": "2025-04-26T05:34:38.256Z"
   },
   {
    "duration": 286,
    "start_time": "2025-04-26T05:34:38.453Z"
   },
   {
    "duration": 99,
    "start_time": "2025-04-26T05:34:38.740Z"
   },
   {
    "duration": 99,
    "start_time": "2025-04-26T05:34:38.844Z"
   },
   {
    "duration": 35,
    "start_time": "2025-04-26T05:34:38.945Z"
   },
   {
    "duration": 19,
    "start_time": "2025-04-26T05:34:38.983Z"
   },
   {
    "duration": 486,
    "start_time": "2025-04-26T05:34:39.004Z"
   },
   {
    "duration": 111,
    "start_time": "2025-04-26T05:34:39.492Z"
   },
   {
    "duration": 4,
    "start_time": "2025-04-26T05:34:39.605Z"
   },
   {
    "duration": 5217,
    "start_time": "2025-04-26T05:34:39.610Z"
   },
   {
    "duration": 4,
    "start_time": "2025-04-26T05:34:44.829Z"
   },
   {
    "duration": 108270,
    "start_time": "2025-04-26T05:34:44.836Z"
   },
   {
    "duration": 28168,
    "start_time": "2025-04-26T05:36:33.108Z"
   },
   {
    "duration": 1946,
    "start_time": "2025-04-26T05:37:01.278Z"
   },
   {
    "duration": 3,
    "start_time": "2025-04-26T05:37:03.227Z"
   },
   {
    "duration": 4,
    "start_time": "2025-04-26T05:37:03.232Z"
   },
   {
    "duration": 2,
    "start_time": "2025-04-26T05:37:03.237Z"
   },
   {
    "duration": 4,
    "start_time": "2025-04-26T05:37:03.241Z"
   },
   {
    "duration": 4,
    "start_time": "2025-04-26T05:38:33.149Z"
   },
   {
    "duration": 2715,
    "start_time": "2025-04-27T06:00:43.644Z"
   },
   {
    "duration": 502,
    "start_time": "2025-04-27T06:00:46.361Z"
   },
   {
    "duration": 5,
    "start_time": "2025-04-27T06:00:46.865Z"
   },
   {
    "duration": 38,
    "start_time": "2025-04-27T06:00:46.872Z"
   },
   {
    "duration": 21,
    "start_time": "2025-04-27T06:00:46.912Z"
   },
   {
    "duration": 113,
    "start_time": "2025-04-27T06:00:46.935Z"
   },
   {
    "duration": 27,
    "start_time": "2025-04-27T06:00:47.051Z"
   },
   {
    "duration": 79,
    "start_time": "2025-04-27T06:00:47.080Z"
   },
   {
    "duration": 76,
    "start_time": "2025-04-27T06:00:47.160Z"
   },
   {
    "duration": 4,
    "start_time": "2025-04-27T06:00:47.241Z"
   },
   {
    "duration": 43,
    "start_time": "2025-04-27T06:00:47.246Z"
   },
   {
    "duration": 29,
    "start_time": "2025-04-27T06:00:47.291Z"
   },
   {
    "duration": 169,
    "start_time": "2025-04-27T06:00:47.321Z"
   },
   {
    "duration": 16,
    "start_time": "2025-04-27T06:00:47.494Z"
   },
   {
    "duration": 119,
    "start_time": "2025-04-27T06:00:47.512Z"
   },
   {
    "duration": 6,
    "start_time": "2025-04-27T06:00:47.633Z"
   },
   {
    "duration": 7,
    "start_time": "2025-04-27T06:00:47.641Z"
   },
   {
    "duration": 143,
    "start_time": "2025-04-27T06:00:47.649Z"
   },
   {
    "duration": 15,
    "start_time": "2025-04-27T06:00:47.794Z"
   },
   {
    "duration": 6,
    "start_time": "2025-04-27T06:00:47.811Z"
   },
   {
    "duration": 11,
    "start_time": "2025-04-27T06:00:47.818Z"
   },
   {
    "duration": 26,
    "start_time": "2025-04-27T06:00:47.832Z"
   },
   {
    "duration": 55,
    "start_time": "2025-04-27T06:00:47.860Z"
   },
   {
    "duration": 11,
    "start_time": "2025-04-27T06:00:47.917Z"
   },
   {
    "duration": 8,
    "start_time": "2025-04-27T06:00:47.929Z"
   },
   {
    "duration": 6,
    "start_time": "2025-04-27T06:00:47.939Z"
   },
   {
    "duration": 7,
    "start_time": "2025-04-27T06:00:47.946Z"
   },
   {
    "duration": 20,
    "start_time": "2025-04-27T06:00:47.955Z"
   },
   {
    "duration": 63,
    "start_time": "2025-04-27T06:00:47.977Z"
   },
   {
    "duration": 12,
    "start_time": "2025-04-27T06:00:48.042Z"
   },
   {
    "duration": 6,
    "start_time": "2025-04-27T06:00:48.055Z"
   },
   {
    "duration": 17,
    "start_time": "2025-04-27T06:00:48.063Z"
   },
   {
    "duration": 105,
    "start_time": "2025-04-27T06:00:48.110Z"
   },
   {
    "duration": 110,
    "start_time": "2025-04-27T06:00:48.216Z"
   },
   {
    "duration": 41,
    "start_time": "2025-04-27T06:00:48.328Z"
   },
   {
    "duration": 221,
    "start_time": "2025-04-27T06:00:48.372Z"
   },
   {
    "duration": 255,
    "start_time": "2025-04-27T06:00:48.595Z"
   },
   {
    "duration": 203,
    "start_time": "2025-04-27T06:00:48.852Z"
   },
   {
    "duration": 295,
    "start_time": "2025-04-27T06:00:49.057Z"
   },
   {
    "duration": 105,
    "start_time": "2025-04-27T06:00:49.354Z"
   },
   {
    "duration": 98,
    "start_time": "2025-04-27T06:00:49.465Z"
   },
   {
    "duration": 45,
    "start_time": "2025-04-27T06:00:49.565Z"
   },
   {
    "duration": 19,
    "start_time": "2025-04-27T06:00:49.612Z"
   },
   {
    "duration": 478,
    "start_time": "2025-04-27T06:00:49.633Z"
   },
   {
    "duration": 100,
    "start_time": "2025-04-27T06:00:50.112Z"
   },
   {
    "duration": 3,
    "start_time": "2025-04-27T06:00:50.214Z"
   },
   {
    "duration": 4409,
    "start_time": "2025-04-27T06:00:50.219Z"
   },
   {
    "duration": 3,
    "start_time": "2025-04-27T06:00:54.630Z"
   },
   {
    "duration": 106626,
    "start_time": "2025-04-27T06:00:54.635Z"
   },
   {
    "duration": 26341,
    "start_time": "2025-04-27T06:02:41.262Z"
   },
   {
    "duration": 1840,
    "start_time": "2025-04-27T06:03:07.609Z"
   },
   {
    "duration": 3,
    "start_time": "2025-04-27T06:03:09.451Z"
   },
   {
    "duration": 4,
    "start_time": "2025-04-27T06:03:09.457Z"
   },
   {
    "duration": 3,
    "start_time": "2025-04-27T06:03:09.463Z"
   },
   {
    "duration": 4,
    "start_time": "2025-04-27T06:03:09.468Z"
   },
   {
    "duration": 317,
    "start_time": "2025-04-27T06:10:24.493Z"
   },
   {
    "duration": 442,
    "start_time": "2025-04-27T06:11:16.247Z"
   },
   {
    "duration": 101,
    "start_time": "2025-04-27T06:12:18.680Z"
   },
   {
    "duration": 1013,
    "start_time": "2025-04-27T06:26:22.709Z"
   },
   {
    "duration": 423,
    "start_time": "2025-04-27T06:26:23.725Z"
   },
   {
    "duration": 6,
    "start_time": "2025-04-27T06:26:24.150Z"
   },
   {
    "duration": 34,
    "start_time": "2025-04-27T06:26:24.158Z"
   },
   {
    "duration": 19,
    "start_time": "2025-04-27T06:26:24.210Z"
   },
   {
    "duration": 102,
    "start_time": "2025-04-27T06:26:24.230Z"
   },
   {
    "duration": 28,
    "start_time": "2025-04-27T06:26:24.333Z"
   },
   {
    "duration": 82,
    "start_time": "2025-04-27T06:26:24.362Z"
   },
   {
    "duration": 67,
    "start_time": "2025-04-27T06:26:24.445Z"
   },
   {
    "duration": 3,
    "start_time": "2025-04-27T06:26:24.514Z"
   },
   {
    "duration": 39,
    "start_time": "2025-04-27T06:26:24.519Z"
   },
   {
    "duration": 17,
    "start_time": "2025-04-27T06:26:24.560Z"
   },
   {
    "duration": 183,
    "start_time": "2025-04-27T06:26:24.578Z"
   },
   {
    "duration": 7,
    "start_time": "2025-04-27T06:26:24.765Z"
   },
   {
    "duration": 129,
    "start_time": "2025-04-27T06:26:24.773Z"
   },
   {
    "duration": 7,
    "start_time": "2025-04-27T06:26:24.910Z"
   },
   {
    "duration": 6,
    "start_time": "2025-04-27T06:26:24.918Z"
   },
   {
    "duration": 144,
    "start_time": "2025-04-27T06:26:24.926Z"
   },
   {
    "duration": 8,
    "start_time": "2025-04-27T06:26:25.072Z"
   },
   {
    "duration": 7,
    "start_time": "2025-04-27T06:26:25.082Z"
   },
   {
    "duration": 28,
    "start_time": "2025-04-27T06:26:25.090Z"
   },
   {
    "duration": 28,
    "start_time": "2025-04-27T06:26:25.120Z"
   },
   {
    "duration": 34,
    "start_time": "2025-04-27T06:26:25.149Z"
   },
   {
    "duration": 31,
    "start_time": "2025-04-27T06:26:25.184Z"
   },
   {
    "duration": 8,
    "start_time": "2025-04-27T06:26:25.216Z"
   },
   {
    "duration": 6,
    "start_time": "2025-04-27T06:26:25.225Z"
   },
   {
    "duration": 5,
    "start_time": "2025-04-27T06:26:25.233Z"
   },
   {
    "duration": 19,
    "start_time": "2025-04-27T06:26:25.240Z"
   },
   {
    "duration": 63,
    "start_time": "2025-04-27T06:26:25.261Z"
   },
   {
    "duration": 13,
    "start_time": "2025-04-27T06:26:25.325Z"
   },
   {
    "duration": 6,
    "start_time": "2025-04-27T06:26:25.340Z"
   },
   {
    "duration": 18,
    "start_time": "2025-04-27T06:26:25.348Z"
   },
   {
    "duration": 126,
    "start_time": "2025-04-27T06:26:25.368Z"
   },
   {
    "duration": 115,
    "start_time": "2025-04-27T06:26:25.496Z"
   },
   {
    "duration": 41,
    "start_time": "2025-04-27T06:26:25.613Z"
   },
   {
    "duration": 205,
    "start_time": "2025-04-27T06:26:25.656Z"
   },
   {
    "duration": 250,
    "start_time": "2025-04-27T06:26:25.863Z"
   },
   {
    "duration": 196,
    "start_time": "2025-04-27T06:26:26.114Z"
   },
   {
    "duration": 309,
    "start_time": "2025-04-27T06:26:26.312Z"
   },
   {
    "duration": 103,
    "start_time": "2025-04-27T06:26:26.624Z"
   },
   {
    "duration": 99,
    "start_time": "2025-04-27T06:26:26.731Z"
   },
   {
    "duration": 36,
    "start_time": "2025-04-27T06:26:26.831Z"
   },
   {
    "duration": 22,
    "start_time": "2025-04-27T06:26:26.868Z"
   },
   {
    "duration": 501,
    "start_time": "2025-04-27T06:26:26.891Z"
   },
   {
    "duration": 106,
    "start_time": "2025-04-27T06:26:27.394Z"
   },
   {
    "duration": 3,
    "start_time": "2025-04-27T06:26:27.502Z"
   },
   {
    "duration": 4716,
    "start_time": "2025-04-27T06:26:27.509Z"
   },
   {
    "duration": 3,
    "start_time": "2025-04-27T06:26:32.227Z"
   },
   {
    "duration": 106941,
    "start_time": "2025-04-27T06:26:32.232Z"
   },
   {
    "duration": 26512,
    "start_time": "2025-04-27T06:28:19.175Z"
   },
   {
    "duration": 1820,
    "start_time": "2025-04-27T06:28:45.689Z"
   },
   {
    "duration": 313,
    "start_time": "2025-04-27T06:28:47.511Z"
   },
   {
    "duration": 0,
    "start_time": "2025-04-27T06:28:47.826Z"
   },
   {
    "duration": 0,
    "start_time": "2025-04-27T06:28:47.827Z"
   },
   {
    "duration": 0,
    "start_time": "2025-04-27T06:28:47.828Z"
   },
   {
    "duration": 0,
    "start_time": "2025-04-27T06:28:47.829Z"
   },
   {
    "duration": 377291,
    "start_time": "2025-04-27T06:29:43.930Z"
   },
   {
    "duration": 382198,
    "start_time": "2025-04-27T06:40:17.988Z"
   },
   {
    "duration": 2781,
    "start_time": "2025-04-27T15:19:48.606Z"
   },
   {
    "duration": 461,
    "start_time": "2025-04-27T15:19:51.389Z"
   },
   {
    "duration": 5,
    "start_time": "2025-04-27T15:19:51.852Z"
   },
   {
    "duration": 32,
    "start_time": "2025-04-27T15:19:51.859Z"
   },
   {
    "duration": 45,
    "start_time": "2025-04-27T15:19:51.894Z"
   },
   {
    "duration": 108,
    "start_time": "2025-04-27T15:19:51.941Z"
   },
   {
    "duration": 31,
    "start_time": "2025-04-27T15:19:52.051Z"
   },
   {
    "duration": 81,
    "start_time": "2025-04-27T15:19:52.084Z"
   },
   {
    "duration": 67,
    "start_time": "2025-04-27T15:19:52.167Z"
   },
   {
    "duration": 3,
    "start_time": "2025-04-27T15:19:52.236Z"
   },
   {
    "duration": 41,
    "start_time": "2025-04-27T15:19:52.241Z"
   },
   {
    "duration": 19,
    "start_time": "2025-04-27T15:19:52.284Z"
   },
   {
    "duration": 194,
    "start_time": "2025-04-27T15:19:52.305Z"
   },
   {
    "duration": 7,
    "start_time": "2025-04-27T15:19:52.503Z"
   },
   {
    "duration": 128,
    "start_time": "2025-04-27T15:19:52.512Z"
   },
   {
    "duration": 7,
    "start_time": "2025-04-27T15:19:52.642Z"
   },
   {
    "duration": 6,
    "start_time": "2025-04-27T15:19:52.651Z"
   },
   {
    "duration": 215,
    "start_time": "2025-04-27T15:19:52.659Z"
   },
   {
    "duration": 9,
    "start_time": "2025-04-27T15:19:52.876Z"
   },
   {
    "duration": 8,
    "start_time": "2025-04-27T15:19:52.886Z"
   },
   {
    "duration": 12,
    "start_time": "2025-04-27T15:19:52.896Z"
   },
   {
    "duration": 29,
    "start_time": "2025-04-27T15:19:52.933Z"
   },
   {
    "duration": 36,
    "start_time": "2025-04-27T15:19:52.964Z"
   },
   {
    "duration": 33,
    "start_time": "2025-04-27T15:19:53.002Z"
   },
   {
    "duration": 10,
    "start_time": "2025-04-27T15:19:53.037Z"
   },
   {
    "duration": 6,
    "start_time": "2025-04-27T15:19:53.049Z"
   },
   {
    "duration": 6,
    "start_time": "2025-04-27T15:19:53.057Z"
   },
   {
    "duration": 20,
    "start_time": "2025-04-27T15:19:53.065Z"
   },
   {
    "duration": 65,
    "start_time": "2025-04-27T15:19:53.087Z"
   },
   {
    "duration": 13,
    "start_time": "2025-04-27T15:19:53.153Z"
   },
   {
    "duration": 6,
    "start_time": "2025-04-27T15:19:53.168Z"
   },
   {
    "duration": 18,
    "start_time": "2025-04-27T15:19:53.175Z"
   },
   {
    "duration": 136,
    "start_time": "2025-04-27T15:19:53.195Z"
   },
   {
    "duration": 112,
    "start_time": "2025-04-27T15:19:53.333Z"
   },
   {
    "duration": 42,
    "start_time": "2025-04-27T15:19:53.447Z"
   },
   {
    "duration": 215,
    "start_time": "2025-04-27T15:19:53.491Z"
   },
   {
    "duration": 257,
    "start_time": "2025-04-27T15:19:53.708Z"
   },
   {
    "duration": 210,
    "start_time": "2025-04-27T15:19:53.967Z"
   },
   {
    "duration": 288,
    "start_time": "2025-04-27T15:19:54.178Z"
   },
   {
    "duration": 103,
    "start_time": "2025-04-27T15:19:54.468Z"
   },
   {
    "duration": 103,
    "start_time": "2025-04-27T15:19:54.577Z"
   },
   {
    "duration": 49,
    "start_time": "2025-04-27T15:19:54.682Z"
   },
   {
    "duration": 20,
    "start_time": "2025-04-27T15:19:54.734Z"
   },
   {
    "duration": 497,
    "start_time": "2025-04-27T15:19:54.755Z"
   },
   {
    "duration": 107,
    "start_time": "2025-04-27T15:19:55.253Z"
   },
   {
    "duration": 3,
    "start_time": "2025-04-27T15:19:55.362Z"
   },
   {
    "duration": 5190,
    "start_time": "2025-04-27T15:19:55.366Z"
   },
   {
    "duration": 82,
    "start_time": "2025-04-27T15:20:00.558Z"
   },
   {
    "duration": 117044,
    "start_time": "2025-04-27T15:20:00.646Z"
   },
   {
    "duration": 28824,
    "start_time": "2025-04-27T15:21:57.692Z"
   },
   {
    "duration": 1945,
    "start_time": "2025-04-27T15:22:26.518Z"
   },
   {
    "duration": 3,
    "start_time": "2025-04-27T15:22:28.466Z"
   },
   {
    "duration": 4,
    "start_time": "2025-04-27T15:22:28.471Z"
   },
   {
    "duration": 4,
    "start_time": "2025-04-27T15:22:28.477Z"
   },
   {
    "duration": 4,
    "start_time": "2025-04-27T15:22:28.482Z"
   },
   {
    "duration": 4,
    "start_time": "2025-04-27T15:22:28.488Z"
   },
   {
    "duration": 1993,
    "start_time": "2025-04-27T15:31:39.238Z"
   },
   {
    "duration": 799,
    "start_time": "2025-04-27T15:32:53.858Z"
   },
   {
    "duration": 220,
    "start_time": "2025-04-27T15:34:01.369Z"
   },
   {
    "duration": 155,
    "start_time": "2025-04-27T15:36:09.158Z"
   },
   {
    "duration": 59127,
    "start_time": "2025-04-27T15:36:40.459Z"
   },
   {
    "duration": 4,
    "start_time": "2025-04-27T15:43:41.567Z"
   },
   {
    "duration": 4,
    "start_time": "2025-04-27T15:46:48.173Z"
   },
   {
    "duration": 78,
    "start_time": "2025-04-27T15:58:25.912Z"
   },
   {
    "duration": 2765,
    "start_time": "2025-04-27T23:16:37.931Z"
   },
   {
    "duration": 438,
    "start_time": "2025-04-27T23:16:40.698Z"
   },
   {
    "duration": 5,
    "start_time": "2025-04-27T23:16:41.138Z"
   },
   {
    "duration": 28,
    "start_time": "2025-04-27T23:16:41.145Z"
   },
   {
    "duration": 20,
    "start_time": "2025-04-27T23:16:41.175Z"
   },
   {
    "duration": 111,
    "start_time": "2025-04-27T23:16:41.196Z"
   },
   {
    "duration": 43,
    "start_time": "2025-04-27T23:16:41.309Z"
   },
   {
    "duration": 64,
    "start_time": "2025-04-27T23:16:41.355Z"
   },
   {
    "duration": 67,
    "start_time": "2025-04-27T23:16:41.421Z"
   },
   {
    "duration": 5,
    "start_time": "2025-04-27T23:16:41.489Z"
   },
   {
    "duration": 54,
    "start_time": "2025-04-27T23:16:41.497Z"
   },
   {
    "duration": 18,
    "start_time": "2025-04-27T23:16:41.552Z"
   },
   {
    "duration": 228,
    "start_time": "2025-04-27T23:16:41.572Z"
   },
   {
    "duration": 9,
    "start_time": "2025-04-27T23:16:41.804Z"
   },
   {
    "duration": 130,
    "start_time": "2025-04-27T23:16:41.815Z"
   },
   {
    "duration": 8,
    "start_time": "2025-04-27T23:16:41.947Z"
   },
   {
    "duration": 6,
    "start_time": "2025-04-27T23:16:41.956Z"
   },
   {
    "duration": 146,
    "start_time": "2025-04-27T23:16:41.964Z"
   },
   {
    "duration": 7,
    "start_time": "2025-04-27T23:16:42.111Z"
   },
   {
    "duration": 6,
    "start_time": "2025-04-27T23:16:42.120Z"
   },
   {
    "duration": 13,
    "start_time": "2025-04-27T23:16:42.143Z"
   },
   {
    "duration": 25,
    "start_time": "2025-04-27T23:16:42.158Z"
   },
   {
    "duration": 35,
    "start_time": "2025-04-27T23:16:42.185Z"
   },
   {
    "duration": 11,
    "start_time": "2025-04-27T23:16:42.242Z"
   },
   {
    "duration": 8,
    "start_time": "2025-04-27T23:16:42.254Z"
   },
   {
    "duration": 6,
    "start_time": "2025-04-27T23:16:42.265Z"
   },
   {
    "duration": 7,
    "start_time": "2025-04-27T23:16:42.273Z"
   },
   {
    "duration": 19,
    "start_time": "2025-04-27T23:16:42.282Z"
   },
   {
    "duration": 73,
    "start_time": "2025-04-27T23:16:42.303Z"
   },
   {
    "duration": 12,
    "start_time": "2025-04-27T23:16:42.378Z"
   },
   {
    "duration": 6,
    "start_time": "2025-04-27T23:16:42.392Z"
   },
   {
    "duration": 17,
    "start_time": "2025-04-27T23:16:42.400Z"
   },
   {
    "duration": 111,
    "start_time": "2025-04-27T23:16:42.442Z"
   },
   {
    "duration": 114,
    "start_time": "2025-04-27T23:16:42.555Z"
   },
   {
    "duration": 42,
    "start_time": "2025-04-27T23:16:42.672Z"
   },
   {
    "duration": 214,
    "start_time": "2025-04-27T23:16:42.716Z"
   },
   {
    "duration": 254,
    "start_time": "2025-04-27T23:16:42.932Z"
   },
   {
    "duration": 200,
    "start_time": "2025-04-27T23:16:43.188Z"
   },
   {
    "duration": 286,
    "start_time": "2025-04-27T23:16:43.390Z"
   },
   {
    "duration": 106,
    "start_time": "2025-04-27T23:16:43.677Z"
   },
   {
    "duration": 99,
    "start_time": "2025-04-27T23:16:43.787Z"
   },
   {
    "duration": 36,
    "start_time": "2025-04-27T23:16:43.888Z"
   },
   {
    "duration": 34,
    "start_time": "2025-04-27T23:16:43.925Z"
   },
   {
    "duration": 474,
    "start_time": "2025-04-27T23:16:43.961Z"
   },
   {
    "duration": 95,
    "start_time": "2025-04-27T23:16:44.437Z"
   },
   {
    "duration": 9,
    "start_time": "2025-04-27T23:16:44.534Z"
   },
   {
    "duration": 4917,
    "start_time": "2025-04-27T23:16:44.545Z"
   },
   {
    "duration": 80,
    "start_time": "2025-04-27T23:16:49.464Z"
   },
   {
    "duration": 109764,
    "start_time": "2025-04-27T23:16:49.546Z"
   },
   {
    "duration": 26730,
    "start_time": "2025-04-27T23:18:39.312Z"
   },
   {
    "duration": 1844,
    "start_time": "2025-04-27T23:19:06.045Z"
   },
   {
    "duration": 3,
    "start_time": "2025-04-27T23:19:07.891Z"
   },
   {
    "duration": 56950,
    "start_time": "2025-04-27T23:19:07.895Z"
   },
   {
    "duration": 70,
    "start_time": "2025-04-27T23:20:04.847Z"
   },
   {
    "duration": 3,
    "start_time": "2025-04-27T23:20:04.918Z"
   },
   {
    "duration": 19,
    "start_time": "2025-04-27T23:20:04.923Z"
   },
   {
    "duration": 6,
    "start_time": "2025-04-27T23:20:04.944Z"
   },
   {
    "duration": 4,
    "start_time": "2025-04-27T23:20:04.951Z"
   },
   {
    "duration": 4,
    "start_time": "2025-04-27T23:20:04.956Z"
   },
   {
    "duration": 6,
    "start_time": "2025-04-27T23:23:19.209Z"
   },
   {
    "duration": 19796,
    "start_time": "2025-04-27T23:26:47.766Z"
   },
   {
    "duration": 71025,
    "start_time": "2025-04-27T23:27:32.128Z"
   },
   {
    "duration": 71631,
    "start_time": "2025-04-27T23:31:34.913Z"
   },
   {
    "duration": 71190,
    "start_time": "2025-04-27T23:34:56.053Z"
   },
   {
    "duration": 4,
    "start_time": "2025-04-27T23:36:53.047Z"
   },
   {
    "duration": 3,
    "start_time": "2025-04-27T23:36:58.567Z"
   },
   {
    "duration": 6927,
    "start_time": "2025-04-27T23:38:41.152Z"
   },
   {
    "duration": 7031,
    "start_time": "2025-04-27T23:39:11.844Z"
   },
   {
    "duration": 7289,
    "start_time": "2025-04-27T23:39:37.455Z"
   },
   {
    "duration": 3,
    "start_time": "2025-04-27T23:40:32.235Z"
   },
   {
    "duration": 4,
    "start_time": "2025-04-27T23:40:36.133Z"
   },
   {
    "duration": 7607,
    "start_time": "2025-04-27T23:42:40.157Z"
   },
   {
    "duration": 3,
    "start_time": "2025-04-27T23:43:14.916Z"
   },
   {
    "duration": 4,
    "start_time": "2025-04-27T23:54:39.578Z"
   },
   {
    "duration": 4,
    "start_time": "2025-04-27T23:54:43.262Z"
   },
   {
    "duration": 4,
    "start_time": "2025-04-27T23:58:25.752Z"
   },
   {
    "duration": 3,
    "start_time": "2025-04-27T23:58:26.624Z"
   },
   {
    "duration": 1015,
    "start_time": "2025-04-28T00:01:27.017Z"
   },
   {
    "duration": 412,
    "start_time": "2025-04-28T00:01:28.034Z"
   },
   {
    "duration": 5,
    "start_time": "2025-04-28T00:01:28.448Z"
   },
   {
    "duration": 32,
    "start_time": "2025-04-28T00:01:28.454Z"
   },
   {
    "duration": 21,
    "start_time": "2025-04-28T00:01:28.488Z"
   },
   {
    "duration": 114,
    "start_time": "2025-04-28T00:01:28.510Z"
   },
   {
    "duration": 34,
    "start_time": "2025-04-28T00:01:28.625Z"
   },
   {
    "duration": 64,
    "start_time": "2025-04-28T00:01:28.661Z"
   },
   {
    "duration": 71,
    "start_time": "2025-04-28T00:01:28.726Z"
   },
   {
    "duration": 3,
    "start_time": "2025-04-28T00:01:28.799Z"
   },
   {
    "duration": 54,
    "start_time": "2025-04-28T00:01:28.803Z"
   },
   {
    "duration": 17,
    "start_time": "2025-04-28T00:01:28.859Z"
   },
   {
    "duration": 182,
    "start_time": "2025-04-28T00:01:28.878Z"
   },
   {
    "duration": 7,
    "start_time": "2025-04-28T00:01:29.065Z"
   },
   {
    "duration": 128,
    "start_time": "2025-04-28T00:01:29.073Z"
   },
   {
    "duration": 7,
    "start_time": "2025-04-28T00:01:29.203Z"
   },
   {
    "duration": 7,
    "start_time": "2025-04-28T00:01:29.211Z"
   },
   {
    "duration": 156,
    "start_time": "2025-04-28T00:01:29.219Z"
   },
   {
    "duration": 7,
    "start_time": "2025-04-28T00:01:29.377Z"
   },
   {
    "duration": 6,
    "start_time": "2025-04-28T00:01:29.386Z"
   },
   {
    "duration": 12,
    "start_time": "2025-04-28T00:01:29.393Z"
   },
   {
    "duration": 51,
    "start_time": "2025-04-28T00:01:29.406Z"
   },
   {
    "duration": 34,
    "start_time": "2025-04-28T00:01:29.459Z"
   },
   {
    "duration": 10,
    "start_time": "2025-04-28T00:01:29.495Z"
   },
   {
    "duration": 8,
    "start_time": "2025-04-28T00:01:29.507Z"
   },
   {
    "duration": 7,
    "start_time": "2025-04-28T00:01:29.543Z"
   },
   {
    "duration": 6,
    "start_time": "2025-04-28T00:01:29.552Z"
   },
   {
    "duration": 20,
    "start_time": "2025-04-28T00:01:29.560Z"
   },
   {
    "duration": 34,
    "start_time": "2025-04-28T00:01:29.582Z"
   },
   {
    "duration": 12,
    "start_time": "2025-04-28T00:01:29.642Z"
   },
   {
    "duration": 6,
    "start_time": "2025-04-28T00:01:29.655Z"
   },
   {
    "duration": 18,
    "start_time": "2025-04-28T00:01:29.663Z"
   },
   {
    "duration": 124,
    "start_time": "2025-04-28T00:01:29.683Z"
   },
   {
    "duration": 112,
    "start_time": "2025-04-28T00:01:29.809Z"
   },
   {
    "duration": 55,
    "start_time": "2025-04-28T00:01:29.924Z"
   },
   {
    "duration": 205,
    "start_time": "2025-04-28T00:01:29.981Z"
   },
   {
    "duration": 250,
    "start_time": "2025-04-28T00:01:30.188Z"
   },
   {
    "duration": 212,
    "start_time": "2025-04-28T00:01:30.444Z"
   },
   {
    "duration": 304,
    "start_time": "2025-04-28T00:01:30.658Z"
   },
   {
    "duration": 101,
    "start_time": "2025-04-28T00:01:30.964Z"
   },
   {
    "duration": 98,
    "start_time": "2025-04-28T00:01:31.069Z"
   },
   {
    "duration": 35,
    "start_time": "2025-04-28T00:01:31.169Z"
   },
   {
    "duration": 19,
    "start_time": "2025-04-28T00:01:31.206Z"
   },
   {
    "duration": 483,
    "start_time": "2025-04-28T00:01:31.227Z"
   },
   {
    "duration": 94,
    "start_time": "2025-04-28T00:01:31.712Z"
   },
   {
    "duration": 3,
    "start_time": "2025-04-28T00:01:31.808Z"
   },
   {
    "duration": 4937,
    "start_time": "2025-04-28T00:01:31.813Z"
   },
   {
    "duration": 1433641,
    "start_time": "2025-04-28T00:01:36.752Z"
   },
   {
    "duration": 107686,
    "start_time": "2025-04-28T00:25:30.395Z"
   },
   {
    "duration": 27991,
    "start_time": "2025-04-28T00:27:18.083Z"
   },
   {
    "duration": 1950,
    "start_time": "2025-04-28T00:27:46.075Z"
   },
   {
    "duration": 380260,
    "start_time": "2025-04-28T00:27:48.027Z"
   },
   {
    "duration": 57528,
    "start_time": "2025-04-28T00:34:08.289Z"
   },
   {
    "duration": 815,
    "start_time": "2025-04-28T00:35:05.820Z"
   },
   {
    "duration": 0,
    "start_time": "2025-04-28T00:35:06.643Z"
   },
   {
    "duration": 0,
    "start_time": "2025-04-28T00:35:06.645Z"
   },
   {
    "duration": 0,
    "start_time": "2025-04-28T00:35:06.646Z"
   },
   {
    "duration": 0,
    "start_time": "2025-04-28T00:35:06.647Z"
   },
   {
    "duration": 0,
    "start_time": "2025-04-28T00:35:06.649Z"
   },
   {
    "duration": 0,
    "start_time": "2025-04-28T00:35:06.650Z"
   },
   {
    "duration": 0,
    "start_time": "2025-04-28T00:35:06.651Z"
   },
   {
    "duration": 0,
    "start_time": "2025-04-28T00:35:06.652Z"
   },
   {
    "duration": 80,
    "start_time": "2025-04-28T00:38:19.856Z"
   },
   {
    "duration": 69700,
    "start_time": "2025-04-28T00:38:43.772Z"
   },
   {
    "duration": 7731,
    "start_time": "2025-04-28T00:40:46.819Z"
   },
   {
    "duration": 15,
    "start_time": "2025-04-28T00:44:18.430Z"
   },
   {
    "duration": 3,
    "start_time": "2025-04-28T00:44:54.516Z"
   },
   {
    "duration": 17,
    "start_time": "2025-04-28T00:45:04.621Z"
   },
   {
    "duration": 1088,
    "start_time": "2025-04-28T00:58:44.568Z"
   },
   {
    "duration": 431,
    "start_time": "2025-04-28T00:58:45.659Z"
   },
   {
    "duration": 4,
    "start_time": "2025-04-28T00:58:46.092Z"
   },
   {
    "duration": 32,
    "start_time": "2025-04-28T00:58:46.098Z"
   },
   {
    "duration": 29,
    "start_time": "2025-04-28T00:58:46.132Z"
   },
   {
    "duration": 103,
    "start_time": "2025-04-28T00:58:46.162Z"
   },
   {
    "duration": 27,
    "start_time": "2025-04-28T00:58:46.267Z"
   },
   {
    "duration": 82,
    "start_time": "2025-04-28T00:58:46.295Z"
   },
   {
    "duration": 72,
    "start_time": "2025-04-28T00:58:46.378Z"
   },
   {
    "duration": 3,
    "start_time": "2025-04-28T00:58:46.452Z"
   },
   {
    "duration": 37,
    "start_time": "2025-04-28T00:58:46.457Z"
   },
   {
    "duration": 18,
    "start_time": "2025-04-28T00:58:46.495Z"
   },
   {
    "duration": 183,
    "start_time": "2025-04-28T00:58:46.514Z"
   },
   {
    "duration": 8,
    "start_time": "2025-04-28T00:58:46.702Z"
   },
   {
    "duration": 132,
    "start_time": "2025-04-28T00:58:46.712Z"
   },
   {
    "duration": 8,
    "start_time": "2025-04-28T00:58:46.846Z"
   },
   {
    "duration": 6,
    "start_time": "2025-04-28T00:58:46.855Z"
   },
   {
    "duration": 143,
    "start_time": "2025-04-28T00:58:46.863Z"
   },
   {
    "duration": 8,
    "start_time": "2025-04-28T00:58:47.008Z"
   },
   {
    "duration": 6,
    "start_time": "2025-04-28T00:58:47.017Z"
   },
   {
    "duration": 28,
    "start_time": "2025-04-28T00:58:47.025Z"
   },
   {
    "duration": 27,
    "start_time": "2025-04-28T00:58:47.054Z"
   },
   {
    "duration": 34,
    "start_time": "2025-04-28T00:58:47.082Z"
   },
   {
    "duration": 27,
    "start_time": "2025-04-28T00:58:47.118Z"
   },
   {
    "duration": 9,
    "start_time": "2025-04-28T00:58:47.147Z"
   },
   {
    "duration": 8,
    "start_time": "2025-04-28T00:58:47.158Z"
   },
   {
    "duration": 6,
    "start_time": "2025-04-28T00:58:47.167Z"
   },
   {
    "duration": 19,
    "start_time": "2025-04-28T00:58:47.175Z"
   },
   {
    "duration": 69,
    "start_time": "2025-04-28T00:58:47.196Z"
   },
   {
    "duration": 12,
    "start_time": "2025-04-28T00:58:47.266Z"
   },
   {
    "duration": 5,
    "start_time": "2025-04-28T00:58:47.280Z"
   },
   {
    "duration": 18,
    "start_time": "2025-04-28T00:58:47.286Z"
   },
   {
    "duration": 124,
    "start_time": "2025-04-28T00:58:47.306Z"
   },
   {
    "duration": 117,
    "start_time": "2025-04-28T00:58:47.432Z"
   },
   {
    "duration": 54,
    "start_time": "2025-04-28T00:58:47.551Z"
   },
   {
    "duration": 205,
    "start_time": "2025-04-28T00:58:47.606Z"
   },
   {
    "duration": 247,
    "start_time": "2025-04-28T00:58:47.813Z"
   },
   {
    "duration": 198,
    "start_time": "2025-04-28T00:58:48.061Z"
   },
   {
    "duration": 303,
    "start_time": "2025-04-28T00:58:48.260Z"
   },
   {
    "duration": 99,
    "start_time": "2025-04-28T00:58:48.565Z"
   },
   {
    "duration": 104,
    "start_time": "2025-04-28T00:58:48.669Z"
   },
   {
    "duration": 36,
    "start_time": "2025-04-28T00:58:48.775Z"
   },
   {
    "duration": 33,
    "start_time": "2025-04-28T00:58:48.812Z"
   },
   {
    "duration": 496,
    "start_time": "2025-04-28T00:58:48.847Z"
   },
   {
    "duration": 111,
    "start_time": "2025-04-28T00:58:49.345Z"
   },
   {
    "duration": 4,
    "start_time": "2025-04-28T00:58:49.459Z"
   },
   {
    "duration": 4884,
    "start_time": "2025-04-28T00:58:49.464Z"
   },
   {
    "duration": 1073,
    "start_time": "2025-04-28T01:03:39.767Z"
   },
   {
    "duration": 411,
    "start_time": "2025-04-28T01:03:40.842Z"
   },
   {
    "duration": 4,
    "start_time": "2025-04-28T01:03:41.255Z"
   },
   {
    "duration": 32,
    "start_time": "2025-04-28T01:03:41.261Z"
   },
   {
    "duration": 22,
    "start_time": "2025-04-28T01:03:41.295Z"
   },
   {
    "duration": 111,
    "start_time": "2025-04-28T01:03:41.318Z"
   },
   {
    "duration": 40,
    "start_time": "2025-04-28T01:03:41.431Z"
   },
   {
    "duration": 83,
    "start_time": "2025-04-28T01:03:41.472Z"
   },
   {
    "duration": 62,
    "start_time": "2025-04-28T01:03:41.557Z"
   },
   {
    "duration": 4,
    "start_time": "2025-04-28T01:03:41.620Z"
   },
   {
    "duration": 56,
    "start_time": "2025-04-28T01:03:41.626Z"
   },
   {
    "duration": 18,
    "start_time": "2025-04-28T01:03:41.684Z"
   },
   {
    "duration": 180,
    "start_time": "2025-04-28T01:03:41.704Z"
   },
   {
    "duration": 9,
    "start_time": "2025-04-28T01:03:41.889Z"
   },
   {
    "duration": 134,
    "start_time": "2025-04-28T01:03:41.900Z"
   },
   {
    "duration": 11,
    "start_time": "2025-04-28T01:03:42.036Z"
   },
   {
    "duration": 7,
    "start_time": "2025-04-28T01:03:42.049Z"
   },
   {
    "duration": 146,
    "start_time": "2025-04-28T01:03:42.058Z"
   },
   {
    "duration": 7,
    "start_time": "2025-04-28T01:03:42.206Z"
   },
   {
    "duration": 7,
    "start_time": "2025-04-28T01:03:42.215Z"
   },
   {
    "duration": 28,
    "start_time": "2025-04-28T01:03:42.224Z"
   },
   {
    "duration": 29,
    "start_time": "2025-04-28T01:03:42.254Z"
   },
   {
    "duration": 38,
    "start_time": "2025-04-28T01:03:42.285Z"
   },
   {
    "duration": 28,
    "start_time": "2025-04-28T01:03:42.324Z"
   },
   {
    "duration": 9,
    "start_time": "2025-04-28T01:03:42.353Z"
   },
   {
    "duration": 7,
    "start_time": "2025-04-28T01:03:42.364Z"
   },
   {
    "duration": 6,
    "start_time": "2025-04-28T01:03:42.373Z"
   },
   {
    "duration": 21,
    "start_time": "2025-04-28T01:03:42.381Z"
   },
   {
    "duration": 69,
    "start_time": "2025-04-28T01:03:42.404Z"
   },
   {
    "duration": 12,
    "start_time": "2025-04-28T01:03:42.475Z"
   },
   {
    "duration": 6,
    "start_time": "2025-04-28T01:03:42.488Z"
   },
   {
    "duration": 18,
    "start_time": "2025-04-28T01:03:42.496Z"
   },
   {
    "duration": 111,
    "start_time": "2025-04-28T01:03:42.542Z"
   },
   {
    "duration": 113,
    "start_time": "2025-04-28T01:03:42.655Z"
   },
   {
    "duration": 42,
    "start_time": "2025-04-28T01:03:42.770Z"
   },
   {
    "duration": 216,
    "start_time": "2025-04-28T01:03:42.814Z"
   },
   {
    "duration": 250,
    "start_time": "2025-04-28T01:03:43.032Z"
   },
   {
    "duration": 201,
    "start_time": "2025-04-28T01:03:43.284Z"
   },
   {
    "duration": 278,
    "start_time": "2025-04-28T01:03:43.488Z"
   },
   {
    "duration": 110,
    "start_time": "2025-04-28T01:03:43.768Z"
   },
   {
    "duration": 94,
    "start_time": "2025-04-28T01:03:43.884Z"
   },
   {
    "duration": 35,
    "start_time": "2025-04-28T01:03:43.980Z"
   },
   {
    "duration": 35,
    "start_time": "2025-04-28T01:03:44.017Z"
   },
   {
    "duration": 508,
    "start_time": "2025-04-28T01:03:44.053Z"
   },
   {
    "duration": 96,
    "start_time": "2025-04-28T01:03:44.564Z"
   },
   {
    "duration": 3,
    "start_time": "2025-04-28T01:03:44.661Z"
   },
   {
    "duration": 4783,
    "start_time": "2025-04-28T01:03:44.666Z"
   },
   {
    "duration": 1084705,
    "start_time": "2025-04-28T01:03:49.452Z"
   },
   {
    "duration": 107928,
    "start_time": "2025-04-28T01:21:54.159Z"
   },
   {
    "duration": 26532,
    "start_time": "2025-04-28T01:23:42.089Z"
   },
   {
    "duration": 1891,
    "start_time": "2025-04-28T01:24:08.622Z"
   },
   {
    "duration": 379396,
    "start_time": "2025-04-28T01:24:10.515Z"
   },
   {
    "duration": 57214,
    "start_time": "2025-04-28T01:30:29.913Z"
   },
   {
    "duration": 74,
    "start_time": "2025-04-28T01:31:27.129Z"
   },
   {
    "duration": 67752,
    "start_time": "2025-04-28T01:31:27.206Z"
   },
   {
    "duration": 7308,
    "start_time": "2025-04-28T01:32:34.961Z"
   },
   {
    "duration": 70,
    "start_time": "2025-04-28T01:32:42.273Z"
   },
   {
    "duration": 5,
    "start_time": "2025-04-28T01:32:42.346Z"
   },
   {
    "duration": 4,
    "start_time": "2025-04-28T01:32:42.353Z"
   },
   {
    "duration": 4,
    "start_time": "2025-04-28T01:32:42.359Z"
   },
   {
    "duration": 4,
    "start_time": "2025-04-28T01:32:42.365Z"
   },
   {
    "duration": 4,
    "start_time": "2025-04-28T01:32:42.371Z"
   }
  ],
  "kernelspec": {
   "display_name": "Python 3 (ipykernel)",
   "language": "python",
   "name": "python3"
  },
  "language_info": {
   "codemirror_mode": {
    "name": "ipython",
    "version": 3
   },
   "file_extension": ".py",
   "mimetype": "text/x-python",
   "name": "python",
   "nbconvert_exporter": "python",
   "pygments_lexer": "ipython3",
   "version": "3.9.19"
  },
  "toc": {
   "base_numbering": 1,
   "nav_menu": {},
   "number_sections": true,
   "sideBar": true,
   "skip_h1_title": true,
   "title_cell": "Table of Contents",
   "title_sidebar": "Contents",
   "toc_cell": false,
   "toc_position": {},
   "toc_section_display": true,
   "toc_window_display": false
  }
 },
 "nbformat": 4,
 "nbformat_minor": 2
}
