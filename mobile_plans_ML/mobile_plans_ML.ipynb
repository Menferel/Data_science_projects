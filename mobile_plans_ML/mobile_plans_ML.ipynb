{
 "cells": [
  {
   "cell_type": "markdown",
   "metadata": {},
   "source": [
    "# Paso 1: Importar las librerías y cargar el los datos del archivo"
   ]
  },
  {
   "cell_type": "code",
   "execution_count": 1,
   "metadata": {
    "trusted": false
   },
   "outputs": [],
   "source": [
    "# Importando todas las librerías que se van a utilizar\n",
    "import pandas as pd\n",
    "import numpy as np\n",
    "from sklearn.model_selection import train_test_split \n",
    "from sklearn.metrics import accuracy_score\n",
    "from sklearn.tree import DecisionTreeClassifier\n",
    "from sklearn.ensemble import RandomForestClassifier\n",
    "from sklearn.linear_model import LogisticRegression"
   ]
  },
  {
   "cell_type": "code",
   "execution_count": 2,
   "metadata": {
    "trusted": false
   },
   "outputs": [
    {
     "data": {
      "text/html": [
       "<div>\n",
       "<style scoped>\n",
       "    .dataframe tbody tr th:only-of-type {\n",
       "        vertical-align: middle;\n",
       "    }\n",
       "\n",
       "    .dataframe tbody tr th {\n",
       "        vertical-align: top;\n",
       "    }\n",
       "\n",
       "    .dataframe thead th {\n",
       "        text-align: right;\n",
       "    }\n",
       "</style>\n",
       "<table border=\"1\" class=\"dataframe\">\n",
       "  <thead>\n",
       "    <tr style=\"text-align: right;\">\n",
       "      <th></th>\n",
       "      <th>calls</th>\n",
       "      <th>minutes</th>\n",
       "      <th>messages</th>\n",
       "      <th>mb_used</th>\n",
       "      <th>is_ultra</th>\n",
       "    </tr>\n",
       "  </thead>\n",
       "  <tbody>\n",
       "    <tr>\n",
       "      <th>0</th>\n",
       "      <td>40.0</td>\n",
       "      <td>311.90</td>\n",
       "      <td>83.0</td>\n",
       "      <td>19915.42</td>\n",
       "      <td>0</td>\n",
       "    </tr>\n",
       "    <tr>\n",
       "      <th>1</th>\n",
       "      <td>85.0</td>\n",
       "      <td>516.75</td>\n",
       "      <td>56.0</td>\n",
       "      <td>22696.96</td>\n",
       "      <td>0</td>\n",
       "    </tr>\n",
       "    <tr>\n",
       "      <th>2</th>\n",
       "      <td>77.0</td>\n",
       "      <td>467.66</td>\n",
       "      <td>86.0</td>\n",
       "      <td>21060.45</td>\n",
       "      <td>0</td>\n",
       "    </tr>\n",
       "    <tr>\n",
       "      <th>3</th>\n",
       "      <td>106.0</td>\n",
       "      <td>745.53</td>\n",
       "      <td>81.0</td>\n",
       "      <td>8437.39</td>\n",
       "      <td>1</td>\n",
       "    </tr>\n",
       "    <tr>\n",
       "      <th>4</th>\n",
       "      <td>66.0</td>\n",
       "      <td>418.74</td>\n",
       "      <td>1.0</td>\n",
       "      <td>14502.75</td>\n",
       "      <td>0</td>\n",
       "    </tr>\n",
       "    <tr>\n",
       "      <th>...</th>\n",
       "      <td>...</td>\n",
       "      <td>...</td>\n",
       "      <td>...</td>\n",
       "      <td>...</td>\n",
       "      <td>...</td>\n",
       "    </tr>\n",
       "    <tr>\n",
       "      <th>3209</th>\n",
       "      <td>122.0</td>\n",
       "      <td>910.98</td>\n",
       "      <td>20.0</td>\n",
       "      <td>35124.90</td>\n",
       "      <td>1</td>\n",
       "    </tr>\n",
       "    <tr>\n",
       "      <th>3210</th>\n",
       "      <td>25.0</td>\n",
       "      <td>190.36</td>\n",
       "      <td>0.0</td>\n",
       "      <td>3275.61</td>\n",
       "      <td>0</td>\n",
       "    </tr>\n",
       "    <tr>\n",
       "      <th>3211</th>\n",
       "      <td>97.0</td>\n",
       "      <td>634.44</td>\n",
       "      <td>70.0</td>\n",
       "      <td>13974.06</td>\n",
       "      <td>0</td>\n",
       "    </tr>\n",
       "    <tr>\n",
       "      <th>3212</th>\n",
       "      <td>64.0</td>\n",
       "      <td>462.32</td>\n",
       "      <td>90.0</td>\n",
       "      <td>31239.78</td>\n",
       "      <td>0</td>\n",
       "    </tr>\n",
       "    <tr>\n",
       "      <th>3213</th>\n",
       "      <td>80.0</td>\n",
       "      <td>566.09</td>\n",
       "      <td>6.0</td>\n",
       "      <td>29480.52</td>\n",
       "      <td>1</td>\n",
       "    </tr>\n",
       "  </tbody>\n",
       "</table>\n",
       "<p>3214 rows × 5 columns</p>\n",
       "</div>"
      ],
      "text/plain": [
       "      calls  minutes  messages   mb_used  is_ultra\n",
       "0      40.0   311.90      83.0  19915.42         0\n",
       "1      85.0   516.75      56.0  22696.96         0\n",
       "2      77.0   467.66      86.0  21060.45         0\n",
       "3     106.0   745.53      81.0   8437.39         1\n",
       "4      66.0   418.74       1.0  14502.75         0\n",
       "...     ...      ...       ...       ...       ...\n",
       "3209  122.0   910.98      20.0  35124.90         1\n",
       "3210   25.0   190.36       0.0   3275.61         0\n",
       "3211   97.0   634.44      70.0  13974.06         0\n",
       "3212   64.0   462.32      90.0  31239.78         0\n",
       "3213   80.0   566.09       6.0  29480.52         1\n",
       "\n",
       "[3214 rows x 5 columns]"
      ]
     },
     "execution_count": 2,
     "metadata": {},
     "output_type": "execute_result"
    }
   ],
   "source": [
    "# Cargar los datos\n",
    "df = pd.read_csv(\"users_behavior.csv\")\n",
    "df"
   ]
  },
  {
   "cell_type": "code",
   "execution_count": 3,
   "metadata": {
    "trusted": false
   },
   "outputs": [
    {
     "name": "stdout",
     "output_type": "stream",
     "text": [
      "<class 'pandas.core.frame.DataFrame'>\n",
      "RangeIndex: 3214 entries, 0 to 3213\n",
      "Data columns (total 5 columns):\n",
      " #   Column    Non-Null Count  Dtype  \n",
      "---  ------    --------------  -----  \n",
      " 0   calls     3214 non-null   float64\n",
      " 1   minutes   3214 non-null   float64\n",
      " 2   messages  3214 non-null   float64\n",
      " 3   mb_used   3214 non-null   float64\n",
      " 4   is_ultra  3214 non-null   int64  \n",
      "dtypes: float64(4), int64(1)\n",
      "memory usage: 125.7 KB\n"
     ]
    }
   ],
   "source": [
    "df.info()"
   ]
  },
  {
   "cell_type": "code",
   "execution_count": 4,
   "metadata": {
    "trusted": false
   },
   "outputs": [
    {
     "data": {
      "text/html": [
       "<div>\n",
       "<style scoped>\n",
       "    .dataframe tbody tr th:only-of-type {\n",
       "        vertical-align: middle;\n",
       "    }\n",
       "\n",
       "    .dataframe tbody tr th {\n",
       "        vertical-align: top;\n",
       "    }\n",
       "\n",
       "    .dataframe thead th {\n",
       "        text-align: right;\n",
       "    }\n",
       "</style>\n",
       "<table border=\"1\" class=\"dataframe\">\n",
       "  <thead>\n",
       "    <tr style=\"text-align: right;\">\n",
       "      <th></th>\n",
       "      <th>calls</th>\n",
       "      <th>minutes</th>\n",
       "      <th>messages</th>\n",
       "      <th>mb_used</th>\n",
       "      <th>is_ultra</th>\n",
       "    </tr>\n",
       "  </thead>\n",
       "  <tbody>\n",
       "    <tr>\n",
       "      <th>count</th>\n",
       "      <td>3214.000000</td>\n",
       "      <td>3214.000000</td>\n",
       "      <td>3214.000000</td>\n",
       "      <td>3214.000000</td>\n",
       "      <td>3214.000000</td>\n",
       "    </tr>\n",
       "    <tr>\n",
       "      <th>mean</th>\n",
       "      <td>63.038892</td>\n",
       "      <td>438.208787</td>\n",
       "      <td>38.281269</td>\n",
       "      <td>17207.673836</td>\n",
       "      <td>0.306472</td>\n",
       "    </tr>\n",
       "    <tr>\n",
       "      <th>std</th>\n",
       "      <td>33.236368</td>\n",
       "      <td>234.569872</td>\n",
       "      <td>36.148326</td>\n",
       "      <td>7570.968246</td>\n",
       "      <td>0.461100</td>\n",
       "    </tr>\n",
       "    <tr>\n",
       "      <th>min</th>\n",
       "      <td>0.000000</td>\n",
       "      <td>0.000000</td>\n",
       "      <td>0.000000</td>\n",
       "      <td>0.000000</td>\n",
       "      <td>0.000000</td>\n",
       "    </tr>\n",
       "    <tr>\n",
       "      <th>25%</th>\n",
       "      <td>40.000000</td>\n",
       "      <td>274.575000</td>\n",
       "      <td>9.000000</td>\n",
       "      <td>12491.902500</td>\n",
       "      <td>0.000000</td>\n",
       "    </tr>\n",
       "    <tr>\n",
       "      <th>50%</th>\n",
       "      <td>62.000000</td>\n",
       "      <td>430.600000</td>\n",
       "      <td>30.000000</td>\n",
       "      <td>16943.235000</td>\n",
       "      <td>0.000000</td>\n",
       "    </tr>\n",
       "    <tr>\n",
       "      <th>75%</th>\n",
       "      <td>82.000000</td>\n",
       "      <td>571.927500</td>\n",
       "      <td>57.000000</td>\n",
       "      <td>21424.700000</td>\n",
       "      <td>1.000000</td>\n",
       "    </tr>\n",
       "    <tr>\n",
       "      <th>max</th>\n",
       "      <td>244.000000</td>\n",
       "      <td>1632.060000</td>\n",
       "      <td>224.000000</td>\n",
       "      <td>49745.730000</td>\n",
       "      <td>1.000000</td>\n",
       "    </tr>\n",
       "  </tbody>\n",
       "</table>\n",
       "</div>"
      ],
      "text/plain": [
       "             calls      minutes     messages       mb_used     is_ultra\n",
       "count  3214.000000  3214.000000  3214.000000   3214.000000  3214.000000\n",
       "mean     63.038892   438.208787    38.281269  17207.673836     0.306472\n",
       "std      33.236368   234.569872    36.148326   7570.968246     0.461100\n",
       "min       0.000000     0.000000     0.000000      0.000000     0.000000\n",
       "25%      40.000000   274.575000     9.000000  12491.902500     0.000000\n",
       "50%      62.000000   430.600000    30.000000  16943.235000     0.000000\n",
       "75%      82.000000   571.927500    57.000000  21424.700000     1.000000\n",
       "max     244.000000  1632.060000   224.000000  49745.730000     1.000000"
      ]
     },
     "execution_count": 4,
     "metadata": {},
     "output_type": "execute_result"
    }
   ],
   "source": [
    "df.describe()"
   ]
  },
  {
   "cell_type": "markdown",
   "metadata": {},
   "source": [
    "En esta sección se importaron todas las librerías necesarias: las de pandas, numpy, los tres diferentes modelos, la de accuracy y la que permite la segmentación de los datos (train_test_split). No hay valores ausentes, por lo que pasé a la segmentación."
   ]
  },
  {
   "cell_type": "markdown",
   "metadata": {},
   "source": [
    "# Paso 2: Segmentación de los datos en un conjunto de entrenamiento, uno de validación y uno de prueba"
   ]
  },
  {
   "cell_type": "code",
   "execution_count": 5,
   "metadata": {
    "trusted": false
   },
   "outputs": [],
   "source": [
    "# Separar características y objetivos\n",
    "features = df.drop(['is_ultra'],axis=1)\n",
    "target = df['is_ultra']"
   ]
  },
  {
   "cell_type": "code",
   "execution_count": 6,
   "metadata": {
    "trusted": false
   },
   "outputs": [],
   "source": [
    "# Segmentación en 60% de entrenamiento y 40% el resto\n",
    "features_train, features_temp, target_train, target_temp = train_test_split( features, target, test_size=0.4, random_state=12345)"
   ]
  },
  {
   "cell_type": "code",
   "execution_count": 7,
   "metadata": {
    "trusted": false
   },
   "outputs": [],
   "source": [
    "# Segmentación 20-20 restante\n",
    "features_valid, features_test, target_valid, target_test = train_test_split(features_temp, target_temp,test_size=0.5, random_state=12345)"
   ]
  },
  {
   "cell_type": "code",
   "execution_count": 8,
   "metadata": {
    "trusted": false
   },
   "outputs": [
    {
     "name": "stdout",
     "output_type": "stream",
     "text": [
      "1928\n",
      "643\n",
      "643\n"
     ]
    }
   ],
   "source": [
    "print(target_train.count())\n",
    "print(target_valid.count())\n",
    "print(target_test.count())"
   ]
  },
  {
   "cell_type": "markdown",
   "metadata": {},
   "source": [
    "En este caso, el modelo de prueba no existe, lo que signfica que tenemos que tener tres segmentos de datos: uno para el conjunto de entrenamiento, para el de validación y el de prueba. Siguiendo lo aprendido en las lecciones anteriores, usualmente, el tamaño del conjunto de validación y del de prueba son iguales. Esto da como resultado una proporción de datos fuente de 3:1:1. Es por eso que se dividieron los datos en 60%-20%-20%."
   ]
  },
  {
   "cell_type": "markdown",
   "metadata": {},
   "source": [
    "# Paso 3: Evaluando la calidad de diferentes modelos cambiando los hiperparámetros"
   ]
  },
  {
   "cell_type": "markdown",
   "metadata": {},
   "source": [
    "**Arbol de decisión**"
   ]
  },
  {
   "cell_type": "code",
   "execution_count": 9,
   "metadata": {
    "trusted": false
   },
   "outputs": [
    {
     "name": "stdout",
     "output_type": "stream",
     "text": [
      "max_depth= 1 :  0.7542768273716952\n",
      "max_depth= 2 :  0.7822706065318819\n",
      "max_depth= 3 :  0.7853810264385692\n",
      "max_depth= 4 :  0.7791601866251944\n",
      "max_depth= 5 :  0.7791601866251944\n",
      "max_depth= 6 :  0.7838258164852255\n",
      "max_depth= 7 :  0.7822706065318819\n",
      "max_depth= 8 :  0.7791601866251944\n",
      "max_depth= 9 :  0.7822706065318819\n",
      "max_depth= 10 :  0.7744945567651633\n"
     ]
    }
   ],
   "source": [
    "for depth in range(1,11):\n",
    "    model = DecisionTreeClassifier(random_state=12345, max_depth=depth)\n",
    "    model.fit(features_train,target_train)\n",
    "    predictions_valid = model.predict(features_valid)\n",
    "    accuracy = accuracy_score(target_valid,predictions_valid)\n",
    "    print(\"max_depth=\",depth,\": \", end=\" \")\n",
    "    print(accuracy)"
   ]
  },
  {
   "cell_type": "markdown",
   "metadata": {},
   "source": [
    "**Bosque aleatorio**"
   ]
  },
  {
   "cell_type": "code",
   "execution_count": 10,
   "metadata": {
    "trusted": false
   },
   "outputs": [
    {
     "name": "stdout",
     "output_type": "stream",
     "text": [
      "n_estimators= 10 :  0.7853810264385692\n",
      "n_estimators= 20 :  0.7869362363919129\n",
      "n_estimators= 30 :  0.7838258164852255\n",
      "n_estimators= 40 :  0.7838258164852255\n",
      "n_estimators= 50 :  0.7916018662519441\n",
      "n_estimators= 60 :  0.7853810264385692\n",
      "n_estimators= 70 :  0.7791601866251944\n",
      "n_estimators= 80 :  0.7822706065318819\n",
      "n_estimators= 90 :  0.7838258164852255\n",
      "n_estimators= 100 :  0.7853810264385692\n"
     ]
    }
   ],
   "source": [
    "for n in range(10,101,10):\n",
    "    model = RandomForestClassifier(random_state=12345, n_estimators=n)\n",
    "    model.fit(features_train,target_train)\n",
    "    predictions_valid = model.predict(features_valid)\n",
    "    accuracy = accuracy_score(target_valid,predictions_valid)\n",
    "    print(\"n_estimators=\",n,\": \", end=\" \")\n",
    "    print(accuracy)"
   ]
  },
  {
   "cell_type": "markdown",
   "metadata": {},
   "source": [
    "**Regresión logística**"
   ]
  },
  {
   "cell_type": "code",
   "execution_count": 11,
   "metadata": {
    "trusted": false
   },
   "outputs": [
    {
     "name": "stdout",
     "output_type": "stream",
     "text": [
      "Regresión Logística Exactitud=0.7589\n"
     ]
    }
   ],
   "source": [
    "model = LogisticRegression(random_state=12345, solver='liblinear')\n",
    "model.fit(features_train,target_train)\n",
    "predictions_valid = model.predict(features_valid)\n",
    "accuracy = accuracy_score(target_valid, predictions_valid)\n",
    "\n",
    "print(f\"Regresión Logística Exactitud={accuracy:.4f}\")"
   ]
  },
  {
   "cell_type": "markdown",
   "metadata": {},
   "source": [
    "Se entrenaron los tres modelos y se hizo la predicción para el cojunto de validación: el de árbol de decisión, bosque aleatorio y regresión logística. En el caso del árbol de decisión, se hizo un ciclo del 1 al 10 para encontrar la mejor opción, siendo 3 la profundidad donde se obtuvo mayor accuracy en el modelo, de 0.7853. Para el del bosque aleatorio, se fue cambiando el hiperparámetro n_estimators, cambiando de 10 en 10 hasta llegar a 100. Se encontró que el n_estimators que signficaba mayor exactitud para el modelo era de 50, con un accuracy de 0.7916. Finalmente, se entrenó con regresión logística y se obtuvo un modelo con una accuracy de 0.7589. A todos se les puso un random_state para que se mantuviera la misma división de los datos. El paso siguiente es la comprobación de la calidad del modelo usando el conjunto de prueba.  "
   ]
  },
  {
   "cell_type": "markdown",
   "metadata": {},
   "source": [
    "# Paso 4: Comprobando la calidad del modelo usando el conjunto de prueba"
   ]
  },
  {
   "cell_type": "markdown",
   "metadata": {},
   "source": [
    "**Arbol de decisión**"
   ]
  },
  {
   "cell_type": "code",
   "execution_count": 12,
   "metadata": {
    "trusted": false
   },
   "outputs": [
    {
     "name": "stdout",
     "output_type": "stream",
     "text": [
      "Árbol de Decisión en test: 0.7792\n"
     ]
    }
   ],
   "source": [
    "tree_model = DecisionTreeClassifier(max_depth=3, random_state=12345)\n",
    "tree_model.fit(features_train, target_train)\n",
    "predictions_tree = tree_model.predict(features_test)\n",
    "tree_accuracy = accuracy_score(target_test, predictions_tree)\n",
    "print(f\"Árbol de Decisión en test: {tree_accuracy:.4f}\")"
   ]
  },
  {
   "cell_type": "markdown",
   "metadata": {},
   "source": [
    "**Bosque aleatorio**"
   ]
  },
  {
   "cell_type": "code",
   "execution_count": 13,
   "metadata": {
    "trusted": false
   },
   "outputs": [
    {
     "name": "stdout",
     "output_type": "stream",
     "text": [
      "Bosque Aleatorio en test: 0.7932\n"
     ]
    }
   ],
   "source": [
    "forest_model = RandomForestClassifier(n_estimators=50, random_state=12345)\n",
    "forest_model.fit(features_train, target_train)\n",
    "predictions_forest = forest_model.predict(features_test)\n",
    "forest_accuracy = accuracy_score(target_test, predictions_forest)\n",
    "print(f\"Bosque Aleatorio en test: {forest_accuracy:.4f}\")"
   ]
  },
  {
   "cell_type": "markdown",
   "metadata": {},
   "source": [
    "**Regresión logística**"
   ]
  },
  {
   "cell_type": "code",
   "execution_count": 14,
   "metadata": {
    "trusted": false
   },
   "outputs": [
    {
     "name": "stdout",
     "output_type": "stream",
     "text": [
      "Regresión Logística en test: 0.7403\n"
     ]
    }
   ],
   "source": [
    "log_model = LogisticRegression(random_state=12345, solver='liblinear')\n",
    "log_model.fit(features_train, target_train)\n",
    "predictions_log = log_model.predict(features_test)\n",
    "log_accuracy = accuracy_score(target_test, predictions_log)\n",
    "print(f\"Regresión Logística en test: {log_accuracy:.4f}\")"
   ]
  },
  {
   "cell_type": "markdown",
   "metadata": {},
   "source": [
    "Una vez que los modelos se entrenaron, se probaron para el conjunto de prueba. Se obtuvo que el que mejor accuracy tiene es el bosque aleatorio, con un 0.7932"
   ]
  },
  {
   "cell_type": "markdown",
   "metadata": {},
   "source": [
    "# Paso 5: Tarea adicional, hacer una prueba de cordura del modelo"
   ]
  },
  {
   "cell_type": "code",
   "execution_count": 15,
   "metadata": {
    "trusted": false
   },
   "outputs": [
    {
     "name": "stdout",
     "output_type": "stream",
     "text": [
      "   calls  minutes  messages   mb_used  Predicción is_ultra\n",
      "0    0.0     0.00       0.0      0.00                    1\n",
      "1  244.0  1632.06     224.0  49745.73                    1\n"
     ]
    }
   ],
   "source": [
    "# Creación del DataFrame con valores mínimos y máximos\n",
    "test_data = pd.DataFrame({\n",
    "    'calls': [df['calls'].min(), df['calls'].max()],\n",
    "    'minutes': [df['minutes'].min(), df['minutes'].max()],\n",
    "    'messages': [df['messages'].min(), df['messages'].max()],\n",
    "    'mb_used': [df['mb_used'].min(), df['mb_used'].max()]\n",
    "})\n",
    "\n",
    "# Realizar predicciones con el modelo ya entrenado\n",
    "test_predictions = forest_model.predict(test_data)\n",
    "\n",
    "# Mostrar resultados\n",
    "test_data['Predicción is_ultra'] = test_predictions\n",
    "print(test_data)"
   ]
  },
  {
   "cell_type": "markdown",
   "metadata": {},
   "source": [
    "En el último paso, se realizó una prueba de cordura utilizando valores mínimos y máximos de consumo. El modelo predice que todos los casos corresponden a is_ultra = 1, lo que indica que podría no estar diferenciando correctamente usuarios de bajo consumo. Esto indica que, a pesar de tener un buen accuracy, nuevas técnicas deben ser implementadas para mejorar el equilibrio de clases."
   ]
  },
  {
   "cell_type": "markdown",
   "metadata": {},
   "source": [
    "# Conclusiones"
   ]
  },
  {
   "cell_type": "markdown",
   "metadata": {},
   "source": [
    "La modificación de hiperparámetros para encontrar la mayor accuracy es de suma importancia, pues así se encuntra la opción que mejor se adapta. Al final del proyecto surgió otro tema muy interesante a analizar: el equilibrio de clases."
   ]
  }
 ],
 "metadata": {
  "ExecuteTimeLog": [
   {
    "duration": 814,
    "start_time": "2025-02-11T04:49:54.713Z"
   },
   {
    "duration": 620,
    "start_time": "2025-02-11T04:51:40.808Z"
   },
   {
    "duration": 16,
    "start_time": "2025-02-11T04:52:04.997Z"
   },
   {
    "duration": 23,
    "start_time": "2025-02-11T04:52:12.703Z"
   },
   {
    "duration": 9,
    "start_time": "2025-02-11T04:53:46.573Z"
   },
   {
    "duration": 8,
    "start_time": "2025-02-11T04:54:15.212Z"
   },
   {
    "duration": 3,
    "start_time": "2025-02-11T05:07:38.608Z"
   },
   {
    "duration": 9,
    "start_time": "2025-02-11T05:07:46.974Z"
   },
   {
    "duration": 18,
    "start_time": "2025-02-11T05:08:39.036Z"
   },
   {
    "duration": 450,
    "start_time": "2025-02-11T05:12:05.549Z"
   },
   {
    "duration": 3,
    "start_time": "2025-02-11T05:12:16.692Z"
   },
   {
    "duration": 778,
    "start_time": "2025-02-11T05:49:23.199Z"
   },
   {
    "duration": 23,
    "start_time": "2025-02-11T05:49:23.980Z"
   },
   {
    "duration": 8,
    "start_time": "2025-02-11T05:49:24.005Z"
   },
   {
    "duration": 26,
    "start_time": "2025-02-11T05:49:24.015Z"
   },
   {
    "duration": 2,
    "start_time": "2025-02-11T05:49:24.043Z"
   },
   {
    "duration": 226,
    "start_time": "2025-02-11T05:49:24.047Z"
   },
   {
    "duration": 5,
    "start_time": "2025-02-11T05:49:53.863Z"
   },
   {
    "duration": 4,
    "start_time": "2025-02-11T05:54:15.800Z"
   },
   {
    "duration": 4,
    "start_time": "2025-02-11T05:54:42.404Z"
   },
   {
    "duration": 13,
    "start_time": "2025-02-11T05:55:23.050Z"
   },
   {
    "duration": 15,
    "start_time": "2025-02-11T05:55:25.470Z"
   },
   {
    "duration": 3,
    "start_time": "2025-02-11T05:55:29.062Z"
   },
   {
    "duration": 742,
    "start_time": "2025-02-11T05:56:36.411Z"
   },
   {
    "duration": 18,
    "start_time": "2025-02-11T05:56:37.155Z"
   },
   {
    "duration": 9,
    "start_time": "2025-02-11T05:56:37.174Z"
   },
   {
    "duration": 17,
    "start_time": "2025-02-11T05:56:37.185Z"
   },
   {
    "duration": 3,
    "start_time": "2025-02-11T05:56:37.203Z"
   },
   {
    "duration": 26,
    "start_time": "2025-02-11T05:56:37.208Z"
   },
   {
    "duration": 4,
    "start_time": "2025-02-11T05:56:37.236Z"
   },
   {
    "duration": 4,
    "start_time": "2025-02-11T05:56:37.241Z"
   },
   {
    "duration": 783,
    "start_time": "2025-02-11T16:46:22.759Z"
   },
   {
    "duration": 25,
    "start_time": "2025-02-11T16:46:23.544Z"
   },
   {
    "duration": 8,
    "start_time": "2025-02-11T16:46:23.571Z"
   },
   {
    "duration": 17,
    "start_time": "2025-02-11T16:46:23.581Z"
   },
   {
    "duration": 3,
    "start_time": "2025-02-11T16:46:23.609Z"
   },
   {
    "duration": 5,
    "start_time": "2025-02-11T16:46:23.613Z"
   },
   {
    "duration": 4,
    "start_time": "2025-02-11T16:46:23.619Z"
   },
   {
    "duration": 4,
    "start_time": "2025-02-11T16:46:23.624Z"
   },
   {
    "duration": 766,
    "start_time": "2025-02-11T17:09:32.075Z"
   },
   {
    "duration": 18,
    "start_time": "2025-02-11T17:09:32.843Z"
   },
   {
    "duration": 9,
    "start_time": "2025-02-11T17:09:32.862Z"
   },
   {
    "duration": 15,
    "start_time": "2025-02-11T17:09:32.873Z"
   },
   {
    "duration": 19,
    "start_time": "2025-02-11T17:09:32.890Z"
   },
   {
    "duration": 5,
    "start_time": "2025-02-11T17:09:32.911Z"
   },
   {
    "duration": 5,
    "start_time": "2025-02-11T17:09:32.921Z"
   },
   {
    "duration": 4,
    "start_time": "2025-02-11T17:09:32.928Z"
   },
   {
    "duration": 60,
    "start_time": "2025-02-11T17:25:07.367Z"
   },
   {
    "duration": 823,
    "start_time": "2025-02-11T17:25:32.113Z"
   },
   {
    "duration": 19,
    "start_time": "2025-02-11T17:25:32.938Z"
   },
   {
    "duration": 9,
    "start_time": "2025-02-11T17:25:32.958Z"
   },
   {
    "duration": 15,
    "start_time": "2025-02-11T17:25:32.969Z"
   },
   {
    "duration": 3,
    "start_time": "2025-02-11T17:25:32.986Z"
   },
   {
    "duration": 21,
    "start_time": "2025-02-11T17:25:32.990Z"
   },
   {
    "duration": 4,
    "start_time": "2025-02-11T17:25:33.012Z"
   },
   {
    "duration": 4,
    "start_time": "2025-02-11T17:25:33.017Z"
   },
   {
    "duration": 55,
    "start_time": "2025-02-11T17:25:33.022Z"
   },
   {
    "duration": 30,
    "start_time": "2025-02-11T17:25:33.079Z"
   },
   {
    "duration": 58,
    "start_time": "2025-02-11T17:27:06.035Z"
   },
   {
    "duration": 58,
    "start_time": "2025-02-11T17:29:22.970Z"
   },
   {
    "duration": 56,
    "start_time": "2025-02-11T17:29:31.164Z"
   },
   {
    "duration": 1716,
    "start_time": "2025-02-11T17:51:15.613Z"
   },
   {
    "duration": 1698,
    "start_time": "2025-02-11T17:52:13.960Z"
   },
   {
    "duration": 1712,
    "start_time": "2025-02-11T17:53:14.156Z"
   },
   {
    "duration": 10,
    "start_time": "2025-02-11T17:57:28.263Z"
   },
   {
    "duration": 833,
    "start_time": "2025-02-11T18:24:56.535Z"
   },
   {
    "duration": 23,
    "start_time": "2025-02-11T18:24:57.371Z"
   },
   {
    "duration": 9,
    "start_time": "2025-02-11T18:24:57.396Z"
   },
   {
    "duration": 17,
    "start_time": "2025-02-11T18:24:57.407Z"
   },
   {
    "duration": 2,
    "start_time": "2025-02-11T18:24:57.443Z"
   },
   {
    "duration": 4,
    "start_time": "2025-02-11T18:24:57.447Z"
   },
   {
    "duration": 3,
    "start_time": "2025-02-11T18:24:57.453Z"
   },
   {
    "duration": 4,
    "start_time": "2025-02-11T18:24:57.458Z"
   },
   {
    "duration": 96,
    "start_time": "2025-02-11T18:24:57.464Z"
   },
   {
    "duration": 1803,
    "start_time": "2025-02-11T18:24:57.562Z"
   },
   {
    "duration": 15,
    "start_time": "2025-02-11T18:24:59.367Z"
   },
   {
    "duration": 6,
    "start_time": "2025-02-11T18:56:07.540Z"
   },
   {
    "duration": 1724,
    "start_time": "2025-02-11T19:01:38.103Z"
   },
   {
    "duration": 56,
    "start_time": "2025-02-11T19:01:49.971Z"
   },
   {
    "duration": 8,
    "start_time": "2025-02-11T19:07:37.895Z"
   },
   {
    "duration": 157,
    "start_time": "2025-02-11T19:09:17.827Z"
   },
   {
    "duration": 156,
    "start_time": "2025-02-11T19:09:38.059Z"
   },
   {
    "duration": 156,
    "start_time": "2025-02-11T19:10:06.435Z"
   },
   {
    "duration": 10,
    "start_time": "2025-02-11T19:19:02.219Z"
   },
   {
    "duration": 780,
    "start_time": "2025-02-12T02:45:31.094Z"
   },
   {
    "duration": 25,
    "start_time": "2025-02-12T02:45:31.876Z"
   },
   {
    "duration": 8,
    "start_time": "2025-02-12T02:45:31.902Z"
   },
   {
    "duration": 29,
    "start_time": "2025-02-12T02:45:31.913Z"
   },
   {
    "duration": 3,
    "start_time": "2025-02-12T02:45:31.945Z"
   },
   {
    "duration": 5,
    "start_time": "2025-02-12T02:45:31.950Z"
   },
   {
    "duration": 4,
    "start_time": "2025-02-12T02:45:31.957Z"
   },
   {
    "duration": 7,
    "start_time": "2025-02-12T02:45:31.962Z"
   },
   {
    "duration": 71,
    "start_time": "2025-02-12T02:45:31.976Z"
   },
   {
    "duration": 1710,
    "start_time": "2025-02-12T02:45:32.049Z"
   },
   {
    "duration": 10,
    "start_time": "2025-02-12T02:45:33.761Z"
   },
   {
    "duration": 9,
    "start_time": "2025-02-12T02:45:33.772Z"
   },
   {
    "duration": 176,
    "start_time": "2025-02-12T02:45:33.783Z"
   },
   {
    "duration": 10,
    "start_time": "2025-02-12T02:45:33.962Z"
   },
   {
    "duration": 257,
    "start_time": "2025-02-12T02:48:45.054Z"
   },
   {
    "duration": 14,
    "start_time": "2025-02-12T02:49:34.534Z"
   },
   {
    "duration": 3,
    "start_time": "2025-02-12T02:49:51.558Z"
   },
   {
    "duration": 331,
    "start_time": "2025-02-12T02:50:00.773Z"
   },
   {
    "duration": 4,
    "start_time": "2025-02-12T02:50:12.394Z"
   },
   {
    "duration": 3,
    "start_time": "2025-02-12T02:52:05.728Z"
   },
   {
    "duration": 3,
    "start_time": "2025-02-12T02:52:49.392Z"
   },
   {
    "duration": 4,
    "start_time": "2025-02-12T02:53:13.590Z"
   },
   {
    "duration": 4,
    "start_time": "2025-02-12T02:53:51.887Z"
   },
   {
    "duration": 4,
    "start_time": "2025-02-12T02:55:07.004Z"
   },
   {
    "duration": 4,
    "start_time": "2025-02-12T02:56:14.466Z"
   },
   {
    "duration": 15,
    "start_time": "2025-02-12T02:57:13.528Z"
   },
   {
    "duration": 3,
    "start_time": "2025-02-12T02:57:29.587Z"
   },
   {
    "duration": 4,
    "start_time": "2025-02-12T02:58:20.229Z"
   },
   {
    "duration": 3,
    "start_time": "2025-02-12T02:59:06.029Z"
   },
   {
    "duration": 3,
    "start_time": "2025-02-12T02:59:41.798Z"
   },
   {
    "duration": 3,
    "start_time": "2025-02-12T02:59:59.384Z"
   },
   {
    "duration": 3,
    "start_time": "2025-02-12T03:00:10.364Z"
   },
   {
    "duration": 803,
    "start_time": "2025-02-12T03:05:46.553Z"
   },
   {
    "duration": 19,
    "start_time": "2025-02-12T03:05:47.358Z"
   },
   {
    "duration": 8,
    "start_time": "2025-02-12T03:05:47.379Z"
   },
   {
    "duration": 16,
    "start_time": "2025-02-12T03:05:47.390Z"
   },
   {
    "duration": 3,
    "start_time": "2025-02-12T03:05:47.408Z"
   },
   {
    "duration": 32,
    "start_time": "2025-02-12T03:05:47.413Z"
   },
   {
    "duration": 3,
    "start_time": "2025-02-12T03:05:47.447Z"
   },
   {
    "duration": 4,
    "start_time": "2025-02-12T03:05:47.452Z"
   },
   {
    "duration": 57,
    "start_time": "2025-02-12T03:05:47.457Z"
   },
   {
    "duration": 1764,
    "start_time": "2025-02-12T03:05:47.517Z"
   },
   {
    "duration": 11,
    "start_time": "2025-02-12T03:05:49.283Z"
   },
   {
    "duration": 8,
    "start_time": "2025-02-12T03:05:49.295Z"
   },
   {
    "duration": 176,
    "start_time": "2025-02-12T03:05:49.305Z"
   },
   {
    "duration": 10,
    "start_time": "2025-02-12T03:05:49.483Z"
   },
   {
    "duration": 3,
    "start_time": "2025-02-12T03:05:49.494Z"
   },
   {
    "duration": 4,
    "start_time": "2025-02-12T03:05:49.498Z"
   },
   {
    "duration": 4,
    "start_time": "2025-02-12T03:05:49.503Z"
   },
   {
    "duration": 3,
    "start_time": "2025-02-12T03:05:49.510Z"
   },
   {
    "duration": 13,
    "start_time": "2025-02-12T03:11:39.156Z"
   },
   {
    "duration": 11,
    "start_time": "2025-02-12T03:13:47.627Z"
   },
   {
    "duration": 778,
    "start_time": "2025-02-12T04:48:09.275Z"
   },
   {
    "duration": 33,
    "start_time": "2025-02-12T04:48:10.055Z"
   },
   {
    "duration": 15,
    "start_time": "2025-02-12T04:48:10.090Z"
   },
   {
    "duration": 17,
    "start_time": "2025-02-12T04:48:10.108Z"
   },
   {
    "duration": 3,
    "start_time": "2025-02-12T04:48:10.127Z"
   },
   {
    "duration": 4,
    "start_time": "2025-02-12T04:48:10.132Z"
   },
   {
    "duration": 4,
    "start_time": "2025-02-12T04:48:10.137Z"
   },
   {
    "duration": 4,
    "start_time": "2025-02-12T04:48:10.143Z"
   },
   {
    "duration": 93,
    "start_time": "2025-02-12T04:48:10.149Z"
   },
   {
    "duration": 1790,
    "start_time": "2025-02-12T04:48:10.245Z"
   },
   {
    "duration": 10,
    "start_time": "2025-02-12T04:48:12.037Z"
   },
   {
    "duration": 8,
    "start_time": "2025-02-12T04:48:12.049Z"
   },
   {
    "duration": 175,
    "start_time": "2025-02-12T04:48:12.058Z"
   },
   {
    "duration": 11,
    "start_time": "2025-02-12T04:48:12.235Z"
   },
   {
    "duration": 12,
    "start_time": "2025-02-12T04:48:12.248Z"
   },
   {
    "duration": 16,
    "start_time": "2025-02-12T04:55:09.756Z"
   },
   {
    "duration": 15,
    "start_time": "2025-02-12T04:56:08.476Z"
   },
   {
    "duration": 17,
    "start_time": "2025-02-12T04:56:18.164Z"
   },
   {
    "duration": 753,
    "start_time": "2025-02-12T04:56:35.882Z"
   },
   {
    "duration": 17,
    "start_time": "2025-02-12T04:56:36.637Z"
   },
   {
    "duration": 9,
    "start_time": "2025-02-12T04:56:36.655Z"
   },
   {
    "duration": 15,
    "start_time": "2025-02-12T04:56:36.665Z"
   },
   {
    "duration": 3,
    "start_time": "2025-02-12T04:56:36.704Z"
   },
   {
    "duration": 5,
    "start_time": "2025-02-12T04:56:36.709Z"
   },
   {
    "duration": 4,
    "start_time": "2025-02-12T04:56:36.715Z"
   },
   {
    "duration": 3,
    "start_time": "2025-02-12T04:56:36.721Z"
   },
   {
    "duration": 56,
    "start_time": "2025-02-12T04:56:36.726Z"
   },
   {
    "duration": 1712,
    "start_time": "2025-02-12T04:56:36.806Z"
   },
   {
    "duration": 10,
    "start_time": "2025-02-12T04:56:38.521Z"
   },
   {
    "duration": 7,
    "start_time": "2025-02-12T04:56:38.533Z"
   },
   {
    "duration": 170,
    "start_time": "2025-02-12T04:56:38.542Z"
   },
   {
    "duration": 9,
    "start_time": "2025-02-12T04:56:38.715Z"
   },
   {
    "duration": 11,
    "start_time": "2025-02-12T04:56:38.726Z"
   },
   {
    "duration": 771,
    "start_time": "2025-02-13T00:43:44.793Z"
   },
   {
    "duration": 26,
    "start_time": "2025-02-13T00:43:45.566Z"
   },
   {
    "duration": 8,
    "start_time": "2025-02-13T00:43:45.594Z"
   },
   {
    "duration": 19,
    "start_time": "2025-02-13T00:43:45.605Z"
   },
   {
    "duration": 3,
    "start_time": "2025-02-13T00:43:45.626Z"
   },
   {
    "duration": 4,
    "start_time": "2025-02-13T00:43:45.630Z"
   },
   {
    "duration": 3,
    "start_time": "2025-02-13T00:43:45.636Z"
   },
   {
    "duration": 4,
    "start_time": "2025-02-13T00:43:45.641Z"
   },
   {
    "duration": 81,
    "start_time": "2025-02-13T00:43:45.646Z"
   },
   {
    "duration": 1711,
    "start_time": "2025-02-13T00:43:45.729Z"
   },
   {
    "duration": 10,
    "start_time": "2025-02-13T00:43:47.442Z"
   },
   {
    "duration": 7,
    "start_time": "2025-02-13T00:43:47.454Z"
   },
   {
    "duration": 190,
    "start_time": "2025-02-13T00:43:47.464Z"
   },
   {
    "duration": 10,
    "start_time": "2025-02-13T00:43:47.657Z"
   },
   {
    "duration": 12,
    "start_time": "2025-02-13T00:43:47.668Z"
   },
   {
    "duration": 7,
    "start_time": "2025-02-13T01:17:25.754Z"
   }
  ],
  "kernelspec": {
   "display_name": "Python 3 (ipykernel)",
   "language": "python",
   "name": "python3"
  },
  "language_info": {
   "codemirror_mode": {
    "name": "ipython",
    "version": 3
   },
   "file_extension": ".py",
   "mimetype": "text/x-python",
   "name": "python",
   "nbconvert_exporter": "python",
   "pygments_lexer": "ipython3",
   "version": "3.9.19"
  },
  "toc": {
   "base_numbering": 1,
   "nav_menu": {},
   "number_sections": true,
   "sideBar": true,
   "skip_h1_title": true,
   "title_cell": "Table of Contents",
   "title_sidebar": "Contents",
   "toc_cell": false,
   "toc_position": {},
   "toc_section_display": true,
   "toc_window_display": false
  }
 },
 "nbformat": 4,
 "nbformat_minor": 2
}
