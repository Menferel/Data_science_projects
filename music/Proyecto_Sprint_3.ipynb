{
 "cells": [
  {
   "cell_type": "markdown",
   "metadata": {
    "id": "fhq_eyov_Zcs"
   },
   "source": [
    "# Contenido <a id='back'></a>\n",
    "\n",
    "* [Introducción](#intro)\n",
    "* [Etapa 1. Descripción de los datos](#data_review)\n",
    "    * [Conclusiones](#data_review_conclusions)\n",
    "* [Etapa 2. Preprocesamiento de datos](#data_preprocessing)\n",
    "    * [2.1 Estilo del encabezado](#header_style)\n",
    "    * [2.2 Valores ausentes](#missing_values)\n",
    "    * [2.3 Duplicados](#duplicates)\n",
    "    * [2.4 Conclusiones](#data_preprocessing_conclusions)\n",
    "* [Etapa 3. Prueba de hipótesis](#hypothesis)\n",
    "    * [3.1 Hipótesis 1: actividad de los usuarios y las usuarias en las dos ciudades](#activity)\n",
    "* [Conclusiones](#end)"
   ]
  },
  {
   "cell_type": "markdown",
   "metadata": {
    "id": "hDt6pg-Rw-1U"
   },
   "source": [
    "[Volver a Contenidos](#back)"
   ]
  },
  {
   "cell_type": "markdown",
   "metadata": {
    "id": "Ml1hmfXC_Zcs"
   },
   "source": [
    "## Etapa 1. Descripción de los datos <a id='data_review'></a>"
   ]
  },
  {
   "cell_type": "code",
   "execution_count": null,
   "metadata": {
    "id": "AXN7PHPN_Zcs"
   },
   "outputs": [],
   "source": [
    "# Cargar librerías \n",
    "import pandas as pd\n"
   ]
  },
  {
   "cell_type": "code",
   "execution_count": null,
   "metadata": {
    "id": "fFVu7vqh_Zct"
   },
   "outputs": [],
   "source": [
    "# Cargar los datos\n",
    "df = pd.read_csv('/datasets/music_project_en.csv')"
   ]
  },
  {
   "cell_type": "code",
   "execution_count": null,
   "metadata": {
    "id": "oWTVX3gW_Zct"
   },
   "outputs": [
    {
     "name": "stdout",
     "output_type": "stream",
     "text": [
      "     userID                        Track            artist   genre  \\\n",
      "0  FFB692EC            Kamigata To Boots  The Mass Missile    rock   \n",
      "1  55204538  Delayed Because of Accident  Andreas Rönnberg    rock   \n",
      "2    20EC38            Funiculì funiculà       Mario Lanza     pop   \n",
      "3  A3DD03C9        Dragons in the Sunset        Fire + Ice    folk   \n",
      "4  E2DC1FAE                  Soul People        Space Echo   dance   \n",
      "5  842029A1                       Chains          Obladaet  rusrap   \n",
      "6  4CB90AA5                         True      Roman Messer   dance   \n",
      "7  F03E1C1F             Feeling This Way   Polina Griffith   dance   \n",
      "8  8FA1D3BE                     L’estate       Julia Dalia  ruspop   \n",
      "9  E772D5C0                    Pessimist               NaN   dance   \n",
      "\n",
      "        City        time        Day  \n",
      "0  Shelbyville  20:28:33  Wednesday  \n",
      "1  Springfield  14:07:09     Friday  \n",
      "2  Shelbyville  20:58:07  Wednesday  \n",
      "3  Shelbyville  08:37:09     Monday  \n",
      "4  Springfield  08:34:34     Monday  \n",
      "5  Shelbyville  13:09:41     Friday  \n",
      "6  Springfield  13:00:07  Wednesday  \n",
      "7  Springfield  20:47:49  Wednesday  \n",
      "8  Springfield  09:17:40     Friday  \n",
      "9  Shelbyville  21:20:49  Wednesday  \n"
     ]
    }
   ],
   "source": [
    "# Visualizar los primeros 10 registros\n",
    "print (df.head(10))\n"
   ]
  },
  {
   "cell_type": "code",
   "execution_count": null,
   "metadata": {
    "id": "DSf2kIb-_Zct"
   },
   "outputs": [
    {
     "name": "stdout",
     "output_type": "stream",
     "text": [
      "<class 'pandas.core.frame.DataFrame'>\n",
      "RangeIndex: 65079 entries, 0 to 65078\n",
      "Data columns (total 7 columns):\n",
      " #   Column    Non-Null Count  Dtype \n",
      "---  ------    --------------  ----- \n",
      " 0     userID  65079 non-null  object\n",
      " 1   Track     63736 non-null  object\n",
      " 2   artist    57512 non-null  object\n",
      " 3   genre     63881 non-null  object\n",
      " 4     City    65079 non-null  object\n",
      " 5   time      65079 non-null  object\n",
      " 6   Day       65079 non-null  object\n",
      "dtypes: object(7)\n",
      "memory usage: 3.5+ MB\n"
     ]
    }
   ],
   "source": [
    "# Conocer la estructura del DataFrame\n",
    "df.info()\n"
   ]
  },
  {
   "cell_type": "markdown",
   "metadata": {
    "id": "3eL__vcwViOi"
   },
   "source": [
    "[Volver a Contenidos](#back)"
   ]
  },
  {
   "cell_type": "markdown",
   "metadata": {
    "id": "SjYF6Ub9_Zct"
   },
   "source": [
    "## Etapa 2. Preprocesamiento de datos <a id='data_preprocessing'></a>\n"
   ]
  },
  {
   "cell_type": "code",
   "execution_count": null,
   "metadata": {
    "id": "oKOTdF_Q_Zct"
   },
   "outputs": [
    {
     "name": "stdout",
     "output_type": "stream",
     "text": [
      "Index(['  userID', 'Track', 'artist', 'genre', '  City  ', 'time', 'Day'], dtype='object')\n"
     ]
    }
   ],
   "source": [
    "# Visualización del formato de las columnas\n",
    "print (df.columns)\n"
   ]
  },
  {
   "cell_type": "code",
   "execution_count": null,
   "metadata": {
    "id": "6I_RwwMhzM4e"
   },
   "outputs": [
    {
     "name": "stdout",
     "output_type": "stream",
     "text": [
      "Index(['  userid', 'track', 'artist', 'genre', '  city  ', 'time', 'day'], dtype='object')\n"
     ]
    }
   ],
   "source": [
    "# Transformación al formato snake_case\n",
    "# Convertir a minúsculas\n",
    "df.columns = [column.lower() for column in df.columns]\n",
    "    \n",
    "print (df.columns)"
   ]
  },
  {
   "cell_type": "code",
   "execution_count": null,
   "metadata": {
    "id": "vVQXbFyJzSYl"
   },
   "outputs": [
    {
     "name": "stdout",
     "output_type": "stream",
     "text": [
      "Index(['userid', 'track', 'artist', 'genre', 'city', 'time', 'day'], dtype='object')\n"
     ]
    }
   ],
   "source": [
    "# Quitar espacios innecesarios\n",
    "df.columns = [column.strip() for column in df.columns]\n",
    "\n",
    "print (df.columns)"
   ]
  },
  {
   "cell_type": "code",
   "execution_count": null,
   "metadata": {
    "id": "ISlFqs5y_Zct"
   },
   "outputs": [
    {
     "name": "stdout",
     "output_type": "stream",
     "text": [
      "Index(['user_id', 'track', 'artist', 'genre', 'city', 'time', 'day'], dtype='object')\n"
     ]
    }
   ],
   "source": [
    "# Renombrar columna user_id\n",
    "df = df.rename(columns={'userid': 'user_id'})\n",
    "\n",
    "print (df.columns)"
   ]
  },
  {
   "cell_type": "code",
   "execution_count": null,
   "metadata": {
    "id": "d4NOAmTW_Zct"
   },
   "outputs": [
    {
     "name": "stdout",
     "output_type": "stream",
     "text": [
      "Index(['user_id', 'track', 'artist', 'genre', 'city', 'time', 'day'], dtype='object')\n"
     ]
    }
   ],
   "source": [
    "# Comprobar formato snake_case\n",
    "print (df.columns)"
   ]
  },
  {
   "cell_type": "markdown",
   "metadata": {
    "id": "xYJk6ksJVpOl"
   },
   "source": [
    "[Volver a Contenidos](#back)"
   ]
  },
  {
   "cell_type": "markdown",
   "metadata": {
    "id": "5ISfbcfY_Zct"
   },
   "source": [
    "### Valores ausentes <a id='missing_values'></a>"
   ]
  },
  {
   "cell_type": "code",
   "execution_count": null,
   "metadata": {
    "id": "RskX29qr_Zct"
   },
   "outputs": [
    {
     "name": "stdout",
     "output_type": "stream",
     "text": [
      "user_id       0\n",
      "track      1343\n",
      "artist     7567\n",
      "genre      1198\n",
      "city          0\n",
      "time          0\n",
      "day           0\n",
      "dtype: int64\n"
     ]
    }
   ],
   "source": [
    "# Comprobar valores ausentes en todas las columnas\n",
    "val_ausentes = df.isna().sum()\n",
    "\n",
    "print (val_ausentes)"
   ]
  },
  {
   "cell_type": "code",
   "execution_count": null,
   "metadata": {
    "id": "KplB5qWs_Zct"
   },
   "outputs": [],
   "source": [
    "# Reemplazar valores ausentes por 'unknown'\n",
    "columnas_val_ausentes = ['track','artist','genre']\n",
    "\n",
    "for column in columnas_val_ausentes:\n",
    "    df[column] = df[column].fillna('unknown')"
   ]
  },
  {
   "cell_type": "code",
   "execution_count": null,
   "metadata": {
    "id": "Tq4nYRX4_Zct"
   },
   "outputs": [
    {
     "name": "stdout",
     "output_type": "stream",
     "text": [
      "user_id    0\n",
      "track      0\n",
      "artist     0\n",
      "genre      0\n",
      "city       0\n",
      "time       0\n",
      "day        0\n",
      "dtype: int64\n"
     ]
    }
   ],
   "source": [
    "# Comprobación de valores ausentes\n",
    "val_ausentes = df.isna().sum()\n",
    "print (val_ausentes)"
   ]
  },
  {
   "cell_type": "markdown",
   "metadata": {
    "id": "74ZIBmq9VrsK"
   },
   "source": [
    "[Volver a Contenidos](#back)"
   ]
  },
  {
   "cell_type": "markdown",
   "metadata": {
    "id": "BWKRtBJ3_Zct"
   },
   "source": [
    "### Duplicados <a id='duplicates'></a>"
   ]
  },
  {
   "cell_type": "code",
   "execution_count": null,
   "metadata": {
    "id": "36eES_S0_Zct"
   },
   "outputs": [
    {
     "name": "stdout",
     "output_type": "stream",
     "text": [
      "3826\n"
     ]
    }
   ],
   "source": [
    "# Identificar duplicados\n",
    "print (df.duplicated().sum())"
   ]
  },
  {
   "cell_type": "code",
   "execution_count": null,
   "metadata": {
    "id": "exFHq6tt_Zct"
   },
   "outputs": [],
   "source": [
    "# Eliminar duplicados\n",
    "df = df.drop_duplicates()"
   ]
  },
  {
   "cell_type": "code",
   "execution_count": null,
   "metadata": {
    "id": "-8PuNWQ0_Zct"
   },
   "outputs": [
    {
     "name": "stdout",
     "output_type": "stream",
     "text": [
      "0\n"
     ]
    }
   ],
   "source": [
    "# Comprobando que ya no hay duplicados\n",
    "print (df.duplicated().sum())"
   ]
  },
  {
   "cell_type": "code",
   "execution_count": null,
   "metadata": {
    "id": "JIUcqzZN_Zct"
   },
   "outputs": [
    {
     "name": "stdout",
     "output_type": "stream",
     "text": [
      "['acid', 'acoustic', 'action', 'adult', 'africa', 'afrikaans', 'alternative', 'ambient', 'americana', 'animated', 'anime', 'arabesk', 'arabic', 'arena', 'argentinetango', 'art', 'audiobook', 'avantgarde', 'axé', 'baile', 'balkan', 'beats', 'bigroom', 'black', 'bluegrass', 'blues', 'bollywood', 'bossa', 'brazilian', 'breakbeat', 'breaks', 'broadway', 'cantautori', 'cantopop', 'canzone', 'caribbean', 'caucasian', 'celtic', 'chamber', 'children', 'chill', 'chinese', 'choral', 'christian', 'christmas', 'classical', 'classicmetal', 'club', 'colombian', 'comedy', 'conjazz', 'contemporary', 'country', 'cuban', 'dance', 'dancehall', 'dancepop', 'dark', 'death', 'deep', 'deutschrock', 'deutschspr', 'dirty', 'disco', 'dnb', 'documentary', 'downbeat', 'downtempo', 'drum', 'dub', 'dubstep', 'eastern', 'easy', 'electronic', 'electropop', 'emo', 'entehno', 'epicmetal', 'estrada', 'ethnic', 'eurofolk', 'european', 'experimental', 'extrememetal', 'fado', 'film', 'fitness', 'flamenco', 'folk', 'folklore', 'folkmetal', 'folkrock', 'folktronica', 'forró', 'frankreich', 'französisch', 'french', 'funk', 'future', 'gangsta', 'garage', 'german', 'ghazal', 'gitarre', 'glitch', 'gospel', 'gothic', 'grime', 'grunge', 'gypsy', 'handsup', \"hard'n'heavy\", 'hardcore', 'hardstyle', 'hardtechno', 'hip', 'hip-hop', 'hiphop', 'historisch', 'holiday', 'hop', 'horror', 'house', 'idm', 'independent', 'indian', 'indie', 'indipop', 'industrial', 'inspirational', 'instrumental', 'international', 'irish', 'jam', 'japanese', 'jazz', 'jewish', 'jpop', 'jungle', 'k-pop', 'karadeniz', 'karaoke', 'kayokyoku', 'korean', 'laiko', 'latin', 'latino', 'leftfield', 'local', 'lounge', 'loungeelectronic', 'lovers', 'malaysian', 'mandopop', 'marschmusik', 'meditative', 'mediterranean', 'melodic', 'metal', 'metalcore', 'mexican', 'middle', 'minimal', 'miscellaneous', 'modern', 'mood', 'mpb', 'muslim', 'native', 'neoklassik', 'neue', 'new', 'newage', 'newwave', 'nu', 'nujazz', 'numetal', 'oceania', 'old', 'opera', 'orchestral', 'other', 'piano', 'pop', 'popelectronic', 'popeurodance', 'post', 'posthardcore', 'postrock', 'power', 'progmetal', 'progressive', 'psychedelic', 'punjabi', 'punk', 'quebecois', 'ragga', 'ram', 'rancheras', 'rap', 'rave', 'reggae', 'reggaeton', 'regional', 'relax', 'religious', 'retro', 'rhythm', 'rnb', 'rnr', 'rock', 'rockabilly', 'romance', 'roots', 'ruspop', 'rusrap', 'rusrock', 'salsa', 'samba', 'schlager', 'self', 'sertanejo', 'shoegazing', 'showtunes', 'singer', 'ska', 'slow', 'smooth', 'soul', 'soulful', 'sound', 'soundtrack', 'southern', 'specialty', 'speech', 'spiritual', 'sport', 'stonerrock', 'surf', 'swing', 'synthpop', 'sängerportrait', 'tango', 'tanzorchester', 'taraftar', 'tech', 'techno', 'thrash', 'top', 'traditional', 'tradjazz', 'trance', 'tribal', 'trip', 'triphop', 'tropical', 'türk', 'türkçe', 'unknown', 'urban', 'uzbek', 'variété', 'vi', 'videogame', 'vocal', 'western', 'world', 'worldbeat', 'ïîï']\n"
     ]
    }
   ],
   "source": [
    "# Lista de nombres de géneros únicos para eliminar duplicados implícitos\n",
    "generos_unicos = df['genre'].unique()\n",
    "generos_unicos_ordenados = sorted(generos_unicos)\n",
    "print (generos_unicos_ordenados)"
   ]
  },
  {
   "cell_type": "code",
   "execution_count": null,
   "metadata": {
    "id": "ErNDkmns_Zct"
   },
   "outputs": [],
   "source": [
    "# Función para eliminar duplicados implícitos\n",
    "def replace_wrong_genres (wrong_genres,correct_genre):\n",
    "    for genre in wrong_genres:\n",
    "        df['genre'] = df['genre'].replace(genre, correct_genre)\n",
    "wrong_genres = ['hip', 'hop', 'hip-hop']"
   ]
  },
  {
   "cell_type": "code",
   "execution_count": null,
   "metadata": {
    "id": "YN5i2hpmSo09"
   },
   "outputs": [],
   "source": [
    "# Llamando a la función \n",
    "replace_wrong_genres(wrong_genres, 'hiphop')"
   ]
  },
  {
   "cell_type": "code",
   "execution_count": null,
   "metadata": {
    "id": "wvixALnFG15m"
   },
   "outputs": [
    {
     "name": "stdout",
     "output_type": "stream",
     "text": [
      "['acid', 'acoustic', 'action', 'adult', 'africa', 'afrikaans', 'alternative', 'ambient', 'americana', 'animated', 'anime', 'arabesk', 'arabic', 'arena', 'argentinetango', 'art', 'audiobook', 'avantgarde', 'axé', 'baile', 'balkan', 'beats', 'bigroom', 'black', 'bluegrass', 'blues', 'bollywood', 'bossa', 'brazilian', 'breakbeat', 'breaks', 'broadway', 'cantautori', 'cantopop', 'canzone', 'caribbean', 'caucasian', 'celtic', 'chamber', 'children', 'chill', 'chinese', 'choral', 'christian', 'christmas', 'classical', 'classicmetal', 'club', 'colombian', 'comedy', 'conjazz', 'contemporary', 'country', 'cuban', 'dance', 'dancehall', 'dancepop', 'dark', 'death', 'deep', 'deutschrock', 'deutschspr', 'dirty', 'disco', 'dnb', 'documentary', 'downbeat', 'downtempo', 'drum', 'dub', 'dubstep', 'eastern', 'easy', 'electronic', 'electropop', 'emo', 'entehno', 'epicmetal', 'estrada', 'ethnic', 'eurofolk', 'european', 'experimental', 'extrememetal', 'fado', 'film', 'fitness', 'flamenco', 'folk', 'folklore', 'folkmetal', 'folkrock', 'folktronica', 'forró', 'frankreich', 'französisch', 'french', 'funk', 'future', 'gangsta', 'garage', 'german', 'ghazal', 'gitarre', 'glitch', 'gospel', 'gothic', 'grime', 'grunge', 'gypsy', 'handsup', \"hard'n'heavy\", 'hardcore', 'hardstyle', 'hardtechno', 'hiphop', 'historisch', 'holiday', 'horror', 'house', 'idm', 'independent', 'indian', 'indie', 'indipop', 'industrial', 'inspirational', 'instrumental', 'international', 'irish', 'jam', 'japanese', 'jazz', 'jewish', 'jpop', 'jungle', 'k-pop', 'karadeniz', 'karaoke', 'kayokyoku', 'korean', 'laiko', 'latin', 'latino', 'leftfield', 'local', 'lounge', 'loungeelectronic', 'lovers', 'malaysian', 'mandopop', 'marschmusik', 'meditative', 'mediterranean', 'melodic', 'metal', 'metalcore', 'mexican', 'middle', 'minimal', 'miscellaneous', 'modern', 'mood', 'mpb', 'muslim', 'native', 'neoklassik', 'neue', 'new', 'newage', 'newwave', 'nu', 'nujazz', 'numetal', 'oceania', 'old', 'opera', 'orchestral', 'other', 'piano', 'pop', 'popelectronic', 'popeurodance', 'post', 'posthardcore', 'postrock', 'power', 'progmetal', 'progressive', 'psychedelic', 'punjabi', 'punk', 'quebecois', 'ragga', 'ram', 'rancheras', 'rap', 'rave', 'reggae', 'reggaeton', 'regional', 'relax', 'religious', 'retro', 'rhythm', 'rnb', 'rnr', 'rock', 'rockabilly', 'romance', 'roots', 'ruspop', 'rusrap', 'rusrock', 'salsa', 'samba', 'schlager', 'self', 'sertanejo', 'shoegazing', 'showtunes', 'singer', 'ska', 'slow', 'smooth', 'soul', 'soulful', 'sound', 'soundtrack', 'southern', 'specialty', 'speech', 'spiritual', 'sport', 'stonerrock', 'surf', 'swing', 'synthpop', 'sängerportrait', 'tango', 'tanzorchester', 'taraftar', 'tech', 'techno', 'thrash', 'top', 'traditional', 'tradjazz', 'trance', 'tribal', 'trip', 'triphop', 'tropical', 'türk', 'türkçe', 'unknown', 'urban', 'uzbek', 'variété', 'vi', 'videogame', 'vocal', 'western', 'world', 'worldbeat', 'ïîï']\n"
     ]
    }
   ],
   "source": [
    "# Mostrar lista de géneros únicos para comprobación\n",
    "generos_unicos = df['genre'].unique()\n",
    "generos_unicos_ordenados = sorted(generos_unicos)\n",
    "print (generos_unicos_ordenados)"
   ]
  },
  {
   "cell_type": "markdown",
   "metadata": {
    "id": "ALgNbvF3VtPA"
   },
   "source": [
    "[Volver a Contenidos](#back)"
   ]
  },
  {
   "cell_type": "markdown",
   "metadata": {
    "id": "eK1es74rVujj"
   },
   "source": [
    "[Volver a Contenidos](#back)"
   ]
  },
  {
   "cell_type": "markdown",
   "metadata": {
    "id": "WttZHXH0SqKk"
   },
   "source": [
    "## Etapa 3. Prueba de hipótesis <a id='hypothesis'></a>"
   ]
  },
  {
   "cell_type": "markdown",
   "metadata": {
    "id": "Im936VVi_Zcu"
   },
   "source": [
    "### Hipótesis: comparar el comportamiento del usuario o la usuaria en las dos ciudades <a id='activity'></a>"
   ]
  },
  {
   "cell_type": "code",
   "execution_count": null,
   "metadata": {
    "id": "0_Qs96oh_Zcu"
   },
   "outputs": [
    {
     "name": "stdout",
     "output_type": "stream",
     "text": [
      "city\n",
      "Shelbyville    18512\n",
      "Springfield    42741\n",
      "Name: track, dtype: int64\n"
     ]
    }
   ],
   "source": [
    "# Evaluar la actividad del usuario en cada ciudad\n",
    "canciones_por_ciudad = df.groupby(['city'])['track'].count()\n",
    "print (canciones_por_ciudad)"
   ]
  },
  {
   "cell_type": "code",
   "execution_count": null,
   "metadata": {
    "id": "uZMKjiJz_Zcu"
   },
   "outputs": [
    {
     "name": "stdout",
     "output_type": "stream",
     "text": [
      "day\n",
      "Friday       21840\n",
      "Monday       21354\n",
      "Wednesday    18059\n",
      "Name: track, dtype: int64\n"
     ]
    }
   ],
   "source": [
    "# Evaluar actividad por días específicos de la semana\n",
    "df_filtered = df[df['day'].isin(['Monday', 'Wednesday', 'Friday'])]\n",
    "canciones_por_dia = df_filtered.groupby('day')['track'].count()\n",
    "print (canciones_por_dia)"
   ]
  },
  {
   "cell_type": "code",
   "execution_count": null,
   "metadata": {
    "id": "Nz3GdQB1_Zcu"
   },
   "outputs": [],
   "source": [
    " # Función para evaluar por día y por ciudad\n",
    " def number_tracks(day, city): \n",
    "\n",
    "    filtered_by_day = df[df['day'] == day]\n",
    "\n",
    "    filtered_by_day_and_city = filtered_by_day[filtered_by_day['city'] == city]\n",
    "\n",
    "    track_count = filtered_by_day_and_city['user_id'].count()\n",
    "\n",
    "    return track_count"
   ]
  },
  {
   "cell_type": "code",
   "execution_count": null,
   "metadata": {
    "id": "rJcRATNQ_Zcu"
   },
   "outputs": [
    {
     "data": {
      "text/plain": [
       "15740"
      ]
     },
     "execution_count": 23,
     "metadata": {},
     "output_type": "execute_result"
    }
   ],
   "source": [
    "number_tracks('Monday','Springfield')"
   ]
  },
  {
   "cell_type": "code",
   "execution_count": null,
   "metadata": {
    "id": "hq_ncZ5T_Zcu"
   },
   "outputs": [
    {
     "data": {
      "text/plain": [
       "5614"
      ]
     },
     "execution_count": 24,
     "metadata": {},
     "output_type": "execute_result"
    }
   ],
   "source": [
    "number_tracks('Monday','Shelbyville')"
   ]
  },
  {
   "cell_type": "code",
   "execution_count": null,
   "metadata": {
    "id": "_NTy2VPU_Zcu"
   },
   "outputs": [
    {
     "data": {
      "text/plain": [
       "11056"
      ]
     },
     "execution_count": 25,
     "metadata": {},
     "output_type": "execute_result"
    }
   ],
   "source": [
    "number_tracks('Wednesday','Springfield')"
   ]
  },
  {
   "cell_type": "code",
   "execution_count": null,
   "metadata": {
    "id": "j2y3TAwo_Zcu"
   },
   "outputs": [
    {
     "data": {
      "text/plain": [
       "7003"
      ]
     },
     "execution_count": 26,
     "metadata": {},
     "output_type": "execute_result"
    }
   ],
   "source": [
    "number_tracks('Wednesday','Shelbyville')"
   ]
  },
  {
   "cell_type": "code",
   "execution_count": null,
   "metadata": {
    "id": "vYDw5u_K_Zcu"
   },
   "outputs": [
    {
     "data": {
      "text/plain": [
       "15945"
      ]
     },
     "execution_count": 27,
     "metadata": {},
     "output_type": "execute_result"
    }
   ],
   "source": [
    "number_tracks('Friday','Springfield')"
   ]
  },
  {
   "cell_type": "code",
   "execution_count": null,
   "metadata": {
    "id": "8_yzFtW3_Zcu"
   },
   "outputs": [
    {
     "data": {
      "text/plain": [
       "5895"
      ]
     },
     "execution_count": 28,
     "metadata": {},
     "output_type": "execute_result"
    }
   ],
   "source": [
    "number_tracks('Friday','Shelbyville')"
   ]
  },
  {
   "cell_type": "markdown",
   "metadata": {
    "id": "p7nFQajCVw5B"
   },
   "source": [
    "[Volver a Contenidos](#back)"
   ]
  },
  {
   "cell_type": "markdown",
   "metadata": {
    "id": "ykKQ0N65_Zcv"
   },
   "source": [
    "# Conclusiones <a id='end'></a>"
   ]
  },
  {
   "cell_type": "markdown",
   "metadata": {
    "id": "tjUwbHb3_Zcv"
   },
   "source": [
    "- Primero que nada, se transformaron las columnas al formato snake_case, se eliminaron duplicados y los valores ausentes se imputaron con 'unknown' debido a que no hubo forma de recuperar los datos en este proyecto. \n",
    "- Se comparó la actividad entre días y ciudades.\n",
    "- Finalmente, se establece que la hipótesis es correcta, la actividad cambia en función del día y la ciudad. Springfield tiene más canciones reproducidas que Shelbyville en los tres días analizados. Además, en Springfield el día más activo es el viernes, seguido del lunes y luego el miércoles. En Shelbyville, el día más activo es el miércoles, seguido del lunes y luego el viernes. Por lo tanto, se demuestra la hipótesis establecida previamente. "
   ]
  },
  {
   "cell_type": "markdown",
   "metadata": {
    "id": "Ju4AHDSgV1FE"
   },
   "source": [
    "[Volver a Contenidos](#back)"
   ]
  }
 ],
 "metadata": {
  "ExecuteTimeLog": [
   {
    "duration": 9,
    "start_time": "2024-10-04T04:36:47.211Z"
   },
   {
    "duration": 304,
    "start_time": "2024-10-04T04:38:24.077Z"
   },
   {
    "duration": 132,
    "start_time": "2024-10-04T04:40:23.867Z"
   },
   {
    "duration": 8,
    "start_time": "2024-10-04T04:40:40.138Z"
   },
   {
    "duration": 22,
    "start_time": "2024-10-04T04:42:54.559Z"
   },
   {
    "duration": 5,
    "start_time": "2024-10-04T05:06:20.880Z"
   },
   {
    "duration": 3,
    "start_time": "2024-10-04T05:06:26.458Z"
   },
   {
    "duration": 4,
    "start_time": "2024-10-04T05:09:25.852Z"
   },
   {
    "duration": 4,
    "start_time": "2024-10-04T05:12:40.076Z"
   },
   {
    "duration": 13,
    "start_time": "2024-10-04T05:17:18.571Z"
   },
   {
    "duration": 8,
    "start_time": "2024-10-04T05:17:28.213Z"
   },
   {
    "duration": 12,
    "start_time": "2024-10-04T05:17:37.919Z"
   },
   {
    "duration": 6,
    "start_time": "2024-10-04T05:17:53.019Z"
   },
   {
    "duration": 3,
    "start_time": "2024-10-04T05:18:17.133Z"
   },
   {
    "duration": 16,
    "start_time": "2024-10-04T05:22:18.149Z"
   },
   {
    "duration": 168,
    "start_time": "2024-10-04T15:46:28.726Z"
   },
   {
    "duration": 13,
    "start_time": "2024-10-04T15:47:45.898Z"
   },
   {
    "duration": 13,
    "start_time": "2024-10-04T15:49:06.083Z"
   },
   {
    "duration": 851,
    "start_time": "2024-10-04T16:03:29.520Z"
   },
   {
    "duration": 123,
    "start_time": "2024-10-04T16:03:43.816Z"
   },
   {
    "duration": 40,
    "start_time": "2024-10-04T16:04:28.362Z"
   },
   {
    "duration": 41,
    "start_time": "2024-10-04T16:04:31.211Z"
   },
   {
    "duration": 4,
    "start_time": "2024-10-04T16:05:43.181Z"
   },
   {
    "duration": 7,
    "start_time": "2024-10-04T16:05:48.731Z"
   },
   {
    "duration": 3,
    "start_time": "2024-10-04T16:05:54.847Z"
   },
   {
    "duration": 92,
    "start_time": "2024-10-04T16:05:56.288Z"
   },
   {
    "duration": 7,
    "start_time": "2024-10-04T16:05:58.045Z"
   },
   {
    "duration": 20,
    "start_time": "2024-10-04T16:06:02.386Z"
   },
   {
    "duration": 3,
    "start_time": "2024-10-04T16:06:07.341Z"
   },
   {
    "duration": 4,
    "start_time": "2024-10-04T16:06:09.635Z"
   },
   {
    "duration": 3,
    "start_time": "2024-10-04T16:06:13.091Z"
   },
   {
    "duration": 9,
    "start_time": "2024-10-04T16:06:18.409Z"
   },
   {
    "duration": 3,
    "start_time": "2024-10-04T16:06:21.968Z"
   },
   {
    "duration": 18,
    "start_time": "2024-10-04T16:06:26.508Z"
   },
   {
    "duration": 12,
    "start_time": "2024-10-04T16:06:29.722Z"
   },
   {
    "duration": 12,
    "start_time": "2024-10-04T16:06:32.023Z"
   },
   {
    "duration": 4,
    "start_time": "2024-10-04T16:08:03.080Z"
   },
   {
    "duration": 17,
    "start_time": "2024-10-04T16:08:16.948Z"
   },
   {
    "duration": 43,
    "start_time": "2024-10-04T16:21:38.768Z"
   },
   {
    "duration": 47,
    "start_time": "2024-10-04T16:30:01.740Z"
   },
   {
    "duration": 39,
    "start_time": "2024-10-04T16:30:13.655Z"
   },
   {
    "duration": 7,
    "start_time": "2024-10-04T16:32:13.252Z"
   },
   {
    "duration": 5,
    "start_time": "2024-10-04T16:32:58.318Z"
   },
   {
    "duration": 6,
    "start_time": "2024-10-04T16:33:12.535Z"
   },
   {
    "duration": 3,
    "start_time": "2024-10-04T16:42:23.299Z"
   },
   {
    "duration": 8,
    "start_time": "2024-10-04T16:42:25.364Z"
   },
   {
    "duration": 6,
    "start_time": "2024-10-04T16:42:39.056Z"
   },
   {
    "duration": 5,
    "start_time": "2024-10-04T16:43:10.184Z"
   },
   {
    "duration": 162,
    "start_time": "2024-10-04T19:57:43.799Z"
   },
   {
    "duration": 319,
    "start_time": "2024-10-04T19:57:49.918Z"
   },
   {
    "duration": 120,
    "start_time": "2024-10-04T19:57:51.476Z"
   },
   {
    "duration": 7,
    "start_time": "2024-10-04T19:57:53.315Z"
   },
   {
    "duration": 20,
    "start_time": "2024-10-04T19:57:56.181Z"
   },
   {
    "duration": 3,
    "start_time": "2024-10-04T19:58:00.422Z"
   },
   {
    "duration": 4,
    "start_time": "2024-10-04T19:58:03.225Z"
   },
   {
    "duration": 3,
    "start_time": "2024-10-04T19:58:05.605Z"
   },
   {
    "duration": 8,
    "start_time": "2024-10-04T19:58:07.083Z"
   },
   {
    "duration": 3,
    "start_time": "2024-10-04T19:58:09.450Z"
   },
   {
    "duration": 18,
    "start_time": "2024-10-04T19:58:21.110Z"
   },
   {
    "duration": 11,
    "start_time": "2024-10-04T19:58:23.719Z"
   },
   {
    "duration": 17,
    "start_time": "2024-10-04T19:58:25.877Z"
   },
   {
    "duration": 42,
    "start_time": "2024-10-04T19:58:27.880Z"
   },
   {
    "duration": 49,
    "start_time": "2024-10-04T19:58:29.660Z"
   },
   {
    "duration": 40,
    "start_time": "2024-10-04T19:58:31.107Z"
   },
   {
    "duration": 5,
    "start_time": "2024-10-04T19:58:34.242Z"
   },
   {
    "duration": 3,
    "start_time": "2024-10-04T19:58:37.945Z"
   },
   {
    "duration": 7,
    "start_time": "2024-10-04T19:58:39.943Z"
   },
   {
    "duration": 6,
    "start_time": "2024-10-04T19:58:41.728Z"
   },
   {
    "duration": 12,
    "start_time": "2024-10-04T20:15:41.444Z"
   },
   {
    "duration": 15,
    "start_time": "2024-10-04T20:16:01.430Z"
   },
   {
    "duration": 10,
    "start_time": "2024-10-04T20:19:28.112Z"
   },
   {
    "duration": 9,
    "start_time": "2024-10-04T20:23:44.823Z"
   },
   {
    "duration": 9,
    "start_time": "2024-10-04T20:23:52.683Z"
   },
   {
    "duration": 313,
    "start_time": "2024-10-04T20:53:25.784Z"
   },
   {
    "duration": 138,
    "start_time": "2024-10-04T20:53:27.629Z"
   },
   {
    "duration": 8,
    "start_time": "2024-10-04T20:53:28.551Z"
   },
   {
    "duration": 21,
    "start_time": "2024-10-04T20:53:31.019Z"
   },
   {
    "duration": 3,
    "start_time": "2024-10-04T20:53:35.417Z"
   },
   {
    "duration": 3,
    "start_time": "2024-10-04T20:53:37.342Z"
   },
   {
    "duration": 4,
    "start_time": "2024-10-04T20:53:38.472Z"
   },
   {
    "duration": 9,
    "start_time": "2024-10-04T20:53:39.549Z"
   },
   {
    "duration": 3,
    "start_time": "2024-10-04T20:53:42.440Z"
   },
   {
    "duration": 20,
    "start_time": "2024-10-04T20:53:44.756Z"
   },
   {
    "duration": 14,
    "start_time": "2024-10-04T20:53:47.192Z"
   },
   {
    "duration": 21,
    "start_time": "2024-10-04T20:53:49.112Z"
   },
   {
    "duration": 48,
    "start_time": "2024-10-04T20:53:51.718Z"
   },
   {
    "duration": 54,
    "start_time": "2024-10-04T20:53:53.049Z"
   },
   {
    "duration": 43,
    "start_time": "2024-10-04T20:53:54.495Z"
   },
   {
    "duration": 5,
    "start_time": "2024-10-04T20:53:56.670Z"
   },
   {
    "duration": 3,
    "start_time": "2024-10-04T20:54:00.366Z"
   },
   {
    "duration": 10,
    "start_time": "2024-10-04T20:54:01.475Z"
   },
   {
    "duration": 6,
    "start_time": "2024-10-04T20:54:02.741Z"
   },
   {
    "duration": 11,
    "start_time": "2024-10-04T20:54:07.577Z"
   },
   {
    "duration": 322,
    "start_time": "2024-10-04T22:16:06.982Z"
   },
   {
    "duration": 135,
    "start_time": "2024-10-04T22:16:09.028Z"
   },
   {
    "duration": 7,
    "start_time": "2024-10-04T22:16:10.949Z"
   },
   {
    "duration": 23,
    "start_time": "2024-10-04T22:16:12.970Z"
   },
   {
    "duration": 4,
    "start_time": "2024-10-04T22:16:17.025Z"
   },
   {
    "duration": 4,
    "start_time": "2024-10-04T22:16:20.174Z"
   },
   {
    "duration": 3,
    "start_time": "2024-10-04T22:16:22.786Z"
   },
   {
    "duration": 9,
    "start_time": "2024-10-04T22:16:25.069Z"
   },
   {
    "duration": 3,
    "start_time": "2024-10-04T22:16:26.962Z"
   },
   {
    "duration": 19,
    "start_time": "2024-10-04T22:16:28.919Z"
   },
   {
    "duration": 12,
    "start_time": "2024-10-04T22:16:31.891Z"
   },
   {
    "duration": 18,
    "start_time": "2024-10-04T22:16:33.983Z"
   },
   {
    "duration": 45,
    "start_time": "2024-10-04T22:16:36.990Z"
   },
   {
    "duration": 48,
    "start_time": "2024-10-04T22:16:38.836Z"
   },
   {
    "duration": 48,
    "start_time": "2024-10-04T22:16:40.540Z"
   },
   {
    "duration": 6,
    "start_time": "2024-10-04T22:16:42.352Z"
   },
   {
    "duration": 3,
    "start_time": "2024-10-04T22:16:46.225Z"
   },
   {
    "duration": 8,
    "start_time": "2024-10-04T22:16:47.956Z"
   },
   {
    "duration": 6,
    "start_time": "2024-10-04T22:16:49.700Z"
   },
   {
    "duration": 10,
    "start_time": "2024-10-04T22:16:54.112Z"
   },
   {
    "duration": 15,
    "start_time": "2024-10-04T22:18:23.645Z"
   },
   {
    "duration": 3,
    "start_time": "2024-10-04T22:27:24.803Z"
   },
   {
    "duration": 2,
    "start_time": "2024-10-04T22:29:22.337Z"
   },
   {
    "duration": 9,
    "start_time": "2024-10-04T22:31:17.988Z"
   },
   {
    "duration": 201,
    "start_time": "2024-10-04T22:31:32.137Z"
   },
   {
    "duration": 16,
    "start_time": "2024-10-04T22:31:52.890Z"
   },
   {
    "duration": 14,
    "start_time": "2024-10-04T22:33:56.191Z"
   },
   {
    "duration": 13,
    "start_time": "2024-10-04T22:36:13.311Z"
   },
   {
    "duration": 14,
    "start_time": "2024-10-04T22:36:14.839Z"
   },
   {
    "duration": 14,
    "start_time": "2024-10-04T22:36:16.822Z"
   },
   {
    "duration": 12,
    "start_time": "2024-10-04T22:36:17.883Z"
   },
   {
    "duration": 268,
    "start_time": "2024-10-05T03:39:07.189Z"
   },
   {
    "duration": 124,
    "start_time": "2024-10-05T03:39:07.459Z"
   },
   {
    "duration": 6,
    "start_time": "2024-10-05T03:39:07.585Z"
   },
   {
    "duration": 29,
    "start_time": "2024-10-05T03:39:07.593Z"
   },
   {
    "duration": 2,
    "start_time": "2024-10-05T03:39:07.625Z"
   },
   {
    "duration": 3,
    "start_time": "2024-10-05T03:39:07.629Z"
   },
   {
    "duration": 3,
    "start_time": "2024-10-05T03:39:07.634Z"
   },
   {
    "duration": 7,
    "start_time": "2024-10-05T03:39:07.640Z"
   },
   {
    "duration": 3,
    "start_time": "2024-10-05T03:39:07.649Z"
   },
   {
    "duration": 16,
    "start_time": "2024-10-05T03:39:07.653Z"
   },
   {
    "duration": 48,
    "start_time": "2024-10-05T03:39:07.671Z"
   },
   {
    "duration": 15,
    "start_time": "2024-10-05T03:39:07.720Z"
   },
   {
    "duration": 42,
    "start_time": "2024-10-05T03:39:07.737Z"
   },
   {
    "duration": 63,
    "start_time": "2024-10-05T03:39:07.782Z"
   },
   {
    "duration": 38,
    "start_time": "2024-10-05T03:39:07.846Z"
   },
   {
    "duration": 5,
    "start_time": "2024-10-05T03:39:07.886Z"
   },
   {
    "duration": 19,
    "start_time": "2024-10-05T03:39:07.893Z"
   },
   {
    "duration": 7,
    "start_time": "2024-10-05T03:39:07.914Z"
   },
   {
    "duration": 5,
    "start_time": "2024-10-05T03:39:07.922Z"
   },
   {
    "duration": 8,
    "start_time": "2024-10-05T03:39:07.929Z"
   },
   {
    "duration": 13,
    "start_time": "2024-10-05T03:39:07.939Z"
   },
   {
    "duration": 2,
    "start_time": "2024-10-05T03:39:07.954Z"
   },
   {
    "duration": 14,
    "start_time": "2024-10-05T03:39:07.958Z"
   },
   {
    "duration": 45,
    "start_time": "2024-10-05T03:39:07.974Z"
   },
   {
    "duration": 13,
    "start_time": "2024-10-05T03:39:08.021Z"
   },
   {
    "duration": 12,
    "start_time": "2024-10-05T03:39:08.036Z"
   },
   {
    "duration": 13,
    "start_time": "2024-10-05T03:39:08.049Z"
   },
   {
    "duration": 10,
    "start_time": "2024-10-05T03:39:08.063Z"
   }
  ],
  "colab": {
   "collapsed_sections": [
    "E0vqbgi9ay0H",
    "VUC88oWjTJw2"
   ],
   "provenance": []
  },
  "kernelspec": {
   "display_name": "Python 3 (ipykernel)",
   "language": "python",
   "name": "python3"
  },
  "language_info": {
   "codemirror_mode": {
    "name": "ipython",
    "version": 3
   },
   "file_extension": ".py",
   "mimetype": "text/x-python",
   "name": "python",
   "nbconvert_exporter": "python",
   "pygments_lexer": "ipython3",
   "version": "3.9.19"
  },
  "toc": {
   "base_numbering": 1,
   "nav_menu": {},
   "number_sections": true,
   "sideBar": true,
   "skip_h1_title": true,
   "title_cell": "Table of Contents",
   "title_sidebar": "Contents",
   "toc_cell": false,
   "toc_position": {},
   "toc_section_display": true,
   "toc_window_display": false
  }
 },
 "nbformat": 4,
 "nbformat_minor": 1
}
