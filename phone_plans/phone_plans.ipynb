{
 "cells": [
  {
   "cell_type": "markdown",
   "metadata": {
    "id": "MQi4IPy70q0y"
   },
   "source": [
    "## Inicialización"
   ]
  },
  {
   "cell_type": "code",
   "execution_count": null,
   "metadata": {
    "id": "MtYIuBxu0q0z"
   },
   "outputs": [],
   "source": [
    "# Importar librerías\n",
    "import pandas as pd\n",
    "import numpy as np\n",
    "import matplotlib.pyplot as plt\n",
    "import math\n",
    "from scipy import stats"
   ]
  },
  {
   "cell_type": "markdown",
   "metadata": {
    "id": "4ysWWC5i0q00"
   },
   "source": [
    "## Cargar datos"
   ]
  },
  {
   "cell_type": "code",
   "execution_count": null,
   "metadata": {
    "id": "CCqPW7rS0q01"
   },
   "outputs": [],
   "source": [
    "# Cargar los df\n",
    "calls = pd.read_csv('/datasets/megaline_calls.csv')\n",
    "internet = pd.read_csv('/datasets/megaline_internet.csv')\n",
    "messages = pd.read_csv('/datasets/megaline_messages.csv')\n",
    "plans = pd.read_csv('/datasets/megaline_plans.csv')\n",
    "users = pd.read_csv('/datasets/megaline_users.csv')"
   ]
  },
  {
   "cell_type": "markdown",
   "metadata": {
    "id": "69qqoJ3r0q01"
   },
   "source": [
    "## Preparar los datos"
   ]
  },
  {
   "cell_type": "markdown",
   "metadata": {
    "id": "ohBhimvH0q01"
   },
   "source": [
    "## Tarifas"
   ]
  },
  {
   "cell_type": "code",
   "execution_count": null,
   "metadata": {
    "id": "GptqP3Q40q02"
   },
   "outputs": [
    {
     "name": "stdout",
     "output_type": "stream",
     "text": [
      "   messages_included  mb_per_month_included  minutes_included  \\\n",
      "0                 50                  15360               500   \n",
      "1               1000                  30720              3000   \n",
      "\n",
      "   usd_monthly_pay  usd_per_gb  usd_per_message  usd_per_minute plan_name  \n",
      "0               20          10             0.03            0.03      surf  \n",
      "1               70           7             0.01            0.01  ultimate  \n",
      "<class 'pandas.core.frame.DataFrame'>\n",
      "RangeIndex: 2 entries, 0 to 1\n",
      "Data columns (total 8 columns):\n",
      " #   Column                 Non-Null Count  Dtype  \n",
      "---  ------                 --------------  -----  \n",
      " 0   messages_included      2 non-null      int64  \n",
      " 1   mb_per_month_included  2 non-null      int64  \n",
      " 2   minutes_included       2 non-null      int64  \n",
      " 3   usd_monthly_pay        2 non-null      int64  \n",
      " 4   usd_per_gb             2 non-null      int64  \n",
      " 5   usd_per_message        2 non-null      float64\n",
      " 6   usd_per_minute         2 non-null      float64\n",
      " 7   plan_name              2 non-null      object \n",
      "dtypes: float64(2), int64(5), object(1)\n",
      "memory usage: 256.0+ bytes\n",
      "None\n"
     ]
    }
   ],
   "source": [
    "# Imprimir la información general/resumida sobre el DataFrame de las tarifas\n",
    "print(plans.head())\n",
    "print(plans.info())"
   ]
  },
  {
   "cell_type": "code",
   "execution_count": null,
   "metadata": {
    "id": "64xzjwL70q02"
   },
   "outputs": [
    {
     "data": {
      "text/html": [
       "<div>\n",
       "<style scoped>\n",
       "    .dataframe tbody tr th:only-of-type {\n",
       "        vertical-align: middle;\n",
       "    }\n",
       "\n",
       "    .dataframe tbody tr th {\n",
       "        vertical-align: top;\n",
       "    }\n",
       "\n",
       "    .dataframe thead th {\n",
       "        text-align: right;\n",
       "    }\n",
       "</style>\n",
       "<table border=\"1\" class=\"dataframe\">\n",
       "  <thead>\n",
       "    <tr style=\"text-align: right;\">\n",
       "      <th></th>\n",
       "      <th>messages_included</th>\n",
       "      <th>mb_per_month_included</th>\n",
       "      <th>minutes_included</th>\n",
       "      <th>usd_monthly_pay</th>\n",
       "      <th>usd_per_gb</th>\n",
       "      <th>usd_per_message</th>\n",
       "      <th>usd_per_minute</th>\n",
       "      <th>plan_name</th>\n",
       "    </tr>\n",
       "  </thead>\n",
       "  <tbody>\n",
       "    <tr>\n",
       "      <th>0</th>\n",
       "      <td>50</td>\n",
       "      <td>15360</td>\n",
       "      <td>500</td>\n",
       "      <td>20</td>\n",
       "      <td>10</td>\n",
       "      <td>0.03</td>\n",
       "      <td>0.03</td>\n",
       "      <td>surf</td>\n",
       "    </tr>\n",
       "    <tr>\n",
       "      <th>1</th>\n",
       "      <td>1000</td>\n",
       "      <td>30720</td>\n",
       "      <td>3000</td>\n",
       "      <td>70</td>\n",
       "      <td>7</td>\n",
       "      <td>0.01</td>\n",
       "      <td>0.01</td>\n",
       "      <td>ultimate</td>\n",
       "    </tr>\n",
       "  </tbody>\n",
       "</table>\n",
       "</div>"
      ],
      "text/plain": [
       "   messages_included  mb_per_month_included  minutes_included  \\\n",
       "0                 50                  15360               500   \n",
       "1               1000                  30720              3000   \n",
       "\n",
       "   usd_monthly_pay  usd_per_gb  usd_per_message  usd_per_minute plan_name  \n",
       "0               20          10             0.03            0.03      surf  \n",
       "1               70           7             0.01            0.01  ultimate  "
      ]
     },
     "execution_count": 4,
     "metadata": {},
     "output_type": "execute_result"
    }
   ],
   "source": [
    "# Imprimir una muestra de los datos para las tarifas\n",
    "plans.sample(2)"
   ]
  },
  {
   "cell_type": "code",
   "execution_count": null,
   "metadata": {},
   "outputs": [
    {
     "data": {
      "text/html": [
       "<div>\n",
       "<style scoped>\n",
       "    .dataframe tbody tr th:only-of-type {\n",
       "        vertical-align: middle;\n",
       "    }\n",
       "\n",
       "    .dataframe tbody tr th {\n",
       "        vertical-align: top;\n",
       "    }\n",
       "\n",
       "    .dataframe thead th {\n",
       "        text-align: right;\n",
       "    }\n",
       "</style>\n",
       "<table border=\"1\" class=\"dataframe\">\n",
       "  <thead>\n",
       "    <tr style=\"text-align: right;\">\n",
       "      <th></th>\n",
       "      <th>messages_included</th>\n",
       "      <th>mb_per_month_included</th>\n",
       "      <th>minutes_included</th>\n",
       "      <th>usd_monthly_pay</th>\n",
       "      <th>usd_per_gb</th>\n",
       "      <th>usd_per_message</th>\n",
       "      <th>usd_per_minute</th>\n",
       "      <th>plan_name</th>\n",
       "      <th>gb_per_month_included</th>\n",
       "    </tr>\n",
       "  </thead>\n",
       "  <tbody>\n",
       "    <tr>\n",
       "      <th>0</th>\n",
       "      <td>50</td>\n",
       "      <td>15360</td>\n",
       "      <td>500</td>\n",
       "      <td>20</td>\n",
       "      <td>10</td>\n",
       "      <td>0.03</td>\n",
       "      <td>0.03</td>\n",
       "      <td>surf</td>\n",
       "      <td>15.0</td>\n",
       "    </tr>\n",
       "    <tr>\n",
       "      <th>1</th>\n",
       "      <td>1000</td>\n",
       "      <td>30720</td>\n",
       "      <td>3000</td>\n",
       "      <td>70</td>\n",
       "      <td>7</td>\n",
       "      <td>0.01</td>\n",
       "      <td>0.01</td>\n",
       "      <td>ultimate</td>\n",
       "      <td>30.0</td>\n",
       "    </tr>\n",
       "  </tbody>\n",
       "</table>\n",
       "</div>"
      ],
      "text/plain": [
       "   messages_included  mb_per_month_included  minutes_included  \\\n",
       "0                 50                  15360               500   \n",
       "1               1000                  30720              3000   \n",
       "\n",
       "   usd_monthly_pay  usd_per_gb  usd_per_message  usd_per_minute plan_name  \\\n",
       "0               20          10             0.03            0.03      surf   \n",
       "1               70           7             0.01            0.01  ultimate   \n",
       "\n",
       "   gb_per_month_included  \n",
       "0                   15.0  \n",
       "1                   30.0  "
      ]
     },
     "execution_count": 5,
     "metadata": {},
     "output_type": "execute_result"
    }
   ],
   "source": [
    "# Crear columna con gb\n",
    "plans['gb_per_month_included'] = plans['mb_per_month_included']/1024\n",
    "plans.sample(2)"
   ]
  },
  {
   "cell_type": "code",
   "execution_count": 6,
   "metadata": {},
   "outputs": [
    {
     "data": {
      "text/plain": [
       "0"
      ]
     },
     "execution_count": 6,
     "metadata": {},
     "output_type": "execute_result"
    }
   ],
   "source": [
    "plans.duplicated().sum()"
   ]
  },
  {
   "cell_type": "markdown",
   "metadata": {
    "id": "mEc_3_hs0q02"
   },
   "source": [
    "Es una tabla muy sencilla y corta, donde solo se especifica la información de los dos tipos de planes: el ultimate y el surf. No tiene valores duplicados. Incluye los mensajes, mb y minutos de cada plan, así como el costo en caso de excederse en cualquiera de estos tres rubros. Solo identifiqué dos problemas:\n",
    "1. Se tienen los mb incluidos, mientras la columna del costo en caso de exceso lo tiene en gb. Por lo que sería conveniente agregar una columna con los datos convertidos. \n",
    "2. También, convertiré la columna usd_per_gb a flotante, por si requiere cálculos en el futuro. "
   ]
  },
  {
   "cell_type": "markdown",
   "metadata": {
    "id": "R3C05i1l0q03"
   },
   "source": [
    "## Corregir datos"
   ]
  },
  {
   "cell_type": "code",
   "execution_count": null,
   "metadata": {
    "id": "Y7SVmjGn0q03"
   },
   "outputs": [
    {
     "name": "stdout",
     "output_type": "stream",
     "text": [
      "<class 'pandas.core.frame.DataFrame'>\n",
      "RangeIndex: 2 entries, 0 to 1\n",
      "Data columns (total 9 columns):\n",
      " #   Column                 Non-Null Count  Dtype  \n",
      "---  ------                 --------------  -----  \n",
      " 0   messages_included      2 non-null      int64  \n",
      " 1   mb_per_month_included  2 non-null      int64  \n",
      " 2   minutes_included       2 non-null      int64  \n",
      " 3   usd_monthly_pay        2 non-null      int64  \n",
      " 4   usd_per_gb             2 non-null      float64\n",
      " 5   usd_per_message        2 non-null      float64\n",
      " 6   usd_per_minute         2 non-null      float64\n",
      " 7   plan_name              2 non-null      object \n",
      " 8   gb_per_month_included  2 non-null      float64\n",
      "dtypes: float64(4), int64(4), object(1)\n",
      "memory usage: 272.0+ bytes\n"
     ]
    }
   ],
   "source": [
    "# Convertir columnas a su tipo adecuado\n",
    "plans['usd_per_gb'] = plans['usd_per_gb'].astype(float)\n",
    "plans.info() "
   ]
  },
  {
   "cell_type": "markdown",
   "metadata": {
    "id": "LJir7bml0q03"
   },
   "source": [
    "## Enriquecer los datos"
   ]
  },
  {
   "cell_type": "code",
   "execution_count": null,
   "metadata": {
    "id": "gfcIEuXV0q04"
   },
   "outputs": [
    {
     "name": "stdout",
     "output_type": "stream",
     "text": [
      "<class 'pandas.core.frame.DataFrame'>\n",
      "RangeIndex: 2 entries, 0 to 1\n",
      "Data columns (total 9 columns):\n",
      " #   Column                 Non-Null Count  Dtype  \n",
      "---  ------                 --------------  -----  \n",
      " 0   messages_included      2 non-null      int64  \n",
      " 1   mb_per_month_included  2 non-null      int64  \n",
      " 2   minutes_included       2 non-null      int64  \n",
      " 3   usd_monthly_pay        2 non-null      int64  \n",
      " 4   usd_per_gb             2 non-null      float64\n",
      " 5   usd_per_message        2 non-null      float64\n",
      " 6   usd_per_minute         2 non-null      float64\n",
      " 7   plan_name              2 non-null      object \n",
      " 8   gb_per_month_included  2 non-null      int64  \n",
      "dtypes: float64(3), int64(5), object(1)\n",
      "memory usage: 272.0+ bytes\n"
     ]
    }
   ],
   "source": [
    "# Crear columna gb\n",
    "plans['gb_per_month_included'] = (plans['mb_per_month_included'] / 1024).apply(np.ceil).astype(int)\n",
    "plans.info()"
   ]
  },
  {
   "cell_type": "markdown",
   "metadata": {
    "id": "1n2X6WXf0q04"
   },
   "source": [
    "## Usuarios/as"
   ]
  },
  {
   "cell_type": "code",
   "execution_count": 9,
   "metadata": {
    "id": "2NgjWFqx0q05"
   },
   "outputs": [
    {
     "name": "stdout",
     "output_type": "stream",
     "text": [
      "<class 'pandas.core.frame.DataFrame'>\n",
      "RangeIndex: 500 entries, 0 to 499\n",
      "Data columns (total 8 columns):\n",
      " #   Column      Non-Null Count  Dtype \n",
      "---  ------      --------------  ----- \n",
      " 0   user_id     500 non-null    int64 \n",
      " 1   first_name  500 non-null    object\n",
      " 2   last_name   500 non-null    object\n",
      " 3   age         500 non-null    int64 \n",
      " 4   city        500 non-null    object\n",
      " 5   reg_date    500 non-null    object\n",
      " 6   plan        500 non-null    object\n",
      " 7   churn_date  34 non-null     object\n",
      "dtypes: int64(2), object(6)\n",
      "memory usage: 31.4+ KB\n"
     ]
    }
   ],
   "source": [
    "users.info()"
   ]
  },
  {
   "cell_type": "code",
   "execution_count": 10,
   "metadata": {},
   "outputs": [
    {
     "data": {
      "text/html": [
       "<div>\n",
       "<style scoped>\n",
       "    .dataframe tbody tr th:only-of-type {\n",
       "        vertical-align: middle;\n",
       "    }\n",
       "\n",
       "    .dataframe tbody tr th {\n",
       "        vertical-align: top;\n",
       "    }\n",
       "\n",
       "    .dataframe thead th {\n",
       "        text-align: right;\n",
       "    }\n",
       "</style>\n",
       "<table border=\"1\" class=\"dataframe\">\n",
       "  <thead>\n",
       "    <tr style=\"text-align: right;\">\n",
       "      <th></th>\n",
       "      <th>user_id</th>\n",
       "      <th>first_name</th>\n",
       "      <th>last_name</th>\n",
       "      <th>age</th>\n",
       "      <th>city</th>\n",
       "      <th>reg_date</th>\n",
       "      <th>plan</th>\n",
       "      <th>churn_date</th>\n",
       "    </tr>\n",
       "  </thead>\n",
       "  <tbody>\n",
       "    <tr>\n",
       "      <th>0</th>\n",
       "      <td>1000</td>\n",
       "      <td>Anamaria</td>\n",
       "      <td>Bauer</td>\n",
       "      <td>45</td>\n",
       "      <td>Atlanta-Sandy Springs-Roswell, GA MSA</td>\n",
       "      <td>2018-12-24</td>\n",
       "      <td>ultimate</td>\n",
       "      <td>NaN</td>\n",
       "    </tr>\n",
       "    <tr>\n",
       "      <th>1</th>\n",
       "      <td>1001</td>\n",
       "      <td>Mickey</td>\n",
       "      <td>Wilkerson</td>\n",
       "      <td>28</td>\n",
       "      <td>Seattle-Tacoma-Bellevue, WA MSA</td>\n",
       "      <td>2018-08-13</td>\n",
       "      <td>surf</td>\n",
       "      <td>NaN</td>\n",
       "    </tr>\n",
       "    <tr>\n",
       "      <th>2</th>\n",
       "      <td>1002</td>\n",
       "      <td>Carlee</td>\n",
       "      <td>Hoffman</td>\n",
       "      <td>36</td>\n",
       "      <td>Las Vegas-Henderson-Paradise, NV MSA</td>\n",
       "      <td>2018-10-21</td>\n",
       "      <td>surf</td>\n",
       "      <td>NaN</td>\n",
       "    </tr>\n",
       "    <tr>\n",
       "      <th>3</th>\n",
       "      <td>1003</td>\n",
       "      <td>Reynaldo</td>\n",
       "      <td>Jenkins</td>\n",
       "      <td>52</td>\n",
       "      <td>Tulsa, OK MSA</td>\n",
       "      <td>2018-01-28</td>\n",
       "      <td>surf</td>\n",
       "      <td>NaN</td>\n",
       "    </tr>\n",
       "    <tr>\n",
       "      <th>4</th>\n",
       "      <td>1004</td>\n",
       "      <td>Leonila</td>\n",
       "      <td>Thompson</td>\n",
       "      <td>40</td>\n",
       "      <td>Seattle-Tacoma-Bellevue, WA MSA</td>\n",
       "      <td>2018-05-23</td>\n",
       "      <td>surf</td>\n",
       "      <td>NaN</td>\n",
       "    </tr>\n",
       "  </tbody>\n",
       "</table>\n",
       "</div>"
      ],
      "text/plain": [
       "   user_id first_name  last_name  age                                   city  \\\n",
       "0     1000   Anamaria      Bauer   45  Atlanta-Sandy Springs-Roswell, GA MSA   \n",
       "1     1001     Mickey  Wilkerson   28        Seattle-Tacoma-Bellevue, WA MSA   \n",
       "2     1002     Carlee    Hoffman   36   Las Vegas-Henderson-Paradise, NV MSA   \n",
       "3     1003   Reynaldo    Jenkins   52                          Tulsa, OK MSA   \n",
       "4     1004    Leonila   Thompson   40        Seattle-Tacoma-Bellevue, WA MSA   \n",
       "\n",
       "     reg_date      plan churn_date  \n",
       "0  2018-12-24  ultimate        NaN  \n",
       "1  2018-08-13      surf        NaN  \n",
       "2  2018-10-21      surf        NaN  \n",
       "3  2018-01-28      surf        NaN  \n",
       "4  2018-05-23      surf        NaN  "
      ]
     },
     "execution_count": 10,
     "metadata": {},
     "output_type": "execute_result"
    }
   ],
   "source": [
    "users.head()"
   ]
  },
  {
   "cell_type": "code",
   "execution_count": 11,
   "metadata": {
    "id": "1IN1L9uh0q05"
   },
   "outputs": [
    {
     "data": {
      "text/html": [
       "<div>\n",
       "<style scoped>\n",
       "    .dataframe tbody tr th:only-of-type {\n",
       "        vertical-align: middle;\n",
       "    }\n",
       "\n",
       "    .dataframe tbody tr th {\n",
       "        vertical-align: top;\n",
       "    }\n",
       "\n",
       "    .dataframe thead th {\n",
       "        text-align: right;\n",
       "    }\n",
       "</style>\n",
       "<table border=\"1\" class=\"dataframe\">\n",
       "  <thead>\n",
       "    <tr style=\"text-align: right;\">\n",
       "      <th></th>\n",
       "      <th>user_id</th>\n",
       "      <th>first_name</th>\n",
       "      <th>last_name</th>\n",
       "      <th>age</th>\n",
       "      <th>city</th>\n",
       "      <th>reg_date</th>\n",
       "      <th>plan</th>\n",
       "      <th>churn_date</th>\n",
       "    </tr>\n",
       "  </thead>\n",
       "  <tbody>\n",
       "    <tr>\n",
       "      <th>51</th>\n",
       "      <td>1051</td>\n",
       "      <td>Rosario</td>\n",
       "      <td>Gibbs</td>\n",
       "      <td>55</td>\n",
       "      <td>San Diego-Chula Vista-Carlsbad, CA MSA</td>\n",
       "      <td>2018-12-11</td>\n",
       "      <td>surf</td>\n",
       "      <td>NaN</td>\n",
       "    </tr>\n",
       "    <tr>\n",
       "      <th>298</th>\n",
       "      <td>1298</td>\n",
       "      <td>Loyce</td>\n",
       "      <td>Cooley</td>\n",
       "      <td>53</td>\n",
       "      <td>Nashville-Davidson–Murfreesboro–Franklin, TN MSA</td>\n",
       "      <td>2018-09-21</td>\n",
       "      <td>surf</td>\n",
       "      <td>2018-12-19</td>\n",
       "    </tr>\n",
       "    <tr>\n",
       "      <th>340</th>\n",
       "      <td>1340</td>\n",
       "      <td>Vanna</td>\n",
       "      <td>Stanton</td>\n",
       "      <td>65</td>\n",
       "      <td>Dallas-Fort Worth-Arlington, TX MSA</td>\n",
       "      <td>2018-07-05</td>\n",
       "      <td>surf</td>\n",
       "      <td>NaN</td>\n",
       "    </tr>\n",
       "    <tr>\n",
       "      <th>236</th>\n",
       "      <td>1236</td>\n",
       "      <td>Odell</td>\n",
       "      <td>Juarez</td>\n",
       "      <td>74</td>\n",
       "      <td>Minneapolis-St. Paul-Bloomington, MN-WI MSA</td>\n",
       "      <td>2018-04-04</td>\n",
       "      <td>ultimate</td>\n",
       "      <td>NaN</td>\n",
       "    </tr>\n",
       "    <tr>\n",
       "      <th>384</th>\n",
       "      <td>1384</td>\n",
       "      <td>Dominique</td>\n",
       "      <td>Good</td>\n",
       "      <td>36</td>\n",
       "      <td>Philadelphia-Camden-Wilmington, PA-NJ-DE-MD MSA</td>\n",
       "      <td>2018-06-09</td>\n",
       "      <td>ultimate</td>\n",
       "      <td>NaN</td>\n",
       "    </tr>\n",
       "    <tr>\n",
       "      <th>417</th>\n",
       "      <td>1417</td>\n",
       "      <td>Jorge</td>\n",
       "      <td>Madden</td>\n",
       "      <td>51</td>\n",
       "      <td>Minneapolis-St. Paul-Bloomington, MN-WI MSA</td>\n",
       "      <td>2018-06-22</td>\n",
       "      <td>ultimate</td>\n",
       "      <td>NaN</td>\n",
       "    </tr>\n",
       "    <tr>\n",
       "      <th>489</th>\n",
       "      <td>1489</td>\n",
       "      <td>Londa</td>\n",
       "      <td>Jenkins</td>\n",
       "      <td>72</td>\n",
       "      <td>Detroit-Warren-Dearborn, MI MSA</td>\n",
       "      <td>2018-05-24</td>\n",
       "      <td>surf</td>\n",
       "      <td>NaN</td>\n",
       "    </tr>\n",
       "    <tr>\n",
       "      <th>327</th>\n",
       "      <td>1327</td>\n",
       "      <td>Natosha</td>\n",
       "      <td>Peck</td>\n",
       "      <td>20</td>\n",
       "      <td>New York-Newark-Jersey City, NY-NJ-PA MSA</td>\n",
       "      <td>2018-02-17</td>\n",
       "      <td>surf</td>\n",
       "      <td>NaN</td>\n",
       "    </tr>\n",
       "    <tr>\n",
       "      <th>129</th>\n",
       "      <td>1129</td>\n",
       "      <td>Marin</td>\n",
       "      <td>Bolton</td>\n",
       "      <td>70</td>\n",
       "      <td>Baton Rouge, LA MSA</td>\n",
       "      <td>2018-11-10</td>\n",
       "      <td>surf</td>\n",
       "      <td>2018-12-27</td>\n",
       "    </tr>\n",
       "    <tr>\n",
       "      <th>199</th>\n",
       "      <td>1199</td>\n",
       "      <td>Antonetta</td>\n",
       "      <td>Finley</td>\n",
       "      <td>39</td>\n",
       "      <td>San Antonio-New Braunfels, TX MSA</td>\n",
       "      <td>2018-08-01</td>\n",
       "      <td>ultimate</td>\n",
       "      <td>NaN</td>\n",
       "    </tr>\n",
       "  </tbody>\n",
       "</table>\n",
       "</div>"
      ],
      "text/plain": [
       "     user_id first_name last_name  age  \\\n",
       "51      1051    Rosario     Gibbs   55   \n",
       "298     1298      Loyce    Cooley   53   \n",
       "340     1340      Vanna   Stanton   65   \n",
       "236     1236      Odell    Juarez   74   \n",
       "384     1384  Dominique      Good   36   \n",
       "417     1417      Jorge    Madden   51   \n",
       "489     1489      Londa   Jenkins   72   \n",
       "327     1327    Natosha      Peck   20   \n",
       "129     1129      Marin    Bolton   70   \n",
       "199     1199  Antonetta    Finley   39   \n",
       "\n",
       "                                                 city    reg_date      plan  \\\n",
       "51             San Diego-Chula Vista-Carlsbad, CA MSA  2018-12-11      surf   \n",
       "298  Nashville-Davidson–Murfreesboro–Franklin, TN MSA  2018-09-21      surf   \n",
       "340               Dallas-Fort Worth-Arlington, TX MSA  2018-07-05      surf   \n",
       "236       Minneapolis-St. Paul-Bloomington, MN-WI MSA  2018-04-04  ultimate   \n",
       "384   Philadelphia-Camden-Wilmington, PA-NJ-DE-MD MSA  2018-06-09  ultimate   \n",
       "417       Minneapolis-St. Paul-Bloomington, MN-WI MSA  2018-06-22  ultimate   \n",
       "489                   Detroit-Warren-Dearborn, MI MSA  2018-05-24      surf   \n",
       "327         New York-Newark-Jersey City, NY-NJ-PA MSA  2018-02-17      surf   \n",
       "129                               Baton Rouge, LA MSA  2018-11-10      surf   \n",
       "199                 San Antonio-New Braunfels, TX MSA  2018-08-01  ultimate   \n",
       "\n",
       "     churn_date  \n",
       "51          NaN  \n",
       "298  2018-12-19  \n",
       "340         NaN  \n",
       "236         NaN  \n",
       "384         NaN  \n",
       "417         NaN  \n",
       "489         NaN  \n",
       "327         NaN  \n",
       "129  2018-12-27  \n",
       "199         NaN  "
      ]
     },
     "execution_count": 11,
     "metadata": {},
     "output_type": "execute_result"
    }
   ],
   "source": [
    "# Imprime una muestra de datos para usuarios\n",
    "users.sample(10)"
   ]
  },
  {
   "cell_type": "code",
   "execution_count": null,
   "metadata": {},
   "outputs": [
    {
     "data": {
      "text/plain": [
       "0"
      ]
     },
     "execution_count": 12,
     "metadata": {},
     "output_type": "execute_result"
    }
   ],
   "source": [
    "# Checar duplicados\n",
    "users.duplicated().sum()"
   ]
  },
  {
   "cell_type": "markdown",
   "metadata": {
    "id": "dCZoUq4f0q06"
   },
   "source": [
    "No hay valores duplicados. Las columnas reg_date y churn_date deben estar en formato de fecha. También, la columna churn_date presenta 466 valores nulos, los cuales se tienen que manejar."
   ]
  },
  {
   "cell_type": "markdown",
   "metadata": {
    "id": "BX5FQh_I0q06"
   },
   "source": [
    "### Corregir los datos"
   ]
  },
  {
   "cell_type": "code",
   "execution_count": null,
   "metadata": {
    "id": "yUqX-K0C0q07"
   },
   "outputs": [
    {
     "name": "stdout",
     "output_type": "stream",
     "text": [
      "<class 'pandas.core.frame.DataFrame'>\n",
      "RangeIndex: 500 entries, 0 to 499\n",
      "Data columns (total 8 columns):\n",
      " #   Column      Non-Null Count  Dtype         \n",
      "---  ------      --------------  -----         \n",
      " 0   user_id     500 non-null    int64         \n",
      " 1   first_name  500 non-null    object        \n",
      " 2   last_name   500 non-null    object        \n",
      " 3   age         500 non-null    int64         \n",
      " 4   city        500 non-null    object        \n",
      " 5   reg_date    500 non-null    datetime64[ns]\n",
      " 6   plan        500 non-null    object        \n",
      " 7   churn_date  34 non-null     datetime64[ns]\n",
      "dtypes: datetime64[ns](2), int64(2), object(4)\n",
      "memory usage: 31.4+ KB\n"
     ]
    }
   ],
   "source": [
    "# Convertir columnas a formato fecha\n",
    "users['reg_date'] = pd.to_datetime(users['reg_date'])\n",
    "users['churn_date'] = pd.to_datetime(users['churn_date'])\n",
    "users.info()"
   ]
  },
  {
   "cell_type": "code",
   "execution_count": 14,
   "metadata": {},
   "outputs": [],
   "source": [
    "# Valores NaN: Por ahora se dejan así, al ser de formato dt no puedo puedo poner algo como 'usuario activo'\n",
    "# Tendría que poner una fecha, una fecha actual se descarta porque daría por hecho que los usuarios sigan activos\n",
    "#También se descarta poner el último día del año 2018 porque hay usuarios que tienen ese como su último día activo"
   ]
  },
  {
   "cell_type": "code",
   "execution_count": 15,
   "metadata": {},
   "outputs": [
    {
     "data": {
      "text/plain": [
       "Timestamp('2018-12-31 00:00:00')"
      ]
     },
     "execution_count": 15,
     "metadata": {},
     "output_type": "execute_result"
    }
   ],
   "source": [
    "users['churn_date'].max()"
   ]
  },
  {
   "cell_type": "markdown",
   "metadata": {
    "id": "ycwuARJp0q07"
   },
   "source": [
    "### Enriquecer los datos"
   ]
  },
  {
   "cell_type": "code",
   "execution_count": null,
   "metadata": {
    "id": "iq0AaBS90q08"
   },
   "outputs": [],
   "source": []
  },
  {
   "cell_type": "markdown",
   "metadata": {
    "id": "o7MeKCid0q08"
   },
   "source": [
    "## Llamadas"
   ]
  },
  {
   "cell_type": "code",
   "execution_count": null,
   "metadata": {
    "id": "6dDlnoDm0q08"
   },
   "outputs": [
    {
     "name": "stdout",
     "output_type": "stream",
     "text": [
      "<class 'pandas.core.frame.DataFrame'>\n",
      "RangeIndex: 137735 entries, 0 to 137734\n",
      "Data columns (total 4 columns):\n",
      " #   Column     Non-Null Count   Dtype  \n",
      "---  ------     --------------   -----  \n",
      " 0   id         137735 non-null  object \n",
      " 1   user_id    137735 non-null  int64  \n",
      " 2   call_date  137735 non-null  object \n",
      " 3   duration   137735 non-null  float64\n",
      "dtypes: float64(1), int64(1), object(2)\n",
      "memory usage: 4.2+ MB\n"
     ]
    }
   ],
   "source": [
    "# Info del df\n",
    "calls.info()"
   ]
  },
  {
   "cell_type": "code",
   "execution_count": 17,
   "metadata": {},
   "outputs": [
    {
     "data": {
      "text/html": [
       "<div>\n",
       "<style scoped>\n",
       "    .dataframe tbody tr th:only-of-type {\n",
       "        vertical-align: middle;\n",
       "    }\n",
       "\n",
       "    .dataframe tbody tr th {\n",
       "        vertical-align: top;\n",
       "    }\n",
       "\n",
       "    .dataframe thead th {\n",
       "        text-align: right;\n",
       "    }\n",
       "</style>\n",
       "<table border=\"1\" class=\"dataframe\">\n",
       "  <thead>\n",
       "    <tr style=\"text-align: right;\">\n",
       "      <th></th>\n",
       "      <th>id</th>\n",
       "      <th>user_id</th>\n",
       "      <th>call_date</th>\n",
       "      <th>duration</th>\n",
       "    </tr>\n",
       "  </thead>\n",
       "  <tbody>\n",
       "    <tr>\n",
       "      <th>0</th>\n",
       "      <td>1000_93</td>\n",
       "      <td>1000</td>\n",
       "      <td>2018-12-27</td>\n",
       "      <td>8.52</td>\n",
       "    </tr>\n",
       "    <tr>\n",
       "      <th>1</th>\n",
       "      <td>1000_145</td>\n",
       "      <td>1000</td>\n",
       "      <td>2018-12-27</td>\n",
       "      <td>13.66</td>\n",
       "    </tr>\n",
       "    <tr>\n",
       "      <th>2</th>\n",
       "      <td>1000_247</td>\n",
       "      <td>1000</td>\n",
       "      <td>2018-12-27</td>\n",
       "      <td>14.48</td>\n",
       "    </tr>\n",
       "    <tr>\n",
       "      <th>3</th>\n",
       "      <td>1000_309</td>\n",
       "      <td>1000</td>\n",
       "      <td>2018-12-28</td>\n",
       "      <td>5.76</td>\n",
       "    </tr>\n",
       "    <tr>\n",
       "      <th>4</th>\n",
       "      <td>1000_380</td>\n",
       "      <td>1000</td>\n",
       "      <td>2018-12-30</td>\n",
       "      <td>4.22</td>\n",
       "    </tr>\n",
       "  </tbody>\n",
       "</table>\n",
       "</div>"
      ],
      "text/plain": [
       "         id  user_id   call_date  duration\n",
       "0   1000_93     1000  2018-12-27      8.52\n",
       "1  1000_145     1000  2018-12-27     13.66\n",
       "2  1000_247     1000  2018-12-27     14.48\n",
       "3  1000_309     1000  2018-12-28      5.76\n",
       "4  1000_380     1000  2018-12-30      4.22"
      ]
     },
     "execution_count": 17,
     "metadata": {},
     "output_type": "execute_result"
    }
   ],
   "source": [
    "calls.head()"
   ]
  },
  {
   "cell_type": "code",
   "execution_count": 18,
   "metadata": {
    "id": "kuh1vlNB0q09"
   },
   "outputs": [
    {
     "data": {
      "text/html": [
       "<div>\n",
       "<style scoped>\n",
       "    .dataframe tbody tr th:only-of-type {\n",
       "        vertical-align: middle;\n",
       "    }\n",
       "\n",
       "    .dataframe tbody tr th {\n",
       "        vertical-align: top;\n",
       "    }\n",
       "\n",
       "    .dataframe thead th {\n",
       "        text-align: right;\n",
       "    }\n",
       "</style>\n",
       "<table border=\"1\" class=\"dataframe\">\n",
       "  <thead>\n",
       "    <tr style=\"text-align: right;\">\n",
       "      <th></th>\n",
       "      <th>id</th>\n",
       "      <th>user_id</th>\n",
       "      <th>call_date</th>\n",
       "      <th>duration</th>\n",
       "    </tr>\n",
       "  </thead>\n",
       "  <tbody>\n",
       "    <tr>\n",
       "      <th>63619</th>\n",
       "      <td>1231_333</td>\n",
       "      <td>1231</td>\n",
       "      <td>2018-07-02</td>\n",
       "      <td>24.76</td>\n",
       "    </tr>\n",
       "    <tr>\n",
       "      <th>77792</th>\n",
       "      <td>1278_72</td>\n",
       "      <td>1278</td>\n",
       "      <td>2018-12-30</td>\n",
       "      <td>1.54</td>\n",
       "    </tr>\n",
       "    <tr>\n",
       "      <th>68334</th>\n",
       "      <td>1246_353</td>\n",
       "      <td>1246</td>\n",
       "      <td>2018-06-27</td>\n",
       "      <td>6.77</td>\n",
       "    </tr>\n",
       "    <tr>\n",
       "      <th>7186</th>\n",
       "      <td>1033_202</td>\n",
       "      <td>1033</td>\n",
       "      <td>2018-10-28</td>\n",
       "      <td>0.00</td>\n",
       "    </tr>\n",
       "    <tr>\n",
       "      <th>58307</th>\n",
       "      <td>1210_476</td>\n",
       "      <td>1210</td>\n",
       "      <td>2018-06-28</td>\n",
       "      <td>7.25</td>\n",
       "    </tr>\n",
       "    <tr>\n",
       "      <th>1166</th>\n",
       "      <td>1007_187</td>\n",
       "      <td>1007</td>\n",
       "      <td>2018-09-15</td>\n",
       "      <td>8.98</td>\n",
       "    </tr>\n",
       "    <tr>\n",
       "      <th>2572</th>\n",
       "      <td>1010_153</td>\n",
       "      <td>1010</td>\n",
       "      <td>2018-07-13</td>\n",
       "      <td>10.48</td>\n",
       "    </tr>\n",
       "    <tr>\n",
       "      <th>37393</th>\n",
       "      <td>1141_351</td>\n",
       "      <td>1141</td>\n",
       "      <td>2018-07-08</td>\n",
       "      <td>0.00</td>\n",
       "    </tr>\n",
       "    <tr>\n",
       "      <th>36845</th>\n",
       "      <td>1140_129</td>\n",
       "      <td>1140</td>\n",
       "      <td>2018-08-25</td>\n",
       "      <td>0.00</td>\n",
       "    </tr>\n",
       "    <tr>\n",
       "      <th>64615</th>\n",
       "      <td>1234_20</td>\n",
       "      <td>1234</td>\n",
       "      <td>2018-12-26</td>\n",
       "      <td>5.98</td>\n",
       "    </tr>\n",
       "  </tbody>\n",
       "</table>\n",
       "</div>"
      ],
      "text/plain": [
       "             id  user_id   call_date  duration\n",
       "63619  1231_333     1231  2018-07-02     24.76\n",
       "77792   1278_72     1278  2018-12-30      1.54\n",
       "68334  1246_353     1246  2018-06-27      6.77\n",
       "7186   1033_202     1033  2018-10-28      0.00\n",
       "58307  1210_476     1210  2018-06-28      7.25\n",
       "1166   1007_187     1007  2018-09-15      8.98\n",
       "2572   1010_153     1010  2018-07-13     10.48\n",
       "37393  1141_351     1141  2018-07-08      0.00\n",
       "36845  1140_129     1140  2018-08-25      0.00\n",
       "64615   1234_20     1234  2018-12-26      5.98"
      ]
     },
     "execution_count": 18,
     "metadata": {},
     "output_type": "execute_result"
    }
   ],
   "source": [
    "calls.sample(10)"
   ]
  },
  {
   "cell_type": "code",
   "execution_count": null,
   "metadata": {},
   "outputs": [
    {
     "data": {
      "text/plain": [
       "0"
      ]
     },
     "execution_count": 19,
     "metadata": {},
     "output_type": "execute_result"
    }
   ],
   "source": [
    "# Checar duplicados\n",
    "calls.duplicated().sum()"
   ]
  },
  {
   "cell_type": "markdown",
   "metadata": {
    "id": "DOAxYJSx0q09"
   },
   "source": [
    "Todas las columnas tienen sus títulos bien escritos y no hay valores ausentes ni duplicados. La columna call_date tiene que convertirse a formato fecha. Es posible que sea conveniente redondear la columna duration hacia arriba para reflejar el cobro real. "
   ]
  },
  {
   "cell_type": "markdown",
   "metadata": {
    "id": "S7hzxmbX0q0-"
   },
   "source": [
    "### Corregir los datos"
   ]
  },
  {
   "cell_type": "code",
   "execution_count": 20,
   "metadata": {
    "id": "S2r8xA4f0q0-"
   },
   "outputs": [
    {
     "name": "stdout",
     "output_type": "stream",
     "text": [
      "<class 'pandas.core.frame.DataFrame'>\n",
      "RangeIndex: 137735 entries, 0 to 137734\n",
      "Data columns (total 4 columns):\n",
      " #   Column     Non-Null Count   Dtype         \n",
      "---  ------     --------------   -----         \n",
      " 0   id         137735 non-null  object        \n",
      " 1   user_id    137735 non-null  int64         \n",
      " 2   call_date  137735 non-null  datetime64[ns]\n",
      " 3   duration   137735 non-null  float64       \n",
      "dtypes: datetime64[ns](1), float64(1), int64(1), object(1)\n",
      "memory usage: 4.2+ MB\n"
     ]
    }
   ],
   "source": [
    "calls['call_date'] = pd.to_datetime(calls['call_date'])\n",
    "calls.info()"
   ]
  },
  {
   "cell_type": "markdown",
   "metadata": {
    "id": "KrMgTrlG0q0_"
   },
   "source": [
    "### Enriquecer los datos"
   ]
  },
  {
   "cell_type": "code",
   "execution_count": null,
   "metadata": {
    "id": "iZ1avpA_0q0_"
   },
   "outputs": [
    {
     "data": {
      "text/html": [
       "<div>\n",
       "<style scoped>\n",
       "    .dataframe tbody tr th:only-of-type {\n",
       "        vertical-align: middle;\n",
       "    }\n",
       "\n",
       "    .dataframe tbody tr th {\n",
       "        vertical-align: top;\n",
       "    }\n",
       "\n",
       "    .dataframe thead th {\n",
       "        text-align: right;\n",
       "    }\n",
       "</style>\n",
       "<table border=\"1\" class=\"dataframe\">\n",
       "  <thead>\n",
       "    <tr style=\"text-align: right;\">\n",
       "      <th></th>\n",
       "      <th>id</th>\n",
       "      <th>user_id</th>\n",
       "      <th>call_date</th>\n",
       "      <th>duration</th>\n",
       "      <th>duration_rounded_up</th>\n",
       "    </tr>\n",
       "  </thead>\n",
       "  <tbody>\n",
       "    <tr>\n",
       "      <th>13181</th>\n",
       "      <td>1057_60</td>\n",
       "      <td>1057</td>\n",
       "      <td>2018-12-02</td>\n",
       "      <td>9.12</td>\n",
       "      <td>10.0</td>\n",
       "    </tr>\n",
       "    <tr>\n",
       "      <th>124776</th>\n",
       "      <td>1440_292</td>\n",
       "      <td>1440</td>\n",
       "      <td>2018-10-28</td>\n",
       "      <td>2.76</td>\n",
       "      <td>3.0</td>\n",
       "    </tr>\n",
       "    <tr>\n",
       "      <th>102060</th>\n",
       "      <td>1362_824</td>\n",
       "      <td>1362</td>\n",
       "      <td>2018-07-27</td>\n",
       "      <td>12.29</td>\n",
       "      <td>13.0</td>\n",
       "    </tr>\n",
       "    <tr>\n",
       "      <th>100061</th>\n",
       "      <td>1358_509</td>\n",
       "      <td>1358</td>\n",
       "      <td>2018-09-09</td>\n",
       "      <td>14.33</td>\n",
       "      <td>15.0</td>\n",
       "    </tr>\n",
       "    <tr>\n",
       "      <th>91316</th>\n",
       "      <td>1329_99</td>\n",
       "      <td>1329</td>\n",
       "      <td>2018-09-14</td>\n",
       "      <td>0.00</td>\n",
       "      <td>0.0</td>\n",
       "    </tr>\n",
       "  </tbody>\n",
       "</table>\n",
       "</div>"
      ],
      "text/plain": [
       "              id  user_id  call_date  duration  duration_rounded_up\n",
       "13181    1057_60     1057 2018-12-02      9.12                 10.0\n",
       "124776  1440_292     1440 2018-10-28      2.76                  3.0\n",
       "102060  1362_824     1362 2018-07-27     12.29                 13.0\n",
       "100061  1358_509     1358 2018-09-09     14.33                 15.0\n",
       "91316    1329_99     1329 2018-09-14      0.00                  0.0"
      ]
     },
     "execution_count": 21,
     "metadata": {},
     "output_type": "execute_result"
    }
   ],
   "source": [
    "# Redondear la duración de las llamadas\n",
    "calls['duration_rounded_up'] = np.ceil(calls['duration'])\n",
    "calls.sample(5)"
   ]
  },
  {
   "cell_type": "markdown",
   "metadata": {
    "id": "mOUZSi180q0_"
   },
   "source": [
    "## Mensajes"
   ]
  },
  {
   "cell_type": "code",
   "execution_count": null,
   "metadata": {
    "id": "R-bYJpdV0q1A"
   },
   "outputs": [
    {
     "name": "stdout",
     "output_type": "stream",
     "text": [
      "<class 'pandas.core.frame.DataFrame'>\n",
      "RangeIndex: 76051 entries, 0 to 76050\n",
      "Data columns (total 3 columns):\n",
      " #   Column        Non-Null Count  Dtype \n",
      "---  ------        --------------  ----- \n",
      " 0   id            76051 non-null  object\n",
      " 1   user_id       76051 non-null  int64 \n",
      " 2   message_date  76051 non-null  object\n",
      "dtypes: int64(1), object(2)\n",
      "memory usage: 1.7+ MB\n"
     ]
    }
   ],
   "source": [
    "# Info del df\n",
    "messages.info()"
   ]
  },
  {
   "cell_type": "code",
   "execution_count": 23,
   "metadata": {},
   "outputs": [
    {
     "data": {
      "text/html": [
       "<div>\n",
       "<style scoped>\n",
       "    .dataframe tbody tr th:only-of-type {\n",
       "        vertical-align: middle;\n",
       "    }\n",
       "\n",
       "    .dataframe tbody tr th {\n",
       "        vertical-align: top;\n",
       "    }\n",
       "\n",
       "    .dataframe thead th {\n",
       "        text-align: right;\n",
       "    }\n",
       "</style>\n",
       "<table border=\"1\" class=\"dataframe\">\n",
       "  <thead>\n",
       "    <tr style=\"text-align: right;\">\n",
       "      <th></th>\n",
       "      <th>id</th>\n",
       "      <th>user_id</th>\n",
       "      <th>message_date</th>\n",
       "    </tr>\n",
       "  </thead>\n",
       "  <tbody>\n",
       "    <tr>\n",
       "      <th>0</th>\n",
       "      <td>1000_125</td>\n",
       "      <td>1000</td>\n",
       "      <td>2018-12-27</td>\n",
       "    </tr>\n",
       "    <tr>\n",
       "      <th>1</th>\n",
       "      <td>1000_160</td>\n",
       "      <td>1000</td>\n",
       "      <td>2018-12-31</td>\n",
       "    </tr>\n",
       "    <tr>\n",
       "      <th>2</th>\n",
       "      <td>1000_223</td>\n",
       "      <td>1000</td>\n",
       "      <td>2018-12-31</td>\n",
       "    </tr>\n",
       "    <tr>\n",
       "      <th>3</th>\n",
       "      <td>1000_251</td>\n",
       "      <td>1000</td>\n",
       "      <td>2018-12-27</td>\n",
       "    </tr>\n",
       "    <tr>\n",
       "      <th>4</th>\n",
       "      <td>1000_255</td>\n",
       "      <td>1000</td>\n",
       "      <td>2018-12-26</td>\n",
       "    </tr>\n",
       "  </tbody>\n",
       "</table>\n",
       "</div>"
      ],
      "text/plain": [
       "         id  user_id message_date\n",
       "0  1000_125     1000   2018-12-27\n",
       "1  1000_160     1000   2018-12-31\n",
       "2  1000_223     1000   2018-12-31\n",
       "3  1000_251     1000   2018-12-27\n",
       "4  1000_255     1000   2018-12-26"
      ]
     },
     "execution_count": 23,
     "metadata": {},
     "output_type": "execute_result"
    }
   ],
   "source": [
    "messages.head()"
   ]
  },
  {
   "cell_type": "code",
   "execution_count": 24,
   "metadata": {
    "id": "mCEl2iGE0q1A"
   },
   "outputs": [
    {
     "data": {
      "text/html": [
       "<div>\n",
       "<style scoped>\n",
       "    .dataframe tbody tr th:only-of-type {\n",
       "        vertical-align: middle;\n",
       "    }\n",
       "\n",
       "    .dataframe tbody tr th {\n",
       "        vertical-align: top;\n",
       "    }\n",
       "\n",
       "    .dataframe thead th {\n",
       "        text-align: right;\n",
       "    }\n",
       "</style>\n",
       "<table border=\"1\" class=\"dataframe\">\n",
       "  <thead>\n",
       "    <tr style=\"text-align: right;\">\n",
       "      <th></th>\n",
       "      <th>id</th>\n",
       "      <th>user_id</th>\n",
       "      <th>message_date</th>\n",
       "    </tr>\n",
       "  </thead>\n",
       "  <tbody>\n",
       "    <tr>\n",
       "      <th>44758</th>\n",
       "      <td>1301_21</td>\n",
       "      <td>1301</td>\n",
       "      <td>2018-12-31</td>\n",
       "    </tr>\n",
       "    <tr>\n",
       "      <th>46508</th>\n",
       "      <td>1316_407</td>\n",
       "      <td>1316</td>\n",
       "      <td>2018-07-05</td>\n",
       "    </tr>\n",
       "    <tr>\n",
       "      <th>38783</th>\n",
       "      <td>1254_412</td>\n",
       "      <td>1254</td>\n",
       "      <td>2018-11-12</td>\n",
       "    </tr>\n",
       "    <tr>\n",
       "      <th>40508</th>\n",
       "      <td>1261_150</td>\n",
       "      <td>1261</td>\n",
       "      <td>2018-05-25</td>\n",
       "    </tr>\n",
       "    <tr>\n",
       "      <th>28702</th>\n",
       "      <td>1174_492</td>\n",
       "      <td>1174</td>\n",
       "      <td>2018-06-26</td>\n",
       "    </tr>\n",
       "    <tr>\n",
       "      <th>22486</th>\n",
       "      <td>1133_690</td>\n",
       "      <td>1133</td>\n",
       "      <td>2018-08-27</td>\n",
       "    </tr>\n",
       "    <tr>\n",
       "      <th>73157</th>\n",
       "      <td>1470_785</td>\n",
       "      <td>1470</td>\n",
       "      <td>2018-06-05</td>\n",
       "    </tr>\n",
       "    <tr>\n",
       "      <th>58633</th>\n",
       "      <td>1373_51</td>\n",
       "      <td>1373</td>\n",
       "      <td>2018-10-24</td>\n",
       "    </tr>\n",
       "    <tr>\n",
       "      <th>22831</th>\n",
       "      <td>1137_80</td>\n",
       "      <td>1137</td>\n",
       "      <td>2018-10-17</td>\n",
       "    </tr>\n",
       "    <tr>\n",
       "      <th>59853</th>\n",
       "      <td>1380_344</td>\n",
       "      <td>1380</td>\n",
       "      <td>2018-11-28</td>\n",
       "    </tr>\n",
       "  </tbody>\n",
       "</table>\n",
       "</div>"
      ],
      "text/plain": [
       "             id  user_id message_date\n",
       "44758   1301_21     1301   2018-12-31\n",
       "46508  1316_407     1316   2018-07-05\n",
       "38783  1254_412     1254   2018-11-12\n",
       "40508  1261_150     1261   2018-05-25\n",
       "28702  1174_492     1174   2018-06-26\n",
       "22486  1133_690     1133   2018-08-27\n",
       "73157  1470_785     1470   2018-06-05\n",
       "58633   1373_51     1373   2018-10-24\n",
       "22831   1137_80     1137   2018-10-17\n",
       "59853  1380_344     1380   2018-11-28"
      ]
     },
     "execution_count": 24,
     "metadata": {},
     "output_type": "execute_result"
    }
   ],
   "source": [
    "messages.sample(10)"
   ]
  },
  {
   "cell_type": "code",
   "execution_count": null,
   "metadata": {},
   "outputs": [
    {
     "data": {
      "text/plain": [
       "0"
      ]
     },
     "execution_count": 25,
     "metadata": {},
     "output_type": "execute_result"
    }
   ],
   "source": [
    "# Checar duplicados\n",
    "messages.duplicated().sum()"
   ]
  },
  {
   "cell_type": "markdown",
   "metadata": {
    "id": "04xDj7KH0q1A"
   },
   "source": [
    "El dataframe no tiene valores ausentes ni duplicados. La columna message_date debe convertirse a formato fecha. "
   ]
  },
  {
   "cell_type": "markdown",
   "metadata": {
    "id": "Sprfak900q1B"
   },
   "source": [
    "### Corregir los datos"
   ]
  },
  {
   "cell_type": "code",
   "execution_count": null,
   "metadata": {
    "id": "vsllvkoa0q1B"
   },
   "outputs": [
    {
     "name": "stdout",
     "output_type": "stream",
     "text": [
      "<class 'pandas.core.frame.DataFrame'>\n",
      "RangeIndex: 76051 entries, 0 to 76050\n",
      "Data columns (total 3 columns):\n",
      " #   Column        Non-Null Count  Dtype         \n",
      "---  ------        --------------  -----         \n",
      " 0   id            76051 non-null  object        \n",
      " 1   user_id       76051 non-null  int64         \n",
      " 2   message_date  76051 non-null  datetime64[ns]\n",
      "dtypes: datetime64[ns](1), int64(1), object(1)\n",
      "memory usage: 1.7+ MB\n"
     ]
    }
   ],
   "source": [
    "# Colocar columna en su tipo adecuado\n",
    "messages['message_date'] = pd.to_datetime(messages['message_date'])\n",
    "messages.info()"
   ]
  },
  {
   "cell_type": "markdown",
   "metadata": {
    "id": "HvLid7iD0q1B"
   },
   "source": [
    "### Enriquecer los datos"
   ]
  },
  {
   "cell_type": "code",
   "execution_count": null,
   "metadata": {
    "id": "zYEXZac10q1C"
   },
   "outputs": [],
   "source": []
  },
  {
   "cell_type": "markdown",
   "metadata": {
    "id": "bStkaxn40q1C"
   },
   "source": [
    "## Internet"
   ]
  },
  {
   "cell_type": "code",
   "execution_count": null,
   "metadata": {
    "id": "e-Uz5qyn0q1C"
   },
   "outputs": [
    {
     "name": "stdout",
     "output_type": "stream",
     "text": [
      "<class 'pandas.core.frame.DataFrame'>\n",
      "RangeIndex: 104825 entries, 0 to 104824\n",
      "Data columns (total 4 columns):\n",
      " #   Column        Non-Null Count   Dtype  \n",
      "---  ------        --------------   -----  \n",
      " 0   id            104825 non-null  object \n",
      " 1   user_id       104825 non-null  int64  \n",
      " 2   session_date  104825 non-null  object \n",
      " 3   mb_used       104825 non-null  float64\n",
      "dtypes: float64(1), int64(1), object(2)\n",
      "memory usage: 3.2+ MB\n"
     ]
    }
   ],
   "source": [
    "# Checar info del df\n",
    "internet.info()"
   ]
  },
  {
   "cell_type": "code",
   "execution_count": 28,
   "metadata": {},
   "outputs": [
    {
     "data": {
      "text/html": [
       "<div>\n",
       "<style scoped>\n",
       "    .dataframe tbody tr th:only-of-type {\n",
       "        vertical-align: middle;\n",
       "    }\n",
       "\n",
       "    .dataframe tbody tr th {\n",
       "        vertical-align: top;\n",
       "    }\n",
       "\n",
       "    .dataframe thead th {\n",
       "        text-align: right;\n",
       "    }\n",
       "</style>\n",
       "<table border=\"1\" class=\"dataframe\">\n",
       "  <thead>\n",
       "    <tr style=\"text-align: right;\">\n",
       "      <th></th>\n",
       "      <th>id</th>\n",
       "      <th>user_id</th>\n",
       "      <th>session_date</th>\n",
       "      <th>mb_used</th>\n",
       "    </tr>\n",
       "  </thead>\n",
       "  <tbody>\n",
       "    <tr>\n",
       "      <th>0</th>\n",
       "      <td>1000_13</td>\n",
       "      <td>1000</td>\n",
       "      <td>2018-12-29</td>\n",
       "      <td>89.86</td>\n",
       "    </tr>\n",
       "    <tr>\n",
       "      <th>1</th>\n",
       "      <td>1000_204</td>\n",
       "      <td>1000</td>\n",
       "      <td>2018-12-31</td>\n",
       "      <td>0.00</td>\n",
       "    </tr>\n",
       "    <tr>\n",
       "      <th>2</th>\n",
       "      <td>1000_379</td>\n",
       "      <td>1000</td>\n",
       "      <td>2018-12-28</td>\n",
       "      <td>660.40</td>\n",
       "    </tr>\n",
       "    <tr>\n",
       "      <th>3</th>\n",
       "      <td>1000_413</td>\n",
       "      <td>1000</td>\n",
       "      <td>2018-12-26</td>\n",
       "      <td>270.99</td>\n",
       "    </tr>\n",
       "    <tr>\n",
       "      <th>4</th>\n",
       "      <td>1000_442</td>\n",
       "      <td>1000</td>\n",
       "      <td>2018-12-27</td>\n",
       "      <td>880.22</td>\n",
       "    </tr>\n",
       "  </tbody>\n",
       "</table>\n",
       "</div>"
      ],
      "text/plain": [
       "         id  user_id session_date  mb_used\n",
       "0   1000_13     1000   2018-12-29    89.86\n",
       "1  1000_204     1000   2018-12-31     0.00\n",
       "2  1000_379     1000   2018-12-28   660.40\n",
       "3  1000_413     1000   2018-12-26   270.99\n",
       "4  1000_442     1000   2018-12-27   880.22"
      ]
     },
     "execution_count": 28,
     "metadata": {},
     "output_type": "execute_result"
    }
   ],
   "source": [
    "internet.head()"
   ]
  },
  {
   "cell_type": "code",
   "execution_count": 29,
   "metadata": {
    "id": "9r3x_XLw0q1C"
   },
   "outputs": [
    {
     "data": {
      "text/html": [
       "<div>\n",
       "<style scoped>\n",
       "    .dataframe tbody tr th:only-of-type {\n",
       "        vertical-align: middle;\n",
       "    }\n",
       "\n",
       "    .dataframe tbody tr th {\n",
       "        vertical-align: top;\n",
       "    }\n",
       "\n",
       "    .dataframe thead th {\n",
       "        text-align: right;\n",
       "    }\n",
       "</style>\n",
       "<table border=\"1\" class=\"dataframe\">\n",
       "  <thead>\n",
       "    <tr style=\"text-align: right;\">\n",
       "      <th></th>\n",
       "      <th>id</th>\n",
       "      <th>user_id</th>\n",
       "      <th>session_date</th>\n",
       "      <th>mb_used</th>\n",
       "    </tr>\n",
       "  </thead>\n",
       "  <tbody>\n",
       "    <tr>\n",
       "      <th>53888</th>\n",
       "      <td>1244_6</td>\n",
       "      <td>1244</td>\n",
       "      <td>2018-12-12</td>\n",
       "      <td>483.12</td>\n",
       "    </tr>\n",
       "    <tr>\n",
       "      <th>95137</th>\n",
       "      <td>1444_88</td>\n",
       "      <td>1444</td>\n",
       "      <td>2018-09-15</td>\n",
       "      <td>196.31</td>\n",
       "    </tr>\n",
       "    <tr>\n",
       "      <th>44954</th>\n",
       "      <td>1199_227</td>\n",
       "      <td>1199</td>\n",
       "      <td>2018-12-12</td>\n",
       "      <td>127.20</td>\n",
       "    </tr>\n",
       "    <tr>\n",
       "      <th>101361</th>\n",
       "      <td>1483_164</td>\n",
       "      <td>1483</td>\n",
       "      <td>2018-05-15</td>\n",
       "      <td>178.07</td>\n",
       "    </tr>\n",
       "    <tr>\n",
       "      <th>44908</th>\n",
       "      <td>1199_158</td>\n",
       "      <td>1199</td>\n",
       "      <td>2018-11-13</td>\n",
       "      <td>207.86</td>\n",
       "    </tr>\n",
       "    <tr>\n",
       "      <th>18622</th>\n",
       "      <td>1083_8</td>\n",
       "      <td>1083</td>\n",
       "      <td>2018-11-06</td>\n",
       "      <td>58.55</td>\n",
       "    </tr>\n",
       "    <tr>\n",
       "      <th>79949</th>\n",
       "      <td>1374_25</td>\n",
       "      <td>1374</td>\n",
       "      <td>2018-06-21</td>\n",
       "      <td>660.80</td>\n",
       "    </tr>\n",
       "    <tr>\n",
       "      <th>95002</th>\n",
       "      <td>1443_72</td>\n",
       "      <td>1443</td>\n",
       "      <td>2018-12-22</td>\n",
       "      <td>454.13</td>\n",
       "    </tr>\n",
       "    <tr>\n",
       "      <th>85662</th>\n",
       "      <td>1399_273</td>\n",
       "      <td>1399</td>\n",
       "      <td>2018-08-13</td>\n",
       "      <td>925.38</td>\n",
       "    </tr>\n",
       "    <tr>\n",
       "      <th>59200</th>\n",
       "      <td>1267_2</td>\n",
       "      <td>1267</td>\n",
       "      <td>2018-12-21</td>\n",
       "      <td>318.91</td>\n",
       "    </tr>\n",
       "  </tbody>\n",
       "</table>\n",
       "</div>"
      ],
      "text/plain": [
       "              id  user_id session_date  mb_used\n",
       "53888     1244_6     1244   2018-12-12   483.12\n",
       "95137    1444_88     1444   2018-09-15   196.31\n",
       "44954   1199_227     1199   2018-12-12   127.20\n",
       "101361  1483_164     1483   2018-05-15   178.07\n",
       "44908   1199_158     1199   2018-11-13   207.86\n",
       "18622     1083_8     1083   2018-11-06    58.55\n",
       "79949    1374_25     1374   2018-06-21   660.80\n",
       "95002    1443_72     1443   2018-12-22   454.13\n",
       "85662   1399_273     1399   2018-08-13   925.38\n",
       "59200     1267_2     1267   2018-12-21   318.91"
      ]
     },
     "execution_count": 29,
     "metadata": {},
     "output_type": "execute_result"
    }
   ],
   "source": [
    "internet.sample(10)"
   ]
  },
  {
   "cell_type": "code",
   "execution_count": null,
   "metadata": {},
   "outputs": [
    {
     "data": {
      "text/plain": [
       "0"
      ]
     },
     "execution_count": 30,
     "metadata": {},
     "output_type": "execute_result"
    }
   ],
   "source": [
    "# Verificar duplicados\n",
    "internet.duplicated().sum()"
   ]
  },
  {
   "cell_type": "code",
   "execution_count": null,
   "metadata": {},
   "outputs": [
    {
     "name": "stdout",
     "output_type": "stream",
     "text": [
      "user_id\n",
      "1000      1901.47\n",
      "1001     80437.94\n",
      "1002     40293.33\n",
      "1003     27044.14\n",
      "1004    156352.81\n",
      "          ...    \n",
      "1495     98890.96\n",
      "1496     64268.64\n",
      "1497     11106.55\n",
      "1498    227525.13\n",
      "1499     71350.23\n",
      "Name: mb_used, Length: 489, dtype: float64\n"
     ]
    }
   ],
   "source": [
    "# Agrupar los mb usados por user_id\n",
    "print(internet.groupby('user_id')['mb_used'].sum())"
   ]
  },
  {
   "cell_type": "markdown",
   "metadata": {
    "id": "EzOG5ik30q1D"
   },
   "source": [
    "El dataframe no tiene valores ausentes ni duplicados. La columna session_date debe convertirse a formato fecha. "
   ]
  },
  {
   "cell_type": "markdown",
   "metadata": {
    "id": "yA0tkPFg0q1D"
   },
   "source": [
    "### Corregir los datos"
   ]
  },
  {
   "cell_type": "code",
   "execution_count": null,
   "metadata": {
    "id": "zVeanzdd0q1E"
   },
   "outputs": [
    {
     "name": "stdout",
     "output_type": "stream",
     "text": [
      "<class 'pandas.core.frame.DataFrame'>\n",
      "RangeIndex: 104825 entries, 0 to 104824\n",
      "Data columns (total 4 columns):\n",
      " #   Column        Non-Null Count   Dtype         \n",
      "---  ------        --------------   -----         \n",
      " 0   id            104825 non-null  object        \n",
      " 1   user_id       104825 non-null  int64         \n",
      " 2   session_date  104825 non-null  datetime64[ns]\n",
      " 3   mb_used       104825 non-null  float64       \n",
      "dtypes: datetime64[ns](1), float64(1), int64(1), object(1)\n",
      "memory usage: 3.2+ MB\n"
     ]
    }
   ],
   "source": [
    "# Convertir columna session_date a formato fecha\n",
    "internet['session_date'] = pd.to_datetime(internet['session_date'])\n",
    "internet.info()"
   ]
  },
  {
   "cell_type": "markdown",
   "metadata": {
    "id": "e8_mLF4a0q1E"
   },
   "source": [
    "### Enriquecer los datos"
   ]
  },
  {
   "cell_type": "code",
   "execution_count": null,
   "metadata": {
    "id": "ESiYPIEK0q1E"
   },
   "outputs": [],
   "source": []
  },
  {
   "cell_type": "markdown",
   "metadata": {
    "id": "3UA2cqIW0q1E"
   },
   "source": [
    "## Estudiar las condiciones de las tarifas"
   ]
  },
  {
   "cell_type": "code",
   "execution_count": 33,
   "metadata": {
    "id": "i409op8p0q1F"
   },
   "outputs": [
    {
     "data": {
      "text/html": [
       "<div>\n",
       "<style scoped>\n",
       "    .dataframe tbody tr th:only-of-type {\n",
       "        vertical-align: middle;\n",
       "    }\n",
       "\n",
       "    .dataframe tbody tr th {\n",
       "        vertical-align: top;\n",
       "    }\n",
       "\n",
       "    .dataframe thead th {\n",
       "        text-align: right;\n",
       "    }\n",
       "</style>\n",
       "<table border=\"1\" class=\"dataframe\">\n",
       "  <thead>\n",
       "    <tr style=\"text-align: right;\">\n",
       "      <th></th>\n",
       "      <th>messages_included</th>\n",
       "      <th>mb_per_month_included</th>\n",
       "      <th>minutes_included</th>\n",
       "      <th>usd_monthly_pay</th>\n",
       "      <th>usd_per_gb</th>\n",
       "      <th>usd_per_message</th>\n",
       "      <th>usd_per_minute</th>\n",
       "      <th>plan_name</th>\n",
       "      <th>gb_per_month_included</th>\n",
       "    </tr>\n",
       "  </thead>\n",
       "  <tbody>\n",
       "    <tr>\n",
       "      <th>0</th>\n",
       "      <td>50</td>\n",
       "      <td>15360</td>\n",
       "      <td>500</td>\n",
       "      <td>20</td>\n",
       "      <td>10.0</td>\n",
       "      <td>0.03</td>\n",
       "      <td>0.03</td>\n",
       "      <td>surf</td>\n",
       "      <td>15</td>\n",
       "    </tr>\n",
       "    <tr>\n",
       "      <th>1</th>\n",
       "      <td>1000</td>\n",
       "      <td>30720</td>\n",
       "      <td>3000</td>\n",
       "      <td>70</td>\n",
       "      <td>7.0</td>\n",
       "      <td>0.01</td>\n",
       "      <td>0.01</td>\n",
       "      <td>ultimate</td>\n",
       "      <td>30</td>\n",
       "    </tr>\n",
       "  </tbody>\n",
       "</table>\n",
       "</div>"
      ],
      "text/plain": [
       "   messages_included  mb_per_month_included  minutes_included  \\\n",
       "0                 50                  15360               500   \n",
       "1               1000                  30720              3000   \n",
       "\n",
       "   usd_monthly_pay  usd_per_gb  usd_per_message  usd_per_minute plan_name  \\\n",
       "0               20        10.0             0.03            0.03      surf   \n",
       "1               70         7.0             0.01            0.01  ultimate   \n",
       "\n",
       "   gb_per_month_included  \n",
       "0                     15  \n",
       "1                     30  "
      ]
     },
     "execution_count": 33,
     "metadata": {},
     "output_type": "execute_result"
    }
   ],
   "source": [
    "plans.sample(2)"
   ]
  },
  {
   "cell_type": "markdown",
   "metadata": {
    "id": "hMR1tP5d0q1F"
   },
   "source": [
    "## Agregar datos por usuario"
   ]
  },
  {
   "cell_type": "code",
   "execution_count": 34,
   "metadata": {
    "id": "A332cedB0q1G"
   },
   "outputs": [
    {
     "data": {
      "text/html": [
       "<div>\n",
       "<style scoped>\n",
       "    .dataframe tbody tr th:only-of-type {\n",
       "        vertical-align: middle;\n",
       "    }\n",
       "\n",
       "    .dataframe tbody tr th {\n",
       "        vertical-align: top;\n",
       "    }\n",
       "\n",
       "    .dataframe thead th {\n",
       "        text-align: right;\n",
       "    }\n",
       "</style>\n",
       "<table border=\"1\" class=\"dataframe\">\n",
       "  <thead>\n",
       "    <tr style=\"text-align: right;\">\n",
       "      <th></th>\n",
       "      <th>user_id</th>\n",
       "      <th>month</th>\n",
       "      <th>calls_made</th>\n",
       "    </tr>\n",
       "  </thead>\n",
       "  <tbody>\n",
       "    <tr>\n",
       "      <th>1154</th>\n",
       "      <td>1251</td>\n",
       "      <td>10</td>\n",
       "      <td>87</td>\n",
       "    </tr>\n",
       "    <tr>\n",
       "      <th>1296</th>\n",
       "      <td>1282</td>\n",
       "      <td>12</td>\n",
       "      <td>74</td>\n",
       "    </tr>\n",
       "    <tr>\n",
       "      <th>943</th>\n",
       "      <td>1201</td>\n",
       "      <td>11</td>\n",
       "      <td>65</td>\n",
       "    </tr>\n",
       "    <tr>\n",
       "      <th>225</th>\n",
       "      <td>1054</td>\n",
       "      <td>6</td>\n",
       "      <td>32</td>\n",
       "    </tr>\n",
       "    <tr>\n",
       "      <th>327</th>\n",
       "      <td>1071</td>\n",
       "      <td>7</td>\n",
       "      <td>81</td>\n",
       "    </tr>\n",
       "  </tbody>\n",
       "</table>\n",
       "</div>"
      ],
      "text/plain": [
       "      user_id  month  calls_made\n",
       "1154     1251     10          87\n",
       "1296     1282     12          74\n",
       "943      1201     11          65\n",
       "225      1054      6          32\n",
       "327      1071      7          81"
      ]
     },
     "execution_count": 34,
     "metadata": {},
     "output_type": "execute_result"
    }
   ],
   "source": [
    "# Número de llamadas hechas por cada usuario al mes\n",
    "calls['month'] = calls['call_date'].dt.month\n",
    "calls_per_user_month = calls.groupby(['user_id', 'month']).size().reset_index(name='calls_made')\n",
    "calls_per_user_month.sample(5)"
   ]
  },
  {
   "cell_type": "code",
   "execution_count": 35,
   "metadata": {},
   "outputs": [
    {
     "data": {
      "text/html": [
       "<div>\n",
       "<style scoped>\n",
       "    .dataframe tbody tr th:only-of-type {\n",
       "        vertical-align: middle;\n",
       "    }\n",
       "\n",
       "    .dataframe tbody tr th {\n",
       "        vertical-align: top;\n",
       "    }\n",
       "\n",
       "    .dataframe thead th {\n",
       "        text-align: right;\n",
       "    }\n",
       "</style>\n",
       "<table border=\"1\" class=\"dataframe\">\n",
       "  <thead>\n",
       "    <tr style=\"text-align: right;\">\n",
       "      <th></th>\n",
       "      <th>user_id</th>\n",
       "      <th>month</th>\n",
       "      <th>calls_made</th>\n",
       "    </tr>\n",
       "  </thead>\n",
       "  <tbody>\n",
       "    <tr>\n",
       "      <th>67</th>\n",
       "      <td>1018</td>\n",
       "      <td>10</td>\n",
       "      <td>25</td>\n",
       "    </tr>\n",
       "    <tr>\n",
       "      <th>68</th>\n",
       "      <td>1018</td>\n",
       "      <td>11</td>\n",
       "      <td>86</td>\n",
       "    </tr>\n",
       "    <tr>\n",
       "      <th>69</th>\n",
       "      <td>1018</td>\n",
       "      <td>12</td>\n",
       "      <td>71</td>\n",
       "    </tr>\n",
       "  </tbody>\n",
       "</table>\n",
       "</div>"
      ],
      "text/plain": [
       "    user_id  month  calls_made\n",
       "67     1018     10          25\n",
       "68     1018     11          86\n",
       "69     1018     12          71"
      ]
     },
     "execution_count": 35,
     "metadata": {},
     "output_type": "execute_result"
    }
   ],
   "source": [
    "calls_per_user_month[calls_per_user_month['user_id']==1018]"
   ]
  },
  {
   "cell_type": "code",
   "execution_count": 36,
   "metadata": {
    "id": "aw2cmuql0q1G"
   },
   "outputs": [
    {
     "data": {
      "text/html": [
       "<div>\n",
       "<style scoped>\n",
       "    .dataframe tbody tr th:only-of-type {\n",
       "        vertical-align: middle;\n",
       "    }\n",
       "\n",
       "    .dataframe tbody tr th {\n",
       "        vertical-align: top;\n",
       "    }\n",
       "\n",
       "    .dataframe thead th {\n",
       "        text-align: right;\n",
       "    }\n",
       "</style>\n",
       "<table border=\"1\" class=\"dataframe\">\n",
       "  <thead>\n",
       "    <tr style=\"text-align: right;\">\n",
       "      <th></th>\n",
       "      <th>user_id</th>\n",
       "      <th>month</th>\n",
       "      <th>total_duration</th>\n",
       "    </tr>\n",
       "  </thead>\n",
       "  <tbody>\n",
       "    <tr>\n",
       "      <th>1202</th>\n",
       "      <td>1259</td>\n",
       "      <td>8</td>\n",
       "      <td>189.45</td>\n",
       "    </tr>\n",
       "    <tr>\n",
       "      <th>2216</th>\n",
       "      <td>1491</td>\n",
       "      <td>11</td>\n",
       "      <td>389.93</td>\n",
       "    </tr>\n",
       "    <tr>\n",
       "      <th>628</th>\n",
       "      <td>1138</td>\n",
       "      <td>2</td>\n",
       "      <td>287.17</td>\n",
       "    </tr>\n",
       "    <tr>\n",
       "      <th>1467</th>\n",
       "      <td>1326</td>\n",
       "      <td>11</td>\n",
       "      <td>944.47</td>\n",
       "    </tr>\n",
       "    <tr>\n",
       "      <th>1610</th>\n",
       "      <td>1357</td>\n",
       "      <td>7</td>\n",
       "      <td>621.75</td>\n",
       "    </tr>\n",
       "  </tbody>\n",
       "</table>\n",
       "</div>"
      ],
      "text/plain": [
       "      user_id  month  total_duration\n",
       "1202     1259      8          189.45\n",
       "2216     1491     11          389.93\n",
       "628      1138      2          287.17\n",
       "1467     1326     11          944.47\n",
       "1610     1357      7          621.75"
      ]
     },
     "execution_count": 36,
     "metadata": {},
     "output_type": "execute_result"
    }
   ],
   "source": [
    "# Cantidad de minutos usados por cada usuario al mes \n",
    "minutes_per_user_month = calls.groupby(['user_id','month'])['duration'].sum().reset_index(name='total_duration')\n",
    "minutes_per_user_month.sample(5)"
   ]
  },
  {
   "cell_type": "code",
   "execution_count": 37,
   "metadata": {},
   "outputs": [
    {
     "data": {
      "text/html": [
       "<div>\n",
       "<style scoped>\n",
       "    .dataframe tbody tr th:only-of-type {\n",
       "        vertical-align: middle;\n",
       "    }\n",
       "\n",
       "    .dataframe tbody tr th {\n",
       "        vertical-align: top;\n",
       "    }\n",
       "\n",
       "    .dataframe thead th {\n",
       "        text-align: right;\n",
       "    }\n",
       "</style>\n",
       "<table border=\"1\" class=\"dataframe\">\n",
       "  <thead>\n",
       "    <tr style=\"text-align: right;\">\n",
       "      <th></th>\n",
       "      <th>user_id</th>\n",
       "      <th>month</th>\n",
       "      <th>total_duration</th>\n",
       "    </tr>\n",
       "  </thead>\n",
       "  <tbody>\n",
       "    <tr>\n",
       "      <th>67</th>\n",
       "      <td>1018</td>\n",
       "      <td>10</td>\n",
       "      <td>173.67</td>\n",
       "    </tr>\n",
       "    <tr>\n",
       "      <th>68</th>\n",
       "      <td>1018</td>\n",
       "      <td>11</td>\n",
       "      <td>601.88</td>\n",
       "    </tr>\n",
       "    <tr>\n",
       "      <th>69</th>\n",
       "      <td>1018</td>\n",
       "      <td>12</td>\n",
       "      <td>447.90</td>\n",
       "    </tr>\n",
       "  </tbody>\n",
       "</table>\n",
       "</div>"
      ],
      "text/plain": [
       "    user_id  month  total_duration\n",
       "67     1018     10          173.67\n",
       "68     1018     11          601.88\n",
       "69     1018     12          447.90"
      ]
     },
     "execution_count": 37,
     "metadata": {},
     "output_type": "execute_result"
    }
   ],
   "source": [
    "minutes_per_user_month[minutes_per_user_month['user_id']==1018]"
   ]
  },
  {
   "cell_type": "code",
   "execution_count": 38,
   "metadata": {
    "id": "CcQvNHn60q1G"
   },
   "outputs": [
    {
     "data": {
      "text/html": [
       "<div>\n",
       "<style scoped>\n",
       "    .dataframe tbody tr th:only-of-type {\n",
       "        vertical-align: middle;\n",
       "    }\n",
       "\n",
       "    .dataframe tbody tr th {\n",
       "        vertical-align: top;\n",
       "    }\n",
       "\n",
       "    .dataframe thead th {\n",
       "        text-align: right;\n",
       "    }\n",
       "</style>\n",
       "<table border=\"1\" class=\"dataframe\">\n",
       "  <thead>\n",
       "    <tr style=\"text-align: right;\">\n",
       "      <th></th>\n",
       "      <th>user_id</th>\n",
       "      <th>month</th>\n",
       "      <th>total_messages</th>\n",
       "    </tr>\n",
       "  </thead>\n",
       "  <tbody>\n",
       "    <tr>\n",
       "      <th>463</th>\n",
       "      <td>1128</td>\n",
       "      <td>10</td>\n",
       "      <td>37</td>\n",
       "    </tr>\n",
       "    <tr>\n",
       "      <th>1090</th>\n",
       "      <td>1291</td>\n",
       "      <td>10</td>\n",
       "      <td>14</td>\n",
       "    </tr>\n",
       "    <tr>\n",
       "      <th>928</th>\n",
       "      <td>1249</td>\n",
       "      <td>9</td>\n",
       "      <td>47</td>\n",
       "    </tr>\n",
       "    <tr>\n",
       "      <th>1421</th>\n",
       "      <td>1382</td>\n",
       "      <td>6</td>\n",
       "      <td>14</td>\n",
       "    </tr>\n",
       "    <tr>\n",
       "      <th>256</th>\n",
       "      <td>1077</td>\n",
       "      <td>4</td>\n",
       "      <td>57</td>\n",
       "    </tr>\n",
       "  </tbody>\n",
       "</table>\n",
       "</div>"
      ],
      "text/plain": [
       "      user_id  month  total_messages\n",
       "463      1128     10              37\n",
       "1090     1291     10              14\n",
       "928      1249      9              47\n",
       "1421     1382      6              14\n",
       "256      1077      4              57"
      ]
     },
     "execution_count": 38,
     "metadata": {},
     "output_type": "execute_result"
    }
   ],
   "source": [
    "# Número de mensajes enviados por cada usuario al mes\n",
    "messages['month'] = messages['message_date'].dt.month\n",
    "messages_per_user_month = messages.groupby(['user_id', 'month']).size().reset_index(name='total_messages')\n",
    "messages_per_user_month.sample(5)"
   ]
  },
  {
   "cell_type": "code",
   "execution_count": 39,
   "metadata": {},
   "outputs": [
    {
     "data": {
      "text/html": [
       "<div>\n",
       "<style scoped>\n",
       "    .dataframe tbody tr th:only-of-type {\n",
       "        vertical-align: middle;\n",
       "    }\n",
       "\n",
       "    .dataframe tbody tr th {\n",
       "        vertical-align: top;\n",
       "    }\n",
       "\n",
       "    .dataframe thead th {\n",
       "        text-align: right;\n",
       "    }\n",
       "</style>\n",
       "<table border=\"1\" class=\"dataframe\">\n",
       "  <thead>\n",
       "    <tr style=\"text-align: right;\">\n",
       "      <th></th>\n",
       "      <th>user_id</th>\n",
       "      <th>month</th>\n",
       "      <th>total_messages</th>\n",
       "    </tr>\n",
       "  </thead>\n",
       "  <tbody>\n",
       "    <tr>\n",
       "      <th>48</th>\n",
       "      <td>1018</td>\n",
       "      <td>10</td>\n",
       "      <td>3</td>\n",
       "    </tr>\n",
       "    <tr>\n",
       "      <th>49</th>\n",
       "      <td>1018</td>\n",
       "      <td>11</td>\n",
       "      <td>5</td>\n",
       "    </tr>\n",
       "    <tr>\n",
       "      <th>50</th>\n",
       "      <td>1018</td>\n",
       "      <td>12</td>\n",
       "      <td>8</td>\n",
       "    </tr>\n",
       "  </tbody>\n",
       "</table>\n",
       "</div>"
      ],
      "text/plain": [
       "    user_id  month  total_messages\n",
       "48     1018     10               3\n",
       "49     1018     11               5\n",
       "50     1018     12               8"
      ]
     },
     "execution_count": 39,
     "metadata": {},
     "output_type": "execute_result"
    }
   ],
   "source": [
    "messages_per_user_month[messages_per_user_month['user_id']==1018]"
   ]
  },
  {
   "cell_type": "code",
   "execution_count": 40,
   "metadata": {
    "id": "H1AqN2eG0q1H"
   },
   "outputs": [
    {
     "data": {
      "text/html": [
       "<div>\n",
       "<style scoped>\n",
       "    .dataframe tbody tr th:only-of-type {\n",
       "        vertical-align: middle;\n",
       "    }\n",
       "\n",
       "    .dataframe tbody tr th {\n",
       "        vertical-align: top;\n",
       "    }\n",
       "\n",
       "    .dataframe thead th {\n",
       "        text-align: right;\n",
       "    }\n",
       "</style>\n",
       "<table border=\"1\" class=\"dataframe\">\n",
       "  <thead>\n",
       "    <tr style=\"text-align: right;\">\n",
       "      <th></th>\n",
       "      <th>user_id</th>\n",
       "      <th>month</th>\n",
       "      <th>mb_used</th>\n",
       "    </tr>\n",
       "  </thead>\n",
       "  <tbody>\n",
       "    <tr>\n",
       "      <th>1701</th>\n",
       "      <td>1366</td>\n",
       "      <td>9</td>\n",
       "      <td>18379.32</td>\n",
       "    </tr>\n",
       "    <tr>\n",
       "      <th>342</th>\n",
       "      <td>1073</td>\n",
       "      <td>7</td>\n",
       "      <td>15329.24</td>\n",
       "    </tr>\n",
       "    <tr>\n",
       "      <th>1454</th>\n",
       "      <td>1318</td>\n",
       "      <td>9</td>\n",
       "      <td>442.71</td>\n",
       "    </tr>\n",
       "    <tr>\n",
       "      <th>453</th>\n",
       "      <td>1097</td>\n",
       "      <td>10</td>\n",
       "      <td>17220.95</td>\n",
       "    </tr>\n",
       "    <tr>\n",
       "      <th>1289</th>\n",
       "      <td>1273</td>\n",
       "      <td>12</td>\n",
       "      <td>18176.59</td>\n",
       "    </tr>\n",
       "  </tbody>\n",
       "</table>\n",
       "</div>"
      ],
      "text/plain": [
       "      user_id  month   mb_used\n",
       "1701     1366      9  18379.32\n",
       "342      1073      7  15329.24\n",
       "1454     1318      9    442.71\n",
       "453      1097     10  17220.95\n",
       "1289     1273     12  18176.59"
      ]
     },
     "execution_count": 40,
     "metadata": {},
     "output_type": "execute_result"
    }
   ],
   "source": [
    "# Volumen del tráfico de Internet usado por cada usuario al mes. Guarda el resultado.\n",
    "internet['month'] = internet['session_date'].dt.month\n",
    "internet_per_user_month = internet.groupby(['user_id', 'month']).sum().reset_index()\n",
    "internet_per_user_month.sample(5)"
   ]
  },
  {
   "cell_type": "code",
   "execution_count": 41,
   "metadata": {},
   "outputs": [
    {
     "data": {
      "text/html": [
       "<div>\n",
       "<style scoped>\n",
       "    .dataframe tbody tr th:only-of-type {\n",
       "        vertical-align: middle;\n",
       "    }\n",
       "\n",
       "    .dataframe tbody tr th {\n",
       "        vertical-align: top;\n",
       "    }\n",
       "\n",
       "    .dataframe thead th {\n",
       "        text-align: right;\n",
       "    }\n",
       "</style>\n",
       "<table border=\"1\" class=\"dataframe\">\n",
       "  <thead>\n",
       "    <tr style=\"text-align: right;\">\n",
       "      <th></th>\n",
       "      <th>user_id</th>\n",
       "      <th>month</th>\n",
       "      <th>mb_used</th>\n",
       "      <th>gb_used</th>\n",
       "    </tr>\n",
       "  </thead>\n",
       "  <tbody>\n",
       "    <tr>\n",
       "      <th>1438</th>\n",
       "      <td>1313</td>\n",
       "      <td>11</td>\n",
       "      <td>19690.12</td>\n",
       "      <td>20.0</td>\n",
       "    </tr>\n",
       "    <tr>\n",
       "      <th>1719</th>\n",
       "      <td>1369</td>\n",
       "      <td>11</td>\n",
       "      <td>14111.37</td>\n",
       "      <td>14.0</td>\n",
       "    </tr>\n",
       "    <tr>\n",
       "      <th>863</th>\n",
       "      <td>1181</td>\n",
       "      <td>7</td>\n",
       "      <td>15644.34</td>\n",
       "      <td>16.0</td>\n",
       "    </tr>\n",
       "    <tr>\n",
       "      <th>1865</th>\n",
       "      <td>1401</td>\n",
       "      <td>12</td>\n",
       "      <td>8407.64</td>\n",
       "      <td>9.0</td>\n",
       "    </tr>\n",
       "    <tr>\n",
       "      <th>1234</th>\n",
       "      <td>1260</td>\n",
       "      <td>12</td>\n",
       "      <td>19766.78</td>\n",
       "      <td>20.0</td>\n",
       "    </tr>\n",
       "  </tbody>\n",
       "</table>\n",
       "</div>"
      ],
      "text/plain": [
       "      user_id  month   mb_used  gb_used\n",
       "1438     1313     11  19690.12     20.0\n",
       "1719     1369     11  14111.37     14.0\n",
       "863      1181      7  15644.34     16.0\n",
       "1865     1401     12   8407.64      9.0\n",
       "1234     1260     12  19766.78     20.0"
      ]
     },
     "execution_count": 41,
     "metadata": {},
     "output_type": "execute_result"
    }
   ],
   "source": [
    "internet_per_user_month['gb_used'] = np.ceil(internet_per_user_month['mb_used'] / 1024)\n",
    "internet_per_user_month.sample(5)"
   ]
  },
  {
   "cell_type": "code",
   "execution_count": 42,
   "metadata": {},
   "outputs": [
    {
     "data": {
      "text/html": [
       "<div>\n",
       "<style scoped>\n",
       "    .dataframe tbody tr th:only-of-type {\n",
       "        vertical-align: middle;\n",
       "    }\n",
       "\n",
       "    .dataframe tbody tr th {\n",
       "        vertical-align: top;\n",
       "    }\n",
       "\n",
       "    .dataframe thead th {\n",
       "        text-align: right;\n",
       "    }\n",
       "</style>\n",
       "<table border=\"1\" class=\"dataframe\">\n",
       "  <thead>\n",
       "    <tr style=\"text-align: right;\">\n",
       "      <th></th>\n",
       "      <th>user_id</th>\n",
       "      <th>month</th>\n",
       "      <th>mb_used</th>\n",
       "      <th>gb_used</th>\n",
       "    </tr>\n",
       "  </thead>\n",
       "  <tbody>\n",
       "    <tr>\n",
       "      <th>67</th>\n",
       "      <td>1018</td>\n",
       "      <td>10</td>\n",
       "      <td>8722.35</td>\n",
       "      <td>9.0</td>\n",
       "    </tr>\n",
       "    <tr>\n",
       "      <th>68</th>\n",
       "      <td>1018</td>\n",
       "      <td>11</td>\n",
       "      <td>15266.53</td>\n",
       "      <td>15.0</td>\n",
       "    </tr>\n",
       "    <tr>\n",
       "      <th>69</th>\n",
       "      <td>1018</td>\n",
       "      <td>12</td>\n",
       "      <td>17390.55</td>\n",
       "      <td>17.0</td>\n",
       "    </tr>\n",
       "  </tbody>\n",
       "</table>\n",
       "</div>"
      ],
      "text/plain": [
       "    user_id  month   mb_used  gb_used\n",
       "67     1018     10   8722.35      9.0\n",
       "68     1018     11  15266.53     15.0\n",
       "69     1018     12  17390.55     17.0"
      ]
     },
     "execution_count": 42,
     "metadata": {},
     "output_type": "execute_result"
    }
   ],
   "source": [
    "internet_per_user_month[internet_per_user_month['user_id']==1018]"
   ]
  },
  {
   "cell_type": "code",
   "execution_count": 43,
   "metadata": {
    "id": "FW99ykyf0q1H"
   },
   "outputs": [
    {
     "data": {
      "text/html": [
       "<div>\n",
       "<style scoped>\n",
       "    .dataframe tbody tr th:only-of-type {\n",
       "        vertical-align: middle;\n",
       "    }\n",
       "\n",
       "    .dataframe tbody tr th {\n",
       "        vertical-align: top;\n",
       "    }\n",
       "\n",
       "    .dataframe thead th {\n",
       "        text-align: right;\n",
       "    }\n",
       "</style>\n",
       "<table border=\"1\" class=\"dataframe\">\n",
       "  <thead>\n",
       "    <tr style=\"text-align: right;\">\n",
       "      <th></th>\n",
       "      <th>user_id</th>\n",
       "      <th>month</th>\n",
       "      <th>calls_made</th>\n",
       "      <th>total_duration</th>\n",
       "      <th>total_messages</th>\n",
       "      <th>mb_used</th>\n",
       "      <th>gb_used</th>\n",
       "    </tr>\n",
       "  </thead>\n",
       "  <tbody>\n",
       "    <tr>\n",
       "      <th>2120</th>\n",
       "      <td>1467</td>\n",
       "      <td>10</td>\n",
       "      <td>61.0</td>\n",
       "      <td>383.97</td>\n",
       "      <td>54.0</td>\n",
       "      <td>21104.02</td>\n",
       "      <td>21.0</td>\n",
       "    </tr>\n",
       "    <tr>\n",
       "      <th>681</th>\n",
       "      <td>1147</td>\n",
       "      <td>8</td>\n",
       "      <td>124.0</td>\n",
       "      <td>932.61</td>\n",
       "      <td>27.0</td>\n",
       "      <td>32962.14</td>\n",
       "      <td>33.0</td>\n",
       "    </tr>\n",
       "    <tr>\n",
       "      <th>423</th>\n",
       "      <td>1090</td>\n",
       "      <td>8</td>\n",
       "      <td>48.0</td>\n",
       "      <td>314.57</td>\n",
       "      <td>22.0</td>\n",
       "      <td>22497.53</td>\n",
       "      <td>22.0</td>\n",
       "    </tr>\n",
       "    <tr>\n",
       "      <th>1636</th>\n",
       "      <td>1361</td>\n",
       "      <td>7</td>\n",
       "      <td>52.0</td>\n",
       "      <td>358.73</td>\n",
       "      <td>41.0</td>\n",
       "      <td>10531.35</td>\n",
       "      <td>11.0</td>\n",
       "    </tr>\n",
       "    <tr>\n",
       "      <th>1588</th>\n",
       "      <td>1353</td>\n",
       "      <td>5</td>\n",
       "      <td>15.0</td>\n",
       "      <td>92.99</td>\n",
       "      <td>0.0</td>\n",
       "      <td>4799.35</td>\n",
       "      <td>5.0</td>\n",
       "    </tr>\n",
       "    <tr>\n",
       "      <th>126</th>\n",
       "      <td>1036</td>\n",
       "      <td>6</td>\n",
       "      <td>19.0</td>\n",
       "      <td>152.25</td>\n",
       "      <td>19.0</td>\n",
       "      <td>1449.37</td>\n",
       "      <td>2.0</td>\n",
       "    </tr>\n",
       "    <tr>\n",
       "      <th>1494</th>\n",
       "      <td>1331</td>\n",
       "      <td>12</td>\n",
       "      <td>44.0</td>\n",
       "      <td>343.10</td>\n",
       "      <td>87.0</td>\n",
       "      <td>19941.42</td>\n",
       "      <td>20.0</td>\n",
       "    </tr>\n",
       "    <tr>\n",
       "      <th>1825</th>\n",
       "      <td>1400</td>\n",
       "      <td>6</td>\n",
       "      <td>69.0</td>\n",
       "      <td>450.34</td>\n",
       "      <td>0.0</td>\n",
       "      <td>14502.51</td>\n",
       "      <td>15.0</td>\n",
       "    </tr>\n",
       "    <tr>\n",
       "      <th>1364</th>\n",
       "      <td>1300</td>\n",
       "      <td>12</td>\n",
       "      <td>75.0</td>\n",
       "      <td>404.89</td>\n",
       "      <td>0.0</td>\n",
       "      <td>24325.88</td>\n",
       "      <td>24.0</td>\n",
       "    </tr>\n",
       "    <tr>\n",
       "      <th>2180</th>\n",
       "      <td>1483</td>\n",
       "      <td>6</td>\n",
       "      <td>69.0</td>\n",
       "      <td>463.94</td>\n",
       "      <td>5.0</td>\n",
       "      <td>12991.18</td>\n",
       "      <td>13.0</td>\n",
       "    </tr>\n",
       "  </tbody>\n",
       "</table>\n",
       "</div>"
      ],
      "text/plain": [
       "      user_id  month  calls_made  total_duration  total_messages   mb_used  \\\n",
       "2120     1467     10        61.0          383.97            54.0  21104.02   \n",
       "681      1147      8       124.0          932.61            27.0  32962.14   \n",
       "423      1090      8        48.0          314.57            22.0  22497.53   \n",
       "1636     1361      7        52.0          358.73            41.0  10531.35   \n",
       "1588     1353      5        15.0           92.99             0.0   4799.35   \n",
       "126      1036      6        19.0          152.25            19.0   1449.37   \n",
       "1494     1331     12        44.0          343.10            87.0  19941.42   \n",
       "1825     1400      6        69.0          450.34             0.0  14502.51   \n",
       "1364     1300     12        75.0          404.89             0.0  24325.88   \n",
       "2180     1483      6        69.0          463.94             5.0  12991.18   \n",
       "\n",
       "      gb_used  \n",
       "2120     21.0  \n",
       "681      33.0  \n",
       "423      22.0  \n",
       "1636     11.0  \n",
       "1588      5.0  \n",
       "126       2.0  \n",
       "1494     20.0  \n",
       "1825     15.0  \n",
       "1364     24.0  \n",
       "2180     13.0  "
      ]
     },
     "execution_count": 43,
     "metadata": {},
     "output_type": "execute_result"
    }
   ],
   "source": [
    "# Fusiona los datos de llamadas, minutos, mensajes e Internet con base en user_id y month\n",
    "user_month_data = pd.merge(calls_per_user_month, minutes_per_user_month, on=['user_id', 'month'], how='outer')\n",
    "user_month_data = pd.merge(user_month_data, messages_per_user_month, on=['user_id', 'month'], how='outer')\n",
    "user_month_data = pd.merge(user_month_data, internet_per_user_month, on=['user_id', 'month'], how='outer')\n",
    "user_month_data.fillna(0, inplace=True)\n",
    "user_month_data.sample(10)"
   ]
  },
  {
   "cell_type": "code",
   "execution_count": 44,
   "metadata": {
    "id": "0dNOXHag0q1H"
   },
   "outputs": [
    {
     "data": {
      "text/html": [
       "<div>\n",
       "<style scoped>\n",
       "    .dataframe tbody tr th:only-of-type {\n",
       "        vertical-align: middle;\n",
       "    }\n",
       "\n",
       "    .dataframe tbody tr th {\n",
       "        vertical-align: top;\n",
       "    }\n",
       "\n",
       "    .dataframe thead th {\n",
       "        text-align: right;\n",
       "    }\n",
       "</style>\n",
       "<table border=\"1\" class=\"dataframe\">\n",
       "  <thead>\n",
       "    <tr style=\"text-align: right;\">\n",
       "      <th></th>\n",
       "      <th>user_id</th>\n",
       "      <th>month</th>\n",
       "      <th>calls_made</th>\n",
       "      <th>total_duration</th>\n",
       "      <th>total_messages</th>\n",
       "      <th>mb_used</th>\n",
       "      <th>gb_used</th>\n",
       "      <th>plan</th>\n",
       "    </tr>\n",
       "  </thead>\n",
       "  <tbody>\n",
       "    <tr>\n",
       "      <th>1315</th>\n",
       "      <td>1289</td>\n",
       "      <td>12</td>\n",
       "      <td>111.0</td>\n",
       "      <td>639.96</td>\n",
       "      <td>61.0</td>\n",
       "      <td>18661.41</td>\n",
       "      <td>19.0</td>\n",
       "      <td>ultimate</td>\n",
       "    </tr>\n",
       "    <tr>\n",
       "      <th>951</th>\n",
       "      <td>1203</td>\n",
       "      <td>6</td>\n",
       "      <td>62.0</td>\n",
       "      <td>448.16</td>\n",
       "      <td>34.0</td>\n",
       "      <td>13544.97</td>\n",
       "      <td>14.0</td>\n",
       "      <td>surf</td>\n",
       "    </tr>\n",
       "    <tr>\n",
       "      <th>537</th>\n",
       "      <td>1115</td>\n",
       "      <td>11</td>\n",
       "      <td>44.0</td>\n",
       "      <td>325.77</td>\n",
       "      <td>33.0</td>\n",
       "      <td>5528.17</td>\n",
       "      <td>6.0</td>\n",
       "      <td>surf</td>\n",
       "    </tr>\n",
       "    <tr>\n",
       "      <th>1098</th>\n",
       "      <td>1240</td>\n",
       "      <td>7</td>\n",
       "      <td>164.0</td>\n",
       "      <td>1112.88</td>\n",
       "      <td>9.0</td>\n",
       "      <td>34750.43</td>\n",
       "      <td>34.0</td>\n",
       "      <td>surf</td>\n",
       "    </tr>\n",
       "    <tr>\n",
       "      <th>1533</th>\n",
       "      <td>1338</td>\n",
       "      <td>11</td>\n",
       "      <td>95.0</td>\n",
       "      <td>740.35</td>\n",
       "      <td>0.0</td>\n",
       "      <td>11790.83</td>\n",
       "      <td>12.0</td>\n",
       "      <td>surf</td>\n",
       "    </tr>\n",
       "    <tr>\n",
       "      <th>1146</th>\n",
       "      <td>1250</td>\n",
       "      <td>12</td>\n",
       "      <td>69.0</td>\n",
       "      <td>359.07</td>\n",
       "      <td>79.0</td>\n",
       "      <td>8733.20</td>\n",
       "      <td>9.0</td>\n",
       "      <td>ultimate</td>\n",
       "    </tr>\n",
       "    <tr>\n",
       "      <th>1400</th>\n",
       "      <td>1312</td>\n",
       "      <td>7</td>\n",
       "      <td>55.0</td>\n",
       "      <td>337.71</td>\n",
       "      <td>23.0</td>\n",
       "      <td>27213.75</td>\n",
       "      <td>27.0</td>\n",
       "      <td>surf</td>\n",
       "    </tr>\n",
       "    <tr>\n",
       "      <th>1245</th>\n",
       "      <td>1268</td>\n",
       "      <td>5</td>\n",
       "      <td>75.0</td>\n",
       "      <td>528.71</td>\n",
       "      <td>37.0</td>\n",
       "      <td>36672.29</td>\n",
       "      <td>36.0</td>\n",
       "      <td>surf</td>\n",
       "    </tr>\n",
       "    <tr>\n",
       "      <th>1113</th>\n",
       "      <td>1243</td>\n",
       "      <td>12</td>\n",
       "      <td>50.0</td>\n",
       "      <td>383.42</td>\n",
       "      <td>24.0</td>\n",
       "      <td>28824.21</td>\n",
       "      <td>29.0</td>\n",
       "      <td>surf</td>\n",
       "    </tr>\n",
       "    <tr>\n",
       "      <th>743</th>\n",
       "      <td>1159</td>\n",
       "      <td>11</td>\n",
       "      <td>119.0</td>\n",
       "      <td>813.42</td>\n",
       "      <td>94.0</td>\n",
       "      <td>13825.28</td>\n",
       "      <td>14.0</td>\n",
       "      <td>ultimate</td>\n",
       "    </tr>\n",
       "  </tbody>\n",
       "</table>\n",
       "</div>"
      ],
      "text/plain": [
       "      user_id  month  calls_made  total_duration  total_messages   mb_used  \\\n",
       "1315     1289     12       111.0          639.96            61.0  18661.41   \n",
       "951      1203      6        62.0          448.16            34.0  13544.97   \n",
       "537      1115     11        44.0          325.77            33.0   5528.17   \n",
       "1098     1240      7       164.0         1112.88             9.0  34750.43   \n",
       "1533     1338     11        95.0          740.35             0.0  11790.83   \n",
       "1146     1250     12        69.0          359.07            79.0   8733.20   \n",
       "1400     1312      7        55.0          337.71            23.0  27213.75   \n",
       "1245     1268      5        75.0          528.71            37.0  36672.29   \n",
       "1113     1243     12        50.0          383.42            24.0  28824.21   \n",
       "743      1159     11       119.0          813.42            94.0  13825.28   \n",
       "\n",
       "      gb_used      plan  \n",
       "1315     19.0  ultimate  \n",
       "951      14.0      surf  \n",
       "537       6.0      surf  \n",
       "1098     34.0      surf  \n",
       "1533     12.0      surf  \n",
       "1146      9.0  ultimate  \n",
       "1400     27.0      surf  \n",
       "1245     36.0      surf  \n",
       "1113     29.0      surf  \n",
       "743      14.0  ultimate  "
      ]
     },
     "execution_count": 44,
     "metadata": {},
     "output_type": "execute_result"
    }
   ],
   "source": [
    "# Añade la información de la tarifa\n",
    "user_month_data = user_month_data.merge(users[['user_id', 'plan']], on='user_id', how='left')\n",
    "user_month_data.sample(10)"
   ]
  },
  {
   "cell_type": "code",
   "execution_count": 45,
   "metadata": {},
   "outputs": [
    {
     "data": {
      "text/html": [
       "<div>\n",
       "<style scoped>\n",
       "    .dataframe tbody tr th:only-of-type {\n",
       "        vertical-align: middle;\n",
       "    }\n",
       "\n",
       "    .dataframe tbody tr th {\n",
       "        vertical-align: top;\n",
       "    }\n",
       "\n",
       "    .dataframe thead th {\n",
       "        text-align: right;\n",
       "    }\n",
       "</style>\n",
       "<table border=\"1\" class=\"dataframe\">\n",
       "  <thead>\n",
       "    <tr style=\"text-align: right;\">\n",
       "      <th></th>\n",
       "      <th>user_id</th>\n",
       "      <th>month</th>\n",
       "      <th>calls_made</th>\n",
       "      <th>total_duration</th>\n",
       "      <th>total_messages</th>\n",
       "      <th>mb_used</th>\n",
       "      <th>gb_used</th>\n",
       "      <th>plan_name</th>\n",
       "    </tr>\n",
       "  </thead>\n",
       "  <tbody>\n",
       "    <tr>\n",
       "      <th>1768</th>\n",
       "      <td>1389</td>\n",
       "      <td>7</td>\n",
       "      <td>78.0</td>\n",
       "      <td>461.55</td>\n",
       "      <td>0.0</td>\n",
       "      <td>17489.45</td>\n",
       "      <td>18.0</td>\n",
       "      <td>ultimate</td>\n",
       "    </tr>\n",
       "    <tr>\n",
       "      <th>1974</th>\n",
       "      <td>1433</td>\n",
       "      <td>9</td>\n",
       "      <td>28.0</td>\n",
       "      <td>173.29</td>\n",
       "      <td>45.0</td>\n",
       "      <td>8261.57</td>\n",
       "      <td>9.0</td>\n",
       "      <td>ultimate</td>\n",
       "    </tr>\n",
       "    <tr>\n",
       "      <th>2207</th>\n",
       "      <td>1490</td>\n",
       "      <td>11</td>\n",
       "      <td>55.0</td>\n",
       "      <td>427.72</td>\n",
       "      <td>0.0</td>\n",
       "      <td>25817.03</td>\n",
       "      <td>26.0</td>\n",
       "      <td>ultimate</td>\n",
       "    </tr>\n",
       "    <tr>\n",
       "      <th>1133</th>\n",
       "      <td>1247</td>\n",
       "      <td>10</td>\n",
       "      <td>81.0</td>\n",
       "      <td>496.68</td>\n",
       "      <td>110.0</td>\n",
       "      <td>14394.15</td>\n",
       "      <td>15.0</td>\n",
       "      <td>ultimate</td>\n",
       "    </tr>\n",
       "    <tr>\n",
       "      <th>810</th>\n",
       "      <td>1173</td>\n",
       "      <td>9</td>\n",
       "      <td>10.0</td>\n",
       "      <td>68.98</td>\n",
       "      <td>9.0</td>\n",
       "      <td>409.43</td>\n",
       "      <td>1.0</td>\n",
       "      <td>surf</td>\n",
       "    </tr>\n",
       "    <tr>\n",
       "      <th>299</th>\n",
       "      <td>1066</td>\n",
       "      <td>4</td>\n",
       "      <td>57.0</td>\n",
       "      <td>438.04</td>\n",
       "      <td>32.0</td>\n",
       "      <td>22187.52</td>\n",
       "      <td>22.0</td>\n",
       "      <td>surf</td>\n",
       "    </tr>\n",
       "    <tr>\n",
       "      <th>512</th>\n",
       "      <td>1110</td>\n",
       "      <td>8</td>\n",
       "      <td>56.0</td>\n",
       "      <td>257.67</td>\n",
       "      <td>59.0</td>\n",
       "      <td>24671.51</td>\n",
       "      <td>25.0</td>\n",
       "      <td>surf</td>\n",
       "    </tr>\n",
       "    <tr>\n",
       "      <th>1922</th>\n",
       "      <td>1417</td>\n",
       "      <td>9</td>\n",
       "      <td>81.0</td>\n",
       "      <td>542.60</td>\n",
       "      <td>7.0</td>\n",
       "      <td>14865.82</td>\n",
       "      <td>15.0</td>\n",
       "      <td>ultimate</td>\n",
       "    </tr>\n",
       "    <tr>\n",
       "      <th>860</th>\n",
       "      <td>1184</td>\n",
       "      <td>12</td>\n",
       "      <td>90.0</td>\n",
       "      <td>630.58</td>\n",
       "      <td>37.0</td>\n",
       "      <td>10254.82</td>\n",
       "      <td>11.0</td>\n",
       "      <td>ultimate</td>\n",
       "    </tr>\n",
       "    <tr>\n",
       "      <th>1744</th>\n",
       "      <td>1384</td>\n",
       "      <td>9</td>\n",
       "      <td>31.0</td>\n",
       "      <td>232.53</td>\n",
       "      <td>72.0</td>\n",
       "      <td>17950.09</td>\n",
       "      <td>18.0</td>\n",
       "      <td>ultimate</td>\n",
       "    </tr>\n",
       "  </tbody>\n",
       "</table>\n",
       "</div>"
      ],
      "text/plain": [
       "      user_id  month  calls_made  total_duration  total_messages   mb_used  \\\n",
       "1768     1389      7        78.0          461.55             0.0  17489.45   \n",
       "1974     1433      9        28.0          173.29            45.0   8261.57   \n",
       "2207     1490     11        55.0          427.72             0.0  25817.03   \n",
       "1133     1247     10        81.0          496.68           110.0  14394.15   \n",
       "810      1173      9        10.0           68.98             9.0    409.43   \n",
       "299      1066      4        57.0          438.04            32.0  22187.52   \n",
       "512      1110      8        56.0          257.67            59.0  24671.51   \n",
       "1922     1417      9        81.0          542.60             7.0  14865.82   \n",
       "860      1184     12        90.0          630.58            37.0  10254.82   \n",
       "1744     1384      9        31.0          232.53            72.0  17950.09   \n",
       "\n",
       "      gb_used plan_name  \n",
       "1768     18.0  ultimate  \n",
       "1974      9.0  ultimate  \n",
       "2207     26.0  ultimate  \n",
       "1133     15.0  ultimate  \n",
       "810       1.0      surf  \n",
       "299      22.0      surf  \n",
       "512      25.0      surf  \n",
       "1922     15.0  ultimate  \n",
       "860      11.0  ultimate  \n",
       "1744     18.0  ultimate  "
      ]
     },
     "execution_count": 45,
     "metadata": {},
     "output_type": "execute_result"
    }
   ],
   "source": [
    "user_month_data.rename(columns={'plan':'plan_name'},inplace=True)\n",
    "user_month_data.sample(10)"
   ]
  },
  {
   "cell_type": "code",
   "execution_count": 46,
   "metadata": {
    "id": "5FGCf_c60q1I"
   },
   "outputs": [
    {
     "data": {
      "text/html": [
       "<div>\n",
       "<style scoped>\n",
       "    .dataframe tbody tr th:only-of-type {\n",
       "        vertical-align: middle;\n",
       "    }\n",
       "\n",
       "    .dataframe tbody tr th {\n",
       "        vertical-align: top;\n",
       "    }\n",
       "\n",
       "    .dataframe thead th {\n",
       "        text-align: right;\n",
       "    }\n",
       "</style>\n",
       "<table border=\"1\" class=\"dataframe\">\n",
       "  <thead>\n",
       "    <tr style=\"text-align: right;\">\n",
       "      <th></th>\n",
       "      <th>user_id</th>\n",
       "      <th>month</th>\n",
       "      <th>calls_made</th>\n",
       "      <th>total_duration</th>\n",
       "      <th>total_messages</th>\n",
       "      <th>mb_used</th>\n",
       "      <th>gb_used</th>\n",
       "      <th>plan_name</th>\n",
       "      <th>messages_included</th>\n",
       "      <th>mb_per_month_included</th>\n",
       "      <th>minutes_included</th>\n",
       "      <th>usd_monthly_pay</th>\n",
       "      <th>usd_per_gb</th>\n",
       "      <th>usd_per_message</th>\n",
       "      <th>usd_per_minute</th>\n",
       "      <th>gb_per_month_included</th>\n",
       "    </tr>\n",
       "  </thead>\n",
       "  <tbody>\n",
       "    <tr>\n",
       "      <th>1081</th>\n",
       "      <td>1236</td>\n",
       "      <td>6</td>\n",
       "      <td>67.0</td>\n",
       "      <td>404.44</td>\n",
       "      <td>32.0</td>\n",
       "      <td>18925.44</td>\n",
       "      <td>19.0</td>\n",
       "      <td>ultimate</td>\n",
       "      <td>1000</td>\n",
       "      <td>30720</td>\n",
       "      <td>3000</td>\n",
       "      <td>70</td>\n",
       "      <td>7.0</td>\n",
       "      <td>0.01</td>\n",
       "      <td>0.01</td>\n",
       "      <td>30</td>\n",
       "    </tr>\n",
       "    <tr>\n",
       "      <th>1104</th>\n",
       "      <td>1241</td>\n",
       "      <td>9</td>\n",
       "      <td>72.0</td>\n",
       "      <td>457.15</td>\n",
       "      <td>20.0</td>\n",
       "      <td>9184.64</td>\n",
       "      <td>9.0</td>\n",
       "      <td>surf</td>\n",
       "      <td>50</td>\n",
       "      <td>15360</td>\n",
       "      <td>500</td>\n",
       "      <td>20</td>\n",
       "      <td>10.0</td>\n",
       "      <td>0.03</td>\n",
       "      <td>0.03</td>\n",
       "      <td>15</td>\n",
       "    </tr>\n",
       "    <tr>\n",
       "      <th>1226</th>\n",
       "      <td>1263</td>\n",
       "      <td>9</td>\n",
       "      <td>72.0</td>\n",
       "      <td>524.17</td>\n",
       "      <td>4.0</td>\n",
       "      <td>20920.94</td>\n",
       "      <td>21.0</td>\n",
       "      <td>surf</td>\n",
       "      <td>50</td>\n",
       "      <td>15360</td>\n",
       "      <td>500</td>\n",
       "      <td>20</td>\n",
       "      <td>10.0</td>\n",
       "      <td>0.03</td>\n",
       "      <td>0.03</td>\n",
       "      <td>15</td>\n",
       "    </tr>\n",
       "    <tr>\n",
       "      <th>1817</th>\n",
       "      <td>1399</td>\n",
       "      <td>8</td>\n",
       "      <td>44.0</td>\n",
       "      <td>344.89</td>\n",
       "      <td>27.0</td>\n",
       "      <td>22919.13</td>\n",
       "      <td>23.0</td>\n",
       "      <td>surf</td>\n",
       "      <td>50</td>\n",
       "      <td>15360</td>\n",
       "      <td>500</td>\n",
       "      <td>20</td>\n",
       "      <td>10.0</td>\n",
       "      <td>0.03</td>\n",
       "      <td>0.03</td>\n",
       "      <td>15</td>\n",
       "    </tr>\n",
       "    <tr>\n",
       "      <th>2074</th>\n",
       "      <td>1458</td>\n",
       "      <td>7</td>\n",
       "      <td>5.0</td>\n",
       "      <td>13.95</td>\n",
       "      <td>6.0</td>\n",
       "      <td>4700.98</td>\n",
       "      <td>5.0</td>\n",
       "      <td>ultimate</td>\n",
       "      <td>1000</td>\n",
       "      <td>30720</td>\n",
       "      <td>3000</td>\n",
       "      <td>70</td>\n",
       "      <td>7.0</td>\n",
       "      <td>0.01</td>\n",
       "      <td>0.01</td>\n",
       "      <td>30</td>\n",
       "    </tr>\n",
       "    <tr>\n",
       "      <th>254</th>\n",
       "      <td>1059</td>\n",
       "      <td>6</td>\n",
       "      <td>108.0</td>\n",
       "      <td>706.36</td>\n",
       "      <td>64.0</td>\n",
       "      <td>10894.02</td>\n",
       "      <td>11.0</td>\n",
       "      <td>ultimate</td>\n",
       "      <td>1000</td>\n",
       "      <td>30720</td>\n",
       "      <td>3000</td>\n",
       "      <td>70</td>\n",
       "      <td>7.0</td>\n",
       "      <td>0.01</td>\n",
       "      <td>0.01</td>\n",
       "      <td>30</td>\n",
       "    </tr>\n",
       "    <tr>\n",
       "      <th>1052</th>\n",
       "      <td>1228</td>\n",
       "      <td>10</td>\n",
       "      <td>24.0</td>\n",
       "      <td>174.07</td>\n",
       "      <td>3.0</td>\n",
       "      <td>8786.14</td>\n",
       "      <td>9.0</td>\n",
       "      <td>surf</td>\n",
       "      <td>50</td>\n",
       "      <td>15360</td>\n",
       "      <td>500</td>\n",
       "      <td>20</td>\n",
       "      <td>10.0</td>\n",
       "      <td>0.03</td>\n",
       "      <td>0.03</td>\n",
       "      <td>15</td>\n",
       "    </tr>\n",
       "    <tr>\n",
       "      <th>1645</th>\n",
       "      <td>1362</td>\n",
       "      <td>4</td>\n",
       "      <td>95.0</td>\n",
       "      <td>605.89</td>\n",
       "      <td>42.0</td>\n",
       "      <td>12415.19</td>\n",
       "      <td>13.0</td>\n",
       "      <td>surf</td>\n",
       "      <td>50</td>\n",
       "      <td>15360</td>\n",
       "      <td>500</td>\n",
       "      <td>20</td>\n",
       "      <td>10.0</td>\n",
       "      <td>0.03</td>\n",
       "      <td>0.03</td>\n",
       "      <td>15</td>\n",
       "    </tr>\n",
       "    <tr>\n",
       "      <th>265</th>\n",
       "      <td>1060</td>\n",
       "      <td>12</td>\n",
       "      <td>106.0</td>\n",
       "      <td>749.08</td>\n",
       "      <td>83.0</td>\n",
       "      <td>25061.82</td>\n",
       "      <td>25.0</td>\n",
       "      <td>surf</td>\n",
       "      <td>50</td>\n",
       "      <td>15360</td>\n",
       "      <td>500</td>\n",
       "      <td>20</td>\n",
       "      <td>10.0</td>\n",
       "      <td>0.03</td>\n",
       "      <td>0.03</td>\n",
       "      <td>15</td>\n",
       "    </tr>\n",
       "    <tr>\n",
       "      <th>807</th>\n",
       "      <td>1172</td>\n",
       "      <td>10</td>\n",
       "      <td>76.0</td>\n",
       "      <td>489.30</td>\n",
       "      <td>118.0</td>\n",
       "      <td>35075.21</td>\n",
       "      <td>35.0</td>\n",
       "      <td>surf</td>\n",
       "      <td>50</td>\n",
       "      <td>15360</td>\n",
       "      <td>500</td>\n",
       "      <td>20</td>\n",
       "      <td>10.0</td>\n",
       "      <td>0.03</td>\n",
       "      <td>0.03</td>\n",
       "      <td>15</td>\n",
       "    </tr>\n",
       "  </tbody>\n",
       "</table>\n",
       "</div>"
      ],
      "text/plain": [
       "      user_id  month  calls_made  total_duration  total_messages   mb_used  \\\n",
       "1081     1236      6        67.0          404.44            32.0  18925.44   \n",
       "1104     1241      9        72.0          457.15            20.0   9184.64   \n",
       "1226     1263      9        72.0          524.17             4.0  20920.94   \n",
       "1817     1399      8        44.0          344.89            27.0  22919.13   \n",
       "2074     1458      7         5.0           13.95             6.0   4700.98   \n",
       "254      1059      6       108.0          706.36            64.0  10894.02   \n",
       "1052     1228     10        24.0          174.07             3.0   8786.14   \n",
       "1645     1362      4        95.0          605.89            42.0  12415.19   \n",
       "265      1060     12       106.0          749.08            83.0  25061.82   \n",
       "807      1172     10        76.0          489.30           118.0  35075.21   \n",
       "\n",
       "      gb_used plan_name  messages_included  mb_per_month_included  \\\n",
       "1081     19.0  ultimate               1000                  30720   \n",
       "1104      9.0      surf                 50                  15360   \n",
       "1226     21.0      surf                 50                  15360   \n",
       "1817     23.0      surf                 50                  15360   \n",
       "2074      5.0  ultimate               1000                  30720   \n",
       "254      11.0  ultimate               1000                  30720   \n",
       "1052      9.0      surf                 50                  15360   \n",
       "1645     13.0      surf                 50                  15360   \n",
       "265      25.0      surf                 50                  15360   \n",
       "807      35.0      surf                 50                  15360   \n",
       "\n",
       "      minutes_included  usd_monthly_pay  usd_per_gb  usd_per_message  \\\n",
       "1081              3000               70         7.0             0.01   \n",
       "1104               500               20        10.0             0.03   \n",
       "1226               500               20        10.0             0.03   \n",
       "1817               500               20        10.0             0.03   \n",
       "2074              3000               70         7.0             0.01   \n",
       "254               3000               70         7.0             0.01   \n",
       "1052               500               20        10.0             0.03   \n",
       "1645               500               20        10.0             0.03   \n",
       "265                500               20        10.0             0.03   \n",
       "807                500               20        10.0             0.03   \n",
       "\n",
       "      usd_per_minute  gb_per_month_included  \n",
       "1081            0.01                     30  \n",
       "1104            0.03                     15  \n",
       "1226            0.03                     15  \n",
       "1817            0.03                     15  \n",
       "2074            0.01                     30  \n",
       "254             0.01                     30  \n",
       "1052            0.03                     15  \n",
       "1645            0.03                     15  \n",
       "265             0.03                     15  \n",
       "807             0.03                     15  "
      ]
     },
     "execution_count": 46,
     "metadata": {},
     "output_type": "execute_result"
    }
   ],
   "source": [
    "# Calcula el ingreso mensual para cada usuario\n",
    "user_month_data = user_month_data.merge(plans, on='plan_name', how='left')\n",
    "user_month_data.sample(10)"
   ]
  },
  {
   "cell_type": "code",
   "execution_count": 48,
   "metadata": {},
   "outputs": [],
   "source": [
    "# Calcular los cargos adicionales\n",
    "user_month_data['extra_calls'] = np.maximum(user_month_data['total_duration'] - user_month_data['minutes_included'], 0)\n",
    "user_month_data['extra_messages'] = np.maximum(user_month_data['total_messages'] - user_month_data['messages_included'], 0)\n",
    "user_month_data['extra_data'] = np.maximum(user_month_data['gb_used'] - user_month_data['gb_per_month_included'], 0)\n"
   ]
  },
  {
   "cell_type": "code",
   "execution_count": 56,
   "metadata": {},
   "outputs": [
    {
     "data": {
      "text/html": [
       "<div>\n",
       "<style scoped>\n",
       "    .dataframe tbody tr th:only-of-type {\n",
       "        vertical-align: middle;\n",
       "    }\n",
       "\n",
       "    .dataframe tbody tr th {\n",
       "        vertical-align: top;\n",
       "    }\n",
       "\n",
       "    .dataframe thead th {\n",
       "        text-align: right;\n",
       "    }\n",
       "</style>\n",
       "<table border=\"1\" class=\"dataframe\">\n",
       "  <thead>\n",
       "    <tr style=\"text-align: right;\">\n",
       "      <th></th>\n",
       "      <th>user_id</th>\n",
       "      <th>month</th>\n",
       "      <th>calls_made</th>\n",
       "      <th>total_duration</th>\n",
       "      <th>total_messages</th>\n",
       "      <th>mb_used</th>\n",
       "      <th>gb_used</th>\n",
       "      <th>plan_name</th>\n",
       "      <th>messages_included</th>\n",
       "      <th>mb_per_month_included</th>\n",
       "      <th>minutes_included</th>\n",
       "      <th>usd_monthly_pay</th>\n",
       "      <th>usd_per_gb</th>\n",
       "      <th>usd_per_message</th>\n",
       "      <th>usd_per_minute</th>\n",
       "      <th>gb_per_month_included</th>\n",
       "      <th>extra_calls</th>\n",
       "      <th>extra_messages</th>\n",
       "      <th>extra_data</th>\n",
       "    </tr>\n",
       "  </thead>\n",
       "  <tbody>\n",
       "    <tr>\n",
       "      <th>1333</th>\n",
       "      <td>1293</td>\n",
       "      <td>8</td>\n",
       "      <td>52.0</td>\n",
       "      <td>411.23</td>\n",
       "      <td>50.0</td>\n",
       "      <td>17951.40</td>\n",
       "      <td>18.0</td>\n",
       "      <td>surf</td>\n",
       "      <td>50</td>\n",
       "      <td>15360</td>\n",
       "      <td>500</td>\n",
       "      <td>20</td>\n",
       "      <td>10.0</td>\n",
       "      <td>0.03</td>\n",
       "      <td>0.03</td>\n",
       "      <td>15</td>\n",
       "      <td>0.00</td>\n",
       "      <td>0.0</td>\n",
       "      <td>3.0</td>\n",
       "    </tr>\n",
       "    <tr>\n",
       "      <th>567</th>\n",
       "      <td>1122</td>\n",
       "      <td>11</td>\n",
       "      <td>66.0</td>\n",
       "      <td>350.75</td>\n",
       "      <td>28.0</td>\n",
       "      <td>16862.03</td>\n",
       "      <td>17.0</td>\n",
       "      <td>surf</td>\n",
       "      <td>50</td>\n",
       "      <td>15360</td>\n",
       "      <td>500</td>\n",
       "      <td>20</td>\n",
       "      <td>10.0</td>\n",
       "      <td>0.03</td>\n",
       "      <td>0.03</td>\n",
       "      <td>15</td>\n",
       "      <td>0.00</td>\n",
       "      <td>0.0</td>\n",
       "      <td>2.0</td>\n",
       "    </tr>\n",
       "    <tr>\n",
       "      <th>1236</th>\n",
       "      <td>1264</td>\n",
       "      <td>11</td>\n",
       "      <td>62.0</td>\n",
       "      <td>398.01</td>\n",
       "      <td>65.0</td>\n",
       "      <td>17529.26</td>\n",
       "      <td>18.0</td>\n",
       "      <td>ultimate</td>\n",
       "      <td>1000</td>\n",
       "      <td>30720</td>\n",
       "      <td>3000</td>\n",
       "      <td>70</td>\n",
       "      <td>7.0</td>\n",
       "      <td>0.01</td>\n",
       "      <td>0.01</td>\n",
       "      <td>30</td>\n",
       "      <td>0.00</td>\n",
       "      <td>0.0</td>\n",
       "      <td>0.0</td>\n",
       "    </tr>\n",
       "    <tr>\n",
       "      <th>918</th>\n",
       "      <td>1196</td>\n",
       "      <td>6</td>\n",
       "      <td>89.0</td>\n",
       "      <td>608.07</td>\n",
       "      <td>34.0</td>\n",
       "      <td>24669.37</td>\n",
       "      <td>25.0</td>\n",
       "      <td>ultimate</td>\n",
       "      <td>1000</td>\n",
       "      <td>30720</td>\n",
       "      <td>3000</td>\n",
       "      <td>70</td>\n",
       "      <td>7.0</td>\n",
       "      <td>0.01</td>\n",
       "      <td>0.01</td>\n",
       "      <td>30</td>\n",
       "      <td>0.00</td>\n",
       "      <td>0.0</td>\n",
       "      <td>0.0</td>\n",
       "    </tr>\n",
       "    <tr>\n",
       "      <th>59</th>\n",
       "      <td>1016</td>\n",
       "      <td>10</td>\n",
       "      <td>25.0</td>\n",
       "      <td>162.24</td>\n",
       "      <td>11.0</td>\n",
       "      <td>3669.91</td>\n",
       "      <td>4.0</td>\n",
       "      <td>surf</td>\n",
       "      <td>50</td>\n",
       "      <td>15360</td>\n",
       "      <td>500</td>\n",
       "      <td>20</td>\n",
       "      <td>10.0</td>\n",
       "      <td>0.03</td>\n",
       "      <td>0.03</td>\n",
       "      <td>15</td>\n",
       "      <td>0.00</td>\n",
       "      <td>0.0</td>\n",
       "      <td>0.0</td>\n",
       "    </tr>\n",
       "    <tr>\n",
       "      <th>1065</th>\n",
       "      <td>1232</td>\n",
       "      <td>5</td>\n",
       "      <td>91.0</td>\n",
       "      <td>582.94</td>\n",
       "      <td>2.0</td>\n",
       "      <td>15035.58</td>\n",
       "      <td>15.0</td>\n",
       "      <td>surf</td>\n",
       "      <td>50</td>\n",
       "      <td>15360</td>\n",
       "      <td>500</td>\n",
       "      <td>20</td>\n",
       "      <td>10.0</td>\n",
       "      <td>0.03</td>\n",
       "      <td>0.03</td>\n",
       "      <td>15</td>\n",
       "      <td>82.94</td>\n",
       "      <td>0.0</td>\n",
       "      <td>0.0</td>\n",
       "    </tr>\n",
       "    <tr>\n",
       "      <th>2090</th>\n",
       "      <td>1461</td>\n",
       "      <td>9</td>\n",
       "      <td>21.0</td>\n",
       "      <td>129.97</td>\n",
       "      <td>0.0</td>\n",
       "      <td>5254.08</td>\n",
       "      <td>6.0</td>\n",
       "      <td>surf</td>\n",
       "      <td>50</td>\n",
       "      <td>15360</td>\n",
       "      <td>500</td>\n",
       "      <td>20</td>\n",
       "      <td>10.0</td>\n",
       "      <td>0.03</td>\n",
       "      <td>0.03</td>\n",
       "      <td>15</td>\n",
       "      <td>0.00</td>\n",
       "      <td>0.0</td>\n",
       "      <td>0.0</td>\n",
       "    </tr>\n",
       "    <tr>\n",
       "      <th>1566</th>\n",
       "      <td>1346</td>\n",
       "      <td>9</td>\n",
       "      <td>50.0</td>\n",
       "      <td>398.60</td>\n",
       "      <td>61.0</td>\n",
       "      <td>18006.84</td>\n",
       "      <td>18.0</td>\n",
       "      <td>ultimate</td>\n",
       "      <td>1000</td>\n",
       "      <td>30720</td>\n",
       "      <td>3000</td>\n",
       "      <td>70</td>\n",
       "      <td>7.0</td>\n",
       "      <td>0.01</td>\n",
       "      <td>0.01</td>\n",
       "      <td>30</td>\n",
       "      <td>0.00</td>\n",
       "      <td>0.0</td>\n",
       "      <td>0.0</td>\n",
       "    </tr>\n",
       "    <tr>\n",
       "      <th>2008</th>\n",
       "      <td>1439</td>\n",
       "      <td>10</td>\n",
       "      <td>40.0</td>\n",
       "      <td>294.26</td>\n",
       "      <td>77.0</td>\n",
       "      <td>17702.60</td>\n",
       "      <td>18.0</td>\n",
       "      <td>surf</td>\n",
       "      <td>50</td>\n",
       "      <td>15360</td>\n",
       "      <td>500</td>\n",
       "      <td>20</td>\n",
       "      <td>10.0</td>\n",
       "      <td>0.03</td>\n",
       "      <td>0.03</td>\n",
       "      <td>15</td>\n",
       "      <td>0.00</td>\n",
       "      <td>27.0</td>\n",
       "      <td>3.0</td>\n",
       "    </tr>\n",
       "    <tr>\n",
       "      <th>1616</th>\n",
       "      <td>1358</td>\n",
       "      <td>6</td>\n",
       "      <td>57.0</td>\n",
       "      <td>462.52</td>\n",
       "      <td>3.0</td>\n",
       "      <td>16931.05</td>\n",
       "      <td>17.0</td>\n",
       "      <td>surf</td>\n",
       "      <td>50</td>\n",
       "      <td>15360</td>\n",
       "      <td>500</td>\n",
       "      <td>20</td>\n",
       "      <td>10.0</td>\n",
       "      <td>0.03</td>\n",
       "      <td>0.03</td>\n",
       "      <td>15</td>\n",
       "      <td>0.00</td>\n",
       "      <td>0.0</td>\n",
       "      <td>2.0</td>\n",
       "    </tr>\n",
       "  </tbody>\n",
       "</table>\n",
       "</div>"
      ],
      "text/plain": [
       "      user_id  month  calls_made  total_duration  total_messages   mb_used  \\\n",
       "1333     1293      8        52.0          411.23            50.0  17951.40   \n",
       "567      1122     11        66.0          350.75            28.0  16862.03   \n",
       "1236     1264     11        62.0          398.01            65.0  17529.26   \n",
       "918      1196      6        89.0          608.07            34.0  24669.37   \n",
       "59       1016     10        25.0          162.24            11.0   3669.91   \n",
       "1065     1232      5        91.0          582.94             2.0  15035.58   \n",
       "2090     1461      9        21.0          129.97             0.0   5254.08   \n",
       "1566     1346      9        50.0          398.60            61.0  18006.84   \n",
       "2008     1439     10        40.0          294.26            77.0  17702.60   \n",
       "1616     1358      6        57.0          462.52             3.0  16931.05   \n",
       "\n",
       "      gb_used plan_name  messages_included  mb_per_month_included  \\\n",
       "1333     18.0      surf                 50                  15360   \n",
       "567      17.0      surf                 50                  15360   \n",
       "1236     18.0  ultimate               1000                  30720   \n",
       "918      25.0  ultimate               1000                  30720   \n",
       "59        4.0      surf                 50                  15360   \n",
       "1065     15.0      surf                 50                  15360   \n",
       "2090      6.0      surf                 50                  15360   \n",
       "1566     18.0  ultimate               1000                  30720   \n",
       "2008     18.0      surf                 50                  15360   \n",
       "1616     17.0      surf                 50                  15360   \n",
       "\n",
       "      minutes_included  usd_monthly_pay  usd_per_gb  usd_per_message  \\\n",
       "1333               500               20        10.0             0.03   \n",
       "567                500               20        10.0             0.03   \n",
       "1236              3000               70         7.0             0.01   \n",
       "918               3000               70         7.0             0.01   \n",
       "59                 500               20        10.0             0.03   \n",
       "1065               500               20        10.0             0.03   \n",
       "2090               500               20        10.0             0.03   \n",
       "1566              3000               70         7.0             0.01   \n",
       "2008               500               20        10.0             0.03   \n",
       "1616               500               20        10.0             0.03   \n",
       "\n",
       "      usd_per_minute  gb_per_month_included  extra_calls  extra_messages  \\\n",
       "1333            0.03                     15         0.00             0.0   \n",
       "567             0.03                     15         0.00             0.0   \n",
       "1236            0.01                     30         0.00             0.0   \n",
       "918             0.01                     30         0.00             0.0   \n",
       "59              0.03                     15         0.00             0.0   \n",
       "1065            0.03                     15        82.94             0.0   \n",
       "2090            0.03                     15         0.00             0.0   \n",
       "1566            0.01                     30         0.00             0.0   \n",
       "2008            0.03                     15         0.00            27.0   \n",
       "1616            0.03                     15         0.00             0.0   \n",
       "\n",
       "      extra_data  \n",
       "1333         3.0  \n",
       "567          2.0  \n",
       "1236         0.0  \n",
       "918          0.0  \n",
       "59           0.0  \n",
       "1065         0.0  \n",
       "2090         0.0  \n",
       "1566         0.0  \n",
       "2008         3.0  \n",
       "1616         2.0  "
      ]
     },
     "execution_count": 56,
     "metadata": {},
     "output_type": "execute_result"
    }
   ],
   "source": [
    "user_month_data.sample(10)"
   ]
  },
  {
   "cell_type": "code",
   "execution_count": 57,
   "metadata": {},
   "outputs": [
    {
     "data": {
      "text/plain": [
       "266.0"
      ]
     },
     "execution_count": 57,
     "metadata": {},
     "output_type": "execute_result"
    }
   ],
   "source": [
    "user_month_data['total_messages'].max()"
   ]
  },
  {
   "cell_type": "code",
   "execution_count": 59,
   "metadata": {},
   "outputs": [],
   "source": [
    "# Calcular los costos adicionales\n",
    "user_month_data['cost_extra_calls'] = user_month_data['usd_per_minute']*user_month_data['extra_calls']\n",
    "user_month_data['cost_extra_messages'] = user_month_data['usd_per_message']*user_month_data['extra_messages']\n",
    "user_month_data['cost_extra_internet'] = user_month_data['usd_per_gb']*user_month_data['extra_data']"
   ]
  },
  {
   "cell_type": "code",
   "execution_count": 60,
   "metadata": {},
   "outputs": [
    {
     "data": {
      "text/html": [
       "<div>\n",
       "<style scoped>\n",
       "    .dataframe tbody tr th:only-of-type {\n",
       "        vertical-align: middle;\n",
       "    }\n",
       "\n",
       "    .dataframe tbody tr th {\n",
       "        vertical-align: top;\n",
       "    }\n",
       "\n",
       "    .dataframe thead th {\n",
       "        text-align: right;\n",
       "    }\n",
       "</style>\n",
       "<table border=\"1\" class=\"dataframe\">\n",
       "  <thead>\n",
       "    <tr style=\"text-align: right;\">\n",
       "      <th></th>\n",
       "      <th>user_id</th>\n",
       "      <th>month</th>\n",
       "      <th>calls_made</th>\n",
       "      <th>total_duration</th>\n",
       "      <th>total_messages</th>\n",
       "      <th>mb_used</th>\n",
       "      <th>gb_used</th>\n",
       "      <th>plan_name</th>\n",
       "      <th>messages_included</th>\n",
       "      <th>mb_per_month_included</th>\n",
       "      <th>...</th>\n",
       "      <th>usd_per_gb</th>\n",
       "      <th>usd_per_message</th>\n",
       "      <th>usd_per_minute</th>\n",
       "      <th>gb_per_month_included</th>\n",
       "      <th>extra_calls</th>\n",
       "      <th>extra_messages</th>\n",
       "      <th>extra_data</th>\n",
       "      <th>cost_extra_calls</th>\n",
       "      <th>cost_extra_messages</th>\n",
       "      <th>cost_extra_internet</th>\n",
       "    </tr>\n",
       "  </thead>\n",
       "  <tbody>\n",
       "    <tr>\n",
       "      <th>774</th>\n",
       "      <td>1165</td>\n",
       "      <td>11</td>\n",
       "      <td>22.0</td>\n",
       "      <td>114.98</td>\n",
       "      <td>42.0</td>\n",
       "      <td>18911.25</td>\n",
       "      <td>19.0</td>\n",
       "      <td>surf</td>\n",
       "      <td>50</td>\n",
       "      <td>15360</td>\n",
       "      <td>...</td>\n",
       "      <td>10.0</td>\n",
       "      <td>0.03</td>\n",
       "      <td>0.03</td>\n",
       "      <td>15</td>\n",
       "      <td>0.00</td>\n",
       "      <td>0.0</td>\n",
       "      <td>4.0</td>\n",
       "      <td>0.0000</td>\n",
       "      <td>0.00</td>\n",
       "      <td>40.0</td>\n",
       "    </tr>\n",
       "    <tr>\n",
       "      <th>1110</th>\n",
       "      <td>1242</td>\n",
       "      <td>12</td>\n",
       "      <td>31.0</td>\n",
       "      <td>219.84</td>\n",
       "      <td>64.0</td>\n",
       "      <td>9810.87</td>\n",
       "      <td>10.0</td>\n",
       "      <td>surf</td>\n",
       "      <td>50</td>\n",
       "      <td>15360</td>\n",
       "      <td>...</td>\n",
       "      <td>10.0</td>\n",
       "      <td>0.03</td>\n",
       "      <td>0.03</td>\n",
       "      <td>15</td>\n",
       "      <td>0.00</td>\n",
       "      <td>14.0</td>\n",
       "      <td>0.0</td>\n",
       "      <td>0.0000</td>\n",
       "      <td>0.42</td>\n",
       "      <td>0.0</td>\n",
       "    </tr>\n",
       "    <tr>\n",
       "      <th>2042</th>\n",
       "      <td>1447</td>\n",
       "      <td>12</td>\n",
       "      <td>85.0</td>\n",
       "      <td>552.38</td>\n",
       "      <td>71.0</td>\n",
       "      <td>37464.81</td>\n",
       "      <td>37.0</td>\n",
       "      <td>surf</td>\n",
       "      <td>50</td>\n",
       "      <td>15360</td>\n",
       "      <td>...</td>\n",
       "      <td>10.0</td>\n",
       "      <td>0.03</td>\n",
       "      <td>0.03</td>\n",
       "      <td>15</td>\n",
       "      <td>52.38</td>\n",
       "      <td>21.0</td>\n",
       "      <td>22.0</td>\n",
       "      <td>1.5714</td>\n",
       "      <td>0.63</td>\n",
       "      <td>220.0</td>\n",
       "    </tr>\n",
       "    <tr>\n",
       "      <th>1319</th>\n",
       "      <td>1291</td>\n",
       "      <td>5</td>\n",
       "      <td>79.0</td>\n",
       "      <td>529.04</td>\n",
       "      <td>11.0</td>\n",
       "      <td>14019.73</td>\n",
       "      <td>14.0</td>\n",
       "      <td>surf</td>\n",
       "      <td>50</td>\n",
       "      <td>15360</td>\n",
       "      <td>...</td>\n",
       "      <td>10.0</td>\n",
       "      <td>0.03</td>\n",
       "      <td>0.03</td>\n",
       "      <td>15</td>\n",
       "      <td>29.04</td>\n",
       "      <td>0.0</td>\n",
       "      <td>0.0</td>\n",
       "      <td>0.8712</td>\n",
       "      <td>0.00</td>\n",
       "      <td>0.0</td>\n",
       "    </tr>\n",
       "    <tr>\n",
       "      <th>1847</th>\n",
       "      <td>1403</td>\n",
       "      <td>9</td>\n",
       "      <td>27.0</td>\n",
       "      <td>203.03</td>\n",
       "      <td>0.0</td>\n",
       "      <td>35206.68</td>\n",
       "      <td>35.0</td>\n",
       "      <td>ultimate</td>\n",
       "      <td>1000</td>\n",
       "      <td>30720</td>\n",
       "      <td>...</td>\n",
       "      <td>7.0</td>\n",
       "      <td>0.01</td>\n",
       "      <td>0.01</td>\n",
       "      <td>30</td>\n",
       "      <td>0.00</td>\n",
       "      <td>0.0</td>\n",
       "      <td>5.0</td>\n",
       "      <td>0.0000</td>\n",
       "      <td>0.00</td>\n",
       "      <td>35.0</td>\n",
       "    </tr>\n",
       "    <tr>\n",
       "      <th>1243</th>\n",
       "      <td>1268</td>\n",
       "      <td>3</td>\n",
       "      <td>48.0</td>\n",
       "      <td>287.75</td>\n",
       "      <td>10.0</td>\n",
       "      <td>19992.19</td>\n",
       "      <td>20.0</td>\n",
       "      <td>surf</td>\n",
       "      <td>50</td>\n",
       "      <td>15360</td>\n",
       "      <td>...</td>\n",
       "      <td>10.0</td>\n",
       "      <td>0.03</td>\n",
       "      <td>0.03</td>\n",
       "      <td>15</td>\n",
       "      <td>0.00</td>\n",
       "      <td>0.0</td>\n",
       "      <td>5.0</td>\n",
       "      <td>0.0000</td>\n",
       "      <td>0.00</td>\n",
       "      <td>50.0</td>\n",
       "    </tr>\n",
       "    <tr>\n",
       "      <th>1694</th>\n",
       "      <td>1370</td>\n",
       "      <td>12</td>\n",
       "      <td>93.0</td>\n",
       "      <td>671.37</td>\n",
       "      <td>30.0</td>\n",
       "      <td>14854.91</td>\n",
       "      <td>15.0</td>\n",
       "      <td>ultimate</td>\n",
       "      <td>1000</td>\n",
       "      <td>30720</td>\n",
       "      <td>...</td>\n",
       "      <td>7.0</td>\n",
       "      <td>0.01</td>\n",
       "      <td>0.01</td>\n",
       "      <td>30</td>\n",
       "      <td>0.00</td>\n",
       "      <td>0.0</td>\n",
       "      <td>0.0</td>\n",
       "      <td>0.0000</td>\n",
       "      <td>0.00</td>\n",
       "      <td>0.0</td>\n",
       "    </tr>\n",
       "    <tr>\n",
       "      <th>2181</th>\n",
       "      <td>1483</td>\n",
       "      <td>7</td>\n",
       "      <td>96.0</td>\n",
       "      <td>639.00</td>\n",
       "      <td>10.0</td>\n",
       "      <td>13573.80</td>\n",
       "      <td>14.0</td>\n",
       "      <td>surf</td>\n",
       "      <td>50</td>\n",
       "      <td>15360</td>\n",
       "      <td>...</td>\n",
       "      <td>10.0</td>\n",
       "      <td>0.03</td>\n",
       "      <td>0.03</td>\n",
       "      <td>15</td>\n",
       "      <td>139.00</td>\n",
       "      <td>0.0</td>\n",
       "      <td>0.0</td>\n",
       "      <td>4.1700</td>\n",
       "      <td>0.00</td>\n",
       "      <td>0.0</td>\n",
       "    </tr>\n",
       "    <tr>\n",
       "      <th>884</th>\n",
       "      <td>1188</td>\n",
       "      <td>10</td>\n",
       "      <td>48.0</td>\n",
       "      <td>321.75</td>\n",
       "      <td>43.0</td>\n",
       "      <td>20608.20</td>\n",
       "      <td>21.0</td>\n",
       "      <td>ultimate</td>\n",
       "      <td>1000</td>\n",
       "      <td>30720</td>\n",
       "      <td>...</td>\n",
       "      <td>7.0</td>\n",
       "      <td>0.01</td>\n",
       "      <td>0.01</td>\n",
       "      <td>30</td>\n",
       "      <td>0.00</td>\n",
       "      <td>0.0</td>\n",
       "      <td>0.0</td>\n",
       "      <td>0.0000</td>\n",
       "      <td>0.00</td>\n",
       "      <td>0.0</td>\n",
       "    </tr>\n",
       "    <tr>\n",
       "      <th>869</th>\n",
       "      <td>1185</td>\n",
       "      <td>9</td>\n",
       "      <td>73.0</td>\n",
       "      <td>559.86</td>\n",
       "      <td>0.0</td>\n",
       "      <td>23561.83</td>\n",
       "      <td>24.0</td>\n",
       "      <td>ultimate</td>\n",
       "      <td>1000</td>\n",
       "      <td>30720</td>\n",
       "      <td>...</td>\n",
       "      <td>7.0</td>\n",
       "      <td>0.01</td>\n",
       "      <td>0.01</td>\n",
       "      <td>30</td>\n",
       "      <td>0.00</td>\n",
       "      <td>0.0</td>\n",
       "      <td>0.0</td>\n",
       "      <td>0.0000</td>\n",
       "      <td>0.00</td>\n",
       "      <td>0.0</td>\n",
       "    </tr>\n",
       "  </tbody>\n",
       "</table>\n",
       "<p>10 rows × 22 columns</p>\n",
       "</div>"
      ],
      "text/plain": [
       "      user_id  month  calls_made  total_duration  total_messages   mb_used  \\\n",
       "774      1165     11        22.0          114.98            42.0  18911.25   \n",
       "1110     1242     12        31.0          219.84            64.0   9810.87   \n",
       "2042     1447     12        85.0          552.38            71.0  37464.81   \n",
       "1319     1291      5        79.0          529.04            11.0  14019.73   \n",
       "1847     1403      9        27.0          203.03             0.0  35206.68   \n",
       "1243     1268      3        48.0          287.75            10.0  19992.19   \n",
       "1694     1370     12        93.0          671.37            30.0  14854.91   \n",
       "2181     1483      7        96.0          639.00            10.0  13573.80   \n",
       "884      1188     10        48.0          321.75            43.0  20608.20   \n",
       "869      1185      9        73.0          559.86             0.0  23561.83   \n",
       "\n",
       "      gb_used plan_name  messages_included  mb_per_month_included  ...  \\\n",
       "774      19.0      surf                 50                  15360  ...   \n",
       "1110     10.0      surf                 50                  15360  ...   \n",
       "2042     37.0      surf                 50                  15360  ...   \n",
       "1319     14.0      surf                 50                  15360  ...   \n",
       "1847     35.0  ultimate               1000                  30720  ...   \n",
       "1243     20.0      surf                 50                  15360  ...   \n",
       "1694     15.0  ultimate               1000                  30720  ...   \n",
       "2181     14.0      surf                 50                  15360  ...   \n",
       "884      21.0  ultimate               1000                  30720  ...   \n",
       "869      24.0  ultimate               1000                  30720  ...   \n",
       "\n",
       "      usd_per_gb  usd_per_message  usd_per_minute  gb_per_month_included  \\\n",
       "774         10.0             0.03            0.03                     15   \n",
       "1110        10.0             0.03            0.03                     15   \n",
       "2042        10.0             0.03            0.03                     15   \n",
       "1319        10.0             0.03            0.03                     15   \n",
       "1847         7.0             0.01            0.01                     30   \n",
       "1243        10.0             0.03            0.03                     15   \n",
       "1694         7.0             0.01            0.01                     30   \n",
       "2181        10.0             0.03            0.03                     15   \n",
       "884          7.0             0.01            0.01                     30   \n",
       "869          7.0             0.01            0.01                     30   \n",
       "\n",
       "      extra_calls  extra_messages  extra_data  cost_extra_calls  \\\n",
       "774          0.00             0.0         4.0            0.0000   \n",
       "1110         0.00            14.0         0.0            0.0000   \n",
       "2042        52.38            21.0        22.0            1.5714   \n",
       "1319        29.04             0.0         0.0            0.8712   \n",
       "1847         0.00             0.0         5.0            0.0000   \n",
       "1243         0.00             0.0         5.0            0.0000   \n",
       "1694         0.00             0.0         0.0            0.0000   \n",
       "2181       139.00             0.0         0.0            4.1700   \n",
       "884          0.00             0.0         0.0            0.0000   \n",
       "869          0.00             0.0         0.0            0.0000   \n",
       "\n",
       "      cost_extra_messages  cost_extra_internet  \n",
       "774                  0.00                 40.0  \n",
       "1110                 0.42                  0.0  \n",
       "2042                 0.63                220.0  \n",
       "1319                 0.00                  0.0  \n",
       "1847                 0.00                 35.0  \n",
       "1243                 0.00                 50.0  \n",
       "1694                 0.00                  0.0  \n",
       "2181                 0.00                  0.0  \n",
       "884                  0.00                  0.0  \n",
       "869                  0.00                  0.0  \n",
       "\n",
       "[10 rows x 22 columns]"
      ]
     },
     "execution_count": 60,
     "metadata": {},
     "output_type": "execute_result"
    }
   ],
   "source": [
    "user_month_data.sample(10)"
   ]
  },
  {
   "cell_type": "code",
   "execution_count": 61,
   "metadata": {},
   "outputs": [
    {
     "data": {
      "text/html": [
       "<div>\n",
       "<style scoped>\n",
       "    .dataframe tbody tr th:only-of-type {\n",
       "        vertical-align: middle;\n",
       "    }\n",
       "\n",
       "    .dataframe tbody tr th {\n",
       "        vertical-align: top;\n",
       "    }\n",
       "\n",
       "    .dataframe thead th {\n",
       "        text-align: right;\n",
       "    }\n",
       "</style>\n",
       "<table border=\"1\" class=\"dataframe\">\n",
       "  <thead>\n",
       "    <tr style=\"text-align: right;\">\n",
       "      <th></th>\n",
       "      <th>user_id</th>\n",
       "      <th>month</th>\n",
       "      <th>calls_made</th>\n",
       "      <th>total_duration</th>\n",
       "      <th>total_messages</th>\n",
       "      <th>mb_used</th>\n",
       "      <th>gb_used</th>\n",
       "      <th>plan_name</th>\n",
       "      <th>messages_included</th>\n",
       "      <th>mb_per_month_included</th>\n",
       "      <th>...</th>\n",
       "      <th>usd_per_message</th>\n",
       "      <th>usd_per_minute</th>\n",
       "      <th>gb_per_month_included</th>\n",
       "      <th>extra_calls</th>\n",
       "      <th>extra_messages</th>\n",
       "      <th>extra_data</th>\n",
       "      <th>cost_extra_calls</th>\n",
       "      <th>cost_extra_messages</th>\n",
       "      <th>cost_extra_internet</th>\n",
       "      <th>monthly_revenue</th>\n",
       "    </tr>\n",
       "  </thead>\n",
       "  <tbody>\n",
       "    <tr>\n",
       "      <th>431</th>\n",
       "      <td>1093</td>\n",
       "      <td>12</td>\n",
       "      <td>37.0</td>\n",
       "      <td>230.96</td>\n",
       "      <td>17.0</td>\n",
       "      <td>4837.79</td>\n",
       "      <td>5.0</td>\n",
       "      <td>surf</td>\n",
       "      <td>50</td>\n",
       "      <td>15360</td>\n",
       "      <td>...</td>\n",
       "      <td>0.03</td>\n",
       "      <td>0.03</td>\n",
       "      <td>15</td>\n",
       "      <td>0.00</td>\n",
       "      <td>0.0</td>\n",
       "      <td>0.0</td>\n",
       "      <td>0.0000</td>\n",
       "      <td>0.00</td>\n",
       "      <td>0.0</td>\n",
       "      <td>20.0000</td>\n",
       "    </tr>\n",
       "    <tr>\n",
       "      <th>1854</th>\n",
       "      <td>1404</td>\n",
       "      <td>11</td>\n",
       "      <td>81.0</td>\n",
       "      <td>559.77</td>\n",
       "      <td>12.0</td>\n",
       "      <td>13897.07</td>\n",
       "      <td>14.0</td>\n",
       "      <td>surf</td>\n",
       "      <td>50</td>\n",
       "      <td>15360</td>\n",
       "      <td>...</td>\n",
       "      <td>0.03</td>\n",
       "      <td>0.03</td>\n",
       "      <td>15</td>\n",
       "      <td>59.77</td>\n",
       "      <td>0.0</td>\n",
       "      <td>0.0</td>\n",
       "      <td>1.7931</td>\n",
       "      <td>0.00</td>\n",
       "      <td>0.0</td>\n",
       "      <td>21.7931</td>\n",
       "    </tr>\n",
       "    <tr>\n",
       "      <th>1878</th>\n",
       "      <td>1408</td>\n",
       "      <td>5</td>\n",
       "      <td>64.0</td>\n",
       "      <td>425.25</td>\n",
       "      <td>32.0</td>\n",
       "      <td>12856.42</td>\n",
       "      <td>13.0</td>\n",
       "      <td>surf</td>\n",
       "      <td>50</td>\n",
       "      <td>15360</td>\n",
       "      <td>...</td>\n",
       "      <td>0.03</td>\n",
       "      <td>0.03</td>\n",
       "      <td>15</td>\n",
       "      <td>0.00</td>\n",
       "      <td>0.0</td>\n",
       "      <td>0.0</td>\n",
       "      <td>0.0000</td>\n",
       "      <td>0.00</td>\n",
       "      <td>0.0</td>\n",
       "      <td>20.0000</td>\n",
       "    </tr>\n",
       "    <tr>\n",
       "      <th>1915</th>\n",
       "      <td>1415</td>\n",
       "      <td>12</td>\n",
       "      <td>70.0</td>\n",
       "      <td>464.82</td>\n",
       "      <td>0.0</td>\n",
       "      <td>20537.11</td>\n",
       "      <td>21.0</td>\n",
       "      <td>surf</td>\n",
       "      <td>50</td>\n",
       "      <td>15360</td>\n",
       "      <td>...</td>\n",
       "      <td>0.03</td>\n",
       "      <td>0.03</td>\n",
       "      <td>15</td>\n",
       "      <td>0.00</td>\n",
       "      <td>0.0</td>\n",
       "      <td>6.0</td>\n",
       "      <td>0.0000</td>\n",
       "      <td>0.00</td>\n",
       "      <td>60.0</td>\n",
       "      <td>80.0000</td>\n",
       "    </tr>\n",
       "    <tr>\n",
       "      <th>2008</th>\n",
       "      <td>1439</td>\n",
       "      <td>10</td>\n",
       "      <td>40.0</td>\n",
       "      <td>294.26</td>\n",
       "      <td>77.0</td>\n",
       "      <td>17702.60</td>\n",
       "      <td>18.0</td>\n",
       "      <td>surf</td>\n",
       "      <td>50</td>\n",
       "      <td>15360</td>\n",
       "      <td>...</td>\n",
       "      <td>0.03</td>\n",
       "      <td>0.03</td>\n",
       "      <td>15</td>\n",
       "      <td>0.00</td>\n",
       "      <td>27.0</td>\n",
       "      <td>3.0</td>\n",
       "      <td>0.0000</td>\n",
       "      <td>0.81</td>\n",
       "      <td>30.0</td>\n",
       "      <td>50.8100</td>\n",
       "    </tr>\n",
       "    <tr>\n",
       "      <th>1656</th>\n",
       "      <td>1363</td>\n",
       "      <td>11</td>\n",
       "      <td>39.0</td>\n",
       "      <td>245.75</td>\n",
       "      <td>34.0</td>\n",
       "      <td>16635.67</td>\n",
       "      <td>17.0</td>\n",
       "      <td>ultimate</td>\n",
       "      <td>1000</td>\n",
       "      <td>30720</td>\n",
       "      <td>...</td>\n",
       "      <td>0.01</td>\n",
       "      <td>0.01</td>\n",
       "      <td>30</td>\n",
       "      <td>0.00</td>\n",
       "      <td>0.0</td>\n",
       "      <td>0.0</td>\n",
       "      <td>0.0000</td>\n",
       "      <td>0.00</td>\n",
       "      <td>0.0</td>\n",
       "      <td>70.0000</td>\n",
       "    </tr>\n",
       "    <tr>\n",
       "      <th>80</th>\n",
       "      <td>1022</td>\n",
       "      <td>10</td>\n",
       "      <td>83.0</td>\n",
       "      <td>544.05</td>\n",
       "      <td>0.0</td>\n",
       "      <td>18961.41</td>\n",
       "      <td>19.0</td>\n",
       "      <td>surf</td>\n",
       "      <td>50</td>\n",
       "      <td>15360</td>\n",
       "      <td>...</td>\n",
       "      <td>0.03</td>\n",
       "      <td>0.03</td>\n",
       "      <td>15</td>\n",
       "      <td>44.05</td>\n",
       "      <td>0.0</td>\n",
       "      <td>4.0</td>\n",
       "      <td>1.3215</td>\n",
       "      <td>0.00</td>\n",
       "      <td>40.0</td>\n",
       "      <td>61.3215</td>\n",
       "    </tr>\n",
       "    <tr>\n",
       "      <th>1679</th>\n",
       "      <td>1367</td>\n",
       "      <td>11</td>\n",
       "      <td>20.0</td>\n",
       "      <td>97.13</td>\n",
       "      <td>0.0</td>\n",
       "      <td>17176.25</td>\n",
       "      <td>17.0</td>\n",
       "      <td>surf</td>\n",
       "      <td>50</td>\n",
       "      <td>15360</td>\n",
       "      <td>...</td>\n",
       "      <td>0.03</td>\n",
       "      <td>0.03</td>\n",
       "      <td>15</td>\n",
       "      <td>0.00</td>\n",
       "      <td>0.0</td>\n",
       "      <td>2.0</td>\n",
       "      <td>0.0000</td>\n",
       "      <td>0.00</td>\n",
       "      <td>20.0</td>\n",
       "      <td>40.0000</td>\n",
       "    </tr>\n",
       "    <tr>\n",
       "      <th>1771</th>\n",
       "      <td>1389</td>\n",
       "      <td>10</td>\n",
       "      <td>69.0</td>\n",
       "      <td>488.33</td>\n",
       "      <td>0.0</td>\n",
       "      <td>20259.49</td>\n",
       "      <td>20.0</td>\n",
       "      <td>ultimate</td>\n",
       "      <td>1000</td>\n",
       "      <td>30720</td>\n",
       "      <td>...</td>\n",
       "      <td>0.01</td>\n",
       "      <td>0.01</td>\n",
       "      <td>30</td>\n",
       "      <td>0.00</td>\n",
       "      <td>0.0</td>\n",
       "      <td>0.0</td>\n",
       "      <td>0.0000</td>\n",
       "      <td>0.00</td>\n",
       "      <td>0.0</td>\n",
       "      <td>70.0000</td>\n",
       "    </tr>\n",
       "    <tr>\n",
       "      <th>193</th>\n",
       "      <td>1048</td>\n",
       "      <td>11</td>\n",
       "      <td>39.0</td>\n",
       "      <td>245.10</td>\n",
       "      <td>0.0</td>\n",
       "      <td>10699.55</td>\n",
       "      <td>11.0</td>\n",
       "      <td>surf</td>\n",
       "      <td>50</td>\n",
       "      <td>15360</td>\n",
       "      <td>...</td>\n",
       "      <td>0.03</td>\n",
       "      <td>0.03</td>\n",
       "      <td>15</td>\n",
       "      <td>0.00</td>\n",
       "      <td>0.0</td>\n",
       "      <td>0.0</td>\n",
       "      <td>0.0000</td>\n",
       "      <td>0.00</td>\n",
       "      <td>0.0</td>\n",
       "      <td>20.0000</td>\n",
       "    </tr>\n",
       "  </tbody>\n",
       "</table>\n",
       "<p>10 rows × 23 columns</p>\n",
       "</div>"
      ],
      "text/plain": [
       "      user_id  month  calls_made  total_duration  total_messages   mb_used  \\\n",
       "431      1093     12        37.0          230.96            17.0   4837.79   \n",
       "1854     1404     11        81.0          559.77            12.0  13897.07   \n",
       "1878     1408      5        64.0          425.25            32.0  12856.42   \n",
       "1915     1415     12        70.0          464.82             0.0  20537.11   \n",
       "2008     1439     10        40.0          294.26            77.0  17702.60   \n",
       "1656     1363     11        39.0          245.75            34.0  16635.67   \n",
       "80       1022     10        83.0          544.05             0.0  18961.41   \n",
       "1679     1367     11        20.0           97.13             0.0  17176.25   \n",
       "1771     1389     10        69.0          488.33             0.0  20259.49   \n",
       "193      1048     11        39.0          245.10             0.0  10699.55   \n",
       "\n",
       "      gb_used plan_name  messages_included  mb_per_month_included  ...  \\\n",
       "431       5.0      surf                 50                  15360  ...   \n",
       "1854     14.0      surf                 50                  15360  ...   \n",
       "1878     13.0      surf                 50                  15360  ...   \n",
       "1915     21.0      surf                 50                  15360  ...   \n",
       "2008     18.0      surf                 50                  15360  ...   \n",
       "1656     17.0  ultimate               1000                  30720  ...   \n",
       "80       19.0      surf                 50                  15360  ...   \n",
       "1679     17.0      surf                 50                  15360  ...   \n",
       "1771     20.0  ultimate               1000                  30720  ...   \n",
       "193      11.0      surf                 50                  15360  ...   \n",
       "\n",
       "      usd_per_message  usd_per_minute  gb_per_month_included  extra_calls  \\\n",
       "431              0.03            0.03                     15         0.00   \n",
       "1854             0.03            0.03                     15        59.77   \n",
       "1878             0.03            0.03                     15         0.00   \n",
       "1915             0.03            0.03                     15         0.00   \n",
       "2008             0.03            0.03                     15         0.00   \n",
       "1656             0.01            0.01                     30         0.00   \n",
       "80               0.03            0.03                     15        44.05   \n",
       "1679             0.03            0.03                     15         0.00   \n",
       "1771             0.01            0.01                     30         0.00   \n",
       "193              0.03            0.03                     15         0.00   \n",
       "\n",
       "      extra_messages  extra_data  cost_extra_calls  cost_extra_messages  \\\n",
       "431              0.0         0.0            0.0000                 0.00   \n",
       "1854             0.0         0.0            1.7931                 0.00   \n",
       "1878             0.0         0.0            0.0000                 0.00   \n",
       "1915             0.0         6.0            0.0000                 0.00   \n",
       "2008            27.0         3.0            0.0000                 0.81   \n",
       "1656             0.0         0.0            0.0000                 0.00   \n",
       "80               0.0         4.0            1.3215                 0.00   \n",
       "1679             0.0         2.0            0.0000                 0.00   \n",
       "1771             0.0         0.0            0.0000                 0.00   \n",
       "193              0.0         0.0            0.0000                 0.00   \n",
       "\n",
       "      cost_extra_internet  monthly_revenue  \n",
       "431                   0.0          20.0000  \n",
       "1854                  0.0          21.7931  \n",
       "1878                  0.0          20.0000  \n",
       "1915                 60.0          80.0000  \n",
       "2008                 30.0          50.8100  \n",
       "1656                  0.0          70.0000  \n",
       "80                   40.0          61.3215  \n",
       "1679                 20.0          40.0000  \n",
       "1771                  0.0          70.0000  \n",
       "193                   0.0          20.0000  \n",
       "\n",
       "[10 rows x 23 columns]"
      ]
     },
     "execution_count": 61,
     "metadata": {},
     "output_type": "execute_result"
    }
   ],
   "source": [
    "# Calcular el ingreso mensual total\n",
    "user_month_data['monthly_revenue'] = (\n",
    "    user_month_data['usd_monthly_pay'] + \n",
    "    user_month_data['cost_extra_calls'] + \n",
    "    user_month_data['cost_extra_messages'] + \n",
    "    user_month_data['cost_extra_internet']\n",
    ")\n",
    "user_month_data.sample(10)"
   ]
  },
  {
   "cell_type": "markdown",
   "metadata": {
    "id": "-jtyHzJb0q1I"
   },
   "source": [
    "## Estudiar el comportamiento de usuario"
   ]
  },
  {
   "cell_type": "markdown",
   "metadata": {
    "id": "vtW4CJEe0q1J"
   },
   "source": [
    "### Llamadas"
   ]
  },
  {
   "cell_type": "code",
   "execution_count": null,
   "metadata": {
    "id": "Jf5v5--k0q1J"
   },
   "outputs": [
    {
     "data": {
      "text/html": [
       "<div>\n",
       "<style scoped>\n",
       "    .dataframe tbody tr th:only-of-type {\n",
       "        vertical-align: middle;\n",
       "    }\n",
       "\n",
       "    .dataframe tbody tr th {\n",
       "        vertical-align: top;\n",
       "    }\n",
       "\n",
       "    .dataframe thead th {\n",
       "        text-align: right;\n",
       "    }\n",
       "</style>\n",
       "<table border=\"1\" class=\"dataframe\">\n",
       "  <thead>\n",
       "    <tr style=\"text-align: right;\">\n",
       "      <th>month</th>\n",
       "      <th>1</th>\n",
       "      <th>2</th>\n",
       "      <th>3</th>\n",
       "      <th>4</th>\n",
       "      <th>5</th>\n",
       "      <th>6</th>\n",
       "      <th>7</th>\n",
       "      <th>8</th>\n",
       "      <th>9</th>\n",
       "      <th>10</th>\n",
       "      <th>11</th>\n",
       "      <th>12</th>\n",
       "    </tr>\n",
       "    <tr>\n",
       "      <th>plan_name</th>\n",
       "      <th></th>\n",
       "      <th></th>\n",
       "      <th></th>\n",
       "      <th></th>\n",
       "      <th></th>\n",
       "      <th></th>\n",
       "      <th></th>\n",
       "      <th></th>\n",
       "      <th></th>\n",
       "      <th></th>\n",
       "      <th></th>\n",
       "      <th></th>\n",
       "    </tr>\n",
       "  </thead>\n",
       "  <tbody>\n",
       "    <tr>\n",
       "      <th>surf</th>\n",
       "      <td>6.287143</td>\n",
       "      <td>6.442666</td>\n",
       "      <td>6.790425</td>\n",
       "      <td>6.655936</td>\n",
       "      <td>6.776897</td>\n",
       "      <td>6.803752</td>\n",
       "      <td>6.624139</td>\n",
       "      <td>6.727283</td>\n",
       "      <td>6.724899</td>\n",
       "      <td>6.705625</td>\n",
       "      <td>6.836930</td>\n",
       "      <td>6.815646</td>\n",
       "    </tr>\n",
       "    <tr>\n",
       "      <th>ultimate</th>\n",
       "      <td>5.847181</td>\n",
       "      <td>6.665898</td>\n",
       "      <td>5.999978</td>\n",
       "      <td>6.778641</td>\n",
       "      <td>6.731554</td>\n",
       "      <td>6.708107</td>\n",
       "      <td>6.927112</td>\n",
       "      <td>6.617208</td>\n",
       "      <td>6.720835</td>\n",
       "      <td>6.687726</td>\n",
       "      <td>6.631094</td>\n",
       "      <td>6.661323</td>\n",
       "    </tr>\n",
       "  </tbody>\n",
       "</table>\n",
       "</div>"
      ],
      "text/plain": [
       "month            1         2         3         4         5         6   \\\n",
       "plan_name                                                               \n",
       "surf       6.287143  6.442666  6.790425  6.655936  6.776897  6.803752   \n",
       "ultimate   5.847181  6.665898  5.999978  6.778641  6.731554  6.708107   \n",
       "\n",
       "month            7         8         9         10        11        12  \n",
       "plan_name                                                              \n",
       "surf       6.624139  6.727283  6.724899  6.705625  6.836930  6.815646  \n",
       "ultimate   6.927112  6.617208  6.720835  6.687726  6.631094  6.661323  "
      ]
     },
     "execution_count": 62,
     "metadata": {},
     "output_type": "execute_result"
    }
   ],
   "source": [
    "# Agregar columna avg_call_duration y hacer tabla dinámica\n",
    "user_month_data['avg_call_duration'] = user_month_data['total_duration'] / user_month_data['calls_made']\n",
    "pivot_data = user_month_data.pivot_table(\n",
    "    index='plan_name',\n",
    "    columns='month',\n",
    "    values='avg_call_duration',\n",
    "    aggfunc='mean')\n",
    "pivot_data"
   ]
  },
  {
   "cell_type": "code",
   "execution_count": null,
   "metadata": {},
   "outputs": [
    {
     "data": {
      "image/png": "[encoded data removed]",
      "text/plain": [
       "<Figure size 1200x600 with 1 Axes>"
      ]
     },
     "metadata": {},
     "output_type": "display_data"
    }
   ],
   "source": [
    "# Graficar tabla dinámica\n",
    "pivot_data.plot(kind='bar', figsize=(12, 6))\n",
    "\n",
    "plt.title('Duración Promedio de Llamadas por Plan y Mes')\n",
    "plt.xlabel('Plan')\n",
    "plt.ylabel('Duración Promedio de Llamada (minutos)')\n",
    "plt.legend(title='Mes')\n",
    "plt.xticks(rotation=0)  \n",
    "plt.tight_layout()\n",
    "\n",
    "plt.show()"
   ]
  },
  {
   "cell_type": "code",
   "execution_count": 64,
   "metadata": {
    "id": "QoLqW1S_0q1J"
   },
   "outputs": [
    {
     "data": {
      "image/png": "[encoded data removed]",
      "text/plain": [
       "<Figure size 640x480 with 1 Axes>"
      ]
     },
     "metadata": {},
     "output_type": "display_data"
    }
   ],
   "source": [
    "# Compara el número de minutos mensuales que necesitan los usuarios de cada plan. Traza un histograma.\n",
    "import seaborn as sns\n",
    "\n",
    "colors = ['blue', 'orange']\n",
    "\n",
    "for i, plan in enumerate(user_month_data['plan_name'].unique()):\n",
    "    sns.histplot(\n",
    "        data=user_month_data[user_month_data['plan_name'] == plan], \n",
    "        x='total_duration', \n",
    "        bins=30, \n",
    "        kde=True, \n",
    "        label=plan, \n",
    "        color=colors[i]  \n",
    "    )\n",
    "\n",
    "plt.title(\"Distribución del total de minutos mensuales por plan\")\n",
    "plt.xlabel(\"Total de minutos mensuales\")\n",
    "plt.ylabel(\"Frecuencia\")\n",
    "plt.legend(title=\"Plan\")\n",
    "\n",
    "plt.show()"
   ]
  },
  {
   "cell_type": "code",
   "execution_count": null,
   "metadata": {
    "id": "oSndbAnt0q1K"
   },
   "outputs": [
    {
     "data": {
      "text/html": [
       "<div>\n",
       "<style scoped>\n",
       "    .dataframe tbody tr th:only-of-type {\n",
       "        vertical-align: middle;\n",
       "    }\n",
       "\n",
       "    .dataframe tbody tr th {\n",
       "        vertical-align: top;\n",
       "    }\n",
       "\n",
       "    .dataframe thead th {\n",
       "        text-align: right;\n",
       "    }\n",
       "</style>\n",
       "<table border=\"1\" class=\"dataframe\">\n",
       "  <thead>\n",
       "    <tr style=\"text-align: right;\">\n",
       "      <th></th>\n",
       "      <th>plan</th>\n",
       "      <th>mean_call_duration</th>\n",
       "      <th>call_duration_variance</th>\n",
       "    </tr>\n",
       "  </thead>\n",
       "  <tbody>\n",
       "    <tr>\n",
       "      <th>0</th>\n",
       "      <td>surf</td>\n",
       "      <td>404.762390</td>\n",
       "      <td>49135.104891</td>\n",
       "    </tr>\n",
       "    <tr>\n",
       "      <th>1</th>\n",
       "      <td>ultimate</td>\n",
       "      <td>406.193083</td>\n",
       "      <td>51640.971402</td>\n",
       "    </tr>\n",
       "  </tbody>\n",
       "</table>\n",
       "</div>"
      ],
      "text/plain": [
       "       plan  mean_call_duration  call_duration_variance\n",
       "0      surf          404.762390            49135.104891\n",
       "1  ultimate          406.193083            51640.971402"
      ]
     },
     "execution_count": 65,
     "metadata": {},
     "output_type": "execute_result"
    }
   ],
   "source": [
    "# Calcular la media y la varianza de la duración mensual de llamadas.\n",
    "call_stats = user_month_data.groupby('plan_name')['total_duration'].agg(['mean', 'var']).reset_index()\n",
    "call_stats.columns = ['plan', 'mean_call_duration', 'call_duration_variance']\n",
    "call_stats.head()"
   ]
  },
  {
   "cell_type": "code",
   "execution_count": null,
   "metadata": {
    "id": "nZzoRUKc0q1K"
   },
   "outputs": [
    {
     "data": {
      "image/png": "[encoded data removed]",
      "text/plain": [
       "<Figure size 1000x600 with 1 Axes>"
      ]
     },
     "metadata": {},
     "output_type": "display_data"
    }
   ],
   "source": [
    "# Diagrama de caja para visualizar la distribución de la duración mensual de llamadas\n",
    "import seaborn as sns\n",
    "\n",
    "plt.figure(figsize=(10, 6))\n",
    "sns.boxplot(data=user_month_data, x='plan_name', y='total_duration')\n",
    "plt.title('Distribución de la Duración Mensual de Llamadas por Plan')\n",
    "plt.xlabel('Plan')\n",
    "plt.ylabel('Duración Total de Llamadas (minutos)')\n",
    "plt.show()"
   ]
  },
  {
   "cell_type": "markdown",
   "metadata": {},
   "source": [
    "En el gráfico de barras se logra observar que la duración promedio de las llamadas parece bastante consistente entre ambos planes, los valores están cerca de 6 a 7 minutos, lo que sugiere que los usuarios de ambos planes tienden a usar una cantidad de tiempo similar por llamada en promedio. Esto se confirma en el cálculo de la media y la varianza, pues no tienen una diferencia significativa. Tampoco se observa una variación significativa entre los meses. Después, en el histograma, vemos que el plan Surf muestra una mayor cantidad de uso en minutos y datos en las gráficas, lo que indica una preferencia por el plan más económico, los usuarios podrían estas dispuestos a pagar cargos adicionales al superar los límites. Finalmente, en el diagrama de caja y bigotes podemos ver que el uso central, incluyendo la mediana y el rango intercuartil, es muy similar en ambos planes. El plan Surf muestra una mayor cantidad de valores atípicos, lo que significa que una parte de los usuarios están consumiendo más minutos de lo esperado y probablemente estén pagando cargos adicionales.  "
   ]
  },
  {
   "cell_type": "markdown",
   "metadata": {
    "id": "8idKy8Wh0q1L"
   },
   "source": [
    "### Mensajes"
   ]
  },
  {
   "cell_type": "code",
   "execution_count": null,
   "metadata": {
    "id": "NXLxiTit0q1L"
   },
   "outputs": [
    {
     "data": {
      "text/html": [
       "<div>\n",
       "<style scoped>\n",
       "    .dataframe tbody tr th:only-of-type {\n",
       "        vertical-align: middle;\n",
       "    }\n",
       "\n",
       "    .dataframe tbody tr th {\n",
       "        vertical-align: top;\n",
       "    }\n",
       "\n",
       "    .dataframe thead th {\n",
       "        text-align: right;\n",
       "    }\n",
       "</style>\n",
       "<table border=\"1\" class=\"dataframe\">\n",
       "  <thead>\n",
       "    <tr style=\"text-align: right;\">\n",
       "      <th>month</th>\n",
       "      <th>1</th>\n",
       "      <th>2</th>\n",
       "      <th>3</th>\n",
       "      <th>4</th>\n",
       "      <th>5</th>\n",
       "      <th>6</th>\n",
       "      <th>7</th>\n",
       "      <th>8</th>\n",
       "      <th>9</th>\n",
       "      <th>10</th>\n",
       "      <th>11</th>\n",
       "      <th>12</th>\n",
       "    </tr>\n",
       "    <tr>\n",
       "      <th>plan_name</th>\n",
       "      <th></th>\n",
       "      <th></th>\n",
       "      <th></th>\n",
       "      <th></th>\n",
       "      <th></th>\n",
       "      <th></th>\n",
       "      <th></th>\n",
       "      <th></th>\n",
       "      <th></th>\n",
       "      <th></th>\n",
       "      <th></th>\n",
       "      <th></th>\n",
       "    </tr>\n",
       "  </thead>\n",
       "  <tbody>\n",
       "    <tr>\n",
       "      <th>surf</th>\n",
       "      <td>21.0</td>\n",
       "      <td>108.0</td>\n",
       "      <td>351.0</td>\n",
       "      <td>870.0</td>\n",
       "      <td>1849.0</td>\n",
       "      <td>2454.0</td>\n",
       "      <td>3271.0</td>\n",
       "      <td>4662.0</td>\n",
       "      <td>5968.0</td>\n",
       "      <td>8020.0</td>\n",
       "      <td>9165.0</td>\n",
       "      <td>12275.0</td>\n",
       "    </tr>\n",
       "    <tr>\n",
       "      <th>ultimate</th>\n",
       "      <td>62.0</td>\n",
       "      <td>151.0</td>\n",
       "      <td>243.0</td>\n",
       "      <td>463.0</td>\n",
       "      <td>931.0</td>\n",
       "      <td>1379.0</td>\n",
       "      <td>1937.0</td>\n",
       "      <td>2732.0</td>\n",
       "      <td>3259.0</td>\n",
       "      <td>4181.0</td>\n",
       "      <td>4903.0</td>\n",
       "      <td>6796.0</td>\n",
       "    </tr>\n",
       "  </tbody>\n",
       "</table>\n",
       "</div>"
      ],
      "text/plain": [
       "month        1      2      3      4       5       6       7       8       9   \\\n",
       "plan_name                                                                      \n",
       "surf       21.0  108.0  351.0  870.0  1849.0  2454.0  3271.0  4662.0  5968.0   \n",
       "ultimate   62.0  151.0  243.0  463.0   931.0  1379.0  1937.0  2732.0  3259.0   \n",
       "\n",
       "month          10      11       12  \n",
       "plan_name                           \n",
       "surf       8020.0  9165.0  12275.0  \n",
       "ultimate   4181.0  4903.0   6796.0  "
      ]
     },
     "execution_count": 67,
     "metadata": {},
     "output_type": "execute_result"
    }
   ],
   "source": [
    "# Comparar el número de mensajes que tienden a enviar cada mes los usuarios de cada plan\n",
    "pivot_data_messages = user_month_data.pivot_table(\n",
    "    index='plan_name',\n",
    "    columns='month',\n",
    "    values='total_messages',\n",
    "    aggfunc='sum')\n",
    "pivot_data_messages"
   ]
  },
  {
   "cell_type": "code",
   "execution_count": null,
   "metadata": {
    "id": "GRI_R7xF0q1L"
   },
   "outputs": [
    {
     "data": {
      "image/png": "[encoded data removed]",
      "text/plain": [
       "<Figure size 1200x600 with 1 Axes>"
      ]
     },
     "metadata": {},
     "output_type": "display_data"
    }
   ],
   "source": [
    "# Graficar la comparación previa\n",
    "pivot_data_messages.plot(kind='bar', figsize=(12, 6))\n",
    "\n",
    "plt.title('Número de mensajes por plan y mes')\n",
    "plt.xlabel('Plan')\n",
    "plt.ylabel('Número de mensajes')\n",
    "plt.legend(title='Mes')\n",
    "plt.xticks(rotation=0)  \n",
    "plt.tight_layout()\n",
    "\n",
    "plt.show()"
   ]
  },
  {
   "cell_type": "code",
   "execution_count": null,
   "metadata": {
    "id": "dtFwCGAp0q1M"
   },
   "outputs": [
    {
     "data": {
      "text/html": [
       "<div>\n",
       "<style scoped>\n",
       "    .dataframe tbody tr th:only-of-type {\n",
       "        vertical-align: middle;\n",
       "    }\n",
       "\n",
       "    .dataframe tbody tr th {\n",
       "        vertical-align: top;\n",
       "    }\n",
       "\n",
       "    .dataframe thead th {\n",
       "        text-align: right;\n",
       "    }\n",
       "</style>\n",
       "<table border=\"1\" class=\"dataframe\">\n",
       "  <thead>\n",
       "    <tr style=\"text-align: right;\">\n",
       "      <th></th>\n",
       "      <th>plan</th>\n",
       "      <th>messages_mean</th>\n",
       "      <th>messages_variance</th>\n",
       "    </tr>\n",
       "  </thead>\n",
       "  <tbody>\n",
       "    <tr>\n",
       "      <th>0</th>\n",
       "      <td>surf</td>\n",
       "      <td>31.159568</td>\n",
       "      <td>1126.724522</td>\n",
       "    </tr>\n",
       "    <tr>\n",
       "      <th>1</th>\n",
       "      <td>ultimate</td>\n",
       "      <td>37.551389</td>\n",
       "      <td>1208.756744</td>\n",
       "    </tr>\n",
       "  </tbody>\n",
       "</table>\n",
       "</div>"
      ],
      "text/plain": [
       "       plan  messages_mean  messages_variance\n",
       "0      surf      31.159568        1126.724522\n",
       "1  ultimate      37.551389        1208.756744"
      ]
     },
     "execution_count": 69,
     "metadata": {},
     "output_type": "execute_result"
    }
   ],
   "source": [
    "# Obtener la media y varianza por plan\n",
    "messages_stats = user_month_data.groupby('plan_name')['total_messages'].agg(['mean', 'var']).reset_index()\n",
    "messages_stats.columns = ['plan', 'messages_mean', 'messages_variance']\n",
    "messages_stats.head()"
   ]
  },
  {
   "cell_type": "code",
   "execution_count": null,
   "metadata": {},
   "outputs": [
    {
     "data": {
      "image/png": "[encoded data removed]",
      "text/plain": [
       "<Figure size 640x480 with 1 Axes>"
      ]
     },
     "metadata": {},
     "output_type": "display_data"
    }
   ],
   "source": [
    "# Graficar la distribución del total de mensajes mensuales por plan\n",
    "colors = ['blue', 'orange']\n",
    "\n",
    "for i, plan in enumerate(user_month_data['plan_name'].unique()):\n",
    "    sns.histplot(\n",
    "        data=user_month_data[user_month_data['plan_name'] == plan], \n",
    "        x='total_messages', \n",
    "        bins=30, \n",
    "        kde=True, \n",
    "        label=plan, \n",
    "        color=colors[i]  \n",
    "    )\n",
    "\n",
    "plt.title(\"Distribución del total de mensajes mensuales por plan\")\n",
    "plt.xlabel(\"Total de mensajes al mes\")\n",
    "plt.ylabel(\"Frecuencia\")\n",
    "plt.legend(title=\"Plan\")\n",
    "\n",
    "plt.show()"
   ]
  },
  {
   "cell_type": "code",
   "execution_count": null,
   "metadata": {},
   "outputs": [
    {
     "data": {
      "image/png": "[encoded data removed]",
      "text/plain": [
       "<Figure size 1000x600 with 1 Axes>"
      ]
     },
     "metadata": {},
     "output_type": "display_data"
    }
   ],
   "source": [
    "# Graficar boxplots de la distribución previamente mencionada\n",
    "import seaborn as sns\n",
    "\n",
    "plt.figure(figsize=(10, 6))\n",
    "sns.boxplot(data=user_month_data, x='plan_name', y='total_messages')\n",
    "plt.title('Distribución del total de mensajes por plan')\n",
    "plt.xlabel('Plan')\n",
    "plt.ylabel('Total de mensajes')\n",
    "plt.show()"
   ]
  },
  {
   "cell_type": "markdown",
   "metadata": {
    "id": "390SSL480q1M"
   },
   "source": [
    "En el gráfico de barras se logra observar que hay una diferencia significativa de los mensajes enviados entre ambos planes, pues el total del plan Surf es mayor que el Ultimate. Esto podría indicar que plan de Surf tiene más usuarios. También, se nota una gran variabilidad mes a mes en ambos planes. Al parecer enero es el mes con menos mensajes y diciembre el que más. Es un crecimiento exponencial de mes a mes. La media es más grande en el plan Ultimate, lo cual es lógico, pues al parecer cada usuario del Ultimate tiene un mayor límite de mensajes incluido. También, el plan Ultimate presenta una mayor varianza en el número de mensajes. En el histograma confirmamos la información, el plan Surf tiene más mensajes que el Ultimate. En el diagrama de caja y bigotes logramos ver que el rango intercuartil en el Ultimate es mayor que el de Surf, lo cual significa que el rango central de los mensajes es mayor. Finalmente, vemos que ambos planes tienen valores atípicos, sin embargo el plan Surf muestra valores muy atípicos, muy alejados del límite, lo que significa que algunos usuarios deberían considerar el plan Ultimate, pues seguramente están pagando mucho en recargos. "
   ]
  },
  {
   "cell_type": "markdown",
   "metadata": {
    "id": "42YSypXz0q1M"
   },
   "source": [
    "### Internet"
   ]
  },
  {
   "cell_type": "code",
   "execution_count": 73,
   "metadata": {
    "id": "lSuKPtjh0q1M"
   },
   "outputs": [
    {
     "data": {
      "text/html": [
       "<div>\n",
       "<style scoped>\n",
       "    .dataframe tbody tr th:only-of-type {\n",
       "        vertical-align: middle;\n",
       "    }\n",
       "\n",
       "    .dataframe tbody tr th {\n",
       "        vertical-align: top;\n",
       "    }\n",
       "\n",
       "    .dataframe thead th {\n",
       "        text-align: right;\n",
       "    }\n",
       "</style>\n",
       "<table border=\"1\" class=\"dataframe\">\n",
       "  <thead>\n",
       "    <tr style=\"text-align: right;\">\n",
       "      <th>month</th>\n",
       "      <th>1</th>\n",
       "      <th>2</th>\n",
       "      <th>3</th>\n",
       "      <th>4</th>\n",
       "      <th>5</th>\n",
       "      <th>6</th>\n",
       "      <th>7</th>\n",
       "      <th>8</th>\n",
       "      <th>9</th>\n",
       "      <th>10</th>\n",
       "      <th>11</th>\n",
       "      <th>12</th>\n",
       "    </tr>\n",
       "    <tr>\n",
       "      <th>plan_name</th>\n",
       "      <th></th>\n",
       "      <th></th>\n",
       "      <th></th>\n",
       "      <th></th>\n",
       "      <th></th>\n",
       "      <th></th>\n",
       "      <th></th>\n",
       "      <th></th>\n",
       "      <th></th>\n",
       "      <th></th>\n",
       "      <th></th>\n",
       "      <th></th>\n",
       "    </tr>\n",
       "  </thead>\n",
       "  <tbody>\n",
       "    <tr>\n",
       "      <th>surf</th>\n",
       "      <td>10.0</td>\n",
       "      <td>110.0</td>\n",
       "      <td>312.0</td>\n",
       "      <td>611.0</td>\n",
       "      <td>1087.0</td>\n",
       "      <td>1502.0</td>\n",
       "      <td>2042.0</td>\n",
       "      <td>2735.0</td>\n",
       "      <td>3238.0</td>\n",
       "      <td>4126.0</td>\n",
       "      <td>4650.0</td>\n",
       "      <td>5800.0</td>\n",
       "    </tr>\n",
       "    <tr>\n",
       "      <th>ultimate</th>\n",
       "      <td>29.0</td>\n",
       "      <td>121.0</td>\n",
       "      <td>221.0</td>\n",
       "      <td>343.0</td>\n",
       "      <td>489.0</td>\n",
       "      <td>725.0</td>\n",
       "      <td>973.0</td>\n",
       "      <td>1267.0</td>\n",
       "      <td>1463.0</td>\n",
       "      <td>1878.0</td>\n",
       "      <td>2174.0</td>\n",
       "      <td>2778.0</td>\n",
       "    </tr>\n",
       "  </tbody>\n",
       "</table>\n",
       "</div>"
      ],
      "text/plain": [
       "month        1      2      3      4       5       6       7       8       9   \\\n",
       "plan_name                                                                      \n",
       "surf       10.0  110.0  312.0  611.0  1087.0  1502.0  2042.0  2735.0  3238.0   \n",
       "ultimate   29.0  121.0  221.0  343.0   489.0   725.0   973.0  1267.0  1463.0   \n",
       "\n",
       "month          10      11      12  \n",
       "plan_name                          \n",
       "surf       4126.0  4650.0  5800.0  \n",
       "ultimate   1878.0  2174.0  2778.0  "
      ]
     },
     "execution_count": 73,
     "metadata": {},
     "output_type": "execute_result"
    }
   ],
   "source": [
    "# Compara la cantidad de tráfico de Internet consumido por usuarios por plan\n",
    "pivot_data_internet = user_month_data.pivot_table(\n",
    "    index='plan_name',\n",
    "    columns='month',\n",
    "    values='gb_used',\n",
    "    aggfunc='sum')\n",
    "pivot_data_internet"
   ]
  },
  {
   "cell_type": "code",
   "execution_count": null,
   "metadata": {
    "id": "wnh8jYXi0q1N"
   },
   "outputs": [
    {
     "data": {
      "image/png": "[encoded data removed]",
      "text/plain": [
       "<Figure size 1200x600 with 1 Axes>"
      ]
     },
     "metadata": {},
     "output_type": "display_data"
    }
   ],
   "source": [
    "# Graficar GB usados por plan por mes\n",
    "pivot_data_internet.plot(kind='bar', figsize=(12, 6))\n",
    "\n",
    "plt.title('GB usados por plan por mes')\n",
    "plt.xlabel('Plan')\n",
    "plt.ylabel('GB usados')\n",
    "plt.legend(title='Mes')\n",
    "plt.xticks(rotation=0)  \n",
    "plt.tight_layout()\n",
    "\n",
    "plt.show()"
   ]
  },
  {
   "cell_type": "code",
   "execution_count": null,
   "metadata": {
    "id": "5VlyJ9ry0q1N"
   },
   "outputs": [
    {
     "data": {
      "text/html": [
       "<div>\n",
       "<style scoped>\n",
       "    .dataframe tbody tr th:only-of-type {\n",
       "        vertical-align: middle;\n",
       "    }\n",
       "\n",
       "    .dataframe tbody tr th {\n",
       "        vertical-align: top;\n",
       "    }\n",
       "\n",
       "    .dataframe thead th {\n",
       "        text-align: right;\n",
       "    }\n",
       "</style>\n",
       "<table border=\"1\" class=\"dataframe\">\n",
       "  <thead>\n",
       "    <tr style=\"text-align: right;\">\n",
       "      <th></th>\n",
       "      <th>plan</th>\n",
       "      <th>gb_used_mean</th>\n",
       "      <th>gb_used_variance</th>\n",
       "    </tr>\n",
       "  </thead>\n",
       "  <tbody>\n",
       "    <tr>\n",
       "      <th>0</th>\n",
       "      <td>surf</td>\n",
       "      <td>16.670693</td>\n",
       "      <td>61.58360</td>\n",
       "    </tr>\n",
       "    <tr>\n",
       "      <th>1</th>\n",
       "      <td>ultimate</td>\n",
       "      <td>17.306944</td>\n",
       "      <td>58.83055</td>\n",
       "    </tr>\n",
       "  </tbody>\n",
       "</table>\n",
       "</div>"
      ],
      "text/plain": [
       "       plan  gb_used_mean  gb_used_variance\n",
       "0      surf     16.670693          61.58360\n",
       "1  ultimate     17.306944          58.83055"
      ]
     },
     "execution_count": 78,
     "metadata": {},
     "output_type": "execute_result"
    }
   ],
   "source": [
    "# Obtener media y varianza de los gb usados por plan\n",
    "internet_stats = user_month_data.groupby('plan_name')['gb_used'].agg(['mean', 'var']).reset_index()\n",
    "internet_stats.columns = ['plan', 'gb_used_mean', 'gb_used_variance']\n",
    "internet_stats.head()"
   ]
  },
  {
   "cell_type": "code",
   "execution_count": null,
   "metadata": {},
   "outputs": [
    {
     "data": {
      "image/png": "[encoded data removed]",
      "text/plain": [
       "<Figure size 640x480 with 1 Axes>"
      ]
     },
     "metadata": {},
     "output_type": "display_data"
    }
   ],
   "source": [
    "# Graficar distribución de mb usados mensuales por plan\n",
    "colors = ['blue', 'orange']\n",
    "\n",
    "for i, plan in enumerate(user_month_data['plan_name'].unique()):\n",
    "    sns.histplot(\n",
    "        data=user_month_data[user_month_data['plan_name'] == plan], \n",
    "        x='gb_used', \n",
    "        bins=30, \n",
    "        kde=True, \n",
    "        label=plan, \n",
    "        color=colors[i]  \n",
    "    )\n",
    "\n",
    "plt.title(\"Distribución del total de mb usados mensuales por plan\")\n",
    "plt.xlabel(\"Total de mb usados al mes\")\n",
    "plt.ylabel(\"Frecuencia\")\n",
    "plt.legend(title=\"Plan\")\n",
    "\n",
    "plt.show()"
   ]
  },
  {
   "cell_type": "code",
   "execution_count": 83,
   "metadata": {},
   "outputs": [
    {
     "data": {
      "image/png": "[encoded data removed]",
      "text/plain": [
       "<Figure size 1000x600 with 1 Axes>"
      ]
     },
     "metadata": {},
     "output_type": "display_data"
    }
   ],
   "source": [
    "import seaborn as sns\n",
    "\n",
    "plt.figure(figsize=(10, 6))\n",
    "sns.boxplot(data=user_month_data, x='plan_name', y='gb_used')\n",
    "plt.title('Distribución del total de GB usados por plan')\n",
    "plt.xlabel('Plan')\n",
    "plt.ylabel('GB usados')\n",
    "plt.show()"
   ]
  },
  {
   "cell_type": "markdown",
   "metadata": {
    "id": "UN9zwuMP0q1N"
   },
   "source": [
    "En el gráfico de barras  y el histograma se logra observar que hay una diferencia significativa entre ambos planes en gb usados, pues el total del plan Surf es mayor que el Ultimate. Esto sigue afirmando la teoría de que hay más usuarios en el plan Surf. También, se nota una gran variabilidad mes a mes en ambos planes. Al parecer enero es el mes con menos mensajes y diciembre el que más. Es un crecimiento exponencial de mes a mes. La media es más grande en el plan Ultimate, pero no por mucho, se trata de menos de 1 GB de diferencia. Considerando que el plan Ultimate incluye 30 GB y el Surf 15 GB, no es una diferencia significativa. La varianza en el Surf es mayor. Finalmente, en el diagrama de caja y bigotes, se logra observar que los datos centrados son muy similares en ambos planes, es decir, la mediana y los cuartiles, incluso los límites. Sin embargo,  al igual que en el diagrama de número de mensajes, se observa que el número de valores atípicos es mucho más grande en el plan Surf, lo cual indica que muchos usuarios consumen mucho más de lo normal y seguramente están pagando cargos extra, deberían considerar cambiarse al plan Ultimate. "
   ]
  },
  {
   "cell_type": "markdown",
   "metadata": {
    "id": "tCijq3260q1N"
   },
   "source": [
    "## Ingreso"
   ]
  },
  {
   "cell_type": "code",
   "execution_count": null,
   "metadata": {
    "id": "tz-dq_V00q1O"
   },
   "outputs": [
    {
     "data": {
      "text/html": [
       "<div>\n",
       "<style scoped>\n",
       "    .dataframe tbody tr th:only-of-type {\n",
       "        vertical-align: middle;\n",
       "    }\n",
       "\n",
       "    .dataframe tbody tr th {\n",
       "        vertical-align: top;\n",
       "    }\n",
       "\n",
       "    .dataframe thead th {\n",
       "        text-align: right;\n",
       "    }\n",
       "</style>\n",
       "<table border=\"1\" class=\"dataframe\">\n",
       "  <thead>\n",
       "    <tr style=\"text-align: right;\">\n",
       "      <th>month</th>\n",
       "      <th>1</th>\n",
       "      <th>2</th>\n",
       "      <th>3</th>\n",
       "      <th>4</th>\n",
       "      <th>5</th>\n",
       "      <th>6</th>\n",
       "      <th>7</th>\n",
       "      <th>8</th>\n",
       "      <th>9</th>\n",
       "      <th>10</th>\n",
       "      <th>11</th>\n",
       "      <th>12</th>\n",
       "    </tr>\n",
       "    <tr>\n",
       "      <th>plan_name</th>\n",
       "      <th></th>\n",
       "      <th></th>\n",
       "      <th></th>\n",
       "      <th></th>\n",
       "      <th></th>\n",
       "      <th></th>\n",
       "      <th></th>\n",
       "      <th></th>\n",
       "      <th></th>\n",
       "      <th></th>\n",
       "      <th></th>\n",
       "      <th></th>\n",
       "    </tr>\n",
       "  </thead>\n",
       "  <tbody>\n",
       "    <tr>\n",
       "      <th>surf</th>\n",
       "      <td>40.0</td>\n",
       "      <td>308.3106</td>\n",
       "      <td>1053.176</td>\n",
       "      <td>2022.735</td>\n",
       "      <td>3637.1069</td>\n",
       "      <td>4746.2813</td>\n",
       "      <td>7528.855</td>\n",
       "      <td>10298.755</td>\n",
       "      <td>11242.0168</td>\n",
       "      <td>15416.0702</td>\n",
       "      <td>16308.9542</td>\n",
       "      <td>22292.6546</td>\n",
       "    </tr>\n",
       "    <tr>\n",
       "      <th>ultimate</th>\n",
       "      <td>280.0</td>\n",
       "      <td>490.0000</td>\n",
       "      <td>896.000</td>\n",
       "      <td>1533.000</td>\n",
       "      <td>2051.0000</td>\n",
       "      <td>3367.0000</td>\n",
       "      <td>4242.000</td>\n",
       "      <td>5173.000</td>\n",
       "      <td>6195.0000</td>\n",
       "      <td>7665.0000</td>\n",
       "      <td>9107.0000</td>\n",
       "      <td>11067.0000</td>\n",
       "    </tr>\n",
       "  </tbody>\n",
       "</table>\n",
       "</div>"
      ],
      "text/plain": [
       "month         1         2         3         4          5          6   \\\n",
       "plan_name                                                              \n",
       "surf        40.0  308.3106  1053.176  2022.735  3637.1069  4746.2813   \n",
       "ultimate   280.0  490.0000   896.000  1533.000  2051.0000  3367.0000   \n",
       "\n",
       "month            7          8           9           10          11          12  \n",
       "plan_name                                                                       \n",
       "surf       7528.855  10298.755  11242.0168  15416.0702  16308.9542  22292.6546  \n",
       "ultimate   4242.000   5173.000   6195.0000   7665.0000   9107.0000  11067.0000  "
      ]
     },
     "execution_count": 84,
     "metadata": {},
     "output_type": "execute_result"
    }
   ],
   "source": [
    "# Tabla dinámica de ingresos mensuales por plan\n",
    "pivot_data_ingreso = user_month_data.pivot_table(\n",
    "    index='plan_name',\n",
    "    columns='month',\n",
    "    values='monthly_revenue',\n",
    "    aggfunc='sum')\n",
    "pivot_data_ingreso"
   ]
  },
  {
   "cell_type": "code",
   "execution_count": null,
   "metadata": {
    "id": "0Y1v8ZUz0q1P"
   },
   "outputs": [
    {
     "data": {
      "image/png": "[encoded data removed]",
      "text/plain": [
       "<Figure size 1200x600 with 1 Axes>"
      ]
     },
     "metadata": {},
     "output_type": "display_data"
    }
   ],
   "source": [
    "# Graficar ingreso mensual por plan\n",
    "pivot_data_ingreso.plot(kind='bar', figsize=(12, 6))\n",
    "\n",
    "plt.title('Ingreso mensual por plan')\n",
    "plt.xlabel('Plan')\n",
    "plt.ylabel('Ingreso mensual')\n",
    "plt.legend(title='Mes')\n",
    "plt.xticks(rotation=0)  \n",
    "plt.tight_layout()\n",
    "\n",
    "plt.show()"
   ]
  },
  {
   "cell_type": "code",
   "execution_count": null,
   "metadata": {
    "id": "bYmwxyVh0q1P"
   },
   "outputs": [
    {
     "data": {
      "text/html": [
       "<div>\n",
       "<style scoped>\n",
       "    .dataframe tbody tr th:only-of-type {\n",
       "        vertical-align: middle;\n",
       "    }\n",
       "\n",
       "    .dataframe tbody tr th {\n",
       "        vertical-align: top;\n",
       "    }\n",
       "\n",
       "    .dataframe thead th {\n",
       "        text-align: right;\n",
       "    }\n",
       "</style>\n",
       "<table border=\"1\" class=\"dataframe\">\n",
       "  <thead>\n",
       "    <tr style=\"text-align: right;\">\n",
       "      <th></th>\n",
       "      <th>plan</th>\n",
       "      <th>monthly_revenue_mean</th>\n",
       "      <th>monthly_revenue_variance</th>\n",
       "    </tr>\n",
       "  </thead>\n",
       "  <tbody>\n",
       "    <tr>\n",
       "      <th>0</th>\n",
       "      <td>surf</td>\n",
       "      <td>60.327346</td>\n",
       "      <td>3053.955465</td>\n",
       "    </tr>\n",
       "    <tr>\n",
       "      <th>1</th>\n",
       "      <td>ultimate</td>\n",
       "      <td>72.313889</td>\n",
       "      <td>129.848486</td>\n",
       "    </tr>\n",
       "  </tbody>\n",
       "</table>\n",
       "</div>"
      ],
      "text/plain": [
       "       plan  monthly_revenue_mean  monthly_revenue_variance\n",
       "0      surf             60.327346               3053.955465\n",
       "1  ultimate             72.313889                129.848486"
      ]
     },
     "execution_count": 86,
     "metadata": {},
     "output_type": "execute_result"
    }
   ],
   "source": [
    "# Obtener media y varianza del ingreso mensual por plan\n",
    "revenue_stats = user_month_data.groupby('plan_name')['monthly_revenue'].agg(['mean', 'var']).reset_index()\n",
    "revenue_stats.columns = ['plan', 'monthly_revenue_mean', 'monthly_revenue_variance']\n",
    "revenue_stats.head()"
   ]
  },
  {
   "cell_type": "code",
   "execution_count": null,
   "metadata": {},
   "outputs": [
    {
     "data": {
      "image/png": "[encoded data removed]",
      "text/plain": [
       "<Figure size 1000x600 with 1 Axes>"
      ]
     },
     "metadata": {},
     "output_type": "display_data"
    }
   ],
   "source": [
    "# Graficar distribución del ingreso mensual por plan\n",
    "import seaborn as sns\n",
    "\n",
    "plt.figure(figsize=(10, 6))\n",
    "sns.boxplot(data=user_month_data, x='plan_name', y='monthly_revenue')\n",
    "plt.title('Distribución del ingreso mensual por plan')\n",
    "plt.xlabel('Plan')\n",
    "plt.ylabel('Ingreso_mensual')\n",
    "plt.show()"
   ]
  },
  {
   "cell_type": "markdown",
   "metadata": {
    "id": "KAFidcXZ0q1P"
   },
   "source": [
    "En el gráfico de barras se puede observar que el plan ‘Surf’ genera significativamente más empleos que el ‘Ultimate’. También, se pude observar que los ingresos varían mes a mes, siendo enero el mes que menos ingresos genera y diciembre el que más. Como es de esperarse, el promedio del plan ‘Ultimate’ es mayor que el ‘Surf’. Sin embargo, llama la atención que la varianza en el plan ‘Surf’ es muchísimo más grande que la del ‘Ultimate’, lo cual indica que mientras en el ‘Ultimate’ casi todos pagan una cantidad cercana a la tarifa fija, en el ‘Surf’ muchos usuarios sobrepasan el límite, lo cual los lleva a pagar costos extra. Esto se confirma en el diagrama de caja y bigotes, pues el ‘Ultimate’ presenta los datos muy centrados, mientras el ‘Surf’ tiene muchos valores atípicos. Muchos de los usuarios de ‘Surf’ deberían considerar cambiarse al ‘Ultimate’."
   ]
  },
  {
   "cell_type": "markdown",
   "metadata": {
    "id": "ajJ7VKeI0q1Q"
   },
   "source": [
    "## Probar hipótesis estadísticas"
   ]
  },
  {
   "cell_type": "code",
   "execution_count": 88,
   "metadata": {
    "id": "nFoPNlPq0q1R"
   },
   "outputs": [
    {
     "name": "stdout",
     "output_type": "stream",
     "text": [
      "valor p: 3.5320199509520717e-16\n",
      "Rechazamos la hipótesis nula\n"
     ]
    }
   ],
   "source": [
    "# H0:μUltimate=μSurf\n",
    "# H1:μUltimate<>μSurf\n",
    "# Debido a que las pruebas son de dos grupos independientes, se usará la prueba t\n",
    "\n",
    "from scipy import stats as st\n",
    "alpha = 0.05\n",
    "ingresos_ultimate = user_month_data[user_month_data['plan_name'] == 'ultimate']['monthly_revenue']\n",
    "ingresos_surf = user_month_data[user_month_data['plan_name'] == 'surf']['monthly_revenue']\n",
    "results = st.ttest_ind(ingresos_ultimate, ingresos_surf, equal_var=False)\n",
    "print('valor p:', results.pvalue)\n",
    "if (results.pvalue < alpha):\n",
    "    print(\"Rechazamos la hipótesis nula\")\n",
    "else:\n",
    "    print(\"No podemos rechazar la hipótesis nula\")"
   ]
  },
  {
   "cell_type": "code",
   "execution_count": 89,
   "metadata": {},
   "outputs": [],
   "source": [
    "user_month_data = user_month_data.merge(users[['user_id', 'city']], on='user_id', how='left')"
   ]
  },
  {
   "cell_type": "code",
   "execution_count": 90,
   "metadata": {},
   "outputs": [
    {
     "data": {
      "text/plain": [
       "array(['Atlanta-Sandy Springs-Roswell, GA MSA',\n",
       "       'Seattle-Tacoma-Bellevue, WA MSA',\n",
       "       'Las Vegas-Henderson-Paradise, NV MSA', 'Tulsa, OK MSA',\n",
       "       'Dallas-Fort Worth-Arlington, TX MSA',\n",
       "       'San Francisco-Oakland-Berkeley, CA MSA',\n",
       "       'Grand Rapids-Kentwood, MI MSA',\n",
       "       'Orlando-Kissimmee-Sanford, FL MSA',\n",
       "       'San Jose-Sunnyvale-Santa Clara, CA MSA',\n",
       "       'Cleveland-Elyria, OH MSA',\n",
       "       'Chicago-Naperville-Elgin, IL-IN-WI MSA', 'Knoxville, TN MSA',\n",
       "       'New York-Newark-Jersey City, NY-NJ-PA MSA', 'Pittsburgh, PA MSA',\n",
       "       'Fresno, CA MSA',\n",
       "       'Washington-Arlington-Alexandria, DC-VA-MD-WV MSA',\n",
       "       'Indianapolis-Carmel-Anderson, IN MSA', 'Jacksonville, FL MSA',\n",
       "       'Los Angeles-Long Beach-Anaheim, CA MSA',\n",
       "       'Omaha-Council Bluffs, NE-IA MSA',\n",
       "       'Houston-The Woodlands-Sugar Land, TX MSA',\n",
       "       'Philadelphia-Camden-Wilmington, PA-NJ-DE-MD MSA',\n",
       "       'Tampa-St. Petersburg-Clearwater, FL MSA',\n",
       "       'Birmingham-Hoover, AL MSA', 'Oklahoma City, OK MSA',\n",
       "       'Charlotte-Concord-Gastonia, NC-SC MSA',\n",
       "       'Denver-Aurora-Lakewood, CO MSA',\n",
       "       'Nashville-Davidson–Murfreesboro–Franklin, TN MSA',\n",
       "       'Columbus, OH MSA', 'Albuquerque, NM MSA',\n",
       "       'Boston-Cambridge-Newton, MA-NH MSA',\n",
       "       'Miami-Fort Lauderdale-West Palm Beach, FL MSA',\n",
       "       'San Diego-Chula Vista-Carlsbad, CA MSA',\n",
       "       'Phoenix-Mesa-Chandler, AZ MSA',\n",
       "       'Portland-Vancouver-Hillsboro, OR-WA MSA',\n",
       "       'Cincinnati, OH-KY-IN MSA', 'Columbia, SC MSA',\n",
       "       'San Antonio-New Braunfels, TX MSA', 'Buffalo-Cheektowaga, NY MSA',\n",
       "       'Memphis, TN-MS-AR MSA',\n",
       "       'Riverside-San Bernardino-Ontario, CA MSA',\n",
       "       'Louisville/Jefferson County, KY-IN MSA',\n",
       "       'Albany-Schenectady-Troy, NY MSA', 'Providence-Warwick, RI-MA MSA',\n",
       "       'Urban Honolulu, HI MSA', 'El Paso, TX MSA',\n",
       "       'New Haven-Milford, CT MSA',\n",
       "       'North Port-Sarasota-Bradenton, FL MSA',\n",
       "       'New Orleans-Metairie, LA MSA',\n",
       "       'Bridgeport-Stamford-Norwalk, CT MSA',\n",
       "       'Virginia Beach-Norfolk-Newport News, VA-NC MSA',\n",
       "       'Baltimore-Columbia-Towson, MD MSA', 'Milwaukee-Waukesha, WI MSA',\n",
       "       'Oxnard-Thousand Oaks-Ventura, CA MSA',\n",
       "       'Sacramento–Roseville–Folsom, CA MSA',\n",
       "       'Austin-Round Rock-Georgetown, TX MSA', 'Richmond, VA MSA',\n",
       "       'St. Louis, MO-IL MSA',\n",
       "       'Minneapolis-St. Paul-Bloomington, MN-WI MSA',\n",
       "       'Dayton-Kettering, OH MSA', 'Bakersfield, CA MSA',\n",
       "       'Detroit-Warren-Dearborn, MI MSA', 'Baton Rouge, LA MSA',\n",
       "       'Kansas City, MO-KS MSA', 'Charleston-North Charleston, SC MSA',\n",
       "       'Rochester, NY MSA', 'Raleigh-Cary, NC MSA',\n",
       "       'Greensboro-High Point, NC MSA', 'Tucson, AZ MSA',\n",
       "       'Colorado Springs, CO MSA', 'Stockton, CA MSA',\n",
       "       'Salt Lake City, UT MSA', 'Cape Coral-Fort Myers, FL MSA'],\n",
       "      dtype=object)"
      ]
     },
     "execution_count": 90,
     "metadata": {},
     "output_type": "execute_result"
    }
   ],
   "source": [
    "user_month_data['city'].unique()"
   ]
  },
  {
   "cell_type": "code",
   "execution_count": 91,
   "metadata": {},
   "outputs": [
    {
     "data": {
      "text/plain": [
       "1963    Phoenix-Mesa-Chandler, AZ MSA\n",
       "Name: city, dtype: object"
      ]
     },
     "execution_count": 91,
     "metadata": {},
     "output_type": "execute_result"
    }
   ],
   "source": [
    "user_month_data['city'].sample()"
   ]
  },
  {
   "cell_type": "code",
   "execution_count": 92,
   "metadata": {
    "id": "Cqcj7wrZ0q1S"
   },
   "outputs": [
    {
     "name": "stdout",
     "output_type": "stream",
     "text": [
      "valor p: 0.031214139070912954\n",
      "Rechazamos la hipótesis nula\n"
     ]
    }
   ],
   "source": [
    "# H0:μNY-NJ=μotras_regiones\n",
    "# H1:μNY-NJ=μotras regiones\n",
    "from scipy import stats as st\n",
    "alpha = 0.05\n",
    "ingreso_ny_nj = user_month_data[user_month_data['city'] == 'New York-Newark-Jersey City, NY-NJ-PA MSA']['monthly_revenue']\n",
    "ingreso_otros = user_month_data[user_month_data['city'] != 'New York-Newark-Jersey City, NY-NJ-PA MSA']['monthly_revenue']\n",
    "results = st.ttest_ind(ingreso_ny_nj, ingreso_otros, equal_var=False)\n",
    "print('valor p:', results.pvalue)\n",
    "if (results.pvalue < alpha):\n",
    "    print(\"Rechazamos la hipótesis nula\")\n",
    "else:\n",
    "    print(\"No podemos rechazar la hipótesis nula\")"
   ]
  },
  {
   "cell_type": "markdown",
   "metadata": {
    "id": "bbTR8UQO0q1T"
   },
   "source": [
    "## Conclusión general\n",
    "\n",
    "1. Primero que nada, importé los datos y expliqué en dicha sección la razón de la modificación de las columnas. \n",
    "2. Después, en la sección 'Agregar datos por usuario', fui armando el df 'user_month_data' donde fui seleccionando información relevante y agregando nuevas columnas mediante cálculos, tales como los costos extra por usuario y mes, sus gastos totales extra, entre otros. Esto para dejar todo preparado para la siguiente sección. \n",
    "3. En la siguiente sección se estudió el comportamiento del usuario en sus llamadas, mensajes e internet mediante gráficas de barras, de distribución y de caja y bigotes. Así como su promedio y varianza por usuario. Esto nos dio muchos indicios y sus respectivas conclusiones están al final de cada sección.\n",
    "4. Finalmente realicé las pruebas de hipótesis para concluir estadísticamente que los ingresos por plan varían, algo que ya se había inferido gracias a las gráficas anteriores. También, se demostró que el ingreso en la región NY-NJ varía respecto a las demás regiones. "
   ]
  }
 ],
 "metadata": {
  "ExecuteTimeLog": [
   {
    "duration": 828,
    "start_time": "2021-11-16T09:21:11.304Z"
   },
   {
    "duration": 893,
    "start_time": "2021-11-16T09:21:17.728Z"
   },
   {
    "duration": 1150,
    "start_time": "2021-11-16T09:21:29.568Z"
   },
   {
    "duration": 3,
    "start_time": "2021-11-16T09:24:14.495Z"
   },
   {
    "duration": 120,
    "start_time": "2021-11-16T09:24:46.630Z"
   },
   {
    "duration": 3,
    "start_time": "2021-11-16T09:28:27.882Z"
   },
   {
    "duration": 4,
    "start_time": "2021-11-16T09:29:54.281Z"
   },
   {
    "duration": 3,
    "start_time": "2021-11-16T09:30:45.936Z"
   },
   {
    "duration": 4,
    "start_time": "2021-11-16T09:31:06.300Z"
   },
   {
    "duration": 113,
    "start_time": "2021-11-16T09:31:37.208Z"
   },
   {
    "duration": 143,
    "start_time": "2021-11-16T09:31:48.656Z"
   },
   {
    "duration": 98,
    "start_time": "2021-11-16T09:31:55.678Z"
   },
   {
    "duration": 3,
    "start_time": "2021-11-16T09:32:08.535Z"
   },
   {
    "duration": 111,
    "start_time": "2021-11-16T09:32:10.120Z"
   },
   {
    "duration": 3,
    "start_time": "2021-11-16T09:32:15.732Z"
   },
   {
    "duration": 4,
    "start_time": "2021-11-16T09:32:29.423Z"
   },
   {
    "duration": 3,
    "start_time": "2021-11-16T10:03:03.074Z"
   },
   {
    "duration": 3,
    "start_time": "2021-11-16T10:10:01.288Z"
   },
   {
    "duration": 3,
    "start_time": "2021-11-16T10:10:46.923Z"
   },
   {
    "duration": 121,
    "start_time": "2021-11-16T10:37:46.494Z"
   },
   {
    "duration": 125,
    "start_time": "2021-11-16T10:38:20.632Z"
   },
   {
    "duration": 112,
    "start_time": "2021-11-16T10:46:53.001Z"
   },
   {
    "duration": 110,
    "start_time": "2021-11-16T10:48:25.775Z"
   },
   {
    "duration": 3,
    "start_time": "2021-11-16T10:50:18.720Z"
   },
   {
    "duration": 4,
    "start_time": "2021-11-16T10:50:37.649Z"
   },
   {
    "duration": 2,
    "start_time": "2021-11-16T10:50:51.884Z"
   },
   {
    "duration": 3,
    "start_time": "2021-11-16T10:51:56.237Z"
   },
   {
    "duration": 101,
    "start_time": "2021-11-16T10:53:13.791Z"
   },
   {
    "duration": 3,
    "start_time": "2021-11-16T10:55:59.186Z"
   },
   {
    "duration": 3,
    "start_time": "2021-11-16T10:56:10.751Z"
   },
   {
    "duration": 3,
    "start_time": "2021-11-16T10:56:49.038Z"
   },
   {
    "duration": 3,
    "start_time": "2021-11-16T10:56:49.174Z"
   },
   {
    "duration": 4,
    "start_time": "2021-11-16T10:56:49.414Z"
   },
   {
    "duration": 3,
    "start_time": "2021-11-16T10:56:49.680Z"
   },
   {
    "duration": 3,
    "start_time": "2021-11-16T10:56:50.370Z"
   },
   {
    "duration": 114,
    "start_time": "2021-11-16T10:59:34.518Z"
   },
   {
    "duration": 3,
    "start_time": "2021-11-16T11:01:41.201Z"
   },
   {
    "duration": 116,
    "start_time": "2021-11-16T11:01:48.754Z"
   },
   {
    "duration": 3,
    "start_time": "2021-11-16T11:02:16.685Z"
   },
   {
    "duration": 3,
    "start_time": "2021-11-16T11:02:19.479Z"
   },
   {
    "duration": 3,
    "start_time": "2021-11-16T11:02:47.067Z"
   },
   {
    "duration": 3,
    "start_time": "2021-11-16T11:02:49.353Z"
   },
   {
    "duration": 3,
    "start_time": "2021-11-16T11:03:07.835Z"
   },
   {
    "duration": 3,
    "start_time": "2021-11-16T11:03:07.953Z"
   },
   {
    "duration": 112,
    "start_time": "2021-11-16T11:07:52.072Z"
   },
   {
    "duration": 187,
    "start_time": "2021-11-16T11:09:23.468Z"
   },
   {
    "duration": 4,
    "start_time": "2021-11-16T11:10:01.455Z"
   },
   {
    "duration": 3,
    "start_time": "2021-11-16T11:10:05.069Z"
   },
   {
    "duration": 4,
    "start_time": "2021-11-16T11:10:13.376Z"
   },
   {
    "duration": 3,
    "start_time": "2021-11-16T11:10:14.434Z"
   },
   {
    "duration": 3,
    "start_time": "2021-11-16T11:10:22.853Z"
   },
   {
    "duration": 4,
    "start_time": "2021-11-16T11:27:29.279Z"
   },
   {
    "duration": 4,
    "start_time": "2021-11-16T11:29:08.919Z"
   },
   {
    "duration": 118,
    "start_time": "2021-11-16T11:29:46.703Z"
   },
   {
    "duration": 437,
    "start_time": "2021-11-16T11:36:02.181Z"
   },
   {
    "duration": 157,
    "start_time": "2021-11-16T11:36:14.388Z"
   },
   {
    "duration": 207,
    "start_time": "2021-11-16T11:47:15.898Z"
   },
   {
    "duration": 3,
    "start_time": "2021-11-16T11:53:52.092Z"
   },
   {
    "duration": 3,
    "start_time": "2021-11-16T11:53:52.236Z"
   },
   {
    "duration": 3,
    "start_time": "2021-11-16T11:59:12.005Z"
   },
   {
    "duration": 112,
    "start_time": "2021-11-16T12:00:33.446Z"
   },
   {
    "duration": 3,
    "start_time": "2021-11-16T12:02:14.453Z"
   },
   {
    "duration": 3,
    "start_time": "2021-11-16T12:02:39.512Z"
   },
   {
    "duration": 106,
    "start_time": "2021-11-16T12:03:03.460Z"
   },
   {
    "duration": 3,
    "start_time": "2021-11-17T20:37:21.139Z"
   },
   {
    "duration": 3,
    "start_time": "2021-11-17T20:37:22.229Z"
   },
   {
    "duration": 3,
    "start_time": "2021-11-17T20:38:38.806Z"
   },
   {
    "duration": 3,
    "start_time": "2021-11-17T20:38:41.958Z"
   },
   {
    "duration": 3,
    "start_time": "2021-11-17T20:43:46.551Z"
   },
   {
    "duration": 4,
    "start_time": "2021-11-17T20:58:21.835Z"
   },
   {
    "duration": 3,
    "start_time": "2021-11-17T20:59:21.872Z"
   },
   {
    "duration": 4,
    "start_time": "2021-11-17T20:59:45.352Z"
   },
   {
    "duration": 4,
    "start_time": "2021-11-17T20:59:49.646Z"
   },
   {
    "duration": 159,
    "start_time": "2021-11-17T21:02:26.949Z"
   },
   {
    "duration": 3,
    "start_time": "2021-11-17T21:03:53.461Z"
   },
   {
    "duration": 3,
    "start_time": "2021-11-17T21:03:53.694Z"
   },
   {
    "duration": 3,
    "start_time": "2021-11-17T21:05:28.145Z"
   },
   {
    "duration": 116,
    "start_time": "2021-11-17T21:05:57.787Z"
   },
   {
    "duration": 3,
    "start_time": "2021-11-17T21:06:37.993Z"
   },
   {
    "duration": 3,
    "start_time": "2021-11-17T21:06:38.261Z"
   },
   {
    "duration": 3,
    "start_time": "2021-11-17T21:11:54.358Z"
   },
   {
    "duration": 3,
    "start_time": "2021-11-17T21:12:43.846Z"
   },
   {
    "duration": 4,
    "start_time": "2021-11-17T21:13:08.773Z"
   },
   {
    "duration": 3,
    "start_time": "2021-11-17T21:14:44.441Z"
   },
   {
    "duration": 3,
    "start_time": "2021-11-17T21:15:42.059Z"
   },
   {
    "duration": 4,
    "start_time": "2021-11-17T21:15:51.995Z"
   },
   {
    "duration": 3,
    "start_time": "2021-11-17T21:15:53.923Z"
   },
   {
    "duration": 3,
    "start_time": "2021-11-17T21:15:55.282Z"
   },
   {
    "duration": 3,
    "start_time": "2021-11-17T21:16:28.492Z"
   },
   {
    "duration": 3,
    "start_time": "2021-11-17T21:16:32.603Z"
   },
   {
    "duration": 3,
    "start_time": "2021-11-17T21:17:06.941Z"
   },
   {
    "duration": 98,
    "start_time": "2021-11-17T21:18:05.733Z"
   },
   {
    "duration": 4,
    "start_time": "2021-11-17T21:21:35.255Z"
   },
   {
    "duration": 3,
    "start_time": "2021-11-17T21:21:37.804Z"
   },
   {
    "duration": 4,
    "start_time": "2021-11-17T21:23:06.071Z"
   },
   {
    "duration": 3,
    "start_time": "2021-11-17T21:23:24.799Z"
   },
   {
    "duration": 3,
    "start_time": "2021-11-17T21:23:32.591Z"
   },
   {
    "duration": 98,
    "start_time": "2021-11-17T21:28:31.559Z"
   },
   {
    "duration": 3,
    "start_time": "2021-11-17T21:28:45.448Z"
   },
   {
    "duration": 3,
    "start_time": "2021-11-17T21:29:17.303Z"
   },
   {
    "duration": 3,
    "start_time": "2021-11-17T21:29:29.617Z"
   },
   {
    "duration": 3,
    "start_time": "2021-11-17T21:29:32.681Z"
   },
   {
    "duration": 3,
    "start_time": "2021-11-17T21:36:11.474Z"
   },
   {
    "duration": 3,
    "start_time": "2021-11-17T21:36:14.791Z"
   },
   {
    "duration": 3,
    "start_time": "2021-11-17T21:36:53.943Z"
   },
   {
    "duration": 3,
    "start_time": "2021-11-17T21:36:56.165Z"
   },
   {
    "duration": 4,
    "start_time": "2021-11-17T21:37:16.590Z"
   },
   {
    "duration": 3,
    "start_time": "2021-11-17T21:37:22.702Z"
   },
   {
    "duration": 4,
    "start_time": "2021-11-17T21:38:03.479Z"
   },
   {
    "duration": 3,
    "start_time": "2021-11-17T21:38:08.601Z"
   },
   {
    "duration": 3,
    "start_time": "2021-11-17T21:38:12.928Z"
   },
   {
    "duration": 3,
    "start_time": "2021-11-17T21:38:48.896Z"
   },
   {
    "duration": 2,
    "start_time": "2021-11-17T21:38:49.171Z"
   },
   {
    "duration": 4,
    "start_time": "2021-11-17T21:39:57.889Z"
   },
   {
    "duration": 3,
    "start_time": "2021-11-17T21:39:58.057Z"
   },
   {
    "duration": 3,
    "start_time": "2021-11-17T21:41:20.108Z"
   },
   {
    "duration": 3,
    "start_time": "2021-11-17T21:41:20.629Z"
   },
   {
    "duration": 3,
    "start_time": "2021-11-17T21:42:49.136Z"
   },
   {
    "duration": 3,
    "start_time": "2021-11-17T21:43:15.137Z"
   },
   {
    "duration": 4,
    "start_time": "2021-11-17T21:43:16.766Z"
   },
   {
    "duration": 4,
    "start_time": "2021-11-17T21:43:31.711Z"
   },
   {
    "duration": 3,
    "start_time": "2021-11-17T21:43:36.312Z"
   },
   {
    "duration": 4,
    "start_time": "2021-11-17T21:45:08.825Z"
   },
   {
    "duration": 4,
    "start_time": "2021-11-17T21:45:10.119Z"
   },
   {
    "duration": 4,
    "start_time": "2021-11-17T21:45:13.748Z"
   },
   {
    "duration": 3,
    "start_time": "2021-11-17T21:45:22.219Z"
   },
   {
    "duration": 3,
    "start_time": "2021-11-17T21:45:33.412Z"
   },
   {
    "duration": 2,
    "start_time": "2021-11-17T21:46:01.885Z"
   },
   {
    "duration": 3,
    "start_time": "2021-11-17T21:46:03.628Z"
   },
   {
    "duration": 107,
    "start_time": "2021-11-17T21:47:32.512Z"
   },
   {
    "duration": 103,
    "start_time": "2021-11-17T21:50:36.243Z"
   },
   {
    "duration": 3,
    "start_time": "2021-11-18T06:28:31.440Z"
   },
   {
    "duration": 3,
    "start_time": "2021-11-18T06:29:00.168Z"
   },
   {
    "duration": 3,
    "start_time": "2021-11-18T06:31:27.008Z"
   },
   {
    "duration": 2,
    "start_time": "2021-11-18T06:35:34.288Z"
   },
   {
    "duration": 2,
    "start_time": "2021-11-18T06:38:04.527Z"
   },
   {
    "duration": 2657,
    "start_time": "2024-10-29T17:17:43.502Z"
   },
   {
    "duration": 2,
    "start_time": "2024-10-29T17:21:56.594Z"
   },
   {
    "duration": 998,
    "start_time": "2024-10-29T17:27:47.378Z"
   },
   {
    "duration": 193,
    "start_time": "2024-10-29T17:27:57.316Z"
   },
   {
    "duration": 157,
    "start_time": "2024-10-29T17:28:00.411Z"
   },
   {
    "duration": 21,
    "start_time": "2024-10-29T17:29:16.445Z"
   },
   {
    "duration": 7,
    "start_time": "2024-10-29T17:30:27.885Z"
   },
   {
    "duration": 6,
    "start_time": "2024-10-29T17:30:38.379Z"
   },
   {
    "duration": 8,
    "start_time": "2024-10-29T17:30:48.418Z"
   },
   {
    "duration": 10,
    "start_time": "2024-10-29T17:30:59.327Z"
   },
   {
    "duration": 10,
    "start_time": "2024-10-29T17:31:34.429Z"
   },
   {
    "duration": 13,
    "start_time": "2024-10-29T17:34:44.333Z"
   },
   {
    "duration": 10,
    "start_time": "2024-10-29T17:34:58.457Z"
   },
   {
    "duration": 10,
    "start_time": "2024-10-29T17:35:14.104Z"
   },
   {
    "duration": 337,
    "start_time": "2024-10-29T17:35:24.166Z"
   },
   {
    "duration": 9,
    "start_time": "2024-10-29T17:35:31.402Z"
   },
   {
    "duration": 11,
    "start_time": "2024-10-29T17:35:46.509Z"
   },
   {
    "duration": 11,
    "start_time": "2024-10-29T17:35:52.754Z"
   },
   {
    "duration": 4,
    "start_time": "2024-10-29T17:52:17.274Z"
   },
   {
    "duration": 12,
    "start_time": "2024-10-29T17:52:37.737Z"
   },
   {
    "duration": 32,
    "start_time": "2024-10-29T18:03:15.717Z"
   },
   {
    "duration": 15,
    "start_time": "2024-10-29T18:03:20.417Z"
   },
   {
    "duration": 12,
    "start_time": "2024-10-29T19:15:51.722Z"
   },
   {
    "duration": 13,
    "start_time": "2024-10-29T19:16:00.480Z"
   },
   {
    "duration": 9,
    "start_time": "2024-10-29T19:17:55.860Z"
   },
   {
    "duration": 11,
    "start_time": "2024-10-29T19:18:13.659Z"
   },
   {
    "duration": 10,
    "start_time": "2024-10-29T19:18:17.163Z"
   },
   {
    "duration": 11,
    "start_time": "2024-10-29T19:18:30.247Z"
   },
   {
    "duration": 11,
    "start_time": "2024-10-29T19:18:35.298Z"
   },
   {
    "duration": 12,
    "start_time": "2024-10-29T19:18:40.041Z"
   },
   {
    "duration": 5,
    "start_time": "2024-10-29T19:24:16.276Z"
   },
   {
    "duration": 14,
    "start_time": "2024-10-29T19:24:29.140Z"
   },
   {
    "duration": 14,
    "start_time": "2024-10-29T19:24:43.245Z"
   },
   {
    "duration": 12,
    "start_time": "2024-10-29T19:24:47.557Z"
   },
   {
    "duration": 17,
    "start_time": "2024-10-29T19:28:48.444Z"
   },
   {
    "duration": 7,
    "start_time": "2024-10-29T19:29:00.960Z"
   },
   {
    "duration": 9,
    "start_time": "2024-10-29T19:31:09.816Z"
   },
   {
    "duration": 9,
    "start_time": "2024-10-29T19:31:15.982Z"
   },
   {
    "duration": 11,
    "start_time": "2024-10-29T19:31:18.692Z"
   },
   {
    "duration": 32,
    "start_time": "2024-10-29T19:43:14.672Z"
   },
   {
    "duration": 6,
    "start_time": "2024-10-29T19:50:39.711Z"
   },
   {
    "duration": 5,
    "start_time": "2024-10-29T19:52:41.184Z"
   },
   {
    "duration": 10,
    "start_time": "2024-10-29T19:57:31.733Z"
   },
   {
    "duration": 38,
    "start_time": "2024-10-29T19:59:27.655Z"
   },
   {
    "duration": 13,
    "start_time": "2024-10-29T20:04:38.504Z"
   },
   {
    "duration": 13,
    "start_time": "2024-10-29T20:04:42.401Z"
   },
   {
    "duration": 7,
    "start_time": "2024-10-29T20:05:08.182Z"
   },
   {
    "duration": 7,
    "start_time": "2024-10-29T20:05:24.986Z"
   },
   {
    "duration": 8,
    "start_time": "2024-10-29T20:05:28.070Z"
   },
   {
    "duration": 10,
    "start_time": "2024-10-29T20:05:30.682Z"
   },
   {
    "duration": 9,
    "start_time": "2024-10-29T20:05:32.258Z"
   },
   {
    "duration": 8,
    "start_time": "2024-10-29T20:05:33.590Z"
   },
   {
    "duration": 17,
    "start_time": "2024-10-29T20:06:02.243Z"
   },
   {
    "duration": 168,
    "start_time": "2024-10-29T22:11:39.675Z"
   },
   {
    "duration": 2520,
    "start_time": "2024-10-29T22:11:45.008Z"
   },
   {
    "duration": 72,
    "start_time": "2024-10-29T22:11:51.515Z"
   },
   {
    "duration": 786,
    "start_time": "2024-10-29T22:12:05.432Z"
   },
   {
    "duration": 225,
    "start_time": "2024-10-29T22:12:06.221Z"
   },
   {
    "duration": 13,
    "start_time": "2024-10-29T22:12:06.448Z"
   },
   {
    "duration": 9,
    "start_time": "2024-10-29T22:12:06.463Z"
   },
   {
    "duration": 7,
    "start_time": "2024-10-29T22:12:06.474Z"
   },
   {
    "duration": 10,
    "start_time": "2024-10-29T22:12:06.482Z"
   },
   {
    "duration": 9,
    "start_time": "2024-10-29T22:12:06.494Z"
   },
   {
    "duration": 8,
    "start_time": "2024-10-29T22:12:06.504Z"
   },
   {
    "duration": 8,
    "start_time": "2024-10-29T22:12:06.514Z"
   },
   {
    "duration": 8,
    "start_time": "2024-10-29T22:12:06.525Z"
   },
   {
    "duration": 5,
    "start_time": "2024-10-29T22:12:06.535Z"
   },
   {
    "duration": 44,
    "start_time": "2024-10-29T22:12:06.542Z"
   },
   {
    "duration": 2,
    "start_time": "2024-10-29T22:12:06.589Z"
   },
   {
    "duration": 16,
    "start_time": "2024-10-29T22:12:06.592Z"
   },
   {
    "duration": 7,
    "start_time": "2024-10-29T22:12:06.609Z"
   },
   {
    "duration": 9,
    "start_time": "2024-10-29T22:12:06.618Z"
   },
   {
    "duration": 64,
    "start_time": "2024-10-29T22:12:06.628Z"
   },
   {
    "duration": 25,
    "start_time": "2024-10-29T22:12:06.694Z"
   },
   {
    "duration": 2,
    "start_time": "2024-10-29T22:12:06.721Z"
   },
   {
    "duration": 11,
    "start_time": "2024-10-29T22:12:06.726Z"
   },
   {
    "duration": 6,
    "start_time": "2024-10-29T22:12:06.739Z"
   },
   {
    "duration": 7,
    "start_time": "2024-10-29T22:12:06.747Z"
   },
   {
    "duration": 17,
    "start_time": "2024-10-29T22:12:06.787Z"
   },
   {
    "duration": 16,
    "start_time": "2024-10-29T22:12:06.806Z"
   },
   {
    "duration": 2,
    "start_time": "2024-10-29T22:12:06.824Z"
   },
   {
    "duration": 2,
    "start_time": "2024-10-29T22:12:06.828Z"
   },
   {
    "duration": 3,
    "start_time": "2024-10-29T22:12:06.831Z"
   },
   {
    "duration": 2,
    "start_time": "2024-10-29T22:12:06.838Z"
   },
   {
    "duration": 2,
    "start_time": "2024-10-29T22:12:06.842Z"
   },
   {
    "duration": 40,
    "start_time": "2024-10-29T22:12:06.846Z"
   },
   {
    "duration": 2,
    "start_time": "2024-10-29T22:12:06.888Z"
   },
   {
    "duration": 2,
    "start_time": "2024-10-29T22:12:06.892Z"
   },
   {
    "duration": 2,
    "start_time": "2024-10-29T22:12:06.896Z"
   },
   {
    "duration": 2,
    "start_time": "2024-10-29T22:12:06.900Z"
   },
   {
    "duration": 3,
    "start_time": "2024-10-29T22:12:06.903Z"
   },
   {
    "duration": 3,
    "start_time": "2024-10-29T22:12:06.907Z"
   },
   {
    "duration": 2,
    "start_time": "2024-10-29T22:12:06.911Z"
   },
   {
    "duration": 2,
    "start_time": "2024-10-29T22:12:06.915Z"
   },
   {
    "duration": 2,
    "start_time": "2024-10-29T22:12:06.919Z"
   },
   {
    "duration": 2,
    "start_time": "2024-10-29T22:12:06.923Z"
   },
   {
    "duration": 2,
    "start_time": "2024-10-29T22:12:06.927Z"
   },
   {
    "duration": 55,
    "start_time": "2024-10-29T22:12:06.931Z"
   },
   {
    "duration": 14,
    "start_time": "2024-10-29T22:14:33.832Z"
   },
   {
    "duration": 8,
    "start_time": "2024-10-29T22:15:13.163Z"
   },
   {
    "duration": 9,
    "start_time": "2024-10-29T22:15:27.207Z"
   },
   {
    "duration": 11,
    "start_time": "2024-10-29T22:15:30.292Z"
   },
   {
    "duration": 9,
    "start_time": "2024-10-29T22:15:31.082Z"
   },
   {
    "duration": 12,
    "start_time": "2024-10-29T22:15:32.106Z"
   },
   {
    "duration": 34,
    "start_time": "2024-10-29T22:17:21.923Z"
   },
   {
    "duration": 21,
    "start_time": "2024-10-29T22:19:59.782Z"
   },
   {
    "duration": 218,
    "start_time": "2024-10-29T22:22:26.969Z"
   },
   {
    "duration": 265,
    "start_time": "2024-10-29T22:22:31.875Z"
   },
   {
    "duration": 9,
    "start_time": "2024-10-29T22:22:46.246Z"
   },
   {
    "duration": 8,
    "start_time": "2024-10-29T22:22:50.577Z"
   },
   {
    "duration": 4,
    "start_time": "2024-10-29T23:58:34.617Z"
   },
   {
    "duration": 2491,
    "start_time": "2024-10-30T15:47:18.242Z"
   },
   {
    "duration": 735,
    "start_time": "2024-10-30T15:47:27.665Z"
   },
   {
    "duration": 209,
    "start_time": "2024-10-30T15:47:28.402Z"
   },
   {
    "duration": 11,
    "start_time": "2024-10-30T15:47:28.613Z"
   },
   {
    "duration": 8,
    "start_time": "2024-10-30T15:47:28.626Z"
   },
   {
    "duration": 4,
    "start_time": "2024-10-30T15:47:28.638Z"
   },
   {
    "duration": 9,
    "start_time": "2024-10-30T15:47:28.643Z"
   },
   {
    "duration": 9,
    "start_time": "2024-10-30T15:47:28.669Z"
   },
   {
    "duration": 8,
    "start_time": "2024-10-30T15:47:28.680Z"
   },
   {
    "duration": 8,
    "start_time": "2024-10-30T15:47:28.689Z"
   },
   {
    "duration": 8,
    "start_time": "2024-10-30T15:47:28.699Z"
   },
   {
    "duration": 6,
    "start_time": "2024-10-30T15:47:28.708Z"
   },
   {
    "duration": 10,
    "start_time": "2024-10-30T15:47:28.715Z"
   },
   {
    "duration": 2,
    "start_time": "2024-10-30T15:47:28.727Z"
   },
   {
    "duration": 4,
    "start_time": "2024-10-30T15:47:28.773Z"
   },
   {
    "duration": 15,
    "start_time": "2024-10-30T15:47:28.778Z"
   },
   {
    "duration": 6,
    "start_time": "2024-10-30T15:47:28.795Z"
   },
   {
    "duration": 9,
    "start_time": "2024-10-30T15:47:28.804Z"
   },
   {
    "duration": 63,
    "start_time": "2024-10-30T15:47:28.815Z"
   },
   {
    "duration": 25,
    "start_time": "2024-10-30T15:47:28.879Z"
   },
   {
    "duration": 2,
    "start_time": "2024-10-30T15:47:28.906Z"
   },
   {
    "duration": 12,
    "start_time": "2024-10-30T15:47:28.909Z"
   },
   {
    "duration": 5,
    "start_time": "2024-10-30T15:47:28.922Z"
   },
   {
    "duration": 8,
    "start_time": "2024-10-30T15:47:28.929Z"
   },
   {
    "duration": 17,
    "start_time": "2024-10-30T15:47:28.971Z"
   },
   {
    "duration": 16,
    "start_time": "2024-10-30T15:47:28.989Z"
   },
   {
    "duration": 13,
    "start_time": "2024-10-30T15:47:29.006Z"
   },
   {
    "duration": 8,
    "start_time": "2024-10-30T15:47:29.020Z"
   },
   {
    "duration": 40,
    "start_time": "2024-10-30T15:47:29.030Z"
   },
   {
    "duration": 36,
    "start_time": "2024-10-30T15:47:29.072Z"
   },
   {
    "duration": 21,
    "start_time": "2024-10-30T15:47:29.109Z"
   },
   {
    "duration": 10,
    "start_time": "2024-10-30T15:47:29.131Z"
   },
   {
    "duration": 2,
    "start_time": "2024-10-30T15:47:29.143Z"
   },
   {
    "duration": 3,
    "start_time": "2024-10-30T15:47:29.170Z"
   },
   {
    "duration": 2,
    "start_time": "2024-10-30T15:47:29.174Z"
   },
   {
    "duration": 2,
    "start_time": "2024-10-30T15:47:29.178Z"
   },
   {
    "duration": 2,
    "start_time": "2024-10-30T15:47:29.182Z"
   },
   {
    "duration": 2,
    "start_time": "2024-10-30T15:47:29.186Z"
   },
   {
    "duration": 3,
    "start_time": "2024-10-30T15:47:29.189Z"
   },
   {
    "duration": 3,
    "start_time": "2024-10-30T15:47:29.193Z"
   },
   {
    "duration": 2,
    "start_time": "2024-10-30T15:47:29.197Z"
   },
   {
    "duration": 2,
    "start_time": "2024-10-30T15:47:29.204Z"
   },
   {
    "duration": 3,
    "start_time": "2024-10-30T15:47:29.207Z"
   },
   {
    "duration": 2,
    "start_time": "2024-10-30T15:47:29.212Z"
   },
   {
    "duration": 2,
    "start_time": "2024-10-30T15:47:29.216Z"
   },
   {
    "duration": 3,
    "start_time": "2024-10-30T15:47:29.271Z"
   },
   {
    "duration": 3,
    "start_time": "2024-10-30T15:47:29.275Z"
   },
   {
    "duration": 13,
    "start_time": "2024-10-30T15:52:31.748Z"
   },
   {
    "duration": 11,
    "start_time": "2024-10-30T15:52:37.603Z"
   },
   {
    "duration": 11,
    "start_time": "2024-10-30T15:52:41.877Z"
   },
   {
    "duration": 24,
    "start_time": "2024-10-30T16:18:30.102Z"
   },
   {
    "duration": 21,
    "start_time": "2024-10-30T16:18:40.682Z"
   },
   {
    "duration": 16,
    "start_time": "2024-10-30T16:18:56.146Z"
   },
   {
    "duration": 18,
    "start_time": "2024-10-30T16:19:01.209Z"
   },
   {
    "duration": 685,
    "start_time": "2024-10-30T16:20:55.461Z"
   },
   {
    "duration": 19,
    "start_time": "2024-10-30T16:24:21.810Z"
   },
   {
    "duration": 20,
    "start_time": "2024-10-30T16:24:36.253Z"
   },
   {
    "duration": 21,
    "start_time": "2024-10-30T16:24:49.860Z"
   },
   {
    "duration": 7,
    "start_time": "2024-10-30T16:24:58.286Z"
   },
   {
    "duration": 7,
    "start_time": "2024-10-30T16:27:04.096Z"
   },
   {
    "duration": 10,
    "start_time": "2024-10-30T16:33:25.039Z"
   },
   {
    "duration": 10,
    "start_time": "2024-10-30T16:34:08.080Z"
   },
   {
    "duration": 13,
    "start_time": "2024-10-30T16:38:59.015Z"
   },
   {
    "duration": 5,
    "start_time": "2024-10-30T16:39:16.020Z"
   },
   {
    "duration": 14,
    "start_time": "2024-10-30T16:39:22.698Z"
   },
   {
    "duration": 10,
    "start_time": "2024-10-30T16:41:26.623Z"
   },
   {
    "duration": 13,
    "start_time": "2024-10-30T16:41:49.721Z"
   },
   {
    "duration": 16,
    "start_time": "2024-10-30T16:42:07.986Z"
   },
   {
    "duration": 6,
    "start_time": "2024-10-30T16:42:57.616Z"
   },
   {
    "duration": 6,
    "start_time": "2024-10-30T16:48:10.656Z"
   },
   {
    "duration": 91,
    "start_time": "2024-10-30T16:52:28.321Z"
   },
   {
    "duration": 15,
    "start_time": "2024-10-30T16:52:42.257Z"
   },
   {
    "duration": 8,
    "start_time": "2024-10-30T16:52:46.365Z"
   },
   {
    "duration": 14,
    "start_time": "2024-10-30T16:53:07.747Z"
   },
   {
    "duration": 13,
    "start_time": "2024-10-30T16:53:17.545Z"
   },
   {
    "duration": 14,
    "start_time": "2024-10-30T16:53:34.120Z"
   },
   {
    "duration": 6,
    "start_time": "2024-10-30T16:54:06.601Z"
   },
   {
    "duration": 20,
    "start_time": "2024-10-30T17:05:06.571Z"
   },
   {
    "duration": 7,
    "start_time": "2024-10-30T17:05:30.397Z"
   },
   {
    "duration": 6,
    "start_time": "2024-10-30T17:24:54.829Z"
   },
   {
    "duration": 16,
    "start_time": "2024-10-30T17:41:56.030Z"
   },
   {
    "duration": 17,
    "start_time": "2024-10-30T17:42:14.510Z"
   },
   {
    "duration": 19,
    "start_time": "2024-10-30T17:42:27.763Z"
   },
   {
    "duration": 26,
    "start_time": "2024-10-30T17:42:29.067Z"
   },
   {
    "duration": 19,
    "start_time": "2024-10-30T17:53:43.522Z"
   },
   {
    "duration": 18,
    "start_time": "2024-10-30T17:53:45.812Z"
   },
   {
    "duration": 18,
    "start_time": "2024-10-30T17:53:48.377Z"
   },
   {
    "duration": 18,
    "start_time": "2024-10-30T17:53:51.804Z"
   },
   {
    "duration": 20,
    "start_time": "2024-10-30T17:53:54.891Z"
   },
   {
    "duration": 18,
    "start_time": "2024-10-30T17:53:57.850Z"
   },
   {
    "duration": 261,
    "start_time": "2024-10-30T18:15:43.364Z"
   },
   {
    "duration": 30,
    "start_time": "2024-10-30T18:16:11.616Z"
   },
   {
    "duration": 13,
    "start_time": "2024-10-30T18:17:33.983Z"
   },
   {
    "duration": 15,
    "start_time": "2024-10-30T18:17:39.887Z"
   },
   {
    "duration": 17,
    "start_time": "2024-10-30T18:17:42.323Z"
   },
   {
    "duration": 15,
    "start_time": "2024-10-30T18:17:50.088Z"
   },
   {
    "duration": 754,
    "start_time": "2024-10-30T18:18:56.567Z"
   },
   {
    "duration": 156,
    "start_time": "2024-10-30T18:18:57.324Z"
   },
   {
    "duration": 11,
    "start_time": "2024-10-30T18:18:57.482Z"
   },
   {
    "duration": 10,
    "start_time": "2024-10-30T18:18:57.494Z"
   },
   {
    "duration": 5,
    "start_time": "2024-10-30T18:18:57.507Z"
   },
   {
    "duration": 8,
    "start_time": "2024-10-30T18:18:57.514Z"
   },
   {
    "duration": 9,
    "start_time": "2024-10-30T18:18:57.524Z"
   },
   {
    "duration": 41,
    "start_time": "2024-10-30T18:18:57.534Z"
   },
   {
    "duration": 8,
    "start_time": "2024-10-30T18:18:57.577Z"
   },
   {
    "duration": 8,
    "start_time": "2024-10-30T18:18:57.587Z"
   },
   {
    "duration": 5,
    "start_time": "2024-10-30T18:18:57.596Z"
   },
   {
    "duration": 11,
    "start_time": "2024-10-30T18:18:57.603Z"
   },
   {
    "duration": 2,
    "start_time": "2024-10-30T18:18:57.615Z"
   },
   {
    "duration": 4,
    "start_time": "2024-10-30T18:18:57.621Z"
   },
   {
    "duration": 18,
    "start_time": "2024-10-30T18:18:57.670Z"
   },
   {
    "duration": 7,
    "start_time": "2024-10-30T18:18:57.690Z"
   },
   {
    "duration": 11,
    "start_time": "2024-10-30T18:18:57.698Z"
   },
   {
    "duration": 60,
    "start_time": "2024-10-30T18:18:57.711Z"
   },
   {
    "duration": 24,
    "start_time": "2024-10-30T18:18:57.773Z"
   },
   {
    "duration": 12,
    "start_time": "2024-10-30T18:18:57.799Z"
   },
   {
    "duration": 12,
    "start_time": "2024-10-30T18:18:57.813Z"
   },
   {
    "duration": 5,
    "start_time": "2024-10-30T18:18:57.827Z"
   },
   {
    "duration": 40,
    "start_time": "2024-10-30T18:18:57.834Z"
   },
   {
    "duration": 15,
    "start_time": "2024-10-30T18:18:57.876Z"
   },
   {
    "duration": 16,
    "start_time": "2024-10-30T18:18:57.893Z"
   },
   {
    "duration": 14,
    "start_time": "2024-10-30T18:18:57.911Z"
   },
   {
    "duration": 7,
    "start_time": "2024-10-30T18:18:57.926Z"
   },
   {
    "duration": 38,
    "start_time": "2024-10-30T18:18:57.934Z"
   },
   {
    "duration": 37,
    "start_time": "2024-10-30T18:18:57.973Z"
   },
   {
    "duration": 20,
    "start_time": "2024-10-30T18:18:58.012Z"
   },
   {
    "duration": 9,
    "start_time": "2024-10-30T18:18:58.033Z"
   },
   {
    "duration": 45,
    "start_time": "2024-10-30T18:18:58.043Z"
   },
   {
    "duration": 6,
    "start_time": "2024-10-30T18:18:58.090Z"
   },
   {
    "duration": 13,
    "start_time": "2024-10-30T18:18:58.098Z"
   },
   {
    "duration": 6,
    "start_time": "2024-10-30T18:18:58.113Z"
   },
   {
    "duration": 14,
    "start_time": "2024-10-30T18:18:58.121Z"
   },
   {
    "duration": 38,
    "start_time": "2024-10-30T18:18:58.137Z"
   },
   {
    "duration": 17,
    "start_time": "2024-10-30T18:18:58.176Z"
   },
   {
    "duration": 6,
    "start_time": "2024-10-30T18:18:58.195Z"
   },
   {
    "duration": 17,
    "start_time": "2024-10-30T18:18:58.203Z"
   },
   {
    "duration": 13,
    "start_time": "2024-10-30T18:18:58.224Z"
   },
   {
    "duration": 1,
    "start_time": "2024-10-30T18:18:58.239Z"
   },
   {
    "duration": 29,
    "start_time": "2024-10-30T18:18:58.242Z"
   },
   {
    "duration": 2,
    "start_time": "2024-10-30T18:18:58.273Z"
   },
   {
    "duration": 2,
    "start_time": "2024-10-30T18:18:58.277Z"
   },
   {
    "duration": 2,
    "start_time": "2024-10-30T18:18:58.281Z"
   },
   {
    "duration": 2,
    "start_time": "2024-10-30T18:18:58.285Z"
   },
   {
    "duration": 1,
    "start_time": "2024-10-30T18:18:58.290Z"
   },
   {
    "duration": 2,
    "start_time": "2024-10-30T18:18:58.293Z"
   },
   {
    "duration": 2,
    "start_time": "2024-10-30T18:18:58.297Z"
   },
   {
    "duration": 8,
    "start_time": "2024-10-30T18:19:20.903Z"
   },
   {
    "duration": 3,
    "start_time": "2024-10-30T18:36:17.198Z"
   },
   {
    "duration": 137,
    "start_time": "2024-10-30T19:04:16.838Z"
   },
   {
    "duration": 3,
    "start_time": "2024-10-30T19:06:04.843Z"
   },
   {
    "duration": 4,
    "start_time": "2024-10-30T19:07:41.300Z"
   },
   {
    "duration": 3,
    "start_time": "2024-10-30T19:08:01.861Z"
   },
   {
    "duration": 4,
    "start_time": "2024-10-30T19:08:46.943Z"
   },
   {
    "duration": 10,
    "start_time": "2024-10-30T19:09:05.490Z"
   },
   {
    "duration": 10,
    "start_time": "2024-10-30T19:09:15.811Z"
   },
   {
    "duration": 104,
    "start_time": "2024-10-30T19:10:02.768Z"
   },
   {
    "duration": 17,
    "start_time": "2024-10-30T19:10:10.427Z"
   },
   {
    "duration": 19,
    "start_time": "2024-10-30T20:08:05.510Z"
   },
   {
    "duration": 17,
    "start_time": "2024-10-30T20:08:17.767Z"
   },
   {
    "duration": 5,
    "start_time": "2024-10-30T20:08:42.221Z"
   },
   {
    "duration": 16,
    "start_time": "2024-10-30T20:08:44.442Z"
   },
   {
    "duration": 16,
    "start_time": "2024-10-30T20:08:51.350Z"
   },
   {
    "duration": 15,
    "start_time": "2024-10-30T20:08:55.832Z"
   },
   {
    "duration": 2570,
    "start_time": "2024-10-30T22:24:51.924Z"
   },
   {
    "duration": 218,
    "start_time": "2024-10-30T22:24:54.497Z"
   },
   {
    "duration": 15,
    "start_time": "2024-10-30T22:24:54.717Z"
   },
   {
    "duration": 9,
    "start_time": "2024-10-30T22:24:54.733Z"
   },
   {
    "duration": 5,
    "start_time": "2024-10-30T22:24:54.745Z"
   },
   {
    "duration": 9,
    "start_time": "2024-10-30T22:24:54.751Z"
   },
   {
    "duration": 9,
    "start_time": "2024-10-30T22:24:54.762Z"
   },
   {
    "duration": 41,
    "start_time": "2024-10-30T22:24:54.772Z"
   },
   {
    "duration": 8,
    "start_time": "2024-10-30T22:24:54.815Z"
   },
   {
    "duration": 9,
    "start_time": "2024-10-30T22:24:54.825Z"
   },
   {
    "duration": 5,
    "start_time": "2024-10-30T22:24:54.836Z"
   },
   {
    "duration": 11,
    "start_time": "2024-10-30T22:24:54.843Z"
   },
   {
    "duration": 2,
    "start_time": "2024-10-30T22:24:54.856Z"
   },
   {
    "duration": 4,
    "start_time": "2024-10-30T22:24:54.862Z"
   },
   {
    "duration": 62,
    "start_time": "2024-10-30T22:24:54.867Z"
   },
   {
    "duration": 7,
    "start_time": "2024-10-30T22:24:54.930Z"
   },
   {
    "duration": 9,
    "start_time": "2024-10-30T22:24:54.939Z"
   },
   {
    "duration": 31,
    "start_time": "2024-10-30T22:24:54.950Z"
   },
   {
    "duration": 52,
    "start_time": "2024-10-30T22:24:54.983Z"
   },
   {
    "duration": 13,
    "start_time": "2024-10-30T22:24:55.036Z"
   },
   {
    "duration": 12,
    "start_time": "2024-10-30T22:24:55.050Z"
   },
   {
    "duration": 5,
    "start_time": "2024-10-30T22:24:55.064Z"
   },
   {
    "duration": 41,
    "start_time": "2024-10-30T22:24:55.072Z"
   },
   {
    "duration": 17,
    "start_time": "2024-10-30T22:24:55.115Z"
   },
   {
    "duration": 17,
    "start_time": "2024-10-30T22:24:55.134Z"
   },
   {
    "duration": 13,
    "start_time": "2024-10-30T22:24:55.153Z"
   },
   {
    "duration": 6,
    "start_time": "2024-10-30T22:24:55.168Z"
   },
   {
    "duration": 43,
    "start_time": "2024-10-30T22:24:55.176Z"
   },
   {
    "duration": 37,
    "start_time": "2024-10-30T22:24:55.221Z"
   },
   {
    "duration": 22,
    "start_time": "2024-10-30T22:24:55.260Z"
   },
   {
    "duration": 31,
    "start_time": "2024-10-30T22:24:55.284Z"
   },
   {
    "duration": 26,
    "start_time": "2024-10-30T22:24:55.317Z"
   },
   {
    "duration": 8,
    "start_time": "2024-10-30T22:24:55.346Z"
   },
   {
    "duration": 17,
    "start_time": "2024-10-30T22:24:55.356Z"
   },
   {
    "duration": 6,
    "start_time": "2024-10-30T22:24:55.375Z"
   },
   {
    "duration": 44,
    "start_time": "2024-10-30T22:24:55.383Z"
   },
   {
    "duration": 7,
    "start_time": "2024-10-30T22:24:55.429Z"
   },
   {
    "duration": 22,
    "start_time": "2024-10-30T22:24:55.438Z"
   },
   {
    "duration": 7,
    "start_time": "2024-10-30T22:24:55.463Z"
   },
   {
    "duration": 45,
    "start_time": "2024-10-30T22:24:55.472Z"
   },
   {
    "duration": 13,
    "start_time": "2024-10-30T22:24:55.523Z"
   },
   {
    "duration": 10,
    "start_time": "2024-10-30T22:24:55.538Z"
   },
   {
    "duration": 17,
    "start_time": "2024-10-30T22:24:55.550Z"
   },
   {
    "duration": 5,
    "start_time": "2024-10-30T22:24:55.570Z"
   },
   {
    "duration": 48,
    "start_time": "2024-10-30T22:24:55.577Z"
   },
   {
    "duration": 2,
    "start_time": "2024-10-30T22:24:55.627Z"
   },
   {
    "duration": 3,
    "start_time": "2024-10-30T22:24:55.631Z"
   },
   {
    "duration": 2,
    "start_time": "2024-10-30T22:24:55.636Z"
   },
   {
    "duration": 3,
    "start_time": "2024-10-30T22:24:55.640Z"
   },
   {
    "duration": 3,
    "start_time": "2024-10-30T22:24:55.644Z"
   },
   {
    "duration": 3,
    "start_time": "2024-10-30T22:24:55.648Z"
   },
   {
    "duration": 3,
    "start_time": "2024-10-30T22:24:55.653Z"
   },
   {
    "duration": 3,
    "start_time": "2024-10-30T22:24:55.657Z"
   },
   {
    "duration": 5,
    "start_time": "2024-10-30T22:31:35.748Z"
   },
   {
    "duration": 20,
    "start_time": "2024-10-30T22:31:36.767Z"
   },
   {
    "duration": 4,
    "start_time": "2024-10-30T22:37:21.768Z"
   },
   {
    "duration": 21,
    "start_time": "2024-10-30T22:37:25.042Z"
   },
   {
    "duration": 20,
    "start_time": "2024-10-30T22:37:34.389Z"
   },
   {
    "duration": 20,
    "start_time": "2024-10-30T22:37:37.632Z"
   },
   {
    "duration": 19,
    "start_time": "2024-10-30T22:37:41.711Z"
   },
   {
    "duration": 21,
    "start_time": "2024-10-30T22:37:45.691Z"
   },
   {
    "duration": 20,
    "start_time": "2024-10-30T22:37:48.973Z"
   },
   {
    "duration": 213,
    "start_time": "2024-10-30T22:37:59.481Z"
   },
   {
    "duration": 4,
    "start_time": "2024-10-30T22:39:44.802Z"
   },
   {
    "duration": 22,
    "start_time": "2024-10-30T22:39:46.416Z"
   },
   {
    "duration": 21,
    "start_time": "2024-10-30T22:39:59.552Z"
   },
   {
    "duration": 14,
    "start_time": "2024-10-30T22:40:19.262Z"
   },
   {
    "duration": 14,
    "start_time": "2024-10-30T22:40:38.301Z"
   },
   {
    "duration": 4,
    "start_time": "2024-10-30T22:40:47.882Z"
   },
   {
    "duration": 768,
    "start_time": "2024-10-30T22:41:19.192Z"
   },
   {
    "duration": 164,
    "start_time": "2024-10-30T22:41:19.964Z"
   },
   {
    "duration": 12,
    "start_time": "2024-10-30T22:41:20.130Z"
   },
   {
    "duration": 9,
    "start_time": "2024-10-30T22:41:20.144Z"
   },
   {
    "duration": 5,
    "start_time": "2024-10-30T22:41:20.155Z"
   },
   {
    "duration": 11,
    "start_time": "2024-10-30T22:41:20.162Z"
   },
   {
    "duration": 10,
    "start_time": "2024-10-30T22:41:20.174Z"
   },
   {
    "duration": 32,
    "start_time": "2024-10-30T22:41:20.186Z"
   },
   {
    "duration": 9,
    "start_time": "2024-10-30T22:41:20.221Z"
   },
   {
    "duration": 9,
    "start_time": "2024-10-30T22:41:20.231Z"
   },
   {
    "duration": 5,
    "start_time": "2024-10-30T22:41:20.242Z"
   },
   {
    "duration": 12,
    "start_time": "2024-10-30T22:41:20.248Z"
   },
   {
    "duration": 3,
    "start_time": "2024-10-30T22:41:20.261Z"
   },
   {
    "duration": 5,
    "start_time": "2024-10-30T22:41:20.267Z"
   },
   {
    "duration": 51,
    "start_time": "2024-10-30T22:41:20.273Z"
   },
   {
    "duration": 7,
    "start_time": "2024-10-30T22:41:20.326Z"
   },
   {
    "duration": 10,
    "start_time": "2024-10-30T22:41:20.334Z"
   },
   {
    "duration": 34,
    "start_time": "2024-10-30T22:41:20.346Z"
   },
   {
    "duration": 50,
    "start_time": "2024-10-30T22:41:20.381Z"
   },
   {
    "duration": 13,
    "start_time": "2024-10-30T22:41:20.433Z"
   },
   {
    "duration": 13,
    "start_time": "2024-10-30T22:41:20.448Z"
   },
   {
    "duration": 6,
    "start_time": "2024-10-30T22:41:20.462Z"
   },
   {
    "duration": 7,
    "start_time": "2024-10-30T22:41:20.470Z"
   },
   {
    "duration": 48,
    "start_time": "2024-10-30T22:41:20.478Z"
   },
   {
    "duration": 16,
    "start_time": "2024-10-30T22:41:20.527Z"
   },
   {
    "duration": 13,
    "start_time": "2024-10-30T22:41:20.545Z"
   },
   {
    "duration": 7,
    "start_time": "2024-10-30T22:41:20.560Z"
   },
   {
    "duration": 9,
    "start_time": "2024-10-30T22:41:20.569Z"
   },
   {
    "duration": 36,
    "start_time": "2024-10-30T22:41:20.612Z"
   },
   {
    "duration": 22,
    "start_time": "2024-10-30T22:41:20.650Z"
   },
   {
    "duration": 9,
    "start_time": "2024-10-30T22:41:20.674Z"
   },
   {
    "duration": 46,
    "start_time": "2024-10-30T22:41:20.684Z"
   },
   {
    "duration": 5,
    "start_time": "2024-10-30T22:41:20.732Z"
   },
   {
    "duration": 16,
    "start_time": "2024-10-30T22:41:20.739Z"
   },
   {
    "duration": 7,
    "start_time": "2024-10-30T22:41:20.756Z"
   },
   {
    "duration": 16,
    "start_time": "2024-10-30T22:41:20.764Z"
   },
   {
    "duration": 31,
    "start_time": "2024-10-30T22:41:20.782Z"
   },
   {
    "duration": 18,
    "start_time": "2024-10-30T22:41:20.815Z"
   },
   {
    "duration": 5,
    "start_time": "2024-10-30T22:41:20.835Z"
   },
   {
    "duration": 18,
    "start_time": "2024-10-30T22:41:20.842Z"
   },
   {
    "duration": 47,
    "start_time": "2024-10-30T22:41:20.866Z"
   },
   {
    "duration": 10,
    "start_time": "2024-10-30T22:41:20.915Z"
   },
   {
    "duration": 15,
    "start_time": "2024-10-30T22:41:20.926Z"
   },
   {
    "duration": 5,
    "start_time": "2024-10-30T22:41:20.943Z"
   },
   {
    "duration": 16,
    "start_time": "2024-10-30T22:41:20.950Z"
   },
   {
    "duration": 15,
    "start_time": "2024-10-30T22:41:20.967Z"
   },
   {
    "duration": 629,
    "start_time": "2024-10-30T22:41:20.983Z"
   },
   {
    "duration": 0,
    "start_time": "2024-10-30T22:41:21.615Z"
   },
   {
    "duration": 0,
    "start_time": "2024-10-30T22:41:21.616Z"
   },
   {
    "duration": 0,
    "start_time": "2024-10-30T22:41:21.617Z"
   },
   {
    "duration": 0,
    "start_time": "2024-10-30T22:41:21.618Z"
   },
   {
    "duration": 0,
    "start_time": "2024-10-30T22:41:21.619Z"
   },
   {
    "duration": 0,
    "start_time": "2024-10-30T22:41:21.621Z"
   },
   {
    "duration": 0,
    "start_time": "2024-10-30T22:41:21.622Z"
   },
   {
    "duration": 0,
    "start_time": "2024-10-30T22:41:21.622Z"
   },
   {
    "duration": 40,
    "start_time": "2024-10-30T22:41:53.292Z"
   },
   {
    "duration": 4,
    "start_time": "2024-10-30T22:42:11.595Z"
   },
   {
    "duration": 19,
    "start_time": "2024-10-30T22:49:34.594Z"
   },
   {
    "duration": 18,
    "start_time": "2024-10-30T22:49:37.706Z"
   },
   {
    "duration": 18,
    "start_time": "2024-10-30T22:49:39.068Z"
   },
   {
    "duration": 11,
    "start_time": "2024-10-30T22:50:25.659Z"
   },
   {
    "duration": 4,
    "start_time": "2024-10-30T22:50:42.933Z"
   },
   {
    "duration": 5,
    "start_time": "2024-10-30T22:54:49.436Z"
   },
   {
    "duration": 13,
    "start_time": "2024-10-30T22:55:00.390Z"
   },
   {
    "duration": 6,
    "start_time": "2024-10-30T22:55:13.860Z"
   },
   {
    "duration": 16,
    "start_time": "2024-10-30T22:56:58.512Z"
   },
   {
    "duration": 5,
    "start_time": "2024-10-30T22:57:20.033Z"
   },
   {
    "duration": 28,
    "start_time": "2024-10-30T23:02:04.123Z"
   },
   {
    "duration": 27,
    "start_time": "2024-10-30T23:02:16.518Z"
   },
   {
    "duration": 20,
    "start_time": "2024-10-30T23:03:57.619Z"
   },
   {
    "duration": 6,
    "start_time": "2024-10-30T23:04:05.435Z"
   },
   {
    "duration": 4,
    "start_time": "2024-10-30T23:04:30.204Z"
   },
   {
    "duration": 19,
    "start_time": "2024-10-30T23:04:40.868Z"
   },
   {
    "duration": 7,
    "start_time": "2024-10-30T23:05:29.266Z"
   },
   {
    "duration": 19,
    "start_time": "2024-10-30T23:05:38.789Z"
   },
   {
    "duration": 13,
    "start_time": "2024-10-30T23:05:44.336Z"
   },
   {
    "duration": 10,
    "start_time": "2024-10-30T23:05:59.400Z"
   },
   {
    "duration": 16,
    "start_time": "2024-10-30T23:06:17.399Z"
   },
   {
    "duration": 16,
    "start_time": "2024-10-30T23:06:31.290Z"
   },
   {
    "duration": 21,
    "start_time": "2024-10-30T23:07:12.042Z"
   },
   {
    "duration": 127,
    "start_time": "2024-10-30T23:07:14.656Z"
   },
   {
    "duration": 4,
    "start_time": "2024-10-30T23:07:19.556Z"
   },
   {
    "duration": 7,
    "start_time": "2024-10-30T23:07:23.001Z"
   },
   {
    "duration": 18,
    "start_time": "2024-10-30T23:07:26.167Z"
   },
   {
    "duration": 13,
    "start_time": "2024-10-30T23:07:30.731Z"
   },
   {
    "duration": 10,
    "start_time": "2024-10-30T23:07:38.256Z"
   },
   {
    "duration": 17,
    "start_time": "2024-10-30T23:07:43.405Z"
   },
   {
    "duration": 7,
    "start_time": "2024-10-30T23:08:06.196Z"
   },
   {
    "duration": 17,
    "start_time": "2024-10-30T23:08:08.709Z"
   },
   {
    "duration": 4,
    "start_time": "2024-10-30T23:08:18.120Z"
   },
   {
    "duration": 6,
    "start_time": "2024-10-30T23:08:59.356Z"
   },
   {
    "duration": 19,
    "start_time": "2024-10-30T23:09:00.810Z"
   },
   {
    "duration": 44,
    "start_time": "2024-10-30T23:13:14.384Z"
   },
   {
    "duration": 22,
    "start_time": "2024-10-30T23:14:48.277Z"
   },
   {
    "duration": 2483,
    "start_time": "2024-10-31T03:31:22.311Z"
   },
   {
    "duration": 208,
    "start_time": "2024-10-31T03:31:24.796Z"
   },
   {
    "duration": 14,
    "start_time": "2024-10-31T03:31:25.005Z"
   },
   {
    "duration": 10,
    "start_time": "2024-10-31T03:31:25.022Z"
   },
   {
    "duration": 5,
    "start_time": "2024-10-31T03:31:25.034Z"
   },
   {
    "duration": 10,
    "start_time": "2024-10-31T03:31:25.041Z"
   },
   {
    "duration": 13,
    "start_time": "2024-10-31T03:31:25.053Z"
   },
   {
    "duration": 9,
    "start_time": "2024-10-31T03:31:25.067Z"
   },
   {
    "duration": 7,
    "start_time": "2024-10-31T03:31:25.078Z"
   },
   {
    "duration": 9,
    "start_time": "2024-10-31T03:31:25.125Z"
   },
   {
    "duration": 5,
    "start_time": "2024-10-31T03:31:25.136Z"
   },
   {
    "duration": 10,
    "start_time": "2024-10-31T03:31:25.143Z"
   },
   {
    "duration": 3,
    "start_time": "2024-10-31T03:31:25.154Z"
   },
   {
    "duration": 4,
    "start_time": "2024-10-31T03:31:25.158Z"
   },
   {
    "duration": 15,
    "start_time": "2024-10-31T03:31:25.164Z"
   },
   {
    "duration": 6,
    "start_time": "2024-10-31T03:31:25.181Z"
   },
   {
    "duration": 9,
    "start_time": "2024-10-31T03:31:25.224Z"
   },
   {
    "duration": 31,
    "start_time": "2024-10-31T03:31:25.235Z"
   },
   {
    "duration": 25,
    "start_time": "2024-10-31T03:31:25.268Z"
   },
   {
    "duration": 34,
    "start_time": "2024-10-31T03:31:25.294Z"
   },
   {
    "duration": 12,
    "start_time": "2024-10-31T03:31:25.330Z"
   },
   {
    "duration": 6,
    "start_time": "2024-10-31T03:31:25.344Z"
   },
   {
    "duration": 7,
    "start_time": "2024-10-31T03:31:25.351Z"
   },
   {
    "duration": 15,
    "start_time": "2024-10-31T03:31:25.360Z"
   },
   {
    "duration": 54,
    "start_time": "2024-10-31T03:31:25.376Z"
   },
   {
    "duration": 14,
    "start_time": "2024-10-31T03:31:25.431Z"
   },
   {
    "duration": 6,
    "start_time": "2024-10-31T03:31:25.446Z"
   },
   {
    "duration": 8,
    "start_time": "2024-10-31T03:31:25.457Z"
   },
   {
    "duration": 60,
    "start_time": "2024-10-31T03:31:25.466Z"
   },
   {
    "duration": 6,
    "start_time": "2024-10-31T03:31:25.528Z"
   },
   {
    "duration": 19,
    "start_time": "2024-10-31T03:31:25.536Z"
   },
   {
    "duration": 8,
    "start_time": "2024-10-31T03:31:25.557Z"
   },
   {
    "duration": 22,
    "start_time": "2024-10-31T03:31:25.567Z"
   },
   {
    "duration": 6,
    "start_time": "2024-10-31T03:31:25.591Z"
   },
   {
    "duration": 15,
    "start_time": "2024-10-31T03:31:25.625Z"
   },
   {
    "duration": 7,
    "start_time": "2024-10-31T03:31:25.641Z"
   },
   {
    "duration": 14,
    "start_time": "2024-10-31T03:31:25.649Z"
   },
   {
    "duration": 6,
    "start_time": "2024-10-31T03:31:25.665Z"
   },
   {
    "duration": 52,
    "start_time": "2024-10-31T03:31:25.672Z"
   },
   {
    "duration": 3,
    "start_time": "2024-10-31T03:31:25.726Z"
   },
   {
    "duration": 7,
    "start_time": "2024-10-31T03:31:25.731Z"
   },
   {
    "duration": 18,
    "start_time": "2024-10-31T03:31:25.739Z"
   },
   {
    "duration": 12,
    "start_time": "2024-10-31T03:31:25.758Z"
   },
   {
    "duration": 9,
    "start_time": "2024-10-31T03:31:25.772Z"
   },
   {
    "duration": 47,
    "start_time": "2024-10-31T03:31:25.782Z"
   },
   {
    "duration": 6,
    "start_time": "2024-10-31T03:31:25.831Z"
   },
   {
    "duration": 15,
    "start_time": "2024-10-31T03:31:25.839Z"
   },
   {
    "duration": 4,
    "start_time": "2024-10-31T03:31:25.855Z"
   },
   {
    "duration": 4,
    "start_time": "2024-10-31T03:31:25.862Z"
   },
   {
    "duration": 19,
    "start_time": "2024-10-31T03:31:25.867Z"
   },
   {
    "duration": 51,
    "start_time": "2024-10-31T03:31:25.888Z"
   },
   {
    "duration": 2,
    "start_time": "2024-10-31T03:31:25.940Z"
   },
   {
    "duration": 3,
    "start_time": "2024-10-31T03:31:25.944Z"
   },
   {
    "duration": 2,
    "start_time": "2024-10-31T03:31:25.948Z"
   },
   {
    "duration": 2,
    "start_time": "2024-10-31T03:31:25.952Z"
   },
   {
    "duration": 3,
    "start_time": "2024-10-31T03:31:25.955Z"
   },
   {
    "duration": 3,
    "start_time": "2024-10-31T03:31:25.959Z"
   },
   {
    "duration": 3,
    "start_time": "2024-10-31T03:31:25.963Z"
   },
   {
    "duration": 2,
    "start_time": "2024-10-31T03:31:25.967Z"
   },
   {
    "duration": 471,
    "start_time": "2024-10-31T03:46:31.216Z"
   },
   {
    "duration": 178,
    "start_time": "2024-10-31T03:46:44.799Z"
   },
   {
    "duration": 17,
    "start_time": "2024-10-31T03:47:02.514Z"
   },
   {
    "duration": 337,
    "start_time": "2024-10-31T03:49:38.728Z"
   },
   {
    "duration": 315,
    "start_time": "2024-10-31T03:51:32.156Z"
   },
   {
    "duration": 390,
    "start_time": "2024-10-31T03:51:42.558Z"
   },
   {
    "duration": 340,
    "start_time": "2024-10-31T03:51:50.014Z"
   },
   {
    "duration": 352,
    "start_time": "2024-10-31T03:52:06.498Z"
   },
   {
    "duration": 3470,
    "start_time": "2024-10-31T04:26:20.783Z"
   },
   {
    "duration": 914,
    "start_time": "2024-10-31T04:26:37.189Z"
   },
   {
    "duration": 325,
    "start_time": "2024-10-31T04:26:38.106Z"
   },
   {
    "duration": 15,
    "start_time": "2024-10-31T04:26:38.436Z"
   },
   {
    "duration": 12,
    "start_time": "2024-10-31T04:26:38.456Z"
   },
   {
    "duration": 6,
    "start_time": "2024-10-31T04:26:38.469Z"
   },
   {
    "duration": 12,
    "start_time": "2024-10-31T04:26:38.477Z"
   },
   {
    "duration": 11,
    "start_time": "2024-10-31T04:26:38.492Z"
   },
   {
    "duration": 36,
    "start_time": "2024-10-31T04:26:38.505Z"
   },
   {
    "duration": 16,
    "start_time": "2024-10-31T04:26:38.543Z"
   },
   {
    "duration": 14,
    "start_time": "2024-10-31T04:26:38.563Z"
   },
   {
    "duration": 7,
    "start_time": "2024-10-31T04:26:38.579Z"
   },
   {
    "duration": 14,
    "start_time": "2024-10-31T04:26:38.588Z"
   },
   {
    "duration": 3,
    "start_time": "2024-10-31T04:26:38.605Z"
   },
   {
    "duration": 5,
    "start_time": "2024-10-31T04:26:38.632Z"
   },
   {
    "duration": 33,
    "start_time": "2024-10-31T04:26:38.639Z"
   },
   {
    "duration": 9,
    "start_time": "2024-10-31T04:26:38.674Z"
   },
   {
    "duration": 11,
    "start_time": "2024-10-31T04:26:38.685Z"
   },
   {
    "duration": 75,
    "start_time": "2024-10-31T04:26:38.698Z"
   },
   {
    "duration": 28,
    "start_time": "2024-10-31T04:26:38.775Z"
   },
   {
    "duration": 16,
    "start_time": "2024-10-31T04:26:38.805Z"
   },
   {
    "duration": 17,
    "start_time": "2024-10-31T04:26:38.823Z"
   },
   {
    "duration": 17,
    "start_time": "2024-10-31T04:26:38.842Z"
   },
   {
    "duration": 13,
    "start_time": "2024-10-31T04:26:38.863Z"
   },
   {
    "duration": 16,
    "start_time": "2024-10-31T04:26:38.878Z"
   },
   {
    "duration": 17,
    "start_time": "2024-10-31T04:26:38.896Z"
   },
   {
    "duration": 33,
    "start_time": "2024-10-31T04:26:38.938Z"
   },
   {
    "duration": 10,
    "start_time": "2024-10-31T04:26:38.973Z"
   },
   {
    "duration": 10,
    "start_time": "2024-10-31T04:26:38.991Z"
   },
   {
    "duration": 68,
    "start_time": "2024-10-31T04:26:39.004Z"
   },
   {
    "duration": 8,
    "start_time": "2024-10-31T04:26:39.074Z"
   },
   {
    "duration": 22,
    "start_time": "2024-10-31T04:26:39.084Z"
   },
   {
    "duration": 9,
    "start_time": "2024-10-31T04:26:39.108Z"
   },
   {
    "duration": 52,
    "start_time": "2024-10-31T04:26:39.118Z"
   },
   {
    "duration": 8,
    "start_time": "2024-10-31T04:26:39.173Z"
   },
   {
    "duration": 20,
    "start_time": "2024-10-31T04:26:39.183Z"
   },
   {
    "duration": 7,
    "start_time": "2024-10-31T04:26:39.205Z"
   },
   {
    "duration": 55,
    "start_time": "2024-10-31T04:26:39.214Z"
   },
   {
    "duration": 9,
    "start_time": "2024-10-31T04:26:39.273Z"
   },
   {
    "duration": 24,
    "start_time": "2024-10-31T04:26:39.284Z"
   },
   {
    "duration": 5,
    "start_time": "2024-10-31T04:26:39.309Z"
   },
   {
    "duration": 33,
    "start_time": "2024-10-31T04:26:39.315Z"
   },
   {
    "duration": 27,
    "start_time": "2024-10-31T04:26:39.350Z"
   },
   {
    "duration": 14,
    "start_time": "2024-10-31T04:26:39.380Z"
   },
   {
    "duration": 11,
    "start_time": "2024-10-31T04:26:39.396Z"
   },
   {
    "duration": 47,
    "start_time": "2024-10-31T04:26:39.409Z"
   },
   {
    "duration": 10,
    "start_time": "2024-10-31T04:26:39.458Z"
   },
   {
    "duration": 18,
    "start_time": "2024-10-31T04:26:39.470Z"
   },
   {
    "duration": 4,
    "start_time": "2024-10-31T04:26:39.491Z"
   },
   {
    "duration": 7,
    "start_time": "2024-10-31T04:26:39.497Z"
   },
   {
    "duration": 40,
    "start_time": "2024-10-31T04:26:39.506Z"
   },
   {
    "duration": 33,
    "start_time": "2024-10-31T04:26:39.548Z"
   },
   {
    "duration": 21,
    "start_time": "2024-10-31T04:26:39.583Z"
   },
   {
    "duration": 430,
    "start_time": "2024-10-31T04:26:39.607Z"
   },
   {
    "duration": 4,
    "start_time": "2024-10-31T04:26:40.039Z"
   },
   {
    "duration": 3,
    "start_time": "2024-10-31T04:26:40.045Z"
   },
   {
    "duration": 2,
    "start_time": "2024-10-31T04:26:40.049Z"
   },
   {
    "duration": 3,
    "start_time": "2024-10-31T04:26:40.053Z"
   },
   {
    "duration": 3,
    "start_time": "2024-10-31T04:26:40.057Z"
   },
   {
    "duration": 2,
    "start_time": "2024-10-31T04:26:40.062Z"
   },
   {
    "duration": 2,
    "start_time": "2024-10-31T04:26:40.066Z"
   },
   {
    "duration": 14,
    "start_time": "2024-10-31T04:44:17.640Z"
   },
   {
    "duration": 12,
    "start_time": "2024-10-31T04:46:38.648Z"
   },
   {
    "duration": 290,
    "start_time": "2024-10-31T04:56:39.849Z"
   },
   {
    "duration": 2521,
    "start_time": "2024-10-31T15:51:02.939Z"
   },
   {
    "duration": 229,
    "start_time": "2024-10-31T15:51:05.462Z"
   },
   {
    "duration": 12,
    "start_time": "2024-10-31T15:51:05.693Z"
   },
   {
    "duration": 9,
    "start_time": "2024-10-31T15:51:05.708Z"
   },
   {
    "duration": 5,
    "start_time": "2024-10-31T15:51:05.718Z"
   },
   {
    "duration": 9,
    "start_time": "2024-10-31T15:51:05.725Z"
   },
   {
    "duration": 10,
    "start_time": "2024-10-31T15:51:05.736Z"
   },
   {
    "duration": 8,
    "start_time": "2024-10-31T15:51:05.747Z"
   },
   {
    "duration": 8,
    "start_time": "2024-10-31T15:51:05.757Z"
   },
   {
    "duration": 46,
    "start_time": "2024-10-31T15:51:05.769Z"
   },
   {
    "duration": 5,
    "start_time": "2024-10-31T15:51:05.817Z"
   },
   {
    "duration": 11,
    "start_time": "2024-10-31T15:51:05.824Z"
   },
   {
    "duration": 2,
    "start_time": "2024-10-31T15:51:05.837Z"
   },
   {
    "duration": 5,
    "start_time": "2024-10-31T15:51:05.841Z"
   },
   {
    "duration": 16,
    "start_time": "2024-10-31T15:51:05.848Z"
   },
   {
    "duration": 6,
    "start_time": "2024-10-31T15:51:05.866Z"
   },
   {
    "duration": 10,
    "start_time": "2024-10-31T15:51:05.909Z"
   },
   {
    "duration": 34,
    "start_time": "2024-10-31T15:51:05.921Z"
   },
   {
    "duration": 26,
    "start_time": "2024-10-31T15:51:05.957Z"
   },
   {
    "duration": 34,
    "start_time": "2024-10-31T15:51:05.985Z"
   },
   {
    "duration": 13,
    "start_time": "2024-10-31T15:51:06.021Z"
   },
   {
    "duration": 7,
    "start_time": "2024-10-31T15:51:06.035Z"
   },
   {
    "duration": 9,
    "start_time": "2024-10-31T15:51:06.043Z"
   },
   {
    "duration": 16,
    "start_time": "2024-10-31T15:51:06.053Z"
   },
   {
    "duration": 16,
    "start_time": "2024-10-31T15:51:06.108Z"
   },
   {
    "duration": 14,
    "start_time": "2024-10-31T15:51:06.126Z"
   },
   {
    "duration": 7,
    "start_time": "2024-10-31T15:51:06.142Z"
   },
   {
    "duration": 9,
    "start_time": "2024-10-31T15:51:06.155Z"
   },
   {
    "duration": 75,
    "start_time": "2024-10-31T15:51:06.165Z"
   },
   {
    "duration": 6,
    "start_time": "2024-10-31T15:51:06.242Z"
   },
   {
    "duration": 20,
    "start_time": "2024-10-31T15:51:06.250Z"
   },
   {
    "duration": 9,
    "start_time": "2024-10-31T15:51:06.272Z"
   },
   {
    "duration": 41,
    "start_time": "2024-10-31T15:51:06.283Z"
   },
   {
    "duration": 6,
    "start_time": "2024-10-31T15:51:06.326Z"
   },
   {
    "duration": 15,
    "start_time": "2024-10-31T15:51:06.334Z"
   },
   {
    "duration": 7,
    "start_time": "2024-10-31T15:51:06.350Z"
   },
   {
    "duration": 16,
    "start_time": "2024-10-31T15:51:06.358Z"
   },
   {
    "duration": 7,
    "start_time": "2024-10-31T15:51:06.408Z"
   },
   {
    "duration": 23,
    "start_time": "2024-10-31T15:51:06.418Z"
   },
   {
    "duration": 4,
    "start_time": "2024-10-31T15:51:06.443Z"
   },
   {
    "duration": 7,
    "start_time": "2024-10-31T15:51:06.449Z"
   },
   {
    "duration": 19,
    "start_time": "2024-10-31T15:51:06.457Z"
   },
   {
    "duration": 43,
    "start_time": "2024-10-31T15:51:06.478Z"
   },
   {
    "duration": 10,
    "start_time": "2024-10-31T15:51:06.522Z"
   },
   {
    "duration": 17,
    "start_time": "2024-10-31T15:51:06.534Z"
   },
   {
    "duration": 5,
    "start_time": "2024-10-31T15:51:06.553Z"
   },
   {
    "duration": 15,
    "start_time": "2024-10-31T15:51:06.560Z"
   },
   {
    "duration": 5,
    "start_time": "2024-10-31T15:51:06.610Z"
   },
   {
    "duration": 5,
    "start_time": "2024-10-31T15:51:06.617Z"
   },
   {
    "duration": 20,
    "start_time": "2024-10-31T15:51:06.624Z"
   },
   {
    "duration": 22,
    "start_time": "2024-10-31T15:51:06.646Z"
   },
   {
    "duration": 51,
    "start_time": "2024-10-31T15:51:06.671Z"
   },
   {
    "duration": 352,
    "start_time": "2024-10-31T15:51:06.724Z"
   },
   {
    "duration": 3,
    "start_time": "2024-10-31T15:51:07.078Z"
   },
   {
    "duration": 9,
    "start_time": "2024-10-31T15:51:07.083Z"
   },
   {
    "duration": 208,
    "start_time": "2024-10-31T15:51:07.108Z"
   },
   {
    "duration": 3,
    "start_time": "2024-10-31T15:51:07.317Z"
   },
   {
    "duration": 2,
    "start_time": "2024-10-31T15:51:07.322Z"
   },
   {
    "duration": 3,
    "start_time": "2024-10-31T15:51:07.325Z"
   },
   {
    "duration": 3,
    "start_time": "2024-10-31T15:51:07.329Z"
   },
   {
    "duration": 392,
    "start_time": "2024-10-31T15:51:57.213Z"
   },
   {
    "duration": 459,
    "start_time": "2024-10-31T15:54:12.614Z"
   },
   {
    "duration": 218,
    "start_time": "2024-10-31T15:56:18.813Z"
   },
   {
    "duration": 568,
    "start_time": "2024-10-31T15:56:46.971Z"
   },
   {
    "duration": 269,
    "start_time": "2024-10-31T15:57:05.950Z"
   },
   {
    "duration": 449,
    "start_time": "2024-10-31T15:57:16.505Z"
   },
   {
    "duration": 387,
    "start_time": "2024-10-31T15:58:31.542Z"
   },
   {
    "duration": 437,
    "start_time": "2024-10-31T16:00:06.879Z"
   },
   {
    "duration": 500,
    "start_time": "2024-10-31T16:00:17.957Z"
   },
   {
    "duration": 29,
    "start_time": "2024-10-31T16:27:26.009Z"
   },
   {
    "duration": 18,
    "start_time": "2024-10-31T16:28:52.080Z"
   },
   {
    "duration": 18,
    "start_time": "2024-10-31T16:31:01.008Z"
   },
   {
    "duration": 19,
    "start_time": "2024-10-31T16:31:08.933Z"
   },
   {
    "duration": 19,
    "start_time": "2024-10-31T16:32:17.448Z"
   },
   {
    "duration": 354,
    "start_time": "2024-10-31T16:44:11.683Z"
   },
   {
    "duration": 329,
    "start_time": "2024-10-31T17:02:38.601Z"
   },
   {
    "duration": 330,
    "start_time": "2024-10-31T17:03:15.257Z"
   },
   {
    "duration": 10,
    "start_time": "2024-10-31T17:07:55.755Z"
   },
   {
    "duration": 9,
    "start_time": "2024-10-31T17:12:22.754Z"
   },
   {
    "duration": 349,
    "start_time": "2024-10-31T17:14:10.782Z"
   },
   {
    "duration": 353,
    "start_time": "2024-10-31T17:14:43.996Z"
   },
   {
    "duration": 10,
    "start_time": "2024-10-31T18:01:40.280Z"
   },
   {
    "duration": 389,
    "start_time": "2024-10-31T18:02:47.366Z"
   },
   {
    "duration": 401,
    "start_time": "2024-10-31T18:04:21.641Z"
   },
   {
    "duration": 113,
    "start_time": "2024-10-31T18:25:20.474Z"
   },
   {
    "duration": 112,
    "start_time": "2024-10-31T18:26:07.981Z"
   },
   {
    "duration": 211,
    "start_time": "2024-10-31T18:29:29.602Z"
   },
   {
    "duration": 118,
    "start_time": "2024-10-31T19:16:30.856Z"
   },
   {
    "duration": 797,
    "start_time": "2024-10-31T20:00:14.084Z"
   },
   {
    "duration": 170,
    "start_time": "2024-10-31T20:00:14.884Z"
   },
   {
    "duration": 12,
    "start_time": "2024-10-31T20:00:15.056Z"
   },
   {
    "duration": 10,
    "start_time": "2024-10-31T20:00:15.070Z"
   },
   {
    "duration": 5,
    "start_time": "2024-10-31T20:00:15.082Z"
   },
   {
    "duration": 27,
    "start_time": "2024-10-31T20:00:15.089Z"
   },
   {
    "duration": 10,
    "start_time": "2024-10-31T20:00:15.118Z"
   },
   {
    "duration": 9,
    "start_time": "2024-10-31T20:00:15.129Z"
   },
   {
    "duration": 8,
    "start_time": "2024-10-31T20:00:15.140Z"
   },
   {
    "duration": 9,
    "start_time": "2024-10-31T20:00:15.150Z"
   },
   {
    "duration": 5,
    "start_time": "2024-10-31T20:00:15.161Z"
   },
   {
    "duration": 48,
    "start_time": "2024-10-31T20:00:15.168Z"
   },
   {
    "duration": 3,
    "start_time": "2024-10-31T20:00:15.218Z"
   },
   {
    "duration": 4,
    "start_time": "2024-10-31T20:00:15.225Z"
   },
   {
    "duration": 16,
    "start_time": "2024-10-31T20:00:15.231Z"
   },
   {
    "duration": 8,
    "start_time": "2024-10-31T20:00:15.249Z"
   },
   {
    "duration": 12,
    "start_time": "2024-10-31T20:00:15.258Z"
   },
   {
    "duration": 35,
    "start_time": "2024-10-31T20:00:15.308Z"
   },
   {
    "duration": 27,
    "start_time": "2024-10-31T20:00:15.346Z"
   },
   {
    "duration": 35,
    "start_time": "2024-10-31T20:00:15.375Z"
   },
   {
    "duration": 13,
    "start_time": "2024-10-31T20:00:15.412Z"
   },
   {
    "duration": 5,
    "start_time": "2024-10-31T20:00:15.427Z"
   },
   {
    "duration": 8,
    "start_time": "2024-10-31T20:00:15.434Z"
   },
   {
    "duration": 16,
    "start_time": "2024-10-31T20:00:15.444Z"
   },
   {
    "duration": 51,
    "start_time": "2024-10-31T20:00:15.461Z"
   },
   {
    "duration": 14,
    "start_time": "2024-10-31T20:00:15.514Z"
   },
   {
    "duration": 7,
    "start_time": "2024-10-31T20:00:15.531Z"
   },
   {
    "duration": 10,
    "start_time": "2024-10-31T20:00:15.539Z"
   },
   {
    "duration": 64,
    "start_time": "2024-10-31T20:00:15.551Z"
   },
   {
    "duration": 7,
    "start_time": "2024-10-31T20:00:15.617Z"
   },
   {
    "duration": 20,
    "start_time": "2024-10-31T20:00:15.626Z"
   },
   {
    "duration": 9,
    "start_time": "2024-10-31T20:00:15.648Z"
   },
   {
    "duration": 21,
    "start_time": "2024-10-31T20:00:15.658Z"
   },
   {
    "duration": 7,
    "start_time": "2024-10-31T20:00:15.708Z"
   },
   {
    "duration": 15,
    "start_time": "2024-10-31T20:00:15.717Z"
   },
   {
    "duration": 6,
    "start_time": "2024-10-31T20:00:15.734Z"
   },
   {
    "duration": 14,
    "start_time": "2024-10-31T20:00:15.742Z"
   },
   {
    "duration": 6,
    "start_time": "2024-10-31T20:00:15.758Z"
   },
   {
    "duration": 56,
    "start_time": "2024-10-31T20:00:15.766Z"
   },
   {
    "duration": 4,
    "start_time": "2024-10-31T20:00:15.824Z"
   },
   {
    "duration": 6,
    "start_time": "2024-10-31T20:00:15.834Z"
   },
   {
    "duration": 17,
    "start_time": "2024-10-31T20:00:15.842Z"
   },
   {
    "duration": 13,
    "start_time": "2024-10-31T20:00:15.860Z"
   },
   {
    "duration": 42,
    "start_time": "2024-10-31T20:00:15.875Z"
   },
   {
    "duration": 16,
    "start_time": "2024-10-31T20:00:15.919Z"
   },
   {
    "duration": 5,
    "start_time": "2024-10-31T20:00:15.937Z"
   },
   {
    "duration": 14,
    "start_time": "2024-10-31T20:00:15.944Z"
   },
   {
    "duration": 4,
    "start_time": "2024-10-31T20:00:15.960Z"
   },
   {
    "duration": 6,
    "start_time": "2024-10-31T20:00:15.965Z"
   },
   {
    "duration": 29,
    "start_time": "2024-10-31T20:00:16.008Z"
   },
   {
    "duration": 21,
    "start_time": "2024-10-31T20:00:16.039Z"
   },
   {
    "duration": 17,
    "start_time": "2024-10-31T20:00:16.062Z"
   },
   {
    "duration": 364,
    "start_time": "2024-10-31T20:00:16.081Z"
   },
   {
    "duration": 283,
    "start_time": "2024-10-31T20:00:16.447Z"
   },
   {
    "duration": 0,
    "start_time": "2024-10-31T20:00:16.731Z"
   },
   {
    "duration": 0,
    "start_time": "2024-10-31T20:00:16.733Z"
   },
   {
    "duration": 0,
    "start_time": "2024-10-31T20:00:16.735Z"
   },
   {
    "duration": 1,
    "start_time": "2024-10-31T20:00:16.736Z"
   },
   {
    "duration": 0,
    "start_time": "2024-10-31T20:00:16.738Z"
   },
   {
    "duration": 0,
    "start_time": "2024-10-31T20:00:16.740Z"
   },
   {
    "duration": 0,
    "start_time": "2024-10-31T20:00:16.741Z"
   },
   {
    "duration": 0,
    "start_time": "2024-10-31T20:00:16.743Z"
   },
   {
    "duration": 0,
    "start_time": "2024-10-31T20:00:16.744Z"
   },
   {
    "duration": 0,
    "start_time": "2024-10-31T20:00:16.746Z"
   },
   {
    "duration": 0,
    "start_time": "2024-10-31T20:00:16.747Z"
   },
   {
    "duration": 0,
    "start_time": "2024-10-31T20:00:16.749Z"
   },
   {
    "duration": 0,
    "start_time": "2024-10-31T20:00:16.750Z"
   },
   {
    "duration": 0,
    "start_time": "2024-10-31T20:00:16.752Z"
   },
   {
    "duration": 10,
    "start_time": "2024-10-31T20:00:22.742Z"
   },
   {
    "duration": 18,
    "start_time": "2024-10-31T20:00:26.068Z"
   },
   {
    "duration": 3,
    "start_time": "2024-10-31T20:00:36.654Z"
   },
   {
    "duration": 164,
    "start_time": "2024-10-31T20:00:38.372Z"
   },
   {
    "duration": 13,
    "start_time": "2024-10-31T20:00:40.414Z"
   },
   {
    "duration": 9,
    "start_time": "2024-10-31T20:00:42.980Z"
   },
   {
    "duration": 6,
    "start_time": "2024-10-31T20:00:45.110Z"
   },
   {
    "duration": 13,
    "start_time": "2024-10-31T20:00:47.500Z"
   },
   {
    "duration": 11,
    "start_time": "2024-10-31T20:00:49.861Z"
   },
   {
    "duration": 9,
    "start_time": "2024-10-31T20:00:51.957Z"
   },
   {
    "duration": 8,
    "start_time": "2024-10-31T20:00:53.881Z"
   },
   {
    "duration": 11,
    "start_time": "2024-10-31T20:00:55.547Z"
   },
   {
    "duration": 7,
    "start_time": "2024-10-31T20:00:57.712Z"
   },
   {
    "duration": 12,
    "start_time": "2024-10-31T20:01:02.388Z"
   },
   {
    "duration": 3,
    "start_time": "2024-10-31T20:01:07.297Z"
   },
   {
    "duration": 6,
    "start_time": "2024-10-31T20:01:08.852Z"
   },
   {
    "duration": 16,
    "start_time": "2024-10-31T20:01:13.599Z"
   },
   {
    "duration": 7,
    "start_time": "2024-10-31T20:01:15.843Z"
   },
   {
    "duration": 10,
    "start_time": "2024-10-31T20:01:19.410Z"
   },
   {
    "duration": 31,
    "start_time": "2024-10-31T20:01:21.708Z"
   },
   {
    "duration": 26,
    "start_time": "2024-10-31T20:01:23.307Z"
   },
   {
    "duration": 14,
    "start_time": "2024-10-31T20:01:25.357Z"
   },
   {
    "duration": 13,
    "start_time": "2024-10-31T20:01:29.100Z"
   },
   {
    "duration": 7,
    "start_time": "2024-10-31T20:01:31.176Z"
   },
   {
    "duration": 8,
    "start_time": "2024-10-31T20:01:33.121Z"
   },
   {
    "duration": 16,
    "start_time": "2024-10-31T20:01:35.292Z"
   },
   {
    "duration": 19,
    "start_time": "2024-10-31T20:01:38.159Z"
   },
   {
    "duration": 15,
    "start_time": "2024-10-31T20:01:41.723Z"
   },
   {
    "duration": 7,
    "start_time": "2024-10-31T20:01:43.563Z"
   },
   {
    "duration": 12,
    "start_time": "2024-10-31T20:01:45.839Z"
   },
   {
    "duration": 36,
    "start_time": "2024-10-31T20:01:47.994Z"
   },
   {
    "duration": 7,
    "start_time": "2024-10-31T20:01:49.600Z"
   },
   {
    "duration": 28,
    "start_time": "2024-10-31T20:01:52.065Z"
   },
   {
    "duration": 11,
    "start_time": "2024-10-31T20:01:54.953Z"
   },
   {
    "duration": 32,
    "start_time": "2024-10-31T20:01:57.175Z"
   },
   {
    "duration": 8,
    "start_time": "2024-10-31T20:01:59.715Z"
   },
   {
    "duration": 18,
    "start_time": "2024-10-31T20:02:02.047Z"
   },
   {
    "duration": 8,
    "start_time": "2024-10-31T20:02:03.332Z"
   },
   {
    "duration": 16,
    "start_time": "2024-10-31T20:02:05.508Z"
   },
   {
    "duration": 10,
    "start_time": "2024-10-31T20:02:07.534Z"
   },
   {
    "duration": 22,
    "start_time": "2024-10-31T20:02:09.618Z"
   },
   {
    "duration": 5,
    "start_time": "2024-10-31T20:02:11.366Z"
   },
   {
    "duration": 7,
    "start_time": "2024-10-31T20:02:13.179Z"
   },
   {
    "duration": 20,
    "start_time": "2024-10-31T20:02:14.912Z"
   },
   {
    "duration": 16,
    "start_time": "2024-10-31T20:02:17.161Z"
   },
   {
    "duration": 10,
    "start_time": "2024-10-31T20:02:19.840Z"
   },
   {
    "duration": 17,
    "start_time": "2024-10-31T20:02:22.182Z"
   },
   {
    "duration": 7,
    "start_time": "2024-10-31T20:02:24.462Z"
   },
   {
    "duration": 16,
    "start_time": "2024-10-31T20:02:28.224Z"
   },
   {
    "duration": 5,
    "start_time": "2024-10-31T20:02:30.750Z"
   },
   {
    "duration": 5,
    "start_time": "2024-10-31T20:02:31.695Z"
   },
   {
    "duration": 20,
    "start_time": "2024-10-31T20:02:32.934Z"
   },
   {
    "duration": 21,
    "start_time": "2024-10-31T20:02:45.329Z"
   },
   {
    "duration": 24,
    "start_time": "2024-10-31T20:02:52.351Z"
   },
   {
    "duration": 20,
    "start_time": "2024-10-31T20:02:55.818Z"
   },
   {
    "duration": 29,
    "start_time": "2024-10-31T20:03:01.896Z"
   },
   {
    "duration": 18,
    "start_time": "2024-10-31T20:03:05.181Z"
   },
   {
    "duration": 358,
    "start_time": "2024-10-31T20:03:09.153Z"
   },
   {
    "duration": 19,
    "start_time": "2024-10-31T20:03:11.790Z"
   },
   {
    "duration": 11,
    "start_time": "2024-10-31T20:03:40.835Z"
   },
   {
    "duration": 221,
    "start_time": "2024-10-31T20:03:43.298Z"
   },
   {
    "duration": 437,
    "start_time": "2024-10-31T20:03:46.683Z"
   },
   {
    "duration": 20,
    "start_time": "2024-10-31T20:04:09.167Z"
   },
   {
    "duration": 333,
    "start_time": "2024-10-31T20:04:11.313Z"
   },
   {
    "duration": 799,
    "start_time": "2024-10-31T20:04:23.371Z"
   },
   {
    "duration": 171,
    "start_time": "2024-10-31T20:04:24.174Z"
   },
   {
    "duration": 13,
    "start_time": "2024-10-31T20:04:24.346Z"
   },
   {
    "duration": 11,
    "start_time": "2024-10-31T20:04:24.361Z"
   },
   {
    "duration": 5,
    "start_time": "2024-10-31T20:04:24.375Z"
   },
   {
    "duration": 30,
    "start_time": "2024-10-31T20:04:24.382Z"
   },
   {
    "duration": 10,
    "start_time": "2024-10-31T20:04:24.414Z"
   },
   {
    "duration": 9,
    "start_time": "2024-10-31T20:04:24.426Z"
   },
   {
    "duration": 9,
    "start_time": "2024-10-31T20:04:24.437Z"
   },
   {
    "duration": 10,
    "start_time": "2024-10-31T20:04:24.448Z"
   },
   {
    "duration": 6,
    "start_time": "2024-10-31T20:04:24.460Z"
   },
   {
    "duration": 48,
    "start_time": "2024-10-31T20:04:24.469Z"
   },
   {
    "duration": 3,
    "start_time": "2024-10-31T20:04:24.520Z"
   },
   {
    "duration": 5,
    "start_time": "2024-10-31T20:04:24.526Z"
   },
   {
    "duration": 17,
    "start_time": "2024-10-31T20:04:24.533Z"
   },
   {
    "duration": 7,
    "start_time": "2024-10-31T20:04:24.551Z"
   },
   {
    "duration": 50,
    "start_time": "2024-10-31T20:04:24.560Z"
   },
   {
    "duration": 37,
    "start_time": "2024-10-31T20:04:24.612Z"
   },
   {
    "duration": 26,
    "start_time": "2024-10-31T20:04:24.650Z"
   },
   {
    "duration": 37,
    "start_time": "2024-10-31T20:04:24.678Z"
   },
   {
    "duration": 14,
    "start_time": "2024-10-31T20:04:24.717Z"
   },
   {
    "duration": 7,
    "start_time": "2024-10-31T20:04:24.733Z"
   },
   {
    "duration": 9,
    "start_time": "2024-10-31T20:04:24.742Z"
   },
   {
    "duration": 21,
    "start_time": "2024-10-31T20:04:24.753Z"
   },
   {
    "duration": 21,
    "start_time": "2024-10-31T20:04:24.808Z"
   },
   {
    "duration": 14,
    "start_time": "2024-10-31T20:04:24.831Z"
   },
   {
    "duration": 7,
    "start_time": "2024-10-31T20:04:24.847Z"
   },
   {
    "duration": 9,
    "start_time": "2024-10-31T20:04:24.856Z"
   },
   {
    "duration": 78,
    "start_time": "2024-10-31T20:04:24.866Z"
   },
   {
    "duration": 7,
    "start_time": "2024-10-31T20:04:24.946Z"
   },
   {
    "duration": 21,
    "start_time": "2024-10-31T20:04:24.955Z"
   },
   {
    "duration": 36,
    "start_time": "2024-10-31T20:04:24.978Z"
   },
   {
    "duration": 22,
    "start_time": "2024-10-31T20:04:25.015Z"
   },
   {
    "duration": 7,
    "start_time": "2024-10-31T20:04:25.039Z"
   },
   {
    "duration": 16,
    "start_time": "2024-10-31T20:04:25.047Z"
   },
   {
    "duration": 7,
    "start_time": "2024-10-31T20:04:25.064Z"
   },
   {
    "duration": 40,
    "start_time": "2024-10-31T20:04:25.073Z"
   },
   {
    "duration": 6,
    "start_time": "2024-10-31T20:04:25.115Z"
   },
   {
    "duration": 22,
    "start_time": "2024-10-31T20:04:25.123Z"
   },
   {
    "duration": 4,
    "start_time": "2024-10-31T20:04:25.147Z"
   },
   {
    "duration": 6,
    "start_time": "2024-10-31T20:04:25.157Z"
   },
   {
    "duration": 57,
    "start_time": "2024-10-31T20:04:25.164Z"
   },
   {
    "duration": 13,
    "start_time": "2024-10-31T20:04:25.224Z"
   },
   {
    "duration": 10,
    "start_time": "2024-10-31T20:04:25.239Z"
   },
   {
    "duration": 18,
    "start_time": "2024-10-31T20:04:25.251Z"
   },
   {
    "duration": 39,
    "start_time": "2024-10-31T20:04:25.270Z"
   },
   {
    "duration": 17,
    "start_time": "2024-10-31T20:04:25.311Z"
   },
   {
    "duration": 5,
    "start_time": "2024-10-31T20:04:25.330Z"
   },
   {
    "duration": 5,
    "start_time": "2024-10-31T20:04:25.337Z"
   },
   {
    "duration": 20,
    "start_time": "2024-10-31T20:04:25.345Z"
   },
   {
    "duration": 50,
    "start_time": "2024-10-31T20:04:25.368Z"
   },
   {
    "duration": 18,
    "start_time": "2024-10-31T20:04:25.420Z"
   },
   {
    "duration": 417,
    "start_time": "2024-10-31T20:04:25.440Z"
   },
   {
    "duration": 652,
    "start_time": "2024-10-31T20:04:25.859Z"
   },
   {
    "duration": 10,
    "start_time": "2024-10-31T20:04:26.513Z"
   },
   {
    "duration": 133,
    "start_time": "2024-10-31T20:04:26.524Z"
   },
   {
    "duration": 19,
    "start_time": "2024-10-31T20:04:26.659Z"
   },
   {
    "duration": 362,
    "start_time": "2024-10-31T20:04:26.679Z"
   },
   {
    "duration": 10,
    "start_time": "2024-10-31T20:04:27.043Z"
   },
   {
    "duration": 450,
    "start_time": "2024-10-31T20:04:27.055Z"
   },
   {
    "duration": 126,
    "start_time": "2024-10-31T20:04:27.507Z"
   },
   {
    "duration": 696,
    "start_time": "2024-10-31T20:04:27.636Z"
   },
   {
    "duration": 0,
    "start_time": "2024-10-31T20:04:28.334Z"
   },
   {
    "duration": 0,
    "start_time": "2024-10-31T20:04:28.336Z"
   },
   {
    "duration": 0,
    "start_time": "2024-10-31T20:04:28.337Z"
   },
   {
    "duration": 0,
    "start_time": "2024-10-31T20:04:28.339Z"
   },
   {
    "duration": 0,
    "start_time": "2024-10-31T20:04:28.340Z"
   },
   {
    "duration": 0,
    "start_time": "2024-10-31T20:04:28.341Z"
   },
   {
    "duration": 169,
    "start_time": "2024-10-31T20:07:07.667Z"
   },
   {
    "duration": 12,
    "start_time": "2024-10-31T20:08:17.070Z"
   },
   {
    "duration": 15,
    "start_time": "2024-10-31T20:10:31.846Z"
   },
   {
    "duration": 179,
    "start_time": "2024-10-31T20:10:52.626Z"
   },
   {
    "duration": 808,
    "start_time": "2024-10-31T20:11:00.057Z"
   },
   {
    "duration": 178,
    "start_time": "2024-10-31T20:11:00.870Z"
   },
   {
    "duration": 11,
    "start_time": "2024-10-31T20:11:01.050Z"
   },
   {
    "duration": 10,
    "start_time": "2024-10-31T20:11:01.064Z"
   },
   {
    "duration": 5,
    "start_time": "2024-10-31T20:11:01.077Z"
   },
   {
    "duration": 32,
    "start_time": "2024-10-31T20:11:01.084Z"
   },
   {
    "duration": 15,
    "start_time": "2024-10-31T20:11:01.119Z"
   },
   {
    "duration": 12,
    "start_time": "2024-10-31T20:11:01.136Z"
   },
   {
    "duration": 9,
    "start_time": "2024-10-31T20:11:01.151Z"
   },
   {
    "duration": 11,
    "start_time": "2024-10-31T20:11:01.163Z"
   },
   {
    "duration": 37,
    "start_time": "2024-10-31T20:11:01.176Z"
   },
   {
    "duration": 11,
    "start_time": "2024-10-31T20:11:01.216Z"
   },
   {
    "duration": 3,
    "start_time": "2024-10-31T20:11:01.229Z"
   },
   {
    "duration": 5,
    "start_time": "2024-10-31T20:11:01.233Z"
   },
   {
    "duration": 16,
    "start_time": "2024-10-31T20:11:01.241Z"
   },
   {
    "duration": 7,
    "start_time": "2024-10-31T20:11:01.259Z"
   },
   {
    "duration": 12,
    "start_time": "2024-10-31T20:11:01.309Z"
   },
   {
    "duration": 35,
    "start_time": "2024-10-31T20:11:01.323Z"
   },
   {
    "duration": 54,
    "start_time": "2024-10-31T20:11:01.360Z"
   },
   {
    "duration": 12,
    "start_time": "2024-10-31T20:11:01.416Z"
   },
   {
    "duration": 12,
    "start_time": "2024-10-31T20:11:01.430Z"
   },
   {
    "duration": 6,
    "start_time": "2024-10-31T20:11:01.444Z"
   },
   {
    "duration": 7,
    "start_time": "2024-10-31T20:11:01.452Z"
   },
   {
    "duration": 49,
    "start_time": "2024-10-31T20:11:01.461Z"
   },
   {
    "duration": 18,
    "start_time": "2024-10-31T20:11:01.512Z"
   },
   {
    "duration": 14,
    "start_time": "2024-10-31T20:11:01.532Z"
   },
   {
    "duration": 7,
    "start_time": "2024-10-31T20:11:01.548Z"
   },
   {
    "duration": 11,
    "start_time": "2024-10-31T20:11:01.560Z"
   },
   {
    "duration": 68,
    "start_time": "2024-10-31T20:11:01.573Z"
   },
   {
    "duration": 6,
    "start_time": "2024-10-31T20:11:01.643Z"
   },
   {
    "duration": 21,
    "start_time": "2024-10-31T20:11:01.651Z"
   },
   {
    "duration": 8,
    "start_time": "2024-10-31T20:11:01.674Z"
   },
   {
    "duration": 22,
    "start_time": "2024-10-31T20:11:01.709Z"
   },
   {
    "duration": 5,
    "start_time": "2024-10-31T20:11:01.733Z"
   },
   {
    "duration": 17,
    "start_time": "2024-10-31T20:11:01.740Z"
   },
   {
    "duration": 6,
    "start_time": "2024-10-31T20:11:01.759Z"
   },
   {
    "duration": 49,
    "start_time": "2024-10-31T20:11:01.767Z"
   },
   {
    "duration": 8,
    "start_time": "2024-10-31T20:11:01.818Z"
   },
   {
    "duration": 23,
    "start_time": "2024-10-31T20:11:01.827Z"
   },
   {
    "duration": 4,
    "start_time": "2024-10-31T20:11:01.852Z"
   },
   {
    "duration": 6,
    "start_time": "2024-10-31T20:11:01.858Z"
   },
   {
    "duration": 47,
    "start_time": "2024-10-31T20:11:01.866Z"
   },
   {
    "duration": 14,
    "start_time": "2024-10-31T20:11:01.915Z"
   },
   {
    "duration": 10,
    "start_time": "2024-10-31T20:11:01.930Z"
   },
   {
    "duration": 17,
    "start_time": "2024-10-31T20:11:01.941Z"
   },
   {
    "duration": 8,
    "start_time": "2024-10-31T20:11:01.959Z"
   },
   {
    "duration": 48,
    "start_time": "2024-10-31T20:11:01.969Z"
   },
   {
    "duration": 6,
    "start_time": "2024-10-31T20:11:02.019Z"
   },
   {
    "duration": 5,
    "start_time": "2024-10-31T20:11:02.026Z"
   },
   {
    "duration": 19,
    "start_time": "2024-10-31T20:11:02.033Z"
   },
   {
    "duration": 22,
    "start_time": "2024-10-31T20:11:02.054Z"
   },
   {
    "duration": 48,
    "start_time": "2024-10-31T20:11:02.078Z"
   },
   {
    "duration": 406,
    "start_time": "2024-10-31T20:11:02.128Z"
   },
   {
    "duration": 556,
    "start_time": "2024-10-31T20:11:02.536Z"
   },
   {
    "duration": 21,
    "start_time": "2024-10-31T20:11:03.095Z"
   },
   {
    "duration": 173,
    "start_time": "2024-10-31T20:11:03.118Z"
   },
   {
    "duration": 28,
    "start_time": "2024-10-31T20:11:03.292Z"
   },
   {
    "duration": 326,
    "start_time": "2024-10-31T20:11:03.322Z"
   },
   {
    "duration": 10,
    "start_time": "2024-10-31T20:11:03.650Z"
   },
   {
    "duration": 437,
    "start_time": "2024-10-31T20:11:03.664Z"
   },
   {
    "duration": 124,
    "start_time": "2024-10-31T20:11:04.103Z"
   },
   {
    "duration": 19,
    "start_time": "2024-10-31T20:11:04.229Z"
   },
   {
    "duration": 384,
    "start_time": "2024-10-31T20:11:04.250Z"
   },
   {
    "duration": 10,
    "start_time": "2024-10-31T20:11:04.636Z"
   },
   {
    "duration": 533,
    "start_time": "2024-10-31T20:11:04.648Z"
   },
   {
    "duration": 127,
    "start_time": "2024-10-31T20:11:05.184Z"
   },
   {
    "duration": 3,
    "start_time": "2024-10-31T20:11:05.313Z"
   },
   {
    "duration": 2,
    "start_time": "2024-10-31T20:11:05.318Z"
   },
   {
    "duration": 118,
    "start_time": "2024-10-31T20:11:12.366Z"
   },
   {
    "duration": 4,
    "start_time": "2024-10-31T20:12:13.790Z"
   },
   {
    "duration": 5,
    "start_time": "2024-10-31T20:12:45.377Z"
   },
   {
    "duration": 450,
    "start_time": "2024-10-31T20:12:59.986Z"
   },
   {
    "duration": 156,
    "start_time": "2024-10-31T20:13:07.201Z"
   },
   {
    "duration": 2475,
    "start_time": "2024-10-31T22:55:08.330Z"
   },
   {
    "duration": 208,
    "start_time": "2024-10-31T22:55:10.808Z"
   },
   {
    "duration": 13,
    "start_time": "2024-10-31T22:55:11.018Z"
   },
   {
    "duration": 10,
    "start_time": "2024-10-31T22:55:11.032Z"
   },
   {
    "duration": 4,
    "start_time": "2024-10-31T22:55:11.046Z"
   },
   {
    "duration": 9,
    "start_time": "2024-10-31T22:55:11.052Z"
   },
   {
    "duration": 9,
    "start_time": "2024-10-31T22:55:11.063Z"
   },
   {
    "duration": 8,
    "start_time": "2024-10-31T22:55:11.074Z"
   },
   {
    "duration": 8,
    "start_time": "2024-10-31T22:55:11.084Z"
   },
   {
    "duration": 9,
    "start_time": "2024-10-31T22:55:11.125Z"
   },
   {
    "duration": 7,
    "start_time": "2024-10-31T22:55:11.136Z"
   },
   {
    "duration": 13,
    "start_time": "2024-10-31T22:55:11.145Z"
   },
   {
    "duration": 2,
    "start_time": "2024-10-31T22:55:11.160Z"
   },
   {
    "duration": 4,
    "start_time": "2024-10-31T22:55:11.166Z"
   },
   {
    "duration": 53,
    "start_time": "2024-10-31T22:55:11.172Z"
   },
   {
    "duration": 7,
    "start_time": "2024-10-31T22:55:11.227Z"
   },
   {
    "duration": 9,
    "start_time": "2024-10-31T22:55:11.236Z"
   },
   {
    "duration": 30,
    "start_time": "2024-10-31T22:55:11.247Z"
   },
   {
    "duration": 53,
    "start_time": "2024-10-31T22:55:11.279Z"
   },
   {
    "duration": 13,
    "start_time": "2024-10-31T22:55:11.334Z"
   },
   {
    "duration": 11,
    "start_time": "2024-10-31T22:55:11.349Z"
   },
   {
    "duration": 5,
    "start_time": "2024-10-31T22:55:11.362Z"
   },
   {
    "duration": 7,
    "start_time": "2024-10-31T22:55:11.370Z"
   },
   {
    "duration": 48,
    "start_time": "2024-10-31T22:55:11.380Z"
   },
   {
    "duration": 17,
    "start_time": "2024-10-31T22:55:11.429Z"
   },
   {
    "duration": 14,
    "start_time": "2024-10-31T22:55:11.448Z"
   },
   {
    "duration": 6,
    "start_time": "2024-10-31T22:55:11.463Z"
   },
   {
    "duration": 8,
    "start_time": "2024-10-31T22:55:11.471Z"
   },
   {
    "duration": 63,
    "start_time": "2024-10-31T22:55:11.480Z"
   },
   {
    "duration": 5,
    "start_time": "2024-10-31T22:55:11.545Z"
   },
   {
    "duration": 20,
    "start_time": "2024-10-31T22:55:11.552Z"
   },
   {
    "duration": 9,
    "start_time": "2024-10-31T22:55:11.574Z"
   },
   {
    "duration": 44,
    "start_time": "2024-10-31T22:55:11.585Z"
   },
   {
    "duration": 6,
    "start_time": "2024-10-31T22:55:11.631Z"
   },
   {
    "duration": 15,
    "start_time": "2024-10-31T22:55:11.638Z"
   },
   {
    "duration": 6,
    "start_time": "2024-10-31T22:55:11.654Z"
   },
   {
    "duration": 14,
    "start_time": "2024-10-31T22:55:11.662Z"
   },
   {
    "duration": 6,
    "start_time": "2024-10-31T22:55:11.677Z"
   },
   {
    "duration": 22,
    "start_time": "2024-10-31T22:55:11.723Z"
   },
   {
    "duration": 5,
    "start_time": "2024-10-31T22:55:11.746Z"
   },
   {
    "duration": 5,
    "start_time": "2024-10-31T22:55:11.757Z"
   },
   {
    "duration": 17,
    "start_time": "2024-10-31T22:55:11.764Z"
   },
   {
    "duration": 12,
    "start_time": "2024-10-31T22:55:11.782Z"
   },
   {
    "duration": 35,
    "start_time": "2024-10-31T22:55:11.796Z"
   },
   {
    "duration": 16,
    "start_time": "2024-10-31T22:55:11.833Z"
   },
   {
    "duration": 5,
    "start_time": "2024-10-31T22:55:11.851Z"
   },
   {
    "duration": 16,
    "start_time": "2024-10-31T22:55:11.857Z"
   },
   {
    "duration": 4,
    "start_time": "2024-10-31T22:55:11.874Z"
   },
   {
    "duration": 4,
    "start_time": "2024-10-31T22:55:11.880Z"
   },
   {
    "duration": 56,
    "start_time": "2024-10-31T22:55:11.886Z"
   },
   {
    "duration": 19,
    "start_time": "2024-10-31T22:55:11.943Z"
   },
   {
    "duration": 17,
    "start_time": "2024-10-31T22:55:11.964Z"
   },
   {
    "duration": 389,
    "start_time": "2024-10-31T22:55:11.982Z"
   },
   {
    "duration": 506,
    "start_time": "2024-10-31T22:55:12.373Z"
   },
   {
    "duration": 10,
    "start_time": "2024-10-31T22:55:12.881Z"
   },
   {
    "duration": 134,
    "start_time": "2024-10-31T22:55:12.892Z"
   },
   {
    "duration": 18,
    "start_time": "2024-10-31T22:55:13.028Z"
   },
   {
    "duration": 358,
    "start_time": "2024-10-31T22:55:13.047Z"
   },
   {
    "duration": 18,
    "start_time": "2024-10-31T22:55:13.407Z"
   },
   {
    "duration": 511,
    "start_time": "2024-10-31T22:55:13.426Z"
   },
   {
    "duration": 117,
    "start_time": "2024-10-31T22:55:13.939Z"
   },
   {
    "duration": 18,
    "start_time": "2024-10-31T22:55:14.058Z"
   },
   {
    "duration": 365,
    "start_time": "2024-10-31T22:55:14.078Z"
   },
   {
    "duration": 11,
    "start_time": "2024-10-31T22:55:14.445Z"
   },
   {
    "duration": 438,
    "start_time": "2024-10-31T22:55:14.458Z"
   },
   {
    "duration": 121,
    "start_time": "2024-10-31T22:55:14.897Z"
   },
   {
    "duration": 3,
    "start_time": "2024-10-31T22:55:15.023Z"
   },
   {
    "duration": 2,
    "start_time": "2024-10-31T22:55:15.028Z"
   },
   {
    "duration": 120,
    "start_time": "2024-10-31T22:55:22.702Z"
   },
   {
    "duration": 17,
    "start_time": "2024-11-01T00:20:25.578Z"
   },
   {
    "duration": 357,
    "start_time": "2024-11-01T00:24:33.776Z"
   },
   {
    "duration": 2470,
    "start_time": "2024-11-01T02:40:13.102Z"
   },
   {
    "duration": 760,
    "start_time": "2024-11-01T02:40:22.378Z"
   },
   {
    "duration": 203,
    "start_time": "2024-11-01T02:40:23.141Z"
   },
   {
    "duration": 12,
    "start_time": "2024-11-01T02:40:23.345Z"
   },
   {
    "duration": 9,
    "start_time": "2024-11-01T02:40:23.359Z"
   },
   {
    "duration": 5,
    "start_time": "2024-11-01T02:40:23.370Z"
   },
   {
    "duration": 8,
    "start_time": "2024-11-01T02:40:23.377Z"
   },
   {
    "duration": 9,
    "start_time": "2024-11-01T02:40:23.406Z"
   },
   {
    "duration": 8,
    "start_time": "2024-11-01T02:40:23.416Z"
   },
   {
    "duration": 8,
    "start_time": "2024-11-01T02:40:23.425Z"
   },
   {
    "duration": 9,
    "start_time": "2024-11-01T02:40:23.437Z"
   },
   {
    "duration": 5,
    "start_time": "2024-11-01T02:40:23.447Z"
   },
   {
    "duration": 10,
    "start_time": "2024-11-01T02:40:23.453Z"
   },
   {
    "duration": 2,
    "start_time": "2024-11-01T02:40:23.504Z"
   },
   {
    "duration": 4,
    "start_time": "2024-11-01T02:40:23.508Z"
   },
   {
    "duration": 14,
    "start_time": "2024-11-01T02:40:23.514Z"
   },
   {
    "duration": 7,
    "start_time": "2024-11-01T02:40:23.530Z"
   },
   {
    "duration": 9,
    "start_time": "2024-11-01T02:40:23.539Z"
   },
   {
    "duration": 64,
    "start_time": "2024-11-01T02:40:23.549Z"
   },
   {
    "duration": 26,
    "start_time": "2024-11-01T02:40:23.614Z"
   },
   {
    "duration": 11,
    "start_time": "2024-11-01T02:40:23.641Z"
   },
   {
    "duration": 12,
    "start_time": "2024-11-01T02:40:23.654Z"
   },
   {
    "duration": 6,
    "start_time": "2024-11-01T02:40:23.667Z"
   },
   {
    "duration": 37,
    "start_time": "2024-11-01T02:40:23.675Z"
   },
   {
    "duration": 17,
    "start_time": "2024-11-01T02:40:23.714Z"
   },
   {
    "duration": 19,
    "start_time": "2024-11-01T02:40:23.733Z"
   },
   {
    "duration": 13,
    "start_time": "2024-11-01T02:40:23.754Z"
   },
   {
    "duration": 36,
    "start_time": "2024-11-01T02:40:23.769Z"
   },
   {
    "duration": 9,
    "start_time": "2024-11-01T02:40:23.810Z"
   },
   {
    "duration": 34,
    "start_time": "2024-11-01T02:40:23.821Z"
   },
   {
    "duration": 6,
    "start_time": "2024-11-01T02:40:23.857Z"
   },
   {
    "duration": 41,
    "start_time": "2024-11-01T02:40:23.864Z"
   },
   {
    "duration": 8,
    "start_time": "2024-11-01T02:40:23.907Z"
   },
   {
    "duration": 20,
    "start_time": "2024-11-01T02:40:23.917Z"
   },
   {
    "duration": 6,
    "start_time": "2024-11-01T02:40:23.938Z"
   },
   {
    "duration": 15,
    "start_time": "2024-11-01T02:40:23.946Z"
   },
   {
    "duration": 43,
    "start_time": "2024-11-01T02:40:23.962Z"
   },
   {
    "duration": 14,
    "start_time": "2024-11-01T02:40:24.007Z"
   },
   {
    "duration": 6,
    "start_time": "2024-11-01T02:40:24.022Z"
   },
   {
    "duration": 21,
    "start_time": "2024-11-01T02:40:24.029Z"
   },
   {
    "duration": 5,
    "start_time": "2024-11-01T02:40:24.051Z"
   },
   {
    "duration": 7,
    "start_time": "2024-11-01T02:40:24.058Z"
   },
   {
    "duration": 49,
    "start_time": "2024-11-01T02:40:24.066Z"
   },
   {
    "duration": 12,
    "start_time": "2024-11-01T02:40:24.117Z"
   },
   {
    "duration": 12,
    "start_time": "2024-11-01T02:40:24.131Z"
   },
   {
    "duration": 19,
    "start_time": "2024-11-01T02:40:24.146Z"
   },
   {
    "duration": 6,
    "start_time": "2024-11-01T02:40:24.167Z"
   },
   {
    "duration": 40,
    "start_time": "2024-11-01T02:40:24.174Z"
   },
   {
    "duration": 5,
    "start_time": "2024-11-01T02:40:24.216Z"
   },
   {
    "duration": 5,
    "start_time": "2024-11-01T02:40:24.224Z"
   },
   {
    "duration": 18,
    "start_time": "2024-11-01T02:40:24.230Z"
   },
   {
    "duration": 20,
    "start_time": "2024-11-01T02:40:24.250Z"
   },
   {
    "duration": 50,
    "start_time": "2024-11-01T02:40:24.271Z"
   },
   {
    "duration": 331,
    "start_time": "2024-11-01T02:40:24.323Z"
   },
   {
    "duration": 548,
    "start_time": "2024-11-01T02:40:24.656Z"
   },
   {
    "duration": 10,
    "start_time": "2024-11-01T02:40:25.205Z"
   },
   {
    "duration": 130,
    "start_time": "2024-11-01T02:40:25.217Z"
   },
   {
    "duration": 18,
    "start_time": "2024-11-01T02:40:25.348Z"
   },
   {
    "duration": 357,
    "start_time": "2024-11-01T02:40:25.367Z"
   },
   {
    "duration": 10,
    "start_time": "2024-11-01T02:40:25.726Z"
   },
   {
    "duration": 439,
    "start_time": "2024-11-01T02:40:25.738Z"
   },
   {
    "duration": 121,
    "start_time": "2024-11-01T02:40:26.179Z"
   },
   {
    "duration": 19,
    "start_time": "2024-11-01T02:40:26.301Z"
   },
   {
    "duration": 334,
    "start_time": "2024-11-01T02:40:26.321Z"
   },
   {
    "duration": 10,
    "start_time": "2024-11-01T02:40:26.657Z"
   },
   {
    "duration": 486,
    "start_time": "2024-11-01T02:40:26.669Z"
   },
   {
    "duration": 131,
    "start_time": "2024-11-01T02:40:27.157Z"
   },
   {
    "duration": 23,
    "start_time": "2024-11-01T02:40:27.290Z"
   },
   {
    "duration": 321,
    "start_time": "2024-11-01T02:40:27.314Z"
   },
   {
    "duration": 3,
    "start_time": "2024-11-01T02:40:27.637Z"
   },
   {
    "duration": 3,
    "start_time": "2024-11-01T02:40:27.641Z"
   },
   {
    "duration": 9,
    "start_time": "2024-11-01T02:44:46.291Z"
   },
   {
    "duration": 114,
    "start_time": "2024-11-01T02:47:09.874Z"
   },
   {
    "duration": 121,
    "start_time": "2024-11-01T02:49:52.675Z"
   },
   {
    "duration": 160,
    "start_time": "2024-11-01T16:11:56.597Z"
   },
   {
    "duration": 2560,
    "start_time": "2024-11-01T16:12:03.351Z"
   },
   {
    "duration": 227,
    "start_time": "2024-11-01T16:12:05.914Z"
   },
   {
    "duration": 12,
    "start_time": "2024-11-01T16:12:06.143Z"
   },
   {
    "duration": 10,
    "start_time": "2024-11-01T16:12:06.157Z"
   },
   {
    "duration": 5,
    "start_time": "2024-11-01T16:12:06.168Z"
   },
   {
    "duration": 9,
    "start_time": "2024-11-01T16:12:06.175Z"
   },
   {
    "duration": 10,
    "start_time": "2024-11-01T16:12:06.185Z"
   },
   {
    "duration": 35,
    "start_time": "2024-11-01T16:12:06.196Z"
   },
   {
    "duration": 8,
    "start_time": "2024-11-01T16:12:06.234Z"
   },
   {
    "duration": 9,
    "start_time": "2024-11-01T16:12:06.245Z"
   },
   {
    "duration": 6,
    "start_time": "2024-11-01T16:12:06.255Z"
   },
   {
    "duration": 11,
    "start_time": "2024-11-01T16:12:06.262Z"
   },
   {
    "duration": 3,
    "start_time": "2024-11-01T16:12:06.275Z"
   },
   {
    "duration": 3,
    "start_time": "2024-11-01T16:12:06.280Z"
   },
   {
    "duration": 56,
    "start_time": "2024-11-01T16:12:06.285Z"
   },
   {
    "duration": 6,
    "start_time": "2024-11-01T16:12:06.343Z"
   },
   {
    "duration": 10,
    "start_time": "2024-11-01T16:12:06.351Z"
   },
   {
    "duration": 32,
    "start_time": "2024-11-01T16:12:06.362Z"
   },
   {
    "duration": 52,
    "start_time": "2024-11-01T16:12:06.396Z"
   },
   {
    "duration": 13,
    "start_time": "2024-11-01T16:12:06.450Z"
   },
   {
    "duration": 12,
    "start_time": "2024-11-01T16:12:06.465Z"
   },
   {
    "duration": 7,
    "start_time": "2024-11-01T16:12:06.479Z"
   },
   {
    "duration": 8,
    "start_time": "2024-11-01T16:12:06.487Z"
   },
   {
    "duration": 49,
    "start_time": "2024-11-01T16:12:06.497Z"
   },
   {
    "duration": 17,
    "start_time": "2024-11-01T16:12:06.547Z"
   },
   {
    "duration": 13,
    "start_time": "2024-11-01T16:12:06.566Z"
   },
   {
    "duration": 7,
    "start_time": "2024-11-01T16:12:06.581Z"
   },
   {
    "duration": 8,
    "start_time": "2024-11-01T16:12:06.593Z"
   },
   {
    "duration": 35,
    "start_time": "2024-11-01T16:12:06.631Z"
   },
   {
    "duration": 5,
    "start_time": "2024-11-01T16:12:06.668Z"
   },
   {
    "duration": 20,
    "start_time": "2024-11-01T16:12:06.675Z"
   },
   {
    "duration": 8,
    "start_time": "2024-11-01T16:12:06.697Z"
   },
   {
    "duration": 22,
    "start_time": "2024-11-01T16:12:06.732Z"
   },
   {
    "duration": 7,
    "start_time": "2024-11-01T16:12:06.757Z"
   },
   {
    "duration": 16,
    "start_time": "2024-11-01T16:12:06.765Z"
   },
   {
    "duration": 6,
    "start_time": "2024-11-01T16:12:06.783Z"
   },
   {
    "duration": 44,
    "start_time": "2024-11-01T16:12:06.791Z"
   },
   {
    "duration": 6,
    "start_time": "2024-11-01T16:12:06.837Z"
   },
   {
    "duration": 22,
    "start_time": "2024-11-01T16:12:06.844Z"
   },
   {
    "duration": 4,
    "start_time": "2024-11-01T16:12:06.868Z"
   },
   {
    "duration": 7,
    "start_time": "2024-11-01T16:12:06.873Z"
   },
   {
    "duration": 17,
    "start_time": "2024-11-01T16:12:06.881Z"
   },
   {
    "duration": 13,
    "start_time": "2024-11-01T16:12:06.932Z"
   },
   {
    "duration": 9,
    "start_time": "2024-11-01T16:12:06.947Z"
   },
   {
    "duration": 16,
    "start_time": "2024-11-01T16:12:06.959Z"
   },
   {
    "duration": 6,
    "start_time": "2024-11-01T16:12:06.976Z"
   },
   {
    "duration": 48,
    "start_time": "2024-11-01T16:12:06.984Z"
   },
   {
    "duration": 4,
    "start_time": "2024-11-01T16:12:07.034Z"
   },
   {
    "duration": 5,
    "start_time": "2024-11-01T16:12:07.040Z"
   },
   {
    "duration": 19,
    "start_time": "2024-11-01T16:12:07.046Z"
   },
   {
    "duration": 21,
    "start_time": "2024-11-01T16:12:07.066Z"
   },
   {
    "duration": 46,
    "start_time": "2024-11-01T16:12:07.088Z"
   },
   {
    "duration": 358,
    "start_time": "2024-11-01T16:12:07.135Z"
   },
   {
    "duration": 521,
    "start_time": "2024-11-01T16:12:07.495Z"
   },
   {
    "duration": 14,
    "start_time": "2024-11-01T16:12:08.018Z"
   },
   {
    "duration": 133,
    "start_time": "2024-11-01T16:12:08.035Z"
   },
   {
    "duration": 19,
    "start_time": "2024-11-01T16:12:08.170Z"
   },
   {
    "duration": 399,
    "start_time": "2024-11-01T16:12:08.190Z"
   },
   {
    "duration": 10,
    "start_time": "2024-11-01T16:12:08.591Z"
   },
   {
    "duration": 439,
    "start_time": "2024-11-01T16:12:08.603Z"
   },
   {
    "duration": 118,
    "start_time": "2024-11-01T16:12:09.044Z"
   },
   {
    "duration": 17,
    "start_time": "2024-11-01T16:12:09.164Z"
   },
   {
    "duration": 381,
    "start_time": "2024-11-01T16:12:09.183Z"
   },
   {
    "duration": 9,
    "start_time": "2024-11-01T16:12:09.566Z"
   },
   {
    "duration": 443,
    "start_time": "2024-11-01T16:12:09.577Z"
   },
   {
    "duration": 127,
    "start_time": "2024-11-01T16:12:10.022Z"
   },
   {
    "duration": 17,
    "start_time": "2024-11-01T16:12:10.151Z"
   },
   {
    "duration": 351,
    "start_time": "2024-11-01T16:12:10.170Z"
   },
   {
    "duration": 13,
    "start_time": "2024-11-01T16:12:10.524Z"
   },
   {
    "duration": 197,
    "start_time": "2024-11-01T16:12:10.539Z"
   },
   {
    "duration": 228,
    "start_time": "2024-11-01T16:12:10.738Z"
   },
   {
    "duration": 0,
    "start_time": "2024-11-01T16:12:10.968Z"
   },
   {
    "duration": 117,
    "start_time": "2024-11-01T16:12:19.132Z"
   },
   {
    "duration": 18,
    "start_time": "2024-11-01T16:22:50.763Z"
   },
   {
    "duration": 7,
    "start_time": "2024-11-01T16:25:35.337Z"
   },
   {
    "duration": 7,
    "start_time": "2024-11-01T16:27:08.581Z"
   },
   {
    "duration": 706,
    "start_time": "2024-11-01T19:09:28.438Z"
   },
   {
    "duration": 2412,
    "start_time": "2024-11-01T19:09:35.576Z"
   },
   {
    "duration": 214,
    "start_time": "2024-11-01T19:09:37.990Z"
   },
   {
    "duration": 12,
    "start_time": "2024-11-01T19:09:38.205Z"
   },
   {
    "duration": 9,
    "start_time": "2024-11-01T19:09:38.219Z"
   },
   {
    "duration": 4,
    "start_time": "2024-11-01T19:09:38.231Z"
   },
   {
    "duration": 8,
    "start_time": "2024-11-01T19:09:38.237Z"
   },
   {
    "duration": 9,
    "start_time": "2024-11-01T19:09:38.247Z"
   },
   {
    "duration": 33,
    "start_time": "2024-11-01T19:09:38.258Z"
   },
   {
    "duration": 8,
    "start_time": "2024-11-01T19:09:38.292Z"
   },
   {
    "duration": 9,
    "start_time": "2024-11-01T19:09:38.301Z"
   },
   {
    "duration": 5,
    "start_time": "2024-11-01T19:09:38.312Z"
   },
   {
    "duration": 10,
    "start_time": "2024-11-01T19:09:38.319Z"
   },
   {
    "duration": 3,
    "start_time": "2024-11-01T19:09:38.330Z"
   },
   {
    "duration": 3,
    "start_time": "2024-11-01T19:09:38.338Z"
   },
   {
    "duration": 19,
    "start_time": "2024-11-01T19:09:38.386Z"
   },
   {
    "duration": 8,
    "start_time": "2024-11-01T19:09:38.407Z"
   },
   {
    "duration": 10,
    "start_time": "2024-11-01T19:09:38.416Z"
   },
   {
    "duration": 31,
    "start_time": "2024-11-01T19:09:38.428Z"
   },
   {
    "duration": 44,
    "start_time": "2024-11-01T19:09:38.461Z"
   },
   {
    "duration": 13,
    "start_time": "2024-11-01T19:09:38.507Z"
   },
   {
    "duration": 12,
    "start_time": "2024-11-01T19:09:38.521Z"
   },
   {
    "duration": 5,
    "start_time": "2024-11-01T19:09:38.535Z"
   },
   {
    "duration": 7,
    "start_time": "2024-11-01T19:09:38.542Z"
   },
   {
    "duration": 47,
    "start_time": "2024-11-01T19:09:38.551Z"
   },
   {
    "duration": 16,
    "start_time": "2024-11-01T19:09:38.600Z"
   },
   {
    "duration": 14,
    "start_time": "2024-11-01T19:09:38.617Z"
   },
   {
    "duration": 6,
    "start_time": "2024-11-01T19:09:38.633Z"
   },
   {
    "duration": 8,
    "start_time": "2024-11-01T19:09:38.641Z"
   },
   {
    "duration": 64,
    "start_time": "2024-11-01T19:09:38.651Z"
   },
   {
    "duration": 6,
    "start_time": "2024-11-01T19:09:38.716Z"
   },
   {
    "duration": 20,
    "start_time": "2024-11-01T19:09:38.723Z"
   },
   {
    "duration": 8,
    "start_time": "2024-11-01T19:09:38.745Z"
   },
   {
    "duration": 50,
    "start_time": "2024-11-01T19:09:38.754Z"
   },
   {
    "duration": 6,
    "start_time": "2024-11-01T19:09:38.806Z"
   },
   {
    "duration": 14,
    "start_time": "2024-11-01T19:09:38.813Z"
   },
   {
    "duration": 6,
    "start_time": "2024-11-01T19:09:38.828Z"
   },
   {
    "duration": 14,
    "start_time": "2024-11-01T19:09:38.836Z"
   },
   {
    "duration": 36,
    "start_time": "2024-11-01T19:09:38.851Z"
   },
   {
    "duration": 21,
    "start_time": "2024-11-01T19:09:38.888Z"
   },
   {
    "duration": 4,
    "start_time": "2024-11-01T19:09:38.911Z"
   },
   {
    "duration": 6,
    "start_time": "2024-11-01T19:09:38.920Z"
   },
   {
    "duration": 18,
    "start_time": "2024-11-01T19:09:38.927Z"
   },
   {
    "duration": 41,
    "start_time": "2024-11-01T19:09:38.946Z"
   },
   {
    "duration": 9,
    "start_time": "2024-11-01T19:09:38.989Z"
   },
   {
    "duration": 16,
    "start_time": "2024-11-01T19:09:38.999Z"
   },
   {
    "duration": 8,
    "start_time": "2024-11-01T19:09:39.017Z"
   },
   {
    "duration": 15,
    "start_time": "2024-11-01T19:09:39.028Z"
   },
   {
    "duration": 4,
    "start_time": "2024-11-01T19:09:39.045Z"
   },
   {
    "duration": 38,
    "start_time": "2024-11-01T19:09:39.051Z"
   },
   {
    "duration": 18,
    "start_time": "2024-11-01T19:09:39.090Z"
   },
   {
    "duration": 20,
    "start_time": "2024-11-01T19:09:39.110Z"
   },
   {
    "duration": 17,
    "start_time": "2024-11-01T19:09:39.131Z"
   },
   {
    "duration": 385,
    "start_time": "2024-11-01T19:09:39.149Z"
   },
   {
    "duration": 489,
    "start_time": "2024-11-01T19:09:39.536Z"
   },
   {
    "duration": 10,
    "start_time": "2024-11-01T19:09:40.027Z"
   },
   {
    "duration": 179,
    "start_time": "2024-11-01T19:09:40.039Z"
   },
   {
    "duration": 17,
    "start_time": "2024-11-01T19:09:40.219Z"
   },
   {
    "duration": 367,
    "start_time": "2024-11-01T19:09:40.238Z"
   },
   {
    "duration": 9,
    "start_time": "2024-11-01T19:09:40.607Z"
   },
   {
    "duration": 425,
    "start_time": "2024-11-01T19:09:40.618Z"
   },
   {
    "duration": 119,
    "start_time": "2024-11-01T19:09:41.045Z"
   },
   {
    "duration": 21,
    "start_time": "2024-11-01T19:09:41.166Z"
   },
   {
    "duration": 334,
    "start_time": "2024-11-01T19:09:41.189Z"
   },
   {
    "duration": 10,
    "start_time": "2024-11-01T19:09:41.526Z"
   },
   {
    "duration": 442,
    "start_time": "2024-11-01T19:09:41.539Z"
   },
   {
    "duration": 123,
    "start_time": "2024-11-01T19:09:41.987Z"
   },
   {
    "duration": 18,
    "start_time": "2024-11-01T19:09:42.112Z"
   },
   {
    "duration": 389,
    "start_time": "2024-11-01T19:09:42.131Z"
   },
   {
    "duration": 10,
    "start_time": "2024-11-01T19:09:42.522Z"
   },
   {
    "duration": 126,
    "start_time": "2024-11-01T19:09:42.533Z"
   },
   {
    "duration": 7,
    "start_time": "2024-11-01T19:09:42.661Z"
   },
   {
    "duration": 18,
    "start_time": "2024-11-01T19:09:42.669Z"
   },
   {
    "duration": 521,
    "start_time": "2024-11-01T19:27:42.023Z"
   },
   {
    "duration": 23,
    "start_time": "2024-11-01T19:28:22.224Z"
   },
   {
    "duration": 21,
    "start_time": "2024-11-01T19:28:40.245Z"
   },
   {
    "duration": 21,
    "start_time": "2024-11-01T19:28:47.785Z"
   },
   {
    "duration": 22,
    "start_time": "2024-11-01T19:28:53.168Z"
   },
   {
    "duration": 813,
    "start_time": "2024-11-01T19:29:11.407Z"
   },
   {
    "duration": 157,
    "start_time": "2024-11-01T19:29:12.222Z"
   },
   {
    "duration": 11,
    "start_time": "2024-11-01T19:29:12.381Z"
   },
   {
    "duration": 10,
    "start_time": "2024-11-01T19:29:12.394Z"
   },
   {
    "duration": 4,
    "start_time": "2024-11-01T19:29:12.406Z"
   },
   {
    "duration": 8,
    "start_time": "2024-11-01T19:29:12.412Z"
   },
   {
    "duration": 9,
    "start_time": "2024-11-01T19:29:12.422Z"
   },
   {
    "duration": 8,
    "start_time": "2024-11-01T19:29:12.432Z"
   },
   {
    "duration": 8,
    "start_time": "2024-11-01T19:29:12.442Z"
   },
   {
    "duration": 42,
    "start_time": "2024-11-01T19:29:12.453Z"
   },
   {
    "duration": 5,
    "start_time": "2024-11-01T19:29:12.497Z"
   },
   {
    "duration": 11,
    "start_time": "2024-11-01T19:29:12.503Z"
   },
   {
    "duration": 2,
    "start_time": "2024-11-01T19:29:12.515Z"
   },
   {
    "duration": 4,
    "start_time": "2024-11-01T19:29:12.519Z"
   },
   {
    "duration": 15,
    "start_time": "2024-11-01T19:29:12.524Z"
   },
   {
    "duration": 48,
    "start_time": "2024-11-01T19:29:12.540Z"
   },
   {
    "duration": 10,
    "start_time": "2024-11-01T19:29:12.590Z"
   },
   {
    "duration": 31,
    "start_time": "2024-11-01T19:29:12.601Z"
   },
   {
    "duration": 24,
    "start_time": "2024-11-01T19:29:12.634Z"
   },
   {
    "duration": 37,
    "start_time": "2024-11-01T19:29:12.660Z"
   },
   {
    "duration": 12,
    "start_time": "2024-11-01T19:29:12.698Z"
   },
   {
    "duration": 6,
    "start_time": "2024-11-01T19:29:12.711Z"
   },
   {
    "duration": 7,
    "start_time": "2024-11-01T19:29:12.719Z"
   },
   {
    "duration": 15,
    "start_time": "2024-11-01T19:29:12.728Z"
   },
   {
    "duration": 48,
    "start_time": "2024-11-01T19:29:12.745Z"
   },
   {
    "duration": 14,
    "start_time": "2024-11-01T19:29:12.795Z"
   },
   {
    "duration": 7,
    "start_time": "2024-11-01T19:29:12.810Z"
   },
   {
    "duration": 9,
    "start_time": "2024-11-01T19:29:12.824Z"
   },
   {
    "duration": 63,
    "start_time": "2024-11-01T19:29:12.835Z"
   },
   {
    "duration": 7,
    "start_time": "2024-11-01T19:29:12.900Z"
   },
   {
    "duration": 20,
    "start_time": "2024-11-01T19:29:12.908Z"
   },
   {
    "duration": 9,
    "start_time": "2024-11-01T19:29:12.929Z"
   },
   {
    "duration": 21,
    "start_time": "2024-11-01T19:29:12.939Z"
   },
   {
    "duration": 6,
    "start_time": "2024-11-01T19:29:12.986Z"
   },
   {
    "duration": 13,
    "start_time": "2024-11-01T19:29:12.994Z"
   },
   {
    "duration": 7,
    "start_time": "2024-11-01T19:29:13.009Z"
   },
   {
    "duration": 14,
    "start_time": "2024-11-01T19:29:13.018Z"
   },
   {
    "duration": 6,
    "start_time": "2024-11-01T19:29:13.034Z"
   },
   {
    "duration": 54,
    "start_time": "2024-11-01T19:29:13.041Z"
   },
   {
    "duration": 9,
    "start_time": "2024-11-01T19:29:13.097Z"
   },
   {
    "duration": 7,
    "start_time": "2024-11-01T19:29:13.108Z"
   },
   {
    "duration": 25,
    "start_time": "2024-11-01T19:29:13.118Z"
   },
   {
    "duration": 17,
    "start_time": "2024-11-01T19:29:13.144Z"
   },
   {
    "duration": 27,
    "start_time": "2024-11-01T19:29:13.162Z"
   },
   {
    "duration": 17,
    "start_time": "2024-11-01T19:29:13.191Z"
   },
   {
    "duration": 6,
    "start_time": "2024-11-01T19:29:13.210Z"
   },
   {
    "duration": 14,
    "start_time": "2024-11-01T19:29:13.217Z"
   },
   {
    "duration": 4,
    "start_time": "2024-11-01T19:29:13.233Z"
   },
   {
    "duration": 5,
    "start_time": "2024-11-01T19:29:13.238Z"
   },
   {
    "duration": 52,
    "start_time": "2024-11-01T19:29:13.244Z"
   },
   {
    "duration": 19,
    "start_time": "2024-11-01T19:29:13.298Z"
   },
   {
    "duration": 17,
    "start_time": "2024-11-01T19:29:13.318Z"
   },
   {
    "duration": 383,
    "start_time": "2024-11-01T19:29:13.336Z"
   },
   {
    "duration": 567,
    "start_time": "2024-11-01T19:29:13.721Z"
   },
   {
    "duration": 10,
    "start_time": "2024-11-01T19:29:14.290Z"
   },
   {
    "duration": 131,
    "start_time": "2024-11-01T19:29:14.301Z"
   },
   {
    "duration": 18,
    "start_time": "2024-11-01T19:29:14.433Z"
   },
   {
    "duration": 357,
    "start_time": "2024-11-01T19:29:14.453Z"
   },
   {
    "duration": 10,
    "start_time": "2024-11-01T19:29:14.812Z"
   },
   {
    "duration": 425,
    "start_time": "2024-11-01T19:29:14.823Z"
   },
   {
    "duration": 122,
    "start_time": "2024-11-01T19:29:15.249Z"
   },
   {
    "duration": 22,
    "start_time": "2024-11-01T19:29:15.373Z"
   },
   {
    "duration": 321,
    "start_time": "2024-11-01T19:29:15.397Z"
   },
   {
    "duration": 10,
    "start_time": "2024-11-01T19:29:15.719Z"
   },
   {
    "duration": 488,
    "start_time": "2024-11-01T19:29:15.730Z"
   },
   {
    "duration": 122,
    "start_time": "2024-11-01T19:29:16.220Z"
   },
   {
    "duration": 18,
    "start_time": "2024-11-01T19:29:16.344Z"
   },
   {
    "duration": 352,
    "start_time": "2024-11-01T19:29:16.364Z"
   },
   {
    "duration": 9,
    "start_time": "2024-11-01T19:29:16.718Z"
   },
   {
    "duration": 124,
    "start_time": "2024-11-01T19:29:16.729Z"
   },
   {
    "duration": 7,
    "start_time": "2024-11-01T19:29:16.855Z"
   },
   {
    "duration": 34,
    "start_time": "2024-11-01T19:29:16.864Z"
   },
   {
    "duration": 227,
    "start_time": "2024-11-01T19:29:16.900Z"
   },
   {
    "duration": 6,
    "start_time": "2024-11-01T19:31:48.683Z"
   },
   {
    "duration": 5,
    "start_time": "2024-11-01T19:31:56.045Z"
   },
   {
    "duration": 4,
    "start_time": "2024-11-01T19:38:22.411Z"
   },
   {
    "duration": 15,
    "start_time": "2024-11-01T19:38:37.554Z"
   },
   {
    "duration": 419,
    "start_time": "2024-11-01T19:39:07.376Z"
   },
   {
    "duration": 5,
    "start_time": "2024-11-01T19:39:23.526Z"
   },
   {
    "duration": 7,
    "start_time": "2024-11-01T19:46:00.168Z"
   },
   {
    "duration": 6,
    "start_time": "2024-11-01T20:13:09.713Z"
   },
   {
    "duration": 2521,
    "start_time": "2024-11-05T02:59:05.663Z"
   },
   {
    "duration": 228,
    "start_time": "2024-11-05T02:59:08.187Z"
   },
   {
    "duration": 12,
    "start_time": "2024-11-05T02:59:08.417Z"
   },
   {
    "duration": 10,
    "start_time": "2024-11-05T02:59:08.431Z"
   },
   {
    "duration": 5,
    "start_time": "2024-11-05T02:59:08.442Z"
   },
   {
    "duration": 9,
    "start_time": "2024-11-05T02:59:08.448Z"
   },
   {
    "duration": 10,
    "start_time": "2024-11-05T02:59:08.458Z"
   },
   {
    "duration": 8,
    "start_time": "2024-11-05T02:59:08.469Z"
   },
   {
    "duration": 37,
    "start_time": "2024-11-05T02:59:08.479Z"
   },
   {
    "duration": 8,
    "start_time": "2024-11-05T02:59:08.520Z"
   },
   {
    "duration": 4,
    "start_time": "2024-11-05T02:59:08.530Z"
   },
   {
    "duration": 10,
    "start_time": "2024-11-05T02:59:08.536Z"
   },
   {
    "duration": 2,
    "start_time": "2024-11-05T02:59:08.548Z"
   },
   {
    "duration": 4,
    "start_time": "2024-11-05T02:59:08.552Z"
   },
   {
    "duration": 55,
    "start_time": "2024-11-05T02:59:08.557Z"
   },
   {
    "duration": 6,
    "start_time": "2024-11-05T02:59:08.614Z"
   },
   {
    "duration": 10,
    "start_time": "2024-11-05T02:59:08.621Z"
   },
   {
    "duration": 33,
    "start_time": "2024-11-05T02:59:08.632Z"
   },
   {
    "duration": 49,
    "start_time": "2024-11-05T02:59:08.667Z"
   },
   {
    "duration": 12,
    "start_time": "2024-11-05T02:59:08.718Z"
   },
   {
    "duration": 12,
    "start_time": "2024-11-05T02:59:08.731Z"
   },
   {
    "duration": 7,
    "start_time": "2024-11-05T02:59:08.746Z"
   },
   {
    "duration": 7,
    "start_time": "2024-11-05T02:59:08.755Z"
   },
   {
    "duration": 46,
    "start_time": "2024-11-05T02:59:08.764Z"
   },
   {
    "duration": 17,
    "start_time": "2024-11-05T02:59:08.812Z"
   },
   {
    "duration": 13,
    "start_time": "2024-11-05T02:59:08.831Z"
   },
   {
    "duration": 6,
    "start_time": "2024-11-05T02:59:08.846Z"
   },
   {
    "duration": 8,
    "start_time": "2024-11-05T02:59:08.858Z"
   },
   {
    "duration": 74,
    "start_time": "2024-11-05T02:59:08.868Z"
   },
   {
    "duration": 7,
    "start_time": "2024-11-05T02:59:08.944Z"
   },
   {
    "duration": 21,
    "start_time": "2024-11-05T02:59:08.952Z"
   },
   {
    "duration": 13,
    "start_time": "2024-11-05T02:59:08.974Z"
   },
   {
    "duration": 21,
    "start_time": "2024-11-05T02:59:09.010Z"
   },
   {
    "duration": 6,
    "start_time": "2024-11-05T02:59:09.032Z"
   },
   {
    "duration": 15,
    "start_time": "2024-11-05T02:59:09.040Z"
   },
   {
    "duration": 6,
    "start_time": "2024-11-05T02:59:09.056Z"
   },
   {
    "duration": 45,
    "start_time": "2024-11-05T02:59:09.064Z"
   },
   {
    "duration": 6,
    "start_time": "2024-11-05T02:59:09.111Z"
   },
   {
    "duration": 23,
    "start_time": "2024-11-05T02:59:09.118Z"
   },
   {
    "duration": 3,
    "start_time": "2024-11-05T02:59:09.143Z"
   },
   {
    "duration": 6,
    "start_time": "2024-11-05T02:59:09.148Z"
   },
   {
    "duration": 20,
    "start_time": "2024-11-05T02:59:09.156Z"
   },
   {
    "duration": 42,
    "start_time": "2024-11-05T02:59:09.177Z"
   },
   {
    "duration": 9,
    "start_time": "2024-11-05T02:59:09.221Z"
   },
   {
    "duration": 15,
    "start_time": "2024-11-05T02:59:09.232Z"
   },
   {
    "duration": 6,
    "start_time": "2024-11-05T02:59:09.249Z"
   },
   {
    "duration": 14,
    "start_time": "2024-11-05T02:59:09.257Z"
   },
   {
    "duration": 36,
    "start_time": "2024-11-05T02:59:09.273Z"
   },
   {
    "duration": 5,
    "start_time": "2024-11-05T02:59:09.310Z"
   },
   {
    "duration": 19,
    "start_time": "2024-11-05T02:59:09.317Z"
   },
   {
    "duration": 20,
    "start_time": "2024-11-05T02:59:09.338Z"
   },
   {
    "duration": 18,
    "start_time": "2024-11-05T02:59:09.360Z"
   },
   {
    "duration": 377,
    "start_time": "2024-11-05T02:59:09.380Z"
   },
   {
    "duration": 520,
    "start_time": "2024-11-05T02:59:09.759Z"
   },
   {
    "duration": 9,
    "start_time": "2024-11-05T02:59:10.281Z"
   },
   {
    "duration": 136,
    "start_time": "2024-11-05T02:59:10.292Z"
   },
   {
    "duration": 18,
    "start_time": "2024-11-05T02:59:10.430Z"
   },
   {
    "duration": 362,
    "start_time": "2024-11-05T02:59:10.449Z"
   },
   {
    "duration": 9,
    "start_time": "2024-11-05T02:59:10.813Z"
   },
   {
    "duration": 487,
    "start_time": "2024-11-05T02:59:10.824Z"
   },
   {
    "duration": 116,
    "start_time": "2024-11-05T02:59:11.314Z"
   },
   {
    "duration": 18,
    "start_time": "2024-11-05T02:59:11.432Z"
   },
   {
    "duration": 362,
    "start_time": "2024-11-05T02:59:11.451Z"
   },
   {
    "duration": 10,
    "start_time": "2024-11-05T02:59:11.815Z"
   },
   {
    "duration": 439,
    "start_time": "2024-11-05T02:59:11.827Z"
   },
   {
    "duration": 124,
    "start_time": "2024-11-05T02:59:12.268Z"
   },
   {
    "duration": 25,
    "start_time": "2024-11-05T02:59:12.394Z"
   },
   {
    "duration": 322,
    "start_time": "2024-11-05T02:59:12.421Z"
   },
   {
    "duration": 9,
    "start_time": "2024-11-05T02:59:12.745Z"
   },
   {
    "duration": 126,
    "start_time": "2024-11-05T02:59:12.756Z"
   },
   {
    "duration": 7,
    "start_time": "2024-11-05T02:59:12.884Z"
   },
   {
    "duration": 19,
    "start_time": "2024-11-05T02:59:12.893Z"
   },
   {
    "duration": 4,
    "start_time": "2024-11-05T02:59:12.914Z"
   },
   {
    "duration": 4,
    "start_time": "2024-11-05T02:59:12.920Z"
   },
   {
    "duration": 6,
    "start_time": "2024-11-05T02:59:12.926Z"
   },
   {
    "duration": 2469,
    "start_time": "2024-11-05T16:23:43.018Z"
   },
   {
    "duration": 266,
    "start_time": "2024-11-05T16:23:47.374Z"
   },
   {
    "duration": 13,
    "start_time": "2024-11-05T16:23:49.798Z"
   },
   {
    "duration": 11,
    "start_time": "2024-11-05T16:23:52.173Z"
   },
   {
    "duration": 5,
    "start_time": "2024-11-05T16:23:53.932Z"
   },
   {
    "duration": 11,
    "start_time": "2024-11-05T16:23:55.936Z"
   },
   {
    "duration": 17,
    "start_time": "2024-11-05T16:23:57.904Z"
   },
   {
    "duration": 11,
    "start_time": "2024-11-05T16:24:03.270Z"
   },
   {
    "duration": 8,
    "start_time": "2024-11-05T16:24:06.374Z"
   },
   {
    "duration": 9,
    "start_time": "2024-11-05T16:24:07.847Z"
   },
   {
    "duration": 7,
    "start_time": "2024-11-05T16:24:10.262Z"
   },
   {
    "duration": 11,
    "start_time": "2024-11-05T16:24:12.372Z"
   },
   {
    "duration": 3,
    "start_time": "2024-11-05T16:24:14.678Z"
   },
   {
    "duration": 4,
    "start_time": "2024-11-05T16:24:16.162Z"
   },
   {
    "duration": 16,
    "start_time": "2024-11-05T16:24:18.715Z"
   },
   {
    "duration": 7,
    "start_time": "2024-11-05T16:24:20.336Z"
   },
   {
    "duration": 11,
    "start_time": "2024-11-05T16:24:21.775Z"
   },
   {
    "duration": 33,
    "start_time": "2024-11-05T16:24:23.731Z"
   },
   {
    "duration": 32,
    "start_time": "2024-11-05T16:24:25.392Z"
   },
   {
    "duration": 13,
    "start_time": "2024-11-05T16:24:27.567Z"
   },
   {
    "duration": 12,
    "start_time": "2024-11-05T16:24:30.496Z"
   },
   {
    "duration": 6,
    "start_time": "2024-11-05T16:24:31.711Z"
   },
   {
    "duration": 7,
    "start_time": "2024-11-05T16:24:33.942Z"
   },
   {
    "duration": 16,
    "start_time": "2024-11-05T16:24:36.284Z"
   },
   {
    "duration": 17,
    "start_time": "2024-11-05T16:24:38.928Z"
   },
   {
    "duration": 14,
    "start_time": "2024-11-05T16:24:42.054Z"
   },
   {
    "duration": 7,
    "start_time": "2024-11-05T16:24:44.209Z"
   },
   {
    "duration": 8,
    "start_time": "2024-11-05T16:24:46.061Z"
   },
   {
    "duration": 11,
    "start_time": "2024-11-05T16:24:48.931Z"
   },
   {
    "duration": 40,
    "start_time": "2024-11-05T16:24:51.982Z"
   },
   {
    "duration": 7,
    "start_time": "2024-11-05T16:25:03.443Z"
   },
   {
    "duration": 20,
    "start_time": "2024-11-05T16:25:20.600Z"
   },
   {
    "duration": 9,
    "start_time": "2024-11-05T16:25:26.262Z"
   },
   {
    "duration": 21,
    "start_time": "2024-11-05T16:25:28.456Z"
   },
   {
    "duration": 7,
    "start_time": "2024-11-05T16:25:31.317Z"
   },
   {
    "duration": 16,
    "start_time": "2024-11-05T16:25:37.330Z"
   },
   {
    "duration": 8,
    "start_time": "2024-11-05T16:25:40.093Z"
   },
   {
    "duration": 15,
    "start_time": "2024-11-05T16:25:41.692Z"
   },
   {
    "duration": 7,
    "start_time": "2024-11-05T16:25:47.199Z"
   },
   {
    "duration": 27,
    "start_time": "2024-11-05T16:28:31.202Z"
   },
   {
    "duration": 599,
    "start_time": "2024-11-05T16:28:42.884Z"
   },
   {
    "duration": 5,
    "start_time": "2024-11-05T16:28:54.145Z"
   },
   {
    "duration": 23,
    "start_time": "2024-11-05T16:29:09.972Z"
   },
   {
    "duration": 26,
    "start_time": "2024-11-05T16:29:21.693Z"
   },
   {
    "duration": 13,
    "start_time": "2024-11-05T16:29:37.138Z"
   },
   {
    "duration": 12,
    "start_time": "2024-11-05T16:29:44.446Z"
   },
   {
    "duration": 11,
    "start_time": "2024-11-05T16:29:47.473Z"
   },
   {
    "duration": 21,
    "start_time": "2024-11-05T16:30:52.307Z"
   },
   {
    "duration": 22,
    "start_time": "2024-11-05T16:31:13.573Z"
   },
   {
    "duration": 9,
    "start_time": "2024-11-05T16:36:30.232Z"
   },
   {
    "duration": 2855,
    "start_time": "2024-11-05T22:17:37.911Z"
   },
   {
    "duration": 343,
    "start_time": "2024-11-05T22:17:42.960Z"
   },
   {
    "duration": 13,
    "start_time": "2024-11-05T22:17:44.282Z"
   },
   {
    "duration": 10,
    "start_time": "2024-11-05T22:17:46.318Z"
   },
   {
    "duration": 5,
    "start_time": "2024-11-05T22:17:48.928Z"
   },
   {
    "duration": 9,
    "start_time": "2024-11-05T22:17:50.991Z"
   },
   {
    "duration": 11,
    "start_time": "2024-11-05T22:17:53.031Z"
   },
   {
    "duration": 8,
    "start_time": "2024-11-05T22:18:17.085Z"
   },
   {
    "duration": 8,
    "start_time": "2024-11-05T22:18:20.962Z"
   },
   {
    "duration": 9,
    "start_time": "2024-11-05T22:18:22.792Z"
   },
   {
    "duration": 7,
    "start_time": "2024-11-05T22:18:25.216Z"
   },
   {
    "duration": 16,
    "start_time": "2024-11-05T22:18:28.949Z"
   },
   {
    "duration": 2,
    "start_time": "2024-11-05T22:18:31.915Z"
   },
   {
    "duration": 4,
    "start_time": "2024-11-05T22:18:33.088Z"
   },
   {
    "duration": 16,
    "start_time": "2024-11-05T22:18:35.821Z"
   },
   {
    "duration": 6,
    "start_time": "2024-11-05T22:18:38.868Z"
   },
   {
    "duration": 12,
    "start_time": "2024-11-05T22:18:41.048Z"
   },
   {
    "duration": 35,
    "start_time": "2024-11-05T22:18:43.104Z"
   },
   {
    "duration": 42,
    "start_time": "2024-11-05T22:18:46.339Z"
   },
   {
    "duration": 15,
    "start_time": "2024-11-05T22:18:49.552Z"
   },
   {
    "duration": 13,
    "start_time": "2024-11-05T22:18:53.179Z"
   },
   {
    "duration": 6,
    "start_time": "2024-11-05T22:18:55.002Z"
   },
   {
    "duration": 9,
    "start_time": "2024-11-05T22:18:56.815Z"
   },
   {
    "duration": 22,
    "start_time": "2024-11-05T22:18:59.243Z"
   },
   {
    "duration": 16,
    "start_time": "2024-11-05T22:19:03.408Z"
   },
   {
    "duration": 17,
    "start_time": "2024-11-05T22:19:06.572Z"
   },
   {
    "duration": 15,
    "start_time": "2024-11-05T22:19:27.142Z"
   },
   {
    "duration": 9,
    "start_time": "2024-11-05T22:19:33.263Z"
   },
   {
    "duration": 51,
    "start_time": "2024-11-05T22:19:37.226Z"
   },
   {
    "duration": 8,
    "start_time": "2024-11-05T22:19:39.936Z"
   },
   {
    "duration": 21,
    "start_time": "2024-11-05T22:19:44.976Z"
   },
   {
    "duration": 16,
    "start_time": "2024-11-05T22:19:48.152Z"
   },
   {
    "duration": 21,
    "start_time": "2024-11-05T22:19:50.663Z"
   },
   {
    "duration": 6,
    "start_time": "2024-11-05T22:19:53.591Z"
   },
   {
    "duration": 15,
    "start_time": "2024-11-05T22:19:55.302Z"
   },
   {
    "duration": 24,
    "start_time": "2024-11-05T22:19:57.640Z"
   },
   {
    "duration": 15,
    "start_time": "2024-11-05T22:20:00.785Z"
   },
   {
    "duration": 6,
    "start_time": "2024-11-05T22:20:03.022Z"
   },
   {
    "duration": 20,
    "start_time": "2024-11-05T22:20:12.014Z"
   },
   {
    "duration": 8,
    "start_time": "2024-11-05T22:25:55.722Z"
   },
   {
    "duration": 7,
    "start_time": "2024-11-05T22:26:04.269Z"
   },
   {
    "duration": 7,
    "start_time": "2024-11-05T22:26:17.440Z"
   },
   {
    "duration": 14,
    "start_time": "2024-11-05T22:26:22.740Z"
   },
   {
    "duration": 762,
    "start_time": "2024-11-05T22:29:05.605Z"
   },
   {
    "duration": 8,
    "start_time": "2024-11-05T22:29:16.194Z"
   },
   {
    "duration": 8,
    "start_time": "2024-11-05T22:29:23.322Z"
   },
   {
    "duration": 13,
    "start_time": "2024-11-05T22:33:28.025Z"
   },
   {
    "duration": 8,
    "start_time": "2024-11-05T22:33:36.925Z"
   },
   {
    "duration": 8,
    "start_time": "2024-11-05T22:34:56.706Z"
   },
   {
    "duration": 9,
    "start_time": "2024-11-05T22:35:07.676Z"
   },
   {
    "duration": 14,
    "start_time": "2024-11-05T22:35:56.444Z"
   },
   {
    "duration": 9,
    "start_time": "2024-11-05T22:36:06.158Z"
   },
   {
    "duration": 7,
    "start_time": "2024-11-05T22:36:14.510Z"
   },
   {
    "duration": 8,
    "start_time": "2024-11-05T22:36:28.852Z"
   },
   {
    "duration": 8,
    "start_time": "2024-11-05T22:36:37.415Z"
   },
   {
    "duration": 7,
    "start_time": "2024-11-05T22:37:07.893Z"
   },
   {
    "duration": 7,
    "start_time": "2024-11-05T22:37:37.915Z"
   },
   {
    "duration": 7,
    "start_time": "2024-11-05T22:37:54.002Z"
   },
   {
    "duration": 26,
    "start_time": "2024-11-05T22:38:22.641Z"
   },
   {
    "duration": 14,
    "start_time": "2024-11-05T22:38:29.383Z"
   },
   {
    "duration": 11,
    "start_time": "2024-11-05T22:38:42.388Z"
   },
   {
    "duration": 29,
    "start_time": "2024-11-05T22:38:54.123Z"
   },
   {
    "duration": 831,
    "start_time": "2024-11-05T22:44:11.721Z"
   },
   {
    "duration": 168,
    "start_time": "2024-11-05T22:44:12.556Z"
   },
   {
    "duration": 13,
    "start_time": "2024-11-05T22:44:12.726Z"
   },
   {
    "duration": 10,
    "start_time": "2024-11-05T22:44:12.742Z"
   },
   {
    "duration": 12,
    "start_time": "2024-11-05T22:44:12.754Z"
   },
   {
    "duration": 6,
    "start_time": "2024-11-05T22:44:12.767Z"
   },
   {
    "duration": 15,
    "start_time": "2024-11-05T22:44:12.776Z"
   },
   {
    "duration": 12,
    "start_time": "2024-11-05T22:44:12.793Z"
   },
   {
    "duration": 9,
    "start_time": "2024-11-05T22:44:12.832Z"
   },
   {
    "duration": 7,
    "start_time": "2024-11-05T22:44:12.845Z"
   },
   {
    "duration": 13,
    "start_time": "2024-11-05T22:44:12.854Z"
   },
   {
    "duration": 6,
    "start_time": "2024-11-05T22:44:12.869Z"
   },
   {
    "duration": 11,
    "start_time": "2024-11-05T22:44:12.879Z"
   },
   {
    "duration": 5,
    "start_time": "2024-11-05T22:44:12.892Z"
   },
   {
    "duration": 5,
    "start_time": "2024-11-05T22:44:12.931Z"
   },
   {
    "duration": 16,
    "start_time": "2024-11-05T22:44:12.937Z"
   },
   {
    "duration": 7,
    "start_time": "2024-11-05T22:44:12.954Z"
   },
   {
    "duration": 11,
    "start_time": "2024-11-05T22:44:12.963Z"
   },
   {
    "duration": 69,
    "start_time": "2024-11-05T22:44:12.976Z"
   },
   {
    "duration": 27,
    "start_time": "2024-11-05T22:44:13.047Z"
   },
   {
    "duration": 17,
    "start_time": "2024-11-05T22:44:13.076Z"
   },
   {
    "duration": 45,
    "start_time": "2024-11-05T22:44:13.095Z"
   },
   {
    "duration": 8,
    "start_time": "2024-11-05T22:44:13.144Z"
   },
   {
    "duration": 9,
    "start_time": "2024-11-05T22:44:13.154Z"
   },
   {
    "duration": 20,
    "start_time": "2024-11-05T22:44:13.165Z"
   },
   {
    "duration": 22,
    "start_time": "2024-11-05T22:44:13.187Z"
   },
   {
    "duration": 15,
    "start_time": "2024-11-05T22:44:13.234Z"
   },
   {
    "duration": 9,
    "start_time": "2024-11-05T22:44:13.255Z"
   },
   {
    "duration": 10,
    "start_time": "2024-11-05T22:44:13.266Z"
   },
   {
    "duration": 78,
    "start_time": "2024-11-05T22:44:13.278Z"
   },
   {
    "duration": 8,
    "start_time": "2024-11-05T22:44:13.357Z"
   },
   {
    "duration": 30,
    "start_time": "2024-11-05T22:44:13.367Z"
   },
   {
    "duration": 11,
    "start_time": "2024-11-05T22:44:13.399Z"
   },
   {
    "duration": 39,
    "start_time": "2024-11-05T22:44:13.412Z"
   },
   {
    "duration": 6,
    "start_time": "2024-11-05T22:44:13.454Z"
   },
   {
    "duration": 21,
    "start_time": "2024-11-05T22:44:13.462Z"
   },
   {
    "duration": 9,
    "start_time": "2024-11-05T22:44:13.484Z"
   },
   {
    "duration": 52,
    "start_time": "2024-11-05T22:44:13.495Z"
   },
   {
    "duration": 7,
    "start_time": "2024-11-05T22:44:13.549Z"
   },
   {
    "duration": 25,
    "start_time": "2024-11-05T22:44:13.558Z"
   },
   {
    "duration": 9,
    "start_time": "2024-11-05T22:44:13.585Z"
   },
   {
    "duration": 34,
    "start_time": "2024-11-05T22:44:13.597Z"
   },
   {
    "duration": 22,
    "start_time": "2024-11-05T22:44:13.633Z"
   },
   {
    "duration": 16,
    "start_time": "2024-11-05T22:44:13.657Z"
   },
   {
    "duration": 11,
    "start_time": "2024-11-05T22:44:13.675Z"
   },
   {
    "duration": 47,
    "start_time": "2024-11-05T22:44:13.688Z"
   },
   {
    "duration": 698,
    "start_time": "2024-11-05T22:44:13.737Z"
   },
   {
    "duration": 0,
    "start_time": "2024-11-05T22:44:14.437Z"
   },
   {
    "duration": 0,
    "start_time": "2024-11-05T22:44:14.439Z"
   },
   {
    "duration": 0,
    "start_time": "2024-11-05T22:44:14.440Z"
   },
   {
    "duration": 0,
    "start_time": "2024-11-05T22:44:14.441Z"
   },
   {
    "duration": 0,
    "start_time": "2024-11-05T22:44:14.443Z"
   },
   {
    "duration": 0,
    "start_time": "2024-11-05T22:44:14.444Z"
   },
   {
    "duration": 0,
    "start_time": "2024-11-05T22:44:14.445Z"
   },
   {
    "duration": 0,
    "start_time": "2024-11-05T22:44:14.446Z"
   },
   {
    "duration": 0,
    "start_time": "2024-11-05T22:44:14.447Z"
   },
   {
    "duration": 0,
    "start_time": "2024-11-05T22:44:14.448Z"
   },
   {
    "duration": 0,
    "start_time": "2024-11-05T22:44:14.450Z"
   },
   {
    "duration": 0,
    "start_time": "2024-11-05T22:44:14.451Z"
   },
   {
    "duration": 0,
    "start_time": "2024-11-05T22:44:14.452Z"
   },
   {
    "duration": 0,
    "start_time": "2024-11-05T22:44:14.454Z"
   },
   {
    "duration": 0,
    "start_time": "2024-11-05T22:44:14.455Z"
   },
   {
    "duration": 0,
    "start_time": "2024-11-05T22:44:14.456Z"
   },
   {
    "duration": 0,
    "start_time": "2024-11-05T22:44:14.458Z"
   },
   {
    "duration": 0,
    "start_time": "2024-11-05T22:44:14.459Z"
   },
   {
    "duration": 0,
    "start_time": "2024-11-05T22:44:14.461Z"
   },
   {
    "duration": 0,
    "start_time": "2024-11-05T22:44:14.464Z"
   },
   {
    "duration": 0,
    "start_time": "2024-11-05T22:44:14.465Z"
   },
   {
    "duration": 0,
    "start_time": "2024-11-05T22:44:14.466Z"
   },
   {
    "duration": 0,
    "start_time": "2024-11-05T22:44:14.468Z"
   },
   {
    "duration": 0,
    "start_time": "2024-11-05T22:44:14.470Z"
   },
   {
    "duration": 0,
    "start_time": "2024-11-05T22:44:14.471Z"
   },
   {
    "duration": 0,
    "start_time": "2024-11-05T22:44:14.472Z"
   },
   {
    "duration": 0,
    "start_time": "2024-11-05T22:44:14.475Z"
   },
   {
    "duration": 0,
    "start_time": "2024-11-05T22:44:14.476Z"
   },
   {
    "duration": 0,
    "start_time": "2024-11-05T22:44:14.478Z"
   },
   {
    "duration": 5,
    "start_time": "2024-11-05T22:47:19.823Z"
   },
   {
    "duration": 25,
    "start_time": "2024-11-05T22:47:23.237Z"
   },
   {
    "duration": 16,
    "start_time": "2024-11-05T22:47:40.160Z"
   },
   {
    "duration": 16,
    "start_time": "2024-11-05T22:47:43.481Z"
   },
   {
    "duration": 26,
    "start_time": "2024-11-05T22:47:46.837Z"
   },
   {
    "duration": 4,
    "start_time": "2024-11-05T22:47:53.692Z"
   },
   {
    "duration": 4,
    "start_time": "2024-11-05T22:53:06.471Z"
   },
   {
    "duration": 15,
    "start_time": "2024-11-05T22:53:13.351Z"
   },
   {
    "duration": 15,
    "start_time": "2024-11-05T22:53:17.871Z"
   },
   {
    "duration": 8,
    "start_time": "2024-11-05T22:54:27.656Z"
   },
   {
    "duration": 6,
    "start_time": "2024-11-05T22:56:20.096Z"
   },
   {
    "duration": 6,
    "start_time": "2024-11-05T22:56:47.899Z"
   },
   {
    "duration": 21,
    "start_time": "2024-11-05T22:56:49.888Z"
   },
   {
    "duration": 21,
    "start_time": "2024-11-05T22:56:59.867Z"
   },
   {
    "duration": 19,
    "start_time": "2024-11-05T22:57:24.027Z"
   },
   {
    "duration": 412,
    "start_time": "2024-11-05T22:57:43.769Z"
   },
   {
    "duration": 496,
    "start_time": "2024-11-05T22:57:49.837Z"
   },
   {
    "duration": 10,
    "start_time": "2024-11-05T22:58:02.533Z"
   },
   {
    "duration": 137,
    "start_time": "2024-11-05T22:58:04.787Z"
   },
   {
    "duration": 23,
    "start_time": "2024-11-05T22:59:58.091Z"
   },
   {
    "duration": 320,
    "start_time": "2024-11-05T22:59:59.949Z"
   },
   {
    "duration": 12,
    "start_time": "2024-11-05T23:00:13.211Z"
   },
   {
    "duration": 430,
    "start_time": "2024-11-05T23:00:33.039Z"
   },
   {
    "duration": 112,
    "start_time": "2024-11-05T23:00:37.266Z"
   },
   {
    "duration": 84,
    "start_time": "2024-11-05T23:02:53.567Z"
   },
   {
    "duration": 17,
    "start_time": "2024-11-05T23:03:03.503Z"
   },
   {
    "duration": 314,
    "start_time": "2024-11-05T23:03:12.546Z"
   },
   {
    "duration": 353,
    "start_time": "2024-11-05T23:03:25.900Z"
   },
   {
    "duration": 452,
    "start_time": "2024-11-05T23:03:37.911Z"
   },
   {
    "duration": 10,
    "start_time": "2024-11-05T23:03:53.009Z"
   },
   {
    "duration": 10,
    "start_time": "2024-11-05T23:04:01.067Z"
   },
   {
    "duration": 216,
    "start_time": "2024-11-05T23:04:24.671Z"
   },
   {
    "duration": 420,
    "start_time": "2024-11-05T23:04:31.820Z"
   },
   {
    "duration": 194,
    "start_time": "2024-11-05T23:04:43.035Z"
   },
   {
    "duration": 221,
    "start_time": "2024-11-05T23:04:58.617Z"
   },
   {
    "duration": 124,
    "start_time": "2024-11-05T23:05:13.366Z"
   },
   {
    "duration": 19,
    "start_time": "2024-11-05T23:07:10.734Z"
   },
   {
    "duration": 333,
    "start_time": "2024-11-05T23:07:12.791Z"
   },
   {
    "duration": 10,
    "start_time": "2024-11-05T23:07:16.379Z"
   },
   {
    "duration": 119,
    "start_time": "2024-11-05T23:07:20.390Z"
   },
   {
    "duration": 7,
    "start_time": "2024-11-05T23:09:09.594Z"
   },
   {
    "duration": 8,
    "start_time": "2024-11-05T23:09:12.484Z"
   },
   {
    "duration": 5,
    "start_time": "2024-11-05T23:09:13.610Z"
   },
   {
    "duration": 5,
    "start_time": "2024-11-05T23:09:17.023Z"
   },
   {
    "duration": 7,
    "start_time": "2024-11-05T23:09:21.126Z"
   }
  ],
  "colab": {
   "provenance": []
  },
  "kernelspec": {
   "display_name": "Python 3 (ipykernel)",
   "language": "python",
   "name": "python3"
  },
  "language_info": {
   "codemirror_mode": {
    "name": "ipython",
    "version": 3
   },
   "file_extension": ".py",
   "mimetype": "text/x-python",
   "name": "python",
   "nbconvert_exporter": "python",
   "pygments_lexer": "ipython3",
   "version": "3.9.19"
  },
  "toc": {
   "base_numbering": 1,
   "nav_menu": {},
   "number_sections": true,
   "sideBar": true,
   "skip_h1_title": false,
   "title_cell": "Table of Contents",
   "title_sidebar": "Contents",
   "toc_cell": false,
   "toc_position": {
    "height": "calc(100% - 180px)",
    "left": "10px",
    "top": "150px",
    "width": "348.8px"
   },
   "toc_section_display": true,
   "toc_window_display": true
  }
 },
 "nbformat": 4,
 "nbformat_minor": 1
}
